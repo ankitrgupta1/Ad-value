{
 "cells": [
  {
   "cell_type": "code",
   "execution_count": 6,
   "metadata": {},
   "outputs": [
    {
     "name": "stdout",
     "output_type": "stream",
     "text": [
      "-0jRvvt25RI\n",
      "0\n",
      "[MoviePy] Writing audio in C:/Users/Ankit/Documents/wpi/cs525/video_data/videos/ad_data\\-0jRvvt25RI\\Write the Future with Grammarly.wav\n"
     ]
    },
    {
     "name": "stderr",
     "output_type": "stream",
     "text": [
      "\n",
      "  0%|                                                  | 0/773 [00:00<?, ?it/s]\n",
      " 20%|███████▋                              | 156/773 [00:00<00:00, 1559.91it/s]\n",
      " 46%|█████████████████▌                    | 356/773 [00:00<00:00, 1637.32it/s]\n",
      " 72%|███████████████████████████▏          | 553/773 [00:00<00:00, 1724.67it/s]\n",
      " 96%|████████████████████████████████████▍ | 742/773 [00:00<00:00, 1771.12it/s]\n",
      "100%|██████████████████████████████████████| 773/773 [00:00<00:00, 1793.40it/s]"
     ]
    },
    {
     "name": "stdout",
     "output_type": "stream",
     "text": [
      "[MoviePy] Done.\n",
      "-1d_dssPb_Y\n",
      "1\n",
      "[MoviePy] Writing audio in C:/Users/Ankit/Documents/wpi/cs525/video_data/videos/ad_data\\-1d_dssPb_Y\\Save Money.wav\n"
     ]
    },
    {
     "name": "stderr",
     "output_type": "stream",
     "text": [
      "\n",
      "  0%|                                                  | 0/332 [00:00<?, ?it/s]\n",
      " 46%|█████████████████▍                    | 152/332 [00:00<00:00, 1504.86it/s]\n",
      "100%|██████████████████████████████████████| 332/332 [00:00<00:00, 1702.46it/s]"
     ]
    },
    {
     "name": "stdout",
     "output_type": "stream",
     "text": [
      "[MoviePy] Done.\n",
      "-aI72mfYmxc\n",
      "2\n",
      "[MoviePy] Writing audio in C:/Users/Ankit/Documents/wpi/cs525/video_data/videos/ad_data\\-aI72mfYmxc\\Kona Sol is new at Target get it while it’s hot!.wav\n"
     ]
    },
    {
     "name": "stderr",
     "output_type": "stream",
     "text": [
      "\n",
      "  0%|                                                  | 0/331 [00:00<?, ?it/s]\n",
      " 46%|█████████████████▍                    | 152/331 [00:00<00:00, 1519.91it/s]\n",
      "100%|██████████████████████████████████████| 331/331 [00:00<00:00, 1697.34it/s]"
     ]
    },
    {
     "name": "stdout",
     "output_type": "stream",
     "text": [
      "[MoviePy] Done.\n",
      "-azhsUHzetM\n",
      "3\n",
      "[MoviePy] Writing audio in C:/Users/Ankit/Documents/wpi/cs525/video_data/videos/ad_data\\-azhsUHzetM\\Come see the Team at Cormier Jewelers in Southbridge!.wav\n"
     ]
    },
    {
     "name": "stderr",
     "output_type": "stream",
     "text": [
      "\n",
      "  0%|                                                  | 0/331 [00:00<?, ?it/s]\n",
      " 53%|████████████████████                  | 175/331 [00:00<00:00, 1749.90it/s]\n",
      "100%|██████████████████████████████████████| 331/331 [00:00<00:00, 1732.88it/s]"
     ]
    },
    {
     "name": "stdout",
     "output_type": "stream",
     "text": [
      "[MoviePy] Done.\n",
      "-M03899TYdo\n",
      "4\n",
      "[MoviePy] Writing audio in C:/Users/Ankit/Documents/wpi/cs525/video_data/videos/ad_data\\-M03899TYdo\\Skechers Memory Foam Commercial.wav\n"
     ]
    },
    {
     "name": "stderr",
     "output_type": "stream",
     "text": [
      "\n",
      "  0%|                                                  | 0/332 [00:00<?, ?it/s]\n",
      " 50%|███████████████████                   | 166/332 [00:00<00:00, 1659.90it/s]\n",
      " 85%|████████████████████████████████▎     | 282/332 [00:00<00:00, 1070.88it/s]\n",
      "100%|███████████████████████████████████████| 332/332 [00:00<00:00, 943.13it/s]"
     ]
    },
    {
     "name": "stdout",
     "output_type": "stream",
     "text": [
      "[MoviePy] Done.\n",
      "-mm2-pznYE8\n",
      "5\n",
      "[MoviePy] Writing audio in C:/Users/Ankit/Documents/wpi/cs525/video_data/videos/ad_data\\-mm2-pznYE8\\GOT-乱世纷争.wav\n"
     ]
    },
    {
     "name": "stderr",
     "output_type": "stream",
     "text": [
      "\n",
      "  0%|                                                  | 0/332 [00:00<?, ?it/s]\n",
      " 46%|█████████████████▍                    | 152/332 [00:00<00:00, 1461.45it/s]\n",
      "100%|██████████████████████████████████████| 332/332 [00:00<00:00, 1676.67it/s]"
     ]
    },
    {
     "name": "stdout",
     "output_type": "stream",
     "text": [
      "[MoviePy] Done.\n",
      "-qMnzO69fr8\n",
      "6\n",
      "[MoviePy] Writing audio in C:/Users/Ankit/Documents/wpi/cs525/video_data/videos/ad_data\\-qMnzO69fr8\\Ofenbach - Rock It (Official Video).wav\n"
     ]
    },
    {
     "name": "stderr",
     "output_type": "stream",
     "text": [
      "\n",
      "  0%|                                                 | 0/3375 [00:00<?, ?it/s]\n",
      "  5%|█▋                                   | 152/3375 [00:00<00:02, 1519.91it/s]\n",
      " 10%|███▊                                 | 343/3375 [00:00<00:01, 1619.09it/s]\n",
      " 15%|█████▋                               | 514/3375 [00:00<00:01, 1645.31it/s]\n",
      " 21%|███████▊                             | 713/3375 [00:00<00:01, 1726.43it/s]\n",
      " 27%|██████████                           | 916/3375 [00:00<00:01, 1807.49it/s]\n",
      " 33%|███████████▊                        | 1105/3375 [00:00<00:01, 1831.45it/s]\n",
      " 38%|█████████████▊                      | 1299/3375 [00:00<00:01, 1862.69it/s]\n",
      " 44%|███████████████▉                    | 1491/3375 [00:00<00:01, 1879.48it/s]\n",
      " 50%|█████████████████▉                  | 1682/3375 [00:00<00:00, 1877.37it/s]\n",
      " 56%|████████████████████                | 1885/3375 [00:01<00:00, 1920.66it/s]\n",
      " 61%|██████████████████████              | 2074/3375 [00:01<00:00, 1899.80it/s]\n",
      " 67%|████████████████████████▏           | 2264/3375 [00:01<00:00, 1899.83it/s]\n",
      " 73%|██████████████████████████▎         | 2465/3375 [00:01<00:00, 1931.56it/s]\n",
      " 79%|████████████████████████████▍       | 2664/3375 [00:01<00:00, 1948.69it/s]\n",
      " 85%|██████████████████████████████▌     | 2861/3375 [00:01<00:00, 1955.00it/s]\n",
      " 91%|████████████████████████████████▋   | 3059/3375 [00:01<00:00, 1945.05it/s]\n",
      " 97%|██████████████████████████████████▊ | 3263/3375 [00:01<00:00, 1949.94it/s]\n",
      "100%|████████████████████████████████████| 3375/3375 [00:01<00:00, 1907.75it/s]"
     ]
    },
    {
     "name": "stdout",
     "output_type": "stream",
     "text": [
      "[MoviePy] Done.\n",
      "-uxZ482i5jc\n",
      "7\n",
      "[MoviePy] Writing audio in C:/Users/Ankit/Documents/wpi/cs525/video_data/videos/ad_data\\-uxZ482i5jc\\Get A Small Business Loan From Your Comfy Couch - WD.wav\n"
     ]
    },
    {
     "name": "stderr",
     "output_type": "stream",
     "text": [
      "\n",
      "  0%|                                                  | 0/331 [00:00<?, ?it/s]\n",
      " 46%|█████████████████▍                    | 152/331 [00:00<00:00, 1490.11it/s]\n",
      "100%|██████████████████████████████████████| 331/331 [00:00<00:00, 1732.88it/s]"
     ]
    },
    {
     "name": "stdout",
     "output_type": "stream",
     "text": [
      "[MoviePy] Done.\n",
      "-WKkVn2XvdU\n",
      "8\n",
      "MoviePy error: failed to read the duration of file C:/Users/Ankit/Documents/wpi/cs525/video_data/videos/ad_data\\-WKkVn2XvdU\\Ready For A Chevy Get To Dan Vaden Brunswick!.mp4.\n",
      "Here are the file infos returned by ffmpeg:\n",
      "\n",
      "ffmpeg version 3.2.4 Copyright (c) 2000-2017 the FFmpeg developers\n",
      "  built with gcc 6.3.0 (GCC)\n",
      "  configuration: --enable-gpl --enable-version3 --enable-d3d11va --enable-dxva2 --enable-libmfx --enable-nvenc --enable-avisynth --enable-bzlib --enable-fontconfig --enable-frei0r --enable-gnutls --enable-iconv --enable-libass --enable-libbluray --enable-libbs2b --enable-libcaca --enable-libfreetype --enable-libgme --enable-libgsm --enable-libilbc --enable-libmodplug --enable-libmp3lame --enable-libopencore-amrnb --enable-libopencore-amrwb --enable-libopenh264 --enable-libopenjpeg --enable-libopus --enable-librtmp --enable-libsnappy --enable-libsoxr --enable-libspeex --enable-libtheora --enable-libtwolame --enable-libvidstab --enable-libvo-amrwbenc --enable-libvorbis --enable-libvpx --enable-libwavpack --enable-libwebp --enable-libx264 --enable-libx265 --enable-libxavs --enable-libxvid --enable-libzimg --enable-lzma --enable-zlib\n",
      "  libavutil      55. 34.101 / 55. 34.101\n",
      "  libavcodec     57. 64.101 / 57. 64.101\n",
      "  libavformat    57. 56.101 / 57. 56.101\n",
      "  libavdevice    57.  1.100 / 57.  1.100\n",
      "  libavfilter     6. 65.100 /  6. 65.100\n",
      "  libswscale      4.  2.100 /  4.  2.100\n",
      "  libswresample   2.  3.100 /  2.  3.100\n",
      "  libpostproc    54.  1.100 / 54.  1.100\n",
      "[mov,mp4,m4a,3gp,3g2,mj2 @ 02fd8200] Format mov,mp4,m4a,3gp,3g2,mj2 detected only with low score of 1, misdetection possible!\n",
      "[mov,mp4,m4a,3gp,3g2,mj2 @ 02fd8200] moov atom not found\n",
      "C:/Users/Ankit/Documents/wpi/cs525/video_data/videos/ad_data\\-WKkVn2XvdU\\Ready For A Chevy Get To Dan Vaden Brunswick!.mp4: Invalid data found when processing input\n",
      "\n",
      "-Zup3T2O87g\n",
      "8\n",
      "[MoviePy] Writing audio in C:/Users/Ankit/Documents/wpi/cs525/video_data/videos/ad_data\\-Zup3T2O87g\\New NBA 15 option2.wav\n"
     ]
    },
    {
     "name": "stderr",
     "output_type": "stream",
     "text": [
      "\n",
      "  0%|                                                  | 0/332 [00:00<?, ?it/s]\n",
      " 46%|█████████████████▋                    | 154/332 [00:00<00:00, 1539.91it/s]\n",
      "100%|██████████████████████████████████████| 332/332 [00:00<00:00, 1756.51it/s]"
     ]
    },
    {
     "name": "stdout",
     "output_type": "stream",
     "text": [
      "[MoviePy] Done.\n",
      "07aiFJctH8U\n",
      "9\n",
      "[MoviePy] Writing audio in C:/Users/Ankit/Documents/wpi/cs525/video_data/videos/ad_data\\07aiFJctH8U\\MCWA758519TH_FreshonFreshonFreshGCM_15_Unslated_Innovid.wav\n"
     ]
    },
    {
     "name": "stderr",
     "output_type": "stream",
     "text": [
      "\n",
      "  0%|                                                  | 0/332 [00:00<?, ?it/s]\n",
      " 48%|██████████████████▍                   | 161/332 [00:00<00:00, 1609.91it/s]\n",
      "100%|██████████████████████████████████████| 332/332 [00:00<00:00, 1702.47it/s]"
     ]
    },
    {
     "name": "stdout",
     "output_type": "stream",
     "text": [
      "[MoviePy] Done.\n",
      "07JR70g7-gI\n",
      "10\n",
      "[MoviePy] Writing audio in C:/Users/Ankit/Documents/wpi/cs525/video_data/videos/ad_data\\07JR70g7-gI\\Untitled Ad.wav\n"
     ]
    },
    {
     "name": "stderr",
     "output_type": "stream",
     "text": [
      "\n",
      "  0%|                                                  | 0/332 [00:00<?, ?it/s]\n",
      " 52%|███████████████████▋                  | 172/332 [00:00<00:00, 1719.90it/s]\n",
      "100%|██████████████████████████████████████| 332/332 [00:00<00:00, 1824.07it/s]"
     ]
    },
    {
     "name": "stdout",
     "output_type": "stream",
     "text": [
      "[MoviePy] Done.\n",
      "0Ie7HPAd5PM\n",
      "11\n",
      "[MoviePy] Writing audio in C:/Users/Ankit/Documents/wpi/cs525/video_data/videos/ad_data\\0Ie7HPAd5PM\\What Can You Accomplish With Grammarly.wav\n"
     ]
    },
    {
     "name": "stderr",
     "output_type": "stream",
     "text": [
      "\n",
      "  0%|                                                  | 0/663 [00:00<?, ?it/s]\n",
      " 24%|█████████                             | 159/663 [00:00<00:00, 1589.91it/s]\n",
      " 54%|████████████████████▍                 | 356/663 [00:00<00:00, 1674.65it/s]\n",
      " 84%|███████████████████████████████▊      | 556/663 [00:00<00:00, 1760.55it/s]\n",
      "100%|██████████████████████████████████████| 663/663 [00:00<00:00, 1821.33it/s]"
     ]
    },
    {
     "name": "stdout",
     "output_type": "stream",
     "text": [
      "[MoviePy] Done.\n",
      "0JLOH2hQGqg\n",
      "12\n",
      "[MoviePy] Writing audio in C:/Users/Ankit/Documents/wpi/cs525/video_data/videos/ad_data\\0JLOH2hQGqg\\Untitled Ad..wav\n"
     ]
    },
    {
     "name": "stderr",
     "output_type": "stream",
     "text": [
      "\n",
      "  0%|                                                  | 0/334 [00:00<?, ?it/s]\n",
      " 43%|████████████████▎                     | 143/334 [00:00<00:00, 1429.92it/s]\n",
      " 91%|██████████████████████████████████▋   | 305/334 [00:00<00:00, 1482.07it/s]\n",
      "100%|██████████████████████████████████████| 334/334 [00:00<00:00, 1553.40it/s]"
     ]
    },
    {
     "name": "stdout",
     "output_type": "stream",
     "text": [
      "[MoviePy] Done.\n",
      "0jLW18MObz4\n",
      "13\n",
      "[MoviePy] Writing audio in C:/Users/Ankit/Documents/wpi/cs525/video_data/videos/ad_data\\0jLW18MObz4\\In-Stream Video.wav\n"
     ]
    },
    {
     "name": "stderr",
     "output_type": "stream",
     "text": [
      "\n",
      "  0%|                                                  | 0/332 [00:00<?, ?it/s]\n",
      " 49%|██████████████████▊                   | 164/332 [00:00<00:00, 1639.91it/s]\n",
      "100%|██████████████████████████████████████| 332/332 [00:00<00:00, 1784.84it/s]"
     ]
    },
    {
     "name": "stdout",
     "output_type": "stream",
     "text": [
      "[MoviePy] Done.\n",
      "0pxO4FPGJZI\n",
      "14\n",
      "[MoviePy] Writing audio in C:/Users/Ankit/Documents/wpi/cs525/video_data/videos/ad_data\\0pxO4FPGJZI\\SPNT_YEFS1100000H_sam_unl_gs10e_vi_mp4_16x9_15_naga_bobundle.wav\n"
     ]
    },
    {
     "name": "stderr",
     "output_type": "stream",
     "text": [
      "\n",
      "  0%|                                                  | 0/332 [00:00<?, ?it/s]\n",
      " 50%|███████████████████                   | 166/332 [00:00<00:00, 1659.91it/s]\n",
      "100%|██████████████████████████████████████| 332/332 [00:00<00:00, 1784.84it/s]"
     ]
    },
    {
     "name": "stdout",
     "output_type": "stream",
     "text": [
      "[MoviePy] Done.\n",
      "0sTGML0C0cc\n",
      "15\n",
      "[MoviePy] Writing audio in C:/Users/Ankit/Documents/wpi/cs525/video_data/videos/ad_data\\0sTGML0C0cc\\AD   004 Glenn TV Fire Rev End Slate.wav\n"
     ]
    },
    {
     "name": "stderr",
     "output_type": "stream",
     "text": [
      "\n",
      "  0%|                                                  | 0/827 [00:00<?, ?it/s]\n",
      " 19%|███████▎                              | 158/827 [00:00<00:00, 1579.91it/s]\n",
      " 43%|████████████████▎                     | 356/827 [00:00<00:00, 1660.68it/s]\n",
      " 67%|█████████████████████████▌            | 555/827 [00:00<00:00, 1747.41it/s]\n",
      " 89%|█████████████████████████████████▋    | 733/827 [00:00<00:00, 1757.03it/s]\n",
      "100%|██████████████████████████████████████| 827/827 [00:00<00:00, 1789.94it/s]"
     ]
    },
    {
     "name": "stdout",
     "output_type": "stream",
     "text": [
      "[MoviePy] Done.\n",
      "0WToZGfNWLw\n",
      "16\n",
      "[MoviePy] Writing audio in C:/Users/Ankit/Documents/wpi/cs525/video_data/videos/ad_data\\0WToZGfNWLw\\B143127_PRONAMEL_REPAIR_Lifestyle_15_OLV_KeyClaim_NOCTA_Innovid_IRE_Canvas_Video..wav\n"
     ]
    },
    {
     "name": "stderr",
     "output_type": "stream",
     "text": [
      "\n",
      "  0%|                                                  | 0/335 [00:00<?, ?it/s]\n",
      " 41%|███████████████▍                      | 136/335 [00:00<00:00, 1359.92it/s]\n",
      " 74%|████████████████████████████▏         | 249/335 [00:00<00:00, 1281.66it/s]\n",
      "100%|██████████████████████████████████████| 335/335 [00:00<00:00, 1268.87it/s]"
     ]
    },
    {
     "name": "stdout",
     "output_type": "stream",
     "text": [
      "[MoviePy] Done.\n",
      "0wUhQyG8ehg\n",
      "17\n",
      "[MoviePy] Writing audio in C:/Users/Ankit/Documents/wpi/cs525/video_data/videos/ad_data\\0wUhQyG8ehg\\VIRO Rides  VEGA Transforming Mini Bike and Scooter  Commercial.wav\n"
     ]
    },
    {
     "name": "stderr",
     "output_type": "stream",
     "text": [
      "\n",
      "  0%|                                                  | 0/663 [00:00<?, ?it/s]\n",
      " 23%|████████▊                             | 154/663 [00:00<00:00, 1539.91it/s]\n",
      " 54%|████████████████████▍                 | 356/663 [00:00<00:00, 1641.94it/s]\n",
      " 84%|████████████████████████████████      | 560/663 [00:00<00:00, 1713.25it/s]\n",
      "100%|██████████████████████████████████████| 663/663 [00:00<00:00, 1821.32it/s]"
     ]
    },
    {
     "name": "stdout",
     "output_type": "stream",
     "text": [
      "[MoviePy] Done.\n",
      "0zQbv40gD0w\n",
      "18\n",
      "[MoviePy] Writing audio in C:/Users/Ankit/Documents/wpi/cs525/video_data/videos/ad_data\\0zQbv40gD0w\\Mous — Our Mission To Create The Best Protective Phone Case.wav\n"
     ]
    },
    {
     "name": "stderr",
     "output_type": "stream",
     "text": [
      "\n",
      "  0%|                                                 | 0/3444 [00:00<?, ?it/s]\n",
      "  5%|█▋                                   | 162/3444 [00:00<00:02, 1619.91it/s]\n",
      " 10%|███▊                                 | 351/3444 [00:00<00:01, 1692.44it/s]\n",
      " 15%|█████▋                               | 524/3444 [00:00<00:01, 1703.51it/s]\n",
      " 21%|███████▋                             | 713/3444 [00:00<00:01, 1750.57it/s]\n",
      " 26%|█████████▋                           | 905/3444 [00:00<00:01, 1798.14it/s]\n",
      " 31%|███████████▎                        | 1081/3444 [00:00<00:01, 1786.50it/s]\n",
      " 37%|█████████████▎                      | 1278/3444 [00:00<00:01, 1837.83it/s]\n",
      " 43%|███████████████▍                    | 1478/3444 [00:00<00:01, 1867.78it/s]\n",
      " 49%|█████████████████▌                  | 1680/3444 [00:00<00:00, 1910.95it/s]\n",
      " 54%|███████████████████▌                | 1866/3444 [00:01<00:00, 1883.83it/s]\n",
      " 60%|█████████████████████▍              | 2051/3444 [00:01<00:00, 1862.20it/s]\n",
      " 65%|███████████████████████▍            | 2243/3444 [00:01<00:00, 1868.17it/s]\n",
      " 71%|█████████████████████████▌          | 2447/3444 [00:01<00:00, 1905.83it/s]\n",
      " 77%|███████████████████████████▋        | 2651/3444 [00:01<00:00, 1933.10it/s]\n",
      " 83%|█████████████████████████████▊      | 2855/3444 [00:01<00:00, 1952.66it/s]\n",
      " 89%|███████████████████████████████▉    | 3059/3444 [00:01<00:00, 1944.10it/s]\n",
      " 95%|██████████████████████████████████  | 3263/3444 [00:01<00:00, 1943.70it/s]\n",
      "100%|████████████████████████████████████| 3444/3444 [00:01<00:00, 1892.20it/s]"
     ]
    },
    {
     "name": "stdout",
     "output_type": "stream",
     "text": [
      "[MoviePy] Done.\n",
      "10CeO4OGjCQ\n",
      "19\n",
      "[MoviePy] Writing audio in C:/Users/Ankit/Documents/wpi/cs525/video_data/videos/ad_data\\10CeO4OGjCQ\\Untitled Ad.wav\n"
     ]
    },
    {
     "name": "stderr",
     "output_type": "stream",
     "text": [
      "\n",
      "  0%|                                                  | 0/332 [00:00<?, ?it/s]\n",
      " 50%|███████████████████                   | 166/332 [00:00<00:00, 1659.90it/s]\n",
      "100%|██████████████████████████████████████| 332/332 [00:00<00:00, 1804.24it/s]"
     ]
    },
    {
     "name": "stdout",
     "output_type": "stream",
     "text": [
      "[MoviePy] Done.\n",
      "1AsatmNeEM8\n",
      "20\n",
      "[MoviePy] Writing audio in C:/Users/Ankit/Documents/wpi/cs525/video_data/videos/ad_data\\1AsatmNeEM8\\The Unicorn Rescue Society  Series Trailer.wav\n"
     ]
    },
    {
     "name": "stderr",
     "output_type": "stream",
     "text": [
      "\n",
      "  0%|                                                  | 0/663 [00:00<?, ?it/s]\n",
      " 26%|█████████▋                            | 170/663 [00:00<00:00, 1699.90it/s]\n",
      " 54%|████████████████████▍                 | 356/663 [00:00<00:00, 1744.93it/s]\n",
      " 84%|████████████████████████████████      | 560/663 [00:00<00:00, 1795.16it/s]\n",
      "100%|██████████████████████████████████████| 663/663 [00:00<00:00, 1857.04it/s]"
     ]
    },
    {
     "name": "stdout",
     "output_type": "stream",
     "text": [
      "[MoviePy] Done.\n",
      "1I2nuATB-HI\n",
      "21\n",
      "[MoviePy] Writing audio in C:/Users/Ankit/Documents/wpi/cs525/video_data/videos/ad_data\\1I2nuATB-HI\\Untitled Ad.wav\n"
     ]
    },
    {
     "name": "stderr",
     "output_type": "stream",
     "text": [
      "\n",
      "  0%|                                                  | 0/332 [00:00<?, ?it/s]\n",
      " 50%|██████████████████▉                   | 165/332 [00:00<00:00, 1649.91it/s]\n",
      "100%|██████████████████████████████████████| 332/332 [00:00<00:00, 1794.49it/s]"
     ]
    },
    {
     "name": "stdout",
     "output_type": "stream",
     "text": [
      "[MoviePy] Done.\n",
      "1IiUlWEL2w0\n",
      "22\n",
      "[MoviePy] Writing audio in C:/Users/Ankit/Documents/wpi/cs525/video_data/videos/ad_data\\1IiUlWEL2w0\\Is Topcoat F11 Better Than Wax (2019).wav\n"
     ]
    },
    {
     "name": "stderr",
     "output_type": "stream",
     "text": [
      "\n",
      "  0%|                                                  | 0/969 [00:00<?, ?it/s]\n",
      " 18%|██████▋                               | 171/969 [00:00<00:00, 1709.90it/s]\n",
      " 37%|██████████████▏                       | 363/969 [00:00<00:00, 1767.91it/s]\n",
      " 58%|█████████████████████▉                | 560/969 [00:00<00:00, 1794.11it/s]\n",
      " 76%|█████████████████████████████         | 740/969 [00:00<00:00, 1795.84it/s]\n",
      " 96%|████████████████████████████████████▎ | 926/969 [00:00<00:00, 1814.59it/s]\n",
      "100%|██████████████████████████████████████| 969/969 [00:00<00:00, 1831.65it/s]"
     ]
    },
    {
     "name": "stdout",
     "output_type": "stream",
     "text": [
      "[MoviePy] Done.\n",
      "1My0CTm4jCQ\n",
      "23\n",
      "[MoviePy] Writing audio in C:/Users/Ankit/Documents/wpi/cs525/video_data/videos/ad_data\\1My0CTm4jCQ\\sundaycandy_privateside_15_att_wm.wav\n"
     ]
    },
    {
     "name": "stderr",
     "output_type": "stream",
     "text": [
      "\n",
      "  0%|                                                  | 0/332 [00:00<?, ?it/s]\n",
      " 52%|███████████████████▌                  | 171/332 [00:00<00:00, 1709.90it/s]\n",
      "100%|██████████████████████████████████████| 332/332 [00:00<00:00, 1814.10it/s]"
     ]
    },
    {
     "name": "stdout",
     "output_type": "stream",
     "text": [
      "[MoviePy] Done.\n",
      "1NJ7jMPq0Z4\n",
      "24\n",
      "[MoviePy] Writing audio in C:/Users/Ankit/Documents/wpi/cs525/video_data/videos/ad_data\\1NJ7jMPq0Z4\\Media Accountability Survey.wav\n"
     ]
    },
    {
     "name": "stderr",
     "output_type": "stream",
     "text": [
      "\n",
      "  0%|                                                  | 0/331 [00:00<?, ?it/s]\n",
      " 51%|███████████████████▍                  | 169/331 [00:00<00:00, 1689.90it/s]\n",
      "100%|██████████████████████████████████████| 331/331 [00:00<00:00, 1798.81it/s]"
     ]
    },
    {
     "name": "stdout",
     "output_type": "stream",
     "text": [
      "[MoviePy] Done.\n",
      "1OUQZsBaopQ\n",
      "25\n",
      "[MoviePy] Writing audio in C:/Users/Ankit/Documents/wpi/cs525/video_data/videos/ad_data\\1OUQZsBaopQ\\Shell Savor the Savings FR Campaign - Preroll 15 Second - Short  Shell videos in the Americas.wav\n"
     ]
    },
    {
     "name": "stderr",
     "output_type": "stream",
     "text": [
      "\n",
      "  0%|                                                  | 0/331 [00:00<?, ?it/s]\n",
      " 46%|█████████████████▍                    | 152/331 [00:00<00:00, 1519.91it/s]\n",
      "100%|██████████████████████████████████████| 331/331 [00:00<00:00, 1706.09it/s]"
     ]
    },
    {
     "name": "stdout",
     "output_type": "stream",
     "text": [
      "[MoviePy] Done.\n",
      "1vI6l1oMe0Y\n",
      "26\n",
      "[MoviePy] Writing audio in C:/Users/Ankit/Documents/wpi/cs525/video_data/videos/ad_data\\1vI6l1oMe0Y\\Nutrena Topline Balance Nutrena Horse Feeds Whats Inside Count.wav\n"
     ]
    },
    {
     "name": "stderr",
     "output_type": "stream",
     "text": [
      "\n",
      "  0%|                                                  | 0/423 [00:00<?, ?it/s]\n",
      " 36%|█████████████▋                        | 152/423 [00:00<00:00, 1394.42it/s]\n",
      " 83%|███████████████████████████████▌      | 351/423 [00:00<00:00, 1531.95it/s]\n",
      "100%|██████████████████████████████████████| 423/423 [00:00<00:00, 1665.26it/s]"
     ]
    },
    {
     "name": "stdout",
     "output_type": "stream",
     "text": [
      "[MoviePy] Done.\n",
      "1wiOISb-nhk\n",
      "27\n",
      "[MoviePy] Writing audio in C:/Users/Ankit/Documents/wpi/cs525/video_data/videos/ad_data\\1wiOISb-nhk\\MUL AI3 SMART DEVICES V2INTERNET169HD 15.wav\n"
     ]
    },
    {
     "name": "stderr",
     "output_type": "stream",
     "text": [
      "\n",
      "  0%|                                                  | 0/332 [00:00<?, ?it/s]\n",
      "  8%|███▍                                     | 28/332 [00:00<00:03, 92.40it/s]\n",
      " 61%|███████████████████████▊               | 203/332 [00:00<00:00, 129.08it/s]\n",
      "100%|███████████████████████████████████████| 332/332 [00:00<00:00, 710.88it/s]"
     ]
    },
    {
     "name": "stdout",
     "output_type": "stream",
     "text": [
      "[MoviePy] Done.\n",
      "1YEdjSXCEiA\n",
      "28\n",
      "[MoviePy] Writing audio in C:/Users/Ankit/Documents/wpi/cs525/video_data/videos/ad_data\\1YEdjSXCEiA\\VPR_G8-Crystal-Sound-OLED-Innovid_VID_15_PRHR_MU_G8__NCR_NOP_NOPR_CSOLD_ENG_NC_NCOP_NCTA_..wav\n"
     ]
    },
    {
     "name": "stderr",
     "output_type": "stream",
     "text": [
      "\n",
      "  0%|                                                  | 0/334 [00:00<?, ?it/s]\n",
      " 46%|█████████████████▎                    | 152/334 [00:00<00:00, 1447.53it/s]\n",
      " 76%|█████████████████████████████▋         | 254/334 [00:00<00:00, 959.29it/s]\n",
      "100%|███████████████████████████████████████| 334/334 [00:00<00:00, 876.59it/s]"
     ]
    },
    {
     "name": "stdout",
     "output_type": "stream",
     "text": [
      "[MoviePy] Done.\n",
      "1zz-VFi6yP8\n",
      "29\n",
      "[MoviePy] Writing audio in C:/Users/Ankit/Documents/wpi/cs525/video_data/videos/ad_data\\1zz-VFi6yP8\\video.wav\n"
     ]
    },
    {
     "name": "stderr",
     "output_type": "stream",
     "text": [
      "\n",
      "  0%|                                                  | 0/333 [00:00<?, ?it/s]\n",
      " 50%|███████████████████                   | 167/333 [00:00<00:00, 1669.91it/s]\n",
      "100%|██████████████████████████████████████| 333/333 [00:00<00:00, 1780.65it/s]"
     ]
    },
    {
     "name": "stdout",
     "output_type": "stream",
     "text": [
      "[MoviePy] Done.\n",
      "21bvj-gkSUo\n",
      "30\n",
      "[MoviePy] Writing audio in C:/Users/Ankit/Documents/wpi/cs525/video_data/videos/ad_data\\21bvj-gkSUo\\Save Strokes Every Round of Golf - The Chipping Equation.wav\n"
     ]
    },
    {
     "name": "stderr",
     "output_type": "stream",
     "text": [
      "\n",
      "  0%|                                                 | 0/1221 [00:00<?, ?it/s]\n",
      " 14%|█████▎                               | 175/1221 [00:00<00:00, 1749.90it/s]\n",
      " 29%|██████████▉                          | 360/1221 [00:00<00:00, 1778.75it/s]\n",
      " 46%|████████████████▉                    | 560/1221 [00:00<00:00, 1809.81it/s]\n",
      " 63%|███████████████████████▏             | 764/1221 [00:00<00:00, 1857.84it/s]\n",
      " 79%|█████████████████████████████▎       | 968/1221 [00:00<00:00, 1872.15it/s]\n",
      " 96%|██████████████████████████████████▌ | 1172/1221 [00:00<00:00, 1903.38it/s]\n",
      "100%|████████████████████████████████████| 1221/1221 [00:00<00:00, 1904.73it/s]"
     ]
    },
    {
     "name": "stdout",
     "output_type": "stream",
     "text": [
      "[MoviePy] Done.\n",
      "2BqmRT0bJm0\n",
      "31\n",
      "[MoviePy] Writing audio in C:/Users/Ankit/Documents/wpi/cs525/video_data/videos/ad_data\\2BqmRT0bJm0\\Duralast Shocks and Struts from AutoZone.wav\n"
     ]
    },
    {
     "name": "stderr",
     "output_type": "stream",
     "text": [
      "\n",
      "  0%|                                                  | 0/354 [00:00<?, ?it/s]\n",
      " 45%|█████████████████▏                    | 160/354 [00:00<00:00, 1599.91it/s]\n",
      "100%|██████████████████████████████████████| 354/354 [00:00<00:00, 1778.79it/s]"
     ]
    },
    {
     "name": "stdout",
     "output_type": "stream",
     "text": [
      "[MoviePy] Done.\n",
      "2CJnkJtZF2g\n",
      "32\n",
      "[MoviePy] Writing audio in C:/Users/Ankit/Documents/wpi/cs525/video_data/videos/ad_data\\2CJnkJtZF2g\\PETCO  CLEANING HOUSE (15 SECOND VERSION).wav\n"
     ]
    },
    {
     "name": "stderr",
     "output_type": "stream",
     "text": [
      "\n",
      "  0%|                                                  | 0/332 [00:00<?, ?it/s]\n",
      " 52%|███████████████████▌                  | 171/332 [00:00<00:00, 1709.90it/s]\n",
      "100%|██████████████████████████████████████| 332/332 [00:00<00:00, 1814.10it/s]"
     ]
    },
    {
     "name": "stdout",
     "output_type": "stream",
     "text": [
      "[MoviePy] Done.\n",
      "2g_W8ZRLQa8\n",
      "33\n",
      "[MoviePy] Writing audio in C:/Users/Ankit/Documents/wpi/cs525/video_data/videos/ad_data\\2g_W8ZRLQa8\\1500671296-1_4Q18 MG TBS Video Imp DesktopMobileTablet Demo DAR_P18-49_1x25 FC_DNA.wav\n"
     ]
    },
    {
     "name": "stderr",
     "output_type": "stream",
     "text": [
      "\n",
      "  0%|                                                  | 0/333 [00:00<?, ?it/s]\n",
      " 46%|█████████████████▍                    | 153/333 [00:00<00:00, 1529.91it/s]\n",
      "100%|██████████████████████████████████████| 333/333 [00:00<00:00, 1734.27it/s]"
     ]
    },
    {
     "name": "stdout",
     "output_type": "stream",
     "text": [
      "[MoviePy] Done.\n",
      "2Kkow9v3BH4\n",
      "34\n",
      "[MoviePy] Writing audio in C:/Users/Ankit/Documents/wpi/cs525/video_data/videos/ad_data\\2Kkow9v3BH4\\sundaycandy_imessage_06_verizon_wm.wav\n"
     ]
    },
    {
     "name": "stderr",
     "output_type": "stream",
     "text": [
      "\n",
      "  0%|                                                  | 0/134 [00:00<?, ?it/s]\n",
      "100%|██████████████████████████████████████| 134/134 [00:00<00:00, 1634.05it/s]"
     ]
    },
    {
     "name": "stdout",
     "output_type": "stream",
     "text": [
      "[MoviePy] Done.\n",
      "2l9KdKU2SSk\n",
      "35\n",
      "[MoviePy] Writing audio in C:/Users/Ankit/Documents/wpi/cs525/video_data/videos/ad_data\\2l9KdKU2SSk\\ACQ Jan TS TV Question.wav\n"
     ]
    },
    {
     "name": "stderr",
     "output_type": "stream",
     "text": [
      "\n",
      "  0%|                                                  | 0/764 [00:00<?, ?it/s]\n",
      " 21%|███████▊                              | 157/764 [00:00<00:00, 1569.91it/s]\n",
      " 47%|█████████████████▋                    | 356/764 [00:00<00:00, 1659.26it/s]\n",
      " 73%|███████████████████████████▋          | 557/764 [00:00<00:00, 1750.89it/s]\n",
      " 98%|█████████████████████████████████████ | 745/764 [00:00<00:00, 1787.70it/s]\n",
      "100%|██████████████████████████████████████| 764/764 [00:00<00:00, 1823.29it/s]"
     ]
    },
    {
     "name": "stdout",
     "output_type": "stream",
     "text": [
      "[MoviePy] Done.\n",
      "2nFlVPmzA9I\n",
      "36\n",
      "[MoviePy] Writing audio in C:/Users/Ankit/Documents/wpi/cs525/video_data/videos/ad_data\\2nFlVPmzA9I\\You Havent Played World of Warships Yet!.wav\n"
     ]
    },
    {
     "name": "stderr",
     "output_type": "stream",
     "text": [
      "\n",
      "  0%|                                                  | 0/959 [00:00<?, ?it/s]\n",
      " 17%|██████▍                               | 162/959 [00:00<00:00, 1619.91it/s]\n",
      " 37%|██████████████                        | 356/959 [00:00<00:00, 1686.46it/s]\n",
      " 58%|██████████████████████                | 556/959 [00:00<00:00, 1769.67it/s]\n",
      " 78%|█████████████████████████████▍        | 744/959 [00:00<00:00, 1801.35it/s]\n",
      " 96%|████████████████████████████████████▎ | 917/959 [00:00<00:00, 1768.39it/s]\n",
      "100%|██████████████████████████████████████| 959/959 [00:00<00:00, 1816.18it/s]"
     ]
    },
    {
     "name": "stdout",
     "output_type": "stream",
     "text": [
      "[MoviePy] Done.\n",
      "2o8kehh9ejk\n",
      "37\n",
      "[MoviePy] Writing audio in C:/Users/Ankit/Documents/wpi/cs525/video_data/videos/ad_data\\2o8kehh9ejk\\Smart Dummy - GEICO Insurance.wav\n"
     ]
    },
    {
     "name": "stderr",
     "output_type": "stream",
     "text": [
      "\n",
      "  0%|                                                  | 0/332 [00:00<?, ?it/s]\n",
      " 50%|███████████████████                   | 167/332 [00:00<00:00, 1669.91it/s]\n",
      "100%|██████████████████████████████████████| 332/332 [00:00<00:00, 1775.30it/s]"
     ]
    },
    {
     "name": "stdout",
     "output_type": "stream",
     "text": [
      "[MoviePy] Done.\n",
      "2QEV6Kk2-xo\n",
      "38\n",
      "[MoviePy] Writing audio in C:/Users/Ankit/Documents/wpi/cs525/video_data/videos/ad_data\\2QEV6Kk2-xo\\How to Plant Grass Seed - Step by Step on How To Plant Grass Seed.wav\n"
     ]
    },
    {
     "name": "stderr",
     "output_type": "stream",
     "text": [
      "\n",
      "  0%|                                                 | 0/1242 [00:00<?, ?it/s]\n",
      " 12%|████▌                                | 152/1242 [00:00<00:00, 1519.91it/s]\n",
      " 28%|██████████▍                          | 352/1242 [00:00<00:00, 1637.84it/s]\n",
      " 42%|███████████████▌                     | 523/1242 [00:00<00:00, 1658.81it/s]\n",
      " 57%|█████████████████████▏               | 713/1242 [00:00<00:00, 1724.46it/s]\n",
      " 73%|███████████████████████████          | 907/1242 [00:00<00:00, 1783.89it/s]\n",
      " 87%|███████████████████████████████▍    | 1083/1242 [00:00<00:00, 1776.62it/s]\n",
      "100%|████████████████████████████████████| 1242/1242 [00:00<00:00, 1818.34it/s]"
     ]
    },
    {
     "name": "stdout",
     "output_type": "stream",
     "text": [
      "[MoviePy] Done.\n",
      "2SGHMmXtvBs\n",
      "39\n",
      "[MoviePy] Writing audio in C:/Users/Ankit/Documents/wpi/cs525/video_data/videos/ad_data\\2SGHMmXtvBs\\Fortnite Presents Air Royale.wav\n"
     ]
    },
    {
     "name": "stderr",
     "output_type": "stream",
     "text": [
      "\n",
      "  0%|                                                  | 0/773 [00:00<?, ?it/s]\n",
      " 21%|████████                              | 165/773 [00:00<00:00, 1649.90it/s]\n",
      " 46%|█████████████████▌                    | 356/773 [00:00<00:00, 1720.15it/s]\n",
      " 71%|██████████████████████████▊           | 546/773 [00:00<00:00, 1770.40it/s]\n",
      " 92%|███████████████████████████████████   | 713/773 [00:00<00:00, 1733.59it/s]\n",
      "100%|██████████████████████████████████████| 773/773 [00:00<00:00, 1776.91it/s]"
     ]
    },
    {
     "name": "stdout",
     "output_type": "stream",
     "text": [
      "[MoviePy] Done.\n",
      "2ToZ5Dg_Wfw\n",
      "40\n",
      "[MoviePy] Writing audio in C:/Users/Ankit/Documents/wpi/cs525/video_data/videos/ad_data\\2ToZ5Dg_Wfw\\Buy Your Pass & Come Jump at Altitude Trampoline Park in Marlboro.wav\n"
     ]
    },
    {
     "name": "stderr",
     "output_type": "stream",
     "text": [
      "\n",
      "  0%|                                                  | 0/332 [00:00<?, ?it/s]\n",
      " 49%|██████████████████▊                   | 164/332 [00:00<00:00, 1639.91it/s]\n",
      "100%|██████████████████████████████████████| 332/332 [00:00<00:00, 1738.12it/s]"
     ]
    },
    {
     "name": "stdout",
     "output_type": "stream",
     "text": [
      "[MoviePy] Done.\n",
      "2UDkEkVU700\n",
      "41\n",
      "[MoviePy] Writing audio in C:/Users/Ankit/Documents/wpi/cs525/video_data/videos/ad_data\\2UDkEkVU700\\1 Shirt 3 Ways - Professional to Party.wav\n"
     ]
    },
    {
     "name": "stderr",
     "output_type": "stream",
     "text": [
      "\n",
      "  0%|                                                  | 0/521 [00:00<?, ?it/s]\n",
      " 32%|████████████▎                         | 169/521 [00:00<00:00, 1689.90it/s]\n",
      " 68%|█████████████████████████▉            | 356/521 [00:00<00:00, 1730.49it/s]\n",
      "100%|██████████████████████████████████████| 521/521 [00:00<00:00, 1778.06it/s]"
     ]
    },
    {
     "name": "stdout",
     "output_type": "stream",
     "text": [
      "[MoviePy] Done.\n",
      "2vLvTzDMLVY\n",
      "42\n",
      "[MoviePy] Writing audio in C:/Users/Ankit/Documents/wpi/cs525/video_data/videos/ad_data\\2vLvTzDMLVY\\Giving it Straight.wav\n"
     ]
    },
    {
     "name": "stderr",
     "output_type": "stream",
     "text": [
      "\n",
      "  0%|                                                  | 0/332 [00:00<?, ?it/s]\n",
      " 49%|██████████████████▌                   | 162/332 [00:00<00:00, 1619.91it/s]\n",
      " 92%|██████████████████████████████████▉   | 305/332 [00:00<00:00, 1489.65it/s]\n",
      "100%|██████████████████████████████████████| 332/332 [00:00<00:00, 1312.18it/s]"
     ]
    },
    {
     "name": "stdout",
     "output_type": "stream",
     "text": [
      "[MoviePy] Done.\n",
      "2xyk7bCUcWE\n",
      "43\n",
      "[MoviePy] Writing audio in C:/Users/Ankit/Documents/wpi/cs525/video_data/videos/ad_data\\2xyk7bCUcWE\\The Portuguese Kids Tour Portugal 2019.wav\n"
     ]
    },
    {
     "name": "stderr",
     "output_type": "stream",
     "text": [
      "\n",
      "  0%|                                                 | 0/1571 [00:00<?, ?it/s]\n",
      " 10%|███▌                                 | 152/1571 [00:00<00:00, 1519.91it/s]\n",
      " 22%|███████▉                             | 338/1571 [00:00<00:00, 1608.10it/s]\n",
      " 32%|███████████▉                         | 509/1571 [00:00<00:00, 1637.34it/s]\n",
      " 45%|████████████████▊                    | 713/1571 [00:00<00:00, 1705.45it/s]\n",
      " 58%|█████████████████████▍               | 908/1571 [00:00<00:00, 1772.10it/s]\n",
      " 68%|████████████████████████▌           | 1070/1571 [00:00<00:00, 1723.52it/s]\n",
      " 81%|█████████████████████████████▏      | 1274/1571 [00:00<00:00, 1769.98it/s]\n",
      " 94%|█████████████████████████████████▊  | 1475/1571 [00:00<00:00, 1835.72it/s]\n",
      "100%|████████████████████████████████████| 1571/1571 [00:00<00:00, 1793.28it/s]"
     ]
    },
    {
     "name": "stdout",
     "output_type": "stream",
     "text": [
      "[MoviePy] Done.\n",
      "2ZAp9dS56j8\n",
      "44\n",
      "[MoviePy] Writing audio in C:/Users/Ankit/Documents/wpi/cs525/video_data/videos/ad_data\\2ZAp9dS56j8\\Harvard Business School Executive Education Go.wav\n"
     ]
    },
    {
     "name": "stderr",
     "output_type": "stream",
     "text": [
      "\n",
      "  0%|                                                  | 0/332 [00:00<?, ?it/s]\n",
      " 46%|█████████████████▋                    | 154/332 [00:00<00:00, 1539.91it/s]\n",
      "100%|██████████████████████████████████████| 332/332 [00:00<00:00, 1729.07it/s]"
     ]
    },
    {
     "name": "stdout",
     "output_type": "stream",
     "text": [
      "[MoviePy] Done.\n",
      "3-6PCPAWvWg\n",
      "45\n",
      "[MoviePy] Writing audio in C:/Users/Ankit/Documents/wpi/cs525/video_data/videos/ad_data\\3-6PCPAWvWg\\QCCA 001111VH 292 GOOD GM IN PLACQ ENG SIE307IN0NoneTV LEARN NOOFF TV VID15.wav\n"
     ]
    },
    {
     "name": "stderr",
     "output_type": "stream",
     "text": [
      "\n",
      "  0%|                                                  | 0/332 [00:00<?, ?it/s]\n",
      " 50%|███████████████████                   | 166/332 [00:00<00:00, 1659.91it/s]\n",
      "100%|██████████████████████████████████████| 332/332 [00:00<00:00, 1784.84it/s]"
     ]
    },
    {
     "name": "stdout",
     "output_type": "stream",
     "text": [
      "[MoviePy] Done.\n",
      "35VWCEkkcj0\n",
      "46\n",
      "[MoviePy] Writing audio in C:/Users/Ankit/Documents/wpi/cs525/video_data/videos/ad_data\\35VWCEkkcj0\\inSpec powered by Zurn simplifies plumbing projects (15 Seconds).wav\n"
     ]
    },
    {
     "name": "stderr",
     "output_type": "stream",
     "text": [
      "\n",
      "  0%|                                                  | 0/332 [00:00<?, ?it/s]\n",
      " 48%|██████████████████▎                   | 160/332 [00:00<00:00, 1599.91it/s]\n",
      "100%|██████████████████████████████████████| 332/332 [00:00<00:00, 1756.51it/s]"
     ]
    },
    {
     "name": "stdout",
     "output_type": "stream",
     "text": [
      "[MoviePy] Done.\n",
      "36TBtQ0ywMQ\n",
      "47\n",
      "[MoviePy] Writing audio in C:/Users/Ankit/Documents/wpi/cs525/video_data/videos/ad_data\\36TBtQ0ywMQ\\TMG_Cross_Lazor Wulf_OLV.wav\n"
     ]
    },
    {
     "name": "stderr",
     "output_type": "stream",
     "text": [
      "\n",
      "  0%|                                                  | 0/333 [00:00<?, ?it/s]\n",
      " 48%|██████████████████▏                   | 159/333 [00:00<00:00, 1589.91it/s]\n",
      "100%|██████████████████████████████████████| 333/333 [00:00<00:00, 1725.29it/s]"
     ]
    },
    {
     "name": "stdout",
     "output_type": "stream",
     "text": [
      "[MoviePy] Done.\n",
      "382T3d3NRJw\n",
      "48\n",
      "[MoviePy] Writing audio in C:/Users/Ankit/Documents/wpi/cs525/video_data/videos/ad_data\\382T3d3NRJw\\Friends of Israel Defense Forces (FIDF) - Financial Relief.wav\n"
     ]
    },
    {
     "name": "stderr",
     "output_type": "stream",
     "text": [
      "\n",
      "  0%|                                                 | 0/1605 [00:00<?, ?it/s]\n",
      "  9%|███▌                                 | 152/1605 [00:00<00:00, 1519.91it/s]\n",
      " 22%|████████▏                            | 356/1605 [00:00<00:00, 1614.51it/s]\n",
      " 34%|████████████▍                        | 539/1605 [00:00<00:00, 1673.60it/s]\n",
      " 45%|████████████████▋                    | 725/1605 [00:00<00:00, 1725.45it/s]\n",
      " 57%|█████████████████████                | 916/1605 [00:00<00:00, 1776.93it/s]\n",
      " 67%|████████████████████████            | 1070/1605 [00:00<00:00, 1583.25it/s]\n",
      " 79%|████████████████████████████▌       | 1274/1605 [00:00<00:00, 1676.31it/s]\n",
      " 89%|████████████████████████████████▏   | 1435/1605 [00:00<00:00, 1344.64it/s]\n",
      " 98%|███████████████████████████████████▍| 1580/1605 [00:01<00:00, 1351.52it/s]\n",
      "100%|████████████████████████████████████| 1605/1605 [00:01<00:00, 1558.16it/s]"
     ]
    },
    {
     "name": "stdout",
     "output_type": "stream",
     "text": [
      "[MoviePy] Done.\n",
      "3bPFHmNAl64\n",
      "49\n",
      "[MoviePy] Writing audio in C:/Users/Ankit/Documents/wpi/cs525/video_data/videos/ad_data\\3bPFHmNAl64\\MYWYW 60s (w End Screen).wav\n"
     ]
    },
    {
     "name": "stderr",
     "output_type": "stream",
     "text": [
      "\n",
      "  0%|                                                 | 0/1439 [00:00<?, ?it/s]\n",
      "  7%|██▋                                   | 101/1439 [00:00<00:01, 878.21it/s]\n",
      " 14%|█████▎                                | 203/1439 [00:00<00:01, 807.57it/s]\n",
      " 25%|█████████▍                            | 356/1439 [00:00<00:01, 928.84it/s]\n",
      " 30%|███████████▎                          | 427/1439 [00:00<00:01, 793.21it/s]\n",
      " 37%|██████████████▏                       | 536/1439 [00:00<00:01, 863.76it/s]\n",
      " 43%|████████████████▎                     | 616/1439 [00:00<00:00, 833.03it/s]\n",
      " 51%|███████████████████▍                  | 738/1439 [00:00<00:00, 920.62it/s]\n",
      " 63%|███████████████████████▏             | 902/1439 [00:00<00:00, 1060.12it/s]\n",
      " 71%|██████████████████████████▏          | 1019/1439 [00:01<00:00, 993.56it/s]\n",
      " 78%|████████████████████████████▉        | 1125/1439 [00:01<00:00, 665.47it/s]\n",
      " 90%|█████████████████████████████████▍   | 1299/1439 [00:01<00:00, 816.79it/s]\n",
      "100%|█████████████████████████████████████| 1439/1439 [00:01<00:00, 965.07it/s]"
     ]
    },
    {
     "name": "stdout",
     "output_type": "stream",
     "text": [
      "[MoviePy] Done.\n",
      "3PdmJTlClO4\n",
      "50\n",
      "[MoviePy] Writing audio in C:/Users/Ankit/Documents/wpi/cs525/video_data/videos/ad_data\\3PdmJTlClO4\\I Am Here   Daddy Diaper Duty   2019 Re edit with Pricing 30 HD NQAV0018000H Unslated.wav\n"
     ]
    },
    {
     "name": "stderr",
     "output_type": "stream",
     "text": [
      "\n",
      "  0%|                                                  | 0/665 [00:00<?, ?it/s]\n",
      "  4%|█▋                                       | 28/665 [00:00<00:07, 83.58it/s]\n",
      " 23%|████████▉                              | 152/665 [00:00<00:04, 115.98it/s]\n",
      " 51%|███████████████████▊                   | 337/665 [00:00<00:02, 161.35it/s]\n",
      " 77%|█████████████████████████████▊         | 509/665 [00:00<00:00, 219.22it/s]\n",
      "100%|███████████████████████████████████████| 665/665 [00:00<00:00, 887.80it/s]"
     ]
    },
    {
     "name": "stdout",
     "output_type": "stream",
     "text": [
      "[MoviePy] Done.\n",
      "3PTstAK-cH8\n",
      "51\n",
      "[MoviePy] Writing audio in C:/Users/Ankit/Documents/wpi/cs525/video_data/videos/ad_data\\3PTstAK-cH8\\CryptoKitties.wav\n"
     ]
    },
    {
     "name": "stderr",
     "output_type": "stream",
     "text": [
      "\n",
      "  0%|                                                  | 0/883 [00:00<?, ?it/s]\n",
      "  3%|█▎                                       | 28/883 [00:00<00:12, 66.98it/s]\n",
      " 11%|████▌                                   | 101/883 [00:00<00:08, 91.24it/s]\n",
      " 30%|███████████▋                           | 264/883 [00:00<00:04, 127.29it/s]\n",
      " 37%|██████████████▍                        | 327/883 [00:00<00:03, 163.82it/s]\n",
      " 46%|█████████████████▉                     | 407/883 [00:01<00:02, 194.30it/s]\n",
      " 66%|█████████████████████████▉             | 586/883 [00:01<00:01, 265.23it/s]\n",
      " 81%|███████████████████████████████▍       | 713/883 [00:01<00:00, 346.07it/s]\n",
      "100%|███████████████████████████████████████| 883/883 [00:01<00:00, 679.19it/s]"
     ]
    },
    {
     "name": "stdout",
     "output_type": "stream",
     "text": [
      "[MoviePy] Done.\n",
      "3TjK2bn4wUA\n",
      "52\n",
      "[MoviePy] Writing audio in C:/Users/Ankit/Documents/wpi/cs525/video_data/videos/ad_data\\3TjK2bn4wUA\\Creamy Alfredo Pasta  Instacart.wav\n"
     ]
    },
    {
     "name": "stderr",
     "output_type": "stream",
     "text": [
      "\n",
      "  0%|                                                  | 0/331 [00:00<?, ?it/s]\n",
      " 21%|████████▏                               | 68/331 [00:00<00:00, 679.96it/s]\n",
      " 61%|███████████████████████▉               | 203/331 [00:00<00:00, 796.08it/s]\n",
      "100%|██████████████████████████████████████| 331/331 [00:00<00:00, 1221.33it/s]"
     ]
    },
    {
     "name": "stdout",
     "output_type": "stream",
     "text": [
      "[MoviePy] Done.\n",
      "3YIpF1hlwm8\n",
      "53\n",
      "[MoviePy] Writing audio in C:/Users/Ankit/Documents/wpi/cs525/video_data/videos/ad_data\\3YIpF1hlwm8\\Are You Ready to Try Grammarly.wav\n"
     ]
    },
    {
     "name": "stderr",
     "output_type": "stream",
     "text": [
      "\n",
      "  0%|                                                 | 0/1601 [00:00<?, ?it/s]\n",
      "  2%|▋                                       | 28/1601 [00:00<00:38, 40.81it/s]\n",
      " 10%|███▊                                   | 155/1601 [00:00<00:25, 57.51it/s]\n",
      " 19%|███████▍                               | 305/1601 [00:00<00:16, 80.37it/s]\n",
      " 23%|████████▋                             | 366/1601 [00:01<00:11, 108.61it/s]\n",
      " 27%|██████████▏                           | 427/1601 [00:01<00:08, 138.66it/s]\n",
      " 35%|█████████████▏                        | 558/1601 [00:01<00:05, 189.48it/s]\n",
      " 45%|████████████████▉                     | 713/1601 [00:01<00:03, 257.22it/s]\n",
      " 56%|█████████████████████▎                | 897/1601 [00:01<00:02, 346.68it/s]\n",
      " 66%|████████████████████████▍            | 1058/1601 [00:01<00:01, 453.41it/s]\n",
      " 76%|████████████████████████████▎        | 1223/1601 [00:01<00:00, 577.05it/s]\n",
      " 89%|████████████████████████████████▋    | 1417/1601 [00:01<00:00, 731.15it/s]\n",
      " 98%|████████████████████████████████████▍| 1576/1601 [00:02<00:00, 714.83it/s]\n",
      "100%|█████████████████████████████████████| 1601/1601 [00:02<00:00, 785.53it/s]"
     ]
    },
    {
     "name": "stdout",
     "output_type": "stream",
     "text": [
      "[MoviePy] Done.\n",
      "42EQE386yU0\n",
      "54\n",
      "[MoviePy] Writing audio in C:/Users/Ankit/Documents/wpi/cs525/video_data/videos/ad_data\\42EQE386yU0\\McDonalds_Fizzy_GCM_Innovid_REV_2.wav\n"
     ]
    },
    {
     "name": "stderr",
     "output_type": "stream",
     "text": [
      "\n",
      "  0%|                                                  | 0/332 [00:00<?, ?it/s]\n",
      " 12%|████▊                                   | 40/332 [00:00<00:00, 399.98it/s]\n",
      " 30%|███████████▊                           | 101/332 [00:00<00:00, 419.36it/s]\n",
      " 61%|███████████████████████▊               | 203/332 [00:00<00:00, 432.27it/s]\n",
      "100%|███████████████████████████████████████| 332/332 [00:00<00:00, 627.56it/s]"
     ]
    },
    {
     "name": "stdout",
     "output_type": "stream",
     "text": [
      "[MoviePy] Done.\n",
      "4Cx7zzjvvDI\n",
      "55\n",
      "[MoviePy] Writing audio in C:/Users/Ankit/Documents/wpi/cs525/video_data/videos/ad_data\\4Cx7zzjvvDI\\216digital - Make The Internet Work For You - Explainer Video.wav\n"
     ]
    },
    {
     "name": "stderr",
     "output_type": "stream",
     "text": [
      "\n",
      "  0%|                                                 | 0/1457 [00:00<?, ?it/s]\n",
      "  2%|▋                                      | 28/1457 [00:00<00:06, 233.32it/s]\n",
      " 10%|███▉                                  | 152/1457 [00:00<00:04, 267.69it/s]\n",
      " 14%|█████▎                                | 203/1457 [00:00<00:05, 238.24it/s]\n",
      " 17%|██████▌                               | 254/1457 [00:00<00:05, 234.32it/s]\n",
      " 28%|██████████▌                           | 407/1457 [00:01<00:03, 313.16it/s]\n",
      " 39%|██████████████▉                       | 574/1457 [00:01<00:02, 414.09it/s]\n",
      " 51%|███████████████████▎                  | 741/1457 [00:01<00:01, 534.73it/s]\n",
      " 59%|██████████████████████▎               | 855/1457 [00:01<00:00, 603.69it/s]\n",
      " 66%|█████████████████████████             | 961/1457 [00:01<00:00, 556.68it/s]\n",
      " 72%|██████████████████████████▋          | 1049/1457 [00:01<00:00, 523.00it/s]\n",
      " 80%|█████████████████████████████▊       | 1172/1457 [00:01<00:00, 623.33it/s]\n",
      " 92%|██████████████████████████████████▏  | 1347/1457 [00:01<00:00, 772.53it/s]\n",
      "100%|█████████████████████████████████████| 1457/1457 [00:02<00:00, 711.73it/s]"
     ]
    },
    {
     "name": "stdout",
     "output_type": "stream",
     "text": [
      "[MoviePy] Done.\n",
      "4JE9NrpCbrM\n",
      "56\n",
      "[MoviePy] Writing audio in C:/Users/Ankit/Documents/wpi/cs525/video_data/videos/ad_data\\4JE9NrpCbrM\\LOA3-捏脸换装+GP15s（去乳摇）.wav\n"
     ]
    },
    {
     "name": "stderr",
     "output_type": "stream",
     "text": [
      "\n",
      "  0%|                                                  | 0/367 [00:00<?, ?it/s]\n",
      " 41%|███████████████▋                      | 152/367 [00:00<00:00, 1461.45it/s]\n",
      " 55%|█████████████████████▌                 | 203/367 [00:00<00:00, 640.45it/s]\n",
      " 99%|██████████████████████████████████████▊| 365/367 [00:00<00:00, 782.37it/s]\n",
      "100%|███████████████████████████████████████| 367/367 [00:00<00:00, 933.79it/s]"
     ]
    },
    {
     "name": "stdout",
     "output_type": "stream",
     "text": [
      "[MoviePy] Done.\n",
      "4rS2nHAPcck\n",
      "57\n",
      "[MoviePy] Writing audio in C:/Users/Ankit/Documents/wpi/cs525/video_data/videos/ad_data\\4rS2nHAPcck\\Make the World You Want – GoDaddy Commercial.wav\n"
     ]
    },
    {
     "name": "stderr",
     "output_type": "stream",
     "text": [
      "\n",
      "  0%|                                                  | 0/777 [00:00<?, ?it/s]\n",
      " 13%|█████                                  | 101/777 [00:00<00:01, 364.60it/s]\n",
      " 20%|███████▋                               | 152/777 [00:00<00:01, 361.40it/s]\n",
      " 26%|██████████▏                            | 203/777 [00:00<00:01, 300.73it/s]\n",
      " 33%|████████████▋                          | 254/777 [00:01<00:05, 101.51it/s]\n",
      " 39%|███████████████▋                        | 305/777 [00:02<00:04, 97.01it/s]\n",
      " 46%|██████████████████▎                     | 356/777 [00:03<00:04, 89.16it/s]\n",
      " 59%|███████████████████████▌                | 458/777 [00:06<00:05, 61.72it/s]\n",
      " 66%|██████████████████████████▏             | 509/777 [00:06<00:04, 64.39it/s]\n",
      " 72%|████████████████████████████▊           | 560/777 [00:07<00:03, 65.99it/s]\n",
      " 92%|████████████████████████████████████▋   | 713/777 [00:08<00:00, 73.75it/s]\n",
      " 98%|███████████████████████████████████████▎| 764/777 [00:09<00:00, 90.45it/s]\n",
      "100%|████████████████████████████████████████| 777/777 [00:09<00:00, 83.74it/s]"
     ]
    },
    {
     "name": "stdout",
     "output_type": "stream",
     "text": [
      "[MoviePy] Done.\n",
      "4VooPdEWXls\n",
      "58\n",
      "[MoviePy] Writing audio in C:/Users/Ankit/Documents/wpi/cs525/video_data/videos/ad_data\\4VooPdEWXls\\Untitled Ad.wav\n"
     ]
    },
    {
     "name": "stderr",
     "output_type": "stream",
     "text": [
      "\n",
      "  0%|                                                  | 0/133 [00:00<?, ?it/s]\n",
      "100%|██████████████████████████████████████| 133/133 [00:00<00:00, 1564.62it/s]"
     ]
    },
    {
     "name": "stdout",
     "output_type": "stream",
     "text": [
      "[MoviePy] Done.\n",
      "4YW4Vy6eCEM\n",
      "59\n",
      "[MoviePy] Writing audio in C:/Users/Ankit/Documents/wpi/cs525/video_data/videos/ad_data\\4YW4Vy6eCEM\\Untitled Ad..wav\n"
     ]
    },
    {
     "name": "stderr",
     "output_type": "stream",
     "text": [
      "\n",
      "  0%|                                                  | 0/664 [00:00<?, ?it/s]\n",
      " 15%|█████▉                                 | 101/664 [00:00<00:02, 241.61it/s]\n",
      " 31%|███████████▉                           | 203/664 [00:00<00:01, 239.59it/s]\n",
      " 49%|███████████████████▏                   | 326/664 [00:00<00:01, 315.90it/s]\n",
      " 69%|██████████████████████████▉            | 458/664 [00:01<00:00, 407.41it/s]\n",
      " 92%|███████████████████████████████████▉   | 611/664 [00:01<00:00, 516.58it/s]\n",
      "100%|███████████████████████████████████████| 664/664 [00:01<00:00, 555.15it/s]"
     ]
    },
    {
     "name": "stdout",
     "output_type": "stream",
     "text": [
      "[MoviePy] Done.\n",
      "4z340mIezAA\n",
      "60\n",
      "[MoviePy] Writing audio in C:/Users/Ankit/Documents/wpi/cs525/video_data/videos/ad_data\\4z340mIezAA\\20190319 Gatorade ZeroSugar 1b.wav\n"
     ]
    },
    {
     "name": "stderr",
     "output_type": "stream",
     "text": [
      "\n",
      "  0%|                                                  | 0/795 [00:00<?, ?it/s]\n",
      "  6%|██▎                                     | 47/795 [00:00<00:01, 469.97it/s]\n",
      " 27%|██████████▍                            | 213/795 [00:00<00:00, 598.74it/s]\n",
      " 50%|███████████████████▌                   | 398/795 [00:00<00:00, 751.15it/s]\n",
      " 62%|████████████████████████▎              | 496/795 [00:00<00:00, 750.21it/s]\n",
      " 81%|███████████████████████████████▋       | 645/795 [00:00<00:00, 881.51it/s]\n",
      "100%|██████████████████████████████████████| 795/795 [00:00<00:00, 1286.33it/s]"
     ]
    },
    {
     "name": "stdout",
     "output_type": "stream",
     "text": [
      "[MoviePy] Done.\n",
      "50c4Kym1iAc\n",
      "61\n",
      "[MoviePy] Writing audio in C:/Users/Ankit/Documents/wpi/cs525/video_data/videos/ad_data\\50c4Kym1iAc\\Breakthrough  Frontline  20th Century FOX.wav\n"
     ]
    },
    {
     "name": "stderr",
     "output_type": "stream",
     "text": [
      "\n",
      "  0%|                                                  | 0/663 [00:00<?, ?it/s]\n",
      "  4%|█▋                                      | 28/663 [00:00<00:04, 146.59it/s]\n",
      " 16%|██████▎                                | 107/663 [00:00<00:02, 193.98it/s]\n",
      " 23%|████████▉                              | 152/663 [00:00<00:02, 222.79it/s]\n",
      " 31%|███████████▉                           | 203/663 [00:00<00:01, 239.39it/s]\n",
      " 38%|██████████████▉                        | 254/663 [00:00<00:01, 223.65it/s]\n",
      " 46%|█████████████████▉                     | 305/663 [00:01<00:01, 242.82it/s]\n",
      " 54%|████████████████████▉                  | 356/663 [00:01<00:01, 268.11it/s]\n",
      " 69%|██████████████████████████▉            | 458/663 [00:01<00:00, 338.74it/s]\n",
      " 92%|███████████████████████████████████▉   | 611/663 [00:01<00:00, 438.56it/s]\n",
      "100%|███████████████████████████████████████| 663/663 [00:01<00:00, 464.91it/s]"
     ]
    },
    {
     "name": "stdout",
     "output_type": "stream",
     "text": [
      "[MoviePy] Done.\n",
      "51Uv8pkijC8\n",
      "62\n",
      "[MoviePy] Writing audio in C:/Users/Ankit/Documents/wpi/cs525/video_data/videos/ad_data\\51Uv8pkijC8\\HORMEL® Pepperoni “Balloons” 015.wav\n"
     ]
    },
    {
     "name": "stderr",
     "output_type": "stream",
     "text": [
      "\n",
      "  0%|                                                  | 0/331 [00:00<?, ?it/s]\n",
      "  8%|███▍                                     | 28/331 [00:00<00:03, 98.93it/s]\n",
      " 46%|█████████████████▉                     | 152/331 [00:00<00:01, 134.66it/s]\n",
      " 63%|████████████████████████▍              | 207/331 [00:00<00:00, 174.10it/s]\n",
      "100%|███████████████████████████████████████| 331/331 [00:00<00:00, 548.89it/s]"
     ]
    },
    {
     "name": "stdout",
     "output_type": "stream",
     "text": [
      "[MoviePy] Done.\n",
      "59MX_qa_Lks\n",
      "63\n",
      "[MoviePy] Writing audio in C:/Users/Ankit/Documents/wpi/cs525/video_data/videos/ad_data\\59MX_qa_Lks\\Kick Some Business with GoToMeeting!.wav\n"
     ]
    },
    {
     "name": "stderr",
     "output_type": "stream",
     "text": [
      "\n",
      "  0%|                                                  | 0/332 [00:00<?, ?it/s]\n",
      "  8%|███▍                                     | 28/332 [00:00<00:09, 30.87it/s]\n",
      " 30%|████████████▏                           | 101/332 [00:01<00:05, 43.20it/s]\n",
      " 61%|████████████████████████▍               | 203/332 [00:01<00:02, 60.10it/s]\n",
      "100%|███████████████████████████████████████| 332/332 [00:01<00:00, 265.37it/s]"
     ]
    },
    {
     "name": "stdout",
     "output_type": "stream",
     "text": [
      "[MoviePy] Done.\n",
      "5AAHGHEvlHI\n",
      "64\n",
      "[MoviePy] Writing audio in C:/Users/Ankit/Documents/wpi/cs525/video_data/videos/ad_data\\5AAHGHEvlHI\\TameImpala_SpeakScreen_15_sprint_wm.wav\n"
     ]
    },
    {
     "name": "stderr",
     "output_type": "stream",
     "text": [
      "\n",
      "  0%|                                                  | 0/332 [00:00<?, ?it/s]\n",
      "  8%|███▍                                     | 28/332 [00:00<00:09, 32.86it/s]\n",
      " 31%|████████████▎                           | 102/332 [00:00<00:04, 46.07it/s]\n",
      " 70%|███████████████████████████▊            | 231/332 [00:01<00:01, 64.82it/s]\n",
      "100%|███████████████████████████████████████| 332/332 [00:01<00:00, 299.89it/s]"
     ]
    },
    {
     "name": "stdout",
     "output_type": "stream",
     "text": [
      "[MoviePy] Done.\n",
      "5AI4Qoqg6VA\n",
      "65\n",
      "[MoviePy] Writing audio in C:/Users/Ankit/Documents/wpi/cs525/video_data/videos/ad_data\\5AI4Qoqg6VA\\1500707242-1_ROV Ent Video Imp EXCL ADSM CN AND SPORTS P25-49.wav\n"
     ]
    },
    {
     "name": "stderr",
     "output_type": "stream",
     "text": [
      "\n",
      "  0%|                                                  | 0/331 [00:00<?, ?it/s]\n",
      "  8%|███▍                                    | 28/331 [00:00<00:01, 249.99it/s]\n",
      " 31%|████████████                           | 102/331 [00:00<00:00, 311.96it/s]\n",
      " 77%|█████████████████████████████▉         | 254/331 [00:00<00:00, 407.64it/s]\n",
      "100%|███████████████████████████████████████| 331/331 [00:00<00:00, 880.27it/s]"
     ]
    },
    {
     "name": "stdout",
     "output_type": "stream",
     "text": [
      "[MoviePy] Done.\n",
      "5eqLeTTz0M8\n",
      "66\n",
      "[MoviePy] Writing audio in C:/Users/Ankit/Documents/wpi/cs525/video_data/videos/ad_data\\5eqLeTTz0M8\\Eater_SpringLeisureFY19_Video-YouTube_OldLine15  243098788.wav\n"
     ]
    },
    {
     "name": "stderr",
     "output_type": "stream",
     "text": [
      "\n",
      "  0%|                                                  | 0/332 [00:00<?, ?it/s]\n",
      "  8%|███▍                                     | 28/332 [00:00<00:07, 42.88it/s]\n",
      " 30%|████████████▏                           | 101/332 [00:00<00:04, 57.50it/s]\n",
      " 46%|██████████████████▎                     | 152/332 [00:01<00:02, 74.32it/s]\n",
      " 61%|████████████████████████▍               | 203/332 [00:01<00:01, 86.95it/s]\n",
      "100%|███████████████████████████████████████| 332/332 [00:01<00:00, 120.72it/s]"
     ]
    },
    {
     "name": "stdout",
     "output_type": "stream",
     "text": [
      "[MoviePy] Done.\n",
      "5F-dug-r8tg\n",
      "67\n",
      "[MoviePy] Writing audio in C:/Users/Ankit/Documents/wpi/cs525/video_data/videos/ad_data\\5F-dug-r8tg\\DSG Golf A Thon 15 REV DSG3419NH.wav\n"
     ]
    },
    {
     "name": "stderr",
     "output_type": "stream",
     "text": [
      "\n",
      "  0%|                                                  | 0/332 [00:00<?, ?it/s]\n",
      "  8%|███▍                                     | 28/332 [00:00<00:04, 61.67it/s]\n",
      " 49%|███████████████████▋                    | 163/332 [00:00<00:01, 86.41it/s]\n",
      " 62%|████████████████████████               | 205/332 [00:00<00:01, 106.69it/s]\n",
      "100%|███████████████████████████████████████| 332/332 [00:00<00:00, 411.38it/s]"
     ]
    },
    {
     "name": "stdout",
     "output_type": "stream",
     "text": [
      "[MoviePy] Done.\n",
      "5kTJ8oHrePE\n",
      "68\n",
      "[MoviePy] Writing audio in C:/Users/Ankit/Documents/wpi/cs525/video_data/videos/ad_data\\5kTJ8oHrePE\\Mentos Pure Fresh Gum - Small Talk with Father (15s).wav\n"
     ]
    },
    {
     "name": "stderr",
     "output_type": "stream",
     "text": [
      "\n",
      "  0%|                                                  | 0/331 [00:00<?, ?it/s]\n",
      "  8%|███▍                                     | 28/331 [00:00<00:07, 41.48it/s]\n",
      " 46%|██████████████████▎                     | 152/331 [00:00<00:03, 58.40it/s]\n",
      " 61%|████████████████████████▌               | 203/331 [00:00<00:01, 79.19it/s]\n",
      " 77%|█████████████████████████████▉         | 254/331 [00:01<00:00, 101.15it/s]\n",
      "100%|███████████████████████████████████████| 331/331 [00:01<00:00, 291.36it/s]"
     ]
    },
    {
     "name": "stdout",
     "output_type": "stream",
     "text": [
      "[MoviePy] Done.\n",
      "5PqC7mac9hI\n",
      "69\n",
      "[MoviePy] Writing audio in C:/Users/Ankit/Documents/wpi/cs525/video_data/videos/ad_data\\5PqC7mac9hI\\In-Stream Video.wav\n"
     ]
    },
    {
     "name": "stderr",
     "output_type": "stream",
     "text": [
      "\n",
      "  0%|                                                  | 0/333 [00:00<?, ?it/s]\n",
      "  8%|███▍                                     | 28/333 [00:00<00:03, 79.32it/s]\n",
      " 67%|██████████████████████████             | 222/333 [00:00<00:00, 111.36it/s]\n",
      "100%|███████████████████████████████████████| 333/333 [00:00<00:00, 649.09it/s]"
     ]
    },
    {
     "name": "stdout",
     "output_type": "stream",
     "text": [
      "[MoviePy] Done.\n",
      "5PUkKZKF9vY\n",
      "70\n",
      "[MoviePy] Writing audio in C:/Users/Ankit/Documents/wpi/cs525/video_data/videos/ad_data\\5PUkKZKF9vY\\Groupon 2018 Commercial with Tiffany Haddish Front Row.wav\n"
     ]
    },
    {
     "name": "stderr",
     "output_type": "stream",
     "text": [
      "\n",
      "  0%|                                                  | 0/332 [00:00<?, ?it/s]\n",
      "  8%|███▍                                     | 28/332 [00:00<00:03, 79.54it/s]\n",
      " 46%|█████████████████▊                     | 152/332 [00:00<00:01, 107.18it/s]\n",
      " 73%|████████████████████████████▍          | 242/332 [00:00<00:00, 145.67it/s]\n",
      "100%|███████████████████████████████████████| 332/332 [00:00<00:00, 440.88it/s]"
     ]
    },
    {
     "name": "stdout",
     "output_type": "stream",
     "text": [
      "[MoviePy] Done.\n",
      "5yQhGo_81Hc\n",
      "71\n",
      "[MoviePy] Writing audio in C:/Users/Ankit/Documents/wpi/cs525/video_data/videos/ad_data\\5yQhGo_81Hc\\adidas Running  Stories of Transformation Frank Ruona.wav\n"
     ]
    },
    {
     "name": "stderr",
     "output_type": "stream",
     "text": [
      "\n",
      "  0%|                                                  | 0/332 [00:00<?, ?it/s]\n",
      "  8%|███▍                                     | 28/332 [00:00<00:05, 56.45it/s]\n",
      " 30%|████████████▏                           | 101/332 [00:00<00:03, 73.84it/s]\n",
      " 46%|██████████████████▎                     | 152/332 [00:00<00:01, 97.22it/s]\n",
      " 92%|███████████████████████████████████▊   | 305/332 [00:01<00:00, 134.24it/s]\n",
      "100%|███████████████████████████████████████| 332/332 [00:01<00:00, 315.57it/s]"
     ]
    },
    {
     "name": "stdout",
     "output_type": "stream",
     "text": [
      "[MoviePy] Done.\n",
      "5_G1s2kz3t8\n",
      "72\n",
      "[MoviePy] Writing audio in C:/Users/Ankit/Documents/wpi/cs525/video_data/videos/ad_data\\5_G1s2kz3t8\\19_Brand_TMCameoJerry_ControlTower_Vast15_GM_Mass.wav\n"
     ]
    },
    {
     "name": "stderr",
     "output_type": "stream",
     "text": [
      "\n",
      "  0%|                                                  | 0/333 [00:00<?, ?it/s]\n",
      "  8%|███▍                                     | 28/333 [00:01<00:11, 25.78it/s]\n",
      " 30%|████████████▏                           | 101/333 [00:01<00:06, 35.93it/s]\n",
      " 48%|███████████████████▎                    | 161/333 [00:01<00:03, 50.04it/s]\n",
      " 98%|███████████████████████████████████████▎| 327/333 [00:01<00:00, 70.58it/s]\n",
      "100%|███████████████████████████████████████| 333/333 [00:01<00:00, 228.23it/s]"
     ]
    },
    {
     "name": "stdout",
     "output_type": "stream",
     "text": [
      "[MoviePy] Done.\n",
      "5__ZLeOMkLM\n",
      "73\n",
      "[MoviePy] Writing audio in C:/Users/Ankit/Documents/wpi/cs525/video_data/videos/ad_data\\5__ZLeOMkLM\\What is Starborne.wav\n"
     ]
    },
    {
     "name": "stderr",
     "output_type": "stream",
     "text": [
      "\n",
      "  0%|                                                 | 0/4200 [00:00<?, ?it/s]\n",
      "  1%|▎                                      | 28/4200 [00:00<00:15, 261.67it/s]\n",
      "  2%|▉                                     | 101/4200 [00:00<00:15, 268.59it/s]\n",
      "  5%|█▊                                    | 203/4200 [00:00<00:11, 343.74it/s]\n",
      "  7%|██▊                                   | 305/4200 [00:00<00:11, 345.74it/s]\n",
      " 11%|████                                  | 451/4200 [00:00<00:08, 448.40it/s]\n",
      " 12%|████▋                                 | 522/4200 [00:01<00:08, 444.47it/s]\n",
      " 15%|█████▌                                | 611/4200 [00:01<00:08, 420.66it/s]\n",
      " 16%|██████                                | 666/4200 [00:01<00:08, 419.45it/s]\n",
      " 17%|██████▍                               | 717/4200 [00:01<00:08, 420.05it/s]\n",
      " 18%|██████▉                               | 766/4200 [00:01<00:10, 324.59it/s]\n",
      " 19%|███████▎                              | 815/4200 [00:02<00:27, 123.80it/s]\n",
      " 21%|████████                               | 866/4200 [00:04<01:01, 53.98it/s]\n",
      " 22%|████████▌                              | 917/4200 [00:07<01:25, 38.46it/s]\n",
      " 24%|█████████                             | 1004/4200 [00:07<00:59, 53.93it/s]\n",
      " 27%|██████████▏                           | 1121/4200 [00:07<00:41, 74.44it/s]\n",
      " 30%|███████████▌                          | 1274/4200 [00:07<00:29, 98.66it/s]\n",
      " 32%|███████████▉                          | 1325/4200 [00:08<00:36, 79.17it/s]\n",
      " 33%|████████████▍                         | 1376/4200 [00:08<00:28, 99.12it/s]\n",
      " 36%|█████████████▍                       | 1529/4200 [00:09<00:19, 137.37it/s]\n",
      " 40%|██████████████▊                      | 1682/4200 [00:09<00:13, 184.93it/s]\n",
      " 44%|████████████████▏                    | 1835/4200 [00:09<00:09, 250.43it/s]\n",
      " 46%|█████████████████                    | 1930/4200 [00:09<00:07, 306.51it/s]\n",
      " 48%|█████████████████▊                   | 2016/4200 [00:09<00:06, 332.29it/s]\n",
      " 50%|██████████████████▍                  | 2090/4200 [00:10<00:14, 141.71it/s]\n",
      " 53%|███████████████████▍                 | 2206/4200 [00:10<00:10, 192.37it/s]\n",
      " 57%|████████████████████▉                | 2379/4200 [00:11<00:06, 262.31it/s]\n",
      " 59%|█████████████████████▉               | 2489/4200 [00:11<00:05, 339.98it/s]\n",
      " 63%|███████████████████████▎             | 2651/4200 [00:11<00:03, 444.14it/s]\n",
      " 66%|████████████████████████▍            | 2771/4200 [00:11<00:02, 523.25it/s]\n",
      " 69%|█████████████████████████▌           | 2906/4200 [00:12<00:04, 267.53it/s]\n",
      " 73%|██████████████████████████▉          | 3059/4200 [00:12<00:03, 352.83it/s]\n",
      " 75%|███████████████████████████▊         | 3161/4200 [00:12<00:02, 436.71it/s]\n",
      " 79%|█████████████████████████████▏       | 3314/4200 [00:12<00:01, 536.57it/s]\n",
      " 82%|██████████████████████████████▍      | 3453/4200 [00:12<00:01, 657.71it/s]\n",
      " 85%|███████████████████████████████▍     | 3569/4200 [00:13<00:00, 751.49it/s]\n",
      " 89%|████████████████████████████████▊    | 3722/4200 [00:13<00:00, 880.73it/s]\n",
      " 92%|█████████████████████████████████▎  | 3885/4200 [00:13<00:00, 1021.61it/s]\n",
      " 97%|██████████████████████████████████▊ | 4065/4200 [00:13<00:00, 1173.89it/s]\n",
      "100%|█████████████████████████████████████| 4200/4200 [00:13<00:00, 313.11it/s]"
     ]
    },
    {
     "name": "stdout",
     "output_type": "stream",
     "text": [
      "[MoviePy] Done.\n",
      "6-1bEG_CMkQ\n",
      "74\n",
      "[MoviePy] Writing audio in C:/Users/Ankit/Documents/wpi/cs525/video_data/videos/ad_data\\6-1bEG_CMkQ\\Chrome Tip Switch to an already-open tab.wav\n"
     ]
    },
    {
     "name": "stderr",
     "output_type": "stream",
     "text": [
      "\n",
      "  0%|                                                  | 0/354 [00:00<?, ?it/s]\n",
      "  8%|███▏                                    | 28/354 [00:00<00:01, 225.79it/s]\n",
      " 65%|█████████████████████████▎             | 230/354 [00:00<00:00, 307.82it/s]\n",
      "100%|██████████████████████████████████████| 354/354 [00:00<00:00, 1216.42it/s]"
     ]
    },
    {
     "name": "stdout",
     "output_type": "stream",
     "text": [
      "[MoviePy] Done.\n",
      "62iCUF6naBY\n",
      "75\n",
      "[MoviePy] Writing audio in C:/Users/Ankit/Documents/wpi/cs525/video_data/videos/ad_data\\62iCUF6naBY\\PROJECT MASTER YI - 15.wav\n"
     ]
    },
    {
     "name": "stderr",
     "output_type": "stream",
     "text": [
      "\n",
      "  0%|                                                  | 0/332 [00:00<?, ?it/s]\n",
      " 11%|████▌                                   | 38/332 [00:00<00:00, 379.98it/s]\n",
      " 46%|█████████████████▊                     | 152/332 [00:00<00:00, 451.28it/s]\n",
      " 90%|███████████████████████████████████▏   | 300/332 [00:00<00:00, 570.17it/s]\n",
      "100%|███████████████████████████████████████| 332/332 [00:00<00:00, 912.04it/s]"
     ]
    },
    {
     "name": "stdout",
     "output_type": "stream",
     "text": [
      "[MoviePy] Done.\n",
      "68auYg0cxuk\n",
      "76\n",
      "[MoviePy] Writing audio in C:/Users/Ankit/Documents/wpi/cs525/video_data/videos/ad_data\\68auYg0cxuk\\Untitled Ad.wav\n"
     ]
    },
    {
     "name": "stderr",
     "output_type": "stream",
     "text": [
      "\n",
      "  0%|                                                  | 0/333 [00:00<?, ?it/s]\n",
      " 30%|███████████▊                           | 101/333 [00:00<00:00, 343.52it/s]\n",
      " 46%|█████████████████▊                     | 152/333 [00:00<00:00, 218.11it/s]\n",
      " 61%|███████████████████████▊               | 203/333 [00:01<00:00, 182.87it/s]\n",
      " 76%|█████████████████████████████▋         | 254/333 [00:01<00:00, 165.09it/s]\n",
      "100%|███████████████████████████████████████| 333/333 [00:01<00:00, 213.59it/s]"
     ]
    },
    {
     "name": "stdout",
     "output_type": "stream",
     "text": [
      "[MoviePy] Done.\n",
      "69SEIKmndSY\n",
      "77\n",
      "[MoviePy] Writing audio in C:/Users/Ankit/Documents/wpi/cs525/video_data/videos/ad_data\\69SEIKmndSY\\The Mother Lode of Ice Cream 15 - GEICO Insurance.wav\n"
     ]
    },
    {
     "name": "stderr",
     "output_type": "stream",
     "text": [
      "\n",
      "  0%|                                                  | 0/333 [00:00<?, ?it/s]\n",
      "  8%|███▎                                    | 28/333 [00:00<00:02, 144.32it/s]\n",
      " 36%|█████████████▉                         | 119/333 [00:00<00:01, 193.05it/s]\n",
      " 46%|█████████████████▊                     | 152/333 [00:00<00:00, 197.18it/s]\n",
      " 61%|███████████████████████▊               | 203/333 [00:00<00:00, 192.85it/s]\n",
      "100%|███████████████████████████████████████| 333/333 [00:00<00:00, 401.67it/s]"
     ]
    },
    {
     "name": "stdout",
     "output_type": "stream",
     "text": [
      "[MoviePy] Done.\n",
      "6DOk68w9XUo\n",
      "78\n",
      "[MoviePy] Writing audio in C:/Users/Ankit/Documents/wpi/cs525/video_data/videos/ad_data\\6DOk68w9XUo\\Ramy 15 Start-Up Digital Post-Launch.wav\n"
     ]
    },
    {
     "name": "stderr",
     "output_type": "stream",
     "text": [
      "\n",
      "  0%|                                                  | 0/332 [00:00<?, ?it/s]\n",
      "  8%|███▍                                     | 28/332 [00:00<00:03, 78.43it/s]\n",
      " 30%|███████████▊                           | 101/332 [00:00<00:02, 106.45it/s]\n",
      " 64%|████████████████████████▉              | 212/332 [00:00<00:00, 146.07it/s]\n",
      "100%|███████████████████████████████████████| 332/332 [00:00<00:00, 522.80it/s]"
     ]
    },
    {
     "name": "stdout",
     "output_type": "stream",
     "text": [
      "[MoviePy] Done.\n",
      "6e2mgO6gdLM\n",
      "79\n",
      "[MoviePy] Writing audio in C:/Users/Ankit/Documents/wpi/cs525/video_data/videos/ad_data\\6e2mgO6gdLM\\Pork Storage & Handling.wav\n"
     ]
    },
    {
     "name": "stderr",
     "output_type": "stream",
     "text": [
      "\n",
      "  0%|                                                 | 0/2057 [00:00<?, ?it/s]\n",
      "  1%|▌                                      | 28/2057 [00:00<00:11, 181.81it/s]\n",
      "  5%|█▊                                    | 101/2057 [00:00<00:09, 205.54it/s]\n",
      "  7%|██▊                                   | 152/2057 [00:00<00:08, 225.17it/s]\n",
      " 10%|███▊                                  | 203/2057 [00:00<00:06, 268.35it/s]\n",
      " 18%|██████▉                               | 375/2057 [00:00<00:04, 359.33it/s]\n",
      " 25%|█████████▍                            | 509/2057 [00:00<00:03, 453.40it/s]\n",
      " 34%|████████████▉                         | 698/2057 [00:00<00:02, 587.33it/s]\n",
      " 42%|███████████████▉                      | 866/2057 [00:01<00:01, 728.76it/s]\n",
      " 51%|██████████████████▊                  | 1047/2057 [00:01<00:01, 887.87it/s]\n",
      " 58%|█████████████████████▍               | 1193/2057 [00:01<00:00, 991.79it/s]\n",
      " 65%|████████████████████████             | 1337/2057 [00:01<00:00, 994.22it/s]\n",
      " 74%|██████████████████████████▊         | 1529/2057 [00:01<00:00, 1151.89it/s]\n",
      " 81%|█████████████████████████████▎      | 1675/2057 [00:01<00:00, 1008.10it/s]\n",
      " 89%|████████████████████████████████    | 1835/2057 [00:01<00:00, 1131.52it/s]\n",
      " 99%|███████████████████████████████████▍| 2028/2057 [00:01<00:00, 1291.85it/s]\n",
      "100%|████████████████████████████████████| 2057/2057 [00:01<00:00, 1047.83it/s]"
     ]
    },
    {
     "name": "stdout",
     "output_type": "stream",
     "text": [
      "[MoviePy] Done.\n",
      "6fODivulMow\n",
      "80\n",
      "[MoviePy] Writing audio in C:/Users/Ankit/Documents/wpi/cs525/video_data/videos/ad_data\\6fODivulMow\\The Skipper Short - Final  Shell videos in the Americas.wav\n"
     ]
    },
    {
     "name": "stderr",
     "output_type": "stream",
     "text": [
      "\n",
      "  0%|                                                  | 0/133 [00:00<?, ?it/s]\n",
      " 21%|████████▋                                | 28/133 [00:00<00:01, 86.68it/s]\n",
      "100%|███████████████████████████████████████| 133/133 [00:00<00:00, 327.57it/s]"
     ]
    },
    {
     "name": "stdout",
     "output_type": "stream",
     "text": [
      "[MoviePy] Done.\n",
      "6FTr7uLBnlY\n",
      "81\n",
      "[MoviePy] Writing audio in C:/Users/Ankit/Documents/wpi/cs525/video_data/videos/ad_data\\6FTr7uLBnlY\\How Does it Feel – Human Centricity  2019 Mazda3  Mazda USA.wav\n"
     ]
    },
    {
     "name": "stderr",
     "output_type": "stream",
     "text": [
      "\n",
      "  0%|                                                  | 0/332 [00:00<?, ?it/s]\n",
      "  8%|███▎                                    | 28/332 [00:00<00:02, 105.65it/s]\n",
      " 64%|█████████████████████████▏             | 214/332 [00:00<00:00, 147.35it/s]\n",
      "100%|███████████████████████████████████████| 332/332 [00:00<00:00, 777.47it/s]"
     ]
    },
    {
     "name": "stdout",
     "output_type": "stream",
     "text": [
      "[MoviePy] Done.\n",
      "6ILOILR-bKI\n",
      "82\n",
      "[MoviePy] Writing audio in C:/Users/Ankit/Documents/wpi/cs525/video_data/videos/ad_data\\6ILOILR-bKI\\ME_Ortega_15_EL_22719.wav\n"
     ]
    },
    {
     "name": "stderr",
     "output_type": "stream",
     "text": [
      "\n",
      "  0%|                                                  | 0/332 [00:00<?, ?it/s]\n",
      "  8%|███▎                                    | 28/332 [00:00<00:02, 112.90it/s]\n",
      " 57%|██████████████████████▏                | 189/332 [00:00<00:00, 156.58it/s]\n",
      "100%|███████████████████████████████████████| 332/332 [00:00<00:00, 768.47it/s]"
     ]
    },
    {
     "name": "stdout",
     "output_type": "stream",
     "text": [
      "[MoviePy] Done.\n",
      "6w0rE87VpAk\n",
      "83\n",
      "[MoviePy] Writing audio in C:/Users/Ankit/Documents/wpi/cs525/video_data/videos/ad_data\\6w0rE87VpAk\\Intimissimi & Sarah Jessica Parker SS19 - 10 (USA).wav\n"
     ]
    },
    {
     "name": "stderr",
     "output_type": "stream",
     "text": [
      "\n",
      "  0%|                                                  | 0/221 [00:00<?, ?it/s]\n",
      " 13%|█████▏                                   | 28/221 [00:00<00:02, 94.59it/s]\n",
      " 69%|██████████████████████████▊            | 152/221 [00:00<00:00, 129.33it/s]\n",
      "100%|███████████████████████████████████████| 221/221 [00:00<00:00, 452.84it/s]"
     ]
    },
    {
     "name": "stdout",
     "output_type": "stream",
     "text": [
      "[MoviePy] Done.\n",
      "6W9A5N8e2xo\n",
      "84\n",
      "[MoviePy] Writing audio in C:/Users/Ankit/Documents/wpi/cs525/video_data/videos/ad_data\\6W9A5N8e2xo\\MB_NB_CV_Montage - Horizontal_CT_VAST_LG_EN_CY_USD_CS_15SECONDS..wav\n"
     ]
    },
    {
     "name": "stderr",
     "output_type": "stream",
     "text": [
      "\n",
      "  0%|                                                  | 0/333 [00:00<?, ?it/s]\n",
      "  8%|███▍                                     | 28/333 [00:00<00:04, 72.35it/s]\n",
      " 41%|████████████████▏                      | 138/333 [00:00<00:01, 100.52it/s]\n",
      " 52%|████████████████████▎                  | 173/333 [00:00<00:01, 125.12it/s]\n",
      " 92%|███████████████████████████████████▋   | 305/333 [00:00<00:00, 171.29it/s]\n",
      "100%|███████████████████████████████████████| 333/333 [00:00<00:00, 458.02it/s]"
     ]
    },
    {
     "name": "stdout",
     "output_type": "stream",
     "text": [
      "[MoviePy] Done.\n",
      "6WDZyidaCKE\n",
      "85\n",
      "[MoviePy] Writing audio in C:/Users/Ankit/Documents/wpi/cs525/video_data/videos/ad_data\\6WDZyidaCKE\\USAA_PNCPXX_PXX-BlockPartyTenney_GAQ_NOOFF_MP4_VID15.wav\n"
     ]
    },
    {
     "name": "stderr",
     "output_type": "stream",
     "text": [
      "\n",
      "  0%|                                                  | 0/332 [00:00<?, ?it/s]\n",
      "  8%|███▎                                    | 28/332 [00:00<00:01, 187.91it/s]\n",
      " 30%|███████████▊                           | 101/332 [00:00<00:01, 221.72it/s]\n",
      " 46%|█████████████████▊                     | 152/332 [00:00<00:00, 253.08it/s]\n",
      "100%|███████████████████████████████████████| 332/332 [00:00<00:00, 583.45it/s]"
     ]
    },
    {
     "name": "stdout",
     "output_type": "stream",
     "text": [
      "[MoviePy] Done.\n",
      "6XAcwQ2fUUk\n",
      "86\n",
      "[MoviePy] Writing audio in C:/Users/Ankit/Documents/wpi/cs525/video_data/videos/ad_data\\6XAcwQ2fUUk\\In-Stream Video.wav\n"
     ]
    },
    {
     "name": "stderr",
     "output_type": "stream",
     "text": [
      "\n",
      "  0%|                                                  | 0/336 [00:00<?, ?it/s]\n",
      "  8%|███▎                                    | 28/336 [00:00<00:02, 102.94it/s]\n",
      " 45%|█████████████████▋                     | 152/336 [00:00<00:01, 141.80it/s]\n",
      " 90%|███████████████████████████████████    | 302/336 [00:00<00:00, 194.69it/s]\n",
      "100%|███████████████████████████████████████| 336/336 [00:00<00:00, 673.31it/s]"
     ]
    },
    {
     "name": "stdout",
     "output_type": "stream",
     "text": [
      "[MoviePy] Done.\n",
      "766N9lc6Aq4\n",
      "87\n",
      "[MoviePy] Writing audio in C:/Users/Ankit/Documents/wpi/cs525/video_data/videos/ad_data\\766N9lc6Aq4\\In-Stream Video.wav\n"
     ]
    },
    {
     "name": "stderr",
     "output_type": "stream",
     "text": [
      "\n",
      "  0%|                                                  | 0/332 [00:00<?, ?it/s]\n",
      "  8%|███▍                                     | 28/332 [00:00<00:04, 63.49it/s]\n",
      " 30%|████████████▏                           | 101/332 [00:00<00:02, 86.81it/s]\n",
      " 61%|███████████████████████▊               | 203/332 [00:00<00:01, 119.03it/s]\n",
      " 77%|█████████████████████████████▊         | 254/332 [00:00<00:00, 144.22it/s]\n",
      "100%|███████████████████████████████████████| 332/332 [00:00<00:00, 357.35it/s]"
     ]
    },
    {
     "name": "stdout",
     "output_type": "stream",
     "text": [
      "[MoviePy] Done.\n",
      "77Nt7A15buo\n",
      "88\n",
      "[MoviePy] Writing audio in C:/Users/Ankit/Documents/wpi/cs525/video_data/videos/ad_data\\77Nt7A15buo\\2019 FordShopper ML FSAFSD Y1N FDAF AprTruckMonthFinalDays ACL 15 FPYN1579000H.wav\n"
     ]
    },
    {
     "name": "stderr",
     "output_type": "stream",
     "text": [
      "\n",
      "  0%|                                                  | 0/332 [00:00<?, ?it/s]\n",
      " 30%|███████████▊                           | 101/332 [00:00<00:00, 542.98it/s]\n",
      " 46%|█████████████████▊                     | 152/332 [00:00<00:00, 499.75it/s]\n",
      "100%|███████████████████████████████████████| 332/332 [00:00<00:00, 829.95it/s]"
     ]
    },
    {
     "name": "stdout",
     "output_type": "stream",
     "text": [
      "[MoviePy] Done.\n",
      "797-nxFIgrY\n",
      "89\n",
      "[MoviePy] Writing audio in C:/Users/Ankit/Documents/wpi/cs525/video_data/videos/ad_data\\797-nxFIgrY\\Pulp-Fiction_A-New-Way-To-Start-Your-Business_15_BM.wav\n"
     ]
    },
    {
     "name": "stderr",
     "output_type": "stream",
     "text": [
      "\n",
      "  0%|                                                  | 0/331 [00:00<?, ?it/s]\n",
      "  8%|███▍                                    | 28/331 [00:00<00:01, 184.20it/s]\n",
      " 31%|███████████▉                           | 101/331 [00:00<00:00, 230.27it/s]\n",
      " 87%|█████████████████████████████████▉     | 288/331 [00:00<00:00, 312.47it/s]\n",
      "100%|███████████████████████████████████████| 331/331 [00:00<00:00, 809.24it/s]"
     ]
    },
    {
     "name": "stdout",
     "output_type": "stream",
     "text": [
      "[MoviePy] Done.\n",
      "7E4Bhnj3Ajc\n",
      "90\n",
      "[MoviePy] Writing audio in C:/Users/Ankit/Documents/wpi/cs525/video_data/videos/ad_data\\7E4Bhnj3Ajc\\FY19 OGA Q3 Voice of the Donor 060.wav\n"
     ]
    },
    {
     "name": "stderr",
     "output_type": "stream",
     "text": [
      "\n",
      "  0%|                                                 | 0/1325 [00:00<?, ?it/s]\n",
      "  6%|██▏                                    | 75/1325 [00:00<00:01, 749.96it/s]\n",
      " 15%|█████▋                                | 197/1325 [00:00<00:01, 847.96it/s]\n",
      " 28%|██████████▍                          | 376/1325 [00:00<00:00, 1006.93it/s]\n",
      " 42%|███████████████▋                     | 560/1325 [00:00<00:00, 1160.77it/s]\n",
      " 58%|█████████████████████▎               | 764/1325 [00:00<00:00, 1317.63it/s]\n",
      " 72%|██████████████████████████▌          | 952/1325 [00:00<00:00, 1447.51it/s]\n",
      " 85%|██████████████████████████████▌     | 1124/1325 [00:00<00:00, 1519.72it/s]\n",
      "100%|████████████████████████████████████| 1325/1325 [00:00<00:00, 1643.83it/s]"
     ]
    },
    {
     "name": "stdout",
     "output_type": "stream",
     "text": [
      "[MoviePy] Done.\n",
      "7FatDemUUDk\n",
      "91\n",
      "[MoviePy] Writing audio in C:/Users/Ankit/Documents/wpi/cs525/video_data/videos/ad_data\\7FatDemUUDk\\Johnny Orlando Waste My Time - Originals - US - 15.wav\n"
     ]
    },
    {
     "name": "stderr",
     "output_type": "stream",
     "text": [
      "\n",
      "  0%|                                                  | 0/334 [00:00<?, ?it/s]\n",
      "  8%|███▍                                     | 28/334 [00:00<00:07, 38.78it/s]\n",
      " 30%|████████████                            | 101/334 [00:00<00:04, 53.01it/s]\n",
      " 62%|████████████████████████▊               | 207/334 [00:01<00:01, 74.14it/s]\n",
      "100%|███████████████████████████████████████| 334/334 [00:01<00:00, 299.00it/s]"
     ]
    },
    {
     "name": "stdout",
     "output_type": "stream",
     "text": [
      "[MoviePy] Done.\n",
      "7foQw_H9jUU\n",
      "92\n",
      "[MoviePy] Writing audio in C:/Users/Ankit/Documents/wpi/cs525/video_data/videos/ad_data\\7foQw_H9jUU\\Glad Pressn Seal Takes On Chef Julia Sullivans Toughest Critic 60.wav\n"
     ]
    },
    {
     "name": "stderr",
     "output_type": "stream",
     "text": [
      "\n",
      "  0%|                                                 | 0/1356 [00:00<?, ?it/s]\n",
      "  2%|▊                                       | 28/1356 [00:00<00:35, 37.78it/s]\n",
      "  8%|███                                    | 108/1356 [00:00<00:23, 52.91it/s]\n",
      " 11%|████▎                                  | 152/1356 [00:00<00:17, 70.67it/s]\n",
      " 15%|█████▊                                 | 203/1356 [00:01<00:12, 95.08it/s]\n",
      " 23%|████████▊                             | 316/1356 [00:01<00:07, 131.10it/s]\n",
      " 28%|██████████▍                           | 374/1356 [00:01<00:05, 170.59it/s]\n",
      " 37%|█████████████▊                        | 495/1356 [00:01<00:03, 229.82it/s]\n",
      " 45%|█████████████████                     | 611/1356 [00:01<00:02, 296.12it/s]\n",
      " 51%|███████████████████▍                  | 692/1356 [00:01<00:01, 360.36it/s]\n",
      " 64%|████████████████████████▎             | 866/1356 [00:01<00:01, 449.03it/s]\n",
      " 78%|████████████████████████████▊        | 1055/1356 [00:01<00:00, 582.19it/s]\n",
      " 87%|████████████████████████████████     | 1173/1356 [00:01<00:00, 673.59it/s]\n",
      " 95%|███████████████████████████████████  | 1287/1356 [00:02<00:00, 663.28it/s]\n",
      "100%|█████████████████████████████████████| 1356/1356 [00:02<00:00, 612.15it/s]"
     ]
    },
    {
     "name": "stdout",
     "output_type": "stream",
     "text": [
      "[MoviePy] Done.\n",
      "7G4Z4QHSybU\n",
      "93\n",
      "[MoviePy] Writing audio in C:/Users/Ankit/Documents/wpi/cs525/video_data/videos/ad_data\\7G4Z4QHSybU\\Ep 9 Pedaling for Peace Trailer l SEARCH ON.wav\n"
     ]
    },
    {
     "name": "stderr",
     "output_type": "stream",
     "text": [
      "\n",
      "  0%|                                                 | 0/2787 [00:00<?, ?it/s]\n",
      "  1%|▍                                      | 28/2787 [00:00<00:16, 162.78it/s]\n",
      "  7%|██▊                                   | 203/2787 [00:00<00:11, 223.46it/s]\n",
      " 10%|███▋                                  | 269/2787 [00:00<00:09, 278.77it/s]\n",
      " 13%|█████▏                                | 376/2787 [00:00<00:06, 358.24it/s]\n",
      " 20%|███████▌                              | 558/2787 [00:00<00:04, 471.96it/s]\n",
      " 24%|█████████                             | 664/2787 [00:00<00:04, 496.91it/s]\n",
      " 29%|███████████                           | 815/2787 [00:00<00:03, 604.92it/s]\n",
      " 33%|████████████▋                         | 932/2787 [00:00<00:02, 707.42it/s]\n",
      " 37%|█████████████▊                       | 1038/2787 [00:01<00:02, 685.23it/s]\n",
      " 43%|███████████████▉                     | 1201/2787 [00:01<00:01, 829.46it/s]\n",
      " 48%|█████████████████▌                   | 1325/2787 [00:01<00:01, 898.88it/s]\n",
      " 52%|███████████████████                  | 1439/2787 [00:01<00:01, 840.84it/s]\n",
      " 58%|█████████████████████▎               | 1607/2787 [00:01<00:01, 989.04it/s]\n",
      " 62%|██████████████████████▉              | 1729/2787 [00:01<00:01, 964.05it/s]\n",
      " 66%|████████████████████████▍            | 1842/2787 [00:01<00:00, 995.15it/s]\n",
      " 73%|██████████████████████████▏         | 2024/2787 [00:01<00:00, 1151.73it/s]\n",
      " 77%|███████████████████████████▊        | 2157/2787 [00:02<00:00, 1115.42it/s]\n",
      " 82%|█████████████████████████████▋      | 2294/2787 [00:02<00:00, 1050.78it/s]\n",
      " 88%|███████████████████████████████▌    | 2447/2787 [00:02<00:00, 1092.65it/s]\n",
      " 92%|██████████████████████████████████   | 2564/2787 [00:02<00:00, 960.92it/s]\n",
      " 97%|███████████████████████████████████ | 2715/2787 [00:02<00:00, 1078.57it/s]\n",
      "100%|████████████████████████████████████| 2787/2787 [00:02<00:00, 1051.24it/s]"
     ]
    },
    {
     "name": "stdout",
     "output_type": "stream",
     "text": [
      "[MoviePy] Done.\n",
      "7JHZp1XriIw\n",
      "94\n",
      "[MoviePy] Writing audio in C:/Users/Ankit/Documents/wpi/cs525/video_data/videos/ad_data\\7JHZp1XriIw\\Pulp-Fiction_A-New-Way-To-Make-A-Video_15_WM.wav\n"
     ]
    },
    {
     "name": "stderr",
     "output_type": "stream",
     "text": [
      "\n",
      "  0%|                                                  | 0/332 [00:00<?, ?it/s]\n",
      "  8%|███▎                                    | 28/332 [00:00<00:02, 107.27it/s]\n",
      " 46%|█████████████████▊                     | 152/332 [00:00<00:01, 144.82it/s]\n",
      " 83%|████████████████████████████████▌      | 277/332 [00:00<00:00, 197.10it/s]\n",
      "100%|███████████████████████████████████████| 332/332 [00:00<00:00, 597.09it/s]"
     ]
    },
    {
     "name": "stdout",
     "output_type": "stream",
     "text": [
      "[MoviePy] Done.\n",
      "7neTf2M2yNA\n",
      "95\n",
      "[MoviePy] Writing audio in C:/Users/Ankit/Documents/wpi/cs525/video_data/videos/ad_data\\7neTf2M2yNA\\Joyful Driving – As One  2019 Mazda3  Mazda USA.wav\n"
     ]
    },
    {
     "name": "stderr",
     "output_type": "stream",
     "text": [
      "\n",
      "  0%|                                                 | 0/1434 [00:00<?, ?it/s]\n",
      "  2%|▊                                       | 28/1434 [00:00<00:24, 58.21it/s]\n",
      "  8%|███▎                                   | 121/1434 [00:00<00:16, 80.98it/s]\n",
      " 18%|██████▋                               | 254/1434 [00:00<00:10, 112.32it/s]\n",
      " 28%|██████████▊                           | 407/1434 [00:00<00:06, 150.91it/s]\n",
      " 36%|█████████████▊                        | 523/1434 [00:00<00:04, 204.20it/s]\n",
      " 46%|█████████████████▌                    | 662/1434 [00:01<00:02, 267.00it/s]\n",
      " 53%|████████████████████▏                 | 764/1434 [00:01<00:02, 308.42it/s]\n",
      " 58%|██████████████████████▏               | 837/1434 [00:01<00:02, 240.38it/s]\n",
      " 68%|█████████████████████████▋            | 968/1434 [00:01<00:01, 315.83it/s]\n",
      " 73%|██████████████████████████▉          | 1043/1434 [00:02<00:01, 319.65it/s]\n",
      " 78%|████████████████████████████▉        | 1121/1434 [00:02<00:00, 334.45it/s]\n",
      " 88%|████████████████████████████████▋    | 1269/1434 [00:02<00:00, 435.60it/s]\n",
      "100%|█████████████████████████████████████| 1434/1434 [00:02<00:00, 561.66it/s]"
     ]
    },
    {
     "name": "stdout",
     "output_type": "stream",
     "text": [
      "[MoviePy] Done.\n",
      "7P668L9eR8Y\n",
      "96\n",
      "[MoviePy] Writing audio in C:/Users/Ankit/Documents/wpi/cs525/video_data/videos/ad_data\\7P668L9eR8Y\\A Race Car Driver + 3 Passengers + A Mascot  AMG  = Hot Laps Episode 5.wav\n"
     ]
    },
    {
     "name": "stderr",
     "output_type": "stream",
     "text": [
      "\n",
      "  0%|                                                 | 0/6328 [00:00<?, ?it/s]\n",
      "  2%|▉                                    | 154/6328 [00:00<00:04, 1539.91it/s]\n",
      "  5%|█▉                                   | 334/6328 [00:00<00:03, 1609.66it/s]\n",
      "  7%|██▍                                  | 421/6328 [00:00<00:05, 1145.70it/s]\n",
      "  9%|███▎                                 | 556/6328 [00:00<00:05, 1041.79it/s]\n",
      " 10%|███▊                                  | 639/6328 [00:00<00:06, 928.71it/s]\n",
      " 12%|████▋                                | 791/6328 [00:00<00:05, 1051.40it/s]\n",
      " 14%|█████▎                               | 910/6328 [00:00<00:05, 1066.02it/s]\n",
      " 17%|██████▏                             | 1077/6328 [00:00<00:04, 1195.75it/s]\n",
      " 19%|██████▉                             | 1228/6328 [00:01<00:03, 1275.36it/s]\n",
      " 22%|████████                            | 1416/6328 [00:01<00:03, 1395.81it/s]\n",
      " 25%|█████████▏                          | 1612/6328 [00:01<00:03, 1527.72it/s]\n",
      " 28%|██████████                          | 1773/6328 [00:01<00:04, 1056.61it/s]\n",
      " 30%|██████████▉                         | 1924/6328 [00:01<00:03, 1161.19it/s]\n",
      " 33%|███████████▋                        | 2061/6328 [00:01<00:03, 1102.26it/s]\n",
      " 35%|████████████▍                       | 2187/6328 [00:01<00:04, 1000.64it/s]\n",
      " 36%|█████████████▍                       | 2300/6328 [00:02<00:04, 887.30it/s]\n",
      " 39%|██████████████                      | 2475/6328 [00:02<00:03, 1041.29it/s]\n",
      " 42%|██████████████▉                     | 2632/6328 [00:02<00:03, 1158.30it/s]\n",
      " 44%|███████████████▋                    | 2765/6328 [00:02<00:03, 1103.01it/s]\n",
      " 46%|████████████████▉                    | 2888/6328 [00:02<00:04, 780.64it/s]\n",
      " 47%|█████████████████▍                   | 2988/6328 [00:02<00:04, 807.28it/s]\n",
      " 49%|██████████████████                   | 3085/6328 [00:02<00:04, 700.80it/s]\n",
      " 50%|██████████████████▌                  | 3185/6328 [00:03<00:04, 745.78it/s]\n",
      " 53%|███████████████████▌                 | 3336/6328 [00:03<00:03, 763.27it/s]\n",
      " 54%|███████████████████▉                 | 3420/6328 [00:03<00:04, 700.35it/s]\n",
      " 55%|████████████████████▍                | 3497/6328 [00:03<00:04, 578.67it/s]\n",
      " 56%|████████████████████▊                | 3569/6328 [00:03<00:04, 614.87it/s]\n",
      " 57%|█████████████████████▎               | 3637/6328 [00:03<00:04, 629.53it/s]\n",
      " 59%|█████████████████████▋               | 3705/6328 [00:03<00:05, 485.31it/s]\n",
      " 60%|██████████████████████▏              | 3791/6328 [00:04<00:04, 540.39it/s]\n",
      " 62%|██████████████████████▊              | 3892/6328 [00:04<00:04, 500.90it/s]\n",
      " 62%|███████████████████████              | 3948/6328 [00:04<00:04, 495.31it/s]\n",
      " 64%|███████████████████████▋             | 4050/6328 [00:04<00:03, 585.69it/s]\n",
      " 66%|████████████████████████▏            | 4145/6328 [00:04<00:03, 625.23it/s]\n",
      " 67%|████████████████████████▊            | 4246/6328 [00:04<00:03, 607.77it/s]\n",
      " 68%|█████████████████████████▏           | 4313/6328 [00:04<00:03, 579.74it/s]\n",
      " 70%|█████████████████████████▋           | 4398/6328 [00:05<00:03, 541.62it/s]\n",
      " 70%|██████████████████████████           | 4456/6328 [00:05<00:03, 529.86it/s]\n",
      " 71%|██████████████████████████▍          | 4512/6328 [00:05<00:04, 375.88it/s]\n",
      " 72%|██████████████████████████▋          | 4558/6328 [00:05<00:04, 384.72it/s]\n",
      " 73%|███████████████████████████▏         | 4651/6328 [00:05<00:04, 392.37it/s]\n",
      " 74%|███████████████████████████▍         | 4701/6328 [00:06<00:05, 303.39it/s]\n",
      " 75%|███████████████████████████▊         | 4752/6328 [00:06<00:04, 338.48it/s]\n",
      " 77%|████████████████████████████▍        | 4853/6328 [00:06<00:04, 368.24it/s]\n",
      " 77%|████████████████████████████▋        | 4903/6328 [00:06<00:04, 297.18it/s]\n",
      " 79%|█████████████████████████████▎       | 5004/6328 [00:06<00:03, 334.31it/s]\n",
      " 80%|█████████████████████████████▌       | 5055/6328 [00:06<00:03, 369.60it/s]\n",
      " 81%|█████████████████████████████▊       | 5106/6328 [00:07<00:03, 380.33it/s]\n",
      " 81%|██████████████████████████████       | 5148/6328 [00:07<00:03, 350.28it/s]\n",
      " 82%|██████████████████████████████▍      | 5207/6328 [00:07<00:02, 388.65it/s]\n",
      " 84%|███████████████████████████████      | 5308/6328 [00:07<00:02, 459.06it/s]\n",
      " 85%|███████████████████████████████▎     | 5362/6328 [00:07<00:02, 455.14it/s]\n",
      " 87%|████████████████████████████████     | 5492/6328 [00:07<00:01, 565.37it/s]\n",
      " 89%|████████████████████████████████▊    | 5610/6328 [00:07<00:01, 670.07it/s]\n",
      " 91%|█████████████████████████████████▋   | 5763/6328 [00:08<00:00, 720.55it/s]\n",
      " 93%|██████████████████████████████████▎  | 5864/6328 [00:08<00:00, 701.28it/s]\n",
      " 94%|██████████████████████████████████▊  | 5946/6328 [00:08<00:00, 617.22it/s]\n",
      " 96%|███████████████████████████████████▍ | 6066/6328 [00:08<00:00, 710.92it/s]\n",
      " 99%|████████████████████████████████████▋| 6268/6328 [00:08<00:00, 872.20it/s]\n",
      "100%|█████████████████████████████████████| 6328/6328 [00:08<00:00, 738.26it/s]"
     ]
    },
    {
     "name": "stdout",
     "output_type": "stream",
     "text": [
      "[MoviePy] Done.\n",
      "7pHf3Rslefk\n",
      "97\n",
      "[MoviePy] Writing audio in C:/Users/Ankit/Documents/wpi/cs525/video_data/videos/ad_data\\7pHf3Rslefk\\K9 Advantix® II Kills & Repels Mosquitoes - Whats Scarier 06.wav\n"
     ]
    },
    {
     "name": "stderr",
     "output_type": "stream",
     "text": [
      "\n",
      "  0%|                                                  | 0/135 [00:00<?, ?it/s]\n",
      " 21%|████████▌                                | 28/135 [00:00<00:01, 85.62it/s]\n",
      "100%|███████████████████████████████████████| 135/135 [00:00<00:00, 335.80it/s]"
     ]
    },
    {
     "name": "stdout",
     "output_type": "stream",
     "text": [
      "[MoviePy] Done.\n",
      "7Q5nmkNxdQo\n",
      "98\n",
      "[MoviePy] Writing audio in C:/Users/Ankit/Documents/wpi/cs525/video_data/videos/ad_data\\7Q5nmkNxdQo\\Untitled Ad.wav\n"
     ]
    },
    {
     "name": "stderr",
     "output_type": "stream",
     "text": [
      "\n",
      "  0%|                                                  | 0/134 [00:00<?, ?it/s]\n",
      " 21%|████████▌                                | 28/134 [00:00<00:01, 57.97it/s]\n",
      "100%|███████████████████████████████████████| 134/134 [00:00<00:00, 233.03it/s]"
     ]
    },
    {
     "name": "stdout",
     "output_type": "stream",
     "text": [
      "[MoviePy] Done.\n",
      "7qR6iQVNm1M\n",
      "99\n",
      "[MoviePy] Writing audio in C:/Users/Ankit/Documents/wpi/cs525/video_data/videos/ad_data\\7qR6iQVNm1M\\This is Huge  Caterpillar.wav\n"
     ]
    },
    {
     "name": "stderr",
     "output_type": "stream",
     "text": [
      "\n",
      "  0%|                                                  | 0/334 [00:00<?, ?it/s]\n",
      "  8%|███▍                                     | 28/334 [00:00<00:06, 45.16it/s]\n",
      " 66%|██████████████████████████▌             | 222/334 [00:00<00:01, 63.88it/s]\n",
      "100%|███████████████████████████████████████| 334/334 [00:00<00:00, 422.23it/s]"
     ]
    },
    {
     "name": "stdout",
     "output_type": "stream",
     "text": [
      "[MoviePy] Done.\n",
      "7RXxaf_QTno\n",
      "100\n",
      "[MoviePy] Writing audio in C:/Users/Ankit/Documents/wpi/cs525/video_data/videos/ad_data\\7RXxaf_QTno\\MLB The Show 19 - Features Show Coach 15  Available Now.wav\n"
     ]
    },
    {
     "name": "stderr",
     "output_type": "stream",
     "text": [
      "\n",
      "  0%|                                                  | 0/333 [00:00<?, ?it/s]\n",
      "  8%|███▍                                     | 28/333 [00:00<00:03, 85.10it/s]\n",
      " 36%|██████████████▏                        | 121/333 [00:00<00:01, 116.99it/s]\n",
      " 92%|███████████████████████████████████▋   | 305/333 [00:00<00:00, 162.60it/s]\n",
      "100%|███████████████████████████████████████| 333/333 [00:00<00:00, 609.86it/s]"
     ]
    },
    {
     "name": "stdout",
     "output_type": "stream",
     "text": [
      "[MoviePy] Done.\n",
      "7U3Oa9PjYVo\n",
      "101\n",
      "[MoviePy] Writing audio in C:/Users/Ankit/Documents/wpi/cs525/video_data/videos/ad_data\\7U3Oa9PjYVo\\VPR_G8-Product-Overview-Innovid_VID_15_PRHR_MU_G8__NCR_NOP_NOPR_CSOAM_ENG_NC_NCOP_NCTA_..wav\n"
     ]
    },
    {
     "name": "stderr",
     "output_type": "stream",
     "text": [
      "\n",
      "  0%|                                                  | 0/333 [00:00<?, ?it/s]\n",
      " 47%|█████████████████▊                    | 156/333 [00:00<00:00, 1559.91it/s]\n",
      " 93%|███████████████████████████████████▍  | 310/333 [00:00<00:00, 1553.86it/s]\n",
      "100%|██████████████████████████████████████| 333/333 [00:00<00:00, 1570.67it/s]"
     ]
    },
    {
     "name": "stdout",
     "output_type": "stream",
     "text": [
      "[MoviePy] Done.\n",
      "7y2CY84-42A\n",
      "102\n",
      "[MoviePy] Writing audio in C:/Users/Ankit/Documents/wpi/cs525/video_data/videos/ad_data\\7y2CY84-42A\\Untitled Ad.wav\n"
     ]
    },
    {
     "name": "stderr",
     "output_type": "stream",
     "text": [
      "\n",
      "  0%|                                                  | 0/332 [00:00<?, ?it/s]\n",
      "  8%|███▎                                    | 28/332 [00:00<00:01, 259.24it/s]\n",
      " 36%|██████████████▏                        | 121/332 [00:00<00:00, 330.82it/s]\n",
      " 92%|███████████████████████████████████▊   | 305/332 [00:00<00:00, 436.61it/s]\n",
      "100%|██████████████████████████████████████| 332/332 [00:00<00:00, 1012.14it/s]"
     ]
    },
    {
     "name": "stdout",
     "output_type": "stream",
     "text": [
      "[MoviePy] Done.\n",
      "8-6HNSWzXQo\n",
      "103\n",
      "[MoviePy] Writing audio in C:/Users/Ankit/Documents/wpi/cs525/video_data/videos/ad_data\\8-6HNSWzXQo\\Ketel One Botanical  No Artificial Flavors Sweeteners Or Sugars.wav\n"
     ]
    },
    {
     "name": "stderr",
     "output_type": "stream",
     "text": [
      "\n",
      "  0%|                                                  | 0/332 [00:00<?, ?it/s]\n",
      "  8%|███▎                                    | 28/332 [00:00<00:02, 109.80it/s]\n",
      " 46%|█████████████████▊                     | 152/332 [00:00<00:01, 150.29it/s]\n",
      " 61%|███████████████████████▊               | 203/332 [00:00<00:00, 185.03it/s]\n",
      " 77%|█████████████████████████████▊         | 254/332 [00:00<00:00, 226.32it/s]\n",
      "100%|███████████████████████████████████████| 332/332 [00:00<00:00, 494.02it/s]"
     ]
    },
    {
     "name": "stdout",
     "output_type": "stream",
     "text": [
      "[MoviePy] Done.\n",
      "83cMoUddrrU\n",
      "104\n",
      "[MoviePy] Writing audio in C:/Users/Ankit/Documents/wpi/cs525/video_data/videos/ad_data\\83cMoUddrrU\\World Vision  Global 6K Run for Water.wav\n"
     ]
    },
    {
     "name": "stderr",
     "output_type": "stream",
     "text": [
      "\n",
      "  0%|                                                 | 0/1079 [00:00<?, ?it/s]\n",
      "  3%|█                                      | 28/1079 [00:00<00:09, 111.10it/s]\n",
      " 14%|█████▎                                | 152/1079 [00:00<00:06, 152.46it/s]\n",
      " 31%|███████████▉                          | 339/1079 [00:00<00:03, 210.44it/s]\n",
      " 46%|█████████████████▎                    | 492/1079 [00:00<00:02, 283.90it/s]\n",
      " 62%|███████████████████████▌              | 668/1079 [00:00<00:01, 379.34it/s]\n",
      " 76%|████████████████████████████▋         | 815/1079 [00:00<00:00, 485.05it/s]\n",
      " 92%|███████████████████████████████████▏  | 998/1079 [00:00<00:00, 622.24it/s]\n",
      "100%|████████████████████████████████████| 1079/1079 [00:00<00:00, 1183.05it/s]"
     ]
    },
    {
     "name": "stdout",
     "output_type": "stream",
     "text": [
      "[MoviePy] Done.\n",
      "84MgidMqLs8\n",
      "105\n",
      "[MoviePy] Writing audio in C:/Users/Ankit/Documents/wpi/cs525/video_data/videos/ad_data\\84MgidMqLs8\\video.wav\n"
     ]
    },
    {
     "name": "stderr",
     "output_type": "stream",
     "text": [
      "\n",
      "  0%|                                                  | 0/332 [00:00<?, ?it/s]\n",
      " 48%|██████████████████                    | 158/332 [00:00<00:00, 1579.91it/s]\n",
      " 92%|██████████████████████████████████▉   | 305/332 [00:00<00:00, 1521.23it/s]\n",
      "100%|██████████████████████████████████████| 332/332 [00:00<00:00, 1522.85it/s]"
     ]
    },
    {
     "name": "stdout",
     "output_type": "stream",
     "text": [
      "[MoviePy] Done.\n",
      "89q0pteyNd0\n",
      "106\n",
      "[MoviePy] Writing audio in C:/Users/Ankit/Documents/wpi/cs525/video_data/videos/ad_data\\89q0pteyNd0\\JCPT_WK11B_V1_Sweet Sale_GM.wav\n"
     ]
    },
    {
     "name": "stderr",
     "output_type": "stream",
     "text": [
      "\n",
      "  0%|                                                  | 0/333 [00:00<?, ?it/s]\n",
      "  8%|███▎                                    | 28/333 [00:00<00:01, 261.67it/s]\n",
      " 30%|███████████▊                           | 101/333 [00:00<00:00, 318.10it/s]\n",
      " 46%|█████████████████▊                     | 152/333 [00:00<00:00, 333.92it/s]\n",
      " 67%|██████████████████████████▏            | 224/333 [00:00<00:00, 397.93it/s]\n",
      "100%|███████████████████████████████████████| 333/333 [00:00<00:00, 644.06it/s]"
     ]
    },
    {
     "name": "stdout",
     "output_type": "stream",
     "text": [
      "[MoviePy] Done.\n",
      "8bX3_Ngm_P8\n",
      "107\n",
      "[MoviePy] Writing audio in C:/Users/Ankit/Documents/wpi/cs525/video_data/videos/ad_data\\8bX3_Ngm_P8\\REV_VAL2_Everything15_YWDH1083000H_CBS.wav\n"
     ]
    },
    {
     "name": "stderr",
     "output_type": "stream",
     "text": [
      "\n",
      "  0%|                                                  | 0/332 [00:00<?, ?it/s]\n",
      "  8%|███▎                                    | 28/332 [00:00<00:02, 145.07it/s]\n",
      " 28%|███████████▏                            | 93/332 [00:00<00:01, 163.58it/s]\n",
      " 46%|█████████████████▊                     | 152/332 [00:00<00:00, 202.84it/s]\n",
      " 92%|███████████████████████████████████▊   | 305/332 [00:00<00:00, 271.71it/s]\n",
      "100%|███████████████████████████████████████| 332/332 [00:00<00:00, 454.77it/s]"
     ]
    },
    {
     "name": "stdout",
     "output_type": "stream",
     "text": [
      "[MoviePy] Done.\n",
      "8ciXFWwL0OQ\n",
      "108\n",
      "[MoviePy] Writing audio in C:/Users/Ankit/Documents/wpi/cs525/video_data/videos/ad_data\\8ciXFWwL0OQ\\California Air Tools 10020C.wav\n"
     ]
    },
    {
     "name": "stderr",
     "output_type": "stream",
     "text": [
      "\n",
      "  0%|                                                 | 0/3956 [00:00<?, ?it/s]\n",
      "  1%|▎                                       | 28/3956 [00:00<00:46, 83.58it/s]\n",
      "  4%|█▌                                    | 169/3956 [00:00<00:32, 116.44it/s]\n",
      "  8%|███                                   | 325/3956 [00:00<00:22, 161.18it/s]\n",
      " 13%|████▉                                 | 509/3956 [00:00<00:15, 221.53it/s]\n",
      " 16%|█████▉                                | 616/3956 [00:00<00:12, 275.41it/s]\n",
      " 19%|███████▍                              | 771/3956 [00:00<00:08, 365.60it/s]\n",
      " 22%|████████▍                             | 884/3956 [00:01<00:07, 430.38it/s]\n",
      " 25%|█████████▍                            | 985/3956 [00:01<00:06, 424.77it/s]\n",
      " 27%|██████████                           | 1070/3956 [00:01<00:05, 492.82it/s]\n",
      " 31%|███████████▍                         | 1223/3956 [00:01<00:04, 616.38it/s]\n",
      " 33%|████████████▍                        | 1325/3956 [00:01<00:05, 513.48it/s]\n",
      " 37%|█████████████▊                       | 1478/3956 [00:01<00:04, 618.74it/s]\n",
      " 40%|██████████████▊                      | 1580/3956 [00:02<00:03, 684.57it/s]\n",
      " 44%|████████████████▏                    | 1736/3956 [00:02<00:02, 823.14it/s]\n",
      " 48%|█████████████████▊                   | 1904/3956 [00:02<00:02, 971.84it/s]\n",
      " 52%|███████████████████                  | 2039/3956 [00:02<00:02, 853.66it/s]\n",
      " 55%|████████████████████▍                | 2182/3956 [00:02<00:01, 971.06it/s]\n",
      " 58%|█████████████████████▌               | 2302/3956 [00:02<00:01, 958.43it/s]\n",
      " 61%|██████████████████████▌              | 2414/3956 [00:02<00:01, 904.66it/s]\n",
      " 66%|███████████████████████▋            | 2600/3956 [00:02<00:01, 1067.60it/s]\n",
      " 71%|█████████████████████████▌          | 2804/3956 [00:03<00:00, 1238.92it/s]\n",
      " 75%|██████████████████████████▉         | 2957/3956 [00:03<00:00, 1166.61it/s]\n",
      " 78%|████████████████████████████▉        | 3092/3956 [00:03<00:00, 999.95it/s]\n",
      " 82%|█████████████████████████████▋      | 3263/3956 [00:03<00:00, 1142.22it/s]\n",
      " 87%|███████████████████████████████▎    | 3444/3956 [00:03<00:00, 1284.37it/s]\n",
      " 91%|████████████████████████████████▋   | 3592/3956 [00:03<00:00, 1298.65it/s]\n",
      " 94%|█████████████████████████████████▉  | 3736/3956 [00:03<00:00, 1330.61it/s]\n",
      " 98%|███████████████████████████████████▎| 3879/3956 [00:03<00:00, 1138.25it/s]\n",
      "100%|█████████████████████████████████████| 3956/3956 [00:04<00:00, 980.61it/s]"
     ]
    },
    {
     "name": "stdout",
     "output_type": "stream",
     "text": [
      "[MoviePy] Done.\n",
      "8eazvKpPsMo\n",
      "109\n",
      "[MoviePy] Writing audio in C:/Users/Ankit/Documents/wpi/cs525/video_data/videos/ad_data\\8eazvKpPsMo\\YT Moments03 PotsPans.wav\n"
     ]
    },
    {
     "name": "stderr",
     "output_type": "stream",
     "text": [
      "\n",
      "  0%|                                                 | 0/2315 [00:00<?, ?it/s]\n",
      "  1%|▍                                      | 28/2315 [00:00<00:17, 129.02it/s]\n",
      "  8%|██▊                                   | 175/2315 [00:00<00:12, 177.64it/s]\n",
      " 15%|█████▊                                | 356/2315 [00:00<00:08, 238.43it/s]\n",
      " 21%|███████▊                              | 478/2315 [00:00<00:05, 314.28it/s]\n",
      " 29%|██████████▊                           | 662/2315 [00:00<00:03, 418.35it/s]\n",
      " 35%|█████████████▍                        | 815/2315 [00:00<00:02, 506.78it/s]\n",
      " 42%|████████████████                      | 978/2315 [00:00<00:02, 638.84it/s]\n",
      " 48%|█████████████████▉                   | 1121/2315 [00:01<00:01, 758.65it/s]\n",
      " 54%|███████████████████▉                 | 1250/2315 [00:01<00:01, 856.98it/s]\n",
      " 62%|██████████████████████▏             | 1427/2315 [00:01<00:00, 1010.39it/s]\n",
      " 68%|█████████████████████████            | 1568/2315 [00:01<00:00, 915.06it/s]\n",
      " 75%|███████████████████████████▋         | 1733/2315 [00:01<00:00, 934.19it/s]\n",
      " 80%|█████████████████████████████▌       | 1848/2315 [00:01<00:00, 903.57it/s]\n",
      " 84%|███████████████████████████████▏     | 1954/2315 [00:01<00:00, 742.70it/s]\n",
      " 90%|█████████████████████████████████▍   | 2092/2315 [00:02<00:00, 862.14it/s]\n",
      " 99%|███████████████████████████████████▋| 2294/2315 [00:02<00:00, 1041.17it/s]\n",
      "100%|████████████████████████████████████| 2315/2315 [00:02<00:00, 1080.20it/s]"
     ]
    },
    {
     "name": "stdout",
     "output_type": "stream",
     "text": [
      "[MoviePy] Done.\n",
      "8eLKvBjAKq0\n",
      "110\n",
      "[MoviePy] Writing audio in C:/Users/Ankit/Documents/wpi/cs525/video_data/videos/ad_data\\8eLKvBjAKq0\\Untitled Ad.wav\n"
     ]
    },
    {
     "name": "stderr",
     "output_type": "stream",
     "text": [
      "\n",
      "  0%|                                                  | 0/332 [00:00<?, ?it/s]\n",
      " 37%|██████████████▏                       | 124/332 [00:00<00:00, 1239.93it/s]\n",
      " 92%|███████████████████████████████████▏  | 307/332 [00:00<00:00, 1372.70it/s]\n",
      "100%|██████████████████████████████████████| 332/332 [00:00<00:00, 1565.95it/s]"
     ]
    },
    {
     "name": "stdout",
     "output_type": "stream",
     "text": [
      "[MoviePy] Done.\n",
      "8hoec0Kfv7w\n",
      "111\n",
      "[MoviePy] Writing audio in C:/Users/Ankit/Documents/wpi/cs525/video_data/videos/ad_data\\8hoec0Kfv7w\\sundaycandy_shredder_06_att_wm.wav\n"
     ]
    },
    {
     "name": "stderr",
     "output_type": "stream",
     "text": [
      "\n",
      "  0%|                                                  | 0/133 [00:00<?, ?it/s]\n",
      " 76%|█████████████████████████████▌         | 101/133 [00:00<00:00, 971.10it/s]\n",
      "100%|██████████████████████████████████████| 133/133 [00:00<00:00, 1108.27it/s]"
     ]
    },
    {
     "name": "stdout",
     "output_type": "stream",
     "text": [
      "[MoviePy] Done.\n",
      "8uHsUzlP9ws\n",
      "112\n",
      "[MoviePy] Writing audio in C:/Users/Ankit/Documents/wpi/cs525/video_data/videos/ad_data\\8uHsUzlP9ws\\Grower Daughters 15.wav\n"
     ]
    },
    {
     "name": "stderr",
     "output_type": "stream",
     "text": [
      "\n",
      "  0%|                                                  | 0/332 [00:00<?, ?it/s]\n",
      "  8%|███▎                                    | 28/332 [00:00<00:02, 103.32it/s]\n",
      " 46%|█████████████████▊                     | 152/332 [00:00<00:01, 141.67it/s]\n",
      " 95%|█████████████████████████████████████  | 316/332 [00:00<00:00, 195.17it/s]\n",
      "100%|███████████████████████████████████████| 332/332 [00:00<00:00, 667.97it/s]"
     ]
    },
    {
     "name": "stdout",
     "output_type": "stream",
     "text": [
      "[MoviePy] Done.\n",
      "8uOffA_-xCk\n",
      "113\n",
      "[MoviePy] Writing audio in C:/Users/Ankit/Documents/wpi/cs525/video_data/videos/ad_data\\8uOffA_-xCk\\100832781-1_NBCSG Portfolio [All Platform] Video..wav\n"
     ]
    },
    {
     "name": "stderr",
     "output_type": "stream",
     "text": [
      "\n",
      "  0%|                                                  | 0/332 [00:00<?, ?it/s]\n",
      "  8%|███▎                                    | 28/332 [00:00<00:02, 111.55it/s]\n",
      " 61%|███████████████████████▊               | 203/332 [00:00<00:00, 154.95it/s]\n",
      "100%|███████████████████████████████████████| 332/332 [00:00<00:00, 786.68it/s]"
     ]
    },
    {
     "name": "stdout",
     "output_type": "stream",
     "text": [
      "[MoviePy] Done.\n",
      "8WESWXhxkBk\n",
      "114\n",
      "[MoviePy] Writing audio in C:/Users/Ankit/Documents/wpi/cs525/video_data/videos/ad_data\\8WESWXhxkBk\\PFCH9024000H_Slow_Turkey_Pricing_45_hulu_innovid_nbc_cbs_mezz.wav\n"
     ]
    },
    {
     "name": "stderr",
     "output_type": "stream",
     "text": [
      "\n",
      "  0%|                                                  | 0/994 [00:00<?, ?it/s]\n",
      "  3%|█▏                                       | 28/994 [00:00<00:10, 95.56it/s]\n",
      " 20%|███████▉                               | 203/994 [00:00<00:05, 133.18it/s]\n",
      " 36%|█████████████▉                         | 356/994 [00:00<00:03, 181.77it/s]\n",
      " 53%|████████████████████▋                  | 527/994 [00:00<00:01, 248.36it/s]\n",
      " 63%|████████████████████████▋              | 630/994 [00:00<00:01, 313.07it/s]\n",
      " 82%|███████████████████████████████▊       | 811/994 [00:00<00:00, 416.37it/s]\n",
      " 94%|████████████████████████████████████▌  | 933/994 [00:00<00:00, 516.28it/s]\n",
      "100%|██████████████████████████████████████| 994/994 [00:00<00:00, 1001.96it/s]"
     ]
    },
    {
     "name": "stdout",
     "output_type": "stream",
     "text": [
      "[MoviePy] Done.\n",
      "90aoDyHWkEI\n",
      "115\n",
      "[MoviePy] Writing audio in C:/Users/Ankit/Documents/wpi/cs525/video_data/videos/ad_data\\90aoDyHWkEI\\League of Legends - as told by DaveC.wav\n"
     ]
    },
    {
     "name": "stderr",
     "output_type": "stream",
     "text": [
      "\n",
      "  0%|                                                 | 0/2287 [00:00<?, ?it/s]\n",
      "  1%|▍                                      | 28/2287 [00:00<00:17, 129.02it/s]\n",
      "  6%|██▎                                   | 138/2287 [00:00<00:12, 175.50it/s]\n",
      " 11%|████                                  | 242/2287 [00:00<00:08, 233.80it/s]\n",
      " 18%|██████▊                               | 409/2287 [00:00<00:05, 315.10it/s]\n",
      " 27%|██████████▏                           | 611/2287 [00:00<00:03, 420.09it/s]\n",
      " 35%|█████████████▍                        | 810/2287 [00:00<00:02, 550.33it/s]\n",
      " 43%|████████████████▎                     | 985/2287 [00:00<00:01, 692.81it/s]\n",
      " 51%|██████████████████▉                  | 1172/2287 [00:00<00:01, 854.11it/s]\n",
      " 60%|█████████████████████▋              | 1376/2287 [00:01<00:00, 1026.70it/s]\n",
      " 69%|████████████████████████▊           | 1574/2287 [00:01<00:00, 1200.02it/s]\n",
      " 77%|███████████████████████████▋        | 1755/2287 [00:01<00:00, 1332.03it/s]\n",
      " 85%|██████████████████████████████▍     | 1935/2287 [00:01<00:00, 1414.04it/s]\n",
      " 92%|█████████████████████████████████▏  | 2111/2287 [00:01<00:00, 1491.17it/s]\n",
      "100%|████████████████████████████████████| 2287/2287 [00:01<00:00, 1494.69it/s]"
     ]
    },
    {
     "name": "stdout",
     "output_type": "stream",
     "text": [
      "[MoviePy] Done.\n",
      "9ciTBHZAOkg\n",
      "116\n",
      "[MoviePy] Writing audio in C:/Users/Ankit/Documents/wpi/cs525/video_data/videos/ad_data\\9ciTBHZAOkg\\YWET2630000H_NAT_FND_PowerTrip_VID_ConNasPRoll_Reactive_WorkingFootage_PowerTrip_CondeNast.wav\n"
     ]
    },
    {
     "name": "stderr",
     "output_type": "stream",
     "text": [
      "\n",
      "  0%|                                                  | 0/332 [00:00<?, ?it/s]\n",
      " 48%|██████████████████▎                   | 160/332 [00:00<00:00, 1599.91it/s]\n",
      " 90%|██████████████████████████████████▏   | 299/332 [00:00<00:00, 1530.54it/s]\n",
      "100%|██████████████████████████████████████| 332/332 [00:00<00:00, 1495.41it/s]"
     ]
    },
    {
     "name": "stdout",
     "output_type": "stream",
     "text": [
      "[MoviePy] Done.\n",
      "9G4AFYTKCWE\n",
      "117\n",
      "[MoviePy] Writing audio in C:/Users/Ankit/Documents/wpi/cs525/video_data/videos/ad_data\\9G4AFYTKCWE\\Ember Mug 14 oz - 15s.wav\n"
     ]
    },
    {
     "name": "stderr",
     "output_type": "stream",
     "text": [
      "\n",
      "  0%|                                                  | 0/376 [00:00<?, ?it/s]\n",
      " 12%|████▋                                   | 44/376 [00:00<00:00, 439.97it/s]\n",
      " 54%|█████████████████████                  | 203/376 [00:00<00:00, 559.52it/s]\n",
      "100%|██████████████████████████████████████| 376/376 [00:00<00:00, 1319.22it/s]"
     ]
    },
    {
     "name": "stdout",
     "output_type": "stream",
     "text": [
      "[MoviePy] Done.\n",
      "9GzPlzEPyuo\n",
      "118\n",
      "[MoviePy] Writing audio in C:/Users/Ankit/Documents/wpi/cs525/video_data/videos/ad_data\\9GzPlzEPyuo\\Find Homes Faster.wav\n"
     ]
    },
    {
     "name": "stderr",
     "output_type": "stream",
     "text": [
      "\n",
      "  0%|                                                  | 0/288 [00:00<?, ?it/s]\n",
      " 35%|█████████████▋                         | 101/288 [00:00<00:00, 971.10it/s]\n",
      "100%|██████████████████████████████████████| 288/288 [00:00<00:00, 1132.66it/s]"
     ]
    },
    {
     "name": "stdout",
     "output_type": "stream",
     "text": [
      "[MoviePy] Done.\n",
      "9JnZrOGsTUM\n",
      "119\n",
      "[MoviePy] Writing audio in C:/Users/Ankit/Documents/wpi/cs525/video_data/videos/ad_data\\9JnZrOGsTUM\\SPNT_YEFS1083000H_apple_unlimited_vi_mp4_16x9_15_naga_baby.wav\n"
     ]
    },
    {
     "name": "stderr",
     "output_type": "stream",
     "text": [
      "\n",
      "  0%|                                                  | 0/333 [00:00<?, ?it/s]\n",
      "  8%|███▍                                     | 28/333 [00:00<00:04, 63.06it/s]\n",
      " 30%|████████████▏                           | 101/333 [00:00<00:02, 86.34it/s]\n",
      " 89%|██████████████████████████████████▊    | 297/333 [00:00<00:00, 121.06it/s]\n",
      "100%|███████████████████████████████████████| 333/333 [00:00<00:00, 485.39it/s]"
     ]
    },
    {
     "name": "stdout",
     "output_type": "stream",
     "text": [
      "[MoviePy] Done.\n",
      "9O--FnOA8i0\n",
      "120\n",
      "[MoviePy] Writing audio in C:/Users/Ankit/Documents/wpi/cs525/video_data/videos/ad_data\\9O--FnOA8i0\\Untitled Ad.wav\n"
     ]
    },
    {
     "name": "stderr",
     "output_type": "stream",
     "text": [
      "\n",
      "  0%|                                                  | 0/332 [00:00<?, ?it/s]\n",
      "  8%|███▎                                    | 28/332 [00:00<00:01, 261.67it/s]\n",
      " 30%|███████████▊                           | 101/332 [00:00<00:00, 318.52it/s]\n",
      " 68%|██████████████████████████▋            | 227/332 [00:00<00:00, 410.54it/s]\n",
      " 92%|███████████████████████████████████▉   | 306/332 [00:00<00:00, 479.66it/s]\n",
      "100%|███████████████████████████████████████| 332/332 [00:00<00:00, 766.70it/s]"
     ]
    },
    {
     "name": "stdout",
     "output_type": "stream",
     "text": [
      "[MoviePy] Done.\n",
      "9oJ_9FugLcY\n",
      "121\n",
      "[MoviePy] Writing audio in C:/Users/Ankit/Documents/wpi/cs525/video_data/videos/ad_data\\9oJ_9FugLcY\\The Dyehard Fan  Guard Your Fandom™  Right Guard®.wav\n"
     ]
    },
    {
     "name": "stderr",
     "output_type": "stream",
     "text": [
      "\n",
      "  0%|                                                  | 0/133 [00:00<?, ?it/s]\n",
      " 21%|████████▍                               | 28/133 [00:00<00:00, 170.72it/s]\n",
      "100%|███████████████████████████████████████| 133/133 [00:00<00:00, 565.92it/s]"
     ]
    },
    {
     "name": "stdout",
     "output_type": "stream",
     "text": [
      "[MoviePy] Done.\n",
      "9PPbMHw77Lk\n",
      "122\n",
      "[MoviePy] Writing audio in C:/Users/Ankit/Documents/wpi/cs525/video_data/videos/ad_data\\9PPbMHw77Lk\\Skechers D’Lites 30 Dance commercial.wav\n"
     ]
    },
    {
     "name": "stderr",
     "output_type": "stream",
     "text": [
      "\n",
      "  0%|                                                  | 0/332 [00:00<?, ?it/s]\n",
      " 31%|███████████▋                          | 102/332 [00:00<00:00, 1019.94it/s]\n",
      " 61%|███████████████████████▊               | 203/332 [00:00<00:00, 924.74it/s]\n",
      " 97%|█████████████████████████████████████▊ | 322/332 [00:00<00:00, 991.00it/s]\n",
      "100%|███████████████████████████████████████| 332/332 [00:00<00:00, 976.41it/s]"
     ]
    },
    {
     "name": "stdout",
     "output_type": "stream",
     "text": [
      "[MoviePy] Done.\n",
      "9VMF4uHRlb4\n",
      "123\n",
      "[MoviePy] Writing audio in C:/Users/Ankit/Documents/wpi/cs525/video_data/videos/ad_data\\9VMF4uHRlb4\\Beth Israel Lahey Health - Community TV (30).wav\n"
     ]
    },
    {
     "name": "stderr",
     "output_type": "stream",
     "text": [
      "\n",
      "  0%|                                                  | 0/663 [00:00<?, ?it/s]\n",
      "  9%|███▍                                    | 57/663 [00:00<00:01, 569.97it/s]\n",
      " 36%|██████████████▏                        | 241/663 [00:00<00:00, 718.81it/s]\n",
      " 53%|████████████████████▊                  | 354/663 [00:00<00:00, 806.88it/s]\n",
      " 79%|██████████████████████████████▉        | 527/663 [00:00<00:00, 960.66it/s]\n",
      "100%|██████████████████████████████████████| 663/663 [00:00<00:00, 1413.57it/s]"
     ]
    },
    {
     "name": "stdout",
     "output_type": "stream",
     "text": [
      "[MoviePy] Done.\n",
      "9xps7ngE5jM\n",
      "124\n",
      "[MoviePy] Writing audio in C:/Users/Ankit/Documents/wpi/cs525/video_data/videos/ad_data\\9xps7ngE5jM\\Dave & Busters l Star Trek Kids Virtual Reality Game.wav\n"
     ]
    },
    {
     "name": "stderr",
     "output_type": "stream",
     "text": [
      "\n",
      "  0%|                                                  | 0/332 [00:00<?, ?it/s]\n",
      "  8%|███▍                                     | 28/332 [00:00<00:05, 57.49it/s]\n",
      " 46%|██████████████████▎                     | 152/332 [00:00<00:02, 79.57it/s]\n",
      " 61%|███████████████████████▊               | 203/332 [00:00<00:01, 104.13it/s]\n",
      " 77%|█████████████████████████████▊         | 254/332 [00:00<00:00, 134.62it/s]\n",
      "100%|███████████████████████████████████████| 332/332 [00:00<00:00, 351.67it/s]"
     ]
    },
    {
     "name": "stdout",
     "output_type": "stream",
     "text": [
      "[MoviePy] Done.\n",
      "A1tQ_zN1Djo\n",
      "125\n",
      "[MoviePy] Writing audio in C:/Users/Ankit/Documents/wpi/cs525/video_data/videos/ad_data\\A1tQ_zN1Djo\\tameimpala_findmyiphone_15_verizon_wm.wav\n"
     ]
    },
    {
     "name": "stderr",
     "output_type": "stream",
     "text": [
      "\n",
      "  0%|                                                  | 0/332 [00:00<?, ?it/s]\n",
      "  8%|███▎                                    | 28/332 [00:00<00:02, 148.93it/s]\n",
      " 69%|██████████████████████████▉            | 229/332 [00:00<00:00, 206.21it/s]\n",
      "100%|███████████████████████████████████████| 332/332 [00:00<00:00, 912.04it/s]"
     ]
    },
    {
     "name": "stdout",
     "output_type": "stream",
     "text": [
      "[MoviePy] Done.\n",
      "A1Yw0ZFnYXc\n",
      "126\n",
      "[MoviePy] Writing audio in C:/Users/Ankit/Documents/wpi/cs525/video_data/videos/ad_data\\A1Yw0ZFnYXc\\Low Commitment  Uber.wav\n"
     ]
    },
    {
     "name": "stderr",
     "output_type": "stream",
     "text": [
      "\n",
      "  0%|                                                  | 0/332 [00:00<?, ?it/s]\n",
      "  8%|███▎                                    | 28/332 [00:00<00:01, 261.67it/s]\n",
      " 30%|███████████▊                           | 101/332 [00:00<00:00, 324.03it/s]\n",
      " 74%|████████████████████████████▉          | 246/332 [00:00<00:00, 422.44it/s]\n",
      " 93%|████████████████████████████████████▎  | 309/332 [00:00<00:00, 420.01it/s]\n",
      "100%|███████████████████████████████████████| 332/332 [00:00<00:00, 704.84it/s]"
     ]
    },
    {
     "name": "stdout",
     "output_type": "stream",
     "text": [
      "[MoviePy] Done.\n",
      "a6leKHpFgTo\n",
      "127\n",
      "[MoviePy] Writing audio in C:/Users/Ankit/Documents/wpi/cs525/video_data/videos/ad_data\\a6leKHpFgTo\\Untitled Ad.wav\n"
     ]
    },
    {
     "name": "stderr",
     "output_type": "stream",
     "text": [
      "\n",
      "  0%|                                                  | 0/333 [00:00<?, ?it/s]\n",
      "  8%|███▎                                    | 28/333 [00:00<00:02, 139.99it/s]\n",
      " 46%|█████████████████▊                     | 152/333 [00:00<00:00, 189.97it/s]\n",
      " 92%|███████████████████████████████████▋   | 305/333 [00:00<00:00, 255.86it/s]\n",
      "100%|███████████████████████████████████████| 333/333 [00:00<00:00, 761.97it/s]"
     ]
    },
    {
     "name": "stdout",
     "output_type": "stream",
     "text": [
      "[MoviePy] Done.\n",
      "a9YsQLHGqdE\n",
      "128\n",
      "[MoviePy] Writing audio in C:/Users/Ankit/Documents/wpi/cs525/video_data/videos/ad_data\\a9YsQLHGqdE\\Lighted Footwear for Boys.wav\n"
     ]
    },
    {
     "name": "stderr",
     "output_type": "stream",
     "text": [
      "\n",
      "  0%|                                                  | 0/331 [00:00<?, ?it/s]\n",
      "  8%|███▍                                    | 28/331 [00:00<00:02, 133.33it/s]\n",
      " 46%|█████████████████▉                     | 152/331 [00:00<00:00, 181.51it/s]\n",
      " 77%|█████████████████████████████▉         | 254/331 [00:00<00:00, 240.76it/s]\n",
      "100%|███████████████████████████████████████| 331/331 [00:00<00:00, 722.67it/s]"
     ]
    },
    {
     "name": "stdout",
     "output_type": "stream",
     "text": [
      "[MoviePy] Done.\n",
      "Abnyk2-eqPY\n",
      "129\n",
      "[MoviePy] Writing audio in C:/Users/Ankit/Documents/wpi/cs525/video_data/videos/ad_data\\Abnyk2-eqPY\\Untitled Ad.wav\n"
     ]
    },
    {
     "name": "stderr",
     "output_type": "stream",
     "text": [
      "\n",
      "  0%|                                                  | 0/332 [00:00<?, ?it/s]\n",
      "  8%|███▎                                    | 28/332 [00:00<00:02, 120.68it/s]\n",
      " 46%|█████████████████▊                     | 152/332 [00:00<00:01, 156.48it/s]\n",
      " 77%|█████████████████████████████▊         | 254/332 [00:00<00:00, 208.97it/s]\n",
      "100%|███████████████████████████████████████| 332/332 [00:00<00:00, 534.59it/s]"
     ]
    },
    {
     "name": "stdout",
     "output_type": "stream",
     "text": [
      "[MoviePy] Done.\n",
      "Aeqs9OGUif0\n",
      "130\n",
      "[MoviePy] Writing audio in C:/Users/Ankit/Documents/wpi/cs525/video_data/videos/ad_data\\Aeqs9OGUif0\\J448545_HUGGIES_BOSS_DAD_V4_02192019_Youtube_VAST.wav\n"
     ]
    },
    {
     "name": "stderr",
     "output_type": "stream",
     "text": [
      "\n",
      "  0%|                                                  | 0/331 [00:00<?, ?it/s]\n",
      "  8%|███▍                                    | 28/331 [00:00<00:02, 135.26it/s]\n",
      " 46%|█████████████████▉                     | 152/331 [00:00<00:00, 184.60it/s]\n",
      " 83%|████████████████████████████████▍      | 275/331 [00:00<00:00, 247.77it/s]\n",
      "100%|███████████████████████████████████████| 331/331 [00:00<00:00, 753.94it/s]"
     ]
    },
    {
     "name": "stdout",
     "output_type": "stream",
     "text": [
      "[MoviePy] Done.\n",
      "aG-JgQkEH4g\n",
      "131\n",
      "[MoviePy] Writing audio in C:/Users/Ankit/Documents/wpi/cs525/video_data/videos/ad_data\\aG-JgQkEH4g\\From Coast to Coast Consider Canada Covered.wav\n"
     ]
    },
    {
     "name": "stderr",
     "output_type": "stream",
     "text": [
      "\n",
      "  0%|                                                  | 0/331 [00:00<?, ?it/s]\n",
      "  8%|███▍                                    | 28/331 [00:00<00:01, 256.87it/s]\n",
      " 46%|█████████████████▉                     | 152/331 [00:00<00:00, 333.22it/s]\n",
      "100%|██████████████████████████████████████| 331/331 [00:00<00:00, 1064.25it/s]"
     ]
    },
    {
     "name": "stdout",
     "output_type": "stream",
     "text": [
      "[MoviePy] Done.\n",
      "AhMCXWjYifA\n",
      "132\n",
      "[MoviePy] Writing audio in C:/Users/Ankit/Documents/wpi/cs525/video_data/videos/ad_data\\AhMCXWjYifA\\I Do 15 - GEICO Motorcycle.wav\n"
     ]
    },
    {
     "name": "stderr",
     "output_type": "stream",
     "text": [
      "\n",
      "  0%|                                                  | 0/331 [00:00<?, ?it/s]\n",
      "  8%|███▍                                    | 28/331 [00:00<00:01, 166.66it/s]\n",
      " 31%|███████████▉                           | 101/331 [00:00<00:01, 216.48it/s]\n",
      " 77%|█████████████████████████████▉         | 254/331 [00:00<00:00, 287.95it/s]\n",
      "100%|███████████████████████████████████████| 331/331 [00:00<00:00, 773.32it/s]"
     ]
    },
    {
     "name": "stdout",
     "output_type": "stream",
     "text": [
      "[MoviePy] Done.\n",
      "ak9lZHJIsFs\n",
      "133\n",
      "[MoviePy] Writing audio in C:/Users/Ankit/Documents/wpi/cs525/video_data/videos/ad_data\\ak9lZHJIsFs\\Give Your Calories One Last Dance!.wav\n"
     ]
    },
    {
     "name": "stderr",
     "output_type": "stream",
     "text": [
      "\n",
      "  0%|                                                 | 0/1014 [00:00<?, ?it/s]\n",
      "  3%|█                                       | 28/1014 [00:00<00:12, 75.88it/s]\n",
      " 20%|███████▌                              | 203/1014 [00:00<00:07, 106.28it/s]\n",
      " 34%|████████████▉                         | 345/1014 [00:00<00:04, 147.11it/s]\n",
      " 49%|██████████████████▊                   | 501/1014 [00:00<00:02, 202.00it/s]\n",
      " 60%|██████████████████████▉               | 611/1014 [00:00<00:01, 266.73it/s]\n",
      " 75%|████████████████████████████▋         | 764/1014 [00:00<00:00, 352.84it/s]\n",
      " 94%|███████████████████████████████████▌  | 950/1014 [00:00<00:00, 466.15it/s]\n",
      "100%|█████████████████████████████████████| 1014/1014 [00:01<00:00, 990.18it/s]"
     ]
    },
    {
     "name": "stdout",
     "output_type": "stream",
     "text": [
      "[MoviePy] Done.\n",
      "AkACB6eYjpM\n",
      "134\n",
      "[MoviePy] Writing audio in C:/Users/Ankit/Documents/wpi/cs525/video_data/videos/ad_data\\AkACB6eYjpM\\CS Ad 3 DT.wav\n"
     ]
    },
    {
     "name": "stderr",
     "output_type": "stream",
     "text": [
      "\n",
      "  0%|                                                 | 0/2954 [00:00<?, ?it/s]\n",
      "  1%|▍                                       | 28/2954 [00:00<00:46, 63.06it/s]\n",
      "  6%|██▏                                    | 164/2954 [00:00<00:31, 88.33it/s]\n",
      " 10%|███▋                                  | 290/2954 [00:00<00:21, 122.50it/s]\n",
      " 16%|█████▉                                | 458/2954 [00:00<00:14, 169.29it/s]\n",
      " 21%|███████▊                              | 611/2954 [00:00<00:10, 224.10it/s]\n",
      " 27%|██████████▏                           | 792/2954 [00:01<00:07, 304.01it/s]\n",
      " 33%|████████████▍                         | 968/2954 [00:01<00:04, 402.97it/s]\n",
      " 38%|██████████████                       | 1121/2954 [00:01<00:03, 514.15it/s]\n",
      " 45%|████████████████▌                    | 1325/2954 [00:01<00:02, 659.04it/s]\n",
      " 52%|███████████████████▏                 | 1529/2954 [00:01<00:01, 818.03it/s]\n",
      " 57%|█████████████████████▏               | 1693/2954 [00:01<00:01, 947.76it/s]\n",
      " 63%|██████████████████████▊             | 1875/2954 [00:01<00:00, 1106.90it/s]\n",
      " 69%|████████████████████████▉           | 2042/2954 [00:01<00:00, 1191.90it/s]\n",
      " 75%|███████████████████████████         | 2222/2954 [00:01<00:00, 1326.30it/s]\n",
      " 81%|█████████████████████████████▏      | 2396/2954 [00:02<00:00, 1249.67it/s]\n",
      " 86%|███████████████████████████████▉     | 2546/2954 [00:02<00:00, 819.55it/s]\n",
      " 92%|██████████████████████████████████▏  | 2732/2954 [00:02<00:00, 984.81it/s]\n",
      " 98%|███████████████████████████████████▍| 2909/2954 [00:02<00:00, 1135.97it/s]\n",
      "100%|████████████████████████████████████| 2954/2954 [00:02<00:00, 1146.67it/s]"
     ]
    },
    {
     "name": "stdout",
     "output_type": "stream",
     "text": [
      "[MoviePy] Done.\n",
      "AKpcGXb59sc\n",
      "135\n",
      "[MoviePy] Writing audio in C:/Users/Ankit/Documents/wpi/cs525/video_data/videos/ad_data\\AKpcGXb59sc\\Dog Walker.wav\n"
     ]
    },
    {
     "name": "stderr",
     "output_type": "stream",
     "text": [
      "\n",
      "  0%|                                                  | 0/332 [00:00<?, ?it/s]\n",
      "  8%|███▎                                    | 28/332 [00:00<00:02, 142.12it/s]\n",
      " 30%|███████████▊                           | 101/332 [00:00<00:01, 187.40it/s]\n",
      " 74%|████████████████████████████▊          | 245/332 [00:00<00:00, 253.57it/s]\n",
      " 92%|███████████████████████████████████▉   | 306/332 [00:00<00:00, 281.89it/s]\n",
      "100%|███████████████████████████████████████| 332/332 [00:00<00:00, 582.42it/s]"
     ]
    },
    {
     "name": "stdout",
     "output_type": "stream",
     "text": [
      "[MoviePy] Done.\n",
      "AlgopZpjUj0\n",
      "136\n",
      "[MoviePy] Writing audio in C:/Users/Ankit/Documents/wpi/cs525/video_data/videos/ad_data\\AlgopZpjUj0\\To The End_5 Days_-23_15.wav\n"
     ]
    },
    {
     "name": "stderr",
     "output_type": "stream",
     "text": [
      "\n",
      "  0%|                                                  | 0/332 [00:00<?, ?it/s]\n",
      "  8%|███▍                                     | 28/332 [00:00<00:06, 47.45it/s]\n",
      " 46%|██████████████████▎                     | 152/332 [00:00<00:02, 66.61it/s]\n",
      " 77%|██████████████████████████████▌         | 254/332 [00:00<00:00, 92.54it/s]\n",
      "100%|███████████████████████████████████████| 332/332 [00:00<00:00, 396.63it/s]"
     ]
    },
    {
     "name": "stdout",
     "output_type": "stream",
     "text": [
      "[MoviePy] Done.\n",
      "ANEpbxivlLU\n",
      "137\n",
      "[MoviePy] Writing audio in C:/Users/Ankit/Documents/wpi/cs525/video_data/videos/ad_data\\ANEpbxivlLU\\Soul Red Crystal – Artful Design  2019 Mazda3  Mazda USA.wav\n"
     ]
    },
    {
     "name": "stderr",
     "output_type": "stream",
     "text": [
      "\n",
      "  0%|                                                  | 0/332 [00:00<?, ?it/s]\n",
      "  8%|███▍                                     | 28/332 [00:00<00:03, 96.88it/s]\n",
      " 46%|█████████████████▊                     | 152/332 [00:00<00:01, 133.87it/s]\n",
      "100%|███████████████████████████████████████| 332/332 [00:00<00:00, 688.76it/s]"
     ]
    },
    {
     "name": "stdout",
     "output_type": "stream",
     "text": [
      "[MoviePy] Done.\n",
      "aOC3tPwF0bs\n",
      "138\n",
      "[MoviePy] Writing audio in C:/Users/Ankit/Documents/wpi/cs525/video_data/videos/ad_data\\aOC3tPwF0bs\\Skechers Heart Lights commercial.wav\n"
     ]
    },
    {
     "name": "stderr",
     "output_type": "stream",
     "text": [
      "\n",
      "  0%|                                                  | 0/331 [00:00<?, ?it/s]\n",
      "  8%|███▍                                     | 28/331 [00:00<00:03, 87.77it/s]\n",
      " 46%|█████████████████▉                     | 152/331 [00:00<00:01, 120.03it/s]\n",
      " 92%|███████████████████████████████████▊   | 304/331 [00:00<00:00, 165.86it/s]\n",
      "100%|███████████████████████████████████████| 331/331 [00:00<00:00, 564.81it/s]"
     ]
    },
    {
     "name": "stdout",
     "output_type": "stream",
     "text": [
      "[MoviePy] Done.\n",
      "AREJhfNqQVI\n",
      "139\n",
      "[MoviePy] Writing audio in C:/Users/Ankit/Documents/wpi/cs525/video_data/videos/ad_data\\AREJhfNqQVI\\Lightroom Geometry Tool  Adobe Creative Cloud.wav\n"
     ]
    },
    {
     "name": "stderr",
     "output_type": "stream",
     "text": [
      "\n",
      "  0%|                                                  | 0/332 [00:00<?, ?it/s]\n",
      "  8%|███▎                                    | 28/332 [00:00<00:01, 241.37it/s]\n",
      " 61%|███████████████████████▌               | 201/332 [00:00<00:00, 325.35it/s]\n",
      "100%|██████████████████████████████████████| 332/332 [00:00<00:00, 1140.83it/s]"
     ]
    },
    {
     "name": "stdout",
     "output_type": "stream",
     "text": [
      "[MoviePy] Done.\n",
      "auKV78saErw\n",
      "140\n",
      "[MoviePy] Writing audio in C:/Users/Ankit/Documents/wpi/cs525/video_data/videos/ad_data\\auKV78saErw\\12_HKCT9339000H_Spring_19_Civic_Civic_Type_R_TCR_15.wav\n"
     ]
    },
    {
     "name": "stderr",
     "output_type": "stream",
     "text": [
      "\n",
      "  0%|                                                  | 0/332 [00:00<?, ?it/s]\n",
      "  8%|███▍                                     | 28/332 [00:00<00:07, 40.52it/s]\n",
      " 46%|██████████████████▎                     | 152/332 [00:00<00:03, 56.76it/s]\n",
      " 92%|████████████████████████████████████▋   | 305/332 [00:00<00:00, 79.82it/s]\n",
      "100%|███████████████████████████████████████| 332/332 [00:00<00:00, 351.30it/s]"
     ]
    },
    {
     "name": "stdout",
     "output_type": "stream",
     "text": [
      "[MoviePy] Done.\n",
      "azvR__GRQic\n",
      "141\n",
      "[MoviePy] Writing audio in C:/Users/Ankit/Documents/wpi/cs525/video_data/videos/ad_data\\azvR__GRQic\\Dark Phoenix  Final Trailer [HD]  20th Century FOX.wav\n"
     ]
    },
    {
     "name": "stderr",
     "output_type": "stream",
     "text": [
      "\n",
      "  0%|                                                 | 0/2714 [00:00<?, ?it/s]\n",
      "  1%|▍                                      | 28/2714 [00:00<00:19, 135.26it/s]\n",
      "  7%|██▍                                   | 178/2714 [00:00<00:13, 186.04it/s]\n",
      " 13%|████▉                                 | 356/2714 [00:00<00:09, 252.53it/s]\n",
      " 18%|██████▉                               | 492/2714 [00:00<00:06, 334.16it/s]\n",
      " 23%|████████▌                             | 611/2714 [00:00<00:04, 425.64it/s]\n",
      " 30%|███████████▍                          | 813/2714 [00:00<00:03, 557.69it/s]\n",
      " 37%|█████████████▉                        | 995/2714 [00:00<00:02, 704.21it/s]\n",
      " 42%|███████████████▌                     | 1143/2714 [00:01<00:02, 721.89it/s]\n",
      " 47%|█████████████████▎                   | 1270/2714 [00:01<00:02, 714.48it/s]\n",
      " 51%|██████████████████▉                  | 1393/2714 [00:01<00:01, 817.22it/s]\n",
      " 57%|█████████████████████                | 1547/2714 [00:01<00:01, 951.14it/s]\n",
      " 62%|██████████████████████▉              | 1682/2714 [00:01<00:01, 921.77it/s]\n",
      " 67%|████████████████████████            | 1816/2714 [00:01<00:00, 1016.98it/s]\n",
      " 71%|██████████████████████████▍          | 1937/2714 [00:01<00:00, 945.40it/s]\n",
      " 75%|███████████████████████████▉         | 2046/2714 [00:01<00:00, 943.65it/s]\n",
      " 81%|█████████████████████████████▏      | 2198/2714 [00:02<00:00, 1064.76it/s]\n",
      " 86%|███████████████████████████████     | 2345/2714 [00:02<00:00, 1126.06it/s]\n",
      " 91%|████████████████████████████████▋   | 2467/2714 [00:02<00:00, 1136.56it/s]\n",
      " 98%|███████████████████████████████████▎| 2666/2714 [00:02<00:00, 1304.37it/s]\n",
      "100%|████████████████████████████████████| 2714/2714 [00:02<00:00, 1147.50it/s]"
     ]
    },
    {
     "name": "stdout",
     "output_type": "stream",
     "text": [
      "[MoviePy] Done.\n",
      "A_K4Y90eu8A\n",
      "142\n",
      "[MoviePy] Writing audio in C:/Users/Ankit/Documents/wpi/cs525/video_data/videos/ad_data\\A_K4Y90eu8A\\PampersSwaddlers_FirstConnectionRev1_Video15_Preroll_Video.wav\n"
     ]
    },
    {
     "name": "stderr",
     "output_type": "stream",
     "text": [
      "\n",
      "  0%|                                                  | 0/332 [00:00<?, ?it/s]\n",
      " 30%|███████████▊                           | 101/332 [00:00<00:00, 926.56it/s]\n",
      " 83%|███████████████████████████████▋      | 277/332 [00:00<00:00, 1079.97it/s]\n",
      "100%|███████████████████████████████████████| 332/332 [00:00<00:00, 829.95it/s]"
     ]
    },
    {
     "name": "stdout",
     "output_type": "stream",
     "text": [
      "[MoviePy] Done.\n",
      "b2LU8QxnGX4\n",
      "143\n",
      "[MoviePy] Writing audio in C:/Users/Ankit/Documents/wpi/cs525/video_data/videos/ad_data\\b2LU8QxnGX4\\In-Stream Video.wav\n"
     ]
    },
    {
     "name": "stderr",
     "output_type": "stream",
     "text": [
      "\n",
      "  0%|                                                  | 0/332 [00:00<?, ?it/s]\n",
      "  8%|███▍                                     | 28/332 [00:00<00:07, 38.35it/s]\n",
      " 30%|████████████▏                           | 101/332 [00:00<00:04, 52.77it/s]\n",
      " 73%|█████████████████████████████▎          | 243/332 [00:01<00:01, 74.21it/s]\n",
      "100%|███████████████████████████████████████| 332/332 [00:01<00:00, 310.26it/s]"
     ]
    },
    {
     "name": "stdout",
     "output_type": "stream",
     "text": [
      "[MoviePy] Done.\n",
      "B37lfaz0lP8\n",
      "144\n",
      "[MoviePy] Writing audio in C:/Users/Ankit/Documents/wpi/cs525/video_data/videos/ad_data\\B37lfaz0lP8\\Call Before You Dig Video.wav\n"
     ]
    },
    {
     "name": "stderr",
     "output_type": "stream",
     "text": [
      "\n",
      "  0%|                                                  | 0/663 [00:00<?, ?it/s]\n",
      "  4%|█▋                                      | 28/663 [00:00<00:05, 110.67it/s]\n",
      " 24%|█████████▎                             | 159/663 [00:00<00:03, 152.57it/s]\n",
      " 46%|█████████████████▉                     | 305/663 [00:00<00:01, 208.08it/s]\n",
      " 70%|███████████████████████████▍           | 467/663 [00:00<00:00, 281.74it/s]\n",
      " 99%|██████████████████████████████████████▋| 658/663 [00:00<00:00, 378.56it/s]\n",
      "100%|███████████████████████████████████████| 663/663 [00:00<00:00, 990.97it/s]"
     ]
    },
    {
     "name": "stdout",
     "output_type": "stream",
     "text": [
      "[MoviePy] Done.\n",
      "B3CJnU0XIMY\n",
      "145\n",
      "[MoviePy] Writing audio in C:/Users/Ankit/Documents/wpi/cs525/video_data/videos/ad_data\\B3CJnU0XIMY\\You decide which track to take  Eurailcom.wav\n"
     ]
    },
    {
     "name": "stderr",
     "output_type": "stream",
     "text": [
      "\n",
      "  0%|                                                 | 0/1490 [00:00<?, ?it/s]\n",
      "  2%|▋                                      | 28/1490 [00:00<00:12, 115.22it/s]\n",
      "  7%|██▌                                   | 101/1490 [00:00<00:09, 151.48it/s]\n",
      " 14%|█████▏                                | 203/1490 [00:00<00:06, 194.16it/s]\n",
      " 17%|██████▍                               | 254/1490 [00:00<00:07, 174.73it/s]\n",
      " 27%|██████████▍                           | 407/1490 [00:01<00:04, 236.97it/s]\n",
      " 31%|███████████▉                          | 468/1490 [00:01<00:03, 271.60it/s]\n",
      " 35%|█████████████▎                        | 523/1490 [00:01<00:05, 175.18it/s]\n",
      " 38%|██████████████▍                       | 564/1490 [00:02<00:06, 152.00it/s]\n",
      " 41%|███████████████▌                      | 611/1490 [00:02<00:05, 159.29it/s]\n",
      " 51%|███████████████████▍                  | 764/1490 [00:02<00:03, 217.29it/s]\n",
      " 58%|██████████████████████                | 866/1490 [00:02<00:02, 283.96it/s]\n",
      " 70%|██████████████████████████           | 1048/1490 [00:02<00:01, 380.23it/s]\n",
      " 79%|█████████████████████████████        | 1172/1490 [00:02<00:00, 476.77it/s]\n",
      " 91%|█████████████████████████████████▋   | 1359/1490 [00:02<00:00, 614.01it/s]\n",
      "100%|█████████████████████████████████████| 1490/1490 [00:02<00:00, 506.09it/s]"
     ]
    },
    {
     "name": "stdout",
     "output_type": "stream",
     "text": [
      "[MoviePy] Done.\n",
      "b59ldoJ6qPM\n",
      "146\n",
      "[MoviePy] Writing audio in C:/Users/Ankit/Documents/wpi/cs525/video_data/videos/ad_data\\b59ldoJ6qPM\\In-Stream Video.wav\n"
     ]
    },
    {
     "name": "stderr",
     "output_type": "stream",
     "text": [
      "\n",
      "  0%|                                                  | 0/133 [00:00<?, ?it/s]\n",
      " 95%|████████████████████████████████████▎ | 127/133 [00:00<00:00, 1269.93it/s]\n",
      "100%|██████████████████████████████████████| 133/133 [00:00<00:00, 1254.64it/s]"
     ]
    },
    {
     "name": "stdout",
     "output_type": "stream",
     "text": [
      "[MoviePy] Done.\n",
      "b6xIk-gW_0w\n",
      "147\n",
      "[MoviePy] Writing audio in C:/Users/Ankit/Documents/wpi/cs525/video_data/videos/ad_data\\b6xIk-gW_0w\\Beyond-Announce_GS10_ECP-Creators_Camera-Overall_OLV_15_EN_N_NA_3-14_NA_Reviews-UGC_CameraLifesty…..wav\n"
     ]
    },
    {
     "name": "stderr",
     "output_type": "stream",
     "text": [
      "\n",
      "  0%|                                                  | 0/334 [00:00<?, ?it/s]\n",
      " 46%|█████████████████▎                    | 152/334 [00:00<00:00, 1519.91it/s]\n",
      " 91%|██████████████████████████████████▋   | 305/334 [00:00<00:00, 1491.72it/s]\n",
      "100%|██████████████████████████████████████| 334/334 [00:00<00:00, 1504.42it/s]"
     ]
    },
    {
     "name": "stdout",
     "output_type": "stream",
     "text": [
      "[MoviePy] Done.\n",
      "bbgXFzfoP9w\n",
      "148\n",
      "[MoviePy] Writing audio in C:/Users/Ankit/Documents/wpi/cs525/video_data/videos/ad_data\\bbgXFzfoP9w\\Maine Lobster Now.wav\n"
     ]
    },
    {
     "name": "stderr",
     "output_type": "stream",
     "text": [
      "\n",
      "  0%|                                                  | 0/331 [00:00<?, ?it/s]\n",
      " 31%|███████████▉                           | 101/331 [00:00<00:00, 926.55it/s]\n",
      " 85%|████████████████████████████████▎     | 282/331 [00:00<00:00, 1085.49it/s]\n",
      "100%|██████████████████████████████████████| 331/331 [00:00<00:00, 1384.86it/s]"
     ]
    },
    {
     "name": "stdout",
     "output_type": "stream",
     "text": [
      "[MoviePy] Done.\n",
      "bC5IKO_uiY4\n",
      "149\n",
      "[MoviePy] Writing audio in C:/Users/Ankit/Documents/wpi/cs525/video_data/videos/ad_data\\bC5IKO_uiY4\\Crossout Trailer 3 Music.wav\n"
     ]
    },
    {
     "name": "stderr",
     "output_type": "stream",
     "text": [
      "\n",
      "  0%|                                                  | 0/662 [00:00<?, ?it/s]\n",
      " 23%|████████▋                             | 152/662 [00:00<00:00, 1433.88it/s]\n",
      " 52%|███████████████████▋                  | 344/662 [00:00<00:00, 1551.72it/s]\n",
      " 76%|████████████████████████████▋         | 500/662 [00:00<00:00, 1554.17it/s]\n",
      " 92%|███████████████████████████████████▉   | 609/662 [00:01<00:00, 418.74it/s]\n",
      "100%|███████████████████████████████████████| 662/662 [00:01<00:00, 625.67it/s]"
     ]
    },
    {
     "name": "stdout",
     "output_type": "stream",
     "text": [
      "[MoviePy] Done.\n",
      "BCD1uAxfcuI\n",
      "150\n",
      "[MoviePy] Writing audio in C:/Users/Ankit/Documents/wpi/cs525/video_data/videos/ad_data\\BCD1uAxfcuI\\Judicial Motion Immigration 1920x1080 v1 Fullscreen.wav\n"
     ]
    },
    {
     "name": "stderr",
     "output_type": "stream",
     "text": [
      "\n",
      "  0%|                                                  | 0/441 [00:00<?, ?it/s]\n",
      " 23%|████████▉                              | 101/441 [00:00<00:00, 909.86it/s]\n",
      " 68%|█████████████████████████▊            | 300/441 [00:00<00:00, 1086.82it/s]\n",
      "100%|██████████████████████████████████████| 441/441 [00:00<00:00, 1515.38it/s]"
     ]
    },
    {
     "name": "stdout",
     "output_type": "stream",
     "text": [
      "[MoviePy] Done.\n",
      "bcgmDkywMA0\n",
      "151\n",
      "[MoviePy] Writing audio in C:/Users/Ankit/Documents/wpi/cs525/video_data/videos/ad_data\\bcgmDkywMA0\\tameimpala_safarireader_15_att_wm.wav\n"
     ]
    },
    {
     "name": "stderr",
     "output_type": "stream",
     "text": [
      "\n",
      "  0%|                                                  | 0/332 [00:00<?, ?it/s]\n",
      " 30%|███████████▊                           | 101/332 [00:00<00:00, 990.14it/s]\n",
      " 84%|███████████████████████████████▉      | 279/332 [00:00<00:00, 1142.18it/s]\n",
      "100%|██████████████████████████████████████| 332/332 [00:00<00:00, 1437.15it/s]"
     ]
    },
    {
     "name": "stdout",
     "output_type": "stream",
     "text": [
      "[MoviePy] Done.\n",
      "bcuMeDqJtnU\n",
      "152\n",
      "[MoviePy] Writing audio in C:/Users/Ankit/Documents/wpi/cs525/video_data/videos/ad_data\\bcuMeDqJtnU\\Groupon 2018 Commercial with Tiffany Haddish Mani-Pedi.wav\n"
     ]
    },
    {
     "name": "stderr",
     "output_type": "stream",
     "text": [
      "\n",
      "  0%|                                                  | 0/133 [00:00<?, ?it/s]\n",
      " 21%|████████▍                               | 28/133 [00:00<00:00, 113.35it/s]\n",
      " 76%|█████████████████████████████▌         | 101/133 [00:00<00:00, 144.01it/s]\n",
      "100%|███████████████████████████████████████| 133/133 [00:00<00:00, 287.24it/s]"
     ]
    },
    {
     "name": "stdout",
     "output_type": "stream",
     "text": [
      "[MoviePy] Done.\n",
      "bdT8rph1vc8\n",
      "153\n",
      "[MoviePy] Writing audio in C:/Users/Ankit/Documents/wpi/cs525/video_data/videos/ad_data\\bdT8rph1vc8\\In-Stream Video.wav\n"
     ]
    },
    {
     "name": "stderr",
     "output_type": "stream",
     "text": [
      "\n",
      "  0%|                                                  | 0/332 [00:00<?, ?it/s]\n",
      " 13%|█████▏                                  | 43/332 [00:00<00:00, 429.98it/s]\n",
      " 46%|█████████████████▊                     | 152/332 [00:00<00:00, 511.37it/s]\n",
      "100%|██████████████████████████████████████| 332/332 [00:00<00:00, 1060.64it/s]"
     ]
    },
    {
     "name": "stdout",
     "output_type": "stream",
     "text": [
      "[MoviePy] Done.\n",
      "Bd_43Q61J3s\n",
      "154\n",
      "[MoviePy] Writing audio in C:/Users/Ankit/Documents/wpi/cs525/video_data/videos/ad_data\\Bd_43Q61J3s\\Ortho® GroundClear® - Speedy Weed Eulogy 1.wav\n"
     ]
    },
    {
     "name": "stderr",
     "output_type": "stream",
     "text": [
      "\n",
      "  0%|                                                  | 0/239 [00:00<?, ?it/s]\n",
      " 64%|████████████████████████▏             | 152/239 [00:00<00:00, 1321.67it/s]\n",
      "100%|██████████████████████████████████████| 239/239 [00:00<00:00, 1512.57it/s]"
     ]
    },
    {
     "name": "stdout",
     "output_type": "stream",
     "text": [
      "[MoviePy] Done.\n",
      "bf0anQedLH0\n",
      "155\n",
      "[MoviePy] Writing audio in C:/Users/Ankit/Documents/wpi/cs525/video_data/videos/ad_data\\bf0anQedLH0\\You teach You inspire You Chromebook..wav\n"
     ]
    },
    {
     "name": "stderr",
     "output_type": "stream",
     "text": [
      "\n",
      "  0%|                                                  | 0/333 [00:00<?, ?it/s]\n",
      "  8%|███▎                                    | 28/333 [00:00<00:01, 235.28it/s]\n",
      " 61%|███████████████████████▊               | 203/333 [00:00<00:00, 316.59it/s]\n",
      "100%|██████████████████████████████████████| 333/333 [00:00<00:00, 1074.13it/s]"
     ]
    },
    {
     "name": "stdout",
     "output_type": "stream",
     "text": [
      "[MoviePy] Done.\n",
      "BgRPFSqTzow\n",
      "156\n",
      "[MoviePy] Writing audio in C:/Users/Ankit/Documents/wpi/cs525/video_data/videos/ad_data\\BgRPFSqTzow\\Untitled Ad.wav\n"
     ]
    },
    {
     "name": "stderr",
     "output_type": "stream",
     "text": [
      "\n",
      "  0%|                                                  | 0/333 [00:00<?, ?it/s]\n",
      " 20%|████████                                | 67/333 [00:00<00:00, 669.96it/s]\n",
      " 76%|█████████████████████████████▋         | 254/333 [00:00<00:00, 827.49it/s]\n",
      "100%|██████████████████████████████████████| 333/333 [00:00<00:00, 1381.66it/s]"
     ]
    },
    {
     "name": "stdout",
     "output_type": "stream",
     "text": [
      "[MoviePy] Done.\n",
      "bh-cRGgJAmk\n",
      "157\n",
      "[MoviePy] Writing audio in C:/Users/Ankit/Documents/wpi/cs525/video_data/videos/ad_data\\bh-cRGgJAmk\\Behati’s One Product for Crystal Clear Skin  SK-II PITERA™ Essence.wav\n"
     ]
    },
    {
     "name": "stderr",
     "output_type": "stream",
     "text": [
      "\n",
      "  0%|                                                 | 0/1208 [00:00<?, ?it/s]\n",
      " 11%|███▉                                 | 129/1208 [00:00<00:00, 1289.92it/s]\n",
      " 26%|█████████▌                           | 311/1208 [00:00<00:00, 1413.40it/s]\n",
      " 39%|██████████████▎                      | 466/1208 [00:00<00:00, 1451.76it/s]\n",
      " 55%|████████████████████▎                | 662/1208 [00:00<00:00, 1548.09it/s]\n",
      " 71%|██████████████████████████▍          | 862/1208 [00:00<00:00, 1660.64it/s]\n",
      " 85%|██████████████████████████████▊     | 1032/1208 [00:00<00:00, 1672.22it/s]\n",
      "100%|████████████████████████████████████| 1208/1208 [00:00<00:00, 1723.15it/s]"
     ]
    },
    {
     "name": "stdout",
     "output_type": "stream",
     "text": [
      "[MoviePy] Done.\n",
      "BI-es62Oekk\n",
      "158\n",
      "[MoviePy] Writing audio in C:/Users/Ankit/Documents/wpi/cs525/video_data/videos/ad_data\\BI-es62Oekk\\Pulp-Fiction_A-New-Way-To-Start-Your-Business_15_WM.wav\n"
     ]
    },
    {
     "name": "stderr",
     "output_type": "stream",
     "text": [
      "\n",
      "  0%|                                                  | 0/332 [00:00<?, ?it/s]\n",
      " 21%|████████▎                               | 69/332 [00:00<00:00, 689.96it/s]\n",
      " 77%|█████████████████████████████▊         | 254/332 [00:00<00:00, 794.01it/s]\n",
      "100%|██████████████████████████████████████| 332/332 [00:00<00:00, 1152.71it/s]"
     ]
    },
    {
     "name": "stdout",
     "output_type": "stream",
     "text": [
      "[MoviePy] Done.\n",
      "bjDQozNK7Dc\n",
      "159\n",
      "[MoviePy] Writing audio in C:/Users/Ankit/Documents/wpi/cs525/video_data/videos/ad_data\\bjDQozNK7Dc\\1500707242-1_ROV Ent Video Imp EXCL ADSM CN AND SPORTS P25-49.wav\n"
     ]
    },
    {
     "name": "stderr",
     "output_type": "stream",
     "text": [
      "\n",
      "  0%|                                                  | 0/332 [00:00<?, ?it/s]\n",
      " 50%|███████████████████                   | 167/332 [00:00<00:00, 1669.91it/s]\n",
      " 99%|█████████████████████████████████████▋| 329/332 [00:00<00:00, 1654.58it/s]\n",
      "100%|██████████████████████████████████████| 332/332 [00:00<00:00, 1619.42it/s]"
     ]
    },
    {
     "name": "stdout",
     "output_type": "stream",
     "text": [
      "[MoviePy] Done.\n",
      "Bjp66Ti048c\n",
      "160\n",
      "[MoviePy] Writing audio in C:/Users/Ankit/Documents/wpi/cs525/video_data/videos/ad_data\\Bjp66Ti048c\\In-Stream Video.wav\n"
     ]
    },
    {
     "name": "stderr",
     "output_type": "stream",
     "text": [
      "\n",
      "  0%|                                                  | 0/332 [00:00<?, ?it/s]\n",
      " 52%|███████████████████▌                  | 171/332 [00:00<00:00, 1709.90it/s]\n",
      "100%|██████████████████████████████████████| 332/332 [00:00<00:00, 1794.49it/s]"
     ]
    },
    {
     "name": "stdout",
     "output_type": "stream",
     "text": [
      "[MoviePy] Done.\n",
      "BmlxrYNzQRM\n",
      "161\n",
      "[MoviePy] Writing audio in C:/Users/Ankit/Documents/wpi/cs525/video_data/videos/ad_data\\BmlxrYNzQRM\\CVAA2401000H_NickJonas_HappyPlace_15_OLV.wav\n"
     ]
    },
    {
     "name": "stderr",
     "output_type": "stream",
     "text": [
      "\n",
      "  0%|                                                  | 0/332 [00:00<?, ?it/s]\n",
      " 30%|███████████▊                           | 101/332 [00:00<00:00, 237.08it/s]\n",
      " 46%|█████████████████▊                     | 152/332 [00:00<00:01, 174.54it/s]\n",
      " 77%|██████████████████████████████         | 256/332 [00:00<00:00, 232.61it/s]\n",
      "100%|███████████████████████████████████████| 332/332 [00:01<00:00, 321.06it/s]"
     ]
    },
    {
     "name": "stdout",
     "output_type": "stream",
     "text": [
      "[MoviePy] Done.\n",
      "BNMCIzMZa_s\n",
      "162\n",
      "[MoviePy] Writing audio in C:/Users/Ankit/Documents/wpi/cs525/video_data/videos/ad_data\\BNMCIzMZa_s\\In-Stream Video.wav\n"
     ]
    },
    {
     "name": "stderr",
     "output_type": "stream",
     "text": [
      "\n",
      "  0%|                                                  | 0/332 [00:00<?, ?it/s]\n",
      " 16%|██████▎                                 | 52/332 [00:00<00:00, 519.97it/s]\n",
      " 61%|███████████████████████▊               | 203/332 [00:00<00:00, 643.15it/s]\n",
      "100%|██████████████████████████████████████| 332/332 [00:00<00:00, 1238.74it/s]"
     ]
    },
    {
     "name": "stdout",
     "output_type": "stream",
     "text": [
      "[MoviePy] Done.\n",
      "bO-fjqf9Pkk\n",
      "163\n",
      "[MoviePy] Writing audio in C:/Users/Ankit/Documents/wpi/cs525/video_data/videos/ad_data\\bO-fjqf9Pkk\\Broadway In Boston Kinky Boots.wav\n"
     ]
    },
    {
     "name": "stderr",
     "output_type": "stream",
     "text": [
      "\n",
      "  0%|                                                  | 0/333 [00:00<?, ?it/s]\n",
      " 32%|████████████                          | 106/333 [00:00<00:00, 1059.94it/s]\n",
      " 83%|███████████████████████████████▍      | 276/333 [00:00<00:00, 1194.89it/s]\n",
      "100%|██████████████████████████████████████| 333/333 [00:00<00:00, 1435.26it/s]"
     ]
    },
    {
     "name": "stdout",
     "output_type": "stream",
     "text": [
      "[MoviePy] Done.\n",
      "bqHv62pcebI\n",
      "164\n",
      "[MoviePy] Writing audio in C:/Users/Ankit/Documents/wpi/cs525/video_data/videos/ad_data\\bqHv62pcebI\\AQC APR Tom 2 Final Updated.wav\n"
     ]
    },
    {
     "name": "stderr",
     "output_type": "stream",
     "text": [
      "\n",
      "  0%|                                                  | 0/695 [00:00<?, ?it/s]\n",
      " 15%|█████▋                                 | 101/695 [00:00<00:00, 726.58it/s]\n",
      " 29%|███████████▍                           | 203/695 [00:00<00:00, 735.02it/s]\n",
      " 53%|████████████████████▊                  | 370/695 [00:00<00:00, 883.39it/s]\n",
      " 73%|████████████████████████████▌          | 509/695 [00:00<00:00, 977.18it/s]\n",
      "100%|██████████████████████████████████████| 695/695 [00:00<00:00, 1202.35it/s]"
     ]
    },
    {
     "name": "stdout",
     "output_type": "stream",
     "text": [
      "[MoviePy] Done.\n",
      "bRPaqxejMhE\n",
      "165\n",
      "[MoviePy] Writing audio in C:/Users/Ankit/Documents/wpi/cs525/video_data/videos/ad_data\\bRPaqxejMhE\\Untitled Ad.wav\n"
     ]
    },
    {
     "name": "stderr",
     "output_type": "stream",
     "text": [
      "\n",
      "  0%|                                                  | 0/333 [00:00<?, ?it/s]\n",
      " 42%|███████████████▊                      | 139/333 [00:00<00:00, 1389.92it/s]\n",
      " 88%|█████████████████████████████████▌    | 294/333 [00:00<00:00, 1434.34it/s]\n",
      "100%|██████████████████████████████████████| 333/333 [00:00<00:00, 1473.37it/s]"
     ]
    },
    {
     "name": "stdout",
     "output_type": "stream",
     "text": [
      "[MoviePy] Done.\n",
      "BsBwllzZYTg\n",
      "166\n",
      "[MoviePy] Writing audio in C:/Users/Ankit/Documents/wpi/cs525/video_data/videos/ad_data\\BsBwllzZYTg\\Building a Licorice Barn  Dreamtopia LIVE  Barbie.wav\n"
     ]
    },
    {
     "name": "stderr",
     "output_type": "stream",
     "text": [
      "\n",
      "  0%|                                                 | 0/7696 [00:00<?, ?it/s]\n",
      "  0%|▏                                       | 28/7696 [00:00<01:21, 94.27it/s]\n",
      "  1%|▍                                     | 101/7696 [00:00<01:13, 102.81it/s]\n",
      "  3%|█▏                                    | 246/7696 [00:00<00:52, 142.54it/s]\n",
      "  5%|█▉                                    | 405/7696 [00:01<00:37, 194.72it/s]\n",
      "  8%|██▉                                   | 597/7696 [00:01<00:26, 266.58it/s]\n",
      " 10%|███▊                                  | 766/7696 [00:01<00:19, 356.72it/s]\n",
      " 12%|████▋                                 | 953/7696 [00:01<00:14, 471.08it/s]\n",
      " 14%|█████▎                               | 1098/7696 [00:01<00:11, 573.21it/s]\n",
      " 17%|██████▏                              | 1280/7696 [00:01<00:08, 721.48it/s]\n",
      " 19%|███████                              | 1467/7696 [00:01<00:07, 880.68it/s]\n",
      " 21%|███████▌                            | 1627/7696 [00:01<00:05, 1017.97it/s]\n",
      " 24%|████████▍                           | 1815/7696 [00:01<00:04, 1180.32it/s]\n",
      " 26%|█████████▎                          | 1984/7696 [00:02<00:04, 1291.76it/s]\n",
      " 28%|██████████▎                          | 2152/7696 [00:02<00:11, 464.53it/s]\n",
      " 30%|███████████▏                         | 2326/7696 [00:03<00:09, 593.65it/s]\n",
      " 33%|████████████▏                        | 2529/7696 [00:03<00:06, 749.44it/s]\n",
      " 35%|█████████████▏                       | 2731/7696 [00:03<00:05, 895.49it/s]\n",
      " 38%|█████████████▋                      | 2929/7696 [00:03<00:04, 1071.56it/s]\n",
      " 40%|██████████████▍                     | 3099/7696 [00:03<00:03, 1197.56it/s]\n",
      " 43%|███████████████▍                    | 3287/7696 [00:03<00:03, 1321.23it/s]\n",
      " 45%|████████████████▎                   | 3485/7696 [00:03<00:02, 1467.71it/s]\n",
      " 48%|█████████████████▏                  | 3664/7696 [00:03<00:02, 1531.58it/s]\n",
      " 50%|█████████████████▉                  | 3844/7696 [00:03<00:02, 1599.01it/s]\n",
      " 52%|██████████████████▊                 | 4021/7696 [00:03<00:02, 1619.58it/s]\n",
      " 55%|███████████████████▌                | 4195/7696 [00:04<00:02, 1272.79it/s]\n",
      " 56%|████████████████████▉                | 4343/7696 [00:05<00:08, 395.81it/s]\n",
      " 58%|█████████████████████▋               | 4501/7696 [00:05<00:06, 508.16it/s]\n",
      " 61%|██████████████████████▌              | 4703/7696 [00:05<00:04, 650.86it/s]\n",
      " 64%|███████████████████████▌             | 4901/7696 [00:05<00:03, 814.97it/s]\n",
      " 66%|████████████████████████▍            | 5094/7696 [00:05<00:02, 985.83it/s]\n",
      " 68%|████████████████████████▌           | 5263/7696 [00:05<00:02, 1085.41it/s]\n",
      " 71%|█████████████████████████▌          | 5462/7696 [00:05<00:01, 1249.68it/s]\n",
      " 74%|██████████████████████████▍         | 5664/7696 [00:05<00:01, 1390.70it/s]\n",
      " 76%|███████████████████████████▎        | 5840/7696 [00:05<00:01, 1443.92it/s]\n",
      " 78%|████████████████████████████▉        | 6011/7696 [00:06<00:02, 724.86it/s]\n",
      " 80%|█████████████████████████████▌       | 6141/7696 [00:06<00:02, 611.63it/s]\n",
      " 81%|██████████████████████████████       | 6246/7696 [00:06<00:02, 669.76it/s]\n",
      " 82%|██████████████████████████████▌      | 6345/7696 [00:07<00:02, 509.32it/s]\n",
      " 85%|███████████████████████████████▎     | 6516/7696 [00:07<00:01, 645.24it/s]\n",
      " 87%|████████████████████████████████▏    | 6685/7696 [00:07<00:01, 792.14it/s]\n",
      " 89%|█████████████████████████████████    | 6878/7696 [00:07<00:00, 952.37it/s]\n",
      " 91%|████████████████████████████████▉   | 7029/7696 [00:07<00:00, 1071.02it/s]\n",
      " 94%|█████████████████████████████████▊  | 7231/7696 [00:07<00:00, 1246.71it/s]\n",
      " 96%|██████████████████████████████████▋ | 7415/7696 [00:07<00:00, 1380.21it/s]\n",
      " 99%|███████████████████████████████████▍| 7586/7696 [00:07<00:00, 1461.19it/s]\n",
      "100%|█████████████████████████████████████| 7696/7696 [00:07<00:00, 963.27it/s]"
     ]
    },
    {
     "name": "stdout",
     "output_type": "stream",
     "text": [
      "[MoviePy] Done.\n",
      "bsr2Y1FUT3E\n",
      "167\n",
      "[MoviePy] Writing audio in C:/Users/Ankit/Documents/wpi/cs525/video_data/videos/ad_data\\bsr2Y1FUT3E\\Providence Apr 2019 w credit.wav\n"
     ]
    },
    {
     "name": "stderr",
     "output_type": "stream",
     "text": [
      "\n",
      "  0%|                                                  | 0/332 [00:00<?, ?it/s]\n",
      "  8%|███▎                                    | 28/332 [00:00<00:02, 145.07it/s]\n",
      " 30%|███████████▊                           | 101/332 [00:00<00:01, 182.80it/s]\n",
      " 92%|███████████████████████████████████▊   | 305/332 [00:00<00:00, 251.11it/s]\n",
      "100%|███████████████████████████████████████| 332/332 [00:00<00:00, 710.88it/s]"
     ]
    },
    {
     "name": "stdout",
     "output_type": "stream",
     "text": [
      "[MoviePy] Done.\n",
      "bSYkFQSQTM0\n",
      "168\n",
      "[MoviePy] Writing audio in C:/Users/Ankit/Documents/wpi/cs525/video_data/videos/ad_data\\bSYkFQSQTM0\\The Gecko Visits a Diner 15 - GEICO Insurance.wav\n"
     ]
    },
    {
     "name": "stderr",
     "output_type": "stream",
     "text": [
      "\n",
      "  0%|                                                  | 0/332 [00:00<?, ?it/s]\n",
      " 39%|██████████████▉                       | 131/332 [00:00<00:00, 1309.93it/s]\n",
      " 96%|████████████████████████████████████▋ | 320/332 [00:00<00:00, 1442.75it/s]\n",
      "100%|██████████████████████████████████████| 332/332 [00:00<00:00, 1596.06it/s]"
     ]
    },
    {
     "name": "stdout",
     "output_type": "stream",
     "text": [
      "[MoviePy] Done.\n",
      "BUXPOqt4O2E\n",
      "169\n",
      "[MoviePy] Writing audio in C:/Users/Ankit/Documents/wpi/cs525/video_data/videos/ad_data\\BUXPOqt4O2E\\Beat Saber  Announce Trailer  Oculus Quest.wav\n"
     ]
    },
    {
     "name": "stderr",
     "output_type": "stream",
     "text": [
      "\n",
      "  0%|                                                  | 0/664 [00:00<?, ?it/s]\n",
      " 17%|██████▎                               | 111/664 [00:00<00:00, 1109.94it/s]\n",
      " 23%|████████▉                              | 152/664 [00:00<00:01, 462.96it/s]\n",
      " 31%|███████████▉                           | 203/664 [00:00<00:01, 242.14it/s]\n",
      " 38%|██████████████▉                        | 254/664 [00:01<00:01, 221.51it/s]\n",
      " 46%|██████████████████                     | 307/664 [00:01<00:01, 268.37it/s]\n",
      " 61%|███████████████████████▉               | 407/664 [00:01<00:00, 332.52it/s]\n",
      " 84%|████████████████████████████████▌      | 555/664 [00:01<00:00, 433.30it/s]\n",
      "100%|███████████████████████████████████████| 664/664 [00:01<00:00, 458.22it/s]"
     ]
    },
    {
     "name": "stdout",
     "output_type": "stream",
     "text": [
      "[MoviePy] Done.\n",
      "bv1ipqIBaag\n",
      "170\n",
      "[MoviePy] Writing audio in C:/Users/Ankit/Documents/wpi/cs525/video_data/videos/ad_data\\bv1ipqIBaag\\all® free clear Odor Relief.wav\n"
     ]
    },
    {
     "name": "stderr",
     "output_type": "stream",
     "text": [
      "\n",
      "  0%|                                                  | 0/332 [00:00<?, ?it/s]\n",
      " 39%|██████████████▊                       | 129/332 [00:00<00:00, 1289.93it/s]\n",
      " 77%|█████████████████████████████         | 254/332 [00:00<00:00, 1262.18it/s]\n",
      "100%|██████████████████████████████████████| 332/332 [00:00<00:00, 1371.82it/s]"
     ]
    },
    {
     "name": "stdout",
     "output_type": "stream",
     "text": [
      "[MoviePy] Done.\n",
      "Bv683aP4IzQ\n",
      "171\n",
      "[MoviePy] Writing audio in C:/Users/Ankit/Documents/wpi/cs525/video_data/videos/ad_data\\Bv683aP4IzQ\\Days Gone - One Bullet TV Commercial 15  PS4.wav\n"
     ]
    },
    {
     "name": "stderr",
     "output_type": "stream",
     "text": [
      "\n",
      "  0%|                                                  | 0/332 [00:00<?, ?it/s]\n",
      " 26%|██████████▏                             | 85/332 [00:00<00:00, 849.95it/s]\n",
      " 33%|█████████████                          | 111/332 [00:00<00:01, 202.30it/s]\n",
      " 61%|███████████████████████▊               | 203/332 [00:00<00:00, 261.19it/s]\n",
      "100%|███████████████████████████████████████| 332/332 [00:00<00:00, 512.32it/s]"
     ]
    },
    {
     "name": "stdout",
     "output_type": "stream",
     "text": [
      "[MoviePy] Done.\n",
      "c25yQXZo49E\n",
      "172\n",
      "[MoviePy] Writing audio in C:/Users/Ankit/Documents/wpi/cs525/video_data/videos/ad_data\\c25yQXZo49E\\AD - GlennTV Pro1..wav\n"
     ]
    },
    {
     "name": "stderr",
     "output_type": "stream",
     "text": [
      "\n",
      "  0%|                                                  | 0/686 [00:00<?, ?it/s]\n",
      " 22%|████████▍                             | 152/686 [00:00<00:00, 1369.30it/s]\n",
      " 48%|██████████████████▍                   | 332/686 [00:00<00:00, 1475.17it/s]\n",
      " 74%|████████████████████████████▏         | 509/686 [00:00<00:00, 1509.05it/s]\n",
      "100%|██████████████████████████████████████| 686/686 [00:00<00:00, 1641.05it/s]"
     ]
    },
    {
     "name": "stdout",
     "output_type": "stream",
     "text": [
      "[MoviePy] Done.\n",
      "C44wJ-E9zL8\n",
      "173\n",
      "[MoviePy] Writing audio in C:/Users/Ankit/Documents/wpi/cs525/video_data/videos/ad_data\\C44wJ-E9zL8\\In-Stream Video.wav\n"
     ]
    },
    {
     "name": "stderr",
     "output_type": "stream",
     "text": [
      "\n",
      "  0%|                                                  | 0/332 [00:00<?, ?it/s]\n",
      " 29%|███████████▍                            | 95/332 [00:00<00:00, 949.94it/s]\n",
      " 37%|██████████████▌                        | 124/332 [00:00<00:00, 368.61it/s]\n",
      " 46%|█████████████████▊                     | 152/332 [00:00<00:01, 173.72it/s]\n",
      " 61%|███████████████████████▊               | 203/332 [00:00<00:00, 176.53it/s]\n",
      " 99%|██████████████████████████████████████▌| 328/332 [00:01<00:00, 237.79it/s]\n",
      "100%|███████████████████████████████████████| 332/332 [00:01<00:00, 321.06it/s]"
     ]
    },
    {
     "name": "stdout",
     "output_type": "stream",
     "text": [
      "[MoviePy] Done.\n",
      "c5LaVB0CwU4\n",
      "174\n",
      "[MoviePy] Writing audio in C:/Users/Ankit/Documents/wpi/cs525/video_data/videos/ad_data\\c5LaVB0CwU4\\Rakuten_15s_2.wav\n"
     ]
    },
    {
     "name": "stderr",
     "output_type": "stream",
     "text": [
      "\n",
      "  0%|                                                  | 0/331 [00:00<?, ?it/s]\n",
      " 45%|█████████████████▏                    | 150/331 [00:00<00:00, 1499.92it/s]\n",
      " 92%|███████████████████████████████████   | 305/331 [00:00<00:00, 1505.74it/s]\n",
      "100%|██████████████████████████████████████| 331/331 [00:00<00:00, 1539.45it/s]"
     ]
    },
    {
     "name": "stdout",
     "output_type": "stream",
     "text": [
      "[MoviePy] Done.\n",
      "CaEe3d1EY1w\n",
      "175\n",
      "[MoviePy] Writing audio in C:/Users/Ankit/Documents/wpi/cs525/video_data/videos/ad_data\\CaEe3d1EY1w\\RMPS1 JibJab 30 Tom YT.wav\n"
     ]
    },
    {
     "name": "stderr",
     "output_type": "stream",
     "text": [
      "\n",
      "  0%|                                                  | 0/664 [00:00<?, ?it/s]\n",
      " 23%|████████▋                             | 152/664 [00:00<00:00, 1407.33it/s]\n",
      " 46%|█████████████████▍                    | 305/664 [00:00<00:00, 1394.67it/s]\n",
      " 69%|██████████████████████████▏           | 458/664 [00:00<00:00, 1138.43it/s]\n",
      " 80%|███████████████████████████████▏       | 532/664 [00:00<00:00, 661.87it/s]\n",
      " 92%|███████████████████████████████████▉   | 611/664 [00:00<00:00, 455.97it/s]\n",
      "100%|███████████████████████████████████████| 664/664 [00:01<00:00, 663.96it/s]"
     ]
    },
    {
     "name": "stdout",
     "output_type": "stream",
     "text": [
      "[MoviePy] Done.\n",
      "cAuEGNixSfI\n",
      "176\n",
      "[MoviePy] Writing audio in C:/Users/Ankit/Documents/wpi/cs525/video_data/videos/ad_data\\cAuEGNixSfI\\Bad Bunny X KAOS.wav\n"
     ]
    },
    {
     "name": "stderr",
     "output_type": "stream",
     "text": [
      "\n",
      "  0%|                                                  | 0/337 [00:00<?, ?it/s]\n",
      " 36%|█████████████▌                        | 120/337 [00:00<00:00, 1199.93it/s]\n",
      " 90%|██████████████████████████████████▎   | 304/337 [00:00<00:00, 1339.73it/s]\n",
      "100%|██████████████████████████████████████| 337/337 [00:00<00:00, 1342.55it/s]"
     ]
    },
    {
     "name": "stdout",
     "output_type": "stream",
     "text": [
      "[MoviePy] Done.\n",
      "cbyCb4DZsRo\n",
      "177\n",
      "[MoviePy] Writing audio in C:/Users/Ankit/Documents/wpi/cs525/video_data/videos/ad_data\\cbyCb4DZsRo\\Untitled Ad.wav\n"
     ]
    },
    {
     "name": "stderr",
     "output_type": "stream",
     "text": [
      "\n",
      "  0%|                                                  | 0/332 [00:00<?, ?it/s]\n",
      " 30%|███████████▊                           | 101/332 [00:00<00:00, 834.66it/s]\n",
      " 80%|███████████████████████████████        | 264/332 [00:00<00:00, 977.78it/s]\n",
      "100%|██████████████████████████████████████| 332/332 [00:00<00:00, 1301.89it/s]"
     ]
    },
    {
     "name": "stdout",
     "output_type": "stream",
     "text": [
      "[MoviePy] Done.\n",
      "CfRFOaAc12g\n",
      "178\n",
      "[MoviePy] Writing audio in C:/Users/Ankit/Documents/wpi/cs525/video_data/videos/ad_data\\CfRFOaAc12g\\Food Quarterly Teaser.wav\n"
     ]
    },
    {
     "name": "stderr",
     "output_type": "stream",
     "text": [
      "\n",
      "  0%|                                                  | 0/776 [00:00<?, ?it/s]\n",
      "  4%|█▍                                      | 28/776 [00:00<00:03, 212.11it/s]\n",
      " 13%|█████                                  | 101/776 [00:00<00:03, 177.22it/s]\n",
      " 33%|████████████▊                          | 254/776 [00:00<00:02, 240.85it/s]\n",
      " 50%|███████████████████▍                   | 387/776 [00:00<00:01, 319.29it/s]\n",
      " 65%|█████████████████████████▍             | 507/776 [00:01<00:00, 409.44it/s]\n",
      " 79%|██████████████████████████████▊        | 613/776 [00:01<00:00, 501.83it/s]\n",
      "100%|███████████████████████████████████████| 776/776 [00:01<00:00, 652.61it/s]"
     ]
    },
    {
     "name": "stdout",
     "output_type": "stream",
     "text": [
      "[MoviePy] Done.\n",
      "CixoaRIVvUo\n",
      "179\n",
      "[MoviePy] Writing audio in C:/Users/Ankit/Documents/wpi/cs525/video_data/videos/ad_data\\CixoaRIVvUo\\Sell a Motorcycle from Your Couch.wav\n"
     ]
    },
    {
     "name": "stderr",
     "output_type": "stream",
     "text": [
      "\n",
      "  0%|                                                  | 0/442 [00:00<?, ?it/s]\n",
      " 34%|█████████████                         | 152/442 [00:00<00:00, 1369.29it/s]\n",
      " 69%|██████████████████████████▏           | 305/442 [00:00<00:00, 1383.14it/s]\n",
      "100%|██████████████████████████████████████| 442/442 [00:00<00:00, 1518.81it/s]"
     ]
    },
    {
     "name": "stdout",
     "output_type": "stream",
     "text": [
      "[MoviePy] Done.\n",
      "cKYUXPSEbv4\n",
      "180\n",
      "[MoviePy] Writing audio in C:/Users/Ankit/Documents/wpi/cs525/video_data/videos/ad_data\\cKYUXPSEbv4\\IOTR0138000H (Roomba_i7+_Pets_TVSpot_15_Viewing)..wav\n"
     ]
    },
    {
     "name": "stderr",
     "output_type": "stream",
     "text": [
      "\n",
      "  0%|                                                  | 0/333 [00:00<?, ?it/s]\n",
      "  9%|███▍                                    | 29/333 [00:00<00:01, 289.98it/s]\n",
      " 30%|███████████▊                           | 101/333 [00:00<00:00, 321.56it/s]\n",
      " 76%|█████████████████████████████▋         | 254/333 [00:00<00:00, 420.03it/s]\n",
      "100%|███████████████████████████████████████| 333/333 [00:00<00:00, 808.21it/s]"
     ]
    },
    {
     "name": "stdout",
     "output_type": "stream",
     "text": [
      "[MoviePy] Done.\n",
      "cmDkCn6e0cY\n",
      "181\n",
      "[MoviePy] Writing audio in C:/Users/Ankit/Documents/wpi/cs525/video_data/videos/ad_data\\cmDkCn6e0cY\\Sound of Truck Month  Stampede of Savings  Built Ford Proud 06.wav\n"
     ]
    },
    {
     "name": "stderr",
     "output_type": "stream",
     "text": [
      "\n",
      "  0%|                                                  | 0/133 [00:00<?, ?it/s]\n",
      " 95%|████████████████████████████████████▎ | 127/133 [00:00<00:00, 1269.93it/s]\n",
      "100%|██████████████████████████████████████| 133/133 [00:00<00:00, 1254.64it/s]"
     ]
    },
    {
     "name": "stdout",
     "output_type": "stream",
     "text": [
      "[MoviePy] Done.\n",
      "copIcatJODo\n",
      "182\n",
      "[MoviePy] Writing audio in C:/Users/Ankit/Documents/wpi/cs525/video_data/videos/ad_data\\copIcatJODo\\Chrome Tip Open a recently closed tab or window.wav\n"
     ]
    },
    {
     "name": "stderr",
     "output_type": "stream",
     "text": [
      "\n",
      "  0%|                                                  | 0/344 [00:00<?, ?it/s]\n",
      " 43%|████████████████▍                     | 149/344 [00:00<00:00, 1489.91it/s]\n",
      " 96%|████████████████████████████████████▍ | 330/344 [00:00<00:00, 1573.36it/s]\n",
      "100%|██████████████████████████████████████| 344/344 [00:00<00:00, 1653.75it/s]"
     ]
    },
    {
     "name": "stdout",
     "output_type": "stream",
     "text": [
      "[MoviePy] Done.\n",
      "cpOsp4FOXaw\n",
      "183\n",
      "[MoviePy] Writing audio in C:/Users/Ankit/Documents/wpi/cs525/video_data/videos/ad_data\\cpOsp4FOXaw\\Diagnose Car Problems Fast.wav\n"
     ]
    },
    {
     "name": "stderr",
     "output_type": "stream",
     "text": [
      "\n",
      "  0%|                                                 | 0/2273 [00:00<?, ?it/s]\n",
      "  1%|▍                                      | 28/2273 [00:00<00:17, 127.27it/s]\n",
      "  4%|█▋                                    | 101/2273 [00:00<00:13, 165.49it/s]\n",
      " 11%|████▏                                 | 251/2273 [00:00<00:08, 225.73it/s]\n",
      " 15%|█████▌                                | 331/2273 [00:00<00:06, 287.69it/s]\n",
      " 22%|████████▌                             | 509/2273 [00:00<00:04, 382.62it/s]\n",
      " 30%|███████████▍                          | 683/2273 [00:00<00:03, 499.52it/s]\n",
      " 38%|██████████████▍                       | 866/2273 [00:00<00:02, 632.24it/s]\n",
      " 46%|█████████████████                    | 1045/2273 [00:00<00:01, 784.45it/s]\n",
      " 54%|███████████████████▉                 | 1223/2273 [00:01<00:01, 933.70it/s]\n",
      " 63%|██████████████████████▌             | 1427/2273 [00:01<00:00, 1106.04it/s]\n",
      " 72%|█████████████████████████▊          | 1631/2273 [00:01<00:00, 1263.07it/s]\n",
      " 80%|████████████████████████████▋       | 1812/2273 [00:01<00:00, 1388.97it/s]\n",
      " 87%|███████████████████████████████▍    | 1988/2273 [00:01<00:00, 1475.26it/s]\n",
      " 95%|███████████████████████████████████▏ | 2163/2273 [00:02<00:00, 608.38it/s]\n",
      "100%|████████████████████████████████████| 2273/2273 [00:02<00:00, 1021.06it/s]"
     ]
    },
    {
     "name": "stdout",
     "output_type": "stream",
     "text": [
      "[MoviePy] Done.\n",
      "cUAQpXNCyw0\n",
      "184\n",
      "[MoviePy] Writing audio in C:/Users/Ankit/Documents/wpi/cs525/video_data/videos/ad_data\\cUAQpXNCyw0\\B143127_PRONAMEL_REPAIR_Product_15_OLV_NOCTA_Innovid_V2_IRE_Canvas_Video..wav\n"
     ]
    },
    {
     "name": "stderr",
     "output_type": "stream",
     "text": [
      "\n",
      "  0%|                                                  | 0/335 [00:00<?, ?it/s]\n",
      " 43%|████████████████▍                     | 145/335 [00:00<00:00, 1449.92it/s]\n",
      " 67%|█████████████████████████▎            | 223/335 [00:00<00:00, 1152.84it/s]\n",
      "100%|██████████████████████████████████████| 335/335 [00:00<00:00, 1288.39it/s]"
     ]
    },
    {
     "name": "stdout",
     "output_type": "stream",
     "text": [
      "[MoviePy] Done.\n",
      "cuBKPodtvuk\n",
      "185\n",
      "[MoviePy] Writing audio in C:/Users/Ankit/Documents/wpi/cs525/video_data/videos/ad_data\\cuBKPodtvuk\\WF_19_Brand_JustTheFacts_FinancialHealthConversations_15s_Prospects..wav\n"
     ]
    },
    {
     "name": "stderr",
     "output_type": "stream",
     "text": [
      "\n",
      "  0%|                                                  | 0/333 [00:00<?, ?it/s]\n",
      " 46%|█████████████████▎                    | 152/333 [00:00<00:00, 1196.78it/s]\n",
      " 92%|██████████████████████████████████▊   | 305/333 [00:00<00:00, 1270.85it/s]\n",
      "100%|██████████████████████████████████████| 333/333 [00:00<00:00, 1359.11it/s]"
     ]
    },
    {
     "name": "stdout",
     "output_type": "stream",
     "text": [
      "[MoviePy] Done.\n",
      "CUwT8l16Et8\n",
      "186\n",
      "[MoviePy] Writing audio in C:/Users/Ankit/Documents/wpi/cs525/video_data/videos/ad_data\\CUwT8l16Et8\\Dan Peterson 15.wav\n"
     ]
    },
    {
     "name": "stderr",
     "output_type": "stream",
     "text": [
      "\n",
      "  0%|                                                  | 0/332 [00:00<?, ?it/s]\n",
      "  8%|███▍                                     | 28/332 [00:00<00:05, 59.07it/s]\n",
      " 30%|████████████▏                           | 101/332 [00:00<00:02, 80.42it/s]\n",
      " 77%|█████████████████████████████▊         | 254/332 [00:00<00:00, 112.36it/s]\n",
      "100%|███████████████████████████████████████| 332/332 [00:00<00:00, 429.47it/s]"
     ]
    },
    {
     "name": "stdout",
     "output_type": "stream",
     "text": [
      "[MoviePy] Done.\n",
      "d-rOAZFw1-k\n",
      "187\n",
      "[MoviePy] Writing audio in C:/Users/Ankit/Documents/wpi/cs525/video_data/videos/ad_data\\d-rOAZFw1-k\\Ortho® GroundClear® - Sally 34s Spot.wav\n"
     ]
    },
    {
     "name": "stderr",
     "output_type": "stream",
     "text": [
      "\n",
      "  0%|                                                  | 0/728 [00:00<?, ?it/s]\n",
      "  4%|█▌                                       | 28/728 [00:00<00:07, 99.29it/s]\n",
      " 28%|██████████▉                            | 203/728 [00:00<00:03, 138.21it/s]\n",
      " 45%|█████████████████▋                     | 329/728 [00:00<00:02, 188.57it/s]\n",
      " 70%|███████████████████████████▎           | 509/728 [00:00<00:00, 247.91it/s]\n",
      " 91%|███████████████████████████████████▍   | 662/728 [00:00<00:00, 329.02it/s]\n",
      "100%|███████████████████████████████████████| 728/728 [00:00<00:00, 880.24it/s]"
     ]
    },
    {
     "name": "stdout",
     "output_type": "stream",
     "text": [
      "[MoviePy] Done.\n",
      "d24PPwVIf2M\n",
      "188\n",
      "[MoviePy] Writing audio in C:/Users/Ankit/Documents/wpi/cs525/video_data/videos/ad_data\\d24PPwVIf2M\\Easter Services 2019 - Reminder!.wav\n"
     ]
    },
    {
     "name": "stderr",
     "output_type": "stream",
     "text": [
      "\n",
      "  0%|                                                  | 0/662 [00:00<?, ?it/s]\n",
      "  4%|█▋                                       | 28/662 [00:00<00:11, 55.01it/s]\n",
      " 22%|████████▊                               | 145/662 [00:00<00:06, 77.03it/s]\n",
      " 44%|█████████████████                      | 289/662 [00:00<00:03, 107.57it/s]\n",
      " 61%|███████████████████████▉               | 407/662 [00:00<00:01, 147.84it/s]\n",
      " 92%|███████████████████████████████████▋   | 606/662 [00:00<00:00, 204.69it/s]\n",
      "100%|███████████████████████████████████████| 662/662 [00:00<00:00, 700.49it/s]"
     ]
    },
    {
     "name": "stdout",
     "output_type": "stream",
     "text": [
      "[MoviePy] Done.\n",
      "d3ppW2gr8S8\n",
      "189\n",
      "[MoviePy] Writing audio in C:/Users/Ankit/Documents/wpi/cs525/video_data/videos/ad_data\\d3ppW2gr8S8\\Take a Stand Quiz.wav\n"
     ]
    },
    {
     "name": "stderr",
     "output_type": "stream",
     "text": [
      "\n",
      "  0%|                                                 | 0/1325 [00:00<?, ?it/s]\n",
      "  2%|▊                                       | 28/1325 [00:00<00:13, 97.90it/s]\n",
      " 11%|████▎                                 | 152/1325 [00:00<00:08, 134.97it/s]\n",
      " 23%|████████▋                             | 302/1325 [00:00<00:05, 185.65it/s]\n",
      " 28%|██████████▋                           | 373/1325 [00:00<00:04, 236.82it/s]\n",
      " 38%|██████████████▌                       | 509/1325 [00:00<00:02, 304.25it/s]\n",
      " 44%|████████████████▊                     | 585/1325 [00:00<00:02, 356.88it/s]\n",
      " 50%|██████████████████▊                   | 657/1325 [00:01<00:01, 388.50it/s]\n",
      " 62%|███████████████████████▎              | 815/1325 [00:01<00:01, 500.65it/s]\n",
      " 75%|████████████████████████████▍         | 992/1325 [00:01<00:00, 637.89it/s]\n",
      " 84%|██████████████████████████████▉      | 1109/1325 [00:01<00:00, 662.16it/s]\n",
      " 97%|████████████████████████████████████ | 1290/1325 [00:01<00:00, 817.73it/s]\n",
      "100%|█████████████████████████████████████| 1325/1325 [00:01<00:00, 878.60it/s]"
     ]
    },
    {
     "name": "stdout",
     "output_type": "stream",
     "text": [
      "[MoviePy] Done.\n",
      "D5ajOTYLl20\n",
      "190\n",
      "[MoviePy] Writing audio in C:/Users/Ankit/Documents/wpi/cs525/video_data/videos/ad_data\\D5ajOTYLl20\\Uber Driver Vehicle Partner Option  Uber.wav\n"
     ]
    },
    {
     "name": "stderr",
     "output_type": "stream",
     "text": [
      "\n",
      "  0%|                                                  | 0/332 [00:00<?, ?it/s]\n",
      " 39%|██████████████▊                       | 129/332 [00:00<00:00, 1289.93it/s]\n",
      " 92%|██████████████████████████████████▉   | 305/332 [00:00<00:00, 1402.27it/s]\n",
      "100%|██████████████████████████████████████| 332/332 [00:00<00:00, 1558.60it/s]"
     ]
    },
    {
     "name": "stdout",
     "output_type": "stream",
     "text": [
      "[MoviePy] Done.\n",
      "DcgQTMqSgUc\n",
      "191\n",
      "[MoviePy] Writing audio in C:/Users/Ankit/Documents/wpi/cs525/video_data/videos/ad_data\\DcgQTMqSgUc\\Save Money on Groupon!.wav\n"
     ]
    },
    {
     "name": "stderr",
     "output_type": "stream",
     "text": [
      "\n",
      "  0%|                                                  | 0/133 [00:00<?, ?it/s]\n",
      " 21%|████████▋                                | 28/133 [00:00<00:01, 77.34it/s]\n",
      " 89%|██████████████████████████████████▌    | 118/133 [00:00<00:00, 106.57it/s]\n",
      "100%|███████████████████████████████████████| 133/133 [00:00<00:00, 281.76it/s]"
     ]
    },
    {
     "name": "stdout",
     "output_type": "stream",
     "text": [
      "[MoviePy] Done.\n",
      "Dc_M-McsQhc\n",
      "192\n",
      "[MoviePy] Writing audio in C:/Users/Ankit/Documents/wpi/cs525/video_data/videos/ad_data\\Dc_M-McsQhc\\In-Stream Video.wav\n"
     ]
    },
    {
     "name": "stderr",
     "output_type": "stream",
     "text": [
      "\n",
      "  0%|                                                  | 0/332 [00:00<?, ?it/s]\n",
      "  8%|███▍                                     | 28/332 [00:00<00:03, 90.03it/s]\n",
      " 46%|█████████████████▊                     | 152/332 [00:00<00:01, 124.73it/s]\n",
      " 91%|███████████████████████████████████▍   | 302/332 [00:00<00:00, 172.05it/s]\n",
      "100%|███████████████████████████████████████| 332/332 [00:00<00:00, 622.85it/s]"
     ]
    },
    {
     "name": "stdout",
     "output_type": "stream",
     "text": [
      "[MoviePy] Done.\n",
      "Dd5q9JGjsko\n",
      "193\n",
      "[MoviePy] Writing audio in C:/Users/Ankit/Documents/wpi/cs525/video_data/videos/ad_data\\Dd5q9JGjsko\\Pioneers Modernize Grid.wav\n"
     ]
    },
    {
     "name": "stderr",
     "output_type": "stream",
     "text": [
      "\n",
      "  0%|                                                  | 0/663 [00:00<?, ?it/s]\n",
      "  4%|█▋                                      | 28/663 [00:00<00:02, 243.46it/s]\n",
      " 23%|████████▉                              | 152/663 [00:00<00:01, 320.56it/s]\n",
      " 31%|███████████▉                           | 203/663 [00:00<00:01, 297.08it/s]\n",
      " 58%|██████████████████████▊                | 387/663 [00:00<00:00, 396.93it/s]\n",
      " 77%|█████████████████████████████▉         | 509/663 [00:00<00:00, 492.83it/s]\n",
      " 90%|███████████████████████████████████▎   | 600/663 [00:00<00:00, 565.02it/s]\n",
      "100%|███████████████████████████████████████| 663/663 [00:00<00:00, 770.89it/s]"
     ]
    },
    {
     "name": "stdout",
     "output_type": "stream",
     "text": [
      "[MoviePy] Done.\n",
      "deIhJIWCT4s\n",
      "194\n",
      "[MoviePy] Writing audio in C:/Users/Ankit/Documents/wpi/cs525/video_data/videos/ad_data\\deIhJIWCT4s\\In-Stream Video.wav\n"
     ]
    },
    {
     "name": "stderr",
     "output_type": "stream",
     "text": [
      "\n",
      "  0%|                                                  | 0/336 [00:00<?, ?it/s]\n",
      "  8%|███▎                                    | 28/336 [00:00<00:02, 119.65it/s]\n",
      " 45%|█████████████████▋                     | 152/336 [00:00<00:01, 161.83it/s]\n",
      " 62%|████████████████████████               | 207/336 [00:00<00:00, 205.29it/s]\n",
      "100%|███████████████████████████████████████| 336/336 [00:00<00:00, 625.66it/s]"
     ]
    },
    {
     "name": "stdout",
     "output_type": "stream",
     "text": [
      "[MoviePy] Done.\n",
      "dF2D2dbcLnw\n",
      "195\n",
      "[MoviePy] Writing audio in C:/Users/Ankit/Documents/wpi/cs525/video_data/videos/ad_data\\dF2D2dbcLnw\\Untitled Ad.wav\n"
     ]
    },
    {
     "name": "stderr",
     "output_type": "stream",
     "text": [
      "\n",
      "  0%|                                                  | 0/332 [00:00<?, ?it/s]\n",
      "  8%|███▍                                     | 28/332 [00:00<00:03, 96.55it/s]\n",
      " 46%|█████████████████▊                     | 152/332 [00:00<00:01, 133.38it/s]\n",
      " 61%|███████████████████████▊               | 203/332 [00:00<00:00, 171.17it/s]\n",
      "100%|███████████████████████████████████████| 332/332 [00:00<00:00, 573.37it/s]"
     ]
    },
    {
     "name": "stdout",
     "output_type": "stream",
     "text": [
      "[MoviePy] Done.\n",
      "Dg2AHYS-qAw\n",
      "196\n",
      "[MoviePy] Writing audio in C:/Users/Ankit/Documents/wpi/cs525/video_data/videos/ad_data\\Dg2AHYS-qAw\\Get Started with Apricot Lane.wav\n"
     ]
    },
    {
     "name": "stderr",
     "output_type": "stream",
     "text": [
      "\n",
      "  0%|                                                  | 0/559 [00:00<?, ?it/s]\n",
      "  9%|███▍                                    | 48/559 [00:00<00:01, 479.97it/s]\n",
      " 34%|█████████████▏                         | 189/559 [00:00<00:00, 598.37it/s]\n",
      " 45%|█████████████████▋                     | 254/559 [00:00<00:00, 581.70it/s]\n",
      " 70%|███████████████████████████▏           | 389/559 [00:00<00:00, 701.46it/s]\n",
      " 84%|████████████████████████████████▌      | 467/559 [00:00<00:00, 685.17it/s]\n",
      "100%|███████████████████████████████████████| 559/559 [00:00<00:00, 952.25it/s]"
     ]
    },
    {
     "name": "stdout",
     "output_type": "stream",
     "text": [
      "[MoviePy] Done.\n",
      "dHBKDgYt4Gs\n",
      "197\n",
      "[MoviePy] Writing audio in C:/Users/Ankit/Documents/wpi/cs525/video_data/videos/ad_data\\dHBKDgYt4Gs\\K9 Advantix® II Mosquito Repellent for Dogs - Mosquito 101 06.wav\n"
     ]
    },
    {
     "name": "stderr",
     "output_type": "stream",
     "text": [
      "\n",
      "  0%|                                                  | 0/135 [00:00<?, ?it/s]\n",
      " 21%|████████▎                               | 28/135 [00:00<00:00, 137.25it/s]\n",
      "100%|███████████████████████████████████████| 135/135 [00:00<00:00, 475.33it/s]"
     ]
    },
    {
     "name": "stdout",
     "output_type": "stream",
     "text": [
      "[MoviePy] Done.\n",
      "dkBb4d35w1o\n",
      "198\n",
      "[MoviePy] Writing audio in C:/Users/Ankit/Documents/wpi/cs525/video_data/videos/ad_data\\dkBb4d35w1o\\Pulp-Fiction_A-New-Way-To-Travel_15_WM.wav\n"
     ]
    },
    {
     "name": "stderr",
     "output_type": "stream",
     "text": [
      "\n",
      "  0%|                                                  | 0/332 [00:00<?, ?it/s]\n",
      "  8%|███▎                                    | 28/332 [00:00<00:01, 229.50it/s]\n",
      " 46%|█████████████████▊                     | 152/332 [00:00<00:00, 296.78it/s]\n",
      " 92%|███████████████████████████████████▊   | 305/332 [00:00<00:00, 389.63it/s]\n",
      "100%|███████████████████████████████████████| 332/332 [00:00<00:00, 887.65it/s]"
     ]
    },
    {
     "name": "stdout",
     "output_type": "stream",
     "text": [
      "[MoviePy] Done.\n",
      "Dmwfa3fLUIs\n",
      "199\n",
      "[MoviePy] Writing audio in C:/Users/Ankit/Documents/wpi/cs525/video_data/videos/ad_data\\Dmwfa3fLUIs\\Game Trailer  One Leaves.wav\n"
     ]
    },
    {
     "name": "stderr",
     "output_type": "stream",
     "text": [
      "\n",
      "  0%|                                                  | 0/332 [00:00<?, ?it/s]\n",
      "  8%|███▎                                    | 28/332 [00:00<00:02, 144.32it/s]\n",
      " 46%|██████████████████                     | 154/332 [00:00<00:00, 196.53it/s]\n",
      " 77%|█████████████████████████████▊         | 254/332 [00:00<00:00, 256.35it/s]\n",
      "100%|███████████████████████████████████████| 332/332 [00:00<00:00, 723.27it/s]"
     ]
    },
    {
     "name": "stdout",
     "output_type": "stream",
     "text": [
      "[MoviePy] Done.\n",
      "DN3kPy-uobA\n",
      "200\n",
      "[MoviePy] Writing audio in C:/Users/Ankit/Documents/wpi/cs525/video_data/videos/ad_data\\DN3kPy-uobA\\Impeachment Now.wav\n"
     ]
    },
    {
     "name": "stderr",
     "output_type": "stream",
     "text": [
      "\n",
      "  0%|                                                  | 0/663 [00:00<?, ?it/s]\n",
      "  4%|█▋                                      | 28/663 [00:00<00:02, 279.98it/s]\n",
      " 30%|███████████▌                           | 197/663 [00:00<00:01, 373.46it/s]\n",
      " 53%|████████████████████▌                  | 349/663 [00:00<00:00, 482.68it/s]\n",
      " 77%|█████████████████████████████▉         | 509/663 [00:00<00:00, 605.75it/s]\n",
      "100%|██████████████████████████████████████| 663/663 [00:00<00:00, 1372.59it/s]"
     ]
    },
    {
     "name": "stdout",
     "output_type": "stream",
     "text": [
      "[MoviePy] Done.\n",
      "DOcmUgvEW7E\n",
      "201\n",
      "[MoviePy] Writing audio in C:/Users/Ankit/Documents/wpi/cs525/video_data/videos/ad_data\\DOcmUgvEW7E\\Introducing Smartdogs 15 - GEICO Insurance.wav\n"
     ]
    },
    {
     "name": "stderr",
     "output_type": "stream",
     "text": [
      "\n",
      "  0%|                                                  | 0/332 [00:00<?, ?it/s]\n",
      "  8%|███▍                                     | 28/332 [00:00<00:05, 55.33it/s]\n",
      " 41%|████████████████▌                       | 137/332 [00:00<00:02, 77.36it/s]\n",
      " 77%|█████████████████████████████▊         | 254/332 [00:00<00:00, 107.15it/s]\n",
      "100%|███████████████████████████████████████| 332/332 [00:00<00:00, 440.29it/s]"
     ]
    },
    {
     "name": "stdout",
     "output_type": "stream",
     "text": [
      "[MoviePy] Done.\n",
      "dRUKQYtF-zw\n",
      "202\n",
      "[MoviePy] Writing audio in C:/Users/Ankit/Documents/wpi/cs525/video_data/videos/ad_data\\dRUKQYtF-zw\\The Hustle Team Up UNAR1511HUSH.wav\n"
     ]
    },
    {
     "name": "stderr",
     "output_type": "stream",
     "text": [
      "\n",
      "  0%|                                                  | 0/334 [00:00<?, ?it/s]\n",
      " 49%|██████████████████▌                   | 163/334 [00:00<00:00, 1629.91it/s]\n",
      " 91%|██████████████████████████████████▋   | 305/334 [00:00<00:00, 1420.18it/s]\n",
      "100%|██████████████████████████████████████| 334/334 [00:00<00:00, 1314.89it/s]"
     ]
    },
    {
     "name": "stdout",
     "output_type": "stream",
     "text": [
      "[MoviePy] Done.\n",
      "dsv68WsdQ2Y\n",
      "203\n",
      "[MoviePy] Writing audio in C:/Users/Ankit/Documents/wpi/cs525/video_data/videos/ad_data\\dsv68WsdQ2Y\\Here to help Work uninterrupted.wav\n"
     ]
    },
    {
     "name": "stderr",
     "output_type": "stream",
     "text": [
      "\n",
      "  0%|                                                  | 0/222 [00:00<?, ?it/s]\n",
      " 55%|████████████████████▉                 | 122/222 [00:00<00:00, 1219.93it/s]\n",
      "100%|██████████████████████████████████████| 222/222 [00:00<00:00, 1423.00it/s]"
     ]
    },
    {
     "name": "stdout",
     "output_type": "stream",
     "text": [
      "[MoviePy] Done.\n",
      "Dta5c43xhLA\n",
      "204\n",
      "[MoviePy] Writing audio in C:/Users/Ankit/Documents/wpi/cs525/video_data/videos/ad_data\\Dta5c43xhLA\\Demand Barr Release the Mueller Report.wav\n"
     ]
    },
    {
     "name": "stderr",
     "output_type": "stream",
     "text": [
      "\n",
      "  0%|                                                  | 0/331 [00:00<?, ?it/s]\n",
      "  8%|███▍                                    | 28/331 [00:00<00:02, 149.72it/s]\n",
      " 71%|███████████████████████████▌           | 234/331 [00:00<00:00, 207.43it/s]\n",
      "100%|███████████████████████████████████████| 331/331 [00:00<00:00, 970.62it/s]"
     ]
    },
    {
     "name": "stdout",
     "output_type": "stream",
     "text": [
      "[MoviePy] Done.\n",
      "DuA2fu-JvUw\n",
      "205\n",
      "[MoviePy] Writing audio in C:/Users/Ankit/Documents/wpi/cs525/video_data/videos/ad_data\\DuA2fu-JvUw\\Energy on the Go 2 15s Unslated.wav\n"
     ]
    },
    {
     "name": "stderr",
     "output_type": "stream",
     "text": [
      "\n",
      "  0%|                                                  | 0/333 [00:00<?, ?it/s]\n",
      "  8%|███▍                                     | 28/333 [00:00<00:03, 93.64it/s]\n",
      " 30%|███████████▊                           | 101/333 [00:00<00:01, 123.52it/s]\n",
      " 46%|█████████████████▊                     | 152/333 [00:00<00:01, 159.71it/s]\n",
      " 92%|███████████████████████████████████▋   | 305/333 [00:00<00:00, 218.01it/s]\n",
      "100%|███████████████████████████████████████| 333/333 [00:00<00:00, 496.99it/s]"
     ]
    },
    {
     "name": "stdout",
     "output_type": "stream",
     "text": [
      "[MoviePy] Done.\n",
      "DUb-kqtbrBU\n",
      "206\n",
      "[MoviePy] Writing audio in C:/Users/Ankit/Documents/wpi/cs525/video_data/videos/ad_data\\DUb-kqtbrBU\\In-Stream Video.wav\n"
     ]
    },
    {
     "name": "stderr",
     "output_type": "stream",
     "text": [
      "\n",
      "  0%|                                                  | 0/665 [00:00<?, ?it/s]\n",
      "  4%|█▋                                      | 28/665 [00:00<00:02, 254.53it/s]\n",
      " 31%|███████████▉                           | 203/665 [00:00<00:01, 338.31it/s]\n",
      " 46%|█████████████████▉                     | 305/665 [00:00<00:00, 416.41it/s]\n",
      " 72%|███████████████████████████▉           | 476/665 [00:00<00:00, 538.65it/s]\n",
      "100%|██████████████████████████████████████| 665/665 [00:00<00:00, 1226.87it/s]"
     ]
    },
    {
     "name": "stdout",
     "output_type": "stream",
     "text": [
      "[MoviePy] Done.\n",
      "duwjStThjgU\n",
      "207\n",
      "[MoviePy] Writing audio in C:/Users/Ankit/Documents/wpi/cs525/video_data/videos/ad_data\\duwjStThjgU\\USCCA Ad - HDSD - David Deadly Force - Without Banner.wav\n"
     ]
    },
    {
     "name": "stderr",
     "output_type": "stream",
     "text": [
      "\n",
      "  0%|                                                  | 0/958 [00:00<?, ?it/s]\n",
      "  3%|█▏                                      | 28/958 [00:00<00:06, 143.58it/s]\n",
      " 11%|████                                   | 101/958 [00:00<00:04, 188.29it/s]\n",
      " 21%|████████▎                              | 203/958 [00:00<00:03, 239.94it/s]\n",
      " 38%|██████████████▉                        | 367/958 [00:00<00:01, 322.55it/s]\n",
      " 57%|██████████████████████                 | 542/958 [00:00<00:00, 427.05it/s]\n",
      " 68%|██████████████████████████▎            | 647/958 [00:00<00:00, 508.93it/s]\n",
      " 84%|████████████████████████████████▋      | 802/958 [00:00<00:00, 637.36it/s]\n",
      "100%|███████████████████████████████████████| 958/958 [00:00<00:00, 993.72it/s]"
     ]
    },
    {
     "name": "stdout",
     "output_type": "stream",
     "text": [
      "[MoviePy] Done.\n",
      "Dwx7df2J1tw\n",
      "208\n",
      "[MoviePy] Writing audio in C:/Users/Ankit/Documents/wpi/cs525/video_data/videos/ad_data\\Dwx7df2J1tw\\Groupon 2018 Commercial with Tiffany Haddish Playtime.wav\n"
     ]
    },
    {
     "name": "stderr",
     "output_type": "stream",
     "text": [
      "\n",
      "  0%|                                                  | 0/133 [00:00<?, ?it/s]\n",
      " 21%|████████▋                                | 28/133 [00:00<00:01, 64.36it/s]\n",
      "100%|███████████████████████████████████████| 133/133 [00:00<00:00, 273.65it/s]"
     ]
    },
    {
     "name": "stdout",
     "output_type": "stream",
     "text": [
      "[MoviePy] Done.\n",
      "dZ4tr5xirIA\n",
      "209\n",
      "[MoviePy] Writing audio in C:/Users/Ankit/Documents/wpi/cs525/video_data/videos/ad_data\\dZ4tr5xirIA\\How To Choose The Right Pressure Washer  Buying Guide.wav\n"
     ]
    },
    {
     "name": "stderr",
     "output_type": "stream",
     "text": [
      "\n",
      "  0%|                                                 | 0/3564 [00:00<?, ?it/s]\n",
      "  1%|▎                                      | 28/3564 [00:00<00:13, 271.83it/s]\n",
      "  5%|█▊                                    | 166/3564 [00:00<00:09, 358.10it/s]\n",
      " 10%|███▊                                  | 356/3564 [00:00<00:06, 470.17it/s]\n",
      " 15%|█████▊                                | 548/3564 [00:00<00:04, 607.87it/s]\n",
      " 20%|███████▊                              | 730/3564 [00:00<00:03, 759.64it/s]\n",
      " 25%|█████████▍                            | 885/3564 [00:00<00:02, 896.83it/s]\n",
      " 30%|██████████▊                         | 1070/3564 [00:00<00:02, 1060.78it/s]\n",
      " 36%|████████████▊                       | 1274/3564 [00:00<00:01, 1230.25it/s]\n",
      " 40%|██████████████▌                     | 1442/3564 [00:00<00:01, 1300.39it/s]\n",
      " 45%|████████████████▏                   | 1605/3564 [00:01<00:01, 1159.76it/s]\n",
      " 49%|█████████████████▋                  | 1747/3564 [00:01<00:01, 1169.60it/s]\n",
      " 53%|███████████████████▌                 | 1882/3564 [00:01<00:01, 954.74it/s]\n",
      " 56%|████████████████████▋                | 1997/3564 [00:01<00:01, 899.71it/s]\n",
      " 59%|█████████████████████▊               | 2101/3564 [00:01<00:01, 901.08it/s]\n",
      " 62%|██████████████████████▊              | 2201/3564 [00:01<00:01, 752.52it/s]\n",
      " 66%|████████████████████████▎            | 2345/3564 [00:02<00:01, 796.67it/s]\n",
      " 69%|█████████████████████████▍           | 2447/3564 [00:02<00:01, 819.77it/s]\n",
      " 74%|███████████████████████████▌         | 2651/3564 [00:02<00:00, 991.75it/s]\n",
      " 78%|████████████████████████████        | 2783/3564 [00:02<00:00, 1071.68it/s]\n",
      " 82%|█████████████████████████████▎      | 2907/3564 [00:02<00:00, 1114.15it/s]\n",
      " 86%|██████████████████████████████▉     | 3059/3564 [00:02<00:00, 1059.22it/s]\n",
      " 90%|████████████████████████████████▍   | 3212/3564 [00:02<00:00, 1161.61it/s]\n",
      " 94%|█████████████████████████████████▉  | 3365/3564 [00:02<00:00, 1245.91it/s]\n",
      "100%|███████████████████████████████████▉| 3562/3564 [00:02<00:00, 1400.31it/s]\n",
      "100%|████████████████████████████████████| 3564/3564 [00:02<00:00, 1221.73it/s]"
     ]
    },
    {
     "name": "stdout",
     "output_type": "stream",
     "text": [
      "[MoviePy] Done.\n",
      "dzaudt0Eg4Y\n",
      "210\n",
      "[MoviePy] Writing audio in C:/Users/Ankit/Documents/wpi/cs525/video_data/videos/ad_data\\dzaudt0Eg4Y\\Twisty Petz Series 2  Secret Twist 30 Second Commercial  Toy Pet Bracelet.wav\n"
     ]
    },
    {
     "name": "stderr",
     "output_type": "stream",
     "text": [
      "\n",
      "  0%|                                                  | 0/870 [00:00<?, ?it/s]\n",
      " 17%|██████▊                                | 152/870 [00:00<00:01, 591.41it/s]\n",
      " 29%|███████████▍                           | 254/870 [00:00<00:00, 666.10it/s]\n",
      " 47%|██████████████████▏                    | 407/870 [00:00<00:00, 694.85it/s]\n",
      " 59%|██████████████████████▊                | 509/870 [00:00<00:00, 761.43it/s]\n",
      " 72%|███████████████████████████▉           | 623/870 [00:00<00:00, 845.67it/s]\n",
      " 88%|██████████████████████████████████▏    | 764/870 [00:00<00:00, 961.06it/s]\n",
      "100%|███████████████████████████████████████| 870/870 [00:00<00:00, 933.42it/s]"
     ]
    },
    {
     "name": "stdout",
     "output_type": "stream",
     "text": [
      "[MoviePy] Done.\n",
      "DzJkCiWR6bo\n",
      "211\n",
      "[MoviePy] Writing audio in C:/Users/Ankit/Documents/wpi/cs525/video_data/videos/ad_data\\DzJkCiWR6bo\\Honda Dream Garage - 2019 Accord 15s.wav\n"
     ]
    },
    {
     "name": "stderr",
     "output_type": "stream",
     "text": [
      "\n",
      "  0%|                                                  | 0/332 [00:00<?, ?it/s]\n",
      " 41%|███████████████▍                      | 135/332 [00:00<00:00, 1349.92it/s]\n",
      " 92%|██████████████████████████████████▉   | 305/332 [00:00<00:00, 1438.79it/s]\n",
      "100%|██████████████████████████████████████| 332/332 [00:00<00:00, 1551.31it/s]"
     ]
    },
    {
     "name": "stdout",
     "output_type": "stream",
     "text": [
      "[MoviePy] Done.\n",
      "E0ijEcdnqhA\n",
      "212\n",
      "[MoviePy] Writing audio in C:/Users/Ankit/Documents/wpi/cs525/video_data/videos/ad_data\\E0ijEcdnqhA\\Tacoma FD - Dirty Thirty 30 - New Tonight  truTV.wav\n"
     ]
    },
    {
     "name": "stderr",
     "output_type": "stream",
     "text": [
      "\n",
      "  0%|                                                  | 0/663 [00:00<?, ?it/s]\n",
      "  4%|█▋                                      | 28/663 [00:00<00:06, 102.18it/s]\n",
      " 20%|███████▋                               | 131/663 [00:00<00:03, 140.02it/s]\n",
      " 41%|███████████████▉                       | 270/663 [00:00<00:02, 191.75it/s]\n",
      " 69%|██████████████████████████▊            | 456/663 [00:00<00:00, 262.34it/s]\n",
      " 92%|████████████████████████████████████   | 613/663 [00:00<00:00, 349.73it/s]\n",
      "100%|███████████████████████████████████████| 663/663 [00:00<00:00, 948.44it/s]"
     ]
    },
    {
     "name": "stdout",
     "output_type": "stream",
     "text": [
      "[MoviePy] Done.\n",
      "E0RDJ9tYw6A\n",
      "213\n",
      "[MoviePy] Writing audio in C:/Users/Ankit/Documents/wpi/cs525/video_data/videos/ad_data\\E0RDJ9tYw6A\\Malcolm Gladwell Teaches Writing  Official Trailer  MasterClass.wav\n"
     ]
    },
    {
     "name": "stderr",
     "output_type": "stream",
     "text": [
      "\n",
      "  0%|                                                 | 0/2514 [00:00<?, ?it/s]\n",
      "  1%|▍                                      | 28/2514 [00:00<00:11, 225.79it/s]\n",
      "  7%|██▋                                   | 174/2514 [00:00<00:07, 302.51it/s]\n",
      " 14%|█████▍                                | 356/2514 [00:00<00:05, 402.88it/s]\n",
      " 22%|████████▍                             | 560/2514 [00:00<00:03, 526.93it/s]\n",
      " 27%|██████████▏                           | 678/2514 [00:00<00:03, 529.00it/s]\n",
      " 34%|████████████▊                         | 847/2514 [00:00<00:02, 666.33it/s]\n",
      " 41%|██████████████▉                      | 1019/2514 [00:00<00:01, 814.03it/s]\n",
      " 47%|█████████████████▏                   | 1172/2514 [00:01<00:01, 807.51it/s]\n",
      " 51%|██████████████████▉                  | 1290/2514 [00:01<00:01, 887.95it/s]\n",
      " 57%|█████████████████████                | 1427/2514 [00:01<00:01, 855.15it/s]\n",
      " 61%|██████████████████████▌              | 1533/2514 [00:01<00:01, 655.24it/s]\n",
      " 67%|████████████████████████▊            | 1682/2514 [00:01<00:01, 740.63it/s]\n",
      " 71%|██████████████████████████▎          | 1785/2514 [00:01<00:00, 808.79it/s]\n",
      " 79%|█████████████████████████████▏       | 1984/2514 [00:01<00:00, 984.00it/s]\n",
      " 86%|███████████████████████████████     | 2166/2514 [00:02<00:00, 1141.26it/s]\n",
      " 94%|█████████████████████████████████▊  | 2361/2514 [00:02<00:00, 1303.42it/s]\n",
      "100%|████████████████████████████████████| 2514/2514 [00:02<00:00, 1147.36it/s]"
     ]
    },
    {
     "name": "stdout",
     "output_type": "stream",
     "text": [
      "[MoviePy] Done.\n",
      "E1prEHnCXd0\n",
      "214\n",
      "[MoviePy] Writing audio in C:/Users/Ankit/Documents/wpi/cs525/video_data/videos/ad_data\\E1prEHnCXd0\\Mazda CUV Anthem  Mazda USA.wav\n"
     ]
    },
    {
     "name": "stderr",
     "output_type": "stream",
     "text": [
      "\n",
      "  0%|                                                  | 0/663 [00:00<?, ?it/s]\n",
      "  4%|█▋                                       | 28/663 [00:00<00:07, 89.45it/s]\n",
      " 23%|████████▉                              | 152/663 [00:00<00:04, 121.41it/s]\n",
      " 31%|███████████▉                           | 203/663 [00:00<00:03, 152.85it/s]\n",
      " 53%|████████████████████▊                  | 354/663 [00:00<00:01, 209.28it/s]\n",
      " 77%|█████████████████████████████▉         | 509/663 [00:00<00:00, 268.66it/s]\n",
      "100%|███████████████████████████████████████| 663/663 [00:00<00:00, 671.01it/s]"
     ]
    },
    {
     "name": "stdout",
     "output_type": "stream",
     "text": [
      "[MoviePy] Done.\n",
      "E2kHrlE8bnI\n",
      "215\n",
      "[MoviePy] Writing audio in C:/Users/Ankit/Documents/wpi/cs525/video_data/videos/ad_data\\E2kHrlE8bnI\\Flight Metasearch.wav\n"
     ]
    },
    {
     "name": "stderr",
     "output_type": "stream",
     "text": [
      "\n",
      "  0%|                                                  | 0/332 [00:00<?, ?it/s]\n",
      "  8%|███▍                                     | 28/332 [00:00<00:03, 85.62it/s]\n",
      " 60%|███████████████████████▍               | 199/332 [00:00<00:01, 119.75it/s]\n",
      "100%|███████████████████████████████████████| 332/332 [00:00<00:00, 666.63it/s]"
     ]
    },
    {
     "name": "stdout",
     "output_type": "stream",
     "text": [
      "[MoviePy] Done.\n",
      "e3C96xBjGgc\n",
      "216\n",
      "[MoviePy] Writing audio in C:/Users/Ankit/Documents/wpi/cs525/video_data/videos/ad_data\\e3C96xBjGgc\\Moves feelawesome 16x9 nopromo.wav\n"
     ]
    },
    {
     "name": "stderr",
     "output_type": "stream",
     "text": [
      "\n",
      "  0%|                                                  | 0/330 [00:00<?, ?it/s]\n",
      "  8%|███▍                                     | 28/330 [00:00<00:03, 98.93it/s]\n",
      " 61%|███████████████████████▊               | 202/330 [00:00<00:00, 137.97it/s]\n",
      " 78%|██████████████████████████████▎        | 257/330 [00:00<00:00, 172.77it/s]\n",
      "100%|███████████████████████████████████████| 330/330 [00:00<00:00, 601.06it/s]"
     ]
    },
    {
     "name": "stdout",
     "output_type": "stream",
     "text": [
      "[MoviePy] Done.\n",
      "e4zvtQd0fOk\n",
      "217\n",
      "[MoviePy] Writing audio in C:/Users/Ankit/Documents/wpi/cs525/video_data/videos/ad_data\\e4zvtQd0fOk\\In-Stream Video..wav\n"
     ]
    },
    {
     "name": "stderr",
     "output_type": "stream",
     "text": [
      "\n",
      "  0%|                                                  | 0/332 [00:00<?, ?it/s]\n",
      "  8%|███▍                                     | 28/332 [00:00<00:03, 95.88it/s]\n",
      " 46%|█████████████████▊                     | 152/332 [00:00<00:01, 130.99it/s]\n",
      " 81%|███████████████████████████████▌       | 269/332 [00:00<00:00, 178.56it/s]\n",
      "100%|███████████████████████████████████████| 332/332 [00:00<00:00, 587.58it/s]"
     ]
    },
    {
     "name": "stdout",
     "output_type": "stream",
     "text": [
      "[MoviePy] Done.\n",
      "E5UR6h7GaYw\n",
      "218\n",
      "[MoviePy] Writing audio in C:/Users/Ankit/Documents/wpi/cs525/video_data/videos/ad_data\\E5UR6h7GaYw\\Untitled Ad.wav\n"
     ]
    },
    {
     "name": "stderr",
     "output_type": "stream",
     "text": [
      "\n",
      "  0%|                                                  | 0/332 [00:00<?, ?it/s]\n",
      " 30%|███████████▊                           | 101/332 [00:00<00:00, 878.21it/s]\n",
      " 61%|███████████████████████▊               | 203/332 [00:00<00:00, 911.50it/s]\n",
      "100%|██████████████████████████████████████| 332/332 [00:00<00:00, 1110.30it/s]"
     ]
    },
    {
     "name": "stdout",
     "output_type": "stream",
     "text": [
      "[MoviePy] Done.\n",
      "E6CsB386MZ4\n",
      "219\n",
      "[MoviePy] Writing audio in C:/Users/Ankit/Documents/wpi/cs525/video_data/videos/ad_data\\E6CsB386MZ4\\Effective Team Communication  Grammarly Business.wav\n"
     ]
    },
    {
     "name": "stderr",
     "output_type": "stream",
     "text": [
      "\n",
      "  0%|                                                  | 0/531 [00:00<?, ?it/s]\n",
      "  5%|██▏                                      | 28/531 [00:00<00:13, 36.36it/s]\n",
      " 19%|███████▌                                | 101/531 [00:01<00:09, 47.09it/s]\n",
      " 45%|██████████████████                      | 240/531 [00:01<00:04, 66.31it/s]\n",
      " 54%|█████████████████████▌                  | 286/531 [00:01<00:02, 87.33it/s]\n",
      " 86%|█████████████████████████████████▋     | 458/531 [00:01<00:00, 122.05it/s]\n",
      "100%|███████████████████████████████████████| 531/531 [00:01<00:00, 325.75it/s]"
     ]
    },
    {
     "name": "stdout",
     "output_type": "stream",
     "text": [
      "[MoviePy] Done.\n",
      "E6dawNAXUDI\n",
      "220\n",
      "[MoviePy] Writing audio in C:/Users/Ankit/Documents/wpi/cs525/video_data/videos/ad_data\\E6dawNAXUDI\\USCCA Ad - Tim 6 Things With Concealed Carry Banner.wav\n"
     ]
    },
    {
     "name": "stderr",
     "output_type": "stream",
     "text": [
      "\n",
      "  0%|                                                 | 0/1294 [00:00<?, ?it/s]\n",
      "  2%|▊                                      | 28/1294 [00:00<00:06, 190.47it/s]\n",
      "  8%|██▉                                   | 101/1294 [00:00<00:05, 220.95it/s]\n",
      " 12%|████▍                                 | 152/1294 [00:00<00:04, 242.65it/s]\n",
      " 23%|████████▌                             | 293/1294 [00:00<00:03, 322.83it/s]\n",
      " 31%|███████████▉                          | 407/1294 [00:00<00:02, 401.71it/s]\n",
      " 47%|█████████████████▋                    | 602/1294 [00:00<00:01, 527.31it/s]\n",
      " 57%|█████████████████████▊                | 744/1294 [00:00<00:00, 649.87it/s]\n",
      " 71%|██████████████████████████▉           | 917/1294 [00:01<00:00, 788.70it/s]\n",
      " 84%|██████████████████████████████▉      | 1081/1294 [00:01<00:00, 934.17it/s]\n",
      " 98%|███████████████████████████████████▎| 1270/1294 [00:01<00:00, 1101.24it/s]\n",
      "100%|████████████████████████████████████| 1294/1294 [00:01<00:00, 1022.06it/s]"
     ]
    },
    {
     "name": "stdout",
     "output_type": "stream",
     "text": [
      "[MoviePy] Done.\n",
      "e8oPEm6MqSI\n",
      "221\n",
      "[MoviePy] Writing audio in C:/Users/Ankit/Documents/wpi/cs525/video_data/videos/ad_data\\e8oPEm6MqSI\\Pulp-Fiction_A-New-Way-To-Make-Music_15_BM.wav\n"
     ]
    },
    {
     "name": "stderr",
     "output_type": "stream",
     "text": [
      "\n",
      "  0%|                                                  | 0/332 [00:00<?, ?it/s]\n",
      "  8%|███▎                                    | 28/332 [00:00<00:01, 225.79it/s]\n",
      " 61%|███████████████████████▊               | 203/332 [00:00<00:00, 304.54it/s]\n",
      "100%|██████████████████████████████████████| 332/332 [00:00<00:00, 1129.19it/s]"
     ]
    },
    {
     "name": "stdout",
     "output_type": "stream",
     "text": [
      "[MoviePy] Done.\n",
      "EH6Cliq7ORo\n",
      "222\n",
      "[MoviePy] Writing audio in C:/Users/Ankit/Documents/wpi/cs525/video_data/videos/ad_data\\EH6Cliq7ORo\\In-Stream Video.wav\n"
     ]
    },
    {
     "name": "stderr",
     "output_type": "stream",
     "text": [
      "\n",
      "  0%|                                                  | 0/334 [00:00<?, ?it/s]\n",
      "  8%|███▎                                    | 28/334 [00:00<00:02, 144.32it/s]\n",
      " 52%|████████████████████▍                  | 175/334 [00:00<00:00, 197.85it/s]\n",
      " 76%|█████████████████████████████▋         | 254/334 [00:00<00:00, 251.11it/s]\n",
      "100%|███████████████████████████████████████| 334/334 [00:00<00:00, 740.53it/s]"
     ]
    },
    {
     "name": "stdout",
     "output_type": "stream",
     "text": [
      "[MoviePy] Done.\n",
      "EHcSVwH1XRs\n",
      "223\n",
      "[MoviePy] Writing audio in C:/Users/Ankit/Documents/wpi/cs525/video_data/videos/ad_data\\EHcSVwH1XRs\\Marvel Studios Avengers Endgame  Action.wav\n"
     ]
    },
    {
     "name": "stderr",
     "output_type": "stream",
     "text": [
      "\n",
      "  0%|                                                  | 0/133 [00:00<?, ?it/s]\n",
      " 35%|██████████████▏                         | 47/133 [00:00<00:00, 469.97it/s]\n",
      "100%|███████████████████████████████████████| 133/133 [00:00<00:00, 910.91it/s]"
     ]
    },
    {
     "name": "stdout",
     "output_type": "stream",
     "text": [
      "[MoviePy] Done.\n",
      "EJHwqVwhYxg\n",
      "224\n",
      "[MoviePy] Writing audio in C:/Users/Ankit/Documents/wpi/cs525/video_data/videos/ad_data\\EJHwqVwhYxg\\Save Time And Money  Grammarly.wav\n"
     ]
    },
    {
     "name": "stderr",
     "output_type": "stream",
     "text": [
      "\n",
      "  0%|                                                  | 0/499 [00:00<?, ?it/s]\n",
      "  6%|██▏                                     | 28/499 [00:00<00:03, 131.45it/s]\n",
      " 41%|███████████████▊                       | 203/499 [00:00<00:01, 181.47it/s]\n",
      " 66%|█████████████████████████▋             | 329/499 [00:00<00:00, 244.17it/s]\n",
      "100%|███████████████████████████████████████| 499/499 [00:00<00:00, 968.88it/s]"
     ]
    },
    {
     "name": "stdout",
     "output_type": "stream",
     "text": [
      "[MoviePy] Done.\n",
      "EjXBms5zikc\n",
      "225\n",
      "[MoviePy] Writing audio in C:/Users/Ankit/Documents/wpi/cs525/video_data/videos/ad_data\\EjXBms5zikc\\1500662347-1_Adult Swim Video Imp DesktopMobileTablet Demo DAR_ P18-49 GTE_ FC Cap 1 Per 30_DNA….wav\n"
     ]
    },
    {
     "name": "stderr",
     "output_type": "stream",
     "text": [
      "\n",
      "  0%|                                                  | 0/332 [00:00<?, ?it/s]\n",
      " 46%|█████████████████▍                    | 152/332 [00:00<00:00, 1504.86it/s]\n",
      " 93%|███████████████████████████████████▍  | 310/332 [00:00<00:00, 1526.62it/s]\n",
      "100%|██████████████████████████████████████| 332/332 [00:00<00:00, 1565.95it/s]"
     ]
    },
    {
     "name": "stdout",
     "output_type": "stream",
     "text": [
      "[MoviePy] Done.\n",
      "enU5q0tE9kk\n",
      "226\n",
      "[MoviePy] Writing audio in C:/Users/Ankit/Documents/wpi/cs525/video_data/videos/ad_data\\enU5q0tE9kk\\MULUPGASMRINTERNET169HD 15.wav\n"
     ]
    },
    {
     "name": "stderr",
     "output_type": "stream",
     "text": [
      "\n",
      "  0%|                                                  | 0/332 [00:00<?, ?it/s]\n",
      "  8%|███▎                                    | 28/332 [00:00<00:03, 101.08it/s]\n",
      " 47%|██████████████████▎                    | 156/332 [00:00<00:01, 139.67it/s]\n",
      " 65%|█████████████████████████▍             | 217/332 [00:00<00:00, 181.70it/s]\n",
      "100%|███████████████████████████████████████| 332/332 [00:00<00:00, 606.91it/s]"
     ]
    },
    {
     "name": "stdout",
     "output_type": "stream",
     "text": [
      "[MoviePy] Done.\n",
      "eodK1k6ln5s\n",
      "227\n",
      "[MoviePy] Writing audio in C:/Users/Ankit/Documents/wpi/cs525/video_data/videos/ad_data\\eodK1k6ln5s\\Game Launch Trailer  One Leaves.wav\n"
     ]
    },
    {
     "name": "stderr",
     "output_type": "stream",
     "text": [
      "\n",
      "  0%|                                                  | 0/663 [00:00<?, ?it/s]\n",
      "  4%|█▋                                       | 28/663 [00:00<00:12, 49.47it/s]\n",
      " 23%|█████████▏                              | 152/663 [00:00<00:07, 69.29it/s]\n",
      " 31%|████████████▏                           | 203/663 [00:00<00:05, 91.04it/s]\n",
      " 38%|██████████████▉                        | 254/663 [00:01<00:03, 112.20it/s]\n",
      " 43%|████████████████▊                      | 285/663 [00:01<00:03, 116.93it/s]\n",
      " 69%|██████████████████████████▉            | 458/663 [00:01<00:01, 161.93it/s]\n",
      " 98%|██████████████████████████████████████▍| 653/663 [00:01<00:00, 223.38it/s]\n",
      "100%|███████████████████████████████████████| 663/663 [00:01<00:00, 441.97it/s]"
     ]
    },
    {
     "name": "stdout",
     "output_type": "stream",
     "text": [
      "[MoviePy] Done.\n",
      "eoSIftP6vBw\n",
      "228\n",
      "[MoviePy] Writing audio in C:/Users/Ankit/Documents/wpi/cs525/video_data/videos/ad_data\\eoSIftP6vBw\\Stop losing sleep searching for codes.wav\n"
     ]
    },
    {
     "name": "stderr",
     "output_type": "stream",
     "text": [
      "\n",
      "  0%|                                                 | 0/1324 [00:00<?, ?it/s]\n",
      "  2%|▊                                       | 28/1324 [00:00<00:24, 53.13it/s]\n",
      "  8%|██▉                                    | 101/1324 [00:00<00:17, 71.50it/s]\n",
      " 19%|███████▍                               | 254/1324 [00:00<00:10, 98.42it/s]\n",
      " 28%|██████████▋                           | 373/1324 [00:01<00:07, 135.79it/s]\n",
      " 42%|████████████████                      | 560/1324 [00:01<00:04, 187.90it/s]\n",
      " 58%|█████████████████████▉                | 764/1324 [00:01<00:02, 257.26it/s]\n",
      " 67%|█████████████████████████▍            | 887/1324 [00:01<00:01, 317.92it/s]\n",
      " 81%|█████████████████████████████▉       | 1070/1324 [00:01<00:00, 421.54it/s]\n",
      " 96%|███████████████████████████████████▌ | 1274/1324 [00:01<00:00, 549.62it/s]\n",
      "100%|█████████████████████████████████████| 1324/1324 [00:01<00:00, 809.74it/s]"
     ]
    },
    {
     "name": "stdout",
     "output_type": "stream",
     "text": [
      "[MoviePy] Done.\n",
      "ERr--rsHjAM\n",
      "229\n",
      "[MoviePy] Writing audio in C:/Users/Ankit/Documents/wpi/cs525/video_data/videos/ad_data\\ERr--rsHjAM\\Untitled Ad.wav\n"
     ]
    },
    {
     "name": "stderr",
     "output_type": "stream",
     "text": [
      "\n",
      "  0%|                                                  | 0/331 [00:00<?, ?it/s]\n",
      "  8%|███▍                                    | 28/331 [00:00<00:02, 135.91it/s]\n",
      " 46%|█████████████████▉                     | 152/331 [00:00<00:00, 185.29it/s]\n",
      " 92%|███████████████████████████████████▉   | 305/331 [00:00<00:00, 250.40it/s]\n",
      "100%|███████████████████████████████████████| 331/331 [00:00<00:00, 764.39it/s]"
     ]
    },
    {
     "name": "stdout",
     "output_type": "stream",
     "text": [
      "[MoviePy] Done.\n",
      "etkNEgstbJ0\n",
      "230\n",
      "[MoviePy] Writing audio in C:/Users/Ankit/Documents/wpi/cs525/video_data/videos/ad_data\\etkNEgstbJ0\\Games People Play New Series Tuesday April 23 109c Only On BET.wav\n"
     ]
    },
    {
     "name": "stderr",
     "output_type": "stream",
     "text": [
      "\n",
      "  0%|                                                 | 0/1325 [00:00<?, ?it/s]\n",
      "  2%|▊                                       | 28/1325 [00:00<00:23, 54.16it/s]\n",
      "  8%|██▉                                    | 101/1325 [00:00<00:16, 73.64it/s]\n",
      " 18%|██████▉                               | 241/1325 [00:00<00:10, 102.88it/s]\n",
      " 23%|████████▋                             | 305/1325 [00:00<00:07, 136.88it/s]\n",
      " 31%|███████████▋                          | 407/1325 [00:00<00:04, 184.81it/s]\n",
      " 43%|████████████████▎                     | 570/1325 [00:01<00:02, 251.78it/s]\n",
      " 54%|████████████████████▋                 | 721/1325 [00:01<00:01, 335.70it/s]\n",
      " 69%|██████████████████████████▎           | 916/1325 [00:01<00:00, 446.62it/s]\n",
      " 82%|██████████████████████████████▎      | 1084/1325 [00:01<00:00, 572.76it/s]\n",
      " 97%|███████████████████████████████████▉ | 1286/1325 [00:01<00:00, 729.57it/s]\n",
      "100%|█████████████████████████████████████| 1325/1325 [00:01<00:00, 880.93it/s]"
     ]
    },
    {
     "name": "stdout",
     "output_type": "stream",
     "text": [
      "[MoviePy] Done.\n",
      "EucNuKWkNK0\n",
      "231\n",
      "[MoviePy] Writing audio in C:/Users/Ankit/Documents/wpi/cs525/video_data/videos/ad_data\\EucNuKWkNK0\\Are My Teeth Sensitive  Sensodyne®.wav\n"
     ]
    },
    {
     "name": "stderr",
     "output_type": "stream",
     "text": [
      "\n",
      "  0%|                                                  | 0/663 [00:00<?, ?it/s]\n",
      " 15%|█████▉                                 | 101/663 [00:00<00:00, 893.76it/s]\n",
      " 35%|█████████████▌                         | 230/663 [00:00<00:00, 984.46it/s]\n",
      " 46%|█████████████████▉                     | 305/663 [00:00<00:00, 842.41it/s]\n",
      " 62%|████████████████████████               | 409/663 [00:00<00:00, 893.31it/s]\n",
      " 77%|█████████████████████████████▉         | 509/663 [00:00<00:00, 837.08it/s]\n",
      " 92%|███████████████████████████████████▉   | 611/663 [00:00<00:00, 873.30it/s]\n",
      "100%|███████████████████████████████████████| 663/663 [00:00<00:00, 945.74it/s]"
     ]
    },
    {
     "name": "stdout",
     "output_type": "stream",
     "text": [
      "[MoviePy] Done.\n",
      "EUzT6Bf3dGE\n",
      "232\n",
      "[MoviePy] Writing audio in C:/Users/Ankit/Documents/wpi/cs525/video_data/videos/ad_data\\EUzT6Bf3dGE\\Create Your Professional Website  Wixcom.wav\n"
     ]
    },
    {
     "name": "stderr",
     "output_type": "stream",
     "text": [
      "\n",
      "  0%|                                                 | 0/1594 [00:00<?, ?it/s]\n",
      "  2%|▋                                       | 28/1594 [00:00<00:19, 81.15it/s]\n",
      " 10%|███▌                                  | 152/1594 [00:00<00:12, 112.19it/s]\n",
      " 15%|█████▊                                | 244/1594 [00:00<00:08, 152.31it/s]\n",
      " 19%|███████▎                              | 305/1594 [00:00<00:06, 194.49it/s]\n",
      " 28%|██████████▋                           | 446/1594 [00:00<00:04, 262.33it/s]\n",
      " 35%|█████████████▎                        | 560/1594 [00:00<00:03, 325.06it/s]\n",
      " 45%|████████████████▉                     | 713/1594 [00:01<00:02, 397.12it/s]\n",
      " 50%|██████████████████▉                   | 792/1594 [00:01<00:01, 465.92it/s]\n",
      " 58%|█████████████████████▊                | 917/1594 [00:01<00:01, 573.92it/s]\n",
      " 67%|████████████████████████▊            | 1070/1594 [00:01<00:00, 676.35it/s]\n",
      " 74%|███████████████████████████▏         | 1172/1594 [00:01<00:00, 698.30it/s]\n",
      " 80%|█████████████████████████████▌       | 1274/1594 [00:01<00:00, 627.49it/s]\n",
      " 86%|███████████████████████████████▉     | 1376/1594 [00:01<00:00, 694.88it/s]\n",
      " 99%|████████████████████████████████████▌| 1573/1594 [00:01<00:00, 862.32it/s]\n",
      "100%|█████████████████████████████████████| 1594/1594 [00:02<00:00, 791.81it/s]"
     ]
    },
    {
     "name": "stdout",
     "output_type": "stream",
     "text": [
      "[MoviePy] Done.\n",
      "EvchlXlIIXI\n",
      "233\n",
      "[MoviePy] Writing audio in C:/Users/Ankit/Documents/wpi/cs525/video_data/videos/ad_data\\EvchlXlIIXI\\STAND WITH PRESIDENT TRUMP.wav\n"
     ]
    },
    {
     "name": "stderr",
     "output_type": "stream",
     "text": [
      "\n",
      "  0%|                                                  | 0/773 [00:00<?, ?it/s]\n",
      "  4%|█▍                                       | 28/773 [00:00<00:12, 60.47it/s]\n",
      " 26%|██████████▌                             | 203/773 [00:00<00:06, 85.13it/s]\n",
      " 45%|█████████████████▍                     | 346/773 [00:00<00:03, 118.59it/s]\n",
      " 55%|█████████████████████▌                 | 427/773 [00:00<00:02, 154.92it/s]\n",
      " 79%|██████████████████████████████▊        | 611/773 [00:00<00:00, 213.24it/s]\n",
      " 99%|██████████████████████████████████████▌| 764/773 [00:01<00:00, 287.13it/s]\n",
      "100%|███████████████████████████████████████| 773/773 [00:01<00:00, 751.90it/s]"
     ]
    },
    {
     "name": "stdout",
     "output_type": "stream",
     "text": [
      "[MoviePy] Done.\n",
      "ew0q_F2cGLw\n",
      "234\n",
      "[MoviePy] Writing audio in C:/Users/Ankit/Documents/wpi/cs525/video_data/videos/ad_data\\ew0q_F2cGLw\\In-Stream Video.wav\n"
     ]
    },
    {
     "name": "stderr",
     "output_type": "stream",
     "text": [
      "\n",
      "  0%|                                                  | 0/332 [00:00<?, ?it/s]\n",
      "  8%|███▍                                     | 28/332 [00:00<00:07, 42.04it/s]\n",
      " 30%|████████████▏                           | 101/332 [00:00<00:03, 57.84it/s]\n",
      " 46%|██████████████████▎                     | 152/332 [00:01<00:02, 73.02it/s]\n",
      " 65%|█████████████████████████▉              | 215/332 [00:01<00:01, 99.37it/s]\n",
      "100%|███████████████████████████████████████| 332/332 [00:01<00:00, 257.75it/s]"
     ]
    },
    {
     "name": "stdout",
     "output_type": "stream",
     "text": [
      "[MoviePy] Done.\n",
      "EZ2VzgBzTz0\n",
      "235\n",
      "[MoviePy] Writing audio in C:/Users/Ankit/Documents/wpi/cs525/video_data/videos/ad_data\\EZ2VzgBzTz0\\IMG Captures 2019 GEICO Nationals Title.wav\n"
     ]
    },
    {
     "name": "stderr",
     "output_type": "stream",
     "text": [
      "\n",
      "  0%|                                                 | 0/5322 [00:00<?, ?it/s]\n",
      "  1%|▏                                       | 28/5322 [00:00<02:20, 37.73it/s]\n",
      "  3%|█                                      | 152/5322 [00:00<01:37, 52.77it/s]\n",
      "  4%|█▍                                     | 203/5322 [00:01<01:13, 69.87it/s]\n",
      "  6%|██▎                                    | 321/5322 [00:01<00:51, 97.34it/s]\n",
      "  9%|███▎                                  | 458/5322 [00:01<00:36, 134.44it/s]\n",
      " 11%|████▎                                 | 611/5322 [00:01<00:26, 178.54it/s]\n",
      " 13%|████▉                                 | 686/5322 [00:01<00:20, 226.00it/s]\n",
      " 15%|█████▋                                | 802/5322 [00:01<00:15, 297.98it/s]\n",
      " 17%|██████▌                               | 917/5322 [00:01<00:11, 381.61it/s]\n",
      " 19%|███████                              | 1019/5322 [00:02<00:10, 393.20it/s]\n",
      " 21%|███████▌                             | 1096/5322 [00:02<00:09, 424.99it/s]\n",
      " 22%|████████                             | 1166/5322 [00:02<00:11, 367.26it/s]\n",
      " 24%|████████▊                            | 1274/5322 [00:02<00:09, 442.71it/s]\n",
      " 26%|█████████▌                           | 1376/5322 [00:02<00:07, 532.41it/s]\n",
      " 30%|██████████▉                          | 1570/5322 [00:02<00:05, 680.54it/s]\n",
      " 32%|███████████▋                         | 1682/5322 [00:02<00:05, 708.39it/s]\n",
      " 34%|████████████▍                        | 1784/5322 [00:03<00:05, 686.89it/s]\n",
      " 36%|█████████████▎                       | 1910/5322 [00:03<00:04, 795.42it/s]\n",
      " 38%|█████████████▉                       | 2012/5322 [00:03<00:04, 816.88it/s]\n",
      " 40%|██████████████▋                      | 2109/5322 [00:03<00:04, 724.83it/s]\n",
      " 41%|███████████████▎                     | 2195/5322 [00:03<00:04, 706.33it/s]\n",
      " 43%|███████████████▊                     | 2275/5322 [00:03<00:05, 559.88it/s]\n",
      " 44%|████████████████▎                    | 2345/5322 [00:04<00:06, 451.55it/s]\n",
      " 46%|█████████████████                    | 2447/5322 [00:04<00:05, 499.94it/s]\n",
      " 48%|█████████████████▋                   | 2549/5322 [00:04<00:06, 432.53it/s]\n",
      " 50%|██████████████████▍                  | 2651/5322 [00:04<00:05, 489.73it/s]\n",
      " 53%|███████████████████▊                 | 2847/5322 [00:04<00:03, 631.94it/s]\n",
      " 56%|████████████████████▌                | 2957/5322 [00:04<00:03, 689.01it/s]\n",
      " 57%|█████████████████████▎               | 3059/5322 [00:05<00:03, 691.86it/s]\n",
      " 59%|█████████████████████▉               | 3147/5322 [00:05<00:03, 715.81it/s]\n",
      " 62%|██████████████████████▊              | 3274/5322 [00:05<00:02, 823.62it/s]\n",
      " 63%|███████████████████████▍             | 3372/5322 [00:05<00:02, 661.74it/s]\n",
      " 66%|████████████████████████▍            | 3518/5322 [00:05<00:02, 728.75it/s]\n",
      " 69%|█████████████████████████▌           | 3671/5322 [00:05<00:01, 851.58it/s]\n",
      " 71%|██████████████████████████▏          | 3774/5322 [00:05<00:02, 746.00it/s]\n",
      " 73%|██████████████████████████▉          | 3875/5322 [00:06<00:02, 704.45it/s]\n",
      " 75%|███████████████████████████▊         | 3998/5322 [00:06<00:01, 808.01it/s]\n",
      " 78%|████████████████████████████▋        | 4130/5322 [00:06<00:01, 908.74it/s]\n",
      " 80%|█████████████████████████████▍       | 4234/5322 [00:06<00:01, 862.26it/s]\n",
      " 83%|█████████████████████████████▊      | 4406/5322 [00:06<00:00, 1013.94it/s]\n",
      " 85%|██████████████████████████████▋     | 4538/5322 [00:06<00:00, 1084.36it/s]\n",
      " 88%|███████████████████████████████▌    | 4660/5322 [00:06<00:00, 1020.42it/s]\n",
      " 90%|█████████████████████████████████▎   | 4793/5322 [00:06<00:00, 976.22it/s]\n",
      " 92%|██████████████████████████████████   | 4899/5322 [00:07<00:00, 893.69it/s]\n",
      " 96%|██████████████████████████████████▍ | 5099/5322 [00:07<00:00, 1022.20it/s]\n",
      "100%|███████████████████████████████████▊| 5303/5322 [00:07<00:00, 1191.58it/s]\n",
      "100%|█████████████████████████████████████| 5322/5322 [00:07<00:00, 731.61it/s]"
     ]
    },
    {
     "name": "stdout",
     "output_type": "stream",
     "text": [
      "[MoviePy] Done.\n",
      "F-GzTIAEhNE\n",
      "236\n",
      "[MoviePy] Writing audio in C:/Users/Ankit/Documents/wpi/cs525/video_data/videos/ad_data\\F-GzTIAEhNE\\Untitled Ad..wav\n"
     ]
    },
    {
     "name": "stderr",
     "output_type": "stream",
     "text": [
      "\n",
      "  0%|                                                  | 0/332 [00:00<?, ?it/s]\n",
      " 13%|█████▏                                  | 43/332 [00:00<00:00, 429.97it/s]\n",
      " 58%|██████████████████████▌                | 192/332 [00:00<00:00, 546.64it/s]\n",
      " 74%|████████████████████████████▉          | 246/332 [00:00<00:00, 512.08it/s]\n",
      "100%|███████████████████████████████████████| 332/332 [00:00<00:00, 875.94it/s]"
     ]
    },
    {
     "name": "stdout",
     "output_type": "stream",
     "text": [
      "[MoviePy] Done.\n",
      "f-PSrjgEHLE\n",
      "237\n",
      "[MoviePy] Writing audio in C:/Users/Ankit/Documents/wpi/cs525/video_data/videos/ad_data\\f-PSrjgEHLE\\Introducing WWE Wrekkin Slam Mobile  WWE  Mattel Action!.wav\n"
     ]
    },
    {
     "name": "stderr",
     "output_type": "stream",
     "text": [
      "\n",
      "  0%|                                                  | 0/332 [00:00<?, ?it/s]\n",
      "  8%|███▎                                    | 28/332 [00:00<00:03, 101.08it/s]\n",
      " 46%|█████████████████▊                     | 152/332 [00:00<00:01, 138.68it/s]\n",
      " 61%|███████████████████████▊               | 203/332 [00:00<00:00, 169.31it/s]\n",
      " 77%|█████████████████████████████▊         | 254/332 [00:00<00:00, 209.91it/s]\n",
      "100%|███████████████████████████████████████| 332/332 [00:00<00:00, 468.24it/s]"
     ]
    },
    {
     "name": "stdout",
     "output_type": "stream",
     "text": [
      "[MoviePy] Done.\n",
      "F6d-LqmvLsA\n",
      "238\n",
      "[MoviePy] Writing audio in C:/Users/Ankit/Documents/wpi/cs525/video_data/videos/ad_data\\F6d-LqmvLsA\\Audi “The Debriefing” - Marvel Studios’ Avengers Endgame.wav\n"
     ]
    },
    {
     "name": "stderr",
     "output_type": "stream",
     "text": [
      "\n",
      "  0%|                                                 | 0/3215 [00:00<?, ?it/s]\n",
      "  1%|▎                                      | 28/3215 [00:00<00:29, 108.94it/s]\n",
      "  3%|█▏                                    | 101/3215 [00:00<00:22, 140.29it/s]\n",
      "  8%|███                                   | 254/3215 [00:00<00:15, 191.96it/s]\n",
      " 14%|█████▏                                | 440/3215 [00:00<00:10, 262.62it/s]\n",
      " 19%|███████▏                              | 611/3215 [00:00<00:07, 351.35it/s]\n",
      " 23%|████████▌                             | 726/3215 [00:01<00:06, 367.62it/s]\n",
      " 27%|██████████▎                           | 872/3215 [00:01<00:04, 474.02it/s]\n",
      " 33%|████████████                         | 1051/3215 [00:01<00:03, 608.14it/s]\n",
      " 37%|█████████████▌                       | 1181/3215 [00:01<00:03, 671.01it/s]\n",
      " 40%|██████████████▉                      | 1299/3215 [00:01<00:02, 718.63it/s]\n",
      " 45%|████████████████▊                    | 1459/3215 [00:01<00:02, 860.89it/s]\n",
      " 51%|██████████████████▊                  | 1631/3215 [00:01<00:01, 964.90it/s]\n",
      " 55%|████████████████████▏                | 1758/3215 [00:01<00:01, 910.16it/s]\n",
      " 60%|██████████████████████▎              | 1937/3215 [00:02<00:01, 967.19it/s]\n",
      " 65%|███████████████████████▍            | 2090/3215 [00:02<00:01, 1071.17it/s]\n",
      " 71%|█████████████████████████▋          | 2294/3215 [00:02<00:00, 1240.02it/s]\n",
      " 78%|███████████████████████████▉        | 2498/3215 [00:02<00:00, 1199.56it/s]\n",
      " 82%|█████████████████████████████▍      | 2633/3215 [00:02<00:00, 1035.42it/s]\n",
      " 86%|███████████████████████████████     | 2773/3215 [00:02<00:00, 1123.15it/s]\n",
      " 92%|█████████████████████████████████   | 2957/3215 [00:02<00:00, 1261.32it/s]\n",
      " 96%|██████████████████████████████████▋ | 3098/3215 [00:02<00:00, 1187.33it/s]\n",
      "100%|████████████████████████████████████| 3215/3215 [00:03<00:00, 1064.86it/s]"
     ]
    },
    {
     "name": "stdout",
     "output_type": "stream",
     "text": [
      "[MoviePy] Done.\n",
      "F99FuGwkvc8\n",
      "239\n",
      "[MoviePy] Writing audio in C:/Users/Ankit/Documents/wpi/cs525/video_data/videos/ad_data\\F99FuGwkvc8\\Desert Order Gameplay Video.wav\n"
     ]
    },
    {
     "name": "stderr",
     "output_type": "stream",
     "text": [
      "\n",
      "  0%|                                                 | 0/1326 [00:00<?, ?it/s]\n",
      "  8%|██▉                                   | 101/1326 [00:00<00:01, 834.66it/s]\n",
      " 15%|█████▊                                | 205/1326 [00:00<00:01, 887.20it/s]\n",
      " 30%|██████████▉                          | 392/1326 [00:00<00:00, 1053.26it/s]\n",
      " 42%|███████████████▋                     | 560/1326 [00:00<00:00, 1168.65it/s]\n",
      " 58%|█████████████████████▎               | 763/1326 [00:00<00:00, 1339.10it/s]\n",
      " 69%|█████████████████████████▌           | 917/1326 [00:00<00:00, 1389.84it/s]\n",
      " 83%|██████████████████████████████      | 1107/1326 [00:00<00:00, 1511.59it/s]\n",
      " 95%|██████████████████████████████████▎ | 1264/1326 [00:00<00:00, 1493.72it/s]\n",
      "100%|████████████████████████████████████| 1326/1326 [00:00<00:00, 1513.61it/s]"
     ]
    },
    {
     "name": "stdout",
     "output_type": "stream",
     "text": [
      "[MoviePy] Done.\n",
      "FDjqu0qyaWs\n",
      "240\n",
      "[MoviePy] Writing audio in C:/Users/Ankit/Documents/wpi/cs525/video_data/videos/ad_data\\FDjqu0qyaWs\\tameimpala_safarireader_15_att_bm.wav\n"
     ]
    },
    {
     "name": "stderr",
     "output_type": "stream",
     "text": [
      "\n",
      "  0%|                                                  | 0/332 [00:00<?, ?it/s]\n",
      "  8%|███▎                                    | 28/332 [00:00<00:02, 127.85it/s]\n",
      " 41%|███████████████▉                       | 136/332 [00:00<00:01, 173.82it/s]\n",
      " 92%|███████████████████████████████████▊   | 305/332 [00:00<00:00, 237.83it/s]\n",
      "100%|███████████████████████████████████████| 332/332 [00:00<00:00, 768.47it/s]"
     ]
    },
    {
     "name": "stdout",
     "output_type": "stream",
     "text": [
      "[MoviePy] Done.\n",
      "FDXCR_FyZQQ\n",
      "241\n",
      "[MoviePy] Writing audio in C:/Users/Ankit/Documents/wpi/cs525/video_data/videos/ad_data\\FDXCR_FyZQQ\\Tresiba Grandpa 2019 61 HD 01 07.wav\n"
     ]
    },
    {
     "name": "stderr",
     "output_type": "stream",
     "text": [
      "\n",
      "  0%|                                                 | 0/1357 [00:00<?, ?it/s]\n",
      "  2%|▊                                      | 28/1357 [00:00<00:09, 133.96it/s]\n",
      " 11%|████▎                                 | 152/1357 [00:00<00:06, 182.34it/s]\n",
      " 26%|█████████▊                            | 351/1357 [00:00<00:04, 250.65it/s]\n",
      " 32%|████████████▎                         | 438/1357 [00:00<00:02, 307.88it/s]\n",
      " 45%|█████████████████▏                    | 614/1357 [00:00<00:01, 409.16it/s]\n",
      " 60%|██████████████████████▋               | 811/1357 [00:00<00:01, 536.73it/s]\n",
      " 70%|██████████████████████████▌           | 949/1357 [00:00<00:00, 657.21it/s]\n",
      " 82%|██████████████████████████████▎      | 1110/1357 [00:00<00:00, 799.07it/s]\n",
      " 94%|██████████████████████████████████▋  | 1274/1357 [00:01<00:00, 931.45it/s]\n",
      "100%|████████████████████████████████████| 1357/1357 [00:01<00:00, 1236.94it/s]"
     ]
    },
    {
     "name": "stdout",
     "output_type": "stream",
     "text": [
      "[MoviePy] Done.\n",
      "fF-Di-OFsPQ\n",
      "242\n",
      "[MoviePy] Writing audio in C:/Users/Ankit/Documents/wpi/cs525/video_data/videos/ad_data\\fF-Di-OFsPQ\\TRR Spring 2019 Campaign.wav\n"
     ]
    },
    {
     "name": "stderr",
     "output_type": "stream",
     "text": [
      "\n",
      "  0%|                                                  | 0/667 [00:00<?, ?it/s]\n",
      "  4%|█▋                                       | 28/667 [00:00<00:08, 74.66it/s]\n",
      " 15%|█████▉                                 | 101/667 [00:00<00:05, 101.12it/s]\n",
      " 23%|████████▉                              | 152/667 [00:00<00:04, 126.60it/s]\n",
      " 38%|██████████████▊                        | 254/667 [00:00<00:02, 168.74it/s]\n",
      " 53%|████████████████████▌                  | 352/667 [00:00<00:01, 224.49it/s]\n",
      " 72%|███████████████████████████▉           | 477/667 [00:01<00:00, 297.77it/s]\n",
      " 92%|███████████████████████████████████▊   | 612/667 [00:01<00:00, 388.65it/s]\n",
      "100%|███████████████████████████████████████| 667/667 [00:01<00:00, 591.28it/s]"
     ]
    },
    {
     "name": "stdout",
     "output_type": "stream",
     "text": [
      "[MoviePy] Done.\n",
      "fgTN6uFFEQQ\n",
      "243\n",
      "[MoviePy] Writing audio in C:/Users/Ankit/Documents/wpi/cs525/video_data/videos/ad_data\\fgTN6uFFEQQ\\Why YieldStreet.wav\n"
     ]
    },
    {
     "name": "stderr",
     "output_type": "stream",
     "text": [
      "\n",
      "  0%|                                                 | 0/1325 [00:00<?, ?it/s]\n",
      "  2%|▊                                       | 28/1325 [00:00<00:24, 52.43it/s]\n",
      " 11%|████▍                                  | 152/1325 [00:00<00:15, 73.53it/s]\n",
      " 15%|█████▉                                 | 203/1325 [00:00<00:11, 93.69it/s]\n",
      " 23%|████████▋                             | 305/1325 [00:00<00:07, 128.68it/s]\n",
      " 31%|███████████▋                          | 407/1325 [00:01<00:05, 169.36it/s]\n",
      " 35%|█████████████▎                        | 464/1325 [00:01<00:04, 214.62it/s]\n",
      " 42%|████████████████                      | 560/1325 [00:01<00:02, 279.79it/s]\n",
      " 54%|████████████████████▍                 | 713/1325 [00:01<00:01, 332.68it/s]\n",
      " 67%|█████████████████████████▌            | 892/1325 [00:01<00:00, 440.20it/s]\n",
      " 77%|████████████████████████████▍        | 1019/1325 [00:01<00:00, 544.70it/s]\n",
      " 92%|██████████████████████████████████▏  | 1223/1325 [00:01<00:00, 697.52it/s]\n",
      "100%|█████████████████████████████████████| 1325/1325 [00:02<00:00, 656.88it/s]"
     ]
    },
    {
     "name": "stdout",
     "output_type": "stream",
     "text": [
      "[MoviePy] Done.\n",
      "FJyJze1RyBQ\n",
      "244\n",
      "[MoviePy] Writing audio in C:/Users/Ankit/Documents/wpi/cs525/video_data/videos/ad_data\\FJyJze1RyBQ\\Are My Teeth Sensitive  Sensodyne®.wav\n"
     ]
    },
    {
     "name": "stderr",
     "output_type": "stream",
     "text": [
      "\n",
      "  0%|                                                  | 0/332 [00:00<?, ?it/s]\n",
      " 30%|███████████▊                           | 101/332 [00:00<00:00, 731.84it/s]\n",
      " 70%|███████████████████████████▎           | 233/332 [00:00<00:00, 844.75it/s]\n",
      "100%|██████████████████████████████████████| 332/332 [00:00<00:00, 1140.83it/s]"
     ]
    },
    {
     "name": "stdout",
     "output_type": "stream",
     "text": [
      "[MoviePy] Done.\n",
      "FlIdD6Kpucw\n",
      "245\n",
      "[MoviePy] Writing audio in C:/Users/Ankit/Documents/wpi/cs525/video_data/videos/ad_data\\FlIdD6Kpucw\\Welcome to Nature.wav\n"
     ]
    },
    {
     "name": "stderr",
     "output_type": "stream",
     "text": [
      "\n",
      "  0%|                                                 | 0/3074 [00:00<?, ?it/s]\n",
      "  1%|▎                                       | 28/3074 [00:00<01:01, 49.91it/s]\n",
      "  5%|█▉                                     | 152/3074 [00:00<00:41, 70.06it/s]\n",
      "  7%|██▌                                    | 203/3074 [00:00<00:31, 91.13it/s]\n",
      " 10%|███▉                                  | 317/3074 [00:00<00:21, 125.87it/s]\n",
      " 15%|█████▋                                | 458/3074 [00:01<00:15, 171.55it/s]\n",
      " 17%|██████▌                               | 533/3074 [00:01<00:12, 208.83it/s]\n",
      " 22%|████████▏                             | 662/3074 [00:01<00:09, 257.74it/s]\n",
      " 25%|█████████▍                            | 764/3074 [00:01<00:07, 320.93it/s]\n",
      " 30%|███████████▎                          | 917/3074 [00:01<00:05, 413.16it/s]\n",
      " 33%|████████████▎                        | 1019/3074 [00:01<00:04, 499.96it/s]\n",
      " 36%|█████████████▍                       | 1121/3074 [00:01<00:03, 581.15it/s]\n",
      " 39%|██████████████▌                      | 1211/3074 [00:02<00:03, 577.63it/s]\n",
      " 45%|████████████████▌                    | 1376/3074 [00:02<00:02, 694.86it/s]\n",
      " 50%|██████████████████▍                  | 1529/3074 [00:02<00:01, 816.29it/s]\n",
      " 53%|███████████████████▋                 | 1638/3074 [00:02<00:01, 841.87it/s]\n",
      " 60%|█████████████████████▍              | 1831/3074 [00:02<00:01, 1013.24it/s]\n",
      " 64%|██████████████████████▉             | 1962/3074 [00:02<00:01, 1016.26it/s]\n",
      " 70%|█████████████████████████▊           | 2141/3074 [00:02<00:00, 999.45it/s]\n",
      " 73%|███████████████████████████▏         | 2256/3074 [00:03<00:01, 783.12it/s]\n",
      " 77%|████████████████████████████▎        | 2352/3074 [00:03<00:01, 715.81it/s]\n",
      " 83%|██████████████████████████████▋      | 2549/3074 [00:03<00:00, 820.66it/s]\n",
      " 86%|███████████████████████████████▊     | 2646/3074 [00:03<00:00, 818.98it/s]\n",
      " 90%|█████████████████████████████████▏   | 2753/3074 [00:03<00:00, 851.52it/s]\n",
      " 95%|██████████████████████████████████▉  | 2906/3074 [00:03<00:00, 980.29it/s]\n",
      "100%|█████████████████████████████████████| 3074/3074 [00:03<00:00, 805.30it/s]"
     ]
    },
    {
     "name": "stdout",
     "output_type": "stream",
     "text": [
      "[MoviePy] Done.\n",
      "fm7Zm-jyCWk\n",
      "246\n",
      "[MoviePy] Writing audio in C:/Users/Ankit/Documents/wpi/cs525/video_data/videos/ad_data\\fm7Zm-jyCWk\\Watch FREE Movies & TV on Vudu.wav\n"
     ]
    },
    {
     "name": "stderr",
     "output_type": "stream",
     "text": [
      "\n",
      "  0%|                                                  | 0/664 [00:00<?, ?it/s]\n",
      "  4%|█▋                                      | 28/664 [00:00<00:03, 176.09it/s]\n",
      " 23%|████████▉                              | 152/664 [00:00<00:02, 232.33it/s]\n",
      " 38%|██████████████▉                        | 254/664 [00:00<00:01, 298.40it/s]\n",
      " 50%|███████████████████▌                   | 334/664 [00:00<00:00, 367.53it/s]\n",
      " 65%|█████████████████████████▎             | 430/664 [00:00<00:00, 451.03it/s]\n",
      " 86%|█████████████████████████████████▋     | 573/664 [00:00<00:00, 567.60it/s]\n",
      "100%|███████████████████████████████████████| 664/664 [00:00<00:00, 878.26it/s]"
     ]
    },
    {
     "name": "stdout",
     "output_type": "stream",
     "text": [
      "[MoviePy] Done.\n",
      "fM8n8jCJSMU\n",
      "247\n",
      "[MoviePy] Writing audio in C:/Users/Ankit/Documents/wpi/cs525/video_data/videos/ad_data\\fM8n8jCJSMU\\Stop wasting time Just use Honey.wav\n"
     ]
    },
    {
     "name": "stderr",
     "output_type": "stream",
     "text": [
      "\n",
      "  0%|                                                 | 0/1324 [00:00<?, ?it/s]\n",
      "  2%|▉                                      | 33/1324 [00:00<00:03, 329.98it/s]\n",
      " 12%|████▌                                 | 161/1324 [00:00<00:02, 424.50it/s]\n",
      " 22%|████████▎                             | 291/1324 [00:00<00:01, 531.98it/s]\n",
      " 31%|███████████▉                          | 415/1324 [00:00<00:01, 641.93it/s]\n",
      " 45%|█████████████████                     | 593/1324 [00:00<00:00, 794.28it/s]\n",
      " 58%|█████████████████████▉                | 764/1324 [00:00<00:00, 887.36it/s]\n",
      " 69%|██████████████████████████▎           | 917/1324 [00:00<00:00, 905.34it/s]\n",
      " 78%|████████████████████████████▋        | 1028/1324 [00:00<00:00, 811.24it/s]\n",
      " 89%|████████████████████████████████▊    | 1172/1324 [00:01<00:00, 895.21it/s]\n",
      "100%|████████████████████████████████████| 1324/1324 [00:01<00:00, 1136.42it/s]"
     ]
    },
    {
     "name": "stdout",
     "output_type": "stream",
     "text": [
      "[MoviePy] Done.\n",
      "fNtj4YFgnzI\n",
      "248\n",
      "FNTvgL2WbvM\n",
      "248\n",
      "[MoviePy] Writing audio in C:/Users/Ankit/Documents/wpi/cs525/video_data/videos/ad_data\\FNTvgL2WbvM\\Here to help Fill your heart and soul.wav\n"
     ]
    },
    {
     "name": "stderr",
     "output_type": "stream",
     "text": [
      "\n",
      "  0%|                                                  | 0/332 [00:00<?, ?it/s]\n",
      "  8%|███▍                                     | 28/332 [00:00<00:03, 98.24it/s]\n",
      " 59%|███████████████████████▏               | 197/332 [00:00<00:00, 136.93it/s]\n",
      " 92%|███████████████████████████████████▊   | 305/332 [00:00<00:00, 185.06it/s]\n",
      "100%|███████████████████████████████████████| 332/332 [00:00<00:00, 660.00it/s]"
     ]
    },
    {
     "name": "stdout",
     "output_type": "stream",
     "text": [
      "[MoviePy] Done.\n",
      "FO20rfagAqc\n",
      "249\n",
      "[MoviePy] Writing audio in C:/Users/Ankit/Documents/wpi/cs525/video_data/videos/ad_data\\FO20rfagAqc\\In-Stream Video.wav\n"
     ]
    },
    {
     "name": "stderr",
     "output_type": "stream",
     "text": [
      "\n",
      "  0%|                                                  | 0/331 [00:00<?, ?it/s]\n",
      "  8%|███▍                                     | 28/331 [00:00<00:05, 52.73it/s]\n",
      " 46%|██████████████████▎                     | 152/331 [00:00<00:02, 73.31it/s]\n",
      " 77%|█████████████████████████████▉         | 254/331 [00:00<00:00, 100.10it/s]\n",
      "100%|███████████████████████████████████████| 331/331 [00:00<00:00, 370.22it/s]"
     ]
    },
    {
     "name": "stdout",
     "output_type": "stream",
     "text": [
      "[MoviePy] Done.\n",
      "fPZf3c3TiLk\n",
      "250\n",
      "[MoviePy] Writing audio in C:/Users/Ankit/Documents/wpi/cs525/video_data/videos/ad_data\\fPZf3c3TiLk\\CVAA2399000H_QueenLatifah_Stress_15_OLV.wav\n"
     ]
    },
    {
     "name": "stderr",
     "output_type": "stream",
     "text": [
      "\n",
      "  0%|                                                  | 0/332 [00:00<?, ?it/s]\n",
      "  8%|███▍                                     | 28/332 [00:00<00:03, 95.56it/s]\n",
      " 58%|██████████████████████▍                | 191/332 [00:00<00:01, 133.16it/s]\n",
      " 73%|████████████████████████████▍          | 242/332 [00:00<00:00, 167.05it/s]\n",
      "100%|███████████████████████████████████████| 332/332 [00:00<00:00, 583.45it/s]"
     ]
    },
    {
     "name": "stdout",
     "output_type": "stream",
     "text": [
      "[MoviePy] Done.\n",
      "fP_DdTNBYOA\n",
      "251\n",
      "[MoviePy] Writing audio in C:/Users/Ankit/Documents/wpi/cs525/video_data/videos/ad_data\\fP_DdTNBYOA\\Should We Shut The Border.wav\n"
     ]
    },
    {
     "name": "stderr",
     "output_type": "stream",
     "text": [
      "\n",
      "  0%|                                                  | 0/328 [00:00<?, ?it/s]\n",
      "  9%|███▌                                     | 28/328 [00:00<00:04, 66.66it/s]\n",
      " 31%|████████████▎                           | 101/328 [00:00<00:02, 89.69it/s]\n",
      " 62%|████████████████████████▏              | 203/328 [00:00<00:01, 120.03it/s]\n",
      " 77%|██████████████████████████████▏        | 254/328 [00:00<00:00, 149.98it/s]\n",
      "100%|███████████████████████████████████████| 328/328 [00:00<00:00, 350.78it/s]"
     ]
    },
    {
     "name": "stdout",
     "output_type": "stream",
     "text": [
      "[MoviePy] Done.\n",
      "fRegToos7wM\n",
      "252\n",
      "[MoviePy] Writing audio in C:/Users/Ankit/Documents/wpi/cs525/video_data/videos/ad_data\\fRegToos7wM\\noosa yoghurt  If your dad was this smooth….wav\n"
     ]
    },
    {
     "name": "stderr",
     "output_type": "stream",
     "text": [
      "\n",
      "  0%|                                                  | 0/332 [00:00<?, ?it/s]\n",
      "  8%|███▍                                     | 28/332 [00:00<00:03, 86.41it/s]\n",
      " 55%|█████████████████████▎                 | 181/332 [00:00<00:01, 120.53it/s]\n",
      "100%|███████████████████████████████████████| 332/332 [00:00<00:00, 654.79it/s]"
     ]
    },
    {
     "name": "stdout",
     "output_type": "stream",
     "text": [
      "[MoviePy] Done.\n",
      "fSc3B4TuQ_g\n",
      "253\n",
      "[MoviePy] Writing audio in C:/Users/Ankit/Documents/wpi/cs525/video_data/videos/ad_data\\fSc3B4TuQ_g\\Beth Israel Lahey Health - Closer TV (30).wav\n"
     ]
    },
    {
     "name": "stderr",
     "output_type": "stream",
     "text": [
      "\n",
      "  0%|                                                  | 0/663 [00:00<?, ?it/s]\n",
      "  4%|█▋                                      | 28/663 [00:00<00:06, 102.94it/s]\n",
      " 27%|██████████▎                            | 176/663 [00:00<00:03, 142.79it/s]\n",
      " 55%|█████████████████████▎                 | 363/663 [00:00<00:01, 197.53it/s]\n",
      " 84%|████████████████████████████████▉      | 560/663 [00:00<00:00, 270.33it/s]\n",
      "100%|██████████████████████████████████████| 663/663 [00:00<00:00, 1059.05it/s]"
     ]
    },
    {
     "name": "stdout",
     "output_type": "stream",
     "text": [
      "[MoviePy] Done.\n",
      "FusP0lHJZtQ\n",
      "254\n",
      "[MoviePy] Writing audio in C:/Users/Ankit/Documents/wpi/cs525/video_data/videos/ad_data\\FusP0lHJZtQ\\Oven BBQ Back Ribs.wav\n"
     ]
    },
    {
     "name": "stderr",
     "output_type": "stream",
     "text": [
      "\n",
      "  0%|                                                 | 0/1292 [00:00<?, ?it/s]\n",
      "  3%|█▎                                     | 45/1292 [00:00<00:02, 449.97it/s]\n",
      " 13%|████▉                                 | 169/1292 [00:00<00:02, 556.30it/s]\n",
      " 24%|████████▉                             | 305/1292 [00:00<00:01, 659.45it/s]\n",
      " 38%|██████████████▌                       | 495/1292 [00:00<00:00, 820.08it/s]\n",
      " 46%|█████████████████▋                    | 600/1292 [00:00<00:01, 685.25it/s]\n",
      " 53%|████████████████████▏                 | 688/1292 [00:00<00:00, 684.31it/s]\n",
      " 61%|███████████████████████               | 784/1292 [00:00<00:00, 748.81it/s]\n",
      " 74%|████████████████████████████▏         | 959/1292 [00:00<00:00, 903.95it/s]\n",
      " 83%|██████████████████████████████▋      | 1072/1292 [00:01<00:00, 886.92it/s]\n",
      " 91%|█████████████████████████████████▋   | 1177/1292 [00:01<00:00, 830.87it/s]\n",
      "100%|████████████████████████████████████| 1292/1292 [00:01<00:00, 1000.72it/s]"
     ]
    },
    {
     "name": "stdout",
     "output_type": "stream",
     "text": [
      "[MoviePy] Done.\n",
      "FUzHAv0vg5c\n",
      "255\n",
      "[MoviePy] Writing audio in C:/Users/Ankit/Documents/wpi/cs525/video_data/videos/ad_data\\FUzHAv0vg5c\\Ketel One Botanical  73 Calorie Cocktails.wav\n"
     ]
    },
    {
     "name": "stderr",
     "output_type": "stream",
     "text": [
      "\n",
      "  0%|                                                  | 0/332 [00:00<?, ?it/s]\n",
      "  8%|███▍                                     | 28/332 [00:00<00:03, 88.05it/s]\n",
      " 46%|█████████████████▊                     | 152/332 [00:00<00:01, 121.85it/s]\n",
      " 77%|█████████████████████████████▊         | 254/332 [00:00<00:00, 164.47it/s]\n",
      "100%|███████████████████████████████████████| 332/332 [00:00<00:00, 566.52it/s]"
     ]
    },
    {
     "name": "stdout",
     "output_type": "stream",
     "text": [
      "[MoviePy] Done.\n",
      "fVRYJogbLVc\n",
      "256\n",
      "[MoviePy] Writing audio in C:/Users/Ankit/Documents/wpi/cs525/video_data/videos/ad_data\\fVRYJogbLVc\\LZSJ582017H_17_H2_BRAND_ANTHEM_COMMERCIAL_DUAL_WEB_15SEC_1920.wav\n"
     ]
    },
    {
     "name": "stderr",
     "output_type": "stream",
     "text": [
      "\n",
      "  0%|                                                  | 0/332 [00:00<?, ?it/s]\n",
      "  8%|███▍                                     | 28/332 [00:00<00:03, 76.29it/s]\n",
      " 33%|████████████▊                          | 109/332 [00:00<00:02, 104.76it/s]\n",
      " 77%|█████████████████████████████▊         | 254/332 [00:00<00:00, 141.71it/s]\n",
      "100%|███████████████████████████████████████| 332/332 [00:00<00:00, 187.82it/s]"
     ]
    },
    {
     "name": "stdout",
     "output_type": "stream",
     "text": [
      "[MoviePy] Done.\n",
      "FxYynwPKgM4\n",
      "257\n",
      "[MoviePy] Writing audio in C:/Users/Ankit/Documents/wpi/cs525/video_data/videos/ad_data\\FxYynwPKgM4\\Schoolboy Q Preroll.wav\n"
     ]
    },
    {
     "name": "stderr",
     "output_type": "stream",
     "text": [
      "\n",
      "  0%|                                                  | 0/335 [00:00<?, ?it/s]\n",
      "  8%|███▍                                     | 28/335 [00:00<00:05, 55.77it/s]\n",
      " 30%|████████████                            | 101/335 [00:00<00:03, 76.91it/s]\n",
      " 64%|████████████████████████▉              | 214/335 [00:00<00:01, 106.75it/s]\n",
      "100%|███████████████████████████████████████| 335/335 [00:00<00:00, 421.36it/s]"
     ]
    },
    {
     "name": "stdout",
     "output_type": "stream",
     "text": [
      "[MoviePy] Done.\n",
      "G2i_5eBnMKk\n",
      "258\n",
      "[MoviePy] Writing audio in C:/Users/Ankit/Documents/wpi/cs525/video_data/videos/ad_data\\G2i_5eBnMKk\\Here to help Teach an old dog new tricks.wav\n"
     ]
    },
    {
     "name": "stderr",
     "output_type": "stream",
     "text": [
      "\n",
      "  0%|                                                  | 0/332 [00:00<?, ?it/s]\n",
      "  8%|███▍                                     | 28/332 [00:00<00:07, 42.17it/s]\n",
      " 30%|████████████▏                           | 101/332 [00:00<00:03, 57.94it/s]\n",
      " 50%|███████████████████▉                    | 165/332 [00:00<00:02, 79.68it/s]\n",
      "100%|███████████████████████████████████████| 332/332 [00:01<00:00, 326.75it/s]"
     ]
    },
    {
     "name": "stdout",
     "output_type": "stream",
     "text": [
      "[MoviePy] Done.\n",
      "G3x-_0Lmj3s\n",
      "259\n",
      "[MoviePy] Writing audio in C:/Users/Ankit/Documents/wpi/cs525/video_data/videos/ad_data\\G3x-_0Lmj3s\\Video_UPROXX_Sprite-PZCFXV_VID15 unskippable-MULTI_1 x 1_GM-Demo-Third Party-National-P1224-NG_I….wav\n"
     ]
    },
    {
     "name": "stderr",
     "output_type": "stream",
     "text": [
      "\n",
      "  0%|                                                  | 0/332 [00:00<?, ?it/s]\n",
      " 45%|█████████████████                     | 149/332 [00:00<00:00, 1489.91it/s]\n",
      " 61%|███████████████████████▊               | 203/332 [00:00<00:00, 897.42it/s]\n",
      "100%|██████████████████████████████████████| 332/332 [00:00<00:00, 1050.57it/s]"
     ]
    },
    {
     "name": "stdout",
     "output_type": "stream",
     "text": [
      "[MoviePy] Done.\n",
      "G3ybT4Xf7ww\n",
      "260\n",
      "[MoviePy] Writing audio in C:/Users/Ankit/Documents/wpi/cs525/video_data/videos/ad_data\\G3ybT4Xf7ww\\tameimpala_findmyiphone_06_verizon_wm.wav\n"
     ]
    },
    {
     "name": "stderr",
     "output_type": "stream",
     "text": [
      "\n",
      "  0%|                                                  | 0/133 [00:00<?, ?it/s]\n",
      " 21%|████████▍                               | 28/133 [00:00<00:00, 179.48it/s]\n",
      "100%|███████████████████████████████████████| 133/133 [00:00<00:00, 565.92it/s]"
     ]
    },
    {
     "name": "stdout",
     "output_type": "stream",
     "text": [
      "[MoviePy] Done.\n",
      "g5oWxP-dK5k\n",
      "261\n",
      "[MoviePy] Writing audio in C:/Users/Ankit/Documents/wpi/cs525/video_data/videos/ad_data\\g5oWxP-dK5k\\sundaycandy_locker_06_verizon_wm.wav\n"
     ]
    },
    {
     "name": "stderr",
     "output_type": "stream",
     "text": [
      "\n",
      "  0%|                                                  | 0/133 [00:00<?, ?it/s]\n",
      " 21%|████████▋                                | 28/133 [00:00<00:01, 98.24it/s]\n",
      "100%|███████████████████████████████████████| 133/133 [00:00<00:00, 371.49it/s]"
     ]
    },
    {
     "name": "stdout",
     "output_type": "stream",
     "text": [
      "[MoviePy] Done.\n",
      "G7w-u_avOUo\n",
      "262\n",
      "[MoviePy] Writing audio in C:/Users/Ankit/Documents/wpi/cs525/video_data/videos/ad_data\\G7w-u_avOUo\\Untitled Ad.wav\n"
     ]
    },
    {
     "name": "stderr",
     "output_type": "stream",
     "text": [
      "\n",
      "  0%|                                                  | 0/332 [00:00<?, ?it/s]\n",
      " 43%|████████████████▎                     | 142/332 [00:00<00:00, 1419.92it/s]\n",
      " 92%|██████████████████████████████████▉   | 305/332 [00:00<00:00, 1477.00it/s]\n",
      "100%|██████████████████████████████████████| 332/332 [00:00<00:00, 1515.89it/s]"
     ]
    },
    {
     "name": "stdout",
     "output_type": "stream",
     "text": [
      "[MoviePy] Done.\n",
      "Gcjq5xZBOsA\n",
      "263\n",
      "[MoviePy] Writing audio in C:/Users/Ankit/Documents/wpi/cs525/video_data/videos/ad_data\\Gcjq5xZBOsA\\sundaycandy_imessage_06_sprint_wm.wav\n"
     ]
    },
    {
     "name": "stderr",
     "output_type": "stream",
     "text": [
      "\n",
      "  0%|                                                  | 0/134 [00:00<?, ?it/s]\n",
      "100%|██████████████████████████████████████| 134/134 [00:00<00:00, 1353.46it/s]"
     ]
    },
    {
     "name": "stdout",
     "output_type": "stream",
     "text": [
      "[MoviePy] Done.\n",
      "GcZEB8p85ng\n",
      "264\n",
      "[MoviePy] Writing audio in C:/Users/Ankit/Documents/wpi/cs525/video_data/videos/ad_data\\GcZEB8p85ng\\Big Moments 15 sec.wav\n"
     ]
    },
    {
     "name": "stderr",
     "output_type": "stream",
     "text": [
      "\n",
      "  0%|                                                  | 0/332 [00:00<?, ?it/s]\n",
      "  8%|███▎                                    | 28/332 [00:00<00:02, 118.64it/s]\n",
      " 46%|█████████████████▊                     | 152/332 [00:00<00:01, 162.74it/s]\n",
      " 67%|█████████████████████████▉             | 221/332 [00:00<00:00, 211.14it/s]\n",
      " 81%|███████████████████████████████▋       | 270/332 [00:00<00:00, 251.48it/s]\n",
      "100%|███████████████████████████████████████| 332/332 [00:00<00:00, 575.36it/s]"
     ]
    },
    {
     "name": "stdout",
     "output_type": "stream",
     "text": [
      "[MoviePy] Done.\n",
      "gd_0nQndlOU\n",
      "265\n",
      "[MoviePy] Writing audio in C:/Users/Ankit/Documents/wpi/cs525/video_data/videos/ad_data\\gd_0nQndlOU\\Grilled Ranch Pork Chops with Peach Jalapeño Salsa.wav\n"
     ]
    },
    {
     "name": "stderr",
     "output_type": "stream",
     "text": [
      "\n",
      "  0%|                                                  | 0/332 [00:00<?, ?it/s]\n",
      "  8%|███▍                                     | 28/332 [00:00<00:03, 87.49it/s]\n",
      " 30%|███████████▊                           | 101/332 [00:00<00:01, 116.83it/s]\n",
      " 61%|███████████████████████▊               | 203/332 [00:00<00:00, 156.46it/s]\n",
      "100%|███████████████████████████████████████| 332/332 [00:00<00:00, 496.98it/s]"
     ]
    },
    {
     "name": "stdout",
     "output_type": "stream",
     "text": [
      "[MoviePy] Done.\n",
      "GfdftpYdC9U\n",
      "266\n",
      "[MoviePy] Writing audio in C:/Users/Ankit/Documents/wpi/cs525/video_data/videos/ad_data\\GfdftpYdC9U\\TH-IH-Course-TECH-Unity-YT5-Medium-EN-unitybritish.wav\n"
     ]
    },
    {
     "name": "stderr",
     "output_type": "stream",
     "text": [
      "\n",
      "  0%|                                                  | 0/968 [00:00<?, ?it/s]\n",
      "  3%|█▏                                      | 28/968 [00:00<00:07, 123.34it/s]\n",
      " 10%|████                                   | 101/968 [00:00<00:05, 150.86it/s]\n",
      " 22%|████████▌                              | 212/968 [00:00<00:03, 203.65it/s]\n",
      " 42%|████████████████▎                      | 405/968 [00:00<00:02, 278.34it/s]\n",
      " 51%|███████████████████▊                   | 493/968 [00:00<00:01, 344.40it/s]\n",
      " 68%|██████████████████████████▋            | 662/968 [00:00<00:00, 442.53it/s]\n",
      " 89%|██████████████████████████████████▋    | 862/968 [00:01<00:00, 577.42it/s]\n",
      "100%|███████████████████████████████████████| 968/968 [00:01<00:00, 912.29it/s]"
     ]
    },
    {
     "name": "stdout",
     "output_type": "stream",
     "text": [
      "[MoviePy] Done.\n",
      "GfqE6v7Sj2k\n",
      "267\n",
      "[MoviePy] Writing audio in C:/Users/Ankit/Documents/wpi/cs525/video_data/videos/ad_data\\GfqE6v7Sj2k\\2020 US Senate Announcement Video Share.wav\n"
     ]
    },
    {
     "name": "stderr",
     "output_type": "stream",
     "text": [
      "\n",
      "  0%|                                                  | 0/646 [00:00<?, ?it/s]\n",
      " 16%|██████                                | 104/646 [00:00<00:00, 1039.94it/s]\n",
      " 39%|██████████████▉                       | 254/646 [00:00<00:00, 1145.31it/s]\n",
      " 50%|███████████████████▍                   | 321/646 [00:00<00:00, 599.53it/s]\n",
      " 58%|██████████████████████▊                | 377/646 [00:00<00:00, 416.70it/s]\n",
      " 66%|█████████████████████████▌             | 424/646 [00:00<00:00, 320.91it/s]\n",
      " 80%|███████████████████████████████▎       | 519/646 [00:00<00:00, 400.47it/s]\n",
      "100%|███████████████████████████████████████| 646/646 [00:01<00:00, 612.87it/s]"
     ]
    },
    {
     "name": "stdout",
     "output_type": "stream",
     "text": [
      "[MoviePy] Done.\n",
      "GfYs5I3ZA0s\n",
      "268\n",
      "[MoviePy] Writing audio in C:/Users/Ankit/Documents/wpi/cs525/video_data/videos/ad_data\\GfYs5I3ZA0s\\Here to help Find it where you left it.wav\n"
     ]
    },
    {
     "name": "stderr",
     "output_type": "stream",
     "text": [
      "\n",
      "  0%|                                                  | 0/332 [00:00<?, ?it/s]\n",
      " 31%|███████████▋                          | 102/332 [00:00<00:00, 1019.94it/s]\n",
      " 92%|██████████████████████████████████▉   | 305/332 [00:00<00:00, 1190.45it/s]\n",
      "100%|██████████████████████████████████████| 332/332 [00:00<00:00, 1529.87it/s]"
     ]
    },
    {
     "name": "stdout",
     "output_type": "stream",
     "text": [
      "[MoviePy] Done.\n",
      "GG2WVUMDjm4\n",
      "269\n",
      "[MoviePy] Writing audio in C:/Users/Ankit/Documents/wpi/cs525/video_data/videos/ad_data\\GG2WVUMDjm4\\Bakugan Battle Planet Official Episode 3 Quick Version.wav\n"
     ]
    },
    {
     "name": "stderr",
     "output_type": "stream",
     "text": [
      "\n",
      "  0%|                                                 | 0/3492 [00:00<?, ?it/s]\n",
      "  4%|█▍                                   | 141/3492 [00:00<00:02, 1409.92it/s]\n",
      "  9%|███▎                                 | 315/3492 [00:00<00:02, 1494.98it/s]\n",
      " 14%|█████                                | 476/3492 [00:00<00:01, 1527.70it/s]\n",
      " 19%|███████                              | 662/3492 [00:00<00:01, 1597.55it/s]\n",
      " 23%|████████▌                             | 790/3492 [00:00<00:04, 602.65it/s]\n",
      " 25%|█████████▋                            | 887/3492 [00:01<00:05, 484.34it/s]\n",
      " 31%|███████████▎                         | 1070/3492 [00:01<00:04, 578.40it/s]\n",
      " 34%|████████████▋                        | 1198/3492 [00:01<00:03, 692.22it/s]\n",
      " 39%|██████████████▍                      | 1367/3492 [00:01<00:02, 841.22it/s]\n",
      " 44%|████████████████▎                    | 1537/3492 [00:01<00:01, 991.46it/s]\n",
      " 49%|█████████████████▊                  | 1728/3492 [00:01<00:01, 1158.61it/s]\n",
      " 54%|███████████████████▍                | 1887/3492 [00:01<00:01, 1261.25it/s]\n",
      " 59%|█████████████████████▎              | 2063/3492 [00:01<00:01, 1378.42it/s]\n",
      " 64%|███████████████████████             | 2243/3492 [00:02<00:00, 1482.57it/s]\n",
      " 69%|████████████████████████▊           | 2410/3492 [00:02<00:00, 1509.24it/s]\n",
      " 74%|██████████████████████████▊         | 2600/3492 [00:02<00:00, 1576.43it/s]\n",
      " 80%|████████████████████████████▋       | 2780/3492 [00:02<00:00, 1637.42it/s]\n",
      " 85%|███████████████████████████████▎     | 2952/3492 [00:03<00:01, 448.21it/s]\n",
      " 89%|█████████████████████████████████    | 3117/3492 [00:03<00:00, 573.53it/s]\n",
      " 93%|██████████████████████████████████▌  | 3263/3492 [00:03<00:00, 695.25it/s]\n",
      " 99%|████████████████████████████████████▋| 3463/3492 [00:03<00:00, 864.42it/s]\n",
      "100%|█████████████████████████████████████| 3492/3492 [00:03<00:00, 927.19it/s]"
     ]
    },
    {
     "name": "stdout",
     "output_type": "stream",
     "text": [
      "[MoviePy] Done.\n",
      "GhusZXkEmyQ\n",
      "270\n",
      "[MoviePy] Writing audio in C:/Users/Ankit/Documents/wpi/cs525/video_data/videos/ad_data\\GhusZXkEmyQ\\RPA TV 15.wav\n"
     ]
    },
    {
     "name": "stderr",
     "output_type": "stream",
     "text": [
      "\n",
      "  0%|                                                  | 0/332 [00:00<?, ?it/s]\n",
      " 38%|██████████████▌                       | 127/332 [00:00<00:00, 1269.93it/s]\n",
      " 91%|██████████████████████████████████▍   | 301/332 [00:00<00:00, 1381.91it/s]\n",
      "100%|██████████████████████████████████████| 332/332 [00:00<00:00, 1509.00it/s]"
     ]
    },
    {
     "name": "stdout",
     "output_type": "stream",
     "text": [
      "[MoviePy] Done.\n",
      "gJzyO61dtT4\n",
      "271\n",
      "[MoviePy] Writing audio in C:/Users/Ankit/Documents/wpi/cs525/video_data/videos/ad_data\\gJzyO61dtT4\\sundaycandy_maps_06_tmobile_wm.wav\n"
     ]
    },
    {
     "name": "stderr",
     "output_type": "stream",
     "text": [
      "\n",
      "  0%|                                                  | 0/134 [00:00<?, ?it/s]\n",
      " 21%|████████▎                               | 28/134 [00:00<00:01, 102.94it/s]\n",
      "100%|███████████████████████████████████████| 134/134 [00:00<00:00, 362.14it/s]"
     ]
    },
    {
     "name": "stdout",
     "output_type": "stream",
     "text": [
      "[MoviePy] Done.\n",
      "GKSAJdKEGRA\n",
      "272\n",
      "go1jaIRQc-o\n",
      "272\n",
      "[MoviePy] Writing audio in C:/Users/Ankit/Documents/wpi/cs525/video_data/videos/ad_data\\go1jaIRQc-o\\Breakthrough  Official Trailer [HD]  20th Century FOX.wav\n"
     ]
    },
    {
     "name": "stderr",
     "output_type": "stream",
     "text": [
      "\n",
      "  0%|                                                 | 0/3335 [00:00<?, ?it/s]\n",
      "  3%|█▏                                    | 101/3335 [00:00<00:03, 971.10it/s]\n",
      "  9%|███▏                                 | 285/3335 [00:00<00:02, 1131.37it/s]\n",
      " 11%|████                                  | 361/3335 [00:00<00:03, 892.81it/s]\n",
      " 15%|█████▋                               | 509/3335 [00:00<00:02, 1001.08it/s]\n",
      " 21%|███████▉                             | 712/3335 [00:00<00:02, 1180.59it/s]\n",
      " 26%|█████████▌                           | 857/3335 [00:00<00:01, 1250.26it/s]\n",
      " 31%|███████████                         | 1026/3335 [00:00<00:01, 1356.10it/s]\n",
      " 36%|█████████████                       | 1211/3335 [00:00<00:01, 1474.15it/s]\n",
      " 42%|██████████████▉                     | 1387/3335 [00:00<00:01, 1549.63it/s]\n",
      " 47%|█████████████████                   | 1580/3335 [00:01<00:01, 1634.43it/s]\n",
      " 53%|███████████████████▏                | 1783/3335 [00:01<00:00, 1735.89it/s]\n",
      " 59%|█████████████████████▊               | 1963/3335 [00:01<00:02, 598.81it/s]\n",
      " 63%|███████████████████████▎             | 2096/3335 [00:02<00:02, 590.11it/s]\n",
      " 69%|█████████████████████████▍           | 2293/3335 [00:02<00:01, 747.10it/s]\n",
      " 74%|███████████████████████████▎         | 2460/3335 [00:02<00:00, 895.57it/s]\n",
      " 79%|████████████████████████████▌       | 2651/3335 [00:02<00:00, 1024.17it/s]\n",
      " 86%|██████████████████████████████▊     | 2855/3335 [00:02<00:00, 1193.46it/s]\n",
      " 92%|████████████████████████████████▉   | 3054/3335 [00:02<00:00, 1356.31it/s]\n",
      " 97%|███████████████████████████████████ | 3245/3335 [00:02<00:00, 1485.48it/s]\n",
      "100%|████████████████████████████████████| 3335/3335 [00:02<00:00, 1185.92it/s]"
     ]
    },
    {
     "name": "stdout",
     "output_type": "stream",
     "text": [
      "[MoviePy] Done.\n",
      "gp1VFW4qHoo\n",
      "273\n",
      "MoviePy error: failed to read the duration of file C:/Users/Ankit/Documents/wpi/cs525/video_data/videos/ad_data\\gp1VFW4qHoo\\Poshmark - Join The Largest Social Commerce Marketplace!.mp4.\n",
      "Here are the file infos returned by ffmpeg:\n",
      "\n",
      "ffmpeg version 3.2.4 Copyright (c) 2000-2017 the FFmpeg developers\n",
      "  built with gcc 6.3.0 (GCC)\n",
      "  configuration: --enable-gpl --enable-version3 --enable-d3d11va --enable-dxva2 --enable-libmfx --enable-nvenc --enable-avisynth --enable-bzlib --enable-fontconfig --enable-frei0r --enable-gnutls --enable-iconv --enable-libass --enable-libbluray --enable-libbs2b --enable-libcaca --enable-libfreetype --enable-libgme --enable-libgsm --enable-libilbc --enable-libmodplug --enable-libmp3lame --enable-libopencore-amrnb --enable-libopencore-amrwb --enable-libopenh264 --enable-libopenjpeg --enable-libopus --enable-librtmp --enable-libsnappy --enable-libsoxr --enable-libspeex --enable-libtheora --enable-libtwolame --enable-libvidstab --enable-libvo-amrwbenc --enable-libvorbis --enable-libvpx --enable-libwavpack --enable-libwebp --enable-libx264 --enable-libx265 --enable-libxavs --enable-libxvid --enable-libzimg --enable-lzma --enable-zlib\n",
      "  libavutil      55. 34.101 / 55. 34.101\n",
      "  libavcodec     57. 64.101 / 57. 64.101\n",
      "  libavformat    57. 56.101 / 57. 56.101\n",
      "  libavdevice    57.  1.100 / 57.  1.100\n",
      "  libavfilter     6. 65.100 /  6. 65.100\n",
      "  libswscale      4.  2.100 /  4.  2.100\n",
      "  libswresample   2.  3.100 /  2.  3.100\n",
      "  libpostproc    54.  1.100 / 54.  1.100\n",
      "[mov,mp4,m4a,3gp,3g2,mj2 @ 00358240] Format mov,mp4,m4a,3gp,3g2,mj2 detected only with low score of 1, misdetection possible!\n",
      "[mov,mp4,m4a,3gp,3g2,mj2 @ 00358240] moov atom not found\n",
      "C:/Users/Ankit/Documents/wpi/cs525/video_data/videos/ad_data\\gp1VFW4qHoo\\Poshmark - Join The Largest Social Commerce Marketplace!.mp4: Invalid data found when processing input\n",
      "\n",
      "gP5z-4J2Jsc\n",
      "273\n",
      "[MoviePy] Writing audio in C:/Users/Ankit/Documents/wpi/cs525/video_data/videos/ad_data\\gP5z-4J2Jsc\\Pulled Pork Tostadas.wav\n"
     ]
    },
    {
     "name": "stderr",
     "output_type": "stream",
     "text": [
      "\n",
      "  0%|                                                 | 0/1654 [00:00<?, ?it/s]\n",
      " 10%|███▋                                 | 164/1654 [00:00<00:00, 1639.91it/s]\n",
      " 13%|████▉                                 | 214/1654 [00:00<00:02, 480.09it/s]\n",
      " 15%|█████▊                                | 254/1654 [00:00<00:08, 174.19it/s]\n",
      " 18%|███████                               | 305/1654 [00:01<00:07, 192.05it/s]\n",
      " 22%|████████▏                             | 356/1654 [00:01<00:06, 193.04it/s]\n",
      " 25%|█████████▎                            | 407/1654 [00:01<00:05, 212.38it/s]\n",
      " 28%|██████████▌                           | 458/1654 [00:01<00:04, 251.36it/s]\n",
      " 37%|█████████████▉                        | 606/1654 [00:01<00:03, 334.72it/s]\n",
      " 46%|█████████████████▌                    | 764/1654 [00:01<00:02, 438.37it/s]\n",
      " 57%|█████████████████████▋                | 942/1654 [00:02<00:01, 566.45it/s]\n",
      " 64%|███████████████████████▊             | 1062/1654 [00:02<00:00, 657.56it/s]\n",
      " 71%|██████████████████████████▎          | 1178/1654 [00:02<00:00, 504.36it/s]\n",
      " 77%|████████████████████████████▍        | 1269/1654 [00:02<00:01, 373.10it/s]\n",
      " 86%|███████████████████████████████▋     | 1418/1654 [00:02<00:00, 481.34it/s]\n",
      " 96%|███████████████████████████████████▎ | 1580/1654 [00:03<00:00, 608.58it/s]\n",
      "100%|█████████████████████████████████████| 1654/1654 [00:03<00:00, 531.46it/s]"
     ]
    },
    {
     "name": "stdout",
     "output_type": "stream",
     "text": [
      "[MoviePy] Done.\n",
      "GqCQTP2ufng\n",
      "274\n",
      "[MoviePy] Writing audio in C:/Users/Ankit/Documents/wpi/cs525/video_data/videos/ad_data\\GqCQTP2ufng\\Watch FREE Movies & TV on Vudu.wav\n"
     ]
    },
    {
     "name": "stderr",
     "output_type": "stream",
     "text": [
      "\n",
      "  0%|                                                  | 0/664 [00:00<?, ?it/s]\n",
      " 24%|█████████                             | 158/664 [00:00<00:00, 1579.91it/s]\n",
      " 51%|███████████████████▌                  | 341/664 [00:00<00:00, 1647.43it/s]\n",
      " 77%|█████████████████████████████▏        | 509/664 [00:00<00:00, 1632.88it/s]\n",
      "100%|██████████████████████████████████████| 664/664 [00:00<00:00, 1738.12it/s]"
     ]
    },
    {
     "name": "stdout",
     "output_type": "stream",
     "text": [
      "[MoviePy] Done.\n",
      "gru5-jKwj2s\n",
      "275\n",
      "[MoviePy] Writing audio in C:/Users/Ankit/Documents/wpi/cs525/video_data/videos/ad_data\\gru5-jKwj2s\\Decide for Yourself.wav\n"
     ]
    },
    {
     "name": "stderr",
     "output_type": "stream",
     "text": [
      "\n",
      "  0%|                                                  | 0/663 [00:00<?, ?it/s]\n",
      " 15%|█████▉                                  | 99/663 [00:00<00:00, 989.94it/s]\n",
      " 38%|██████████████▌                       | 254/663 [00:00<00:00, 1062.34it/s]\n",
      " 64%|████████████████████████▎             | 425/663 [00:00<00:00, 1198.51it/s]\n",
      " 90%|██████████████████████████████████▏   | 596/663 [00:00<00:00, 1316.64it/s]\n",
      "100%|██████████████████████████████████████| 663/663 [00:00<00:00, 1441.22it/s]"
     ]
    },
    {
     "name": "stdout",
     "output_type": "stream",
     "text": [
      "[MoviePy] Done.\n",
      "GsYi4BU7GUs\n",
      "276\n",
      "gT4vKuxZPEM\n",
      "276\n",
      "[MoviePy] Writing audio in C:/Users/Ankit/Documents/wpi/cs525/video_data/videos/ad_data\\gT4vKuxZPEM\\Five People One Bathroom    Clorox Ultra Clean Disinfecting Wipes.wav\n"
     ]
    },
    {
     "name": "stderr",
     "output_type": "stream",
     "text": [
      "\n",
      "  0%|                                                  | 0/332 [00:00<?, ?it/s]\n",
      " 24%|█████████▋                              | 80/332 [00:00<00:00, 799.95it/s]\n",
      " 77%|█████████████████████████████▊         | 254/332 [00:00<00:00, 945.34it/s]\n",
      "100%|██████████████████████████████████████| 332/332 [00:00<00:00, 1366.18it/s]"
     ]
    },
    {
     "name": "stdout",
     "output_type": "stream",
     "text": [
      "[MoviePy] Done.\n",
      "guMH3gMNvTU\n",
      "277\n",
      "[MoviePy] Writing audio in C:/Users/Ankit/Documents/wpi/cs525/video_data/videos/ad_data\\guMH3gMNvTU\\Untitled Ad.wav\n"
     ]
    },
    {
     "name": "stderr",
     "output_type": "stream",
     "text": [
      "\n",
      "  0%|                                                  | 0/332 [00:00<?, ?it/s]\n",
      " 39%|██████████████▉                       | 131/332 [00:00<00:00, 1309.93it/s]\n",
      " 75%|████████████████████████████▍         | 248/332 [00:00<00:00, 1264.53it/s]\n",
      "100%|██████████████████████████████████████| 332/332 [00:00<00:00, 1338.63it/s]"
     ]
    },
    {
     "name": "stdout",
     "output_type": "stream",
     "text": [
      "[MoviePy] Done.\n",
      "gv9k2hwyOLM\n",
      "278\n",
      "[MoviePy] Writing audio in C:/Users/Ankit/Documents/wpi/cs525/video_data/videos/ad_data\\gv9k2hwyOLM\\Untitled Ad.wav\n"
     ]
    },
    {
     "name": "stderr",
     "output_type": "stream",
     "text": [
      "\n",
      "  0%|                                                  | 0/332 [00:00<?, ?it/s]\n",
      " 13%|█████▎                                  | 44/332 [00:00<00:00, 439.97it/s]\n",
      " 30%|███████████▊                           | 101/332 [00:00<00:00, 249.57it/s]\n",
      " 46%|█████████████████▊                     | 152/332 [00:00<00:00, 243.26it/s]\n",
      " 81%|███████████████████████████████▌       | 269/332 [00:00<00:00, 319.08it/s]\n",
      "100%|███████████████████████████████████████| 332/332 [00:00<00:00, 363.22it/s]"
     ]
    },
    {
     "name": "stdout",
     "output_type": "stream",
     "text": [
      "[MoviePy] Done.\n",
      "GWtwgSU9eFs\n",
      "279\n",
      "[MoviePy] Writing audio in C:/Users/Ankit/Documents/wpi/cs525/video_data/videos/ad_data\\GWtwgSU9eFs\\7645295  YT Nonskip  v2 dresses.wav\n"
     ]
    },
    {
     "name": "stderr",
     "output_type": "stream",
     "text": [
      "\n",
      "  0%|                                                  | 0/332 [00:00<?, ?it/s]\n",
      " 30%|███████████▊                           | 101/332 [00:00<00:00, 901.73it/s]\n",
      " 61%|███████████████████████▊               | 203/332 [00:00<00:00, 890.19it/s]\n",
      "100%|██████████████████████████████████████| 332/332 [00:00<00:00, 1037.44it/s]"
     ]
    },
    {
     "name": "stdout",
     "output_type": "stream",
     "text": [
      "[MoviePy] Done.\n",
      "G_PErhOFq2o\n",
      "280\n",
      "[MoviePy] Writing audio in C:/Users/Ankit/Documents/wpi/cs525/video_data/videos/ad_data\\G_PErhOFq2o\\Brick Building Social Animation.wav\n"
     ]
    },
    {
     "name": "stderr",
     "output_type": "stream",
     "text": [
      "\n",
      "  0%|                                                  | 0/333 [00:00<?, ?it/s]\n",
      "  9%|███▌                                    | 30/333 [00:00<00:01, 299.98it/s]\n",
      " 30%|███████████▊                           | 101/333 [00:01<00:01, 146.33it/s]\n",
      " 46%|█████████████████▊                     | 152/333 [00:01<00:01, 169.96it/s]\n",
      " 99%|██████████████████████████████████████▌| 329/333 [00:01<00:00, 233.21it/s]\n",
      "100%|███████████████████████████████████████| 333/333 [00:01<00:00, 228.23it/s]"
     ]
    },
    {
     "name": "stdout",
     "output_type": "stream",
     "text": [
      "[MoviePy] Done.\n",
      "h5Z8p3X5PTI\n",
      "281\n",
      "[MoviePy] Writing audio in C:/Users/Ankit/Documents/wpi/cs525/video_data/videos/ad_data\\h5Z8p3X5PTI\\Dont Be a Browser Get Chrome now.wav\n"
     ]
    },
    {
     "name": "stderr",
     "output_type": "stream",
     "text": [
      "\n",
      "  0%|                                                  | 0/332 [00:00<?, ?it/s]\n",
      " 43%|████████████████▎                     | 143/332 [00:00<00:00, 1429.92it/s]\n",
      "100%|██████████████████████████████████████| 332/332 [00:00<00:00, 1659.90it/s]"
     ]
    },
    {
     "name": "stdout",
     "output_type": "stream",
     "text": [
      "[MoviePy] Done.\n",
      "h6l1YFWVeZ8\n",
      "282\n",
      "[MoviePy] Writing audio in C:/Users/Ankit/Documents/wpi/cs525/video_data/videos/ad_data\\h6l1YFWVeZ8\\100800522-1_NBCNG Portfolio [All Platforms] [15 30] Video [PRE-EMPTIBLE].wav\n"
     ]
    },
    {
     "name": "stderr",
     "output_type": "stream",
     "text": [
      "\n",
      "  0%|                                                  | 0/333 [00:00<?, ?it/s]\n",
      " 30%|███████████▊                           | 101/333 [00:00<00:01, 222.95it/s]\n",
      " 79%|██████████████████████████████▊        | 263/333 [00:00<00:00, 300.75it/s]\n",
      "100%|███████████████████████████████████████| 333/333 [00:00<00:00, 565.33it/s]"
     ]
    },
    {
     "name": "stdout",
     "output_type": "stream",
     "text": [
      "[MoviePy] Done.\n",
      "H8DpjQN7hiU\n",
      "283\n",
      "[MoviePy] Writing audio in C:/Users/Ankit/Documents/wpi/cs525/video_data/videos/ad_data\\H8DpjQN7hiU\\WalkMe In Real Life.wav\n"
     ]
    },
    {
     "name": "stderr",
     "output_type": "stream",
     "text": [
      "\n",
      "  0%|                                                 | 0/1519 [00:00<?, ?it/s]\n",
      " 10%|███▋                                 | 152/1519 [00:00<00:00, 1504.86it/s]\n",
      " 22%|████████                             | 329/1519 [00:00<00:00, 1575.65it/s]\n",
      " 30%|███████████▏                         | 458/1519 [00:00<00:00, 1287.27it/s]\n",
      " 43%|████████████████                     | 658/1519 [00:00<00:00, 1441.35it/s]\n",
      " 54%|███████████████████▊                 | 815/1519 [00:00<00:00, 1445.01it/s]\n",
      " 64%|███████████████████████▌             | 968/1519 [00:00<00:00, 1367.05it/s]\n",
      " 72%|██████████████████████████▋          | 1094/1519 [00:00<00:00, 969.81it/s]\n",
      " 79%|█████████████████████████████▏       | 1200/1519 [00:01<00:00, 366.50it/s]\n",
      " 84%|███████████████████████████████▏     | 1279/1519 [00:01<00:00, 415.38it/s]\n",
      " 97%|███████████████████████████████████▉ | 1477/1519 [00:01<00:00, 544.44it/s]\n",
      "100%|█████████████████████████████████████| 1519/1519 [00:01<00:00, 813.99it/s]"
     ]
    },
    {
     "name": "stdout",
     "output_type": "stream",
     "text": [
      "[MoviePy] Done.\n",
      "ha8PiLaPWuA\n",
      "284\n",
      "[MoviePy] Writing audio in C:/Users/Ankit/Documents/wpi/cs525/video_data/videos/ad_data\\ha8PiLaPWuA\\Untitled Ad.wav\n"
     ]
    },
    {
     "name": "stderr",
     "output_type": "stream",
     "text": [
      "\n",
      "  0%|                                                  | 0/333 [00:00<?, ?it/s]\n",
      " 51%|███████████████████▍                  | 170/333 [00:00<00:00, 1699.90it/s]\n",
      "100%|██████████████████████████████████████| 333/333 [00:00<00:00, 1656.62it/s]"
     ]
    },
    {
     "name": "stdout",
     "output_type": "stream",
     "text": [
      "[MoviePy] Done.\n",
      "HAErOS8HgAU\n",
      "285\n",
      "[MoviePy] Writing audio in C:/Users/Ankit/Documents/wpi/cs525/video_data/videos/ad_data\\HAErOS8HgAU\\100815098-1_NBCEG NBC UF Partner Show Mix P2+ Non-Skippable Shortform Video..wav\n"
     ]
    },
    {
     "name": "stderr",
     "output_type": "stream",
     "text": [
      "\n",
      "  0%|                                                  | 0/332 [00:00<?, ?it/s]\n",
      " 45%|█████████████████▏                    | 150/332 [00:00<00:00, 1499.92it/s]\n",
      " 92%|██████████████████████████████████▉   | 305/332 [00:00<00:00, 1501.37it/s]\n",
      "100%|██████████████████████████████████████| 332/332 [00:00<00:00, 1529.86it/s]"
     ]
    },
    {
     "name": "stdout",
     "output_type": "stream",
     "text": [
      "[MoviePy] Done.\n",
      "HCDIqcG7wZM\n",
      "286\n",
      "[MoviePy] Writing audio in C:/Users/Ankit/Documents/wpi/cs525/video_data/videos/ad_data\\HCDIqcG7wZM\\Here to help Keep your memories.wav\n"
     ]
    },
    {
     "name": "stderr",
     "output_type": "stream",
     "text": [
      "\n",
      "  0%|                                                  | 0/332 [00:00<?, ?it/s]\n",
      " 30%|███████████▊                           | 101/332 [00:00<00:00, 540.08it/s]\n",
      " 91%|███████████████████████████████████▎   | 301/332 [00:00<00:00, 691.50it/s]\n",
      "100%|██████████████████████████████████████| 332/332 [00:00<00:00, 1077.86it/s]"
     ]
    },
    {
     "name": "stdout",
     "output_type": "stream",
     "text": [
      "[MoviePy] Done.\n",
      "hcTVe_gwtS0\n",
      "287\n",
      "[MoviePy] Writing audio in C:/Users/Ankit/Documents/wpi/cs525/video_data/videos/ad_data\\hcTVe_gwtS0\\WWF Elephant.wav\n"
     ]
    },
    {
     "name": "stderr",
     "output_type": "stream",
     "text": [
      "\n",
      "  0%|                                                  | 0/663 [00:00<?, ?it/s]\n",
      " 10%|███▊                                    | 64/663 [00:00<00:00, 639.96it/s]\n",
      " 31%|███████████▉                           | 203/663 [00:00<00:00, 757.32it/s]\n",
      " 60%|███████████████████████▍               | 398/663 [00:00<00:00, 927.50it/s]\n",
      " 84%|████████████████████████████████      | 560/663 [00:00<00:00, 1049.45it/s]\n",
      "100%|██████████████████████████████████████| 663/663 [00:00<00:00, 1428.80it/s]"
     ]
    },
    {
     "name": "stdout",
     "output_type": "stream",
     "text": [
      "[MoviePy] Done.\n",
      "he4NEpnFBvA\n",
      "288\n",
      "[MoviePy] Writing audio in C:/Users/Ankit/Documents/wpi/cs525/video_data/videos/ad_data\\he4NEpnFBvA\\Skechers GOwalk 5 commercial.wav\n"
     ]
    },
    {
     "name": "stderr",
     "output_type": "stream",
     "text": [
      "\n",
      "  0%|                                                  | 0/332 [00:00<?, ?it/s]\n",
      " 30%|███████████▊                           | 101/332 [00:00<00:00, 855.88it/s]\n",
      " 76%|█████████████████████████████▋         | 253/332 [00:00<00:00, 984.98it/s]\n",
      " 95%|█████████████████████████████████████▏ | 317/332 [00:00<00:00, 467.19it/s]\n",
      "100%|███████████████████████████████████████| 332/332 [00:00<00:00, 622.85it/s]"
     ]
    },
    {
     "name": "stdout",
     "output_type": "stream",
     "text": [
      "[MoviePy] Done.\n",
      "HejHz5wMJCU\n",
      "289\n",
      "[MoviePy] Writing audio in C:/Users/Ankit/Documents/wpi/cs525/video_data/videos/ad_data\\HejHz5wMJCU\\BTXC OwnYourLook V2.wav\n"
     ]
    },
    {
     "name": "stderr",
     "output_type": "stream",
     "text": [
      "\n",
      "  0%|                                                 | 0/1325 [00:00<?, ?it/s]\n",
      "  8%|██▉                                   | 101/1325 [00:00<00:01, 980.53it/s]\n",
      " 22%|████████                             | 287/1325 [00:00<00:00, 1142.59it/s]\n",
      " 31%|███████████▎                         | 407/1325 [00:00<00:00, 1152.53it/s]\n",
      " 46%|████████████████▉                    | 607/1325 [00:00<00:00, 1320.36it/s]\n",
      " 58%|█████████████████████▍               | 767/1325 [00:00<00:00, 1393.40it/s]\n",
      " 72%|██████████████████████████▊          | 958/1325 [00:00<00:00, 1516.43it/s]\n",
      " 84%|██████████████████████████████▏     | 1109/1325 [00:00<00:00, 1496.46it/s]\n",
      " 97%|██████████████████████████████████▉ | 1288/1325 [00:00<00:00, 1573.86it/s]\n",
      "100%|████████████████████████████████████| 1325/1325 [00:00<00:00, 1598.22it/s]"
     ]
    },
    {
     "name": "stdout",
     "output_type": "stream",
     "text": [
      "[MoviePy] Done.\n",
      "HGfE0QLboNs\n",
      "290\n",
      "[MoviePy] Writing audio in C:/Users/Ankit/Documents/wpi/cs525/video_data/videos/ad_data\\HGfE0QLboNs\\2019 Mitsubishi Outlander CUV  Daughter REMIX Commercial (15)  Mitsubishi Motors.wav\n"
     ]
    },
    {
     "name": "stderr",
     "output_type": "stream",
     "text": [
      "\n",
      "  0%|                                                  | 0/332 [00:00<?, ?it/s]\n",
      " 30%|███████████▊                           | 101/332 [00:00<00:00, 502.46it/s]\n",
      " 46%|█████████████████▊                     | 152/332 [00:00<00:00, 225.80it/s]\n",
      " 61%|███████████████████████▊               | 203/332 [00:00<00:00, 241.13it/s]\n",
      "100%|██████████████████████████████████████▉| 331/332 [00:00<00:00, 318.74it/s]\n",
      "100%|███████████████████████████████████████| 332/332 [00:01<00:00, 329.02it/s]"
     ]
    },
    {
     "name": "stdout",
     "output_type": "stream",
     "text": [
      "[MoviePy] Done.\n",
      "HhaUcqodoMo\n",
      "291\n",
      "[MoviePy] Writing audio in C:/Users/Ankit/Documents/wpi/cs525/video_data/videos/ad_data\\HhaUcqodoMo\\The Official Trump Store.wav\n"
     ]
    },
    {
     "name": "stderr",
     "output_type": "stream",
     "text": [
      "\n",
      "  0%|                                                  | 0/443 [00:00<?, ?it/s]\n",
      " 37%|█████████████▉                        | 163/443 [00:00<00:00, 1629.91it/s]\n",
      " 80%|██████████████████████████████▌       | 356/443 [00:00<00:00, 1709.63it/s]\n",
      "100%|██████████████████████████████████████| 443/443 [00:00<00:00, 1808.06it/s]"
     ]
    },
    {
     "name": "stdout",
     "output_type": "stream",
     "text": [
      "[MoviePy] Done.\n",
      "HHMcV9YZEiY\n",
      "292\n",
      "[MoviePy] Writing audio in C:/Users/Ankit/Documents/wpi/cs525/video_data/videos/ad_data\\HHMcV9YZEiY\\Reach Your Goals as a Runner  Get Cash Back with Rakuten.wav\n"
     ]
    },
    {
     "name": "stderr",
     "output_type": "stream",
     "text": [
      "\n",
      "  0%|                                                  | 0/662 [00:00<?, ?it/s]\n",
      "  5%|█▉                                      | 33/662 [00:00<00:01, 329.98it/s]\n",
      " 34%|█████████████▍                         | 228/662 [00:00<00:00, 439.52it/s]\n",
      " 46%|█████████████████▉                     | 305/662 [00:00<00:01, 344.61it/s]\n",
      " 54%|█████████████████████                  | 358/662 [00:00<00:01, 257.58it/s]\n",
      " 66%|█████████████████████████▋             | 435/662 [00:00<00:00, 321.83it/s]\n",
      " 92%|███████████████████████████████████▉   | 611/662 [00:01<00:00, 423.57it/s]\n",
      "100%|███████████████████████████████████████| 662/662 [00:01<00:00, 603.43it/s]"
     ]
    },
    {
     "name": "stdout",
     "output_type": "stream",
     "text": [
      "[MoviePy] Done.\n",
      "Hn06Ef87NsM\n",
      "293\n",
      "HQJU0twtB0s\n",
      "293\n",
      "[MoviePy] Writing audio in C:/Users/Ankit/Documents/wpi/cs525/video_data/videos/ad_data\\HQJU0twtB0s\\adidas Originals  Nite Jogger  Tokyo 10.wav\n"
     ]
    },
    {
     "name": "stderr",
     "output_type": "stream",
     "text": [
      "\n",
      "  0%|                                                  | 0/221 [00:00<?, ?it/s]\n",
      " 17%|██████▋                                 | 37/221 [00:00<00:00, 369.98it/s]\n",
      " 86%|█████████████████████████████████▎     | 189/221 [00:00<00:00, 478.61it/s]\n",
      "100%|███████████████████████████████████████| 221/221 [00:00<00:00, 990.97it/s]"
     ]
    },
    {
     "name": "stdout",
     "output_type": "stream",
     "text": [
      "[MoviePy] Done.\n",
      "HqY4I29ja_U\n",
      "294\n",
      "[MoviePy] Writing audio in C:/Users/Ankit/Documents/wpi/cs525/video_data/videos/ad_data\\HqY4I29ja_U\\Convey Emotion – Japanese Mastery  2019 Mazda3  Mazda USA.wav\n"
     ]
    },
    {
     "name": "stderr",
     "output_type": "stream",
     "text": [
      "\n",
      "  0%|                                                  | 0/332 [00:00<?, ?it/s]\n",
      " 12%|████▊                                   | 40/332 [00:00<00:00, 399.98it/s]\n",
      " 62%|████████████████████████▏              | 206/332 [00:00<00:00, 517.91it/s]\n",
      "100%|██████████████████████████████████████| 332/332 [00:00<00:00, 1267.10it/s]"
     ]
    },
    {
     "name": "stdout",
     "output_type": "stream",
     "text": [
      "[MoviePy] Done.\n",
      "hrSU56Uc7cM\n",
      "295\n",
      "[MoviePy] Writing audio in C:/Users/Ankit/Documents/wpi/cs525/video_data/videos/ad_data\\hrSU56Uc7cM\\Make The World You Want 15s.wav\n"
     ]
    },
    {
     "name": "stderr",
     "output_type": "stream",
     "text": [
      "\n",
      "  0%|                                                  | 0/332 [00:00<?, ?it/s]\n",
      " 30%|███████████▊                           | 101/332 [00:00<00:00, 258.96it/s]\n",
      " 46%|█████████████████▊                     | 152/332 [00:00<00:00, 206.93it/s]\n",
      " 90%|███████████████████████████████████    | 299/332 [00:00<00:00, 278.79it/s]\n",
      "100%|███████████████████████████████████████| 332/332 [00:00<00:00, 379.41it/s]"
     ]
    },
    {
     "name": "stdout",
     "output_type": "stream",
     "text": [
      "[MoviePy] Done.\n",
      "HRUuo3elaiU\n",
      "296\n",
      "[MoviePy] Writing audio in C:/Users/Ankit/Documents/wpi/cs525/video_data/videos/ad_data\\HRUuo3elaiU\\McDonalds_Fizzy_GCM_Innovid_REV_2..wav\n"
     ]
    },
    {
     "name": "stderr",
     "output_type": "stream",
     "text": [
      "\n",
      "  0%|                                                  | 0/333 [00:00<?, ?it/s]\n",
      "  8%|███▎                                    | 28/333 [00:00<00:01, 277.21it/s]\n",
      " 37%|██████████████▍                        | 123/333 [00:00<00:00, 351.99it/s]\n",
      " 92%|███████████████████████████████████▋   | 305/333 [00:00<00:00, 462.59it/s]\n",
      "100%|██████████████████████████████████████| 333/333 [00:00<00:00, 1037.32it/s]"
     ]
    },
    {
     "name": "stdout",
     "output_type": "stream",
     "text": [
      "[MoviePy] Done.\n",
      "hSaQ2Rd-HEc\n",
      "297\n",
      "[MoviePy] Writing audio in C:/Users/Ankit/Documents/wpi/cs525/video_data/videos/ad_data\\hSaQ2Rd-HEc\\QDOBA - Fresh It (Short Version).wav\n"
     ]
    },
    {
     "name": "stderr",
     "output_type": "stream",
     "text": [
      "\n",
      "  0%|                                                  | 0/332 [00:00<?, ?it/s]\n",
      " 49%|██████████████████▌                   | 162/332 [00:00<00:00, 1619.91it/s]\n",
      " 95%|████████████████████████████████████  | 315/332 [00:00<00:00, 1591.82it/s]\n",
      "100%|██████████████████████████████████████| 332/332 [00:00<00:00, 1580.86it/s]"
     ]
    },
    {
     "name": "stdout",
     "output_type": "stream",
     "text": [
      "[MoviePy] Done.\n",
      "HUc_p0C48l8\n",
      "298\n",
      "[MoviePy] Writing audio in C:/Users/Ankit/Documents/wpi/cs525/video_data/videos/ad_data\\HUc_p0C48l8\\Have TheTextTalk.wav\n"
     ]
    },
    {
     "name": "stderr",
     "output_type": "stream",
     "text": [
      "\n",
      "  0%|                                                 | 0/4164 [00:00<?, ?it/s]\n",
      "  1%|▎                                      | 28/4164 [00:00<00:29, 140.70it/s]\n",
      "  2%|▉                                     | 101/4164 [00:00<00:26, 152.97it/s]\n",
      "  4%|█▍                                    | 152/4164 [00:00<00:20, 192.76it/s]\n",
      "  5%|█▊                                    | 203/4164 [00:00<00:19, 199.68it/s]\n",
      "  9%|███▏                                  | 356/4164 [00:01<00:14, 269.29it/s]\n",
      " 13%|█████                                 | 554/4164 [00:01<00:09, 363.52it/s]\n",
      " 17%|██████▍                               | 709/4164 [00:01<00:07, 471.88it/s]\n",
      " 21%|████████                              | 885/4164 [00:01<00:05, 604.63it/s]\n",
      " 26%|█████████▌                           | 1070/4164 [00:01<00:04, 743.92it/s]\n",
      " 31%|███████████▎                         | 1274/4164 [00:01<00:03, 915.38it/s]\n",
      " 35%|████████████▊                       | 1478/4164 [00:01<00:02, 1087.99it/s]\n",
      " 40%|██████████████▎                     | 1652/4164 [00:01<00:02, 1225.77it/s]\n",
      " 44%|███████████████▊                    | 1835/4164 [00:01<00:01, 1357.49it/s]\n",
      " 49%|█████████████████▋                  | 2039/4164 [00:01<00:01, 1485.84it/s]\n",
      " 53%|███████████████████▏                | 2218/4164 [00:02<00:01, 1046.57it/s]\n",
      " 57%|████████████████████▉                | 2362/4164 [00:02<00:03, 545.41it/s]\n",
      " 61%|██████████████████████▍              | 2522/4164 [00:02<00:02, 679.83it/s]\n",
      " 65%|████████████████████████             | 2708/4164 [00:03<00:01, 839.65it/s]\n",
      " 70%|█████████████████████████           | 2906/4164 [00:03<00:01, 1008.81it/s]\n",
      " 74%|██████████████████████████▍         | 3063/4164 [00:03<00:00, 1117.90it/s]\n",
      " 78%|████████████████████████████▏       | 3263/4164 [00:03<00:00, 1268.74it/s]\n",
      " 83%|█████████████████████████████▉      | 3457/4164 [00:03<00:00, 1415.68it/s]\n",
      " 87%|███████████████████████████████▍    | 3634/4164 [00:03<00:00, 1506.10it/s]\n",
      " 91%|████████████████████████████████▉   | 3809/4164 [00:03<00:00, 1542.70it/s]\n",
      " 96%|██████████████████████████████████▍ | 3981/4164 [00:03<00:00, 1591.90it/s]\n",
      "100%|████████████████████████████████████| 4164/4164 [00:03<00:00, 1090.56it/s]"
     ]
    },
    {
     "name": "stdout",
     "output_type": "stream",
     "text": [
      "[MoviePy] Done.\n",
      "hunXC076lv0\n",
      "299\n",
      "[MoviePy] Writing audio in C:/Users/Ankit/Documents/wpi/cs525/video_data/videos/ad_data\\hunXC076lv0\\Eater_SpringLeisureFY19_Video-Youtube_JustBrittle15  243099349.wav\n"
     ]
    },
    {
     "name": "stderr",
     "output_type": "stream",
     "text": [
      "\n",
      "  0%|                                                  | 0/333 [00:00<?, ?it/s]\n",
      " 30%|███████████▊                           | 101/333 [00:00<00:00, 706.25it/s]\n",
      " 46%|█████████████████▊                     | 152/333 [00:00<00:00, 528.77it/s]\n",
      " 61%|███████████████████████▊               | 203/333 [00:00<00:00, 328.14it/s]\n",
      "100%|███████████████████████████████████████| 333/333 [00:00<00:00, 508.37it/s]"
     ]
    },
    {
     "name": "stdout",
     "output_type": "stream",
     "text": [
      "[MoviePy] Done.\n",
      "HZBpT-oFOw8\n",
      "300\n",
      "[MoviePy] Writing audio in C:/Users/Ankit/Documents/wpi/cs525/video_data/videos/ad_data\\HZBpT-oFOw8\\In-Stream Video.wav\n"
     ]
    },
    {
     "name": "stderr",
     "output_type": "stream",
     "text": [
      "\n",
      "  0%|                                                  | 0/331 [00:00<?, ?it/s]\n",
      " 31%|███████████▉                           | 101/331 [00:00<00:00, 901.73it/s]\n",
      " 61%|███████████████████████▉               | 203/331 [00:00<00:00, 909.23it/s]\n",
      "100%|██████████████████████████████████████| 331/331 [00:00<00:00, 1050.73it/s]"
     ]
    },
    {
     "name": "stdout",
     "output_type": "stream",
     "text": [
      "[MoviePy] Done.\n",
      "H_TRMsWcy4k\n",
      "301\n",
      "[MoviePy] Writing audio in C:/Users/Ankit/Documents/wpi/cs525/video_data/videos/ad_data\\H_TRMsWcy4k\\Pork Chop Basics.wav\n"
     ]
    },
    {
     "name": "stderr",
     "output_type": "stream",
     "text": [
      "\n",
      "  0%|                                                  | 0/785 [00:00<?, ?it/s]\n",
      "  4%|█▌                                      | 30/785 [00:00<00:02, 299.98it/s]\n",
      " 13%|█████                                  | 101/785 [00:00<00:02, 316.29it/s]\n",
      " 19%|███████▌                               | 152/785 [00:00<00:02, 269.73it/s]\n",
      " 26%|██████████                             | 203/785 [00:00<00:02, 209.05it/s]\n",
      " 41%|███████████████▊                       | 318/785 [00:01<00:01, 277.06it/s]\n",
      " 49%|███████████████████▏                   | 387/785 [00:01<00:01, 337.68it/s]\n",
      " 71%|███████████████████████████▊           | 560/785 [00:01<00:00, 442.77it/s]\n",
      " 86%|█████████████████████████████████▋     | 679/785 [00:01<00:00, 545.53it/s]\n",
      "100%|███████████████████████████████████████| 785/785 [00:01<00:00, 566.75it/s]"
     ]
    },
    {
     "name": "stdout",
     "output_type": "stream",
     "text": [
      "[MoviePy] Done.\n",
      "I-9Pxh5xXBc\n",
      "302\n",
      "[MoviePy] Writing audio in C:/Users/Ankit/Documents/wpi/cs525/video_data/videos/ad_data\\I-9Pxh5xXBc\\Jamf Now Ad.wav\n"
     ]
    },
    {
     "name": "stderr",
     "output_type": "stream",
     "text": [
      "\n",
      "  0%|                                                  | 0/794 [00:00<?, ?it/s]\n",
      " 17%|██████▌                               | 136/794 [00:00<00:00, 1359.92it/s]\n",
      " 39%|██████████████▋                       | 308/794 [00:00<00:00, 1451.03it/s]\n",
      " 64%|████████████████████████▎             | 508/794 [00:00<00:00, 1581.22it/s]\n",
      " 89%|█████████████████████████████████▋    | 703/794 [00:00<00:00, 1676.30it/s]\n",
      "100%|██████████████████████████████████████| 794/794 [00:00<00:00, 1748.80it/s]"
     ]
    },
    {
     "name": "stdout",
     "output_type": "stream",
     "text": [
      "[MoviePy] Done.\n",
      "I3f0rclX4D4\n",
      "303\n",
      "[MoviePy] Writing audio in C:/Users/Ankit/Documents/wpi/cs525/video_data/videos/ad_data\\I3f0rclX4D4\\100815098-1_NBCEG NBC UF Partner Show Mix P2+ Non-Skippable Shortform Video..wav\n"
     ]
    },
    {
     "name": "stderr",
     "output_type": "stream",
     "text": [
      "\n",
      "  0%|                                                  | 0/134 [00:00<?, ?it/s]\n",
      "100%|██████████████████████████████████████| 134/134 [00:00<00:00, 1654.23it/s]"
     ]
    },
    {
     "name": "stdout",
     "output_type": "stream",
     "text": [
      "[MoviePy] Done.\n",
      "I4FxXKIZUms\n",
      "304\n",
      "[MoviePy] Writing audio in C:/Users/Ankit/Documents/wpi/cs525/video_data/videos/ad_data\\I4FxXKIZUms\\Brunch à la Empty Fridge.wav\n"
     ]
    },
    {
     "name": "stderr",
     "output_type": "stream",
     "text": [
      "\n",
      "  0%|                                                  | 0/332 [00:00<?, ?it/s]\n",
      "  8%|███▍                                     | 28/332 [00:00<00:07, 43.14it/s]\n",
      " 46%|██████████████████▎                     | 152/332 [00:00<00:02, 60.40it/s]\n",
      "100%|███████████████████████████████████████| 332/332 [00:00<00:00, 376.40it/s]"
     ]
    },
    {
     "name": "stdout",
     "output_type": "stream",
     "text": [
      "[MoviePy] Done.\n",
      "I540W716NEU\n",
      "305\n",
      "[MoviePy] Writing audio in C:/Users/Ankit/Documents/wpi/cs525/video_data/videos/ad_data\\I540W716NEU\\HORMEL® Pepperoni “Basketball” 015.wav\n"
     ]
    },
    {
     "name": "stderr",
     "output_type": "stream",
     "text": [
      "\n",
      "  0%|                                                  | 0/331 [00:00<?, ?it/s]\n",
      "  8%|███▍                                    | 28/331 [00:00<00:01, 235.28it/s]\n",
      " 61%|███████████████████████▉               | 203/331 [00:00<00:00, 316.25it/s]\n",
      "100%|██████████████████████████████████████| 331/331 [00:00<00:00, 1133.50it/s]"
     ]
    },
    {
     "name": "stdout",
     "output_type": "stream",
     "text": [
      "[MoviePy] Done.\n",
      "I9a5SOJe3IQ\n",
      "306\n",
      "[MoviePy] Writing audio in C:/Users/Ankit/Documents/wpi/cs525/video_data/videos/ad_data\\I9a5SOJe3IQ\\Patagonia Workwear Central Westcoast Forest Society.wav\n"
     ]
    },
    {
     "name": "stderr",
     "output_type": "stream",
     "text": [
      "\n",
      "  0%|                                                 | 0/3432 [00:00<?, ?it/s]\n",
      "  1%|▎                                      | 28/3432 [00:00<00:19, 177.21it/s]\n",
      "  4%|█▌                                    | 144/3432 [00:00<00:13, 237.59it/s]\n",
      "  7%|██▊                                   | 254/3432 [00:00<00:10, 308.05it/s]\n",
      "  9%|███▍                                  | 311/3432 [00:00<00:08, 348.78it/s]\n",
      " 12%|████▌                                 | 407/3432 [00:00<00:07, 421.47it/s]\n",
      " 15%|█████▋                                | 509/3432 [00:00<00:06, 458.41it/s]\n",
      " 18%|██████▊                               | 611/3432 [00:00<00:05, 536.11it/s]\n",
      " 22%|████████▌                             | 769/3432 [00:00<00:03, 668.64it/s]\n",
      " 27%|██████████▎                           | 935/3432 [00:01<00:03, 814.57it/s]\n",
      " 31%|███████████▌                         | 1072/3432 [00:01<00:02, 927.35it/s]\n",
      " 37%|█████████████▏                      | 1256/3432 [00:01<00:01, 1089.46it/s]\n",
      " 42%|██████████████▉                     | 1427/3432 [00:01<00:01, 1199.38it/s]\n",
      " 46%|████████████████▌                   | 1577/3432 [00:01<00:01, 1276.09it/s]\n",
      " 50%|██████████████████▌                  | 1725/3432 [00:01<00:02, 817.27it/s]\n",
      " 54%|███████████████████▊                 | 1842/3432 [00:01<00:01, 855.18it/s]\n",
      " 58%|█████████████████████▍               | 1988/3432 [00:02<00:01, 959.20it/s]\n",
      " 61%|██████████████████████▋              | 2106/3432 [00:02<00:01, 746.28it/s]\n",
      " 65%|████████████████████████▏            | 2243/3432 [00:02<00:01, 845.13it/s]\n",
      " 70%|█████████████████████████▊           | 2396/3432 [00:02<00:01, 965.13it/s]\n",
      " 73%|███████████████████████████          | 2513/3432 [00:02<00:01, 917.92it/s]\n",
      " 76%|████████████████████████████▏        | 2620/3432 [00:02<00:00, 851.23it/s]\n",
      " 79%|█████████████████████████████▎       | 2717/3432 [00:02<00:00, 728.39it/s]\n",
      " 82%|██████████████████████████████▏      | 2804/3432 [00:03<00:00, 751.88it/s]\n",
      " 86%|███████████████████████████████▉     | 2957/3432 [00:03<00:00, 878.07it/s]\n",
      " 89%|████████████████████████████████▉    | 3059/3432 [00:03<00:00, 506.65it/s]\n",
      " 93%|██████████████████████████████████▌  | 3203/3432 [00:03<00:00, 628.95it/s]\n",
      " 96%|███████████████████████████████████▌ | 3302/3432 [00:03<00:00, 505.90it/s]\n",
      "100%|█████████████████████████████████████| 3432/3432 [00:04<00:00, 844.44it/s]"
     ]
    },
    {
     "name": "stdout",
     "output_type": "stream",
     "text": [
      "[MoviePy] Done.\n",
      "Ie4CDzmDKyI\n",
      "307\n",
      "[MoviePy] Writing audio in C:/Users/Ankit/Documents/wpi/cs525/video_data/videos/ad_data\\Ie4CDzmDKyI\\In-Stream Video.wav\n"
     ]
    },
    {
     "name": "stderr",
     "output_type": "stream",
     "text": [
      "\n",
      "  0%|                                                  | 0/332 [00:00<?, ?it/s]\n",
      "  8%|███▍                                     | 28/332 [00:00<00:03, 95.23it/s]\n",
      " 30%|███████████▊                           | 101/332 [00:00<00:01, 128.37it/s]\n",
      " 61%|███████████████████████▊               | 203/332 [00:00<00:00, 174.00it/s]\n",
      " 95%|█████████████████████████████████████▏ | 317/332 [00:00<00:00, 233.30it/s]\n",
      "100%|███████████████████████████████████████| 332/332 [00:00<00:00, 544.23it/s]"
     ]
    },
    {
     "name": "stdout",
     "output_type": "stream",
     "text": [
      "[MoviePy] Done.\n",
      "if-GZDyKym4\n",
      "308\n",
      "[MoviePy] Writing audio in C:/Users/Ankit/Documents/wpi/cs525/video_data/videos/ad_data\\if-GZDyKym4\\Days Gone - Preview Accolades Video 15  PS4.wav\n"
     ]
    },
    {
     "name": "stderr",
     "output_type": "stream",
     "text": [
      "\n",
      "  0%|                                                  | 0/332 [00:00<?, ?it/s]\n",
      " 46%|█████████████████▍                    | 152/332 [00:00<00:00, 1420.48it/s]\n",
      " 97%|████████████████████████████████████▊ | 322/332 [00:00<00:00, 1494.16it/s]\n",
      "100%|██████████████████████████████████████| 332/332 [00:00<00:00, 1551.31it/s]"
     ]
    },
    {
     "name": "stdout",
     "output_type": "stream",
     "text": [
      "[MoviePy] Done.\n",
      "if_PgPq1Dps\n",
      "309\n",
      "[MoviePy] Writing audio in C:/Users/Ankit/Documents/wpi/cs525/video_data/videos/ad_data\\if_PgPq1Dps\\Shout Out Win 15a.wav\n"
     ]
    },
    {
     "name": "stderr",
     "output_type": "stream",
     "text": [
      "\n",
      "  0%|                                                  | 0/332 [00:00<?, ?it/s]\n",
      "  8%|███▎                                    | 28/332 [00:00<00:01, 215.37it/s]\n",
      " 46%|█████████████████▊                     | 152/332 [00:00<00:00, 274.93it/s]\n",
      " 61%|███████████████████████▊               | 203/332 [00:00<00:00, 314.90it/s]\n",
      "100%|███████████████████████████████████████| 332/332 [00:00<00:00, 715.48it/s]"
     ]
    },
    {
     "name": "stdout",
     "output_type": "stream",
     "text": [
      "[MoviePy] Done.\n",
      "Ik8Q6-Lciyk\n",
      "310\n",
      "[MoviePy] Writing audio in C:/Users/Ankit/Documents/wpi/cs525/video_data/videos/ad_data\\Ik8Q6-Lciyk\\Similasan Allergy Eye Relief 10sec.wav\n"
     ]
    },
    {
     "name": "stderr",
     "output_type": "stream",
     "text": [
      "\n",
      "  0%|                                                  | 0/222 [00:00<?, ?it/s]\n",
      " 13%|█████▏                                   | 28/222 [00:00<00:02, 88.60it/s]\n",
      " 82%|███████████████████████████████▉       | 182/222 [00:00<00:00, 123.53it/s]\n",
      "100%|███████████████████████████████████████| 222/222 [00:00<00:00, 493.31it/s]"
     ]
    },
    {
     "name": "stdout",
     "output_type": "stream",
     "text": [
      "[MoviePy] Done.\n",
      "ikjUnpJO_Vk\n",
      "311\n",
      "[MoviePy] Writing audio in C:/Users/Ankit/Documents/wpi/cs525/video_data/videos/ad_data\\ikjUnpJO_Vk\\Pesca Maya Lodge.wav\n"
     ]
    },
    {
     "name": "stderr",
     "output_type": "stream",
     "text": [
      "\n",
      "  0%|                                                 | 0/5531 [00:00<?, ?it/s]\n",
      "  1%|▏                                      | 28/5531 [00:00<00:31, 174.99it/s]\n",
      "  3%|█                                     | 152/5531 [00:00<00:22, 234.13it/s]\n",
      "  6%|██▎                                   | 344/5531 [00:00<00:16, 317.85it/s]\n",
      "  8%|██▉                                   | 428/5531 [00:00<00:13, 370.54it/s]\n",
      " 10%|███▊                                  | 560/5531 [00:00<00:12, 396.32it/s]\n",
      " 13%|████▊                                 | 707/5531 [00:00<00:09, 507.52it/s]\n",
      " 16%|█████▉                                | 866/5531 [00:01<00:07, 616.99it/s]\n",
      " 18%|██████▊                              | 1019/5531 [00:01<00:06, 706.74it/s]\n",
      " 20%|███████▌                             | 1125/5531 [00:01<00:08, 496.96it/s]\n",
      " 22%|████████                             | 1206/5531 [00:01<00:08, 512.02it/s]\n",
      " 24%|████████▊                            | 1319/5531 [00:01<00:06, 612.51it/s]\n",
      " 27%|█████████▊                           | 1468/5531 [00:01<00:05, 743.94it/s]\n",
      " 28%|██████████▌                          | 1573/5531 [00:02<00:05, 708.02it/s]\n",
      " 30%|███████████▏                         | 1666/5531 [00:02<00:05, 692.74it/s]\n",
      " 33%|████████████                         | 1806/5531 [00:02<00:04, 816.48it/s]\n",
      " 34%|████████████▊                        | 1907/5531 [00:02<00:04, 861.82it/s]\n",
      " 37%|█████████████▋                       | 2039/5531 [00:02<00:03, 953.65it/s]\n",
      " 39%|██████████████▎                      | 2148/5531 [00:02<00:03, 932.33it/s]\n",
      " 41%|███████████████                      | 2251/5531 [00:02<00:03, 956.94it/s]\n",
      " 43%|███████████████▌                    | 2396/5531 [00:02<00:02, 1056.32it/s]\n",
      " 46%|████████████████▌                   | 2549/5531 [00:02<00:02, 1058.15it/s]\n",
      " 49%|█████████████████▌                  | 2693/5531 [00:03<00:02, 1149.59it/s]\n",
      " 52%|██████████████████▌                 | 2855/5531 [00:03<00:02, 1156.76it/s]\n",
      " 54%|███████████████████▌                | 3008/5531 [00:03<00:02, 1041.60it/s]\n",
      " 57%|████████████████████▌               | 3161/5531 [00:03<00:02, 1139.03it/s]\n",
      " 59%|█████████████████████▉               | 3282/5531 [00:03<00:02, 894.54it/s]\n",
      " 62%|██████████████████████▊              | 3416/5531 [00:03<00:02, 929.52it/s]\n",
      " 64%|███████████████████████▌             | 3519/5531 [00:03<00:02, 936.63it/s]\n",
      " 66%|███████████████████████▉            | 3671/5531 [00:04<00:01, 1049.72it/s]\n",
      " 69%|████████████████████████▉           | 3824/5531 [00:04<00:01, 1156.21it/s]\n",
      " 72%|█████████████████████████▉          | 3982/5531 [00:04<00:01, 1257.37it/s]\n",
      " 75%|██████████████████████████▉         | 4130/5531 [00:04<00:01, 1253.22it/s]\n",
      " 77%|███████████████████████████▋        | 4262/5531 [00:04<00:01, 1071.14it/s]\n",
      " 79%|████████████████████████████▌       | 4379/5531 [00:04<00:01, 1029.36it/s]\n",
      " 82%|██████████████████████████████▎      | 4538/5531 [00:04<00:01, 950.79it/s]\n",
      " 85%|██████████████████████████████▌     | 4691/5531 [00:04<00:00, 1068.10it/s]\n",
      " 88%|███████████████████████████████▋    | 4861/5531 [00:05<00:00, 1202.14it/s]\n",
      " 90%|████████████████████████████████▍   | 4993/5531 [00:05<00:00, 1154.20it/s]\n",
      " 93%|█████████████████████████████████▎  | 5118/5531 [00:05<00:00, 1055.63it/s]\n",
      " 95%|██████████████████████████████████▎ | 5275/5531 [00:05<00:00, 1170.68it/s]\n",
      " 99%|███████████████████████████████████▌| 5471/5531 [00:05<00:00, 1331.54it/s]\n",
      "100%|████████████████████████████████████| 5531/5531 [00:05<00:00, 1000.67it/s]"
     ]
    },
    {
     "name": "stdout",
     "output_type": "stream",
     "text": [
      "[MoviePy] Done.\n",
      "ine4uuHps8E\n",
      "312\n",
      "[MoviePy] Writing audio in C:/Users/Ankit/Documents/wpi/cs525/video_data/videos/ad_data\\ine4uuHps8E\\100809295-1_NBCEG NBC UF Partner Show Mix RBP [Nielsen A25-49] Non-Skippable Shortform Vi…..wav\n"
     ]
    },
    {
     "name": "stderr",
     "output_type": "stream",
     "text": [
      "\n",
      "  0%|                                                  | 0/331 [00:00<?, ?it/s]\n",
      " 46%|█████████████████▍                    | 152/331 [00:00<00:00, 1407.33it/s]\n",
      "100%|██████████████████████████████████████| 331/331 [00:00<00:00, 1598.94it/s]"
     ]
    },
    {
     "name": "stdout",
     "output_type": "stream",
     "text": [
      "[MoviePy] Done.\n",
      "iNnMZpbOMNE\n",
      "313\n",
      "[MoviePy] Writing audio in C:/Users/Ankit/Documents/wpi/cs525/video_data/videos/ad_data\\iNnMZpbOMNE\\Roger Williams Park Zoo Camp.wav\n"
     ]
    },
    {
     "name": "stderr",
     "output_type": "stream",
     "text": [
      "\n",
      "  0%|                                                 | 0/1874 [00:00<?, ?it/s]\n",
      "  1%|▌                                       | 28/1874 [00:00<00:30, 61.13it/s]\n",
      "  5%|██                                     | 101/1874 [00:00<00:21, 83.38it/s]\n",
      "  8%|███                                   | 152/1874 [00:00<00:15, 108.96it/s]\n",
      " 11%|████                                  | 203/1874 [00:00<00:12, 138.65it/s]\n",
      " 14%|█████▏                                | 254/1874 [00:01<00:09, 164.52it/s]\n",
      " 16%|██████▏                               | 305/1874 [00:01<00:07, 202.54it/s]\n",
      " 19%|███████▏                              | 356/1874 [00:01<00:06, 245.83it/s]\n",
      " 25%|█████████▌                            | 470/1874 [00:01<00:04, 321.48it/s]\n",
      " 31%|███████████▋                          | 574/1874 [00:01<00:03, 405.53it/s]\n",
      " 35%|█████████████▍                        | 662/1874 [00:01<00:02, 458.08it/s]\n",
      " 42%|███████████████▉                      | 788/1874 [00:01<00:01, 566.18it/s]\n",
      " 49%|██████████████████▌                   | 917/1874 [00:01<00:01, 670.16it/s]\n",
      " 59%|█████████████████████▉               | 1109/1874 [00:01<00:00, 832.79it/s]\n",
      " 66%|████████████████████████▍            | 1235/1874 [00:02<00:00, 796.90it/s]\n",
      " 73%|███████████████████████████▏         | 1376/1874 [00:02<00:00, 916.44it/s]\n",
      " 80%|█████████████████████████████▌       | 1495/1874 [00:02<00:00, 887.41it/s]\n",
      " 87%|████████████████████████████████▏    | 1631/1874 [00:02<00:00, 920.28it/s]\n",
      " 93%|██████████████████████████████████▎  | 1737/1874 [00:02<00:00, 955.57it/s]\n",
      "100%|█████████████████████████████████████| 1874/1874 [00:02<00:00, 714.95it/s]"
     ]
    },
    {
     "name": "stdout",
     "output_type": "stream",
     "text": [
      "[MoviePy] Done.\n",
      "ipCZ7injGZc\n",
      "314\n",
      "[MoviePy] Writing audio in C:/Users/Ankit/Documents/wpi/cs525/video_data/videos/ad_data\\ipCZ7injGZc\\See where the money leads  The Hush Payoff.wav\n"
     ]
    },
    {
     "name": "stderr",
     "output_type": "stream",
     "text": [
      "\n",
      "  0%|                                                  | 0/662 [00:00<?, ?it/s]\n",
      "  4%|█▋                                       | 28/662 [00:00<00:08, 77.13it/s]\n",
      " 24%|█████████▌                             | 162/662 [00:00<00:04, 107.53it/s]\n",
      " 46%|█████████████████▉                     | 305/662 [00:00<00:02, 146.00it/s]\n",
      " 64%|████████████████████████▉              | 423/662 [00:00<00:01, 198.06it/s]\n",
      " 85%|████████████████████████████████▉      | 560/662 [00:00<00:00, 265.05it/s]\n",
      "100%|███████████████████████████████████████| 662/662 [00:00<00:00, 748.83it/s]"
     ]
    },
    {
     "name": "stdout",
     "output_type": "stream",
     "text": [
      "[MoviePy] Done.\n",
      "IRMtqrEveX4\n",
      "315\n",
      "[MoviePy] Writing audio in C:/Users/Ankit/Documents/wpi/cs525/video_data/videos/ad_data\\IRMtqrEveX4\\The Hotwire Effect - Nature 2019.wav\n"
     ]
    },
    {
     "name": "stderr",
     "output_type": "stream",
     "text": [
      "\n",
      "  0%|                                                  | 0/332 [00:00<?, ?it/s]\n",
      "  8%|███▍                                     | 28/332 [00:00<00:05, 51.66it/s]\n",
      " 30%|████████████▏                           | 101/332 [00:00<00:03, 71.10it/s]\n",
      " 46%|██████████████████▎                     | 152/332 [00:00<00:01, 95.04it/s]\n",
      " 77%|█████████████████████████████▊         | 254/332 [00:00<00:00, 130.11it/s]\n",
      "100%|███████████████████████████████████████| 332/332 [00:00<00:00, 357.74it/s]"
     ]
    },
    {
     "name": "stdout",
     "output_type": "stream",
     "text": [
      "[MoviePy] Done.\n",
      "iRnuIUyhZv8\n",
      "316\n",
      "[MoviePy] Writing audio in C:/Users/Ankit/Documents/wpi/cs525/video_data/videos/ad_data\\iRnuIUyhZv8\\IOTR0139000H (Roomba_i7+_ADD_TVSpot_15_Viewing)..wav\n"
     ]
    },
    {
     "name": "stderr",
     "output_type": "stream",
     "text": [
      "\n",
      "  0%|                                                  | 0/333 [00:00<?, ?it/s]\n",
      "  8%|███▎                                    | 28/333 [00:00<00:02, 105.26it/s]\n",
      " 46%|█████████████████▊                     | 152/333 [00:00<00:01, 145.09it/s]\n",
      " 99%|██████████████████████████████████████▊| 331/333 [00:00<00:00, 200.31it/s]\n",
      "100%|███████████████████████████████████████| 333/333 [00:00<00:00, 703.98it/s]"
     ]
    },
    {
     "name": "stdout",
     "output_type": "stream",
     "text": [
      "[MoviePy] Done.\n",
      "IRXxAvT1kIA\n",
      "317\n",
      "[MoviePy] Writing audio in C:/Users/Ankit/Documents/wpi/cs525/video_data/videos/ad_data\\IRXxAvT1kIA\\Final MWCC 15seconds.wav\n"
     ]
    },
    {
     "name": "stderr",
     "output_type": "stream",
     "text": [
      "\n",
      "  0%|                                                  | 0/343 [00:00<?, ?it/s]\n",
      " 29%|███████████▍                           | 101/343 [00:00<00:00, 594.08it/s]\n",
      " 53%|████████████████████▌                  | 181/343 [00:00<00:00, 643.79it/s]\n",
      " 81%|███████████████████████████████▌       | 278/343 [00:00<00:00, 716.02it/s]\n",
      "100%|███████████████████████████████████████| 343/343 [00:00<00:00, 846.87it/s]"
     ]
    },
    {
     "name": "stdout",
     "output_type": "stream",
     "text": [
      "[MoviePy] Done.\n",
      "ITB2bp_LFu8\n",
      "318\n",
      "[MoviePy] Writing audio in C:/Users/Ankit/Documents/wpi/cs525/video_data/videos/ad_data\\ITB2bp_LFu8\\Why Choose Schwinn for Residential Use.wav\n"
     ]
    },
    {
     "name": "stderr",
     "output_type": "stream",
     "text": [
      "\n",
      "  0%|                                                 | 0/3435 [00:00<?, ?it/s]\n",
      "  1%|▎                                       | 28/3435 [00:00<00:36, 92.40it/s]\n",
      "  4%|█▋                                    | 152/3435 [00:00<00:26, 123.05it/s]\n",
      "  8%|███                                   | 273/3435 [00:00<00:18, 168.44it/s]\n",
      " 10%|███▉                                  | 359/3435 [00:00<00:13, 221.99it/s]\n",
      " 15%|█████▌                                | 505/3435 [00:00<00:09, 297.73it/s]\n",
      " 18%|██████▊                               | 611/3435 [00:00<00:07, 373.21it/s]\n",
      " 20%|███████▋                              | 699/3435 [00:01<00:06, 440.32it/s]\n",
      " 25%|█████████▌                            | 866/3435 [00:01<00:04, 545.23it/s]\n",
      " 28%|██████████▊                           | 976/3435 [00:01<00:03, 642.42it/s]\n",
      " 33%|████████████                         | 1121/3435 [00:01<00:03, 768.83it/s]\n",
      " 39%|██████████████▎                      | 1325/3435 [00:01<00:02, 935.19it/s]\n",
      " 44%|███████████████▊                    | 1507/3435 [00:01<00:01, 1094.86it/s]\n",
      " 49%|█████████████████▋                  | 1682/3435 [00:01<00:01, 1228.17it/s]\n",
      " 54%|███████████████████▎                | 1839/3435 [00:01<00:01, 1294.48it/s]\n",
      " 58%|████████████████████▉               | 1993/3435 [00:01<00:01, 1359.48it/s]\n",
      " 64%|██████████████████████▉             | 2192/3435 [00:02<00:00, 1472.25it/s]\n",
      " 69%|████████████████████████▋           | 2355/3435 [00:02<00:00, 1195.86it/s]\n",
      " 74%|██████████████████████████▋         | 2549/3435 [00:02<00:00, 1340.14it/s]\n",
      " 79%|████████████████████████████▍       | 2713/3435 [00:02<00:00, 1417.90it/s]\n",
      " 85%|██████████████████████████████▍     | 2906/3435 [00:02<00:00, 1529.52it/s]\n",
      " 89%|████████████████████████████████▏   | 3072/3435 [00:02<00:00, 1368.80it/s]\n",
      " 95%|██████████████████████████████████▏ | 3263/3435 [00:02<00:00, 1451.60it/s]\n",
      "100%|████████████████████████████████████| 3435/3435 [00:02<00:00, 1190.99it/s]"
     ]
    },
    {
     "name": "stdout",
     "output_type": "stream",
     "text": [
      "[MoviePy] Done.\n",
      "iTKV5_vkt1M\n",
      "319\n",
      "[MoviePy] Writing audio in C:/Users/Ankit/Documents/wpi/cs525/video_data/videos/ad_data\\iTKV5_vkt1M\\Disneynature Penguins  In Theatres April 17.wav\n"
     ]
    },
    {
     "name": "stderr",
     "output_type": "stream",
     "text": [
      "\n",
      "  0%|                                                  | 0/133 [00:00<?, ?it/s]\n",
      " 21%|████████▍                               | 28/133 [00:00<00:00, 107.69it/s]\n",
      "100%|███████████████████████████████████████| 133/133 [00:00<00:00, 388.87it/s]"
     ]
    },
    {
     "name": "stdout",
     "output_type": "stream",
     "text": [
      "[MoviePy] Done.\n",
      "ittVaWB5CIY\n",
      "320\n",
      "[MoviePy] Writing audio in C:/Users/Ankit/Documents/wpi/cs525/video_data/videos/ad_data\\ittVaWB5CIY\\Here to help Break the language barrier.wav\n"
     ]
    },
    {
     "name": "stderr",
     "output_type": "stream",
     "text": [
      "\n",
      "  0%|                                                  | 0/332 [00:00<?, ?it/s]\n",
      "  8%|███▎                                    | 28/332 [00:00<00:02, 133.33it/s]\n",
      " 61%|███████████████████████▊               | 203/332 [00:00<00:00, 184.33it/s]\n",
      "100%|███████████████████████████████████████| 332/332 [00:00<00:00, 882.93it/s]"
     ]
    },
    {
     "name": "stdout",
     "output_type": "stream",
     "text": [
      "[MoviePy] Done.\n",
      "IUkArf_SQoA\n",
      "321\n",
      "[MoviePy] Writing audio in C:/Users/Ankit/Documents/wpi/cs525/video_data/videos/ad_data\\IUkArf_SQoA\\Anything Goes – SUV Interior  2020 Kia Telluride.wav\n"
     ]
    },
    {
     "name": "stderr",
     "output_type": "stream",
     "text": [
      "\n",
      "  0%|                                                  | 0/885 [00:00<?, ?it/s]\n",
      "  3%|█▎                                       | 28/885 [00:00<00:13, 65.72it/s]\n",
      " 11%|████▌                                   | 101/885 [00:00<00:09, 86.54it/s]\n",
      " 18%|███████                                | 160/885 [00:00<00:06, 116.32it/s]\n",
      " 29%|███████████▏                           | 254/885 [00:00<00:04, 156.08it/s]\n",
      " 40%|███████████████▋                       | 356/885 [00:00<00:02, 209.24it/s]\n",
      " 57%|██████████████████████▏                | 504/885 [00:01<00:01, 281.84it/s]\n",
      " 79%|██████████████████████████████▊        | 698/885 [00:01<00:00, 379.03it/s]\n",
      " 97%|█████████████████████████████████████▊ | 858/885 [00:01<00:00, 491.56it/s]\n",
      "100%|███████████████████████████████████████| 885/885 [00:01<00:00, 687.61it/s]"
     ]
    },
    {
     "name": "stdout",
     "output_type": "stream",
     "text": [
      "[MoviePy] Done.\n",
      "iwi7Mfr0pS0\n",
      "322\n",
      "[MoviePy] Writing audio in C:/Users/Ankit/Documents/wpi/cs525/video_data/videos/ad_data\\iwi7Mfr0pS0\\Design-2-Part Manufacturing Show - Mohegan Sun  - April 24 & 25 2019.wav\n"
     ]
    },
    {
     "name": "stderr",
     "output_type": "stream",
     "text": [
      "\n",
      "  0%|                                                 | 0/1488 [00:00<?, ?it/s]\n",
      " 10%|███▊                                 | 152/1488 [00:00<00:00, 1504.86it/s]\n",
      " 17%|██████▍                              | 257/1488 [00:00<00:00, 1331.75it/s]\n",
      " 27%|██████████                           | 403/1488 [00:00<00:00, 1367.78it/s]\n",
      " 33%|████████████▌                         | 491/1488 [00:00<00:01, 970.88it/s]\n",
      " 38%|██████████████▌                       | 570/1488 [00:00<00:01, 612.58it/s]\n",
      " 43%|████████████████▏                     | 636/1488 [00:00<00:01, 488.45it/s]\n",
      " 47%|█████████████████▋                    | 692/1488 [00:01<00:01, 486.72it/s]\n",
      " 58%|█████████████████████▊                | 856/1488 [00:01<00:01, 616.85it/s]\n",
      " 65%|████████████████████████▋             | 968/1488 [00:01<00:00, 699.57it/s]\n",
      " 75%|███████████████████████████▊         | 1121/1488 [00:01<00:00, 774.69it/s]\n",
      " 86%|███████████████████████████████▋     | 1273/1488 [00:01<00:00, 908.30it/s]\n",
      " 93%|██████████████████████████████████▍  | 1385/1488 [00:01<00:00, 815.62it/s]\n",
      "100%|█████████████████████████████████████| 1488/1488 [00:01<00:00, 868.10it/s]"
     ]
    },
    {
     "name": "stdout",
     "output_type": "stream",
     "text": [
      "[MoviePy] Done.\n",
      "IXo2Oxi12jA\n",
      "323\n",
      "[MoviePy] Writing audio in C:/Users/Ankit/Documents/wpi/cs525/video_data/videos/ad_data\\IXo2Oxi12jA\\MTV Double Shot at Love  All New Tonight 87c.wav\n"
     ]
    },
    {
     "name": "stderr",
     "output_type": "stream",
     "text": [
      "\n",
      "  0%|                                                  | 0/332 [00:00<?, ?it/s]\n",
      " 23%|█████████                               | 75/332 [00:00<00:00, 749.96it/s]\n",
      " 30%|███████████▊                           | 101/332 [00:00<00:00, 380.28it/s]\n",
      " 46%|█████████████████▊                     | 152/332 [00:00<00:00, 400.06it/s]\n",
      " 61%|███████████████████████▊               | 203/332 [00:00<00:00, 377.39it/s]\n",
      "100%|███████████████████████████████████████| 332/332 [00:00<00:00, 549.64it/s]"
     ]
    },
    {
     "name": "stdout",
     "output_type": "stream",
     "text": [
      "[MoviePy] Done.\n",
      "IY0ypr5xle0\n",
      "324\n",
      "[MoviePy] Writing audio in C:/Users/Ankit/Documents/wpi/cs525/video_data/videos/ad_data\\IY0ypr5xle0\\20190417_31880_PLATFORM_US_ARTISTS_480x360_HOMECOMING_244195468.wav\n"
     ]
    },
    {
     "name": "stderr",
     "output_type": "stream",
     "text": [
      "\n",
      "  0%|                                                  | 0/332 [00:00<?, ?it/s]\n",
      "  8%|███▍                                     | 28/332 [00:01<00:12, 24.41it/s]\n",
      " 46%|██████████████████▎                     | 152/332 [00:01<00:05, 34.26it/s]\n",
      " 61%|████████████████████████▍               | 203/332 [00:01<00:02, 45.66it/s]\n",
      " 77%|██████████████████████████████▌         | 254/332 [00:01<00:01, 62.20it/s]\n",
      "100%|███████████████████████████████████████| 332/332 [00:01<00:00, 184.02it/s]"
     ]
    },
    {
     "name": "stdout",
     "output_type": "stream",
     "text": [
      "[MoviePy] Done.\n",
      "IYoFBnr5cNs\n",
      "325\n",
      "[MoviePy] Writing audio in C:/Users/Ankit/Documents/wpi/cs525/video_data/videos/ad_data\\IYoFBnr5cNs\\Watch Free Movies & TV on Vudu !.wav\n"
     ]
    },
    {
     "name": "stderr",
     "output_type": "stream",
     "text": [
      "\n",
      "  0%|                                                  | 0/664 [00:00<?, ?it/s]\n",
      "  4%|█▋                                       | 28/664 [00:01<00:37, 16.97it/s]\n",
      " 23%|█████████▏                              | 152/664 [00:01<00:21, 23.93it/s]\n",
      " 31%|████████████▏                           | 203/664 [00:02<00:13, 33.32it/s]\n",
      " 52%|████████████████████▊                   | 345/664 [00:02<00:06, 47.13it/s]\n",
      " 61%|████████████████████████▍               | 405/664 [00:02<00:04, 63.36it/s]\n",
      " 82%|████████████████████████████████▉       | 547/664 [00:02<00:01, 88.82it/s]\n",
      " 94%|████████████████████████████████████▊  | 626/664 [00:02<00:00, 112.33it/s]\n",
      "100%|███████████████████████████████████████| 664/664 [00:02<00:00, 248.21it/s]"
     ]
    },
    {
     "name": "stdout",
     "output_type": "stream",
     "text": [
      "[MoviePy] Done.\n",
      "iYTPZUIvnNs\n",
      "326\n",
      "[MoviePy] Writing audio in C:/Users/Ankit/Documents/wpi/cs525/video_data/videos/ad_data\\iYTPZUIvnNs\\In-Stream Video.wav\n"
     ]
    },
    {
     "name": "stderr",
     "output_type": "stream",
     "text": [
      "\n",
      "  0%|                                                  | 0/665 [00:00<?, ?it/s]\n",
      "  4%|█▋                                      | 28/665 [00:00<00:03, 208.94it/s]\n",
      " 31%|████████████                           | 205/665 [00:00<00:01, 284.12it/s]\n",
      " 60%|███████████████████████▌               | 402/665 [00:00<00:00, 382.25it/s]\n",
      " 86%|█████████████████████████████████▍     | 570/665 [00:00<00:00, 497.55it/s]\n",
      "100%|██████████████████████████████████████| 665/665 [00:00<00:00, 1376.73it/s]"
     ]
    },
    {
     "name": "stdout",
     "output_type": "stream",
     "text": [
      "[MoviePy] Done.\n",
      "J3f49nKXZJI\n",
      "327\n",
      "[MoviePy] Writing audio in C:/Users/Ankit/Documents/wpi/cs525/video_data/videos/ad_data\\J3f49nKXZJI\\JCPenney Sweet Sale - Unwrap your JCPenney Chocolate Bar!.wav\n"
     ]
    },
    {
     "name": "stderr",
     "output_type": "stream",
     "text": [
      "\n",
      "  0%|                                                  | 0/332 [00:00<?, ?it/s]\n",
      "  8%|███▎                                    | 28/332 [00:00<00:01, 199.99it/s]\n",
      " 30%|███████████▊                           | 101/332 [00:00<00:00, 249.13it/s]\n",
      " 73%|████████████████████████████▍          | 242/332 [00:00<00:00, 330.85it/s]\n",
      " 92%|███████████████████████████████████▊   | 305/332 [00:00<00:00, 384.39it/s]\n",
      "100%|███████████████████████████████████████| 332/332 [00:00<00:00, 690.19it/s]"
     ]
    },
    {
     "name": "stdout",
     "output_type": "stream",
     "text": [
      "[MoviePy] Done.\n",
      "j5OKo1AJIrg\n",
      "328\n",
      "[MoviePy] Writing audio in C:/Users/Ankit/Documents/wpi/cs525/video_data/videos/ad_data\\j5OKo1AJIrg\\Red Velvet Cupcakes  Instacart.wav\n"
     ]
    },
    {
     "name": "stderr",
     "output_type": "stream",
     "text": [
      "\n",
      "  0%|                                                  | 0/410 [00:00<?, ?it/s]\n",
      "  7%|██▋                                     | 28/410 [00:00<00:02, 183.00it/s]\n",
      " 37%|██████████████▍                        | 152/410 [00:00<00:01, 241.98it/s]\n",
      " 62%|████████████████████████▏              | 254/410 [00:00<00:00, 305.88it/s]\n",
      "100%|███████████████████████████████████████| 410/410 [00:00<00:00, 833.29it/s]"
     ]
    },
    {
     "name": "stdout",
     "output_type": "stream",
     "text": [
      "[MoviePy] Done.\n",
      "j5vQ980WoXc\n",
      "329\n",
      "[MoviePy] Writing audio in C:/Users/Ankit/Documents/wpi/cs525/video_data/videos/ad_data\\j5vQ980WoXc\\BuoyCC.wav\n"
     ]
    },
    {
     "name": "stderr",
     "output_type": "stream",
     "text": [
      "\n",
      "  0%|                                                  | 0/332 [00:00<?, ?it/s]\n",
      " 30%|███████████▊                           | 101/332 [00:00<00:00, 926.55it/s]\n",
      " 77%|█████████████████████████████         | 254/332 [00:00<00:00, 1038.05it/s]\n",
      "100%|██████████████████████████████████████| 332/332 [00:00<00:00, 1307.01it/s]"
     ]
    },
    {
     "name": "stdout",
     "output_type": "stream",
     "text": [
      "[MoviePy] Done.\n",
      "j6a3b9NBCvg\n",
      "330\n",
      "[MoviePy] Writing audio in C:/Users/Ankit/Documents/wpi/cs525/video_data/videos/ad_data\\j6a3b9NBCvg\\A Brief History of B&H.wav\n"
     ]
    },
    {
     "name": "stderr",
     "output_type": "stream",
     "text": [
      "\n",
      "  0%|                                                 | 0/2014 [00:00<?, ?it/s]\n",
      "  1%|▌                                      | 28/2014 [00:00<00:11, 165.67it/s]\n",
      "  8%|██▊                                   | 152/2014 [00:00<00:08, 222.29it/s]\n",
      " 17%|██████▍                               | 343/2014 [00:00<00:05, 302.47it/s]\n",
      " 25%|█████████▋                            | 512/2014 [00:00<00:03, 401.31it/s]\n",
      " 34%|████████████▊                         | 681/2014 [00:00<00:02, 520.35it/s]\n",
      " 40%|███████████████▏                      | 808/2014 [00:00<00:01, 613.08it/s]\n",
      " 48%|██████████████████▎                   | 969/2014 [00:00<00:01, 752.95it/s]\n",
      " 57%|█████████████████████▏               | 1152/2014 [00:00<00:00, 914.39it/s]\n",
      " 66%|███████████████████████▋            | 1325/2014 [00:01<00:00, 1028.90it/s]\n",
      " 73%|██████████████████████████▎         | 1472/2014 [00:01<00:00, 1073.69it/s]\n",
      " 81%|█████████████████████████████▏      | 1631/2014 [00:01<00:00, 1176.35it/s]\n",
      " 90%|████████████████████████████████▌   | 1822/2014 [00:01<00:00, 1329.55it/s]\n",
      "100%|███████████████████████████████████▊| 2004/2014 [00:01<00:00, 1446.47it/s]\n",
      "100%|████████████████████████████████████| 2014/2014 [00:01<00:00, 1382.21it/s]"
     ]
    },
    {
     "name": "stdout",
     "output_type": "stream",
     "text": [
      "[MoviePy] Done.\n",
      "JaBRrRR8w9M\n",
      "331\n",
      "[MoviePy] Writing audio in C:/Users/Ankit/Documents/wpi/cs525/video_data/videos/ad_data\\JaBRrRR8w9M\\Love Beauty and Planet  vegan and cruelty-free.wav\n"
     ]
    },
    {
     "name": "stderr",
     "output_type": "stream",
     "text": [
      "\n",
      "  0%|                                                  | 0/332 [00:00<?, ?it/s]\n",
      " 43%|████████████████▍                     | 144/332 [00:00<00:00, 1439.92it/s]\n",
      " 96%|████████████████████████████████████▍ | 318/332 [00:00<00:00, 1518.46it/s]\n",
      "100%|██████████████████████████████████████| 332/332 [00:00<00:00, 1588.43it/s]"
     ]
    },
    {
     "name": "stdout",
     "output_type": "stream",
     "text": [
      "[MoviePy] Done.\n",
      "JEzNwLLuI4g\n",
      "332\n",
      "[MoviePy] Writing audio in C:/Users/Ankit/Documents/wpi/cs525/video_data/videos/ad_data\\JEzNwLLuI4g\\Pulp-Fiction_A-New-Way-To-Make-A-Video_15_BM.wav\n"
     ]
    },
    {
     "name": "stderr",
     "output_type": "stream",
     "text": [
      "\n",
      "  0%|                                                  | 0/331 [00:00<?, ?it/s]\n",
      " 46%|█████████████████▍                    | 152/331 [00:00<00:00, 1394.41it/s]\n",
      "100%|██████████████████████████████████████| 331/331 [00:00<00:00, 1630.45it/s]"
     ]
    },
    {
     "name": "stdout",
     "output_type": "stream",
     "text": [
      "[MoviePy] Done.\n",
      "jF-ese8IG44\n",
      "333\n",
      "JfDGsydKC8g\n",
      "333\n",
      "[MoviePy] Writing audio in C:/Users/Ankit/Documents/wpi/cs525/video_data/videos/ad_data\\JfDGsydKC8g\\CKFB0143000H_TRADITIONS_15L_HD..wav\n"
     ]
    },
    {
     "name": "stderr",
     "output_type": "stream",
     "text": [
      "\n",
      "  0%|                                                  | 0/332 [00:00<?, ?it/s]\n",
      "  8%|███▎                                    | 28/332 [00:00<00:02, 118.64it/s]\n",
      " 65%|█████████████████████████▎             | 215/332 [00:00<00:00, 165.00it/s]\n",
      "100%|███████████████████████████████████████| 332/332 [00:00<00:00, 829.95it/s]"
     ]
    },
    {
     "name": "stdout",
     "output_type": "stream",
     "text": [
      "[MoviePy] Done.\n",
      "JFoVy5zVRKk\n",
      "334\n",
      "[MoviePy] Writing audio in C:/Users/Ankit/Documents/wpi/cs525/video_data/videos/ad_data\\JFoVy5zVRKk\\Worcester Apr 2019 w credit.wav\n"
     ]
    },
    {
     "name": "stderr",
     "output_type": "stream",
     "text": [
      "\n",
      "  0%|                                                  | 0/332 [00:00<?, ?it/s]\n",
      "  8%|███▎                                    | 28/332 [00:00<00:02, 127.27it/s]\n",
      " 51%|███████████████████▋                   | 168/332 [00:00<00:00, 174.99it/s]\n",
      "100%|███████████████████████████████████████| 332/332 [00:00<00:00, 823.77it/s]"
     ]
    },
    {
     "name": "stdout",
     "output_type": "stream",
     "text": [
      "[MoviePy] Done.\n",
      "jFyLRZgEV6g\n",
      "335\n",
      "[MoviePy] Writing audio in C:/Users/Ankit/Documents/wpi/cs525/video_data/videos/ad_data\\jFyLRZgEV6g\\McDonalds_Caramel_GCM_Innovid_REV_2..wav\n"
     ]
    },
    {
     "name": "stderr",
     "output_type": "stream",
     "text": [
      "\n",
      "  0%|                                                  | 0/333 [00:00<?, ?it/s]\n",
      "  8%|███▎                                    | 28/333 [00:00<00:02, 135.91it/s]\n",
      " 50%|███████████████████▌                   | 167/333 [00:00<00:00, 186.35it/s]\n",
      "100%|███████████████████████████████████████| 333/333 [00:00<00:00, 836.64it/s]"
     ]
    },
    {
     "name": "stdout",
     "output_type": "stream",
     "text": [
      "[MoviePy] Done.\n",
      "Jgl1cw-qZNY\n",
      "336\n",
      "[MoviePy] Writing audio in C:/Users/Ankit/Documents/wpi/cs525/video_data/videos/ad_data\\Jgl1cw-qZNY\\WF_19_Brand_JustTheFacts_FinancialHealthConversations_15s_Prospects.wav\n"
     ]
    },
    {
     "name": "stderr",
     "output_type": "stream",
     "text": [
      "\n",
      "  0%|                                                  | 0/332 [00:00<?, ?it/s]\n",
      "  8%|███▍                                     | 28/332 [00:00<00:03, 77.56it/s]\n",
      " 60%|███████████████████████▍               | 200/332 [00:00<00:01, 108.70it/s]\n",
      "100%|███████████████████████████████████████| 332/332 [00:00<00:00, 611.38it/s]"
     ]
    },
    {
     "name": "stdout",
     "output_type": "stream",
     "text": [
      "[MoviePy] Done.\n",
      "JGPnx9HDfeo\n",
      "337\n",
      "[MoviePy] Writing audio in C:/Users/Ankit/Documents/wpi/cs525/video_data/videos/ad_data\\JGPnx9HDfeo\\Evergreen Tom 2 Final.wav\n"
     ]
    },
    {
     "name": "stderr",
     "output_type": "stream",
     "text": [
      "\n",
      "  0%|                                                  | 0/688 [00:00<?, ?it/s]\n",
      "  4%|█▋                                      | 28/688 [00:00<00:05, 123.89it/s]\n",
      " 22%|████████▌                              | 152/688 [00:00<00:03, 169.71it/s]\n",
      " 37%|██████████████▍                        | 254/688 [00:00<00:01, 222.46it/s]\n",
      " 59%|███████████████████████                | 407/688 [00:00<00:00, 298.28it/s]\n",
      " 81%|███████████████████████████████▋       | 560/688 [00:00<00:00, 389.35it/s]\n",
      "100%|███████████████████████████████████████| 688/688 [00:00<00:00, 941.12it/s]"
     ]
    },
    {
     "name": "stdout",
     "output_type": "stream",
     "text": [
      "[MoviePy] Done.\n",
      "JGqvju89MFQ\n",
      "338\n",
      "[MoviePy] Writing audio in C:/Users/Ankit/Documents/wpi/cs525/video_data/videos/ad_data\\JGqvju89MFQ\\A Healthy MEAL In Seconds Keeps You FULL For Hours.wav\n"
     ]
    },
    {
     "name": "stderr",
     "output_type": "stream",
     "text": [
      "\n",
      "  0%|                                                  | 0/768 [00:00<?, ?it/s]\n",
      "  4%|█▍                                       | 28/768 [00:00<00:08, 89.17it/s]\n",
      " 13%|█████▏                                 | 101/768 [00:00<00:05, 113.69it/s]\n",
      " 38%|██████████████▋                        | 288/768 [00:00<00:03, 158.29it/s]\n",
      " 60%|███████████████████████▎               | 458/768 [00:00<00:01, 210.82it/s]\n",
      " 80%|███████████████████████████████        | 611/768 [00:00<00:00, 283.43it/s]\n",
      " 93%|████████████████████████████████████▏  | 713/768 [00:01<00:00, 342.15it/s]\n",
      "100%|███████████████████████████████████████| 768/768 [00:01<00:00, 682.63it/s]"
     ]
    },
    {
     "name": "stdout",
     "output_type": "stream",
     "text": [
      "[MoviePy] Done.\n",
      "JjW3iQ5qrWs\n",
      "339\n",
      "[MoviePy] Writing audio in C:/Users/Ankit/Documents/wpi/cs525/video_data/videos/ad_data\\JjW3iQ5qrWs\\FMFT2806000H Unslated.wav\n"
     ]
    },
    {
     "name": "stderr",
     "output_type": "stream",
     "text": [
      "\n",
      "  0%|                                                  | 0/332 [00:00<?, ?it/s]\n",
      "  8%|███▎                                    | 28/332 [00:00<00:02, 117.64it/s]\n",
      " 61%|███████████████████████▊               | 203/332 [00:00<00:00, 162.99it/s]\n",
      "100%|███████████████████████████████████████| 332/332 [00:00<00:00, 807.74it/s]"
     ]
    },
    {
     "name": "stdout",
     "output_type": "stream",
     "text": [
      "[MoviePy] Done.\n",
      "JM0sKRAA2B8\n",
      "340\n",
      "[MoviePy] Writing audio in C:/Users/Ankit/Documents/wpi/cs525/video_data/videos/ad_data\\JM0sKRAA2B8\\tameimpala_findmyiphone_15_att_wm.wav\n"
     ]
    },
    {
     "name": "stderr",
     "output_type": "stream",
     "text": [
      "\n",
      "  0%|                                                  | 0/332 [00:00<?, ?it/s]\n",
      "  8%|███▍                                     | 28/332 [00:00<00:06, 49.47it/s]\n",
      " 46%|██████████████████▌                     | 154/332 [00:00<00:02, 69.50it/s]\n",
      " 77%|██████████████████████████████▌         | 254/332 [00:00<00:00, 95.77it/s]\n",
      "100%|███████████████████████████████████████| 332/332 [00:00<00:00, 389.65it/s]"
     ]
    },
    {
     "name": "stdout",
     "output_type": "stream",
     "text": [
      "[MoviePy] Done.\n",
      "JpaAru4IgGw\n",
      "341\n",
      "[MoviePy] Writing audio in C:/Users/Ankit/Documents/wpi/cs525/video_data/videos/ad_data\\JpaAru4IgGw\\QUSN7211000H Fame 15..wav\n"
     ]
    },
    {
     "name": "stderr",
     "output_type": "stream",
     "text": [
      "\n",
      "  0%|                                                  | 0/333 [00:00<?, ?it/s]\n",
      "  8%|███▎                                    | 28/333 [00:00<00:01, 167.66it/s]\n",
      " 46%|█████████████████▊                     | 152/333 [00:00<00:00, 225.40it/s]\n",
      " 79%|██████████████████████████████▋        | 262/333 [00:00<00:00, 296.00it/s]\n",
      "100%|███████████████████████████████████████| 333/333 [00:00<00:00, 808.21it/s]"
     ]
    },
    {
     "name": "stdout",
     "output_type": "stream",
     "text": [
      "[MoviePy] Done.\n",
      "Jq35EkmRR1k\n",
      "342\n",
      "[MoviePy] Writing audio in C:/Users/Ankit/Documents/wpi/cs525/video_data/videos/ad_data\\Jq35EkmRR1k\\Untitled Ad.wav\n"
     ]
    },
    {
     "name": "stderr",
     "output_type": "stream",
     "text": [
      "\n",
      "  0%|                                                  | 0/339 [00:00<?, ?it/s]\n",
      "  8%|███▎                                    | 28/339 [00:00<00:02, 114.28it/s]\n",
      " 30%|███████████▌                           | 101/339 [00:00<00:01, 143.86it/s]\n",
      " 61%|███████████████████████▊               | 207/339 [00:00<00:00, 194.21it/s]\n",
      "100%|███████████████████████████████████████| 339/339 [00:00<00:00, 547.63it/s]"
     ]
    },
    {
     "name": "stdout",
     "output_type": "stream",
     "text": [
      "[MoviePy] Done.\n",
      "jQp4B0F1UNo\n",
      "343\n",
      "[MoviePy] Writing audio in C:/Users/Ankit/Documents/wpi/cs525/video_data/videos/ad_data\\jQp4B0F1UNo\\EYLEA General Tips in a Blink.wav\n"
     ]
    },
    {
     "name": "stderr",
     "output_type": "stream",
     "text": [
      "\n",
      "  0%|                                                  | 0/332 [00:00<?, ?it/s]\n",
      "  8%|███▎                                    | 28/332 [00:00<00:02, 137.92it/s]\n",
      " 30%|███████████▊                           | 101/332 [00:00<00:01, 179.85it/s]\n",
      " 77%|█████████████████████████████▊         | 254/332 [00:00<00:00, 243.67it/s]\n",
      "100%|███████████████████████████████████████| 332/332 [00:00<00:00, 710.88it/s]"
     ]
    },
    {
     "name": "stdout",
     "output_type": "stream",
     "text": [
      "[MoviePy] Done.\n",
      "JrY4pR3gYmM\n",
      "344\n",
      "[MoviePy] Writing audio in C:/Users/Ankit/Documents/wpi/cs525/video_data/videos/ad_data\\JrY4pR3gYmM\\TameImpala_SpeakScreen_15_att_wm.wav\n"
     ]
    },
    {
     "name": "stderr",
     "output_type": "stream",
     "text": [
      "\n",
      "  0%|                                                  | 0/332 [00:00<?, ?it/s]\n",
      "  8%|███▎                                    | 28/332 [00:00<00:01, 159.99it/s]\n",
      " 47%|██████████████████▏                    | 155/332 [00:00<00:00, 216.85it/s]\n",
      "100%|███████████████████████████████████████| 332/332 [00:00<00:00, 914.55it/s]"
     ]
    },
    {
     "name": "stdout",
     "output_type": "stream",
     "text": [
      "[MoviePy] Done.\n",
      "jRYXhD4JZIo\n",
      "345\n",
      "[MoviePy] Writing audio in C:/Users/Ankit/Documents/wpi/cs525/video_data/videos/ad_data\\jRYXhD4JZIo\\QCCA 001111VH_292_GOOD_GM_IN_PLACQ_ENG_SIE307IN0NoneTV_LEARN_NOOFF_TV_VID15.wav\n"
     ]
    },
    {
     "name": "stderr",
     "output_type": "stream",
     "text": [
      "\n",
      "  0%|                                                  | 0/332 [00:00<?, ?it/s]\n",
      " 46%|█████████████████▊                     | 152/332 [00:00<00:00, 853.88it/s]\n",
      " 92%|███████████████████████████████████▊   | 305/332 [00:00<00:00, 984.37it/s]\n",
      "100%|██████████████████████████████████████| 332/332 [00:00<00:00, 1140.83it/s]"
     ]
    },
    {
     "name": "stdout",
     "output_type": "stream",
     "text": [
      "[MoviePy] Done.\n",
      "jsWob-OmhuY\n",
      "346\n",
      "[MoviePy] Writing audio in C:/Users/Ankit/Documents/wpi/cs525/video_data/videos/ad_data\\jsWob-OmhuY\\a real way to make money online 2.wav\n"
     ]
    },
    {
     "name": "stderr",
     "output_type": "stream",
     "text": [
      "\n",
      "  0%|                                                 | 0/2232 [00:00<?, ?it/s]\n",
      "  1%|▌                                       | 28/2232 [00:00<00:34, 63.34it/s]\n",
      "  8%|███▏                                   | 181/2232 [00:00<00:23, 88.91it/s]\n",
      " 16%|██████                                | 356/2232 [00:00<00:15, 124.26it/s]\n",
      " 25%|█████████▎                            | 549/2232 [00:00<00:09, 172.75it/s]\n",
      " 32%|████████████▎                         | 721/2232 [00:00<00:06, 236.60it/s]\n",
      " 40%|███████████████                       | 884/2232 [00:00<00:04, 318.20it/s]\n",
      " 48%|█████████████████▋                   | 1070/2232 [00:01<00:02, 421.51it/s]\n",
      " 57%|█████████████████████                | 1272/2232 [00:01<00:01, 552.72it/s]\n",
      " 65%|███████████████████████▉             | 1444/2232 [00:01<00:01, 694.01it/s]\n",
      " 72%|██████████████████████████▋          | 1613/2232 [00:01<00:00, 836.80it/s]\n",
      " 80%|█████████████████████████████▌       | 1784/2232 [00:01<00:00, 981.37it/s]\n",
      " 87%|███████████████████████████████▍    | 1950/2232 [00:01<00:00, 1098.55it/s]\n",
      " 95%|██████████████████████████████████▎ | 2131/2232 [00:01<00:00, 1245.40it/s]\n",
      "100%|████████████████████████████████████| 2232/2232 [00:01<00:00, 1292.34it/s]"
     ]
    },
    {
     "name": "stdout",
     "output_type": "stream",
     "text": [
      "[MoviePy] Done.\n",
      "JtAIxkPiEr4\n",
      "347\n",
      "[MoviePy] Writing audio in C:/Users/Ankit/Documents/wpi/cs525/video_data/videos/ad_data\\JtAIxkPiEr4\\In-Stream Video.wav\n"
     ]
    },
    {
     "name": "stderr",
     "output_type": "stream",
     "text": [
      "\n",
      "  0%|                                                  | 0/332 [00:00<?, ?it/s]\n",
      " 13%|█████▎                                  | 44/332 [00:00<00:00, 439.97it/s]\n",
      " 46%|█████████████████▊                     | 152/332 [00:00<00:00, 532.73it/s]\n",
      "100%|██████████████████████████████████████| 332/332 [00:00<00:00, 1095.65it/s]"
     ]
    },
    {
     "name": "stdout",
     "output_type": "stream",
     "text": [
      "[MoviePy] Done.\n",
      "Jwe1p_jZw8A\n",
      "348\n",
      "[MoviePy] Writing audio in C:/Users/Ankit/Documents/wpi/cs525/video_data/videos/ad_data\\Jwe1p_jZw8A\\S60 April 2019.wav\n"
     ]
    },
    {
     "name": "stderr",
     "output_type": "stream",
     "text": [
      "\n",
      "  0%|                                                  | 0/442 [00:00<?, ?it/s]\n",
      "  6%|██▌                                     | 28/442 [00:00<00:02, 156.42it/s]\n",
      " 34%|█████████████▏                         | 150/442 [00:00<00:01, 211.81it/s]\n",
      " 57%|██████████████████████▍                | 254/442 [00:00<00:00, 276.96it/s]\n",
      " 91%|███████████████████████████████████▋   | 404/442 [00:00<00:00, 366.65it/s]\n",
      "100%|███████████████████████████████████████| 442/442 [00:00<00:00, 861.55it/s]"
     ]
    },
    {
     "name": "stdout",
     "output_type": "stream",
     "text": [
      "[MoviePy] Done.\n",
      "jXb-gEPsPqE\n",
      "349\n",
      "[MoviePy] Writing audio in C:/Users/Ankit/Documents/wpi/cs525/video_data/videos/ad_data\\jXb-gEPsPqE\\sundaycandy_privateside_15_verizon_bm.wav\n"
     ]
    },
    {
     "name": "stderr",
     "output_type": "stream",
     "text": [
      "\n",
      "  0%|                                                  | 0/332 [00:00<?, ?it/s]\n",
      " 12%|████▉                                   | 41/332 [00:00<00:00, 409.98it/s]\n",
      " 56%|█████████████████████▉                 | 187/332 [00:00<00:00, 522.77it/s]\n",
      "100%|██████████████████████████████████████| 332/332 [00:00<00:00, 1185.65it/s]"
     ]
    },
    {
     "name": "stdout",
     "output_type": "stream",
     "text": [
      "[MoviePy] Done.\n",
      "jXyZEoLKO_I\n",
      "350\n",
      "[MoviePy] Writing audio in C:/Users/Ankit/Documents/wpi/cs525/video_data/videos/ad_data\\jXyZEoLKO_I\\Contextual Makeup Tutorial.wav\n"
     ]
    },
    {
     "name": "stderr",
     "output_type": "stream",
     "text": [
      "\n",
      "  0%|                                                  | 0/332 [00:00<?, ?it/s]\n",
      "  8%|███▍                                     | 28/332 [00:00<00:05, 59.32it/s]\n",
      " 46%|██████████████████▎                     | 152/332 [00:00<00:02, 81.90it/s]\n",
      " 92%|███████████████████████████████████▊   | 305/332 [00:00<00:00, 114.35it/s]\n",
      "100%|███████████████████████████████████████| 332/332 [00:00<00:00, 439.71it/s]"
     ]
    },
    {
     "name": "stdout",
     "output_type": "stream",
     "text": [
      "[MoviePy] Done.\n",
      "jy2RL4mWF0k\n",
      "351\n",
      "[MoviePy] Writing audio in C:/Users/Ankit/Documents/wpi/cs525/video_data/videos/ad_data\\jy2RL4mWF0k\\Clear and Compelling Writing   Grammarly.wav\n"
     ]
    },
    {
     "name": "stderr",
     "output_type": "stream",
     "text": [
      "\n",
      "  0%|                                                 | 0/1755 [00:00<?, ?it/s]\n",
      "  2%|▌                                      | 28/1755 [00:00<00:11, 150.53it/s]\n",
      "  9%|███▎                                  | 152/1755 [00:00<00:07, 203.40it/s]\n",
      " 20%|███████▌                              | 352/1755 [00:00<00:05, 278.44it/s]\n",
      " 27%|██████████                            | 467/1755 [00:00<00:03, 360.37it/s]\n",
      " 38%|██████████████▎                       | 662/1755 [00:00<00:02, 475.63it/s]\n",
      " 45%|████████████████▉                     | 785/1755 [00:00<00:01, 526.71it/s]\n",
      " 51%|███████████████████▎                  | 892/1755 [00:00<00:01, 596.41it/s]\n",
      " 59%|█████████████████████▊               | 1037/1755 [00:01<00:00, 724.33it/s]\n",
      " 66%|████████████████████████▎            | 1151/1755 [00:01<00:00, 756.60it/s]\n",
      " 73%|██████████████████████████▊          | 1274/1755 [00:01<00:00, 681.81it/s]\n",
      " 81%|██████████████████████████████       | 1427/1755 [00:01<00:00, 807.46it/s]\n",
      " 87%|████████████████████████████████▎    | 1533/1755 [00:01<00:00, 865.34it/s]\n",
      " 96%|███████████████████████████████████▍ | 1682/1755 [00:01<00:00, 980.05it/s]\n",
      "100%|████████████████████████████████████| 1755/1755 [00:01<00:00, 1028.06it/s]"
     ]
    },
    {
     "name": "stdout",
     "output_type": "stream",
     "text": [
      "[MoviePy] Done.\n",
      "jykQW3fGTLc\n",
      "352\n",
      "[MoviePy] Writing audio in C:/Users/Ankit/Documents/wpi/cs525/video_data/videos/ad_data\\jykQW3fGTLc\\Fuel Your Destiny 30.wav\n"
     ]
    },
    {
     "name": "stderr",
     "output_type": "stream",
     "text": [
      "\n",
      "  0%|                                                  | 0/663 [00:00<?, ?it/s]\n",
      "  4%|█▋                                       | 28/663 [00:00<00:11, 55.22it/s]\n",
      " 27%|██████████▉                             | 182/663 [00:00<00:06, 77.70it/s]\n",
      " 38%|██████████████▉                        | 254/663 [00:00<00:03, 103.93it/s]\n",
      " 61%|███████████████████████▉               | 407/663 [00:00<00:01, 143.78it/s]\n",
      " 84%|████████████████████████████████▉      | 560/663 [00:00<00:00, 197.15it/s]\n",
      " 99%|██████████████████████████████████████▋| 657/663 [00:01<00:00, 242.37it/s]\n",
      "100%|███████████████████████████████████████| 663/663 [00:01<00:00, 568.09it/s]"
     ]
    },
    {
     "name": "stdout",
     "output_type": "stream",
     "text": [
      "[MoviePy] Done.\n",
      "jYloMmRMzNo\n",
      "353\n",
      "[MoviePy] Writing audio in C:/Users/Ankit/Documents/wpi/cs525/video_data/videos/ad_data\\jYloMmRMzNo\\Monday Office Live  Vid 6  SD1600P USB-C Mobile Docking Station.wav\n"
     ]
    },
    {
     "name": "stderr",
     "output_type": "stream",
     "text": [
      "\n",
      "  0%|                                                 | 0/2710 [00:00<?, ?it/s]\n",
      "  1%|▍                                       | 28/2710 [00:00<00:43, 61.13it/s]\n",
      "  6%|██▏                                    | 153/2710 [00:00<00:29, 85.54it/s]\n",
      " 11%|████▎                                 | 305/2710 [00:00<00:20, 119.10it/s]\n",
      " 18%|██████▉                               | 497/2710 [00:00<00:13, 165.73it/s]\n",
      " 24%|█████████▏                            | 656/2710 [00:00<00:09, 226.63it/s]\n",
      " 30%|███████████▍                          | 815/2710 [00:00<00:06, 303.03it/s]\n",
      " 37%|█████████████▉                        | 998/2710 [00:01<00:04, 404.21it/s]\n",
      " 43%|████████████████                     | 1172/2710 [00:01<00:02, 514.44it/s]\n",
      " 49%|█████████████████▉                   | 1316/2710 [00:01<00:02, 585.98it/s]\n",
      " 55%|████████████████████▏                | 1478/2710 [00:01<00:01, 721.85it/s]\n",
      " 60%|██████████████████████▎              | 1631/2710 [00:01<00:01, 739.58it/s]\n",
      " 67%|████████████████████████▉            | 1824/2710 [00:01<00:00, 907.50it/s]\n",
      " 73%|██████████████████████████▍         | 1988/2710 [00:01<00:00, 1041.91it/s]\n",
      " 79%|████████████████████████████▎       | 2135/2710 [00:02<00:00, 1055.56it/s]\n",
      " 84%|██████████████████████████████▏     | 2271/2710 [00:02<00:00, 1080.30it/s]\n",
      " 90%|████████████████████████████████▌   | 2447/2710 [00:02<00:00, 1206.76it/s]\n",
      " 96%|██████████████████████████████████▍ | 2597/2710 [00:02<00:00, 1281.93it/s]\n",
      "100%|████████████████████████████████████| 2710/2710 [00:02<00:00, 1134.30it/s]"
     ]
    },
    {
     "name": "stdout",
     "output_type": "stream",
     "text": [
      "[MoviePy] Done.\n",
      "K4MOctG6d-o\n",
      "354\n",
      "[MoviePy] Writing audio in C:/Users/Ankit/Documents/wpi/cs525/video_data/videos/ad_data\\K4MOctG6d-o\\tameimpala_safarireader_15_verizon_wm.wav\n"
     ]
    },
    {
     "name": "stderr",
     "output_type": "stream",
     "text": [
      "\n",
      "  0%|                                                  | 0/332 [00:00<?, ?it/s]\n",
      "  8%|███▎                                    | 28/332 [00:00<00:02, 146.59it/s]\n",
      " 30%|███████████▊                           | 101/332 [00:00<00:01, 188.92it/s]\n",
      " 46%|█████████████████▊                     | 152/332 [00:00<00:00, 230.08it/s]\n",
      " 73%|████████████████████████████▎          | 241/332 [00:00<00:00, 295.90it/s]\n",
      "100%|███████████████████████████████████████| 332/332 [00:00<00:00, 561.73it/s]"
     ]
    },
    {
     "name": "stdout",
     "output_type": "stream",
     "text": [
      "[MoviePy] Done.\n",
      "kck3owQE5c8\n",
      "355\n",
      "[MoviePy] Writing audio in C:/Users/Ankit/Documents/wpi/cs525/video_data/videos/ad_data\\kck3owQE5c8\\Untitled Ad.wav\n"
     ]
    },
    {
     "name": "stderr",
     "output_type": "stream",
     "text": [
      "\n",
      "  0%|                                                  | 0/332 [00:00<?, ?it/s]\n",
      "  8%|███▍                                     | 28/332 [00:00<00:06, 45.75it/s]\n",
      " 30%|████████████▏                           | 101/332 [00:00<00:03, 62.50it/s]\n",
      " 61%|████████████████████████▍               | 203/332 [00:00<00:01, 85.58it/s]\n",
      " 77%|█████████████████████████████▊         | 254/332 [00:01<00:00, 110.71it/s]\n",
      "100%|███████████████████████████████████████| 332/332 [00:01<00:00, 286.68it/s]"
     ]
    },
    {
     "name": "stdout",
     "output_type": "stream",
     "text": [
      "[MoviePy] Done.\n",
      "KFUjHrFiS5M\n",
      "356\n",
      "[MoviePy] Writing audio in C:/Users/Ankit/Documents/wpi/cs525/video_data/videos/ad_data\\KFUjHrFiS5M\\Unlimited + LG G8 ThinQ™ 35 moline.wav\n"
     ]
    },
    {
     "name": "stderr",
     "output_type": "stream",
     "text": [
      "\n",
      "  0%|                                                  | 0/332 [00:00<?, ?it/s]\n",
      "  8%|███▎                                    | 28/332 [00:00<00:02, 114.75it/s]\n",
      " 36%|██████████████▏                        | 121/332 [00:00<00:01, 155.69it/s]\n",
      " 92%|███████████████████████████████████▊   | 305/332 [00:00<00:00, 214.63it/s]\n",
      "100%|███████████████████████████████████████| 332/332 [00:00<00:00, 724.85it/s]"
     ]
    },
    {
     "name": "stdout",
     "output_type": "stream",
     "text": [
      "[MoviePy] Done.\n",
      "KfUTfuh_5nc\n",
      "357\n",
      "[MoviePy] Writing audio in C:/Users/Ankit/Documents/wpi/cs525/video_data/videos/ad_data\\KfUTfuh_5nc\\2019 Mitsubishi Eclipse Cross CUV  In A Mitsubishi REMIX Commercial (15)  Mitsubishi Motors.wav\n"
     ]
    },
    {
     "name": "stderr",
     "output_type": "stream",
     "text": [
      "\n",
      "  0%|                                                  | 0/332 [00:00<?, ?it/s]\n",
      " 30%|███████████▊                           | 101/332 [00:00<00:00, 682.39it/s]\n",
      " 70%|███████████████████████████▏           | 231/332 [00:00<00:00, 795.81it/s]\n",
      "100%|██████████████████████████████████████| 332/332 [00:00<00:00, 1081.37it/s]"
     ]
    },
    {
     "name": "stdout",
     "output_type": "stream",
     "text": [
      "[MoviePy] Done.\n",
      "kgA_LC4h_6Q\n",
      "358\n",
      "[MoviePy] Writing audio in C:/Users/Ankit/Documents/wpi/cs525/video_data/videos/ad_data\\kgA_LC4h_6Q\\Kopari Beauty  The Truth Stinks Theres Aluminum in Your Deodorant.wav\n"
     ]
    },
    {
     "name": "stderr",
     "output_type": "stream",
     "text": [
      "\n",
      "  0%|                                                 | 0/1450 [00:00<?, ?it/s]\n",
      "  2%|▊                                      | 28/1450 [00:00<00:12, 115.22it/s]\n",
      " 12%|████▍                                 | 168/1450 [00:00<00:08, 158.99it/s]\n",
      " 23%|████████▊                             | 338/1450 [00:00<00:05, 218.38it/s]\n",
      " 29%|███████████                           | 421/1450 [00:00<00:03, 280.07it/s]\n",
      " 39%|██████████████▋                       | 560/1450 [00:00<00:02, 355.57it/s]\n",
      " 48%|██████████████████▎                   | 699/1450 [00:00<00:01, 457.77it/s]\n",
      " 60%|██████████████████████▋               | 866/1450 [00:00<00:00, 584.60it/s]\n",
      " 68%|█████████████████████████▉            | 988/1450 [00:01<00:00, 663.45it/s]\n",
      " 81%|█████████████████████████████▉       | 1172/1450 [00:01<00:00, 817.64it/s]\n",
      " 90%|█████████████████████████████████▎   | 1306/1450 [00:01<00:00, 873.41it/s]\n",
      " 99%|████████████████████████████████████▌| 1431/1450 [00:01<00:00, 871.78it/s]\n",
      "100%|████████████████████████████████████| 1450/1450 [00:01<00:00, 1031.97it/s]"
     ]
    },
    {
     "name": "stdout",
     "output_type": "stream",
     "text": [
      "[MoviePy] Done.\n",
      "KgxcWoc6F5k\n",
      "359\n",
      "[MoviePy] Writing audio in C:/Users/Ankit/Documents/wpi/cs525/video_data/videos/ad_data\\KgxcWoc6F5k\\The Truth Is Worth It Witnessing  The New York Times.wav\n"
     ]
    },
    {
     "name": "stderr",
     "output_type": "stream",
     "text": [
      "\n",
      "  0%|                                                  | 0/663 [00:00<?, ?it/s]\n",
      "  4%|█▋                                       | 28/663 [00:00<00:06, 91.20it/s]\n",
      " 16%|██████▎                                | 108/663 [00:00<00:04, 124.22it/s]\n",
      " 38%|██████████████▉                        | 254/663 [00:00<00:02, 170.49it/s]\n",
      " 61%|███████████████████████▉               | 407/663 [00:00<00:01, 229.42it/s]\n",
      " 87%|█████████████████████████████████▊     | 575/663 [00:00<00:00, 309.62it/s]\n",
      "100%|███████████████████████████████████████| 663/663 [00:00<00:00, 834.96it/s]"
     ]
    },
    {
     "name": "stdout",
     "output_type": "stream",
     "text": [
      "[MoviePy] Done.\n",
      "KgZTu4xfQ4g\n",
      "360\n",
      "[MoviePy] Writing audio in C:/Users/Ankit/Documents/wpi/cs525/video_data/videos/ad_data\\KgZTu4xfQ4g\\AHWH - Honda SUV Clap 15s.wav\n"
     ]
    },
    {
     "name": "stderr",
     "output_type": "stream",
     "text": [
      "\n",
      "  0%|                                                  | 0/332 [00:00<?, ?it/s]\n",
      "  8%|███▍                                     | 28/332 [00:00<00:05, 55.44it/s]\n",
      " 30%|████████████▏                           | 101/332 [00:00<00:03, 74.91it/s]\n",
      " 61%|███████████████████████▊               | 203/332 [00:00<00:01, 103.66it/s]\n",
      "100%|███████████████████████████████████████| 332/332 [00:00<00:00, 388.74it/s]"
     ]
    },
    {
     "name": "stdout",
     "output_type": "stream",
     "text": [
      "[MoviePy] Done.\n",
      "KhKYUMRqKUY\n",
      "361\n",
      "[MoviePy] Writing audio in C:/Users/Ankit/Documents/wpi/cs525/video_data/videos/ad_data\\KhKYUMRqKUY\\Untitled Ad.wav\n"
     ]
    },
    {
     "name": "stderr",
     "output_type": "stream",
     "text": [
      "\n",
      "  0%|                                                  | 0/332 [00:00<?, ?it/s]\n",
      "  8%|███▎                                    | 28/332 [00:00<00:01, 172.83it/s]\n",
      " 44%|█████████████████                      | 145/332 [00:00<00:00, 232.20it/s]\n",
      " 79%|██████████████████████████████▉        | 263/332 [00:00<00:00, 305.91it/s]\n",
      "100%|███████████████████████████████████████| 332/332 [00:00<00:00, 838.34it/s]"
     ]
    },
    {
     "name": "stdout",
     "output_type": "stream",
     "text": [
      "[MoviePy] Done.\n",
      "KIC-XmyEfhI\n",
      "362\n",
      "[MoviePy] Writing audio in C:/Users/Ankit/Documents/wpi/cs525/video_data/videos/ad_data\\KIC-XmyEfhI\\Only Slightly (More) Exaggerated  Travel Oregon.wav\n"
     ]
    },
    {
     "name": "stderr",
     "output_type": "stream",
     "text": [
      "\n",
      "  0%|                                                 | 0/2645 [00:00<?, ?it/s]\n",
      "  1%|▍                                      | 28/2645 [00:00<00:13, 191.77it/s]\n",
      "  8%|██▉                                   | 203/2645 [00:00<00:09, 261.08it/s]\n",
      " 15%|█████▊                                | 407/2645 [00:00<00:06, 352.30it/s]\n",
      " 19%|███████▏                              | 503/2645 [00:00<00:05, 421.14it/s]\n",
      " 23%|████████▊                             | 615/2645 [00:00<00:03, 518.13it/s]\n",
      " 31%|███████████▋                          | 812/2645 [00:00<00:02, 665.20it/s]\n",
      " 37%|█████████████▉                        | 968/2645 [00:00<00:02, 793.64it/s]\n",
      " 44%|████████████████▎                    | 1169/2645 [00:00<00:01, 969.68it/s]\n",
      " 50%|██████████████████                  | 1328/2645 [00:00<00:01, 1098.20it/s]\n",
      " 58%|████████████████████▊               | 1528/2645 [00:01<00:00, 1269.98it/s]\n",
      " 64%|███████████████████████             | 1697/2645 [00:01<00:00, 1267.31it/s]\n",
      " 71%|█████████████████████████▌          | 1878/2645 [00:01<00:00, 1392.55it/s]\n",
      " 77%|███████████████████████████▊        | 2042/2645 [00:01<00:00, 1424.35it/s]\n",
      " 83%|█████████████████████████████▉      | 2202/2645 [00:01<00:00, 1452.77it/s]\n",
      " 91%|████████████████████████████████▌   | 2396/2645 [00:01<00:00, 1559.76it/s]\n",
      " 98%|███████████████████████████████████▍| 2600/2645 [00:01<00:00, 1674.13it/s]\n",
      "100%|████████████████████████████████████| 2645/2645 [00:01<00:00, 1501.90it/s]"
     ]
    },
    {
     "name": "stdout",
     "output_type": "stream",
     "text": [
      "[MoviePy] Done.\n",
      "KizRypgH_1M\n",
      "363\n",
      "[MoviePy] Writing audio in C:/Users/Ankit/Documents/wpi/cs525/video_data/videos/ad_data\\KizRypgH_1M\\What LeBron James Is Doing During The NBA Playoffs.wav\n"
     ]
    },
    {
     "name": "stderr",
     "output_type": "stream",
     "text": [
      "\n",
      "  0%|                                                 | 0/4703 [00:00<?, ?it/s]\n",
      "  1%|▏                                      | 28/4703 [00:00<00:41, 111.55it/s]\n",
      "  2%|▊                                     | 101/4703 [00:00<00:31, 148.28it/s]\n",
      "  4%|█▋                                    | 206/4703 [00:00<00:22, 199.74it/s]\n",
      "  8%|███                                   | 375/4703 [00:00<00:15, 271.59it/s]\n",
      " 11%|████▎                                 | 530/4703 [00:00<00:11, 360.88it/s]\n",
      " 14%|█████▏                                | 639/4703 [00:00<00:09, 451.48it/s]\n",
      " 16%|██████▏                               | 764/4703 [00:00<00:07, 551.13it/s]\n",
      " 19%|███████                               | 873/4703 [00:01<00:06, 591.28it/s]\n",
      " 21%|███████▊                              | 971/4703 [00:01<00:06, 614.33it/s]\n",
      " 23%|████████▎                            | 1060/4703 [00:01<00:05, 674.18it/s]\n",
      " 25%|█████████▏                           | 1172/4703 [00:01<00:05, 704.88it/s]\n",
      " 27%|█████████▉                           | 1258/4703 [00:01<00:05, 614.25it/s]\n",
      " 28%|██████████▍                          | 1332/4703 [00:01<00:06, 494.21it/s]\n",
      " 31%|███████████▋                         | 1478/4703 [00:01<00:05, 563.06it/s]\n",
      " 34%|████████████▍                        | 1580/4703 [00:02<00:05, 525.74it/s]\n",
      " 37%|█████████████▋                       | 1733/4703 [00:02<00:04, 650.47it/s]\n",
      " 39%|██████████████▎                      | 1820/4703 [00:02<00:04, 690.33it/s]\n",
      " 41%|██████████████▉                      | 1905/4703 [00:02<00:03, 709.56it/s]\n",
      " 42%|███████████████▋                     | 1988/4703 [00:02<00:03, 718.72it/s]\n",
      " 45%|████████████████▋                    | 2122/4703 [00:02<00:03, 834.83it/s]\n",
      " 47%|█████████████████▍                   | 2219/4703 [00:02<00:03, 635.07it/s]\n",
      " 50%|██████████████████▍                  | 2345/4703 [00:03<00:03, 613.18it/s]\n",
      " 51%|███████████████████                  | 2418/4703 [00:03<00:03, 644.09it/s]\n",
      " 54%|████████████████████                 | 2549/4703 [00:03<00:03, 625.08it/s]\n",
      " 56%|████████████████████▌                | 2618/4703 [00:03<00:03, 588.87it/s]\n",
      " 59%|█████████████████████▉               | 2787/4703 [00:03<00:02, 731.94it/s]\n",
      " 62%|██████████████████████▊              | 2906/4703 [00:03<00:02, 747.91it/s]\n",
      " 64%|███████████████████████▋             | 3008/4703 [00:04<00:02, 578.98it/s]\n",
      " 66%|████████████████████████▎            | 3083/4703 [00:04<00:03, 537.33it/s]\n",
      " 68%|█████████████████████████▎           | 3212/4703 [00:04<00:02, 521.09it/s]\n",
      " 72%|██████████████████████████▍          | 3364/4703 [00:04<00:02, 649.05it/s]\n",
      " 75%|███████████████████████████▊         | 3529/4703 [00:04<00:01, 793.44it/s]\n",
      " 77%|████████████████████████████▋        | 3641/4703 [00:04<00:01, 803.95it/s]\n",
      " 80%|█████████████████████████████▋       | 3773/4703 [00:05<00:01, 860.86it/s]\n",
      " 84%|██████████████████████████████▉      | 3928/4703 [00:05<00:00, 993.35it/s]\n",
      " 88%|███████████████████████████████▌    | 4119/4703 [00:05<00:00, 1160.41it/s]\n",
      " 91%|████████████████████████████████▌   | 4260/4703 [00:05<00:00, 1045.54it/s]\n",
      " 95%|██████████████████████████████████  | 4451/4703 [00:05<00:00, 1209.79it/s]\n",
      " 99%|███████████████████████████████████▌| 4642/4703 [00:05<00:00, 1359.27it/s]\n",
      "100%|█████████████████████████████████████| 4703/4703 [00:05<00:00, 828.24it/s]"
     ]
    },
    {
     "name": "stdout",
     "output_type": "stream",
     "text": [
      "[MoviePy] Done.\n",
      "KKFE9xXjRtM\n",
      "364\n",
      "[MoviePy] Writing audio in C:/Users/Ankit/Documents/wpi/cs525/video_data/videos/ad_data\\KKFE9xXjRtM\\Slime Surprise Challenge! Twisty Petz Mystery Unboxing!  Twisty Petz Series 2.wav\n"
     ]
    },
    {
     "name": "stderr",
     "output_type": "stream",
     "text": [
      "\n",
      "  0%|                                                 | 0/5507 [00:00<?, ?it/s]\n",
      "  3%|▉                                    | 138/5507 [00:00<00:03, 1379.92it/s]\n",
      "  3%|█▏                                    | 180/5507 [00:00<00:08, 636.29it/s]\n",
      "  6%|██▎                                   | 328/5507 [00:00<00:06, 767.55it/s]\n",
      "  7%|██▊                                   | 407/5507 [00:00<00:06, 745.64it/s]\n",
      "  9%|███▌                                  | 509/5507 [00:00<00:06, 748.57it/s]\n",
      " 12%|████▌                                 | 662/5507 [00:00<00:05, 877.93it/s]\n",
      " 15%|█████▋                               | 847/5507 [00:00<00:04, 1042.21it/s]\n",
      " 18%|██████▋                               | 969/5507 [00:01<00:05, 857.67it/s]\n",
      " 19%|███████▏                             | 1073/5507 [00:01<00:05, 858.21it/s]\n",
      " 23%|████████▎                           | 1268/5507 [00:01<00:04, 1031.45it/s]\n",
      " 26%|█████████▏                          | 1409/5507 [00:01<00:03, 1121.79it/s]\n",
      " 28%|██████████▎                         | 1568/5507 [00:01<00:03, 1230.48it/s]\n",
      " 31%|███████████▏                        | 1708/5507 [00:01<00:03, 1120.48it/s]\n",
      " 33%|███████████▉                        | 1834/5507 [00:01<00:03, 1073.08it/s]\n",
      " 36%|█████████████▎                       | 1988/5507 [00:01<00:03, 987.42it/s]\n",
      " 38%|██████████████                       | 2096/5507 [00:02<00:03, 975.04it/s]\n",
      " 42%|██████████████▉                     | 2287/5507 [00:02<00:02, 1142.86it/s]\n",
      " 44%|████████████████▏                    | 2417/5507 [00:02<00:03, 787.26it/s]\n",
      " 47%|█████████████████▍                   | 2600/5507 [00:02<00:03, 864.76it/s]\n",
      " 50%|██████████████████▍                  | 2753/5507 [00:02<00:02, 948.24it/s]\n",
      " 52%|███████████████████▏                 | 2865/5507 [00:02<00:03, 803.54it/s]\n",
      " 55%|████████████████████▏                | 3008/5507 [00:03<00:03, 662.72it/s]\n",
      " 56%|████████████████████▊                | 3090/5507 [00:03<00:03, 627.32it/s]\n",
      " 58%|█████████████████████▌               | 3210/5507 [00:03<00:03, 732.13it/s]\n",
      " 60%|██████████████████████▏              | 3298/5507 [00:03<00:03, 736.15it/s]\n",
      " 61%|██████████████████████▋              | 3382/5507 [00:03<00:02, 754.20it/s]\n",
      " 64%|███████████████████████▋             | 3518/5507 [00:03<00:02, 868.85it/s]\n",
      " 67%|████████████████████████            | 3686/5507 [00:03<00:01, 1016.01it/s]\n",
      " 70%|█████████████████████████▏          | 3851/5507 [00:03<00:01, 1148.37it/s]\n",
      " 72%|██████████████████████████▊          | 3984/5507 [00:04<00:01, 973.83it/s]\n",
      " 76%|███████████████████████████▏        | 4163/5507 [00:04<00:01, 1128.13it/s]\n",
      " 79%|████████████████████████████▎       | 4334/5507 [00:04<00:00, 1231.93it/s]\n",
      " 81%|█████████████████████████████▎      | 4475/5507 [00:04<00:00, 1273.48it/s]\n",
      " 84%|██████████████████████████████▎     | 4640/5507 [00:04<00:00, 1296.17it/s]\n",
      " 87%|███████████████████████████████▏    | 4779/5507 [00:04<00:00, 1040.65it/s]\n",
      " 90%|████████████████████████████████▎   | 4946/5507 [00:04<00:00, 1161.05it/s]\n",
      " 92%|██████████████████████████████████   | 5077/5507 [00:05<00:00, 969.77it/s]\n",
      " 94%|██████████████████████████████████▊  | 5190/5507 [00:05<00:00, 884.41it/s]\n",
      " 96%|███████████████████████████████████▋ | 5303/5507 [00:05<00:00, 943.71it/s]\n",
      " 98%|████████████████████████████████████▎| 5408/5507 [00:05<00:00, 824.26it/s]\n",
      "100%|█████████████████████████████████████| 5507/5507 [00:05<00:00, 998.31it/s]"
     ]
    },
    {
     "name": "stdout",
     "output_type": "stream",
     "text": [
      "[MoviePy] Done.\n",
      "Klcmk_Zz2JE\n",
      "365\n",
      "[MoviePy] Writing audio in C:/Users/Ankit/Documents/wpi/cs525/video_data/videos/ad_data\\Klcmk_Zz2JE\\Pork Cooking Temperature & Meat Thermometer Basics.wav\n"
     ]
    },
    {
     "name": "stderr",
     "output_type": "stream",
     "text": [
      "\n",
      "  0%|                                                 | 0/1081 [00:00<?, ?it/s]\n",
      "  3%|█                                      | 28/1081 [00:00<00:08, 117.64it/s]\n",
      "  9%|███▌                                  | 101/1081 [00:00<00:06, 148.56it/s]\n",
      " 23%|████████▉                             | 254/1081 [00:00<00:04, 196.98it/s]\n",
      " 33%|████████████▌                         | 356/1081 [00:00<00:02, 259.69it/s]\n",
      " 42%|████████████████                      | 458/1081 [00:00<00:01, 326.15it/s]\n",
      " 57%|█████████████████████▍                | 611/1081 [00:00<00:01, 415.78it/s]\n",
      " 64%|████████████████████████▎             | 690/1081 [00:01<00:00, 415.78it/s]\n",
      " 76%|████████████████████████████▉         | 824/1081 [00:01<00:00, 524.25it/s]\n",
      " 87%|█████████████████████████████████     | 942/1081 [00:01<00:00, 629.13it/s]\n",
      " 96%|███████████████████████████████████▌ | 1039/1081 [00:01<00:00, 577.62it/s]\n",
      "100%|█████████████████████████████████████| 1081/1081 [00:01<00:00, 677.70it/s]"
     ]
    },
    {
     "name": "stdout",
     "output_type": "stream",
     "text": [
      "[MoviePy] Done.\n",
      "KNZCe3I_X7o\n",
      "366\n",
      "kPbmUNNmFKo\n",
      "366\n",
      "[MoviePy] Writing audio in C:/Users/Ankit/Documents/wpi/cs525/video_data/videos/ad_data\\kPbmUNNmFKo\\Broadcast LIFT 1.wav\n"
     ]
    },
    {
     "name": "stderr",
     "output_type": "stream",
     "text": [
      "\n",
      "  0%|                                                  | 0/332 [00:00<?, ?it/s]\n",
      "  8%|███▍                                     | 28/332 [00:00<00:04, 72.72it/s]\n",
      " 61%|███████████████████████▋               | 202/332 [00:00<00:01, 102.06it/s]\n",
      "100%|███████████████████████████████████████| 332/332 [00:00<00:00, 591.77it/s]"
     ]
    },
    {
     "name": "stdout",
     "output_type": "stream",
     "text": [
      "[MoviePy] Done.\n",
      "KqIrJ_XseXs\n",
      "367\n",
      "[MoviePy] Writing audio in C:/Users/Ankit/Documents/wpi/cs525/video_data/videos/ad_data\\KqIrJ_XseXs\\Come See Why Golf Is Here To Create.wav\n"
     ]
    },
    {
     "name": "stderr",
     "output_type": "stream",
     "text": [
      "\n",
      "  0%|                                                  | 0/332 [00:00<?, ?it/s]\n",
      "  8%|███▍                                     | 28/332 [00:00<00:04, 65.42it/s]\n",
      " 30%|████████████▏                           | 101/332 [00:00<00:02, 86.17it/s]\n",
      " 72%|████████████████████████████▏          | 240/332 [00:00<00:00, 119.92it/s]\n",
      "100%|███████████████████████████████████████| 332/332 [00:00<00:00, 404.85it/s]"
     ]
    },
    {
     "name": "stdout",
     "output_type": "stream",
     "text": [
      "[MoviePy] Done.\n",
      "KQ_j8hJOVn8\n",
      "368\n",
      "[MoviePy] Writing audio in C:/Users/Ankit/Documents/wpi/cs525/video_data/videos/ad_data\\KQ_j8hJOVn8\\Central One Fed Credit Union Card Control.wav\n"
     ]
    },
    {
     "name": "stderr",
     "output_type": "stream",
     "text": [
      "\n",
      "  0%|                                                  | 0/332 [00:00<?, ?it/s]\n",
      "  8%|███▎                                    | 28/332 [00:00<00:02, 106.86it/s]\n",
      " 30%|███████████▊                           | 101/332 [00:00<00:01, 137.87it/s]\n",
      " 46%|█████████████████▊                     | 152/332 [00:00<00:01, 173.45it/s]\n",
      " 77%|█████████████████████████████▊         | 254/332 [00:00<00:00, 220.46it/s]\n",
      "100%|███████████████████████████████████████| 332/332 [00:00<00:00, 437.39it/s]"
     ]
    },
    {
     "name": "stdout",
     "output_type": "stream",
     "text": [
      "[MoviePy] Done.\n",
      "ksXdcGO-plc\n",
      "369\n",
      "[MoviePy] Writing audio in C:/Users/Ankit/Documents/wpi/cs525/video_data/videos/ad_data\\ksXdcGO-plc\\In-Stream Video.wav\n"
     ]
    },
    {
     "name": "stderr",
     "output_type": "stream",
     "text": [
      "\n",
      "  0%|                                                  | 0/332 [00:00<?, ?it/s]\n",
      "  8%|███▍                                     | 28/332 [00:00<00:04, 61.27it/s]\n",
      " 30%|████████████▏                           | 101/332 [00:00<00:02, 84.40it/s]\n",
      " 46%|█████████████████▊                     | 152/332 [00:00<00:01, 109.89it/s]\n",
      " 94%|████████████████████████████████████▌  | 311/332 [00:00<00:00, 152.47it/s]\n",
      "100%|███████████████████████████████████████| 332/332 [00:00<00:00, 410.87it/s]"
     ]
    },
    {
     "name": "stdout",
     "output_type": "stream",
     "text": [
      "[MoviePy] Done.\n",
      "KTNHf-vpHZQ\n",
      "370\n",
      "[MoviePy] Writing audio in C:/Users/Ankit/Documents/wpi/cs525/video_data/videos/ad_data\\KTNHf-vpHZQ\\This ATN X-Sight 4K PRO Day & Night SMART HD Optic Gives You More!.wav\n"
     ]
    },
    {
     "name": "stderr",
     "output_type": "stream",
     "text": [
      "\n",
      "  0%|                                                 | 0/1755 [00:00<?, ?it/s]\n",
      "  2%|▌                                      | 28/1755 [00:00<00:12, 141.41it/s]\n",
      "  6%|██▏                                   | 101/1755 [00:00<00:09, 183.71it/s]\n",
      " 13%|█████                                 | 235/1755 [00:00<00:06, 247.87it/s]\n",
      " 20%|███████▋                              | 356/1755 [00:00<00:04, 319.84it/s]\n",
      " 26%|█████████▉                            | 458/1755 [00:00<00:03, 399.94it/s]\n",
      " 35%|█████████████▏                        | 611/1755 [00:00<00:02, 471.07it/s]\n",
      " 41%|███████████████▌                      | 720/1755 [00:00<00:01, 567.79it/s]\n",
      " 49%|██████████████████▊                   | 866/1755 [00:01<00:01, 644.60it/s]\n",
      " 56%|█████████████████████▏                | 977/1755 [00:01<00:01, 737.33it/s]\n",
      " 64%|███████████████████████▊             | 1131/1755 [00:01<00:00, 873.99it/s]\n",
      " 76%|███████████████████████████▏        | 1326/1755 [00:01<00:00, 1047.36it/s]\n",
      " 84%|██████████████████████████████▎     | 1478/1755 [00:01<00:00, 1028.48it/s]\n",
      " 93%|█████████████████████████████████▋  | 1640/1755 [00:01<00:00, 1154.98it/s]\n",
      "100%|████████████████████████████████████| 1755/1755 [00:01<00:00, 1029.27it/s]"
     ]
    },
    {
     "name": "stdout",
     "output_type": "stream",
     "text": [
      "[MoviePy] Done.\n",
      "kUjhnAdS_dY\n",
      "371\n",
      "[MoviePy] Writing audio in C:/Users/Ankit/Documents/wpi/cs525/video_data/videos/ad_data\\kUjhnAdS_dY\\adidas Running  ULTRABOOST 19  Heel Frame..wav\n"
     ]
    },
    {
     "name": "stderr",
     "output_type": "stream",
     "text": [
      "\n",
      "  0%|                                                  | 0/333 [00:00<?, ?it/s]\n",
      "  8%|███▎                                    | 28/333 [00:00<00:01, 195.79it/s]\n",
      " 45%|█████████████████▌                     | 150/333 [00:00<00:00, 261.70it/s]\n",
      " 92%|███████████████████████████████████▉   | 307/333 [00:00<00:00, 348.93it/s]\n",
      "100%|███████████████████████████████████████| 333/333 [00:00<00:00, 932.72it/s]"
     ]
    },
    {
     "name": "stdout",
     "output_type": "stream",
     "text": [
      "[MoviePy] Done.\n",
      "Kvwea1K6o9w\n",
      "372\n",
      "[MoviePy] Writing audio in C:/Users/Ankit/Documents/wpi/cs525/video_data/videos/ad_data\\Kvwea1K6o9w\\School Lunch 15..wav\n"
     ]
    },
    {
     "name": "stderr",
     "output_type": "stream",
     "text": [
      "\n",
      "  0%|                                                  | 0/332 [00:00<?, ?it/s]\n",
      "  8%|███▎                                    | 28/332 [00:00<00:02, 127.27it/s]\n",
      " 59%|██████████████████████▉                | 195/332 [00:00<00:00, 176.06it/s]\n",
      "100%|███████████████████████████████████████| 332/332 [00:00<00:00, 821.74it/s]"
     ]
    },
    {
     "name": "stdout",
     "output_type": "stream",
     "text": [
      "[MoviePy] Done.\n",
      "KX3ELDq_mbI\n",
      "373\n",
      "[MoviePy] Writing audio in C:/Users/Ankit/Documents/wpi/cs525/video_data/videos/ad_data\\KX3ELDq_mbI\\Chrome Tip Close tabs to the right.wav\n"
     ]
    },
    {
     "name": "stderr",
     "output_type": "stream",
     "text": [
      "\n",
      "  0%|                                                  | 0/365 [00:00<?, ?it/s]\n",
      "  8%|███▏                                     | 28/365 [00:00<00:03, 98.93it/s]\n",
      " 44%|█████████████████▏                     | 161/365 [00:00<00:01, 136.97it/s]\n",
      " 95%|████████████████████████████████████▉  | 346/365 [00:00<00:00, 189.65it/s]\n",
      "100%|███████████████████████████████████████| 365/365 [00:00<00:00, 731.42it/s]"
     ]
    },
    {
     "name": "stdout",
     "output_type": "stream",
     "text": [
      "[MoviePy] Done.\n",
      "kxgAOhogbrc\n",
      "374\n",
      "[MoviePy] Writing audio in C:/Users/Ankit/Documents/wpi/cs525/video_data/videos/ad_data\\kxgAOhogbrc\\19_Brand_TMCameoJerry_ControlTower_Vast15_GM_Mass..wav\n"
     ]
    },
    {
     "name": "stderr",
     "output_type": "stream",
     "text": [
      "\n",
      "  0%|                                                  | 0/333 [00:00<?, ?it/s]\n",
      "  8%|███▎                                    | 28/333 [00:00<00:02, 120.68it/s]\n",
      " 46%|██████████████████                     | 154/333 [00:00<00:01, 165.61it/s]\n",
      " 76%|█████████████████████████████▋         | 254/333 [00:00<00:00, 213.95it/s]\n",
      "100%|███████████████████████████████████████| 333/333 [00:00<00:00, 604.32it/s]"
     ]
    },
    {
     "name": "stdout",
     "output_type": "stream",
     "text": [
      "[MoviePy] Done.\n",
      "KYg7MqdyUz4\n",
      "375\n",
      "[MoviePy] Writing audio in C:/Users/Ankit/Documents/wpi/cs525/video_data/videos/ad_data\\KYg7MqdyUz4\\Save money on Amazon — Its like a magic button for shopping.wav\n"
     ]
    },
    {
     "name": "stderr",
     "output_type": "stream",
     "text": [
      "\n",
      "  0%|                                                  | 0/444 [00:00<?, ?it/s]\n",
      "  6%|██▌                                      | 28/444 [00:00<00:04, 86.95it/s]\n",
      " 23%|████████▊                              | 101/444 [00:00<00:02, 116.54it/s]\n",
      " 53%|████████████████████▊                  | 237/444 [00:00<00:01, 160.59it/s]\n",
      " 92%|███████████████████████████████████▊   | 407/444 [00:00<00:00, 220.40it/s]\n",
      "100%|███████████████████████████████████████| 444/444 [00:00<00:00, 662.65it/s]"
     ]
    },
    {
     "name": "stdout",
     "output_type": "stream",
     "text": [
      "[MoviePy] Done.\n",
      "kYxmGphfEyY\n",
      "376\n",
      "[MoviePy] Writing audio in C:/Users/Ankit/Documents/wpi/cs525/video_data/videos/ad_data\\kYxmGphfEyY\\Pinehurst No 2  No 4  Cradle.wav\n"
     ]
    },
    {
     "name": "stderr",
     "output_type": "stream",
     "text": [
      "\n",
      "  0%|                                                  | 0/638 [00:00<?, ?it/s]\n",
      "  4%|█▊                                       | 28/638 [00:00<00:12, 47.54it/s]\n",
      " 16%|██████▎                                 | 101/638 [00:00<00:08, 64.00it/s]\n",
      " 43%|█████████████████▎                      | 276/638 [00:00<00:04, 90.01it/s]\n",
      " 62%|████████████████████████▎              | 398/638 [00:01<00:01, 124.65it/s]\n",
      " 80%|███████████████████████████████        | 509/638 [00:01<00:00, 155.01it/s]\n",
      "100%|███████████████████████████████████████| 638/638 [00:01<00:00, 455.04it/s]"
     ]
    },
    {
     "name": "stdout",
     "output_type": "stream",
     "text": [
      "[MoviePy] Done.\n",
      "kZHkiPW5IGA\n",
      "377\n",
      "[MoviePy] Writing audio in C:/Users/Ankit/Documents/wpi/cs525/video_data/videos/ad_data\\kZHkiPW5IGA\\Introducing the FreeStyle Libre 14 day System.wav\n"
     ]
    },
    {
     "name": "stderr",
     "output_type": "stream",
     "text": [
      "\n",
      "  0%|                                                  | 0/663 [00:00<?, ?it/s]\n",
      "  4%|█▋                                      | 28/663 [00:00<00:04, 129.62it/s]\n",
      " 21%|████████                               | 137/663 [00:00<00:02, 176.19it/s]\n",
      " 40%|███████████████▌                       | 264/663 [00:00<00:01, 237.58it/s]\n",
      " 69%|██████████████████████████▉            | 458/663 [00:00<00:00, 310.40it/s]\n",
      " 87%|██████████████████████████████████     | 580/663 [00:00<00:00, 399.83it/s]\n",
      "100%|███████████████████████████████████████| 663/663 [00:00<00:00, 898.32it/s]"
     ]
    },
    {
     "name": "stdout",
     "output_type": "stream",
     "text": [
      "[MoviePy] Done.\n",
      "L02rMpODFn0\n",
      "378\n",
      "[MoviePy] Writing audio in C:/Users/Ankit/Documents/wpi/cs525/video_data/videos/ad_data\\L02rMpODFn0\\The Hustle IDs UNAR1521HUSH..wav\n"
     ]
    },
    {
     "name": "stderr",
     "output_type": "stream",
     "text": [
      "\n",
      "  0%|                                                  | 0/333 [00:00<?, ?it/s]\n",
      " 30%|███████████▊                           | 101/333 [00:00<00:00, 999.94it/s]\n",
      " 73%|███████████████████████████▋          | 243/333 [00:00<00:00, 1097.31it/s]\n",
      "100%|██████████████████████████████████████| 333/333 [00:00<00:00, 1305.81it/s]"
     ]
    },
    {
     "name": "stdout",
     "output_type": "stream",
     "text": [
      "[MoviePy] Done.\n",
      "l5L3xYEAGkg\n",
      "379\n",
      "[MoviePy] Writing audio in C:/Users/Ankit/Documents/wpi/cs525/video_data/videos/ad_data\\l5L3xYEAGkg\\Hydro Jet High Pressure Power Washers.wav\n"
     ]
    },
    {
     "name": "stderr",
     "output_type": "stream",
     "text": [
      "\n",
      "  0%|                                                 | 0/1194 [00:00<?, ?it/s]\n",
      "  2%|▉                                      | 28/1194 [00:00<00:08, 142.85it/s]\n",
      " 13%|████▊                                 | 152/1194 [00:00<00:05, 194.10it/s]\n",
      " 24%|████████▉                             | 282/1194 [00:00<00:03, 260.61it/s]\n",
      " 38%|██████████████▌                       | 458/1194 [00:00<00:02, 344.74it/s]\n",
      " 51%|███████████████████▍                  | 611/1194 [00:00<00:01, 428.72it/s]\n",
      " 63%|███████████████████████▉              | 753/1194 [00:00<00:00, 542.29it/s]\n",
      " 73%|███████████████████████████▊          | 872/1194 [00:00<00:00, 648.11it/s]\n",
      " 88%|████████████████████████████████▌    | 1052/1194 [00:00<00:00, 802.09it/s]\n",
      " 99%|████████████████████████████████████▋| 1184/1194 [00:01<00:00, 881.76it/s]\n",
      "100%|████████████████████████████████████| 1194/1194 [00:01<00:00, 1080.48it/s]"
     ]
    },
    {
     "name": "stdout",
     "output_type": "stream",
     "text": [
      "[MoviePy] Done.\n",
      "L5XXR8zTvN0\n",
      "380\n",
      "[MoviePy] Writing audio in C:/Users/Ankit/Documents/wpi/cs525/video_data/videos/ad_data\\L5XXR8zTvN0\\MA529 TuitionTales PreRoll 15sec v1.wav\n"
     ]
    },
    {
     "name": "stderr",
     "output_type": "stream",
     "text": [
      "\n",
      "  0%|                                                  | 0/332 [00:00<?, ?it/s]\n",
      "  8%|███▍                                     | 28/332 [00:01<00:11, 27.40it/s]\n",
      " 46%|██████████████████▎                     | 152/332 [00:01<00:04, 38.48it/s]\n",
      " 96%|██████████████████████████████████████▌ | 320/332 [00:01<00:00, 54.44it/s]\n",
      "100%|███████████████████████████████████████| 332/332 [00:01<00:00, 253.61it/s]"
     ]
    },
    {
     "name": "stdout",
     "output_type": "stream",
     "text": [
      "[MoviePy] Done.\n",
      "l9M0ssvmelE\n",
      "381\n",
      "[MoviePy] Writing audio in C:/Users/Ankit/Documents/wpi/cs525/video_data/videos/ad_data\\l9M0ssvmelE\\Untitled Ad.wav\n"
     ]
    },
    {
     "name": "stderr",
     "output_type": "stream",
     "text": [
      "\n",
      "  0%|                                                  | 0/332 [00:00<?, ?it/s]\n",
      "  8%|███▍                                     | 28/332 [00:00<00:03, 84.08it/s]\n",
      " 46%|█████████████████▊                     | 152/332 [00:00<00:01, 116.62it/s]\n",
      " 92%|███████████████████████████████████▊   | 305/332 [00:00<00:00, 159.57it/s]\n",
      "100%|███████████████████████████████████████| 332/332 [00:00<00:00, 566.52it/s]"
     ]
    },
    {
     "name": "stdout",
     "output_type": "stream",
     "text": [
      "[MoviePy] Done.\n",
      "lArDQvgCdlA\n",
      "382\n",
      "[MoviePy] Writing audio in C:/Users/Ankit/Documents/wpi/cs525/video_data/videos/ad_data\\lArDQvgCdlA\\Dont Want To Use My Car  Uber.wav\n"
     ]
    },
    {
     "name": "stderr",
     "output_type": "stream",
     "text": [
      "\n",
      "  0%|                                                  | 0/773 [00:00<?, ?it/s]\n",
      " 13%|█████                                  | 101/773 [00:00<00:00, 770.95it/s]\n",
      " 31%|████████████▏                          | 242/773 [00:00<00:00, 892.26it/s]\n",
      " 45%|█████████████████▍                     | 346/773 [00:00<00:00, 931.96it/s]\n",
      " 66%|█████████████████████████▋             | 509/773 [00:00<00:00, 951.37it/s]\n",
      " 83%|███████████████████████████████▌      | 642/773 [00:00<00:00, 1040.19it/s]\n",
      "100%|██████████████████████████████████████| 773/773 [00:00<00:00, 1162.34it/s]"
     ]
    },
    {
     "name": "stdout",
     "output_type": "stream",
     "text": [
      "[MoviePy] Done.\n",
      "lFID_BPctXQ\n",
      "383\n",
      "[MoviePy] Writing audio in C:/Users/Ankit/Documents/wpi/cs525/video_data/videos/ad_data\\lFID_BPctXQ\\Here to help Turn back time.wav\n"
     ]
    },
    {
     "name": "stderr",
     "output_type": "stream",
     "text": [
      "\n",
      "  0%|                                                  | 0/222 [00:00<?, ?it/s]\n",
      " 13%|█████▏                                   | 28/222 [00:00<00:02, 67.14it/s]\n",
      " 45%|██████████████████▏                     | 101/222 [00:00<00:01, 91.93it/s]\n",
      "100%|███████████████████████████████████████| 222/222 [00:00<00:00, 359.78it/s]"
     ]
    },
    {
     "name": "stdout",
     "output_type": "stream",
     "text": [
      "[MoviePy] Done.\n",
      "LHJFh7MQdHI\n",
      "384\n",
      "[MoviePy] Writing audio in C:/Users/Ankit/Documents/wpi/cs525/video_data/videos/ad_data\\LHJFh7MQdHI\\BLACK OPIUM EAU DE PARFUM DIGITAL MOVIES 15s Sponso Ad.wav\n"
     ]
    },
    {
     "name": "stderr",
     "output_type": "stream",
     "text": [
      "\n",
      "  0%|                                                  | 0/331 [00:00<?, ?it/s]\n",
      " 13%|█████▎                                  | 44/331 [00:00<00:00, 435.62it/s]\n",
      " 31%|████████████▎                          | 104/331 [00:00<00:00, 473.50it/s]\n",
      " 77%|█████████████████████████████▉         | 254/331 [00:00<00:00, 592.29it/s]\n",
      "100%|███████████████████████████████████████| 331/331 [00:00<00:00, 956.59it/s]"
     ]
    },
    {
     "name": "stdout",
     "output_type": "stream",
     "text": [
      "[MoviePy] Done.\n",
      "Li4hkb8je-I\n",
      "385\n",
      "[MoviePy] Writing audio in C:/Users/Ankit/Documents/wpi/cs525/video_data/videos/ad_data\\Li4hkb8je-I\\Ventura Beach RV Resort! RV Lyfer and his kids explore this fine establishment!.wav\n"
     ]
    },
    {
     "name": "stderr",
     "output_type": "stream",
     "text": [
      "\n",
      "  0%|                                                 | 0/6909 [00:00<?, ?it/s]\n",
      "  2%|▊                                    | 152/6909 [00:00<00:04, 1447.54it/s]\n",
      "  3%|█▏                                   | 233/6909 [00:00<00:05, 1171.00it/s]\n",
      "  5%|█▉                                   | 356/6909 [00:00<00:06, 1040.35it/s]\n",
      "  7%|██▋                                  | 496/6909 [00:00<00:05, 1127.21it/s]\n",
      "  9%|███▎                                 | 625/6909 [00:00<00:05, 1171.54it/s]\n",
      " 12%|████▎                                | 815/6909 [00:00<00:05, 1180.65it/s]\n",
      " 13%|████▉                                | 921/6909 [00:00<00:05, 1112.88it/s]\n",
      " 15%|█████▌                              | 1070/6909 [00:00<00:04, 1184.20it/s]\n",
      " 17%|██████▎                              | 1185/6909 [00:01<00:06, 875.98it/s]\n",
      " 19%|██████▊                              | 1282/6909 [00:01<00:06, 892.24it/s]\n",
      " 21%|███████▋                             | 1427/6909 [00:01<00:05, 958.61it/s]\n",
      " 22%|████████▏                            | 1529/6909 [00:01<00:05, 925.72it/s]\n",
      " 24%|████████▋                            | 1628/6909 [00:01<00:05, 944.09it/s]\n",
      " 25%|█████████▎                           | 1733/6909 [00:01<00:06, 860.97it/s]\n",
      " 27%|██████████                           | 1868/6909 [00:01<00:05, 965.93it/s]\n",
      " 29%|██████████▌                          | 1972/6909 [00:02<00:06, 794.68it/s]\n",
      " 30%|███████████                          | 2062/6909 [00:02<00:07, 676.79it/s]\n",
      " 32%|███████████▊                         | 2205/6909 [00:02<00:05, 803.80it/s]\n",
      " 33%|████████████▎                        | 2303/6909 [00:02<00:06, 665.99it/s]\n",
      " 35%|█████████████                        | 2447/6909 [00:02<00:05, 772.31it/s]\n",
      " 37%|█████████████▌                       | 2542/6909 [00:02<00:05, 763.00it/s]\n",
      " 38%|██████████████▏                      | 2651/6909 [00:02<00:05, 790.99it/s]\n",
      " 41%|███████████████                      | 2804/6909 [00:03<00:05, 812.95it/s]\n",
      " 43%|███████████████▊                     | 2957/6909 [00:03<00:04, 922.00it/s]\n",
      " 45%|████████████████▋                    | 3110/6909 [00:03<00:04, 935.42it/s]\n",
      " 46%|█████████████████▏                   | 3211/6909 [00:03<00:04, 786.70it/s]\n",
      " 48%|█████████████████▋                   | 3314/6909 [00:03<00:04, 820.39it/s]\n",
      " 50%|██████████████████▍                  | 3438/6909 [00:03<00:03, 913.07it/s]\n",
      " 51%|██████████████████▉                  | 3538/6909 [00:03<00:04, 836.35it/s]\n",
      " 53%|███████████████████▋                 | 3671/6909 [00:03<00:03, 917.76it/s]\n",
      " 56%|████████████████████                | 3858/6909 [00:04<00:02, 1083.23it/s]\n",
      " 58%|█████████████████████▎               | 3984/6909 [00:04<00:04, 718.65it/s]\n",
      " 59%|█████████████████████▊               | 4084/6909 [00:04<00:04, 689.14it/s]\n",
      " 60%|██████████████████████▎              | 4173/6909 [00:04<00:04, 637.51it/s]\n",
      " 62%|██████████████████████▊              | 4252/6909 [00:04<00:04, 623.79it/s]\n",
      " 63%|███████████████████████▏             | 4334/6909 [00:04<00:04, 610.48it/s]\n",
      " 65%|████████████████████████             | 4487/6909 [00:05<00:03, 676.57it/s]\n",
      " 67%|████████████████████████▊            | 4640/6909 [00:05<00:03, 678.49it/s]\n",
      " 69%|█████████████████████████▋           | 4791/6909 [00:05<00:02, 812.75it/s]\n",
      " 71%|██████████████████████████▏          | 4888/6909 [00:05<00:02, 776.34it/s]\n",
      " 73%|███████████████████████████          | 5048/6909 [00:05<00:02, 881.69it/s]\n",
      " 75%|███████████████████████████▊         | 5201/6909 [00:05<00:01, 960.61it/s]\n",
      " 77%|███████████████████████████▊        | 5348/6909 [00:05<00:01, 1072.05it/s]\n",
      " 79%|█████████████████████████████▎       | 5467/6909 [00:06<00:01, 828.08it/s]\n",
      " 81%|██████████████████████████████       | 5605/6909 [00:06<00:01, 940.97it/s]\n",
      " 83%|██████████████████████████████▌      | 5717/6909 [00:06<00:01, 924.70it/s]\n",
      " 85%|███████████████████████████████▍     | 5864/6909 [00:06<00:01, 951.57it/s]\n",
      " 86%|███████████████████████████████▉     | 5968/6909 [00:06<00:01, 882.05it/s]\n",
      " 88%|████████████████████████████████▋    | 6100/6909 [00:06<00:00, 979.53it/s]\n",
      " 90%|█████████████████████████████████▏   | 6207/6909 [00:06<00:00, 855.54it/s]\n",
      " 92%|█████████████████████████████████▊   | 6323/6909 [00:07<00:00, 772.74it/s]\n",
      " 93%|██████████████████████████████████▍  | 6425/6909 [00:07<00:00, 714.28it/s]\n",
      " 94%|██████████████████████████████████▉  | 6527/6909 [00:07<00:00, 755.20it/s]\n",
      " 97%|███████████████████████████████████▊ | 6688/6909 [00:07<00:00, 898.27it/s]\n",
      " 99%|███████████████████████████████████▋| 6844/6909 [00:07<00:00, 1029.24it/s]\n",
      "100%|█████████████████████████████████████| 6909/6909 [00:07<00:00, 902.85it/s]"
     ]
    },
    {
     "name": "stdout",
     "output_type": "stream",
     "text": [
      "[MoviePy] Done.\n",
      "liQ7lhjTZu4\n",
      "386\n",
      "[MoviePy] Writing audio in C:/Users/Ankit/Documents/wpi/cs525/video_data/videos/ad_data\\liQ7lhjTZu4\\Untitled Ad.wav\n"
     ]
    },
    {
     "name": "stderr",
     "output_type": "stream",
     "text": [
      "\n",
      "  0%|                                                  | 0/331 [00:00<?, ?it/s]\n",
      "  8%|███▍                                    | 28/331 [00:00<00:02, 107.69it/s]\n",
      " 31%|███████████▉                           | 101/331 [00:00<00:01, 136.95it/s]\n",
      " 61%|███████████████████████▉               | 203/331 [00:00<00:00, 183.70it/s]\n",
      "100%|███████████████████████████████████████| 331/331 [00:00<00:00, 506.09it/s]"
     ]
    },
    {
     "name": "stdout",
     "output_type": "stream",
     "text": [
      "[MoviePy] Done.\n",
      "LMgV0lwuNdc\n",
      "387\n",
      "[MoviePy] Writing audio in C:/Users/Ankit/Documents/wpi/cs525/video_data/videos/ad_data\\LMgV0lwuNdc\\Run – AWD SUV Exterior  2020 Kia Telluride.wav\n"
     ]
    },
    {
     "name": "stderr",
     "output_type": "stream",
     "text": [
      "\n",
      "  0%|                                                  | 0/884 [00:00<?, ?it/s]\n",
      "  3%|█▎                                      | 28/884 [00:00<00:04, 180.63it/s]\n",
      " 15%|█████▊                                 | 133/884 [00:00<00:03, 240.33it/s]\n",
      " 23%|████████▉                              | 203/884 [00:00<00:02, 298.14it/s]\n",
      " 35%|█████████████▍                         | 305/884 [00:00<00:01, 367.45it/s]\n",
      " 50%|███████████████████▌                   | 444/884 [00:00<00:00, 471.51it/s]\n",
      " 69%|███████████████████████████            | 612/884 [00:00<00:00, 601.26it/s]\n",
      " 87%|█████████████████████████████████▉     | 769/884 [00:00<00:00, 737.84it/s]\n",
      "100%|██████████████████████████████████████| 884/884 [00:00<00:00, 1043.62it/s]"
     ]
    },
    {
     "name": "stdout",
     "output_type": "stream",
     "text": [
      "[MoviePy] Done.\n",
      "ln6SGVsXGPM\n",
      "388\n",
      "[MoviePy] Writing audio in C:/Users/Ankit/Documents/wpi/cs525/video_data/videos/ad_data\\ln6SGVsXGPM\\Collaborate Effectively  Grammarly Business.wav\n"
     ]
    },
    {
     "name": "stderr",
     "output_type": "stream",
     "text": [
      "\n",
      "  0%|                                                  | 0/595 [00:00<?, ?it/s]\n",
      " 19%|███████                               | 111/595 [00:00<00:00, 1109.94it/s]\n",
      " 34%|█████████████▎                         | 203/595 [00:00<00:00, 903.52it/s]\n",
      " 45%|█████████████████▌                     | 267/595 [00:00<00:00, 804.17it/s]\n",
      " 68%|██████████████████████████▋            | 407/595 [00:00<00:00, 907.52it/s]\n",
      "100%|██████████████████████████████████████| 595/595 [00:00<00:00, 1073.95it/s]"
     ]
    },
    {
     "name": "stdout",
     "output_type": "stream",
     "text": [
      "[MoviePy] Done.\n",
      "LNeDKRt5BR0\n",
      "389\n",
      "[MoviePy] Writing audio in C:/Users/Ankit/Documents/wpi/cs525/video_data/videos/ad_data\\LNeDKRt5BR0\\Pumped Up Power 15  Extra Power Button  Maytag Man Commercial.wav\n"
     ]
    },
    {
     "name": "stderr",
     "output_type": "stream",
     "text": [
      "\n",
      "  0%|                                                  | 0/332 [00:00<?, ?it/s]\n",
      "  8%|███▍                                     | 28/332 [00:00<00:09, 33.69it/s]\n",
      " 46%|██████████████████▎                     | 152/332 [00:00<00:03, 47.54it/s]\n",
      "100%|███████████████████████████████████████| 332/332 [00:01<00:00, 320.75it/s]"
     ]
    },
    {
     "name": "stdout",
     "output_type": "stream",
     "text": [
      "[MoviePy] Done.\n",
      "lnIbwCZg6p8\n",
      "390\n",
      "[MoviePy] Writing audio in C:/Users/Ankit/Documents/wpi/cs525/video_data/videos/ad_data\\lnIbwCZg6p8\\In-Stream Video.wav\n"
     ]
    },
    {
     "name": "stderr",
     "output_type": "stream",
     "text": [
      "\n",
      "  0%|                                                  | 0/332 [00:00<?, ?it/s]\n",
      "  8%|███▍                                     | 28/332 [00:00<00:03, 91.80it/s]\n",
      " 46%|█████████████████▊                     | 152/332 [00:00<00:01, 126.41it/s]\n",
      "100%|███████████████████████████████████████| 332/332 [00:00<00:00, 639.66it/s]"
     ]
    },
    {
     "name": "stdout",
     "output_type": "stream",
     "text": [
      "[MoviePy] Done.\n",
      "Lppkhu60yP4\n",
      "391\n",
      "[MoviePy] Writing audio in C:/Users/Ankit/Documents/wpi/cs525/video_data/videos/ad_data\\Lppkhu60yP4\\Actively Repair Acid-Weakened Enamel  Pronamel® Intensive Repair Toothpaste.wav\n"
     ]
    },
    {
     "name": "stderr",
     "output_type": "stream",
     "text": [
      "\n",
      "  0%|                                                  | 0/663 [00:00<?, ?it/s]\n",
      " 23%|████████▋                             | 152/663 [00:00<00:00, 1433.88it/s]\n",
      " 46%|█████████████████▋                    | 308/663 [00:00<00:00, 1469.50it/s]\n",
      " 73%|███████████████████████████▌          | 481/663 [00:00<00:00, 1539.00it/s]\n",
      " 90%|██████████████████████████████████▎   | 599/663 [00:00<00:00, 1410.25it/s]\n",
      "100%|██████████████████████████████████████| 663/663 [00:00<00:00, 1483.14it/s]"
     ]
    },
    {
     "name": "stdout",
     "output_type": "stream",
     "text": [
      "[MoviePy] Done.\n",
      "LRdkUPmOL18\n",
      "392\n",
      "[MoviePy] Writing audio in C:/Users/Ankit/Documents/wpi/cs525/video_data/videos/ad_data\\LRdkUPmOL18\\Skechers Energy commercial.wav\n"
     ]
    },
    {
     "name": "stderr",
     "output_type": "stream",
     "text": [
      "\n",
      "  0%|                                                  | 0/332 [00:00<?, ?it/s]\n",
      "  8%|███▎                                    | 28/332 [00:00<00:02, 129.02it/s]\n",
      " 30%|███████████▊                           | 101/332 [00:00<00:01, 161.56it/s]\n",
      " 46%|█████████████████▊                     | 152/332 [00:00<00:00, 193.05it/s]\n",
      " 61%|███████████████████████▊               | 203/332 [00:00<00:00, 226.24it/s]\n",
      "100%|███████████████████████████████████████| 332/332 [00:00<00:00, 434.53it/s]"
     ]
    },
    {
     "name": "stdout",
     "output_type": "stream",
     "text": [
      "[MoviePy] Done.\n",
      "LTlfm-Gqp-E\n",
      "393\n",
      "[MoviePy] Writing audio in C:/Users/Ankit/Documents/wpi/cs525/video_data/videos/ad_data\\LTlfm-Gqp-E\\BKBX Studio Class.wav\n"
     ]
    },
    {
     "name": "stderr",
     "output_type": "stream",
     "text": [
      "\n",
      "  0%|                                                  | 0/731 [00:00<?, ?it/s]\n",
      "  4%|█▌                                      | 28/731 [00:00<00:03, 223.99it/s]\n",
      " 14%|█████▍                                 | 101/731 [00:00<00:02, 276.05it/s]\n",
      " 21%|████████▏                              | 153/731 [00:00<00:01, 321.27it/s]\n",
      " 28%|██████████▊                            | 203/731 [00:00<00:01, 352.25it/s]\n",
      " 36%|██████████████▏                        | 266/731 [00:00<00:01, 405.93it/s]\n",
      " 42%|████████████████▌                      | 310/731 [00:00<00:01, 392.24it/s]\n",
      " 51%|████████████████████                   | 375/731 [00:00<00:00, 445.20it/s]\n",
      " 59%|███████████████████████▏               | 434/731 [00:00<00:00, 480.58it/s]\n",
      " 66%|█████████████████████████▉             | 486/731 [00:00<00:00, 467.86it/s]\n",
      " 77%|█████████████████████████████▉         | 560/731 [00:01<00:00, 490.33it/s]\n",
      " 84%|████████████████████████████████▋      | 612/731 [00:01<00:00, 482.21it/s]\n",
      "100%|███████████████████████████████████████| 731/731 [00:01<00:00, 553.34it/s]"
     ]
    },
    {
     "name": "stdout",
     "output_type": "stream",
     "text": [
      "[MoviePy] Done.\n",
      "LtXt-GB_KDg\n",
      "394\n",
      "[MoviePy] Writing audio in C:/Users/Ankit/Documents/wpi/cs525/video_data/videos/ad_data\\LtXt-GB_KDg\\In-Stream Video.wav\n"
     ]
    },
    {
     "name": "stderr",
     "output_type": "stream",
     "text": [
      "\n",
      "  0%|                                                  | 0/332 [00:00<?, ?it/s]\n",
      "  8%|███▍                                     | 28/332 [00:00<00:03, 89.17it/s]\n",
      " 30%|███████████▊                           | 101/332 [00:00<00:01, 119.44it/s]\n",
      " 72%|███████████████████████████▉           | 238/332 [00:00<00:00, 164.48it/s]\n",
      "100%|███████████████████████████████████████| 332/332 [00:00<00:00, 520.35it/s]"
     ]
    },
    {
     "name": "stdout",
     "output_type": "stream",
     "text": [
      "[MoviePy] Done.\n",
      "lVZ2sVr7DkE\n",
      "395\n",
      "[MoviePy] Writing audio in C:/Users/Ankit/Documents/wpi/cs525/video_data/videos/ad_data\\lVZ2sVr7DkE\\DAZN & Tracy Morgan Blowing Up The Fight Game (TV Commercial -- 15 Seconds).wav\n"
     ]
    },
    {
     "name": "stderr",
     "output_type": "stream",
     "text": [
      "\n",
      "  0%|                                                  | 0/332 [00:00<?, ?it/s]\n",
      " 39%|██████████████▊                       | 129/332 [00:00<00:00, 1289.93it/s]\n",
      " 85%|████████████████████████████████▏     | 281/332 [00:00<00:00, 1351.27it/s]\n",
      "100%|██████████████████████████████████████| 332/332 [00:00<00:00, 1443.40it/s]"
     ]
    },
    {
     "name": "stdout",
     "output_type": "stream",
     "text": [
      "[MoviePy] Done.\n",
      "Lz9Hy7uEY7s\n",
      "396\n",
      "[MoviePy] Writing audio in C:/Users/Ankit/Documents/wpi/cs525/video_data/videos/ad_data\\Lz9Hy7uEY7s\\Bookingcom - Ask Your Boss Later.wav\n"
     ]
    },
    {
     "name": "stderr",
     "output_type": "stream",
     "text": [
      "\n",
      "  0%|                                                  | 0/365 [00:00<?, ?it/s]\n",
      "  8%|███                                     | 28/365 [00:00<00:02, 117.15it/s]\n",
      " 42%|████████████████▏                      | 152/365 [00:00<00:01, 157.95it/s]\n",
      " 81%|███████████████████████████████▌       | 295/365 [00:00<00:00, 215.45it/s]\n",
      "100%|███████████████████████████████████████| 365/365 [00:00<00:00, 678.40it/s]"
     ]
    },
    {
     "name": "stdout",
     "output_type": "stream",
     "text": [
      "[MoviePy] Done.\n",
      "LZjAHp8vVEE\n",
      "397\n",
      "[MoviePy] Writing audio in C:/Users/Ankit/Documents/wpi/cs525/video_data/videos/ad_data\\LZjAHp8vVEE\\tameimpala_findmyiphone_15_sprint_wm.wav\n"
     ]
    },
    {
     "name": "stderr",
     "output_type": "stream",
     "text": [
      "\n",
      "  0%|                                                  | 0/332 [00:00<?, ?it/s]\n",
      "  8%|███▍                                     | 28/332 [00:00<00:03, 77.99it/s]\n",
      " 61%|███████████████████████▊               | 203/332 [00:00<00:01, 108.94it/s]\n",
      "100%|███████████████████████████████████████| 332/332 [00:00<00:00, 612.51it/s]"
     ]
    },
    {
     "name": "stdout",
     "output_type": "stream",
     "text": [
      "[MoviePy] Done.\n",
      "LzSBEBy8VQM\n",
      "398\n",
      "[MoviePy] Writing audio in C:/Users/Ankit/Documents/wpi/cs525/video_data/videos/ad_data\\LzSBEBy8VQM\\Beccas Bunch - The Pine Cone Bunny Chase - Singalongs.wav\n"
     ]
    },
    {
     "name": "stderr",
     "output_type": "stream",
     "text": [
      "\n",
      "  0%|                                                  | 0/558 [00:00<?, ?it/s]\n",
      " 23%|████████▋                             | 127/558 [00:00<00:00, 1269.93it/s]\n",
      " 35%|█████████████▏                        | 194/558 [00:00<00:00, 1001.00it/s]\n",
      " 64%|████████████████████████▏             | 356/558 [00:00<00:00, 1130.59it/s]\n",
      " 98%|█████████████████████████████████████ | 545/558 [00:00<00:00, 1285.53it/s]\n",
      "100%|██████████████████████████████████████| 558/558 [00:00<00:00, 1360.90it/s]"
     ]
    },
    {
     "name": "stdout",
     "output_type": "stream",
     "text": [
      "[MoviePy] Done.\n",
      "lzwv_nigvLg\n",
      "399\n",
      "[MoviePy] Writing audio in C:/Users/Ankit/Documents/wpi/cs525/video_data/videos/ad_data\\lzwv_nigvLg\\In-Stream Video.wav\n"
     ]
    },
    {
     "name": "stderr",
     "output_type": "stream",
     "text": [
      "\n",
      "  0%|                                                  | 0/332 [00:00<?, ?it/s]\n",
      "  8%|███▍                                     | 28/332 [00:00<00:03, 87.77it/s]\n",
      " 40%|███████████████▋                       | 134/332 [00:00<00:01, 121.09it/s]\n",
      " 77%|█████████████████████████████▊         | 254/332 [00:00<00:00, 165.74it/s]\n",
      "100%|███████████████████████████████████████| 332/332 [00:00<00:00, 591.77it/s]"
     ]
    },
    {
     "name": "stdout",
     "output_type": "stream",
     "text": [
      "[MoviePy] Done.\n",
      "M-pcFnn8Kb4\n",
      "400\n",
      "[MoviePy] Writing audio in C:/Users/Ankit/Documents/wpi/cs525/video_data/videos/ad_data\\M-pcFnn8Kb4\\Andersen Windows Pajamas V2 15.wav\n"
     ]
    },
    {
     "name": "stderr",
     "output_type": "stream",
     "text": [
      "\n",
      "  0%|                                                  | 0/332 [00:00<?, ?it/s]\n",
      "  8%|███▍                                     | 28/332 [00:00<00:03, 98.24it/s]\n",
      " 46%|█████████████████▊                     | 152/332 [00:00<00:01, 133.54it/s]\n",
      "100%|███████████████████████████████████████| 332/332 [00:00<00:00, 621.69it/s]"
     ]
    },
    {
     "name": "stdout",
     "output_type": "stream",
     "text": [
      "[MoviePy] Done.\n",
      "mAfPzGRNtYk\n",
      "401\n",
      "[MoviePy] Writing audio in C:/Users/Ankit/Documents/wpi/cs525/video_data/videos/ad_data\\mAfPzGRNtYk\\Jinba Ittai – As One  2019 Mazda3  Mazda USA.wav\n"
     ]
    },
    {
     "name": "stderr",
     "output_type": "stream",
     "text": [
      "\n",
      "  0%|                                                  | 0/332 [00:00<?, ?it/s]\n",
      "  8%|███▎                                    | 28/332 [00:00<00:01, 167.66it/s]\n",
      " 30%|███████████▊                           | 101/332 [00:00<00:01, 213.08it/s]\n",
      " 61%|███████████████████████▊               | 203/332 [00:00<00:00, 278.47it/s]\n",
      "100%|███████████████████████████████████████| 332/332 [00:00<00:00, 718.57it/s]"
     ]
    },
    {
     "name": "stdout",
     "output_type": "stream",
     "text": [
      "[MoviePy] Done.\n",
      "maxbug2iYVc\n",
      "402\n",
      "[MoviePy] Writing audio in C:/Users/Ankit/Documents/wpi/cs525/video_data/videos/ad_data\\maxbug2iYVc\\MCWA758519TH_FreshonFreshonFreshGCM_15_Unslated_Innovid.wav\n"
     ]
    },
    {
     "name": "stderr",
     "output_type": "stream",
     "text": [
      "\n",
      "  0%|                                                  | 0/332 [00:00<?, ?it/s]\n",
      " 15%|█████▉                                  | 49/332 [00:00<00:00, 489.97it/s]\n",
      " 46%|█████████████████▊                     | 152/332 [00:00<00:00, 576.54it/s]\n",
      " 77%|█████████████████████████████▊         | 254/332 [00:00<00:00, 647.85it/s]\n",
      "100%|███████████████████████████████████████| 332/332 [00:00<00:00, 927.32it/s]"
     ]
    },
    {
     "name": "stdout",
     "output_type": "stream",
     "text": [
      "[MoviePy] Done.\n",
      "McrM4XStgjU\n",
      "403\n",
      "[MoviePy] Writing audio in C:/Users/Ankit/Documents/wpi/cs525/video_data/videos/ad_data\\McrM4XStgjU\\B144735_SENS_PRONAMEL_OZONE_USA_DR_IRINA_GANZMAN_15_ED008_140219_v3_INNOVID_IRE_Canvas_Video..wav\n"
     ]
    },
    {
     "name": "stderr",
     "output_type": "stream",
     "text": [
      "\n",
      "  0%|                                                  | 0/334 [00:00<?, ?it/s]\n",
      " 48%|██████████████████                    | 159/334 [00:00<00:00, 1589.91it/s]\n",
      "100%|██████████████████████████████████████| 334/334 [00:00<00:00, 1730.47it/s]"
     ]
    },
    {
     "name": "stdout",
     "output_type": "stream",
     "text": [
      "[MoviePy] Done.\n",
      "mCu30LWgX6Q\n",
      "404\n",
      "[MoviePy] Writing audio in C:/Users/Ankit/Documents/wpi/cs525/video_data/videos/ad_data\\mCu30LWgX6Q\\Pulp-Fiction_A-New-Way-To-Make-Music_15_WM.wav\n"
     ]
    },
    {
     "name": "stderr",
     "output_type": "stream",
     "text": [
      "\n",
      "  0%|                                                  | 0/331 [00:00<?, ?it/s]\n",
      "  8%|███▍                                    | 28/331 [00:00<00:01, 229.49it/s]\n",
      " 68%|██████████████████████████▍            | 224/331 [00:00<00:00, 312.18it/s]\n",
      "100%|██████████████████████████████████████| 331/331 [00:00<00:00, 1190.58it/s]"
     ]
    },
    {
     "name": "stdout",
     "output_type": "stream",
     "text": [
      "[MoviePy] Done.\n",
      "MdMOSUgtRX8\n",
      "405\n",
      "[MoviePy] Writing audio in C:/Users/Ankit/Documents/wpi/cs525/video_data/videos/ad_data\\MdMOSUgtRX8\\Untitled Ad.wav\n"
     ]
    },
    {
     "name": "stderr",
     "output_type": "stream",
     "text": [
      "\n",
      "  0%|                                                  | 0/332 [00:00<?, ?it/s]\n",
      "  8%|███▎                                    | 28/332 [00:00<00:02, 112.90it/s]\n",
      " 46%|█████████████████▊                     | 152/332 [00:00<00:01, 154.76it/s]\n",
      "100%|███████████████████████████████████████| 332/332 [00:00<00:00, 737.74it/s]"
     ]
    },
    {
     "name": "stdout",
     "output_type": "stream",
     "text": [
      "[MoviePy] Done.\n",
      "MDSluOJgMWo\n",
      "406\n",
      "[MoviePy] Writing audio in C:/Users/Ankit/Documents/wpi/cs525/video_data/videos/ad_data\\MDSluOJgMWo\\Lo Key - Aint Coming Back.wav\n"
     ]
    },
    {
     "name": "stderr",
     "output_type": "stream",
     "text": [
      "\n",
      "  0%|                                                 | 0/5918 [00:00<?, ?it/s]\n",
      "  0%|▏                                      | 28/5918 [00:00<00:40, 145.83it/s]\n",
      "  3%|▉                                     | 152/5918 [00:00<00:29, 197.10it/s]\n",
      "  6%|██▎                                   | 356/5918 [00:00<00:20, 268.87it/s]\n",
      "  9%|███▍                                  | 542/5918 [00:00<00:14, 361.70it/s]\n",
      " 12%|████▍                                 | 700/5918 [00:00<00:11, 470.54it/s]\n",
      " 15%|█████▌                                | 870/5918 [00:00<00:08, 600.91it/s]\n",
      " 17%|██████▎                              | 1009/5918 [00:00<00:06, 705.50it/s]\n",
      " 20%|███████▎                             | 1172/5918 [00:00<00:05, 835.77it/s]\n",
      " 23%|████████▌                            | 1376/5918 [00:01<00:04, 937.23it/s]\n",
      " 26%|█████████▎                          | 1529/5918 [00:01<00:04, 1058.27it/s]\n",
      " 29%|██████████▌                         | 1730/5918 [00:01<00:03, 1233.48it/s]\n",
      " 32%|███████████▍                        | 1889/5918 [00:01<00:03, 1183.61it/s]\n",
      " 35%|████████████▋                       | 2086/5918 [00:01<00:02, 1344.62it/s]\n",
      " 38%|█████████████▋                      | 2246/5918 [00:01<00:02, 1255.91it/s]\n",
      " 41%|██████████████▊                     | 2426/5918 [00:01<00:02, 1381.14it/s]\n",
      " 44%|███████████████▉                    | 2616/5918 [00:01<00:02, 1504.37it/s]\n",
      " 47%|█████████████████                   | 2807/5918 [00:01<00:01, 1606.71it/s]\n",
      " 51%|██████████████████▎                 | 3008/5918 [00:02<00:01, 1679.59it/s]\n",
      " 54%|███████████████████▌                | 3212/5918 [00:02<00:01, 1741.77it/s]\n",
      " 58%|████████████████████▊               | 3413/5918 [00:02<00:01, 1814.38it/s]\n",
      " 61%|█████████████████████▉              | 3601/5918 [00:02<00:01, 1828.20it/s]\n",
      " 64%|███████████████████████             | 3788/5918 [00:02<00:01, 1829.70it/s]\n",
      " 67%|████████████████████████▏           | 3977/5918 [00:02<00:01, 1831.24it/s]\n",
      " 70%|█████████████████████████▎          | 4163/5918 [00:02<00:01, 1222.85it/s]\n",
      " 73%|██████████████████████████▎         | 4334/5918 [00:03<00:01, 1070.83it/s]\n",
      " 75%|███████████████████████████▏        | 4465/5918 [00:03<00:01, 1124.11it/s]\n",
      " 78%|███████████████████████████▉        | 4600/5918 [00:03<00:01, 1183.50it/s]\n",
      " 80%|████████████████████████████▊       | 4731/5918 [00:03<00:00, 1195.43it/s]\n",
      " 82%|█████████████████████████████▌      | 4860/5918 [00:03<00:01, 1054.44it/s]\n",
      " 85%|██████████████████████████████▌     | 5033/5918 [00:03<00:00, 1194.34it/s]\n",
      " 88%|███████████████████████████████▋    | 5208/5918 [00:03<00:00, 1320.07it/s]\n",
      " 90%|████████████████████████████████▌   | 5354/5918 [00:03<00:00, 1359.13it/s]\n",
      " 93%|█████████████████████████████████▌  | 5527/5918 [00:03<00:00, 1452.52it/s]\n",
      " 97%|██████████████████████████████████▋ | 5711/5918 [00:04<00:00, 1550.45it/s]\n",
      "100%|███████████████████████████████████▉| 5914/5918 [00:04<00:00, 1668.69it/s]\n",
      "100%|████████████████████████████████████| 5918/5918 [00:04<00:00, 1419.10it/s]"
     ]
    },
    {
     "name": "stdout",
     "output_type": "stream",
     "text": [
      "[MoviePy] Done.\n",
      "mFC8JuiZZYc\n",
      "407\n",
      "[MoviePy] Writing audio in C:/Users/Ankit/Documents/wpi/cs525/video_data/videos/ad_data\\mFC8JuiZZYc\\Flashtalking vast template 20.wav\n"
     ]
    },
    {
     "name": "stderr",
     "output_type": "stream",
     "text": [
      "\n",
      "  0%|                                                  | 0/332 [00:00<?, ?it/s]\n",
      " 18%|███████▎                                | 61/332 [00:00<00:00, 609.96it/s]\n",
      " 46%|█████████████████▊                     | 152/332 [00:00<00:00, 638.44it/s]\n",
      " 77%|█████████████████████████████▊         | 254/332 [00:00<00:00, 611.74it/s]\n",
      "100%|███████████████████████████████████████| 332/332 [00:00<00:00, 707.85it/s]"
     ]
    },
    {
     "name": "stdout",
     "output_type": "stream",
     "text": [
      "[MoviePy] Done.\n",
      "mGJDylmFnyc\n",
      "408\n",
      "[MoviePy] Writing audio in C:/Users/Ankit/Documents/wpi/cs525/video_data/videos/ad_data\\mGJDylmFnyc\\In-Stream Video.wav\n"
     ]
    },
    {
     "name": "stderr",
     "output_type": "stream",
     "text": [
      "\n",
      "  0%|                                                  | 0/332 [00:00<?, ?it/s]\n",
      "  8%|███▎                                    | 28/332 [00:00<00:02, 113.35it/s]\n",
      " 30%|███████████▊                           | 101/332 [00:00<00:01, 144.10it/s]\n",
      " 68%|██████████████████████████▋            | 227/332 [00:00<00:00, 196.23it/s]\n",
      " 92%|███████████████████████████████████▊   | 305/332 [00:00<00:00, 252.31it/s]\n",
      "100%|███████████████████████████████████████| 332/332 [00:00<00:00, 510.74it/s]"
     ]
    },
    {
     "name": "stdout",
     "output_type": "stream",
     "text": [
      "[MoviePy] Done.\n",
      "MgvHXcroWfY\n",
      "409\n",
      "[MoviePy] Writing audio in C:/Users/Ankit/Documents/wpi/cs525/video_data/videos/ad_data\\MgvHXcroWfY\\In-Stream Video.wav\n"
     ]
    },
    {
     "name": "stderr",
     "output_type": "stream",
     "text": [
      "\n",
      "  0%|                                                  | 0/225 [00:00<?, ?it/s]\n",
      " 12%|████▉                                   | 28/225 [00:00<00:01, 131.45it/s]\n",
      " 82%|███████████████████████████████▉       | 184/225 [00:00<00:00, 181.24it/s]\n",
      "100%|███████████████████████████████████████| 225/225 [00:00<00:00, 661.73it/s]"
     ]
    },
    {
     "name": "stdout",
     "output_type": "stream",
     "text": [
      "[MoviePy] Done.\n",
      "Mh0NhD3OChI\n",
      "410\n",
      "[MoviePy] Writing audio in C:/Users/Ankit/Documents/wpi/cs525/video_data/videos/ad_data\\Mh0NhD3OChI\\Breakthrough  Frontline  20th Century FOX.wav\n"
     ]
    },
    {
     "name": "stderr",
     "output_type": "stream",
     "text": [
      "\n",
      "  0%|                                                  | 0/663 [00:00<?, ?it/s]\n",
      "  4%|█▋                                      | 28/663 [00:00<00:04, 138.61it/s]\n",
      " 26%|██████████▏                            | 173/663 [00:00<00:02, 190.22it/s]\n",
      " 33%|████████████▉                          | 220/663 [00:00<00:01, 227.53it/s]\n",
      " 54%|████████████████████▉                  | 356/663 [00:00<00:01, 283.39it/s]\n",
      " 73%|████████████████████████████▌          | 485/663 [00:00<00:00, 370.00it/s]\n",
      " 92%|███████████████████████████████████▉   | 611/663 [00:00<00:00, 462.76it/s]\n",
      "100%|███████████████████████████████████████| 663/663 [00:00<00:00, 770.89it/s]"
     ]
    },
    {
     "name": "stdout",
     "output_type": "stream",
     "text": [
      "[MoviePy] Done.\n",
      "MhJJloWpxdY\n",
      "411\n",
      "[MoviePy] Writing audio in C:/Users/Ankit/Documents/wpi/cs525/video_data/videos/ad_data\\MhJJloWpxdY\\Trump is a Criminal.wav\n"
     ]
    },
    {
     "name": "stderr",
     "output_type": "stream",
     "text": [
      "\n",
      "  0%|                                                  | 0/597 [00:00<?, ?it/s]\n",
      " 17%|██████▌                                | 101/597 [00:00<00:00, 990.14it/s]\n",
      " 50%|██████████████████▊                   | 296/597 [00:00<00:00, 1161.68it/s]\n",
      " 77%|█████████████████████████████▎        | 460/597 [00:00<00:00, 1273.05it/s]\n",
      "100%|██████████████████████████████████████| 597/597 [00:00<00:00, 1604.75it/s]"
     ]
    },
    {
     "name": "stdout",
     "output_type": "stream",
     "text": [
      "[MoviePy] Done.\n",
      "MIQbE9Iume8\n",
      "412\n",
      "[MoviePy] Writing audio in C:/Users/Ankit/Documents/wpi/cs525/video_data/videos/ad_data\\MIQbE9Iume8\\In-Stream Video.wav\n"
     ]
    },
    {
     "name": "stderr",
     "output_type": "stream",
     "text": [
      "\n",
      "  0%|                                                  | 0/133 [00:00<?, ?it/s]\n",
      " 21%|████████▋                                | 28/133 [00:00<00:01, 56.91it/s]\n",
      "100%|███████████████████████████████████████| 133/133 [00:00<00:00, 234.97it/s]"
     ]
    },
    {
     "name": "stdout",
     "output_type": "stream",
     "text": [
      "[MoviePy] Done.\n",
      "mj5nO02sV5g\n",
      "413\n",
      "[MoviePy] Writing audio in C:/Users/Ankit/Documents/wpi/cs525/video_data/videos/ad_data\\mj5nO02sV5g\\1500705446-1_2Q19 ROV Ent_EXCL CNN Video Imp OTT Demo DAR_P25-54_1x25 FC_DNA.wav\n"
     ]
    },
    {
     "name": "stderr",
     "output_type": "stream",
     "text": [
      "\n",
      "  0%|                                                  | 0/332 [00:00<?, ?it/s]\n",
      " 46%|█████████████████▍                    | 152/332 [00:00<00:00, 1461.46it/s]\n",
      " 77%|█████████████████████████████         | 254/332 [00:00<00:00, 1185.25it/s]\n",
      "100%|██████████████████████████████████████| 332/332 [00:00<00:00, 1164.85it/s]"
     ]
    },
    {
     "name": "stdout",
     "output_type": "stream",
     "text": [
      "[MoviePy] Done.\n",
      "mkBFZ6Sv_H4\n",
      "414\n",
      "[MoviePy] Writing audio in C:/Users/Ankit/Documents/wpi/cs525/video_data/videos/ad_data\\mkBFZ6Sv_H4\\Diddi Trix - Bizz - DSCVR - France+ - 15.wav\n"
     ]
    },
    {
     "name": "stderr",
     "output_type": "stream",
     "text": [
      "\n",
      "  0%|                                                  | 0/333 [00:00<?, ?it/s]\n",
      "  8%|███▎                                    | 28/333 [00:00<00:01, 222.21it/s]\n",
      " 46%|██████████████████                     | 154/333 [00:00<00:00, 295.13it/s]\n",
      "100%|███████████████████████████████████████| 333/333 [00:00<00:00, 393.79it/s]"
     ]
    },
    {
     "name": "stdout",
     "output_type": "stream",
     "text": [
      "[MoviePy] Done.\n",
      "MmFZL5gbAPY\n",
      "415\n",
      "[MoviePy] Writing audio in C:/Users/Ankit/Documents/wpi/cs525/video_data/videos/ad_data\\MmFZL5gbAPY\\sundaycandy_safari_06_verizon_wm.wav\n"
     ]
    },
    {
     "name": "stderr",
     "output_type": "stream",
     "text": [
      "\n",
      "  0%|                                                  | 0/134 [00:00<?, ?it/s]\n",
      " 21%|████████▌                                | 28/134 [00:00<00:03, 30.80it/s]\n",
      "100%|███████████████████████████████████████| 134/134 [00:00<00:00, 135.89it/s]"
     ]
    },
    {
     "name": "stdout",
     "output_type": "stream",
     "text": [
      "[MoviePy] Done.\n",
      "MNBYQFdTNSQ\n",
      "416\n",
      "[MoviePy] Writing audio in C:/Users/Ankit/Documents/wpi/cs525/video_data/videos/ad_data\\MNBYQFdTNSQ\\Untitled Ad.wav\n"
     ]
    },
    {
     "name": "stderr",
     "output_type": "stream",
     "text": [
      "\n",
      "  0%|                                                  | 0/332 [00:00<?, ?it/s]\n",
      "  8%|███▍                                     | 28/332 [00:00<00:03, 77.34it/s]\n",
      " 46%|█████████████████▊                     | 152/332 [00:00<00:01, 107.39it/s]\n",
      " 61%|███████████████████████▊               | 203/332 [00:00<00:00, 135.02it/s]\n",
      "100%|███████████████████████████████████████| 332/332 [00:00<00:00, 470.23it/s]"
     ]
    },
    {
     "name": "stdout",
     "output_type": "stream",
     "text": [
      "[MoviePy] Done.\n",
      "MnmJVdrXlu4\n",
      "417\n",
      "[MoviePy] Writing audio in C:/Users/Ankit/Documents/wpi/cs525/video_data/videos/ad_data\\MnmJVdrXlu4\\Untitled Ad.wav\n"
     ]
    },
    {
     "name": "stderr",
     "output_type": "stream",
     "text": [
      "\n",
      "  0%|                                                  | 0/332 [00:00<?, ?it/s]\n",
      "  8%|███▎                                    | 28/332 [00:00<00:01, 218.74it/s]\n",
      " 61%|███████████████████████▌               | 201/332 [00:00<00:00, 296.42it/s]\n",
      "100%|██████████████████████████████████████| 332/332 [00:00<00:00, 1047.26it/s]"
     ]
    },
    {
     "name": "stdout",
     "output_type": "stream",
     "text": [
      "[MoviePy] Done.\n",
      "MnUljSpMus4\n",
      "418\n",
      "[MoviePy] Writing audio in C:/Users/Ankit/Documents/wpi/cs525/video_data/videos/ad_data\\MnUljSpMus4\\Smartdogs VR - GEICO Insurance.wav\n"
     ]
    },
    {
     "name": "stderr",
     "output_type": "stream",
     "text": [
      "\n",
      "  0%|                                                  | 0/133 [00:00<?, ?it/s]\n",
      " 21%|████████▍                               | 28/133 [00:00<00:00, 149.72it/s]\n",
      "100%|███████████████████████████████████████| 133/133 [00:00<00:00, 558.79it/s]"
     ]
    },
    {
     "name": "stdout",
     "output_type": "stream",
     "text": [
      "[MoviePy] Done.\n",
      "MOo9iJ8RYWM\n",
      "419\n",
      "[MoviePy] Writing audio in C:/Users/Ankit/Documents/wpi/cs525/video_data/videos/ad_data\\MOo9iJ8RYWM\\Enhance Your Writing  Grammarly.wav\n"
     ]
    },
    {
     "name": "stderr",
     "output_type": "stream",
     "text": [
      "\n",
      "  0%|                                                 | 0/1338 [00:00<?, ?it/s]\n",
      "  2%|▊                                       | 28/1338 [00:00<00:14, 88.60it/s]\n",
      " 15%|█████▊                                | 203/1338 [00:00<00:09, 123.83it/s]\n",
      " 28%|██████████▊                           | 381/1338 [00:00<00:05, 171.78it/s]\n",
      " 35%|█████████████▍                        | 472/1338 [00:00<00:03, 218.85it/s]\n",
      " 49%|██████████████████▋                   | 659/1338 [00:00<00:02, 297.70it/s]\n",
      " 61%|███████████████████████▏              | 815/1338 [00:00<00:01, 390.19it/s]\n",
      " 71%|██████████████████████████▊           | 945/1338 [00:00<00:00, 493.88it/s]\n",
      " 84%|██████████████████████████████▉      | 1121/1338 [00:01<00:00, 608.88it/s]\n",
      " 93%|██████████████████████████████████▌  | 1249/1338 [00:01<00:00, 677.76it/s]\n",
      "100%|████████████████████████████████████| 1338/1338 [00:01<00:00, 1026.02it/s]"
     ]
    },
    {
     "name": "stdout",
     "output_type": "stream",
     "text": [
      "[MoviePy] Done.\n",
      "MSXI8ceaUBg\n",
      "420\n",
      "[MoviePy] Writing audio in C:/Users/Ankit/Documents/wpi/cs525/video_data/videos/ad_data\\MSXI8ceaUBg\\Galaxy S10 Exclusive Fortnite iKONIK Outfit.wav\n"
     ]
    },
    {
     "name": "stderr",
     "output_type": "stream",
     "text": [
      "\n",
      "  0%|                                                  | 0/332 [00:00<?, ?it/s]\n",
      "  8%|███▎                                    | 28/332 [00:00<00:02, 138.61it/s]\n",
      " 44%|█████████████████                      | 145/332 [00:00<00:00, 188.44it/s]\n",
      " 96%|█████████████████████████████████████▌ | 320/332 [00:00<00:00, 257.32it/s]\n",
      "100%|███████████████████████████████████████| 332/332 [00:00<00:00, 809.71it/s]"
     ]
    },
    {
     "name": "stdout",
     "output_type": "stream",
     "text": [
      "[MoviePy] Done.\n",
      "mtkz0-1l95Q\n",
      "421\n",
      "[MoviePy] Writing audio in C:/Users/Ankit/Documents/wpi/cs525/video_data/videos/ad_data\\mtkz0-1l95Q\\Office Breakroom Smorgasbord.wav\n"
     ]
    },
    {
     "name": "stderr",
     "output_type": "stream",
     "text": [
      "\n",
      "  0%|                                                 | 0/1504 [00:00<?, ?it/s]\n",
      "  2%|▋                                      | 28/1504 [00:00<00:10, 147.36it/s]\n",
      "  7%|██▌                                   | 101/1504 [00:00<00:07, 189.08it/s]\n",
      " 13%|█████▏                                | 203/1504 [00:00<00:05, 246.25it/s]\n",
      " 24%|█████████▏                            | 365/1504 [00:00<00:03, 330.27it/s]\n",
      " 33%|████████████▌                         | 495/1504 [00:00<00:02, 425.48it/s]\n",
      " 41%|███████████████▍                      | 611/1504 [00:00<00:01, 514.77it/s]\n",
      " 53%|███████████████████▉                  | 791/1504 [00:00<00:01, 655.09it/s]\n",
      " 61%|███████████████████████               | 912/1504 [00:00<00:00, 755.32it/s]\n",
      " 69%|█████████████████████████▍           | 1032/1504 [00:01<00:00, 832.10it/s]\n",
      " 76%|████████████████████████████▎        | 1149/1504 [00:01<00:00, 836.74it/s]\n",
      " 84%|██████████████████████████████▉      | 1256/1504 [00:01<00:00, 766.38it/s]\n",
      " 90%|█████████████████████████████████▏   | 1351/1504 [00:01<00:00, 680.64it/s]\n",
      " 95%|███████████████████████████████████▎ | 1434/1504 [00:01<00:00, 713.90it/s]\n",
      "100%|█████████████████████████████████████| 1504/1504 [00:01<00:00, 874.37it/s]"
     ]
    },
    {
     "name": "stdout",
     "output_type": "stream",
     "text": [
      "[MoviePy] Done.\n",
      "MTMN-n8beKE\n",
      "422\n",
      "[MoviePy] Writing audio in C:/Users/Ankit/Documents/wpi/cs525/video_data/videos/ad_data\\MTMN-n8beKE\\Weekly Money Multiplier - Changed My Life.wav\n"
     ]
    },
    {
     "name": "stderr",
     "output_type": "stream",
     "text": [
      "\n",
      "  0%|                                                 | 0/1546 [00:00<?, ?it/s]\n",
      "  2%|▋                                      | 28/1546 [00:00<00:10, 138.61it/s]\n",
      " 11%|████                                  | 164/1546 [00:00<00:07, 189.72it/s]\n",
      " 16%|██████▏                               | 254/1546 [00:00<00:05, 235.87it/s]\n",
      " 26%|█████████▉                            | 402/1546 [00:00<00:03, 315.41it/s]\n",
      " 36%|█████████████▌                        | 551/1546 [00:00<00:02, 413.11it/s]\n",
      " 43%|████████████████▎                     | 662/1546 [00:00<00:01, 508.97it/s]\n",
      " 53%|████████████████████▎                 | 825/1546 [00:00<00:01, 641.27it/s]\n",
      " 63%|███████████████████████▊              | 968/1546 [00:00<00:00, 752.64it/s]\n",
      " 74%|███████████████████████████▎         | 1141/1546 [00:01<00:00, 906.23it/s]\n",
      " 83%|██████████████████████████████▌      | 1279/1546 [00:01<00:00, 897.86it/s]\n",
      " 91%|█████████████████████████████████▌   | 1402/1546 [00:01<00:00, 924.14it/s]\n",
      " 99%|████████████████████████████████████▌| 1529/1546 [00:01<00:00, 996.87it/s]\n",
      "100%|████████████████████████████████████| 1546/1546 [00:01<00:00, 1046.66it/s]"
     ]
    },
    {
     "name": "stdout",
     "output_type": "stream",
     "text": [
      "[MoviePy] Done.\n",
      "muixg3ZXKO4\n",
      "423\n",
      "[MoviePy] Writing audio in C:/Users/Ankit/Documents/wpi/cs525/video_data/videos/ad_data\\muixg3ZXKO4\\sundaycandy_privateside_15_tmobile_wm.wav\n"
     ]
    },
    {
     "name": "stderr",
     "output_type": "stream",
     "text": [
      "\n",
      "  0%|                                                  | 0/332 [00:00<?, ?it/s]\n",
      "  8%|███▍                                     | 28/332 [00:00<00:04, 62.08it/s]\n",
      " 47%|██████████████████▋                     | 155/332 [00:00<00:02, 86.87it/s]\n",
      "100%|███████████████████████████████████████| 332/332 [00:00<00:00, 517.10it/s]"
     ]
    },
    {
     "name": "stdout",
     "output_type": "stream",
     "text": [
      "[MoviePy] Done.\n",
      "mwhIKjcYn3M\n",
      "424\n",
      "[MoviePy] Writing audio in C:/Users/Ankit/Documents/wpi/cs525/video_data/videos/ad_data\\mwhIKjcYn3M\\MCWA757519TH_EvenMoreGCM_15_Unslated_Innovid.wav\n"
     ]
    },
    {
     "name": "stderr",
     "output_type": "stream",
     "text": [
      "\n",
      "  0%|                                                  | 0/333 [00:00<?, ?it/s]\n",
      "  8%|███▍                                     | 28/333 [00:01<00:14, 21.29it/s]\n",
      " 30%|████████████▏                           | 101/333 [00:01<00:07, 29.87it/s]\n",
      " 66%|██████████████████████████▍             | 220/333 [00:01<00:02, 42.21it/s]\n",
      "100%|███████████████████████████████████████| 333/333 [00:01<00:00, 204.53it/s]"
     ]
    },
    {
     "name": "stdout",
     "output_type": "stream",
     "text": [
      "[MoviePy] Done.\n",
      "mWOdSkYOptc\n",
      "425\n",
      "[MoviePy] Writing audio in C:/Users/Ankit/Documents/wpi/cs525/video_data/videos/ad_data\\mWOdSkYOptc\\MCVC021519TH_Our Egg DesignRev115Innovid.wav\n"
     ]
    },
    {
     "name": "stderr",
     "output_type": "stream",
     "text": [
      "\n",
      "  0%|                                                  | 0/332 [00:00<?, ?it/s]\n",
      "  8%|███▍                                     | 28/332 [00:03<00:40,  7.47it/s]\n",
      " 30%|████████████▏                           | 101/332 [00:03<00:21, 10.60it/s]\n",
      " 61%|████████████████████████▍               | 203/332 [00:04<00:08, 15.03it/s]\n",
      " 78%|███████████████████████████████         | 258/332 [00:04<00:03, 21.22it/s]\n",
      "100%|████████████████████████████████████████| 332/332 [00:04<00:00, 78.82it/s]"
     ]
    },
    {
     "name": "stdout",
     "output_type": "stream",
     "text": [
      "[MoviePy] Done.\n",
      "MwPPAwxTWkI\n",
      "426\n",
      "[MoviePy] Writing audio in C:/Users/Ankit/Documents/wpi/cs525/video_data/videos/ad_data\\MwPPAwxTWkI\\MCWA758519TH_FreshonFreshonFreshGCM_15_Unslated_Innovid..wav\n"
     ]
    },
    {
     "name": "stderr",
     "output_type": "stream",
     "text": [
      "\n",
      "  0%|                                                  | 0/332 [00:00<?, ?it/s]\n",
      " 16%|██████▎                                 | 52/332 [00:00<00:00, 519.97it/s]\n",
      " 30%|███████████▊                           | 101/332 [00:00<00:00, 474.96it/s]\n",
      " 55%|█████████████████████▎                 | 181/332 [00:00<00:00, 540.88it/s]\n",
      " 92%|███████████████████████████████████▊   | 305/332 [00:00<00:00, 642.88it/s]\n",
      "100%|███████████████████████████████████████| 332/332 [00:00<00:00, 746.02it/s]"
     ]
    },
    {
     "name": "stdout",
     "output_type": "stream",
     "text": [
      "[MoviePy] Done.\n",
      "mwXIr3Wa_B0\n",
      "427\n",
      "[MoviePy] Writing audio in C:/Users/Ankit/Documents/wpi/cs525/video_data/videos/ad_data\\mwXIr3Wa_B0\\_SPNT_YEFS1100000H_sam_unl_gs10e_vi_mp4_16x9_15_naga_bobundle.wav\n"
     ]
    },
    {
     "name": "stderr",
     "output_type": "stream",
     "text": [
      "\n",
      "  0%|                                                  | 0/332 [00:00<?, ?it/s]\n",
      "  8%|███▍                                     | 28/332 [00:02<00:22, 13.43it/s]\n",
      " 30%|████████████▏                           | 101/332 [00:03<00:13, 17.43it/s]\n",
      " 46%|██████████████████▎                     | 152/332 [00:04<00:08, 21.34it/s]\n",
      " 61%|████████████████████████▍               | 203/332 [00:05<00:04, 27.23it/s]\n",
      " 77%|██████████████████████████████▌         | 254/332 [00:05<00:02, 37.35it/s]\n",
      " 92%|████████████████████████████████████▋   | 305/332 [00:05<00:00, 50.63it/s]\n",
      "100%|████████████████████████████████████████| 332/332 [00:05<00:00, 59.79it/s]"
     ]
    },
    {
     "name": "stdout",
     "output_type": "stream",
     "text": [
      "[MoviePy] Done.\n",
      "MYNfRFJLP2w\n",
      "428\n",
      "[MoviePy] Writing audio in C:/Users/Ankit/Documents/wpi/cs525/video_data/videos/ad_data\\MYNfRFJLP2w\\23377_CafeBustelo_ArtCollabsHD_15_INNOVID..wav\n"
     ]
    },
    {
     "name": "stderr",
     "output_type": "stream",
     "text": [
      "\n",
      "  0%|                                                  | 0/334 [00:00<?, ?it/s]\n",
      "  8%|███▎                                    | 28/334 [00:00<00:02, 131.45it/s]\n",
      " 30%|███████████▊                           | 101/334 [00:00<00:01, 163.33it/s]\n",
      " 46%|█████████████████▋                     | 152/334 [00:00<00:01, 156.31it/s]\n",
      " 61%|███████████████████████▋               | 203/334 [00:00<00:00, 181.95it/s]\n",
      " 76%|█████████████████████████████▋         | 254/334 [00:01<00:00, 170.33it/s]\n",
      " 91%|███████████████████████████████████▌   | 305/334 [00:01<00:00, 199.38it/s]\n",
      "100%|███████████████████████████████████████| 334/334 [00:01<00:00, 227.04it/s]"
     ]
    },
    {
     "name": "stdout",
     "output_type": "stream",
     "text": [
      "[MoviePy] Done.\n",
      "mYocfuqu2A8\n",
      "429\n",
      "[MoviePy] Writing audio in C:/Users/Ankit/Documents/wpi/cs525/video_data/videos/ad_data\\mYocfuqu2A8\\The Secret Life Of Pets 2 - Official Trailer [HD].wav\n"
     ]
    },
    {
     "name": "stderr",
     "output_type": "stream",
     "text": [
      "\n",
      "  0%|                                                 | 0/3688 [00:00<?, ?it/s]\n",
      "  1%|▎                                      | 28/3688 [00:00<00:34, 105.65it/s]\n",
      "  3%|█                                     | 101/3688 [00:00<00:27, 131.80it/s]\n",
      "  5%|█▉                                    | 193/3688 [00:00<00:19, 177.40it/s]\n",
      "  6%|██▎                                   | 229/3688 [00:00<00:17, 201.17it/s]\n",
      "  8%|███▏                                  | 305/3688 [00:00<00:13, 247.51it/s]\n",
      " 10%|███▋                                  | 356/3688 [00:00<00:11, 281.55it/s]\n",
      " 12%|████▋                                 | 458/3688 [00:01<00:09, 357.02it/s]\n",
      " 17%|██████▎                               | 611/3688 [00:01<00:06, 452.55it/s]\n",
      " 22%|████████▎                             | 803/3688 [00:01<00:04, 587.18it/s]\n",
      " 26%|█████████▉                            | 968/3688 [00:01<00:03, 725.90it/s]\n",
      " 30%|███████████▏                         | 1121/3688 [00:01<00:02, 860.31it/s]\n",
      " 35%|████████████▊                        | 1274/3688 [00:01<00:02, 929.01it/s]\n",
      " 40%|██████████████▎                     | 1466/3688 [00:01<00:02, 1099.20it/s]\n",
      " 44%|███████████████▉                    | 1631/3688 [00:01<00:01, 1182.13it/s]\n",
      " 48%|█████████████████▊                   | 1777/3688 [00:02<00:02, 775.94it/s]\n",
      " 51%|██████████████████▉                  | 1893/3688 [00:03<00:09, 190.86it/s]\n",
      " 55%|████████████████████▍                | 2039/3688 [00:03<00:06, 257.37it/s]\n",
      " 61%|██████████████████████▍              | 2232/3688 [00:04<00:04, 347.80it/s]\n",
      " 64%|███████████████████████▋             | 2360/3688 [00:04<00:03, 439.52it/s]\n",
      " 67%|████████████████████████▉            | 2484/3688 [00:04<00:02, 451.58it/s]\n",
      " 70%|█████████████████████████▉           | 2585/3688 [00:05<00:04, 225.36it/s]\n",
      " 72%|██████████████████████████▋          | 2659/3688 [00:05<00:05, 194.81it/s]\n",
      " 74%|███████████████████████████▏         | 2716/3688 [00:06<00:04, 206.35it/s]\n",
      " 75%|███████████████████████████▋         | 2763/3688 [00:06<00:04, 213.31it/s]\n",
      " 76%|████████████████████████████▏        | 2804/3688 [00:06<00:04, 215.73it/s]\n",
      " 77%|████████████████████████████▋        | 2855/3688 [00:06<00:03, 209.97it/s]\n",
      " 79%|█████████████████████████████▏       | 2906/3688 [00:07<00:03, 223.76it/s]\n",
      " 80%|█████████████████████████████▋       | 2957/3688 [00:07<00:02, 258.82it/s]\n",
      " 82%|██████████████████████████████▏      | 3008/3688 [00:07<00:03, 180.50it/s]\n",
      " 83%|██████████████████████████████▋      | 3059/3688 [00:08<00:04, 136.62it/s]\n",
      " 84%|███████████████████████████████▏     | 3110/3688 [00:08<00:03, 163.30it/s]\n",
      " 86%|███████████████████████████████▋     | 3161/3688 [00:09<00:04, 110.62it/s]\n",
      " 87%|████████████████████████████████▏    | 3212/3688 [00:09<00:04, 113.35it/s]\n",
      " 88%|████████████████████████████████▋    | 3263/3688 [00:10<00:03, 107.40it/s]\n",
      " 90%|█████████████████████████████████▏   | 3314/3688 [00:10<00:02, 137.65it/s]\n",
      " 91%|█████████████████████████████████▊   | 3365/3688 [00:10<00:02, 136.93it/s]\n",
      " 93%|██████████████████████████████████▎  | 3416/3688 [00:10<00:01, 149.11it/s]\n",
      " 94%|██████████████████████████████████▊  | 3467/3688 [00:11<00:01, 137.53it/s]\n",
      " 95%|███████████████████████████████████▎ | 3518/3688 [00:11<00:01, 167.61it/s]\n",
      " 97%|███████████████████████████████████▊ | 3569/3688 [00:11<00:00, 168.65it/s]\n",
      " 99%|████████████████████████████████████▊| 3667/3688 [00:11<00:00, 224.38it/s]\n",
      "100%|█████████████████████████████████████| 3688/3688 [00:11<00:00, 309.43it/s]"
     ]
    },
    {
     "name": "stdout",
     "output_type": "stream",
     "text": [
      "[MoviePy] Done.\n",
      "MZeuw0iIGrU\n",
      "430\n",
      "[MoviePy] Writing audio in C:/Users/Ankit/Documents/wpi/cs525/video_data/videos/ad_data\\MZeuw0iIGrU\\Nintendo Switch My Way - Overcooked 2 & Mario Kart 8 Deluxe.wav\n"
     ]
    },
    {
     "name": "stderr",
     "output_type": "stream",
     "text": [
      "\n",
      "  0%|                                                  | 0/663 [00:00<?, ?it/s]\n",
      "  4%|█▋                                       | 28/663 [00:00<00:12, 52.43it/s]\n",
      " 15%|██████                                  | 101/663 [00:00<00:07, 71.93it/s]\n",
      " 36%|██████████████                         | 238/663 [00:00<00:04, 100.50it/s]\n",
      " 54%|████████████████████▉                  | 356/663 [00:00<00:02, 137.17it/s]\n",
      " 63%|████████████████████████▊              | 421/663 [00:01<00:01, 163.31it/s]\n",
      " 72%|████████████████████████████           | 476/663 [00:01<00:00, 205.34it/s]\n",
      " 84%|████████████████████████████████▉      | 560/663 [00:01<00:00, 262.78it/s]\n",
      "100%|███████████████████████████████████████| 663/663 [00:01<00:00, 475.24it/s]"
     ]
    },
    {
     "name": "stdout",
     "output_type": "stream",
     "text": [
      "[MoviePy] Done.\n",
      "n-_JseoqnTM\n",
      "431\n",
      "[MoviePy] Writing audio in C:/Users/Ankit/Documents/wpi/cs525/video_data/videos/ad_data\\n-_JseoqnTM\\In-Stream Video.wav\n"
     ]
    },
    {
     "name": "stderr",
     "output_type": "stream",
     "text": [
      "\n",
      "  0%|                                                  | 0/332 [00:00<?, ?it/s]\n",
      "  8%|███▍                                     | 28/332 [00:00<00:07, 41.42it/s]\n",
      " 30%|████████████▏                           | 101/332 [00:01<00:04, 54.45it/s]\n",
      " 46%|██████████████████▎                     | 152/332 [00:01<00:02, 67.91it/s]\n",
      " 61%|████████████████████████▍               | 203/332 [00:01<00:01, 77.47it/s]\n",
      " 77%|██████████████████████████████▌         | 254/332 [00:02<00:00, 92.09it/s]\n",
      "100%|███████████████████████████████████████| 332/332 [00:02<00:00, 154.41it/s]"
     ]
    },
    {
     "name": "stdout",
     "output_type": "stream",
     "text": [
      "[MoviePy] Done.\n",
      "N12nZ_wxKYQ\n",
      "432\n",
      "[MoviePy] Writing audio in C:/Users/Ankit/Documents/wpi/cs525/video_data/videos/ad_data\\N12nZ_wxKYQ\\Uber Driver Vehicle Partner Option  Uber.wav\n"
     ]
    },
    {
     "name": "stderr",
     "output_type": "stream",
     "text": [
      "\n",
      "  0%|                                                  | 0/777 [00:00<?, ?it/s]\n",
      "  4%|█▍                                       | 28/777 [00:00<00:07, 94.91it/s]\n",
      " 13%|█████                                  | 101/777 [00:00<00:05, 116.78it/s]\n",
      " 26%|██████████▏                            | 203/777 [00:00<00:03, 153.91it/s]\n",
      " 33%|████████████▋                          | 254/777 [00:01<00:03, 148.71it/s]\n",
      " 39%|███████████████▎                       | 305/777 [00:01<00:02, 178.71it/s]\n",
      " 48%|██████████████████▊                    | 375/777 [00:01<00:01, 230.13it/s]\n",
      " 70%|███████████████████████████▎           | 545/777 [00:01<00:00, 310.72it/s]\n",
      " 94%|████████████████████████████████████▌  | 729/777 [00:01<00:00, 413.93it/s]\n",
      "100%|███████████████████████████████████████| 777/777 [00:01<00:00, 484.69it/s]"
     ]
    },
    {
     "name": "stdout",
     "output_type": "stream",
     "text": [
      "[MoviePy] Done.\n",
      "n1lT9f4w7eA\n",
      "433\n",
      "[MoviePy] Writing audio in C:/Users/Ankit/Documents/wpi/cs525/video_data/videos/ad_data\\n1lT9f4w7eA\\Awkwafina’s Tale  Oculus Go.wav\n"
     ]
    },
    {
     "name": "stderr",
     "output_type": "stream",
     "text": [
      "\n",
      "  0%|                                                  | 0/332 [00:00<?, ?it/s]\n",
      " 30%|███████████▊                           | 101/332 [00:00<00:00, 827.82it/s]\n",
      " 85%|█████████████████████████████████▏     | 283/332 [00:00<00:00, 989.67it/s]\n",
      "100%|██████████████████████████████████████| 332/332 [00:00<00:00, 1327.93it/s]"
     ]
    },
    {
     "name": "stdout",
     "output_type": "stream",
     "text": [
      "[MoviePy] Done.\n",
      "n58pmXdonfE\n",
      "434\n",
      "[MoviePy] Writing audio in C:/Users/Ankit/Documents/wpi/cs525/video_data/videos/ad_data\\n58pmXdonfE\\MLB The Show 19 - Features Made for TV Available Now 15  PS4.wav\n"
     ]
    },
    {
     "name": "stderr",
     "output_type": "stream",
     "text": [
      "\n",
      "  0%|                                                  | 0/332 [00:00<?, ?it/s]\n",
      " 30%|███████████▊                            | 98/332 [00:00<00:00, 979.94it/s]\n",
      " 39%|███████████████                        | 128/332 [00:00<00:00, 324.21it/s]\n",
      " 46%|█████████████████▉                     | 153/332 [00:00<00:00, 255.67it/s]\n",
      " 61%|███████████████████████▊               | 203/332 [00:00<00:00, 285.23it/s]\n",
      "100%|███████████████████████████████████████| 332/332 [00:00<00:00, 476.98it/s]"
     ]
    },
    {
     "name": "stdout",
     "output_type": "stream",
     "text": [
      "[MoviePy] Done.\n",
      "NDjsKPjF8nQ\n",
      "435\n",
      "[MoviePy] Writing audio in C:/Users/Ankit/Documents/wpi/cs525/video_data/videos/ad_data\\NDjsKPjF8nQ\\Lightroom Selective Edit Tool  Adobe Creative Cloud.wav\n"
     ]
    },
    {
     "name": "stderr",
     "output_type": "stream",
     "text": [
      "\n",
      "  0%|                                                  | 0/333 [00:00<?, ?it/s]\n",
      "  8%|███▍                                     | 28/333 [00:02<00:29, 10.41it/s]\n",
      " 30%|████████████▏                           | 101/333 [00:04<00:17, 13.33it/s]\n",
      " 46%|██████████████████▎                     | 152/333 [00:05<00:10, 17.03it/s]\n",
      " 61%|████████████████████████▍               | 203/333 [00:05<00:05, 23.63it/s]\n",
      " 76%|██████████████████████████████▌         | 254/333 [00:06<00:02, 29.54it/s]\n",
      "100%|████████████████████████████████████████| 333/333 [00:06<00:00, 50.39it/s]"
     ]
    },
    {
     "name": "stdout",
     "output_type": "stream",
     "text": [
      "[MoviePy] Done.\n",
      "neltiyW9QPE\n",
      "436\n",
      "[MoviePy] Writing audio in C:/Users/Ankit/Documents/wpi/cs525/video_data/videos/ad_data\\neltiyW9QPE\\Sophia Roe Popcorn Discover.wav\n"
     ]
    },
    {
     "name": "stderr",
     "output_type": "stream",
     "text": [
      "\n",
      "  0%|                                                  | 0/492 [00:00<?, ?it/s]\n",
      "  6%|██▎                                      | 28/492 [00:02<00:34, 13.57it/s]\n",
      " 21%|████████▏                               | 101/492 [00:02<00:20, 19.19it/s]\n",
      " 31%|████████████▎                           | 152/492 [00:02<00:12, 26.74it/s]\n",
      " 41%|████████████████▌                       | 203/492 [00:02<00:08, 36.09it/s]\n",
      " 58%|███████████████████████                 | 284/492 [00:02<00:04, 50.60it/s]\n",
      " 66%|██████████████████████████▎             | 324/492 [00:02<00:02, 64.67it/s]\n",
      " 74%|█████████████████████████████▊          | 366/492 [00:03<00:01, 86.67it/s]\n",
      " 93%|████████████████████████████████████▎  | 458/492 [00:03<00:00, 116.83it/s]\n",
      "100%|███████████████████████████████████████| 492/492 [00:03<00:00, 154.27it/s]"
     ]
    },
    {
     "name": "stdout",
     "output_type": "stream",
     "text": [
      "[MoviePy] Done.\n",
      "NfneiaYfoLk\n",
      "437\n",
      "ng5upEVsOEw\n",
      "437\n",
      "[MoviePy] Writing audio in C:/Users/Ankit/Documents/wpi/cs525/video_data/videos/ad_data\\ng5upEVsOEw\\18_Q4_Niss_NNA_Rogue_Manifesto_OLV_15_NORO2529H_CondeNast..wav\n"
     ]
    },
    {
     "name": "stderr",
     "output_type": "stream",
     "text": [
      "\n",
      "  0%|                                                  | 0/334 [00:00<?, ?it/s]\n",
      "  8%|███▎                                    | 28/334 [00:00<00:02, 103.32it/s]\n",
      " 39%|███████████████▎                       | 131/334 [00:00<00:01, 141.51it/s]\n",
      " 61%|███████████████████████▋               | 203/334 [00:00<00:00, 164.58it/s]\n",
      " 76%|█████████████████████████████▋         | 254/334 [00:00<00:00, 182.20it/s]\n",
      "100%|███████████████████████████████████████| 334/334 [00:00<00:00, 369.04it/s]"
     ]
    },
    {
     "name": "stdout",
     "output_type": "stream",
     "text": [
      "[MoviePy] Done.\n",
      "ngTZzMkPkKo\n",
      "438\n",
      "[MoviePy] Writing audio in C:/Users/Ankit/Documents/wpi/cs525/video_data/videos/ad_data\\ngTZzMkPkKo\\Optimum Nutrition  PROVEN.wav\n"
     ]
    },
    {
     "name": "stderr",
     "output_type": "stream",
     "text": [
      "\n",
      "  0%|                                                  | 0/332 [00:00<?, ?it/s]\n",
      "  8%|███▍                                     | 28/332 [00:00<00:04, 61.40it/s]\n",
      " 30%|████████████▏                           | 101/332 [00:00<00:02, 84.25it/s]\n",
      " 61%|███████████████████████▊               | 203/332 [00:00<00:01, 114.68it/s]\n",
      "100%|███████████████████████████████████████| 332/332 [00:00<00:00, 416.54it/s]"
     ]
    },
    {
     "name": "stdout",
     "output_type": "stream",
     "text": [
      "[MoviePy] Done.\n",
      "NhGS4_TGX9o\n",
      "439\n",
      "[MoviePy] Writing audio in C:/Users/Ankit/Documents/wpi/cs525/video_data/videos/ad_data\\NhGS4_TGX9o\\Con Edison Battery Storage and Solar Massachusetts.wav\n"
     ]
    },
    {
     "name": "stderr",
     "output_type": "stream",
     "text": [
      "\n",
      "  0%|                                                 | 0/2622 [00:00<?, ?it/s]\n",
      "  1%|▍                                       | 28/2622 [00:00<00:48, 53.03it/s]\n",
      "  4%|█▌                                     | 101/2622 [00:00<00:34, 72.37it/s]\n",
      "  8%|███                                    | 203/2622 [00:00<00:25, 96.58it/s]\n",
      " 13%|█████                                 | 348/2622 [00:01<00:16, 134.14it/s]\n",
      " 16%|█████▉                                | 409/2622 [00:01<00:14, 148.41it/s]\n",
      " 17%|██████▋                               | 458/2622 [00:01<00:11, 187.65it/s]\n",
      " 19%|███████▍                              | 509/2622 [00:01<00:09, 220.73it/s]\n",
      " 21%|████████                              | 560/2622 [00:01<00:08, 256.36it/s]\n",
      " 24%|████████▉                             | 617/2622 [00:01<00:06, 307.04it/s]\n",
      " 25%|█████████▋                            | 665/2622 [00:03<00:19, 100.51it/s]\n",
      " 31%|███████████▊                          | 815/2622 [00:03<00:13, 137.89it/s]\n",
      " 33%|████████████▌                         | 871/2622 [00:03<00:09, 176.83it/s]\n",
      " 35%|█████████████▍                        | 926/2622 [00:03<00:08, 206.51it/s]\n",
      " 37%|██████████████▏                       | 975/2622 [00:03<00:06, 238.22it/s]\n",
      " 41%|███████████████▎                     | 1086/2622 [00:03<00:04, 311.64it/s]\n",
      " 49%|█████████████████▉                   | 1274/2622 [00:03<00:03, 414.85it/s]\n",
      " 54%|████████████████████▏                | 1427/2622 [00:03<00:02, 503.18it/s]\n",
      " 58%|█████████████████████▌               | 1529/2622 [00:04<00:01, 574.32it/s]\n",
      " 65%|████████████████████████             | 1705/2622 [00:04<00:01, 719.79it/s]\n",
      " 70%|█████████████████████████▊           | 1825/2622 [00:04<00:01, 526.99it/s]\n",
      " 73%|███████████████████████████          | 1919/2622 [00:04<00:01, 448.12it/s]\n",
      " 79%|█████████████████████████████▏       | 2066/2622 [00:04<00:00, 566.20it/s]\n",
      " 86%|███████████████████████████████▋     | 2243/2622 [00:05<00:00, 670.88it/s]\n",
      " 90%|█████████████████████████████████▎   | 2364/2622 [00:05<00:00, 774.39it/s]\n",
      " 95%|███████████████████████████████████▎ | 2498/2622 [00:05<00:00, 874.50it/s]\n",
      "100%|█████████████████████████████████████| 2622/2622 [00:05<00:00, 494.32it/s]"
     ]
    },
    {
     "name": "stdout",
     "output_type": "stream",
     "text": [
      "[MoviePy] Done.\n",
      "nJZGvxpupIE\n",
      "440\n",
      "[MoviePy] Writing audio in C:/Users/Ankit/Documents/wpi/cs525/video_data/videos/ad_data\\nJZGvxpupIE\\In-Stream Video.wav\n"
     ]
    },
    {
     "name": "stderr",
     "output_type": "stream",
     "text": [
      "\n",
      "  0%|                                                  | 0/332 [00:00<?, ?it/s]\n",
      "  8%|███▍                                     | 28/332 [00:00<00:04, 74.07it/s]\n",
      " 42%|████████████████▏                      | 138/332 [00:00<00:01, 102.85it/s]\n",
      " 77%|█████████████████████████████▊         | 254/332 [00:00<00:00, 141.13it/s]\n",
      "100%|███████████████████████████████████████| 332/332 [00:00<00:00, 514.70it/s]"
     ]
    },
    {
     "name": "stdout",
     "output_type": "stream",
     "text": [
      "[MoviePy] Done.\n",
      "nk1-tr8vX6A\n",
      "441\n",
      "[MoviePy] Writing audio in C:/Users/Ankit/Documents/wpi/cs525/video_data/videos/ad_data\\nk1-tr8vX6A\\Andersen Windows Tool 15.wav\n"
     ]
    },
    {
     "name": "stderr",
     "output_type": "stream",
     "text": [
      "\n",
      "  0%|                                                  | 0/332 [00:00<?, ?it/s]\n",
      "  8%|███▎                                    | 28/332 [00:00<00:02, 126.69it/s]\n",
      " 30%|███████████▊                           | 101/332 [00:00<00:01, 152.51it/s]\n",
      " 46%|██████████████████                     | 154/332 [00:00<00:00, 193.95it/s]\n",
      " 92%|███████████████████████████████████▊   | 305/332 [00:00<00:00, 258.44it/s]\n",
      "100%|███████████████████████████████████████| 332/332 [00:00<00:00, 463.01it/s]"
     ]
    },
    {
     "name": "stdout",
     "output_type": "stream",
     "text": [
      "[MoviePy] Done.\n",
      "NKVJMwAVfIw\n",
      "442\n",
      "[MoviePy] Writing audio in C:/Users/Ankit/Documents/wpi/cs525/video_data/videos/ad_data\\NKVJMwAVfIw\\sundaycandy_locker_06_att_wm.wav\n"
     ]
    },
    {
     "name": "stderr",
     "output_type": "stream",
     "text": [
      "\n",
      "  0%|                                                  | 0/133 [00:00<?, ?it/s]\n",
      " 88%|█████████████████████████████████▍    | 117/133 [00:00<00:00, 1169.93it/s]\n",
      "100%|██████████████████████████████████████| 133/133 [00:00<00:00, 1220.11it/s]"
     ]
    },
    {
     "name": "stdout",
     "output_type": "stream",
     "text": [
      "[MoviePy] Done.\n",
      "NoczmQzi_-s\n",
      "443\n",
      "[MoviePy] Writing audio in C:/Users/Ankit/Documents/wpi/cs525/video_data/videos/ad_data\\NoczmQzi_-s\\Pulled Pork Basics.wav\n"
     ]
    },
    {
     "name": "stderr",
     "output_type": "stream",
     "text": [
      "\n",
      "  0%|                                                  | 0/960 [00:00<?, ?it/s]\n",
      "  3%|█▏                                       | 28/960 [00:00<00:22, 41.98it/s]\n",
      " 11%|████▏                                   | 101/960 [00:00<00:14, 58.40it/s]\n",
      " 27%|██████████▋                             | 255/960 [00:00<00:08, 82.09it/s]\n",
      " 35%|█████████████▌                         | 333/960 [00:00<00:05, 112.21it/s]\n",
      " 42%|████████████████▎                      | 400/960 [00:01<00:03, 149.37it/s]\n",
      " 53%|████████████████████▋                  | 509/960 [00:01<00:02, 200.43it/s]\n",
      " 73%|████████████████████████████▋          | 705/960 [00:01<00:00, 274.31it/s]\n",
      " 85%|█████████████████████████████████▏     | 817/960 [00:01<00:00, 342.91it/s]\n",
      "100%|███████████████████████████████████████| 960/960 [00:01<00:00, 636.57it/s]"
     ]
    },
    {
     "name": "stdout",
     "output_type": "stream",
     "text": [
      "[MoviePy] Done.\n",
      "NrWyLIlNrGE\n",
      "444\n",
      "[MoviePy] Writing audio in C:/Users/Ankit/Documents/wpi/cs525/video_data/videos/ad_data\\NrWyLIlNrGE\\Dream Bigger  2019 Mazda3 Hatchback  Mazda USA.wav\n"
     ]
    },
    {
     "name": "stderr",
     "output_type": "stream",
     "text": [
      "\n",
      "  0%|                                                 | 0/1436 [00:00<?, ?it/s]\n",
      "  2%|▊                                      | 28/1436 [00:00<00:05, 249.99it/s]\n",
      " 14%|█████▏                                | 196/1436 [00:00<00:03, 335.71it/s]\n",
      " 21%|████████                              | 305/1436 [00:00<00:02, 423.66it/s]\n",
      " 28%|██████████▊                           | 407/1436 [00:00<00:02, 512.22it/s]\n",
      " 39%|██████████████▊                       | 560/1436 [00:00<00:01, 630.43it/s]\n",
      " 53%|████████████████████▏                 | 761/1436 [00:00<00:00, 793.90it/s]\n",
      " 62%|███████████████████████▌              | 890/1436 [00:00<00:00, 895.56it/s]\n",
      " 71%|██████████████████████████▎          | 1019/1436 [00:00<00:00, 906.96it/s]\n",
      " 85%|██████████████████████████████▍     | 1215/1436 [00:00<00:00, 1081.22it/s]\n",
      " 97%|██████████████████████████████████▊ | 1390/1436 [00:01<00:00, 1221.22it/s]\n",
      "100%|████████████████████████████████████| 1436/1436 [00:01<00:00, 1316.15it/s]"
     ]
    },
    {
     "name": "stdout",
     "output_type": "stream",
     "text": [
      "[MoviePy] Done.\n",
      "nsb0AE3EvSU\n",
      "445\n",
      "[MoviePy] Writing audio in C:/Users/Ankit/Documents/wpi/cs525/video_data/videos/ad_data\\nsb0AE3EvSU\\sundaycandy_privateside_15_verizon_wm.wav\n"
     ]
    },
    {
     "name": "stderr",
     "output_type": "stream",
     "text": [
      "\n",
      "  0%|                                                  | 0/332 [00:00<?, ?it/s]\n",
      " 34%|████████████▊                         | 112/332 [00:00<00:00, 1119.93it/s]\n",
      " 77%|█████████████████████████████         | 254/332 [00:00<00:00, 1189.71it/s]\n",
      "100%|██████████████████████████████████████| 332/332 [00:00<00:00, 1377.51it/s]"
     ]
    },
    {
     "name": "stdout",
     "output_type": "stream",
     "text": [
      "[MoviePy] Done.\n",
      "NukElwuXf6E\n",
      "446\n",
      "[MoviePy] Writing audio in C:/Users/Ankit/Documents/wpi/cs525/video_data/videos/ad_data\\NukElwuXf6E\\Dickinsons Enhanced Deep Cleansing Astringent.wav\n"
     ]
    },
    {
     "name": "stderr",
     "output_type": "stream",
     "text": [
      "\n",
      "  0%|                                                  | 0/332 [00:00<?, ?it/s]\n",
      " 10%|███▉                                    | 33/332 [00:00<00:00, 329.98it/s]\n",
      " 59%|██████████████████████▉                | 195/332 [00:00<00:00, 433.55it/s]\n",
      " 95%|████████████████████████████████████▉  | 314/332 [00:00<00:00, 535.71it/s]\n",
      "100%|██████████████████████████████████████| 332/332 [00:00<00:00, 1070.91it/s]"
     ]
    },
    {
     "name": "stdout",
     "output_type": "stream",
     "text": [
      "[MoviePy] Done.\n",
      "NvyXsBIlYHw\n",
      "447\n",
      "[MoviePy] Writing audio in C:/Users/Ankit/Documents/wpi/cs525/video_data/videos/ad_data\\NvyXsBIlYHw\\How Compelling Is Your Writing.wav\n"
     ]
    },
    {
     "name": "stderr",
     "output_type": "stream",
     "text": [
      "\n",
      "  0%|                                                  | 0/663 [00:00<?, ?it/s]\n",
      "  4%|█▋                                       | 28/663 [00:01<00:41, 15.33it/s]\n",
      " 20%|███████▉                                | 131/663 [00:01<00:24, 21.77it/s]\n",
      " 31%|████████████▏                           | 203/663 [00:02<00:15, 30.64it/s]\n",
      " 51%|████████████████████▍                   | 338/663 [00:02<00:07, 43.35it/s]\n",
      " 69%|███████████████████████████▋            | 458/663 [00:02<00:03, 60.83it/s]\n",
      " 88%|███████████████████████████████████▏    | 583/663 [00:02<00:00, 85.13it/s]\n",
      "100%|███████████████████████████████████████| 663/663 [00:02<00:00, 276.00it/s]"
     ]
    },
    {
     "name": "stdout",
     "output_type": "stream",
     "text": [
      "[MoviePy] Done.\n",
      "NYqO-Hgl90o\n",
      "448\n",
      "[MoviePy] Writing audio in C:/Users/Ankit/Documents/wpi/cs525/video_data/videos/ad_data\\NYqO-Hgl90o\\Play League of Legends Season 2019 - Awaken.wav\n"
     ]
    },
    {
     "name": "stderr",
     "output_type": "stream",
     "text": [
      "\n",
      "  0%|                                                 | 0/1213 [00:00<?, ?it/s]\n",
      "  2%|▉                                       | 28/1213 [00:00<00:19, 61.00it/s]\n",
      " 13%|█████                                  | 158/1213 [00:00<00:12, 85.42it/s]\n",
      " 25%|█████████▌                            | 305/1213 [00:00<00:07, 118.72it/s]\n",
      " 34%|████████████▊                         | 407/1213 [00:00<00:05, 156.20it/s]\n",
      " 39%|██████████████▊                       | 473/1213 [00:01<00:04, 174.06it/s]\n",
      " 43%|████████████████▍                     | 526/1213 [00:01<00:03, 216.90it/s]\n",
      " 50%|███████████████████▏                  | 611/1213 [00:01<00:02, 273.39it/s]\n",
      " 55%|████████████████████▉                 | 669/1213 [00:01<00:01, 311.81it/s]\n",
      " 68%|█████████████████████████▊            | 823/1213 [00:01<00:00, 409.87it/s]\n",
      " 80%|██████████████████████████████▎       | 968/1213 [00:01<00:00, 520.01it/s]\n",
      " 96%|███████████████████████████████████▍ | 1160/1213 [00:01<00:00, 665.61it/s]\n",
      "100%|█████████████████████████████████████| 1213/1213 [00:01<00:00, 670.13it/s]"
     ]
    },
    {
     "name": "stdout",
     "output_type": "stream",
     "text": [
      "[MoviePy] Done.\n",
      "Nz3wyZkmMfU\n",
      "449\n",
      "[MoviePy] Writing audio in C:/Users/Ankit/Documents/wpi/cs525/video_data/videos/ad_data\\Nz3wyZkmMfU\\In-Stream Video.wav\n"
     ]
    },
    {
     "name": "stderr",
     "output_type": "stream",
     "text": [
      "\n",
      "  0%|                                                  | 0/332 [00:00<?, ?it/s]\n",
      "  1%|▎                                         | 2/332 [00:02<08:00,  1.46s/it]\n",
      "  8%|███▍                                     | 28/332 [00:05<05:17,  1.04s/it]\n",
      " 30%|████████████▏                           | 101/332 [00:05<02:49,  1.37it/s]\n",
      " 46%|██████████████████▎                     | 152/332 [00:06<01:33,  1.93it/s]\n",
      " 61%|████████████████████████▍               | 203/332 [00:08<00:48,  2.68it/s]\n",
      " 77%|██████████████████████████████▌         | 254/332 [00:08<00:20,  3.81it/s]\n",
      "100%|████████████████████████████████████████| 332/332 [00:08<00:00, 39.19it/s]"
     ]
    },
    {
     "name": "stdout",
     "output_type": "stream",
     "text": [
      "[MoviePy] Done.\n",
      "nzDBKhNy2E4\n",
      "450\n",
      "[MoviePy] Writing audio in C:/Users/Ankit/Documents/wpi/cs525/video_data/videos/ad_data\\nzDBKhNy2E4\\DDB_YRYS_D_OQAU1088000H_Kim_DSS_OLV_LM_15s_PR_Hulu-mp4.wav\n"
     ]
    },
    {
     "name": "stderr",
     "output_type": "stream",
     "text": [
      "\n",
      "  0%|                                                  | 0/332 [00:00<?, ?it/s]\n",
      "  8%|███▍                                     | 28/332 [00:00<00:06, 44.73it/s]\n",
      " 30%|████████████▏                           | 101/332 [00:01<00:04, 55.72it/s]\n",
      " 46%|██████████████████▎                     | 152/332 [00:01<00:02, 66.64it/s]\n",
      " 98%|███████████████████████████████████████▍| 327/332 [00:01<00:00, 93.68it/s]\n",
      "100%|███████████████████████████████████████| 332/332 [00:01<00:00, 194.60it/s]"
     ]
    },
    {
     "name": "stdout",
     "output_type": "stream",
     "text": [
      "[MoviePy] Done.\n",
      "O0udHCUrrUg\n",
      "451\n",
      "[MoviePy] Writing audio in C:/Users/Ankit/Documents/wpi/cs525/video_data/videos/ad_data\\O0udHCUrrUg\\How to Treat Sensitive Teeth Fast  Sensodyne® Rapid Relief.wav\n"
     ]
    },
    {
     "name": "stderr",
     "output_type": "stream",
     "text": [
      "\n",
      "  0%|                                                  | 0/332 [00:00<?, ?it/s]\n",
      "  8%|███▎                                    | 28/332 [00:00<00:02, 143.58it/s]\n",
      " 30%|███████████▊                           | 101/332 [00:00<00:01, 123.37it/s]\n",
      " 46%|█████████████████▊                     | 152/332 [00:01<00:01, 131.93it/s]\n",
      " 61%|███████████████████████▊               | 203/332 [00:01<00:01, 119.72it/s]\n",
      " 77%|█████████████████████████████▊         | 254/332 [00:02<00:00, 138.88it/s]\n",
      "100%|███████████████████████████████████████| 332/332 [00:02<00:00, 157.04it/s]"
     ]
    },
    {
     "name": "stdout",
     "output_type": "stream",
     "text": [
      "[MoviePy] Done.\n",
      "O31UnIYZYhg\n",
      "452\n",
      "[MoviePy] Writing audio in C:/Users/Ankit/Documents/wpi/cs525/video_data/videos/ad_data\\O31UnIYZYhg\\DSG3337NH Baseball Hitting 400 15 NoURL YOUTUBE 1.wav\n"
     ]
    },
    {
     "name": "stderr",
     "output_type": "stream",
     "text": [
      "\n",
      "  0%|                                                  | 0/332 [00:00<?, ?it/s]\n",
      "  8%|███▎                                    | 28/332 [00:00<00:01, 213.73it/s]\n",
      " 30%|███████████▊                           | 101/332 [00:00<00:01, 153.52it/s]\n",
      " 46%|█████████████████▊                     | 152/332 [00:01<00:01, 171.52it/s]\n",
      " 61%|███████████████████████▊               | 203/332 [00:01<00:00, 209.93it/s]\n",
      "100%|███████████████████████████████████████| 332/332 [00:01<00:00, 251.88it/s]"
     ]
    },
    {
     "name": "stdout",
     "output_type": "stream",
     "text": [
      "[MoviePy] Done.\n",
      "O3H9nttjN6M\n",
      "453\n",
      "[MoviePy] Writing audio in C:/Users/Ankit/Documents/wpi/cs525/video_data/videos/ad_data\\O3H9nttjN6M\\OFFICIAL TRUMP POLL..wav\n"
     ]
    },
    {
     "name": "stderr",
     "output_type": "stream",
     "text": [
      "\n",
      "  0%|                                                  | 0/331 [00:00<?, ?it/s]\n",
      " 34%|████████████▉                         | 113/331 [00:00<00:00, 1129.94it/s]\n",
      " 85%|████████████████████████████████▎     | 281/331 [00:00<00:00, 1253.00it/s]\n",
      "100%|██████████████████████████████████████| 331/331 [00:00<00:00, 1396.55it/s]"
     ]
    },
    {
     "name": "stdout",
     "output_type": "stream",
     "text": [
      "[MoviePy] Done.\n",
      "o8xCSed0f8E\n",
      "454\n",
      "[MoviePy] Writing audio in C:/Users/Ankit/Documents/wpi/cs525/video_data/videos/ad_data\\o8xCSed0f8E\\Tresiba RV HD 2019 61 01 07.wav\n"
     ]
    },
    {
     "name": "stderr",
     "output_type": "stream",
     "text": [
      "\n",
      "  0%|                                                 | 0/1357 [00:00<?, ?it/s]\n",
      "  2%|▊                                       | 28/1357 [00:00<00:15, 86.95it/s]\n",
      "  7%|██▉                                    | 101/1357 [00:00<00:12, 98.16it/s]\n",
      " 11%|████▎                                 | 152/1357 [00:01<00:10, 118.27it/s]\n",
      " 15%|█████▋                                | 203/1357 [00:01<00:09, 127.61it/s]\n",
      " 19%|███████▎                               | 254/1357 [00:02<00:11, 99.33it/s]\n",
      " 22%|████████▌                             | 305/1357 [00:02<00:08, 123.18it/s]\n",
      " 26%|█████████▉                            | 356/1357 [00:02<00:06, 152.18it/s]\n",
      " 30%|███████████▍                          | 407/1357 [00:02<00:04, 192.10it/s]\n",
      " 34%|████████████▊                         | 458/1357 [00:02<00:03, 227.74it/s]\n",
      " 38%|██████████████▎                       | 509/1357 [00:02<00:03, 255.43it/s]\n",
      " 41%|███████████████▋                      | 560/1357 [00:03<00:03, 250.41it/s]\n",
      " 45%|█████████████████                     | 611/1357 [00:03<00:02, 285.12it/s]\n",
      " 53%|███████████████████▉                  | 713/1357 [00:03<00:01, 340.09it/s]\n",
      " 60%|██████████████████████▊               | 815/1357 [00:04<00:02, 249.11it/s]\n",
      " 64%|████████████████████████▎             | 866/1357 [00:04<00:02, 186.05it/s]\n",
      " 75%|███████████████████████████▋         | 1017/1357 [00:04<00:01, 252.46it/s]\n",
      " 80%|█████████████████████████████▌       | 1082/1357 [00:04<00:01, 266.25it/s]\n",
      " 84%|███████████████████████████████      | 1137/1357 [00:04<00:00, 274.03it/s]\n",
      " 94%|██████████████████████████████████▋  | 1274/1357 [00:05<00:00, 298.17it/s]\n",
      "100%|█████████████████████████████████████| 1357/1357 [00:05<00:00, 250.68it/s]"
     ]
    },
    {
     "name": "stdout",
     "output_type": "stream",
     "text": [
      "[MoviePy] Done.\n",
      "OBAaAPZWCYo\n",
      "455\n",
      "[MoviePy] Writing audio in C:/Users/Ankit/Documents/wpi/cs525/video_data/videos/ad_data\\OBAaAPZWCYo\\BOBS for Dogs Commercial from Skechers.wav\n"
     ]
    },
    {
     "name": "stderr",
     "output_type": "stream",
     "text": [
      "\n",
      "  0%|                                                  | 0/332 [00:00<?, ?it/s]\n",
      " 30%|███████████▊                           | 101/332 [00:00<00:00, 347.06it/s]\n",
      " 46%|█████████████████▊                     | 152/332 [00:00<00:00, 311.42it/s]\n",
      " 82%|████████████████████████████████       | 273/332 [00:00<00:00, 400.68it/s]\n",
      " 96%|█████████████████████████████████████▌ | 320/332 [00:00<00:00, 413.69it/s]\n",
      "100%|███████████████████████████████████████| 332/332 [00:00<00:00, 466.27it/s]"
     ]
    },
    {
     "name": "stdout",
     "output_type": "stream",
     "text": [
      "[MoviePy] Done.\n",
      "Obd4Ke_IZUo\n",
      "456\n",
      "[MoviePy] Writing audio in C:/Users/Ankit/Documents/wpi/cs525/video_data/videos/ad_data\\Obd4Ke_IZUo\\EYLEA Cooking.wav\n"
     ]
    },
    {
     "name": "stderr",
     "output_type": "stream",
     "text": [
      "\n",
      "  0%|                                                  | 0/332 [00:00<?, ?it/s]\n",
      " 38%|██████████████▌                       | 127/332 [00:00<00:00, 1269.93it/s]\n",
      " 93%|███████████████████████████████████▍  | 310/332 [00:00<00:00, 1398.30it/s]\n",
      "100%|██████████████████████████████████████| 332/332 [00:00<00:00, 1551.31it/s]"
     ]
    },
    {
     "name": "stdout",
     "output_type": "stream",
     "text": [
      "[MoviePy] Done.\n",
      "oBQqfgSniYM\n",
      "457\n",
      "[MoviePy] Writing audio in C:/Users/Ankit/Documents/wpi/cs525/video_data/videos/ad_data\\oBQqfgSniYM\\Flonase_Base_2019_US_Hedges_15s_V1.wav\n"
     ]
    },
    {
     "name": "stderr",
     "output_type": "stream",
     "text": [
      "\n",
      "  0%|                                                  | 0/332 [00:00<?, ?it/s]\n",
      " 20%|███████▉                                | 66/332 [00:00<00:00, 659.96it/s]\n",
      " 61%|███████████████████████▊               | 203/332 [00:00<00:00, 767.02it/s]\n",
      "100%|██████████████████████████████████████| 332/332 [00:00<00:00, 1102.93it/s]"
     ]
    },
    {
     "name": "stdout",
     "output_type": "stream",
     "text": [
      "[MoviePy] Done.\n",
      "OCgZUfg1las\n",
      "458\n",
      "[MoviePy] Writing audio in C:/Users/Ankit/Documents/wpi/cs525/video_data/videos/ad_data\\OCgZUfg1las\\BlazeTV Subscribers Here’s What You Need to Know.wav\n"
     ]
    },
    {
     "name": "stderr",
     "output_type": "stream",
     "text": [
      "\n",
      "  0%|                                                 | 0/2467 [00:00<?, ?it/s]\n",
      "  6%|██▎                                  | 152/2467 [00:00<00:01, 1447.54it/s]\n",
      " 14%|█████                                | 340/2467 [00:00<00:01, 1554.81it/s]\n",
      " 19%|███████▏                             | 481/2467 [00:00<00:01, 1508.31it/s]\n",
      " 25%|█████████▏                           | 611/2467 [00:00<00:01, 1401.86it/s]\n",
      " 29%|███████████                           | 720/2467 [00:01<00:06, 281.55it/s]\n",
      " 33%|████████████▌                         | 815/2467 [00:01<00:04, 354.09it/s]\n",
      " 40%|███████████████▏                      | 982/2467 [00:01<00:03, 463.70it/s]\n",
      " 46%|████████████████▉                    | 1127/2467 [00:01<00:02, 582.58it/s]\n",
      " 53%|███████████████████▌                 | 1308/2467 [00:01<00:01, 731.36it/s]\n",
      " 60%|██████████████████████▏              | 1478/2467 [00:02<00:01, 875.33it/s]\n",
      " 66%|████████████████████████▍            | 1631/2467 [00:02<00:00, 990.58it/s]\n",
      " 74%|██████████████████████████▍         | 1815/2467 [00:02<00:00, 1149.81it/s]\n",
      " 81%|█████████████████████████████       | 1988/2467 [00:02<00:00, 1264.40it/s]\n",
      " 87%|███████████████████████████████▎    | 2147/2467 [00:02<00:00, 1114.78it/s]\n",
      " 93%|██████████████████████████████████▎  | 2285/2467 [00:02<00:00, 858.43it/s]\n",
      "100%|█████████████████████████████████████| 2467/2467 [00:02<00:00, 857.74it/s]"
     ]
    },
    {
     "name": "stdout",
     "output_type": "stream",
     "text": [
      "[MoviePy] Done.\n",
      "oe50xBpE7Og\n",
      "459\n",
      "[MoviePy] Writing audio in C:/Users/Ankit/Documents/wpi/cs525/video_data/videos/ad_data\\oe50xBpE7Og\\video.wav\n"
     ]
    },
    {
     "name": "stderr",
     "output_type": "stream",
     "text": [
      "\n",
      "  0%|                                                  | 0/333 [00:00<?, ?it/s]\n",
      " 30%|███████████▊                           | 101/333 [00:00<00:00, 590.61it/s]\n",
      " 61%|███████████████████████▊               | 203/333 [00:00<00:00, 640.32it/s]\n",
      "100%|███████████████████████████████████████| 333/333 [00:00<00:00, 873.97it/s]"
     ]
    },
    {
     "name": "stdout",
     "output_type": "stream",
     "text": [
      "[MoviePy] Done.\n",
      "oEdC5IdQvEE\n",
      "460\n",
      "[MoviePy] Writing audio in C:/Users/Ankit/Documents/wpi/cs525/video_data/videos/ad_data\\oEdC5IdQvEE\\PRODUXA Real Reviews from Real Customer.wav\n"
     ]
    },
    {
     "name": "stderr",
     "output_type": "stream",
     "text": [
      "\n",
      "  0%|                                                 | 0/1325 [00:00<?, ?it/s]\n",
      "  7%|██▉                                    | 99/1325 [00:00<00:01, 989.94it/s]\n",
      " 18%|██████▍                              | 232/1325 [00:00<00:01, 1072.17it/s]\n",
      " 27%|█████████▉                           | 357/1325 [00:00<00:00, 1119.95it/s]\n",
      " 39%|██████████████▍                      | 519/1325 [00:00<00:00, 1234.23it/s]\n",
      " 54%|███████████████████▊                 | 709/1325 [00:00<00:00, 1379.20it/s]\n",
      " 65%|████████████████████████▏            | 865/1325 [00:00<00:00, 1428.86it/s]\n",
      " 76%|████████████████████████████         | 1003/1325 [00:01<00:00, 426.16it/s]\n",
      " 88%|████████████████████████████████▋    | 1172/1325 [00:01<00:00, 547.29it/s]\n",
      "100%|█████████████████████████████████████| 1325/1325 [00:01<00:00, 810.35it/s]"
     ]
    },
    {
     "name": "stdout",
     "output_type": "stream",
     "text": [
      "[MoviePy] Done.\n",
      "Oexg_ceQbfA\n",
      "461\n",
      "[MoviePy] Writing audio in C:/Users/Ankit/Documents/wpi/cs525/video_data/videos/ad_data\\Oexg_ceQbfA\\The Chainsmokers - Beach House - OLP - US - 14.wav\n"
     ]
    },
    {
     "name": "stderr",
     "output_type": "stream",
     "text": [
      "\n",
      "  0%|                                                  | 0/313 [00:00<?, ?it/s]\n",
      " 32%|████████████▌                          | 101/313 [00:00<00:00, 245.73it/s]\n",
      " 49%|██████████████████▉                    | 152/313 [00:00<00:00, 191.59it/s]\n",
      " 65%|█████████████████████████▎             | 203/313 [00:00<00:00, 228.77it/s]\n",
      "100%|███████████████████████████████████████| 313/313 [00:01<00:00, 302.69it/s]"
     ]
    },
    {
     "name": "stdout",
     "output_type": "stream",
     "text": [
      "[MoviePy] Done.\n",
      "OFlj0obQUXA\n",
      "462\n",
      "[MoviePy] Writing audio in C:/Users/Ankit/Documents/wpi/cs525/video_data/videos/ad_data\\OFlj0obQUXA\\BSTM_na_Q2_na_na_Free For All_na_mp4_6_S_GM 1080..wav\n"
     ]
    },
    {
     "name": "stderr",
     "output_type": "stream",
     "text": [
      "\n",
      "  0%|                                                  | 0/135 [00:00<?, ?it/s]\n",
      " 30%|███████████▊                            | 40/135 [00:00<00:00, 399.98it/s]\n",
      "100%|███████████████████████████████████████| 135/135 [00:00<00:00, 721.88it/s]"
     ]
    },
    {
     "name": "stdout",
     "output_type": "stream",
     "text": [
      "[MoviePy] Done.\n",
      "oGzZEZg3n2M\n",
      "463\n",
      "[MoviePy] Writing audio in C:/Users/Ankit/Documents/wpi/cs525/video_data/videos/ad_data\\oGzZEZg3n2M\\Christina Vergara  GoCentral (US).wav\n"
     ]
    },
    {
     "name": "stderr",
     "output_type": "stream",
     "text": [
      "\n",
      "  0%|                                                  | 0/684 [00:00<?, ?it/s]\n",
      " 15%|█████▊                                 | 101/684 [00:00<00:01, 433.45it/s]\n",
      " 37%|██████████████▍                        | 254/684 [00:00<00:00, 550.38it/s]\n",
      " 66%|█████████████████████████▌             | 449/684 [00:00<00:00, 701.41it/s]\n",
      " 90%|███████████████████████████████████▏   | 617/684 [00:00<00:00, 849.93it/s]\n",
      "100%|██████████████████████████████████████| 684/684 [00:00<00:00, 1197.83it/s]"
     ]
    },
    {
     "name": "stdout",
     "output_type": "stream",
     "text": [
      "[MoviePy] Done.\n",
      "oiD7eL5TUYs\n",
      "464\n",
      "[MoviePy] Writing audio in C:/Users/Ankit/Documents/wpi/cs525/video_data/videos/ad_data\\oiD7eL5TUYs\\Untitled Ad.wav\n"
     ]
    },
    {
     "name": "stderr",
     "output_type": "stream",
     "text": [
      "\n",
      "  0%|                                                  | 0/332 [00:00<?, ?it/s]\n",
      " 30%|███████████▊                           | 101/332 [00:00<00:00, 971.10it/s]\n",
      " 46%|█████████████████▊                     | 152/332 [00:00<00:00, 721.72it/s]\n",
      " 92%|███████████████████████████████████▊   | 305/332 [00:00<00:00, 850.49it/s]\n",
      "100%|███████████████████████████████████████| 332/332 [00:00<00:00, 985.11it/s]"
     ]
    },
    {
     "name": "stdout",
     "output_type": "stream",
     "text": [
      "[MoviePy] Done.\n",
      "OIhAcxdMMag\n",
      "465\n",
      "[MoviePy] Writing audio in C:/Users/Ankit/Documents/wpi/cs525/video_data/videos/ad_data\\OIhAcxdMMag\\11588-45894..wav\n"
     ]
    },
    {
     "name": "stderr",
     "output_type": "stream",
     "text": [
      "\n",
      "  0%|                                                  | 0/334 [00:00<?, ?it/s]\n",
      " 40%|███████████████▏                      | 134/334 [00:00<00:00, 1339.92it/s]\n",
      " 89%|█████████████████████████████████▋    | 296/334 [00:00<00:00, 1413.20it/s]\n",
      "100%|██████████████████████████████████████| 334/334 [00:00<00:00, 1464.83it/s]"
     ]
    },
    {
     "name": "stdout",
     "output_type": "stream",
     "text": [
      "[MoviePy] Done.\n",
      "OiJ7toDP4i8\n",
      "466\n",
      "[MoviePy] Writing audio in C:/Users/Ankit/Documents/wpi/cs525/video_data/videos/ad_data\\OiJ7toDP4i8\\This is free financial solutions This is Wells Fargo.wav\n"
     ]
    },
    {
     "name": "stderr",
     "output_type": "stream",
     "text": [
      "\n",
      "  0%|                                                  | 0/332 [00:00<?, ?it/s]\n",
      "  1%|▎                                         | 2/332 [00:00<00:17, 18.35it/s]\n",
      " 12%|█████                                    | 41/332 [00:00<00:11, 25.69it/s]\n",
      " 34%|█████████████▋                          | 114/332 [00:00<00:06, 36.15it/s]\n",
      " 76%|██████████████████████████████▍         | 253/332 [00:00<00:01, 51.08it/s]\n",
      "100%|███████████████████████████████████████| 332/332 [00:00<00:00, 724.85it/s]"
     ]
    },
    {
     "name": "stdout",
     "output_type": "stream",
     "text": [
      "[MoviePy] Done.\n",
      "olgD5O4JrkE\n",
      "467\n",
      "[MoviePy] Writing audio in C:/Users/Ankit/Documents/wpi/cs525/video_data/videos/ad_data\\olgD5O4JrkE\\SHERMAN vs TIGER (Desert Order).wav\n"
     ]
    },
    {
     "name": "stderr",
     "output_type": "stream",
     "text": [
      "\n",
      "  0%|                                                 | 0/1768 [00:00<?, ?it/s]\n",
      "  2%|▌                                      | 28/1768 [00:00<00:08, 210.51it/s]\n",
      "  8%|███                                   | 145/1768 [00:00<00:05, 279.20it/s]\n",
      " 15%|█████▌                                | 258/1768 [00:00<00:04, 360.67it/s]\n",
      " 24%|█████████                             | 420/1768 [00:00<00:02, 470.36it/s]\n",
      " 34%|████████████▊                         | 594/1768 [00:00<00:01, 602.17it/s]\n",
      " 43%|████████████████▍                     | 764/1768 [00:00<00:01, 741.00it/s]\n",
      " 52%|███████████████████▉                  | 926/1768 [00:00<00:00, 885.06it/s]\n",
      " 61%|██████████████████████▍              | 1070/1768 [00:00<00:00, 996.60it/s]\n",
      " 72%|█████████████████████████▊          | 1267/1768 [00:00<00:00, 1170.02it/s]\n",
      " 81%|█████████████████████████████       | 1427/1768 [00:01<00:00, 1269.58it/s]\n",
      " 91%|████████████████████████████████▊   | 1614/1768 [00:01<00:00, 1404.88it/s]\n",
      "100%|████████████████████████████████████| 1768/1768 [00:01<00:00, 1439.66it/s]"
     ]
    },
    {
     "name": "stdout",
     "output_type": "stream",
     "text": [
      "[MoviePy] Done.\n",
      "OlV8yYM08pg\n",
      "468\n",
      "[MoviePy] Writing audio in C:/Users/Ankit/Documents/wpi/cs525/video_data/videos/ad_data\\OlV8yYM08pg\\Super Speedy Meals (No Promo).wav\n"
     ]
    },
    {
     "name": "stderr",
     "output_type": "stream",
     "text": [
      "\n",
      "  0%|                                                  | 0/347 [00:00<?, ?it/s]\n",
      "  8%|███▏                                    | 28/347 [00:00<00:01, 205.87it/s]\n",
      " 44%|█████████████████                      | 152/347 [00:00<00:00, 273.65it/s]\n",
      " 88%|██████████████████████████████████▎    | 305/347 [00:00<00:00, 359.77it/s]\n",
      "100%|███████████████████████████████████████| 347/347 [00:00<00:00, 927.75it/s]"
     ]
    },
    {
     "name": "stdout",
     "output_type": "stream",
     "text": [
      "[MoviePy] Done.\n",
      "OLYRC_reugM\n",
      "469\n",
      "[MoviePy] Writing audio in C:/Users/Ankit/Documents/wpi/cs525/video_data/videos/ad_data\\OLYRC_reugM\\Ratte vs Maus (Panzer Rush).wav\n"
     ]
    },
    {
     "name": "stderr",
     "output_type": "stream",
     "text": [
      "\n",
      "  0%|                                                 | 0/2316 [00:00<?, ?it/s]\n",
      "  1%|▍                                      | 28/2316 [00:00<00:09, 239.30it/s]\n",
      "  7%|██▊                                   | 173/2316 [00:00<00:06, 319.28it/s]\n",
      " 13%|█████                                 | 308/2316 [00:00<00:04, 414.13it/s]\n",
      " 21%|███████▉                              | 480/2316 [00:00<00:03, 536.28it/s]\n",
      " 25%|█████████▌                            | 584/2316 [00:00<00:03, 550.69it/s]\n",
      " 33%|████████████▌                         | 764/2316 [00:00<00:02, 685.18it/s]\n",
      " 41%|███████████████▍                      | 938/2316 [00:00<00:01, 837.48it/s]\n",
      " 46%|█████████████████▏                   | 1072/2316 [00:00<00:01, 943.63it/s]\n",
      " 53%|███████████████████                 | 1223/2316 [00:01<00:01, 1052.15it/s]\n",
      " 59%|█████████████████████▋               | 1358/2316 [00:01<00:00, 992.51it/s]\n",
      " 64%|███████████████████████             | 1480/2316 [00:01<00:00, 1051.31it/s]\n",
      " 70%|█████████████████████████▎          | 1631/2316 [00:01<00:00, 1128.18it/s]\n",
      " 78%|████████████████████████████        | 1804/2316 [00:01<00:00, 1259.63it/s]\n",
      " 84%|██████████████████████████████▏     | 1944/2316 [00:01<00:00, 1240.00it/s]\n",
      " 90%|████████████████████████████████▎   | 2078/2316 [00:01<00:00, 1070.73it/s]\n",
      " 97%|██████████████████████████████████▉ | 2246/2316 [00:01<00:00, 1201.43it/s]\n",
      "100%|████████████████████████████████████| 2316/2316 [00:01<00:00, 1223.38it/s]"
     ]
    },
    {
     "name": "stdout",
     "output_type": "stream",
     "text": [
      "[MoviePy] Done.\n",
      "oo2rbQWYo_A\n",
      "470\n",
      "[MoviePy] Writing audio in C:/Users/Ankit/Documents/wpi/cs525/video_data/videos/ad_data\\oo2rbQWYo_A\\190403 SOMA BrightRoll Strapless Digital Video.wav\n"
     ]
    },
    {
     "name": "stderr",
     "output_type": "stream",
     "text": [
      "\n",
      "  0%|                                                  | 0/373 [00:00<?, ?it/s]\n",
      "  8%|███                                     | 29/373 [00:00<00:01, 289.98it/s]\n",
      " 41%|███████████████▉                       | 152/373 [00:00<00:00, 363.24it/s]\n",
      " 91%|███████████████████████████████████▌   | 340/373 [00:00<00:00, 479.23it/s]\n",
      "100%|██████████████████████████████████████| 373/373 [00:00<00:00, 1036.05it/s]"
     ]
    },
    {
     "name": "stdout",
     "output_type": "stream",
     "text": [
      "[MoviePy] Done.\n",
      "oqWI717s-6A\n",
      "471\n",
      "[MoviePy] Writing audio in C:/Users/Ankit/Documents/wpi/cs525/video_data/videos/ad_data\\oqWI717s-6A\\The Second World Wars with Victor Davis Hanson  Online Course Official Trailer.wav\n"
     ]
    },
    {
     "name": "stderr",
     "output_type": "stream",
     "text": [
      "\n",
      "  0%|                                                 | 0/2555 [00:00<?, ?it/s]\n",
      "  6%|██▏                                  | 152/2555 [00:00<00:01, 1447.54it/s]\n",
      " 10%|███▋                                 | 254/2555 [00:00<00:01, 1203.86it/s]\n",
      " 16%|█████▊                               | 403/2555 [00:00<00:01, 1277.44it/s]\n",
      " 20%|███████▌                              | 509/2555 [00:00<00:02, 999.17it/s]\n",
      " 24%|████████▉                             | 604/2555 [00:00<00:01, 983.88it/s]\n",
      " 29%|██████████▋                          | 736/2555 [00:00<00:01, 1065.24it/s]\n",
      " 33%|████████████▍                         | 835/2555 [00:00<00:01, 885.05it/s]\n",
      " 36%|█████████████▋                        | 923/2555 [00:00<00:02, 808.06it/s]\n",
      " 42%|███████████████▍                     | 1062/2555 [00:01<00:01, 924.12it/s]\n",
      " 45%|████████████████▊                    | 1161/2555 [00:01<00:01, 820.94it/s]\n",
      " 49%|██████████████████                   | 1250/2555 [00:01<00:01, 654.93it/s]\n",
      " 52%|███████████████████▏                 | 1326/2555 [00:01<00:01, 616.72it/s]\n",
      " 58%|█████████████████████▍               | 1478/2555 [00:01<00:01, 737.41it/s]\n",
      " 64%|███████████████████████▌             | 1623/2555 [00:01<00:01, 864.92it/s]\n",
      " 68%|█████████████████████████            | 1729/2555 [00:01<00:01, 806.75it/s]\n",
      " 71%|██████████████████████████▍          | 1825/2555 [00:02<00:00, 736.20it/s]\n",
      " 75%|███████████████████████████▋         | 1910/2555 [00:02<00:01, 552.94it/s]\n",
      " 78%|████████████████████████████▊        | 1992/2555 [00:02<00:00, 611.43it/s]\n",
      " 81%|█████████████████████████████▉       | 2066/2555 [00:02<00:00, 550.10it/s]\n",
      " 87%|████████████████████████████████     | 2218/2555 [00:02<00:00, 680.33it/s]\n",
      " 94%|██████████████████████████████████▋  | 2396/2555 [00:02<00:00, 830.42it/s]\n",
      "100%|█████████████████████████████████████| 2555/2555 [00:02<00:00, 887.10it/s]"
     ]
    },
    {
     "name": "stdout",
     "output_type": "stream",
     "text": [
      "[MoviePy] Done.\n",
      "os0f7DIlyWs\n",
      "472\n",
      "[MoviePy] Writing audio in C:/Users/Ankit/Documents/wpi/cs525/video_data/videos/ad_data\\os0f7DIlyWs\\In-Stream Video.wav\n"
     ]
    },
    {
     "name": "stderr",
     "output_type": "stream",
     "text": [
      "\n",
      "  0%|                                                  | 0/334 [00:00<?, ?it/s]\n",
      " 23%|█████████▎                              | 78/334 [00:00<00:00, 779.95it/s]\n",
      " 61%|███████████████████████▋               | 203/334 [00:00<00:00, 877.27it/s]\n",
      "100%|██████████████████████████████████████| 334/334 [00:00<00:00, 1227.87it/s]"
     ]
    },
    {
     "name": "stdout",
     "output_type": "stream",
     "text": [
      "[MoviePy] Done.\n",
      "OucsxGgnsQg\n",
      "473\n",
      "[MoviePy] Writing audio in C:/Users/Ankit/Documents/wpi/cs525/video_data/videos/ad_data\\OucsxGgnsQg\\Origins NEW Plantscription Retinol Night Moisturizer.wav\n"
     ]
    },
    {
     "name": "stderr",
     "output_type": "stream",
     "text": [
      "\n",
      "  0%|                                                  | 0/333 [00:00<?, ?it/s]\n",
      "  8%|███▎                                    | 28/333 [00:00<00:02, 113.35it/s]\n",
      " 46%|█████████████████▊                     | 152/333 [00:00<00:01, 155.71it/s]\n",
      "100%|███████████████████████████████████████| 333/333 [00:00<00:00, 746.59it/s]"
     ]
    },
    {
     "name": "stdout",
     "output_type": "stream",
     "text": [
      "[MoviePy] Done.\n",
      "OUNER5_MOOA\n",
      "474\n",
      "[MoviePy] Writing audio in C:/Users/Ankit/Documents/wpi/cs525/video_data/videos/ad_data\\OUNER5_MOOA\\SK-II BareSkinChat Trailer feat James Corden and Chloe Moretz.wav\n"
     ]
    },
    {
     "name": "stderr",
     "output_type": "stream",
     "text": [
      "\n",
      "  0%|                                                  | 0/840 [00:00<?, ?it/s]\n",
      "  3%|█▎                                       | 28/840 [00:00<00:15, 53.84it/s]\n",
      " 18%|███████                                 | 148/840 [00:00<00:09, 75.47it/s]\n",
      " 24%|█████████▍                             | 203/840 [00:00<00:06, 101.54it/s]\n",
      " 37%|██████████████▎                        | 307/840 [00:00<00:03, 139.23it/s]\n",
      " 59%|██████████████████████▉                | 493/840 [00:00<00:01, 192.72it/s]\n",
      " 79%|██████████████████████████████▋        | 660/840 [00:01<00:00, 262.34it/s]\n",
      " 93%|████████████████████████████████████▏  | 779/840 [00:01<00:00, 337.46it/s]\n",
      "100%|███████████████████████████████████████| 840/840 [00:01<00:00, 714.24it/s]"
     ]
    },
    {
     "name": "stdout",
     "output_type": "stream",
     "text": [
      "[MoviePy] Done.\n",
      "ov16Qwe5yEk\n",
      "475\n",
      "[MoviePy] Writing audio in C:/Users/Ankit/Documents/wpi/cs525/video_data/videos/ad_data\\ov16Qwe5yEk\\In-Stream Video.wav\n"
     ]
    },
    {
     "name": "stderr",
     "output_type": "stream",
     "text": [
      "\n",
      "  0%|                                                  | 0/133 [00:00<?, ?it/s]\n",
      " 21%|████████▍                               | 28/133 [00:00<00:00, 121.73it/s]\n",
      "100%|███████████████████████████████████████| 133/133 [00:00<00:00, 449.30it/s]"
     ]
    },
    {
     "name": "stdout",
     "output_type": "stream",
     "text": [
      "[MoviePy] Done.\n",
      "OYldJgTC0H4\n",
      "476\n",
      "[MoviePy] Writing audio in C:/Users/Ankit/Documents/wpi/cs525/video_data/videos/ad_data\\OYldJgTC0H4\\Oral-B Power  Toss and Reach.wav\n"
     ]
    },
    {
     "name": "stderr",
     "output_type": "stream",
     "text": [
      "\n",
      "  0%|                                                  | 0/663 [00:00<?, ?it/s]\n",
      "  4%|█▋                                      | 28/663 [00:00<00:03, 194.43it/s]\n",
      " 23%|████████▉                              | 152/663 [00:00<00:01, 259.78it/s]\n",
      " 45%|█████████████████▋                     | 301/663 [00:00<00:01, 345.31it/s]\n",
      " 62%|████████████████████████▎              | 414/663 [00:00<00:00, 436.17it/s]\n",
      " 79%|██████████████████████████████▋        | 521/663 [00:00<00:00, 530.43it/s]\n",
      "100%|██████████████████████████████████████| 663/663 [00:00<00:00, 1045.68it/s]"
     ]
    },
    {
     "name": "stdout",
     "output_type": "stream",
     "text": [
      "[MoviePy] Done.\n",
      "oyNyzfau1zs\n",
      "477\n",
      "[MoviePy] Writing audio in C:/Users/Ankit/Documents/wpi/cs525/video_data/videos/ad_data\\oyNyzfau1zs\\In-Stream Video.wav\n"
     ]
    },
    {
     "name": "stderr",
     "output_type": "stream",
     "text": [
      "\n",
      "  0%|                                                  | 0/332 [00:00<?, ?it/s]\n",
      " 10%|████                                    | 34/332 [00:00<00:00, 339.98it/s]\n",
      " 62%|████████████████████████▏              | 206/332 [00:00<00:00, 447.75it/s]\n",
      " 92%|███████████████████████████████████▊   | 305/332 [00:00<00:00, 453.35it/s]\n",
      "100%|███████████████████████████████████████| 332/332 [00:00<00:00, 779.30it/s]"
     ]
    },
    {
     "name": "stdout",
     "output_type": "stream",
     "text": [
      "[MoviePy] Done.\n",
      "p-nQPKtpe54\n",
      "478\n",
      "[MoviePy] Writing audio in C:/Users/Ankit/Documents/wpi/cs525/video_data/videos/ad_data\\p-nQPKtpe54\\Electric Power in the Country of Georgia.wav\n"
     ]
    },
    {
     "name": "stderr",
     "output_type": "stream",
     "text": [
      "\n",
      "  0%|                                                  | 0/580 [00:00<?, ?it/s]\n",
      "  5%|█▉                                       | 28/580 [00:00<00:08, 64.66it/s]\n",
      " 26%|██████████▍                             | 152/580 [00:00<00:04, 90.35it/s]\n",
      " 50%|███████████████████▋                   | 292/580 [00:00<00:02, 125.60it/s]\n",
      " 80%|███████████████████████████████▎       | 465/580 [00:00<00:00, 174.02it/s]\n",
      "100%|███████████████████████████████████████| 580/580 [00:00<00:00, 732.28it/s]"
     ]
    },
    {
     "name": "stdout",
     "output_type": "stream",
     "text": [
      "[MoviePy] Done.\n",
      "P4vhszKdUd0\n",
      "479\n",
      "[MoviePy] Writing audio in C:/Users/Ankit/Documents/wpi/cs525/video_data/videos/ad_data\\P4vhszKdUd0\\Justin Rarri - W2Leezy ( Official Music Video ).wav\n"
     ]
    },
    {
     "name": "stderr",
     "output_type": "stream",
     "text": [
      "\n",
      "  0%|                                                 | 0/4332 [00:00<?, ?it/s]\n",
      "  1%|▎                                      | 28/4332 [00:00<00:18, 235.28it/s]\n",
      "  4%|█▎                                    | 152/4332 [00:00<00:13, 309.67it/s]\n",
      "  8%|███                                   | 352/4332 [00:00<00:09, 414.86it/s]\n",
      " 12%|████▌                                 | 515/4332 [00:00<00:07, 534.37it/s]\n",
      " 15%|█████▊                                | 658/4332 [00:00<00:05, 656.18it/s]\n",
      " 20%|███████▌                              | 860/4332 [00:00<00:04, 822.84it/s]\n",
      " 23%|████████▌                            | 1005/4332 [00:00<00:03, 870.58it/s]\n",
      " 26%|█████████▋                           | 1137/4332 [00:00<00:03, 963.24it/s]\n",
      " 30%|██████████▉                         | 1318/4332 [00:00<00:02, 1120.49it/s]\n",
      " 34%|████████████▏                       | 1469/4332 [00:01<00:02, 1188.64it/s]\n",
      " 37%|█████████████▍                      | 1613/4332 [00:01<00:02, 1143.72it/s]\n",
      " 41%|██████████████▋                     | 1773/4332 [00:01<00:02, 1247.78it/s]\n",
      " 44%|███████████████▉                    | 1913/4332 [00:01<00:02, 1182.01it/s]\n",
      " 48%|█████████████████▎                  | 2077/4332 [00:01<00:01, 1269.11it/s]\n",
      " 51%|██████████████████▌                 | 2229/4332 [00:01<00:01, 1307.64it/s]\n",
      " 56%|████████████████████▏               | 2431/4332 [00:01<00:01, 1446.62it/s]\n",
      " 60%|█████████████████████▍              | 2586/4332 [00:01<00:01, 1447.19it/s]\n",
      " 64%|███████████████████████             | 2778/4332 [00:01<00:00, 1562.61it/s]\n",
      " 68%|████████████████████████▍           | 2945/4332 [00:02<00:00, 1593.32it/s]\n",
      " 73%|██████████████████████████          | 3141/4332 [00:02<00:00, 1645.52it/s]\n",
      " 76%|███████████████████████████▌        | 3310/4332 [00:02<00:00, 1592.93it/s]\n",
      " 81%|█████████████████████████████       | 3495/4332 [00:02<00:00, 1635.74it/s]\n",
      " 85%|██████████████████████████████▍     | 3662/4332 [00:02<00:00, 1507.65it/s]\n",
      " 89%|███████████████████████████████▉    | 3850/4332 [00:02<00:00, 1574.67it/s]\n",
      " 93%|█████████████████████████████████▍  | 4031/4332 [00:02<00:00, 1638.56it/s]\n",
      " 97%|██████████████████████████████████▉ | 4198/4332 [00:02<00:00, 1332.31it/s]\n",
      "100%|████████████████████████████████████| 4332/4332 [00:03<00:00, 1443.92it/s]"
     ]
    },
    {
     "name": "stdout",
     "output_type": "stream",
     "text": [
      "[MoviePy] Done.\n",
      "p7DkTLbKC4U\n",
      "480\n",
      "[MoviePy] Writing audio in C:/Users/Ankit/Documents/wpi/cs525/video_data/videos/ad_data\\p7DkTLbKC4U\\MovoChain™ - Convert BTCBCH to US In Minutes.wav\n"
     ]
    },
    {
     "name": "stderr",
     "output_type": "stream",
     "text": [
      "\n",
      "  0%|                                                  | 0/586 [00:00<?, ?it/s]\n",
      " 11%|████▎                                   | 63/586 [00:00<00:00, 629.96it/s]\n",
      " 39%|███████████████▎                       | 230/586 [00:00<00:00, 774.70it/s]\n",
      " 68%|██████████████████████████▍            | 397/586 [00:00<00:00, 923.17it/s]\n",
      " 84%|████████████████████████████████▋      | 492/586 [00:00<00:00, 598.46it/s]\n",
      "100%|███████████████████████████████████████| 586/586 [00:00<00:00, 904.27it/s]"
     ]
    },
    {
     "name": "stdout",
     "output_type": "stream",
     "text": [
      "[MoviePy] Done.\n",
      "P7q71aPvFBE\n",
      "481\n",
      "[MoviePy] Writing audio in C:/Users/Ankit/Documents/wpi/cs525/video_data/videos/ad_data\\P7q71aPvFBE\\ziggystardust_piano_15_bm.wav\n"
     ]
    },
    {
     "name": "stderr",
     "output_type": "stream",
     "text": [
      "\n",
      "  0%|                                                  | 0/289 [00:00<?, ?it/s]\n",
      " 10%|███▉                                    | 28/289 [00:00<00:01, 178.33it/s]\n",
      " 35%|█████████████▋                         | 101/289 [00:00<00:00, 221.99it/s]\n",
      " 53%|████████████████████▌                  | 152/289 [00:00<00:00, 259.52it/s]\n",
      " 90%|███████████████████████████████████    | 260/289 [00:00<00:00, 336.12it/s]\n",
      "100%|███████████████████████████████████████| 289/289 [00:00<00:00, 541.17it/s]"
     ]
    },
    {
     "name": "stdout",
     "output_type": "stream",
     "text": [
      "[MoviePy] Done.\n",
      "P7_RtEr8cq0\n",
      "482\n",
      "[MoviePy] Writing audio in C:/Users/Ankit/Documents/wpi/cs525/video_data/videos/ad_data\\P7_RtEr8cq0\\Google — Here to help.wav\n"
     ]
    },
    {
     "name": "stderr",
     "output_type": "stream",
     "text": [
      "\n",
      "  0%|                                                 | 0/1325 [00:00<?, ?it/s]\n",
      "  8%|██▉                                   | 101/1325 [00:00<00:01, 961.85it/s]\n",
      " 21%|███████▉                             | 283/1325 [00:00<00:00, 1120.31it/s]\n",
      " 35%|████████████▊                        | 458/1325 [00:00<00:00, 1206.51it/s]\n",
      " 42%|███████████████▋                     | 560/1325 [00:00<00:00, 1026.35it/s]\n",
      " 49%|██████████████████▋                   | 651/1325 [00:00<00:00, 892.45it/s]\n",
      " 62%|██████████████████████▊              | 815/1325 [00:00<00:00, 1024.12it/s]\n",
      " 73%|███████████████████████████          | 968/1325 [00:00<00:00, 1126.83it/s]\n",
      " 85%|██████████████████████████████▍     | 1121/1325 [00:00<00:00, 1192.08it/s]\n",
      "100%|████████████████████████████████████| 1325/1325 [00:01<00:00, 1311.81it/s]"
     ]
    },
    {
     "name": "stdout",
     "output_type": "stream",
     "text": [
      "[MoviePy] Done.\n",
      "p8Ospon1L0o\n",
      "483\n",
      "[MoviePy] Writing audio in C:/Users/Ankit/Documents/wpi/cs525/video_data/videos/ad_data\\p8Ospon1L0o\\MB_NB_CV_Echo Man_CT_VAST_LG_EN_CY_USD_CS_15SECONDS..wav\n"
     ]
    },
    {
     "name": "stderr",
     "output_type": "stream",
     "text": [
      "\n",
      "  0%|                                                  | 0/333 [00:00<?, ?it/s]\n",
      "  8%|███▍                                     | 28/333 [00:00<00:05, 61.00it/s]\n",
      " 30%|████████████▏                           | 101/333 [00:00<00:02, 82.25it/s]\n",
      " 49%|███████████████████▏                   | 164/333 [00:00<00:01, 111.27it/s]\n",
      " 76%|█████████████████████████████▋         | 254/333 [00:00<00:00, 147.99it/s]\n",
      "100%|███████████████████████████████████████| 333/333 [00:00<00:00, 354.99it/s]"
     ]
    },
    {
     "name": "stdout",
     "output_type": "stream",
     "text": [
      "[MoviePy] Done.\n",
      "P9fpZoxLEtA\n",
      "484\n",
      "[MoviePy] Writing audio in C:/Users/Ankit/Documents/wpi/cs525/video_data/videos/ad_data\\P9fpZoxLEtA\\Untitled Ad.wav\n"
     ]
    },
    {
     "name": "stderr",
     "output_type": "stream",
     "text": [
      "\n",
      "  0%|                                                  | 0/332 [00:00<?, ?it/s]\n",
      "  8%|███▍                                     | 28/332 [00:00<00:03, 90.90it/s]\n",
      " 30%|███████████▊                           | 101/332 [00:00<00:01, 122.79it/s]\n",
      " 61%|███████████████████████▊               | 203/332 [00:00<00:00, 163.28it/s]\n",
      "100%|███████████████████████████████████████| 332/332 [00:00<00:00, 511.53it/s]"
     ]
    },
    {
     "name": "stdout",
     "output_type": "stream",
     "text": [
      "[MoviePy] Done.\n",
      "p9oAx_9aXto\n",
      "485\n",
      "[MoviePy] Writing audio in C:/Users/Ankit/Documents/wpi/cs525/video_data/videos/ad_data\\p9oAx_9aXto\\18_Q4_Niss_NNA_Rogue_Manifesto_OLV_15_NORO2529H_Vevo.wav\n"
     ]
    },
    {
     "name": "stderr",
     "output_type": "stream",
     "text": [
      "\n",
      "  0%|                                                  | 0/333 [00:00<?, ?it/s]\n",
      "  8%|███▍                                     | 28/333 [00:00<00:04, 61.67it/s]\n",
      " 34%|█████████████▋                          | 114/333 [00:00<00:02, 85.47it/s]\n",
      " 54%|█████████████████████                  | 180/333 [00:00<00:01, 115.68it/s]\n",
      " 88%|██████████████████████████████████▏    | 292/333 [00:00<00:00, 158.26it/s]\n",
      "100%|███████████████████████████████████████| 333/333 [00:00<00:00, 426.35it/s]"
     ]
    },
    {
     "name": "stdout",
     "output_type": "stream",
     "text": [
      "[MoviePy] Done.\n",
      "paaYbR_rDno\n",
      "486\n",
      "[MoviePy] Writing audio in C:/Users/Ankit/Documents/wpi/cs525/video_data/videos/ad_data\\paaYbR_rDno\\In-Stream Video.wav\n"
     ]
    },
    {
     "name": "stderr",
     "output_type": "stream",
     "text": [
      "\n",
      "  0%|                                                  | 0/332 [00:00<?, ?it/s]\n",
      "  8%|███▎                                    | 28/332 [00:00<00:02, 111.55it/s]\n",
      " 46%|█████████████████▊                     | 152/332 [00:00<00:01, 152.42it/s]\n",
      " 98%|██████████████████████████████████████ | 324/332 [00:00<00:00, 209.77it/s]\n",
      "100%|███████████████████████████████████████| 332/332 [00:00<00:00, 697.44it/s]"
     ]
    },
    {
     "name": "stdout",
     "output_type": "stream",
     "text": [
      "[MoviePy] Done.\n",
      "pCXFvbbrV28\n",
      "487\n",
      "[MoviePy] Writing audio in C:/Users/Ankit/Documents/wpi/cs525/video_data/videos/ad_data\\pCXFvbbrV28\\Untitled Ad.wav\n"
     ]
    },
    {
     "name": "stderr",
     "output_type": "stream",
     "text": [
      "\n",
      "  0%|                                                  | 0/332 [00:00<?, ?it/s]\n",
      "  8%|███▎                                    | 28/332 [00:00<00:01, 239.30it/s]\n",
      " 61%|███████████████████████▊               | 203/332 [00:00<00:00, 313.06it/s]\n",
      "100%|███████████████████████████████████████| 332/332 [00:00<00:00, 917.07it/s]"
     ]
    },
    {
     "name": "stdout",
     "output_type": "stream",
     "text": [
      "[MoviePy] Done.\n",
      "PekH9jJndp4\n",
      "488\n",
      "[MoviePy] Writing audio in C:/Users/Ankit/Documents/wpi/cs525/video_data/videos/ad_data\\PekH9jJndp4\\Groupon 2018 Commercial with Tiffany Haddish Mani-Pedi.wav\n"
     ]
    },
    {
     "name": "stderr",
     "output_type": "stream",
     "text": [
      "\n",
      "  0%|                                                  | 0/332 [00:00<?, ?it/s]\n",
      "  8%|███▎                                    | 28/332 [00:00<00:02, 110.67it/s]\n",
      " 37%|██████████████▎                        | 122/332 [00:00<00:01, 150.50it/s]\n",
      " 77%|█████████████████████████████▊         | 254/332 [00:00<00:00, 203.84it/s]\n",
      "100%|███████████████████████████████████████| 332/332 [00:00<00:00, 656.09it/s]"
     ]
    },
    {
     "name": "stdout",
     "output_type": "stream",
     "text": [
      "[MoviePy] Done.\n",
      "PHWPaavsi8I\n",
      "489\n",
      "[MoviePy] Writing audio in C:/Users/Ankit/Documents/wpi/cs525/video_data/videos/ad_data\\PHWPaavsi8I\\Digestive Advantage  Yoghurt Capsule.wav\n"
     ]
    },
    {
     "name": "stderr",
     "output_type": "stream",
     "text": [
      "\n",
      "  0%|                                                  | 0/133 [00:00<?, ?it/s]\n",
      " 21%|████████▍                               | 28/133 [00:00<00:01, 102.56it/s]\n",
      "100%|███████████████████████████████████████| 133/133 [00:00<00:00, 376.75it/s]"
     ]
    },
    {
     "name": "stdout",
     "output_type": "stream",
     "text": [
      "[MoviePy] Done.\n",
      "PKaaia16WGY\n",
      "490\n",
      "[MoviePy] Writing audio in C:/Users/Ankit/Documents/wpi/cs525/video_data/videos/ad_data\\PKaaia16WGY\\Hottest New Hip-Hop (playlist) - 15.wav\n"
     ]
    },
    {
     "name": "stderr",
     "output_type": "stream",
     "text": [
      "\n",
      "  0%|                                                  | 0/334 [00:00<?, ?it/s]\n",
      "  8%|███▍                                     | 28/334 [00:00<00:05, 52.04it/s]\n",
      " 46%|██████████████████▏                     | 152/334 [00:00<00:02, 72.42it/s]\n",
      " 76%|█████████████████████████████▋         | 254/334 [00:00<00:00, 100.01it/s]\n",
      "100%|███████████████████████████████████████| 334/334 [00:00<00:00, 394.31it/s]"
     ]
    },
    {
     "name": "stdout",
     "output_type": "stream",
     "text": [
      "[MoviePy] Done.\n",
      "Pkmy2D0CkH0\n",
      "491\n",
      "[MoviePy] Writing audio in C:/Users/Ankit/Documents/wpi/cs525/video_data/videos/ad_data\\Pkmy2D0CkH0\\Untitled Ad.wav\n"
     ]
    },
    {
     "name": "stderr",
     "output_type": "stream",
     "text": [
      "\n",
      "  0%|                                                  | 0/332 [00:00<?, ?it/s]\n",
      "  8%|███▎                                    | 28/332 [00:00<00:01, 261.67it/s]\n",
      " 42%|████████████████▎                      | 139/332 [00:00<00:00, 339.51it/s]\n",
      " 61%|███████████████████████▊               | 203/332 [00:00<00:00, 388.69it/s]\n",
      "100%|███████████████████████████████████████| 332/332 [00:00<00:00, 832.03it/s]"
     ]
    },
    {
     "name": "stdout",
     "output_type": "stream",
     "text": [
      "[MoviePy] Done.\n",
      "PLAsIzSKHFk\n",
      "492\n",
      "[MoviePy] Writing audio in C:/Users/Ankit/Documents/wpi/cs525/video_data/videos/ad_data\\PLAsIzSKHFk\\sbhelps YKOH 16x9 nopromo.wav\n"
     ]
    },
    {
     "name": "stderr",
     "output_type": "stream",
     "text": [
      "\n",
      "  0%|                                                  | 0/288 [00:00<?, ?it/s]\n",
      " 10%|███▉                                    | 28/288 [00:00<00:01, 220.46it/s]\n",
      " 53%|████████████████████▌                  | 152/288 [00:00<00:00, 291.20it/s]\n",
      " 70%|███████████████████████████▍           | 203/288 [00:00<00:00, 313.85it/s]\n",
      "100%|███████████████████████████████████████| 288/288 [00:00<00:00, 674.43it/s]"
     ]
    },
    {
     "name": "stdout",
     "output_type": "stream",
     "text": [
      "[MoviePy] Done.\n",
      "PLgibBGtVH8\n",
      "493\n",
      "[MoviePy] Writing audio in C:/Users/Ankit/Documents/wpi/cs525/video_data/videos/ad_data\\PLgibBGtVH8\\Groupon 2018 Commercial with Tiffany Haddish Front Row.wav\n"
     ]
    },
    {
     "name": "stderr",
     "output_type": "stream",
     "text": [
      "\n",
      "  0%|                                                  | 0/133 [00:00<?, ?it/s]\n",
      " 21%|████████▋                                | 28/133 [00:00<00:01, 66.82it/s]\n",
      "100%|███████████████████████████████████████| 133/133 [00:00<00:00, 261.28it/s]"
     ]
    },
    {
     "name": "stdout",
     "output_type": "stream",
     "text": [
      "[MoviePy] Done.\n",
      "pliMuDmIkIM\n",
      "494\n",
      "[MoviePy] Writing audio in C:/Users/Ankit/Documents/wpi/cs525/video_data/videos/ad_data\\pliMuDmIkIM\\FENTY BEAUTY by Rihanna Sun Stalkr Instant Warmth Bronzer.wav\n"
     ]
    },
    {
     "name": "stderr",
     "output_type": "stream",
     "text": [
      "\n",
      "  0%|                                                  | 0/331 [00:00<?, ?it/s]\n",
      "  8%|███▍                                    | 28/331 [00:00<00:02, 102.56it/s]\n",
      " 61%|███████████████████████▉               | 203/331 [00:00<00:00, 142.71it/s]\n",
      "100%|███████████████████████████████████████| 331/331 [00:00<00:00, 740.45it/s]"
     ]
    },
    {
     "name": "stdout",
     "output_type": "stream",
     "text": [
      "[MoviePy] Done.\n",
      "PMJ-VI_hLDE\n",
      "495\n",
      "[MoviePy] Writing audio in C:/Users/Ankit/Documents/wpi/cs525/video_data/videos/ad_data\\PMJ-VI_hLDE\\In-Stream Video.wav\n"
     ]
    },
    {
     "name": "stderr",
     "output_type": "stream",
     "text": [
      "\n",
      "  0%|                                                  | 0/332 [00:00<?, ?it/s]\n",
      "  8%|███▎                                    | 28/332 [00:00<00:02, 130.83it/s]\n",
      " 60%|███████████████████████▎               | 198/332 [00:00<00:00, 180.94it/s]\n",
      " 76%|█████████████████████████████▌         | 252/332 [00:00<00:00, 219.95it/s]\n",
      "100%|███████████████████████████████████████| 332/332 [00:00<00:00, 681.69it/s]"
     ]
    },
    {
     "name": "stdout",
     "output_type": "stream",
     "text": [
      "[MoviePy] Done.\n",
      "pOcE6qm8rKM\n",
      "496\n",
      "[MoviePy] Writing audio in C:/Users/Ankit/Documents/wpi/cs525/video_data/videos/ad_data\\pOcE6qm8rKM\\Untitled Ad.wav\n"
     ]
    },
    {
     "name": "stderr",
     "output_type": "stream",
     "text": [
      "\n",
      "  0%|                                                  | 0/332 [00:00<?, ?it/s]\n",
      " 16%|██████▍                                 | 53/332 [00:00<00:00, 529.97it/s]\n",
      " 61%|███████████████████████▊               | 203/332 [00:00<00:00, 653.24it/s]\n",
      "100%|██████████████████████████████████████| 332/332 [00:00<00:00, 1225.02it/s]"
     ]
    },
    {
     "name": "stdout",
     "output_type": "stream",
     "text": [
      "[MoviePy] Done.\n",
      "ppkR6Ztto0g\n",
      "497\n",
      "[MoviePy] Writing audio in C:/Users/Ankit/Documents/wpi/cs525/video_data/videos/ad_data\\ppkR6Ztto0g\\Tacoma FD - Rules (Dirty) 30 - New Thursdays.wav\n"
     ]
    },
    {
     "name": "stderr",
     "output_type": "stream",
     "text": [
      "\n",
      "  0%|                                                  | 0/663 [00:00<?, ?it/s]\n",
      " 15%|█████▉                                 | 101/663 [00:00<00:00, 935.13it/s]\n",
      " 38%|██████████████▌                       | 254/663 [00:00<00:00, 1058.60it/s]\n",
      " 68%|█████████████████████████▋            | 448/663 [00:00<00:00, 1225.64it/s]\n",
      " 83%|████████████████████████████████▌      | 553/663 [00:00<00:00, 806.62it/s]\n",
      "100%|██████████████████████████████████████| 663/663 [00:00<00:00, 1092.19it/s]"
     ]
    },
    {
     "name": "stdout",
     "output_type": "stream",
     "text": [
      "[MoviePy] Done.\n",
      "pTE1wfRckuM\n",
      "498\n",
      "[MoviePy] Writing audio in C:/Users/Ankit/Documents/wpi/cs525/video_data/videos/ad_data\\pTE1wfRckuM\\QCCA 001113VH 294 GOOD GM IN PLACQ ENG SIE307TP79x24TV LEARN X1DVR TV VID15.wav\n"
     ]
    },
    {
     "name": "stderr",
     "output_type": "stream",
     "text": [
      "\n",
      "  0%|                                                  | 0/332 [00:00<?, ?it/s]\n",
      " 46%|█████████████████▍                    | 152/332 [00:00<00:00, 1433.88it/s]\n",
      " 92%|██████████████████████████████████▉   | 305/332 [00:00<00:00, 1360.07it/s]\n",
      "100%|██████████████████████████████████████| 332/332 [00:00<00:00, 1349.52it/s]"
     ]
    },
    {
     "name": "stdout",
     "output_type": "stream",
     "text": [
      "[MoviePy] Done.\n",
      "pTJYu48FzAs\n",
      "499\n",
      "[MoviePy] Writing audio in C:/Users/Ankit/Documents/wpi/cs525/video_data/videos/ad_data\\pTJYu48FzAs\\Etch-a-Sketch 1.wav\n"
     ]
    },
    {
     "name": "stderr",
     "output_type": "stream",
     "text": [
      "\n",
      "  0%|                                                  | 0/332 [00:00<?, ?it/s]\n",
      "  8%|███▍                                     | 28/332 [00:05<00:58,  5.16it/s]\n",
      " 37%|██████████████▊                         | 123/332 [00:05<00:28,  7.35it/s]\n",
      " 61%|████████████████████████▍               | 203/332 [00:05<00:12, 10.41it/s]\n",
      "100%|████████████████████████████████████████| 332/332 [00:05<00:00, 57.02it/s]"
     ]
    },
    {
     "name": "stdout",
     "output_type": "stream",
     "text": [
      "[MoviePy] Done.\n",
      "puDl23kX22I\n",
      "500\n",
      "[MoviePy] Writing audio in C:/Users/Ankit/Documents/wpi/cs525/video_data/videos/ad_data\\puDl23kX22I\\Hyundai_Genesis_Lifestyle_Apr19_IM_YT_Video_Skippable_31519_238328992.wav\n"
     ]
    },
    {
     "name": "stderr",
     "output_type": "stream",
     "text": [
      "\n",
      "  0%|                                                  | 0/332 [00:00<?, ?it/s]\n",
      " 42%|███████████████▊                      | 138/332 [00:00<00:00, 1379.92it/s]\n",
      " 61%|███████████████████████▊               | 203/332 [00:00<00:00, 903.09it/s]\n",
      "100%|██████████████████████████████████████| 332/332 [00:00<00:00, 1031.00it/s]"
     ]
    },
    {
     "name": "stdout",
     "output_type": "stream",
     "text": [
      "[MoviePy] Done.\n",
      "pux1TUpa9xk\n",
      "501\n",
      "[MoviePy] Writing audio in C:/Users/Ankit/Documents/wpi/cs525/video_data/videos/ad_data\\pux1TUpa9xk\\Keep the Koch Brothers Out of the White House.wav\n"
     ]
    },
    {
     "name": "stderr",
     "output_type": "stream",
     "text": [
      "\n",
      "  0%|                                                 | 0/1284 [00:00<?, ?it/s]\n",
      "  2%|▊                                      | 28/1284 [00:00<00:04, 271.83it/s]\n",
      "  8%|███▏                                  | 106/1284 [00:00<00:03, 337.86it/s]\n",
      " 16%|██████                                | 203/1284 [00:00<00:02, 383.14it/s]\n",
      " 26%|█████████▋                            | 328/1284 [00:00<00:01, 483.79it/s]\n",
      " 36%|█████████████▌                        | 458/1284 [00:00<00:01, 512.81it/s]\n",
      " 48%|██████████████████▏                   | 613/1284 [00:00<00:01, 641.61it/s]\n",
      " 62%|███████████████████████▌              | 796/1284 [00:00<00:00, 796.85it/s]\n",
      " 71%|███████████████████████████           | 914/1284 [00:01<00:00, 800.21it/s]\n",
      " 84%|███████████████████████████████      | 1078/1284 [00:01<00:00, 945.44it/s]\n",
      "100%|███████████████████████████████████▉| 1282/1284 [00:01<00:00, 1126.81it/s]\n",
      "100%|████████████████████████████████████| 1284/1284 [00:01<00:00, 1031.27it/s]"
     ]
    },
    {
     "name": "stdout",
     "output_type": "stream",
     "text": [
      "[MoviePy] Done.\n",
      "PVqDPfIsDHc\n",
      "502\n",
      "[MoviePy] Writing audio in C:/Users/Ankit/Documents/wpi/cs525/video_data/videos/ad_data\\PVqDPfIsDHc\\Jeff Bishop - Weekly Money Multiplier - House.wav\n"
     ]
    },
    {
     "name": "stderr",
     "output_type": "stream",
     "text": [
      "\n",
      "  0%|                                                 | 0/1873 [00:00<?, ?it/s]\n",
      "  8%|███                                  | 156/1873 [00:00<00:01, 1559.91it/s]\n",
      " 16%|██████                               | 305/1873 [00:00<00:01, 1505.59it/s]\n",
      " 24%|█████████                            | 458/1873 [00:00<00:00, 1456.63it/s]\n",
      " 34%|████████████▋                        | 643/1873 [00:00<00:00, 1555.86it/s]\n",
      " 41%|███████████████                      | 764/1873 [00:00<00:01, 1004.62it/s]\n",
      " 46%|█████████████████▌                    | 865/1873 [00:00<00:01, 931.07it/s]\n",
      " 52%|███████████████████▋                  | 972/1873 [00:00<00:00, 968.80it/s]\n",
      " 60%|█████████████████████▌              | 1121/1873 [00:00<00:00, 1080.01it/s]\n",
      " 66%|████████████████████████▍            | 1234/1873 [00:01<00:00, 936.65it/s]\n",
      " 71%|██████████████████████████▎          | 1335/1873 [00:01<00:00, 925.90it/s]\n",
      " 79%|█████████████████████████████▏       | 1478/1873 [00:01<00:00, 917.76it/s]\n",
      " 87%|███████████████████████████████▎    | 1627/1873 [00:01<00:00, 1037.26it/s]\n",
      " 95%|██████████████████████████████████▎ | 1784/1873 [00:01<00:00, 1139.71it/s]\n",
      "100%|████████████████████████████████████| 1873/1873 [00:01<00:00, 1135.09it/s]"
     ]
    },
    {
     "name": "stdout",
     "output_type": "stream",
     "text": [
      "[MoviePy] Done.\n",
      "pwBZBGtVI2U\n",
      "503\n",
      "[MoviePy] Writing audio in C:/Users/Ankit/Documents/wpi/cs525/video_data/videos/ad_data\\pwBZBGtVI2U\\Nero Its On fVO.wav\n"
     ]
    },
    {
     "name": "stderr",
     "output_type": "stream",
     "text": [
      "\n",
      "  0%|                                                 | 0/2294 [00:00<?, ?it/s]\n",
      "  1%|▍                                      | 28/2294 [00:00<00:08, 264.14it/s]\n",
      "  4%|█▋                                    | 101/2294 [00:00<00:07, 289.38it/s]\n",
      "  7%|██▌                                   | 152/2294 [00:00<00:07, 281.81it/s]\n",
      "  9%|███▎                                  | 203/2294 [00:00<00:06, 314.07it/s]\n",
      " 11%|████▏                                 | 254/2294 [00:00<00:06, 317.22it/s]\n",
      " 13%|█████                                 | 305/2294 [00:01<00:07, 268.93it/s]\n",
      " 16%|█████▉                                | 356/2294 [00:01<00:06, 299.03it/s]\n",
      " 21%|███████▊                              | 473/2294 [00:01<00:04, 385.01it/s]\n",
      " 24%|█████████▎                            | 560/2294 [00:01<00:04, 412.36it/s]\n",
      " 29%|███████████▏                          | 673/2294 [00:01<00:03, 509.41it/s]\n",
      " 38%|██████████████▎                       | 866/2294 [00:01<00:02, 649.15it/s]\n",
      " 43%|████████████████▏                     | 980/2294 [00:01<00:01, 745.43it/s]\n",
      " 50%|██████████████████▍                  | 1142/2294 [00:01<00:01, 889.49it/s]\n",
      " 56%|████████████████████▌                | 1274/2294 [00:01<00:01, 899.29it/s]\n",
      " 62%|██████████████████████▍             | 1427/2294 [00:02<00:00, 1011.93it/s]\n",
      " 69%|████████████████████████▊           | 1580/2294 [00:02<00:00, 1069.64it/s]\n",
      " 77%|███████████████████████████▌        | 1759/2294 [00:02<00:00, 1216.49it/s]\n",
      " 83%|██████████████████████████████▋      | 1899/2294 [00:02<00:00, 961.12it/s]\n",
      " 88%|████████████████████████████████▌    | 2017/2294 [00:02<00:00, 666.12it/s]\n",
      " 92%|██████████████████████████████████   | 2111/2294 [00:03<00:00, 504.33it/s]\n",
      " 95%|███████████████████████████████████▎ | 2187/2294 [00:03<00:00, 465.14it/s]\n",
      " 98%|████████████████████████████████████▎| 2252/2294 [00:03<00:00, 465.88it/s]\n",
      "100%|█████████████████████████████████████| 2294/2294 [00:03<00:00, 657.65it/s]"
     ]
    },
    {
     "name": "stdout",
     "output_type": "stream",
     "text": [
      "[MoviePy] Done.\n",
      "pxKwE4HMAhE\n",
      "504\n",
      "[MoviePy] Writing audio in C:/Users/Ankit/Documents/wpi/cs525/video_data/videos/ad_data\\pxKwE4HMAhE\\1500671140-1_TruTV Video Imp DesktopMobileTablet Demo DAR_GTE_FC.wav\n"
     ]
    },
    {
     "name": "stderr",
     "output_type": "stream",
     "text": [
      "\n",
      "  0%|                                                  | 0/332 [00:00<?, ?it/s]\n",
      "  8%|███▎                                    | 28/332 [00:00<00:02, 109.80it/s]\n",
      " 46%|█████████████████▊                     | 152/332 [00:00<00:01, 149.75it/s]\n",
      "100%|███████████████████████████████████████| 332/332 [00:00<00:00, 691.63it/s]"
     ]
    },
    {
     "name": "stdout",
     "output_type": "stream",
     "text": [
      "[MoviePy] Done.\n",
      "pYUEeOR_5Zw\n",
      "505\n",
      "[MoviePy] Writing audio in C:/Users/Ankit/Documents/wpi/cs525/video_data/videos/ad_data\\pYUEeOR_5Zw\\TopCoat F11 - 1964 Corvette Stingray (Original Paint!).wav\n"
     ]
    },
    {
     "name": "stderr",
     "output_type": "stream",
     "text": [
      "\n",
      "  0%|                                                 | 0/1434 [00:00<?, ?it/s]\n",
      "  2%|▊                                      | 28/1434 [00:00<00:05, 261.67it/s]\n",
      " 11%|████▏                                 | 160/1434 [00:00<00:03, 344.54it/s]\n",
      " 21%|████████                              | 305/1434 [00:00<00:02, 445.47it/s]\n",
      " 32%|████████████▏                         | 458/1434 [00:00<00:01, 560.19it/s]\n",
      " 45%|█████████████████▏                    | 647/1434 [00:00<00:01, 710.07it/s]\n",
      " 54%|████████████████████▍                 | 770/1434 [00:00<00:00, 808.37it/s]\n",
      " 66%|████████████████████████▉             | 943/1434 [00:00<00:00, 962.13it/s]\n",
      " 75%|███████████████████████████         | 1080/1434 [00:00<00:00, 1030.26it/s]\n",
      " 85%|██████████████████████████████▋     | 1223/1434 [00:00<00:00, 1124.55it/s]\n",
      "100%|███████████████████████████████████▊| 1427/1434 [00:01<00:00, 1297.00it/s]\n",
      "100%|████████████████████████████████████| 1434/1434 [00:01<00:00, 1377.44it/s]"
     ]
    },
    {
     "name": "stdout",
     "output_type": "stream",
     "text": [
      "[MoviePy] Done.\n",
      "p_CcljSJLPg\n",
      "506\n",
      "[MoviePy] Writing audio in C:/Users/Ankit/Documents/wpi/cs525/video_data/videos/ad_data\\p_CcljSJLPg\\Unboxed!  Num Noms  Season 4 Episode 4 More Mystery Makeup!.wav\n"
     ]
    },
    {
     "name": "stderr",
     "output_type": "stream",
     "text": [
      "\n",
      "  0%|                                                 | 0/7226 [00:00<?, ?it/s]\n",
      "  1%|▌                                     | 101/7226 [00:00<00:07, 999.94it/s]\n",
      "  4%|█▎                                   | 254/7226 [00:00<00:06, 1005.86it/s]\n",
      "  5%|█▉                                   | 384/7226 [00:00<00:06, 1079.09it/s]\n",
      "  8%|██▊                                  | 560/7226 [00:00<00:05, 1208.20it/s]\n",
      " 10%|███▊                                 | 738/7226 [00:00<00:04, 1337.03it/s]\n",
      " 12%|████▍                                | 866/7226 [00:00<00:05, 1092.92it/s]\n",
      " 14%|█████                               | 1016/7226 [00:00<00:05, 1189.78it/s]\n",
      " 16%|█████▋                              | 1139/7226 [00:00<00:05, 1174.02it/s]\n",
      " 17%|██████▎                             | 1260/7226 [00:01<00:05, 1184.57it/s]\n",
      " 20%|███████▏                            | 1437/7226 [00:01<00:04, 1315.04it/s]\n",
      " 22%|███████▊                            | 1580/7226 [00:01<00:04, 1347.52it/s]\n",
      " 24%|████████▌                           | 1719/7226 [00:01<00:04, 1336.43it/s]\n",
      " 26%|█████████▏                          | 1856/7226 [00:01<00:04, 1304.01it/s]\n",
      " 28%|█████████▉                          | 1989/7226 [00:01<00:04, 1288.80it/s]\n",
      " 30%|██████████▋                         | 2141/7226 [00:01<00:03, 1288.58it/s]\n",
      " 32%|███████████▌                        | 2325/7226 [00:01<00:03, 1415.85it/s]\n",
      " 35%|████████████▍                       | 2498/7226 [00:01<00:03, 1493.53it/s]\n",
      " 37%|█████████████▏                      | 2653/7226 [00:01<00:03, 1510.01it/s]\n",
      " 39%|██████████████▏                     | 2850/7226 [00:02<00:02, 1623.73it/s]\n",
      " 42%|███████████████                     | 3021/7226 [00:02<00:02, 1648.65it/s]\n",
      " 44%|███████████████▉                    | 3190/7226 [00:02<00:03, 1066.51it/s]\n",
      " 47%|████████████████▊                   | 3363/7226 [00:02<00:03, 1205.16it/s]\n",
      " 49%|█████████████████▌                  | 3518/7226 [00:02<00:02, 1266.02it/s]\n",
      " 51%|██████████████████▎                 | 3664/7226 [00:02<00:02, 1297.46it/s]\n",
      " 53%|███████████████████                 | 3824/7226 [00:02<00:02, 1340.88it/s]\n",
      " 55%|███████████████████▉                | 3993/7226 [00:02<00:02, 1429.45it/s]\n",
      " 58%|████████████████████▊               | 4172/7226 [00:03<00:02, 1521.36it/s]\n",
      " 60%|█████████████████████▌              | 4332/7226 [00:03<00:02, 1150.90it/s]\n",
      " 62%|██████████████████████▎             | 4481/7226 [00:03<00:02, 1235.22it/s]\n",
      " 64%|███████████████████████▏            | 4657/7226 [00:03<00:01, 1356.54it/s]\n",
      " 67%|████████████████████████            | 4821/7226 [00:03<00:01, 1430.71it/s]\n",
      " 69%|████████████████████████▉           | 4997/7226 [00:03<00:01, 1330.17it/s]\n",
      " 71%|█████████████████████████▋          | 5150/7226 [00:03<00:01, 1369.52it/s]\n",
      " 73%|██████████████████████████▎         | 5294/7226 [00:03<00:01, 1268.67it/s]\n",
      " 75%|███████████████████████████▏        | 5455/7226 [00:04<00:01, 1354.82it/s]\n",
      " 78%|████████████████████████████        | 5621/7226 [00:04<00:01, 1433.88it/s]\n",
      " 80%|█████████████████████████████▌       | 5770/7226 [00:05<00:04, 333.44it/s]\n",
      " 81%|██████████████████████████████       | 5878/7226 [00:05<00:03, 350.61it/s]\n",
      " 83%|██████████████████████████████▊      | 6017/7226 [00:05<00:02, 424.66it/s]\n",
      " 85%|███████████████████████████████▌     | 6168/7226 [00:05<00:01, 541.40it/s]\n",
      " 87%|████████████████████████████████▏    | 6275/7226 [00:06<00:01, 635.60it/s]\n",
      " 90%|█████████████████████████████████    | 6468/7226 [00:06<00:00, 795.68it/s]\n",
      " 91%|█████████████████████████████████▊   | 6601/7226 [00:06<00:00, 864.15it/s]\n",
      " 93%|██████████████████████████████████▌  | 6745/7226 [00:06<00:00, 981.94it/s]\n",
      " 96%|██████████████████████████████████▌ | 6925/7226 [00:06<00:00, 1136.95it/s]\n",
      " 98%|███████████████████████████████████▏| 7071/7226 [00:06<00:00, 1173.71it/s]\n",
      "100%|████████████████████████████████████| 7226/7226 [00:06<00:00, 1075.72it/s]"
     ]
    },
    {
     "name": "stdout",
     "output_type": "stream",
     "text": [
      "[MoviePy] Done.\n",
      "Q-nP7RjqRLI\n",
      "507\n",
      "[MoviePy] Writing audio in C:/Users/Ankit/Documents/wpi/cs525/video_data/videos/ad_data\\Q-nP7RjqRLI\\Inspire.wav\n"
     ]
    },
    {
     "name": "stderr",
     "output_type": "stream",
     "text": [
      "\n",
      "  0%|                                                  | 0/333 [00:00<?, ?it/s]\n",
      " 46%|█████████████████▎                    | 152/333 [00:00<00:00, 1475.65it/s]\n",
      "100%|██████████████████████████████████████| 333/333 [00:00<00:00, 1698.88it/s]"
     ]
    },
    {
     "name": "stdout",
     "output_type": "stream",
     "text": [
      "[MoviePy] Done.\n",
      "Q14tTTQM2Rw\n",
      "508\n",
      "[MoviePy] Writing audio in C:/Users/Ankit/Documents/wpi/cs525/video_data/videos/ad_data\\Q14tTTQM2Rw\\Get programming skills Pay later.wav\n"
     ]
    },
    {
     "name": "stderr",
     "output_type": "stream",
     "text": [
      "\n",
      "  0%|                                                 | 0/3590 [00:00<?, ?it/s]\n",
      "  1%|▎                                      | 28/3590 [00:00<00:17, 198.57it/s]\n",
      "  5%|██                                    | 195/3590 [00:00<00:12, 269.92it/s]\n",
      "  9%|███▌                                  | 337/3590 [00:00<00:09, 356.55it/s]\n",
      " 12%|████▋                                 | 445/3590 [00:00<00:07, 446.22it/s]\n",
      " 17%|██████▎                               | 602/3590 [00:00<00:05, 568.23it/s]\n",
      " 21%|████████                              | 764/3590 [00:00<00:04, 650.42it/s]\n",
      " 24%|█████████▏                            | 870/3590 [00:00<00:03, 683.07it/s]\n",
      " 28%|██████████▍                          | 1007/3590 [00:00<00:03, 804.00it/s]\n",
      " 33%|████████████                         | 1172/3590 [00:01<00:02, 935.60it/s]\n",
      " 38%|█████████████▋                      | 1359/3590 [00:01<00:02, 1100.57it/s]\n",
      " 43%|███████████████▎                    | 1529/3590 [00:01<00:01, 1160.19it/s]\n",
      " 47%|████████████████▊                   | 1682/3590 [00:01<00:01, 1165.14it/s]\n",
      " 52%|██████████████████▌                 | 1851/3590 [00:01<00:01, 1284.83it/s]\n",
      " 57%|████████████████████▍               | 2039/3590 [00:01<00:01, 1406.89it/s]\n",
      " 61%|██████████████████████              | 2194/3590 [00:01<00:01, 1056.40it/s]\n",
      " 67%|████████████████████████            | 2396/3590 [00:01<00:00, 1202.01it/s]\n",
      " 72%|█████████████████████████▉          | 2587/3590 [00:02<00:00, 1352.38it/s]\n",
      " 77%|███████████████████████████▋        | 2766/3590 [00:02<00:00, 1459.40it/s]\n",
      " 82%|█████████████████████████████▍      | 2930/3590 [00:02<00:00, 1468.69it/s]\n",
      " 87%|███████████████████████████████▏    | 3110/3590 [00:02<00:00, 1554.50it/s]\n",
      " 92%|█████████████████████████████████   | 3301/3590 [00:02<00:00, 1646.41it/s]\n",
      " 97%|██████████████████████████████████▊ | 3475/3590 [00:02<00:00, 1673.39it/s]\n",
      "100%|████████████████████████████████████| 3590/3590 [00:02<00:00, 1358.74it/s]"
     ]
    },
    {
     "name": "stdout",
     "output_type": "stream",
     "text": [
      "[MoviePy] Done.\n",
      "Q1c6PmxZ2ZM\n",
      "509\n",
      "[MoviePy] Writing audio in C:/Users/Ankit/Documents/wpi/cs525/video_data/videos/ad_data\\Q1c6PmxZ2ZM\\Are vegans & vegetarians healthy.wav\n"
     ]
    },
    {
     "name": "stderr",
     "output_type": "stream",
     "text": [
      "\n",
      "  0%|                                                 | 0/6997 [00:00<?, ?it/s]\n",
      "  0%|▏                                      | 28/6997 [00:00<00:57, 120.68it/s]\n",
      "  2%|▊                                     | 145/6997 [00:00<00:41, 165.10it/s]\n",
      "  4%|█▎                                    | 253/6997 [00:00<00:30, 220.95it/s]\n",
      "  5%|█▉                                    | 355/6997 [00:00<00:22, 288.83it/s]\n",
      "  7%|██▌                                   | 479/6997 [00:00<00:17, 375.16it/s]\n",
      "  8%|███                                   | 566/6997 [00:00<00:15, 423.29it/s]\n",
      "  9%|███▌                                  | 659/6997 [00:00<00:13, 480.13it/s]\n",
      " 12%|████▍                                 | 810/6997 [00:01<00:10, 563.12it/s]\n",
      " 13%|████▊                                 | 892/6997 [00:01<00:09, 620.11it/s]\n",
      " 14%|█████▎                                | 974/6997 [00:01<00:09, 653.04it/s]\n",
      " 16%|█████▉                               | 1114/6997 [00:01<00:07, 758.52it/s]\n",
      " 17%|██████▍                              | 1207/6997 [00:01<00:09, 639.05it/s]\n",
      " 19%|██████▉                              | 1317/6997 [00:01<00:08, 661.08it/s]\n",
      " 20%|███████▎                             | 1394/6997 [00:01<00:08, 634.08it/s]\n",
      " 21%|███████▊                             | 1469/6997 [00:01<00:08, 659.64it/s]\n",
      " 23%|████████▌                            | 1614/6997 [00:02<00:06, 788.59it/s]\n",
      " 25%|█████████                            | 1722/6997 [00:02<00:06, 836.11it/s]\n",
      " 27%|█████████▉                           | 1874/6997 [00:02<00:05, 885.48it/s]\n",
      " 28%|██████████▍                          | 1972/6997 [00:02<00:06, 800.16it/s]\n",
      " 30%|██████████▉                          | 2072/6997 [00:02<00:05, 851.18it/s]\n",
      " 31%|███████████▌                         | 2178/6997 [00:02<00:05, 900.02it/s]\n",
      " 33%|████████████▎                        | 2330/6997 [00:02<00:04, 939.89it/s]\n",
      " 35%|█████████████                        | 2482/6997 [00:02<00:04, 990.83it/s]\n",
      " 38%|█████████████▌                      | 2638/6997 [00:03<00:03, 1112.59it/s]\n",
      " 40%|██████████████▎                     | 2770/6997 [00:03<00:03, 1167.62it/s]\n",
      " 41%|██████████████▉                     | 2893/6997 [00:03<00:03, 1178.82it/s]\n",
      " 43%|███████████████▌                    | 3016/6997 [00:03<00:03, 1173.21it/s]\n",
      " 45%|████████████████▏                   | 3140/6997 [00:03<00:03, 1182.22it/s]\n",
      " 47%|█████████████████                   | 3313/6997 [00:03<00:02, 1306.29it/s]\n",
      " 50%|█████████████████▉                  | 3492/6997 [00:03<00:02, 1421.51it/s]\n",
      " 52%|██████████████████▋                 | 3641/6997 [00:03<00:02, 1206.72it/s]\n",
      " 54%|███████████████████▌                | 3798/6997 [00:03<00:02, 1280.85it/s]\n",
      " 56%|████████████████████▎               | 3950/6997 [00:04<00:02, 1254.41it/s]\n",
      " 59%|█████████████████████               | 4102/6997 [00:04<00:02, 1136.67it/s]\n",
      " 61%|█████████████████████▉              | 4268/6997 [00:04<00:02, 1255.39it/s]\n",
      " 63%|██████████████████████▋             | 4406/6997 [00:04<00:02, 1268.97it/s]\n",
      " 66%|███████████████████████▋            | 4599/6997 [00:04<00:01, 1414.27it/s]\n",
      " 68%|████████████████████████▌           | 4771/6997 [00:04<00:01, 1493.91it/s]\n",
      " 70%|█████████████████████████▎          | 4929/6997 [00:04<00:01, 1416.58it/s]\n",
      " 73%|██████████████████████████▎         | 5115/6997 [00:04<00:01, 1507.13it/s]\n",
      " 76%|███████████████████████████▎        | 5309/6997 [00:04<00:01, 1615.23it/s]\n",
      " 78%|████████████████████████████▏       | 5477/6997 [00:05<00:00, 1539.75it/s]\n",
      " 81%|█████████████████████████████▏      | 5669/6997 [00:05<00:00, 1636.98it/s]\n",
      " 83%|██████████████████████████████      | 5839/6997 [00:05<00:00, 1645.75it/s]\n",
      " 86%|██████████████████████████████▉     | 6008/6997 [00:05<00:00, 1323.57it/s]\n",
      " 88%|███████████████████████████████▊    | 6178/6997 [00:05<00:00, 1224.68it/s]\n",
      " 90%|████████████████████████████████▍   | 6312/6997 [00:05<00:00, 1257.12it/s]\n",
      " 92%|█████████████████████████████████▏  | 6446/6997 [00:05<00:00, 1255.66it/s]\n",
      " 95%|██████████████████████████████████  | 6632/6997 [00:05<00:00, 1391.25it/s]\n",
      " 97%|██████████████████████████████████▉ | 6802/6997 [00:06<00:00, 1471.40it/s]\n",
      "100%|████████████████████████████████████| 6997/6997 [00:06<00:00, 1135.26it/s]"
     ]
    },
    {
     "name": "stdout",
     "output_type": "stream",
     "text": [
      "[MoviePy] Done.\n",
      "q32ehZrp658\n",
      "510\n",
      "[MoviePy] Writing audio in C:/Users/Ankit/Documents/wpi/cs525/video_data/videos/ad_data\\q32ehZrp658\\Glass Building Social Animation.wav\n"
     ]
    },
    {
     "name": "stderr",
     "output_type": "stream",
     "text": [
      "\n",
      "  0%|                                                  | 0/333 [00:00<?, ?it/s]\n",
      " 30%|███████████▊                           | 101/333 [00:00<00:00, 848.69it/s]\n",
      " 64%|████████████████████████▊              | 212/333 [00:00<00:00, 913.17it/s]\n",
      "100%|██████████████████████████████████████| 333/333 [00:00<00:00, 1172.47it/s]"
     ]
    },
    {
     "name": "stdout",
     "output_type": "stream",
     "text": [
      "[MoviePy] Done.\n",
      "q3UhWXJzZ-A\n",
      "511\n",
      "[MoviePy] Writing audio in C:/Users/Ankit/Documents/wpi/cs525/video_data/videos/ad_data\\q3UhWXJzZ-A\\How to Inspire Extra Effort and Attention.wav\n"
     ]
    },
    {
     "name": "stderr",
     "output_type": "stream",
     "text": [
      "\n",
      "  0%|                                                 | 0/2264 [00:00<?, ?it/s]\n",
      "  1%|▍                                       | 28/2264 [00:00<00:24, 92.40it/s]\n",
      "  4%|█▋                                    | 101/2264 [00:00<00:17, 124.13it/s]\n",
      " 10%|███▉                                  | 233/2264 [00:00<00:11, 170.45it/s]\n",
      " 13%|████▊                                 | 288/2264 [00:00<00:09, 199.51it/s]\n",
      " 20%|███████▋                              | 458/2264 [00:00<00:06, 270.46it/s]\n",
      " 25%|█████████▍                            | 560/2264 [00:01<00:05, 300.62it/s]\n",
      " 30%|███████████▎                          | 673/2264 [00:01<00:04, 385.50it/s]\n",
      " 37%|█████████████▉                        | 834/2264 [00:01<00:02, 499.46it/s]\n",
      " 43%|████████████████▏                     | 968/2264 [00:01<00:02, 606.87it/s]\n",
      " 48%|█████████████████▋                   | 1079/2264 [00:01<00:01, 662.15it/s]\n",
      " 54%|███████████████████▉                 | 1223/2264 [00:01<00:01, 749.48it/s]\n",
      " 62%|██████████████████████▊              | 1396/2264 [00:01<00:00, 903.01it/s]\n",
      " 68%|████████████████████████▉            | 1529/2264 [00:01<00:00, 896.22it/s]\n",
      " 74%|██████████████████████████▋         | 1682/2264 [00:01<00:00, 1005.23it/s]\n",
      " 81%|█████████████████████████████       | 1830/2264 [00:02<00:00, 1112.26it/s]\n",
      " 87%|███████████████████████████████▏    | 1960/2264 [00:02<00:00, 1159.50it/s]\n",
      " 94%|█████████████████████████████████▉  | 2134/2264 [00:02<00:00, 1288.44it/s]\n",
      "100%|█████████████████████████████████████| 2264/2264 [00:02<00:00, 958.86it/s]"
     ]
    },
    {
     "name": "stdout",
     "output_type": "stream",
     "text": [
      "[MoviePy] Done.\n",
      "Q5aSBVqUlx0\n",
      "512\n",
      "[MoviePy] Writing audio in C:/Users/Ankit/Documents/wpi/cs525/video_data/videos/ad_data\\Q5aSBVqUlx0\\Ortho® GroundClear® - Eulogy Gathering 15s Spot.wav\n"
     ]
    },
    {
     "name": "stderr",
     "output_type": "stream",
     "text": [
      "\n",
      "  0%|                                                  | 0/332 [00:00<?, ?it/s]\n",
      " 30%|███████████▊                           | 101/332 [00:00<00:00, 782.90it/s]\n",
      " 46%|█████████████████▊                     | 152/332 [00:00<00:00, 592.32it/s]\n",
      " 61%|███████████████████████▊               | 203/332 [00:00<00:00, 404.84it/s]\n",
      " 77%|█████████████████████████████▊         | 254/332 [00:00<00:00, 360.97it/s]\n",
      "100%|███████████████████████████████████████| 332/332 [00:00<00:00, 448.02it/s]"
     ]
    },
    {
     "name": "stdout",
     "output_type": "stream",
     "text": [
      "[MoviePy] Done.\n",
      "q64GbONp5hM\n",
      "513\n",
      "[MoviePy] Writing audio in C:/Users/Ankit/Documents/wpi/cs525/video_data/videos/ad_data\\q64GbONp5hM\\MCWA757519TH_EvenMoreGCM_15_Unslated_Innovid.wav\n"
     ]
    },
    {
     "name": "stderr",
     "output_type": "stream",
     "text": [
      "\n",
      "  0%|                                                  | 0/332 [00:00<?, ?it/s]\n",
      "  9%|███▌                                    | 30/332 [00:00<00:01, 299.98it/s]\n",
      " 30%|███████████▊                           | 101/332 [00:00<00:00, 285.74it/s]\n",
      " 46%|█████████████████▊                     | 152/332 [00:00<00:00, 239.61it/s]\n",
      " 61%|███████████████████████▊               | 203/332 [00:00<00:00, 263.71it/s]\n",
      " 77%|█████████████████████████████▊         | 254/332 [00:01<00:00, 265.52it/s]\n",
      "100%|███████████████████████████████████████| 332/332 [00:01<00:00, 311.72it/s]"
     ]
    },
    {
     "name": "stdout",
     "output_type": "stream",
     "text": [
      "[MoviePy] Done.\n",
      "q6sTTz-YkkY\n",
      "514\n",
      "[MoviePy] Writing audio in C:/Users/Ankit/Documents/wpi/cs525/video_data/videos/ad_data\\q6sTTz-YkkY\\Flashtalking vast template 20.wav\n"
     ]
    },
    {
     "name": "stderr",
     "output_type": "stream",
     "text": [
      "\n",
      "  0%|                                                  | 0/332 [00:00<?, ?it/s]\n",
      "  8%|███▍                                     | 28/332 [00:00<00:04, 64.36it/s]\n",
      " 46%|██████████████████▎                     | 152/332 [00:00<00:02, 89.64it/s]\n",
      " 93%|████████████████████████████████████▍  | 310/332 [00:00<00:00, 125.01it/s]\n",
      "100%|███████████████████████████████████████| 332/332 [00:00<00:00, 500.73it/s]"
     ]
    },
    {
     "name": "stdout",
     "output_type": "stream",
     "text": [
      "[MoviePy] Done.\n",
      "Qa9XLypI5TY\n",
      "515\n",
      "[MoviePy] Writing audio in C:/Users/Ankit/Documents/wpi/cs525/video_data/videos/ad_data\\Qa9XLypI5TY\\X1 Boston Be A Champion..wav\n"
     ]
    },
    {
     "name": "stderr",
     "output_type": "stream",
     "text": [
      "\n",
      "  0%|                                                  | 0/348 [00:00<?, ?it/s]\n",
      "  8%|███▏                                    | 28/348 [00:00<00:01, 166.66it/s]\n",
      " 44%|█████████████████                      | 152/348 [00:00<00:00, 223.77it/s]\n",
      "100%|███████████████████████████████████████| 348/348 [00:00<00:00, 920.58it/s]"
     ]
    },
    {
     "name": "stdout",
     "output_type": "stream",
     "text": [
      "[MoviePy] Done.\n",
      "qaJJkPctXko\n",
      "516\n",
      "[MoviePy] Writing audio in C:/Users/Ankit/Documents/wpi/cs525/video_data/videos/ad_data\\qaJJkPctXko\\Baby  Drive Up  Pampers  15secs  EL..wav\n"
     ]
    },
    {
     "name": "stderr",
     "output_type": "stream",
     "text": [
      "\n",
      "  0%|                                                  | 0/331 [00:00<?, ?it/s]\n",
      "  8%|███▍                                     | 28/331 [00:00<00:04, 66.35it/s]\n",
      " 46%|██████████████████▎                     | 152/331 [00:00<00:01, 92.45it/s]\n",
      "100%|███████████████████████████████████████| 331/331 [00:00<00:00, 522.88it/s]"
     ]
    },
    {
     "name": "stdout",
     "output_type": "stream",
     "text": [
      "[MoviePy] Done.\n",
      "qAwykAR0j88\n",
      "517\n",
      "[MoviePy] Writing audio in C:/Users/Ankit/Documents/wpi/cs525/video_data/videos/ad_data\\qAwykAR0j88\\Get Chrome now and get answers before you finish typi.wav\n"
     ]
    },
    {
     "name": "stderr",
     "output_type": "stream",
     "text": [
      "\n",
      "  0%|                                                  | 0/376 [00:00<?, ?it/s]\n",
      " 16%|██████▎                                 | 59/376 [00:00<00:00, 589.97it/s]\n",
      " 54%|█████████████████████                  | 203/376 [00:00<00:00, 707.41it/s]\n",
      " 81%|███████████████████████████████▋       | 305/376 [00:00<00:00, 712.12it/s]\n",
      "100%|███████████████████████████████████████| 376/376 [00:00<00:00, 912.57it/s]"
     ]
    },
    {
     "name": "stdout",
     "output_type": "stream",
     "text": [
      "[MoviePy] Done.\n",
      "Qbll0WwDpCE\n",
      "518\n",
      "[MoviePy] Writing audio in C:/Users/Ankit/Documents/wpi/cs525/video_data/videos/ad_data\\Qbll0WwDpCE\\Dear Sports Listen Up! Golf is Here To Create.wav\n"
     ]
    },
    {
     "name": "stderr",
     "output_type": "stream",
     "text": [
      "\n",
      "  0%|                                                 | 0/1325 [00:00<?, ?it/s]\n",
      "  2%|▊                                      | 28/1325 [00:00<00:05, 243.46it/s]\n",
      "  8%|██▉                                   | 101/1325 [00:00<00:04, 283.40it/s]\n",
      " 15%|█████▊                                | 203/1325 [00:00<00:03, 354.97it/s]\n",
      " 23%|████████▋                             | 305/1325 [00:00<00:02, 437.87it/s]\n",
      " 30%|███████████▌                          | 403/1325 [00:00<00:01, 525.00it/s]\n",
      " 36%|█████████████▌                        | 472/1325 [00:00<00:01, 510.34it/s]\n",
      " 42%|████████████████                      | 560/1325 [00:00<00:01, 541.85it/s]\n",
      " 47%|█████████████████▊                    | 623/1325 [00:01<00:01, 475.87it/s]\n",
      " 51%|███████████████████▍                  | 679/1325 [00:01<00:01, 487.90it/s]\n",
      " 63%|████████████████████████              | 839/1325 [00:01<00:00, 616.43it/s]\n",
      " 73%|███████████████████████████▊          | 968/1325 [00:01<00:00, 727.21it/s]\n",
      " 80%|█████████████████████████████▊       | 1066/1325 [00:01<00:00, 369.75it/s]\n",
      " 90%|█████████████████████████████████▍   | 1196/1325 [00:02<00:00, 470.82it/s]\n",
      " 97%|███████████████████████████████████▉ | 1287/1325 [00:02<00:00, 499.73it/s]\n",
      "100%|█████████████████████████████████████| 1325/1325 [00:02<00:00, 599.78it/s]"
     ]
    },
    {
     "name": "stdout",
     "output_type": "stream",
     "text": [
      "[MoviePy] Done.\n",
      "qD6FDkUXSZQ\n",
      "519\n",
      "[MoviePy] Writing audio in C:/Users/Ankit/Documents/wpi/cs525/video_data/videos/ad_data\\qD6FDkUXSZQ\\Yesterday - In Theaters June 28 (HD).wav\n"
     ]
    },
    {
     "name": "stderr",
     "output_type": "stream",
     "text": [
      "\n",
      "  0%|                                                 | 0/4194 [00:00<?, ?it/s]\n",
      "  1%|▎                                       | 28/4194 [00:02<05:17, 13.13it/s]\n",
      "  2%|▉                                      | 101/4194 [00:02<03:41, 18.50it/s]\n",
      "  5%|█▉                                     | 203/4194 [00:02<02:32, 26.19it/s]\n",
      "  7%|██▉                                    | 314/4194 [00:02<01:44, 37.04it/s]\n",
      " 11%|████▍                                  | 473/4194 [00:02<01:11, 52.39it/s]\n",
      " 16%|██████▏                                | 662/4194 [00:02<00:47, 73.93it/s]\n",
      " 21%|███████▊                              | 861/4194 [00:02<00:32, 103.96it/s]\n",
      " 25%|█████████                            | 1032/4194 [00:02<00:21, 144.75it/s]\n",
      " 28%|██████████▍                          | 1190/4194 [00:03<00:15, 198.97it/s]\n",
      " 32%|███████████▉                         | 1359/4194 [00:03<00:10, 270.59it/s]\n",
      " 36%|█████████████▍                       | 1517/4194 [00:03<00:08, 333.87it/s]\n",
      " 40%|██████████████▊                      | 1682/4194 [00:03<00:05, 422.05it/s]\n",
      " 43%|███████████████▉                     | 1808/4194 [00:03<00:05, 476.40it/s]\n",
      " 47%|█████████████████▍                   | 1979/4194 [00:03<00:03, 607.98it/s]\n",
      " 51%|██████████████████▉                  | 2143/4194 [00:03<00:02, 749.46it/s]\n",
      " 56%|████████████████████▋                | 2343/4194 [00:03<00:02, 922.50it/s]\n",
      " 60%|██████████████████████               | 2500/4194 [00:04<00:02, 825.29it/s]\n",
      " 63%|███████████████████████▏             | 2630/4194 [00:04<00:01, 791.39it/s]\n",
      " 67%|████████████████████████▋            | 2804/4194 [00:04<00:01, 936.95it/s]\n",
      " 71%|██████████████████████████           | 2957/4194 [00:04<00:01, 864.36it/s]\n",
      " 73%|███████████████████████████          | 3069/4194 [00:04<00:01, 793.73it/s]\n",
      " 78%|████████████████████████████▊        | 3263/4194 [00:04<00:00, 951.95it/s]\n",
      " 82%|█████████████████████████████▌      | 3445/4194 [00:05<00:00, 1110.89it/s]\n",
      " 86%|██████████████████████████████▊     | 3586/4194 [00:05<00:00, 1134.81it/s]\n",
      " 89%|███████████████████████████████▉    | 3722/4194 [00:05<00:00, 1194.11it/s]\n",
      " 92%|█████████████████████████████████▎  | 3875/4194 [00:05<00:00, 1231.96it/s]\n",
      " 96%|██████████████████████████████████▍ | 4010/4194 [00:05<00:00, 1178.94it/s]\n",
      "100%|███████████████████████████████████▊| 4179/4194 [00:05<00:00, 1296.55it/s]\n",
      "100%|█████████████████████████████████████| 4194/4194 [00:05<00:00, 738.73it/s]"
     ]
    },
    {
     "name": "stdout",
     "output_type": "stream",
     "text": [
      "[MoviePy] Done.\n",
      "QDwMgTx0C_o\n",
      "520\n",
      "[MoviePy] Writing audio in C:/Users/Ankit/Documents/wpi/cs525/video_data/videos/ad_data\\QDwMgTx0C_o\\Pulp-Fiction_life-on-iPad_15_BM.wav\n"
     ]
    },
    {
     "name": "stderr",
     "output_type": "stream",
     "text": [
      "\n",
      "  0%|                                                  | 0/332 [00:00<?, ?it/s]\n",
      "  8%|███▎                                    | 28/332 [00:00<00:01, 229.50it/s]\n",
      " 30%|███████████▊                           | 101/332 [00:00<00:00, 268.81it/s]\n",
      " 60%|███████████████████████▍               | 200/332 [00:00<00:00, 280.77it/s]\n",
      " 81%|███████████████████████████████▍       | 268/332 [00:00<00:00, 340.79it/s]\n",
      "100%|███████████████████████████████████████| 332/332 [00:00<00:00, 447.41it/s]"
     ]
    },
    {
     "name": "stdout",
     "output_type": "stream",
     "text": [
      "[MoviePy] Done.\n",
      "qG9b_7NIUCQ\n",
      "521\n",
      "[MoviePy] Writing audio in C:/Users/Ankit/Documents/wpi/cs525/video_data/videos/ad_data\\qG9b_7NIUCQ\\video.wav\n"
     ]
    },
    {
     "name": "stderr",
     "output_type": "stream",
     "text": [
      "\n",
      "  0%|                                                  | 0/332 [00:00<?, ?it/s]\n",
      " 30%|███████████▊                           | 101/332 [00:00<00:00, 893.75it/s]\n",
      " 46%|█████████████████▊                     | 152/332 [00:00<00:00, 699.15it/s]\n",
      " 61%|███████████████████████▊               | 203/332 [00:00<00:00, 613.25it/s]\n",
      "100%|███████████████████████████████████████| 332/332 [00:00<00:00, 834.12it/s]"
     ]
    },
    {
     "name": "stdout",
     "output_type": "stream",
     "text": [
      "[MoviePy] Done.\n",
      "qg9XswNrap4\n",
      "522\n",
      "[MoviePy] Writing audio in C:/Users/Ankit/Documents/wpi/cs525/video_data/videos/ad_data\\qg9XswNrap4\\When You Feel Cared For - Beth Israel Lahey Health  - Be Again (60).wav\n"
     ]
    },
    {
     "name": "stderr",
     "output_type": "stream",
     "text": [
      "\n",
      "  0%|                                                 | 0/1325 [00:00<?, ?it/s]\n",
      "  3%|█                                      | 38/1325 [00:00<00:03, 379.98it/s]\n",
      "  8%|██▉                                   | 102/1325 [00:00<00:02, 431.84it/s]\n",
      " 16%|██████▏                               | 215/1325 [00:00<00:02, 530.09it/s]\n",
      " 27%|██████████▏                           | 356/1325 [00:00<00:01, 651.28it/s]\n",
      " 38%|██████████████▌                       | 509/1325 [00:00<00:01, 785.63it/s]\n",
      " 47%|█████████████████▋                    | 618/1325 [00:00<00:00, 857.45it/s]\n",
      " 54%|████████████████████▋                 | 722/1325 [00:00<00:00, 823.40it/s]\n",
      " 62%|███████████████████████▍              | 817/1325 [00:00<00:00, 832.86it/s]\n",
      " 69%|██████████████████████████            | 910/1325 [00:00<00:00, 859.79it/s]\n",
      " 78%|█████████████████████████████        | 1039/1325 [00:01<00:00, 955.36it/s]\n",
      " 86%|███████████████████████████████▉     | 1143/1325 [00:01<00:00, 622.36it/s]\n",
      "100%|█████████████████████████████████████| 1325/1325 [00:01<00:00, 774.44it/s]"
     ]
    },
    {
     "name": "stdout",
     "output_type": "stream",
     "text": [
      "[MoviePy] Done.\n",
      "QJfKjCLCApA\n",
      "523\n",
      "[MoviePy] Writing audio in C:/Users/Ankit/Documents/wpi/cs525/video_data/videos/ad_data\\QJfKjCLCApA\\Untitled Ad.wav\n"
     ]
    },
    {
     "name": "stderr",
     "output_type": "stream",
     "text": [
      "\n",
      "  0%|                                                  | 0/335 [00:00<?, ?it/s]\n",
      "  8%|███▍                                     | 28/335 [00:00<00:06, 47.06it/s]\n",
      " 45%|██████████████████▏                     | 152/335 [00:00<00:02, 65.41it/s]\n",
      " 87%|██████████████████████████████████▉     | 293/335 [00:00<00:00, 91.63it/s]\n",
      "100%|███████████████████████████████████████| 335/335 [00:00<00:00, 373.45it/s]"
     ]
    },
    {
     "name": "stdout",
     "output_type": "stream",
     "text": [
      "[MoviePy] Done.\n",
      "qk-j9nBrFig\n",
      "524\n",
      "[MoviePy] Writing audio in C:/Users/Ankit/Documents/wpi/cs525/video_data/videos/ad_data\\qk-j9nBrFig\\YTTV PFU 15s Digital V09 NoniOS.wav\n"
     ]
    },
    {
     "name": "stderr",
     "output_type": "stream",
     "text": [
      "\n",
      "  0%|                                                  | 0/332 [00:00<?, ?it/s]\n",
      "  8%|███▍                                     | 28/332 [00:01<00:11, 26.00it/s]\n",
      " 30%|████████████▏                           | 101/332 [00:01<00:06, 36.51it/s]\n",
      " 66%|██████████████████████████▎             | 218/332 [00:01<00:02, 51.47it/s]\n",
      "100%|███████████████████████████████████████| 332/332 [00:01<00:00, 245.73it/s]"
     ]
    },
    {
     "name": "stdout",
     "output_type": "stream",
     "text": [
      "[MoviePy] Done.\n",
      "qLkHBEt1ZkY\n",
      "525\n",
      "[MoviePy] Writing audio in C:/Users/Ankit/Documents/wpi/cs525/video_data/videos/ad_data\\qLkHBEt1ZkY\\Untitled Ad.wav\n"
     ]
    },
    {
     "name": "stderr",
     "output_type": "stream",
     "text": [
      "\n",
      "  0%|                                                  | 0/332 [00:00<?, ?it/s]\n",
      "  8%|███▎                                    | 28/332 [00:00<00:01, 183.00it/s]\n",
      " 51%|███████████████████▋                   | 168/332 [00:00<00:00, 247.55it/s]\n",
      " 84%|████████████████████████████████▋      | 278/332 [00:00<00:00, 322.54it/s]\n",
      "100%|███████████████████████████████████████| 332/332 [00:00<00:00, 724.85it/s]"
     ]
    },
    {
     "name": "stdout",
     "output_type": "stream",
     "text": [
      "[MoviePy] Done.\n",
      "qmdGGbms8Ss\n",
      "526\n",
      "[MoviePy] Writing audio in C:/Users/Ankit/Documents/wpi/cs525/video_data/videos/ad_data\\qmdGGbms8Ss\\Video 2 7627396 7627757..wav\n"
     ]
    },
    {
     "name": "stderr",
     "output_type": "stream",
     "text": [
      "\n",
      "  0%|                                                  | 0/443 [00:00<?, ?it/s]\n",
      "  6%|██▌                                      | 28/443 [00:00<00:06, 62.22it/s]\n",
      " 43%|█████████████████▏                      | 191/443 [00:00<00:02, 87.45it/s]\n",
      " 84%|████████████████████████████████▋      | 371/443 [00:00<00:00, 122.38it/s]\n",
      "100%|███████████████████████████████████████| 443/443 [00:00<00:00, 641.99it/s]"
     ]
    },
    {
     "name": "stdout",
     "output_type": "stream",
     "text": [
      "[MoviePy] Done.\n",
      "qmIMv1RKd7Y\n",
      "527\n",
      "[MoviePy] Writing audio in C:/Users/Ankit/Documents/wpi/cs525/video_data/videos/ad_data\\qmIMv1RKd7Y\\Contextual Animal Video.wav\n"
     ]
    },
    {
     "name": "stderr",
     "output_type": "stream",
     "text": [
      "\n",
      "  0%|                                                  | 0/332 [00:00<?, ?it/s]\n",
      "  8%|███▎                                    | 28/332 [00:00<00:01, 215.37it/s]\n",
      " 57%|██████████████████████▎                | 190/332 [00:00<00:00, 291.09it/s]\n",
      " 96%|█████████████████████████████████████▌ | 320/332 [00:00<00:00, 379.43it/s]\n",
      "100%|███████████████████████████████████████| 332/332 [00:00<00:00, 982.19it/s]"
     ]
    },
    {
     "name": "stdout",
     "output_type": "stream",
     "text": [
      "[MoviePy] Done.\n",
      "QNoOUR_L-PU\n",
      "528\n",
      "[MoviePy] Writing audio in C:/Users/Ankit/Documents/wpi/cs525/video_data/videos/ad_data\\QNoOUR_L-PU\\1500635114-1_2Q19 TBS Video Imp DesktopMobileTablet Demo DAR_P35-54_1xHOUR FC.wav\n"
     ]
    },
    {
     "name": "stderr",
     "output_type": "stream",
     "text": [
      "\n",
      "  0%|                                                  | 0/332 [00:00<?, ?it/s]\n",
      " 47%|█████████████████▋                    | 155/332 [00:00<00:00, 1549.91it/s]\n",
      "100%|██████████████████████████████████████| 332/332 [00:00<00:00, 1738.12it/s]"
     ]
    },
    {
     "name": "stdout",
     "output_type": "stream",
     "text": [
      "[MoviePy] Done.\n",
      "QoFk6iP3nD0\n",
      "529\n",
      "[MoviePy] Writing audio in C:/Users/Ankit/Documents/wpi/cs525/video_data/videos/ad_data\\QoFk6iP3nD0\\Florida Adventures  15  Expedia.wav\n"
     ]
    },
    {
     "name": "stderr",
     "output_type": "stream",
     "text": [
      "\n",
      "  0%|                                                  | 0/332 [00:00<?, ?it/s]\n",
      "  8%|███▍                                     | 28/332 [00:00<00:03, 92.71it/s]\n",
      " 30%|████████████▏                           | 101/332 [00:01<00:02, 92.79it/s]\n",
      " 46%|██████████████████▎                     | 152/332 [00:02<00:02, 76.80it/s]\n",
      " 61%|████████████████████████▍               | 203/332 [00:02<00:01, 87.52it/s]\n",
      "100%|███████████████████████████████████████| 332/332 [00:02<00:00, 132.37it/s]"
     ]
    },
    {
     "name": "stdout",
     "output_type": "stream",
     "text": [
      "[MoviePy] Done.\n",
      "qOtER5Sm_iI\n",
      "530\n",
      "[MoviePy] Writing audio in C:/Users/Ankit/Documents/wpi/cs525/video_data/videos/ad_data\\qOtER5Sm_iI\\Hatchimals CollEGGtibles  New Season 5  30 Mermal Magic Commercial.wav\n"
     ]
    },
    {
     "name": "stderr",
     "output_type": "stream",
     "text": [
      "\n",
      "  0%|                                                  | 0/894 [00:00<?, ?it/s]\n",
      "  3%|█▎                                       | 28/894 [00:00<00:22, 38.94it/s]\n",
      " 11%|████▌                                   | 101/894 [00:01<00:15, 50.85it/s]\n",
      " 17%|██████▊                                 | 152/894 [00:01<00:11, 65.03it/s]\n",
      " 23%|█████████                               | 203/894 [00:01<00:07, 86.43it/s]\n",
      " 39%|███████████████▏                       | 347/894 [00:01<00:04, 120.37it/s]\n",
      " 45%|█████████████████▌                     | 403/894 [00:01<00:03, 153.95it/s]\n",
      " 63%|████████████████████████▍              | 560/894 [00:01<00:01, 210.97it/s]\n",
      " 84%|████████████████████████████████▉      | 755/894 [00:01<00:00, 288.03it/s]\n",
      " 98%|██████████████████████████████████████ | 872/894 [00:02<00:00, 371.14it/s]\n",
      "100%|███████████████████████████████████████| 894/894 [00:02<00:00, 428.75it/s]"
     ]
    },
    {
     "name": "stdout",
     "output_type": "stream",
     "text": [
      "[MoviePy] Done.\n",
      "qqJ2qKrEP0I\n",
      "531\n",
      "[MoviePy] Writing audio in C:/Users/Ankit/Documents/wpi/cs525/video_data/videos/ad_data\\qqJ2qKrEP0I\\Untitled Ad.wav\n"
     ]
    },
    {
     "name": "stderr",
     "output_type": "stream",
     "text": [
      "\n",
      "  0%|                                                  | 0/332 [00:00<?, ?it/s]\n",
      "  8%|███▍                                     | 28/332 [00:02<00:22, 13.53it/s]\n",
      " 30%|████████████▏                           | 101/332 [00:05<00:15, 15.05it/s]\n",
      " 46%|██████████████████▎                     | 152/332 [00:08<00:10, 16.48it/s]\n",
      " 61%|████████████████████████▍               | 203/332 [00:08<00:06, 20.90it/s]\n",
      " 77%|██████████████████████████████▌         | 254/332 [00:10<00:03, 22.50it/s]\n",
      "100%|████████████████████████████████████████| 332/332 [00:10<00:00, 30.42it/s]"
     ]
    },
    {
     "name": "stdout",
     "output_type": "stream",
     "text": [
      "[MoviePy] Done.\n",
      "qr6e-CRrwrI\n",
      "532\n",
      "[MoviePy] Writing audio in C:/Users/Ankit/Documents/wpi/cs525/video_data/videos/ad_data\\qr6e-CRrwrI\\Behati’s One Product for Crystal Clear Skin  SK-II PITERA™ Essence.wav\n"
     ]
    },
    {
     "name": "stderr",
     "output_type": "stream",
     "text": [
      "\n",
      "  0%|                                                 | 0/1219 [00:00<?, ?it/s]\n",
      "  0%|                                         | 2/1219 [00:03<37:03,  1.83s/it]\n",
      "  2%|▉                                       | 28/1219 [00:04<25:28,  1.28s/it]\n",
      "  8%|███▏                                   | 101/1219 [00:04<16:45,  1.11it/s]\n",
      " 12%|████▊                                  | 152/1219 [00:04<11:14,  1.58it/s]\n",
      " 17%|██████▍                                | 203/1219 [00:05<07:30,  2.25it/s]\n",
      " 21%|████████▏                              | 254/1219 [00:05<05:01,  3.20it/s]\n",
      " 29%|███████████▍                           | 356/1219 [00:05<03:09,  4.56it/s]\n",
      " 42%|████████████████▎                      | 509/1219 [00:05<01:49,  6.51it/s]\n",
      " 47%|██████████████████▎                    | 574/1219 [00:05<01:10,  9.19it/s]\n",
      " 51%|████████████████████                   | 627/1219 [00:05<00:45, 13.03it/s]\n",
      " 56%|█████████████████████▊                 | 680/1219 [00:06<00:30, 17.68it/s]\n",
      " 59%|███████████████████████                | 720/1219 [00:06<00:20, 24.21it/s]\n",
      " 63%|████████████████████████▍              | 764/1219 [00:06<00:13, 33.27it/s]\n",
      " 67%|██████████████████████████             | 815/1219 [00:07<00:09, 43.62it/s]\n",
      " 71%|███████████████████████████▋           | 866/1219 [00:07<00:06, 56.83it/s]\n",
      " 75%|█████████████████████████████▎         | 917/1219 [00:07<00:04, 70.42it/s]\n",
      " 79%|██████████████████████████████▉        | 968/1219 [00:08<00:03, 80.81it/s]\n",
      " 84%|███████████████████████████████▊      | 1019/1219 [00:08<00:02, 83.06it/s]\n",
      " 88%|████████████████████████████████▍    | 1070/1219 [00:08<00:01, 110.27it/s]\n",
      " 94%|██████████████████████████████████▊  | 1148/1219 [00:08<00:00, 148.53it/s]\n",
      " 98%|████████████████████████████████████ | 1190/1219 [00:09<00:00, 169.53it/s]\n",
      "100%|█████████████████████████████████████| 1219/1219 [00:09<00:00, 133.45it/s]"
     ]
    },
    {
     "name": "stdout",
     "output_type": "stream",
     "text": [
      "[MoviePy] Done.\n",
      "qUvKRFUiW0I\n",
      "533\n",
      "[MoviePy] Writing audio in C:/Users/Ankit/Documents/wpi/cs525/video_data/videos/ad_data\\qUvKRFUiW0I\\Dove  Introducing the NEW Dove UltraCare Conditioner Series.wav\n"
     ]
    },
    {
     "name": "stderr",
     "output_type": "stream",
     "text": [
      "\n",
      "  0%|                                                  | 0/332 [00:00<?, ?it/s]\n",
      "  8%|███▍                                     | 28/332 [00:00<00:10, 29.10it/s]\n",
      " 30%|████████████▏                           | 101/332 [00:01<00:05, 40.23it/s]\n",
      " 46%|██████████████████▎                     | 152/332 [00:01<00:03, 52.07it/s]\n",
      " 77%|██████████████████████████████▌         | 254/332 [00:01<00:01, 68.69it/s]\n",
      "100%|███████████████████████████████████████| 332/332 [00:01<00:00, 171.66it/s]"
     ]
    },
    {
     "name": "stdout",
     "output_type": "stream",
     "text": [
      "[MoviePy] Done.\n",
      "R3E_S41IA1s\n",
      "534\n",
      "[MoviePy] Writing audio in C:/Users/Ankit/Documents/wpi/cs525/video_data/videos/ad_data\\R3E_S41IA1s\\In-Stream Video.wav\n"
     ]
    },
    {
     "name": "stderr",
     "output_type": "stream",
     "text": [
      "\n",
      "  0%|                                                  | 0/332 [00:00<?, ?it/s]\n",
      "  8%|███▍                                     | 28/332 [00:01<00:11, 26.74it/s]\n",
      " 30%|████████████▏                           | 101/332 [00:01<00:06, 34.60it/s]\n",
      " 46%|██████████████████▎                     | 152/332 [00:05<00:07, 23.99it/s]\n",
      " 61%|████████████████████████▍               | 203/332 [00:08<00:06, 21.01it/s]\n",
      " 77%|██████████████████████████████▌         | 254/332 [00:11<00:04, 18.71it/s]\n",
      "100%|████████████████████████████████████████| 332/332 [00:11<00:00, 27.70it/s]"
     ]
    },
    {
     "name": "stdout",
     "output_type": "stream",
     "text": [
      "[MoviePy] Done.\n",
      "r5iUND21iRw\n",
      "535\n",
      "[MoviePy] Writing audio in C:/Users/Ankit/Documents/wpi/cs525/video_data/videos/ad_data\\r5iUND21iRw\\Protect Your Identity Protect Your Freedom!.wav\n"
     ]
    },
    {
     "name": "stderr",
     "output_type": "stream",
     "text": [
      "\n",
      "  0%|                                                  | 0/660 [00:00<?, ?it/s]\n",
      "  4%|█▋                                       | 28/660 [00:00<00:07, 84.33it/s]\n",
      " 15%|█████▉                                 | 101/660 [00:00<00:05, 102.85it/s]\n",
      " 23%|████████▉                              | 152/660 [00:01<00:04, 112.14it/s]\n",
      " 31%|███████████▉                           | 203/660 [00:01<00:03, 122.20it/s]\n",
      " 38%|███████████████                        | 254/660 [00:01<00:02, 140.86it/s]\n",
      " 46%|██████████████████                     | 305/660 [00:01<00:02, 155.99it/s]\n",
      " 54%|█████████████████████                  | 356/660 [00:02<00:01, 162.39it/s]\n",
      " 62%|████████████████████████               | 407/660 [00:02<00:01, 161.78it/s]\n",
      " 69%|███████████████████████████            | 458/660 [00:02<00:01, 164.79it/s]\n",
      " 77%|██████████████████████████████         | 509/660 [00:03<00:01, 115.95it/s]\n",
      " 85%|█████████████████████████████████      | 560/660 [00:03<00:00, 138.17it/s]\n",
      " 93%|████████████████████████████████████   | 611/660 [00:03<00:00, 170.47it/s]\n",
      "100%|███████████████████████████████████████| 660/660 [00:03<00:00, 170.58it/s]"
     ]
    },
    {
     "name": "stdout",
     "output_type": "stream",
     "text": [
      "[MoviePy] Done.\n",
      "R8mEw29prjY\n",
      "536\n",
      "[MoviePy] Writing audio in C:/Users/Ankit/Documents/wpi/cs525/video_data/videos/ad_data\\R8mEw29prjY\\Fresh Step Scented Litters.wav\n"
     ]
    },
    {
     "name": "stderr",
     "output_type": "stream",
     "text": [
      "\n",
      "  0%|                                                  | 0/332 [00:00<?, ?it/s]\n",
      "  8%|███▍                                     | 28/332 [00:00<00:04, 67.96it/s]\n",
      " 30%|████████████▏                           | 101/332 [00:00<00:02, 92.29it/s]\n",
      " 46%|█████████████████▊                     | 152/332 [00:00<00:01, 115.07it/s]\n",
      " 61%|███████████████████████▊               | 203/332 [00:00<00:00, 131.46it/s]\n",
      "100%|███████████████████████████████████████| 332/332 [00:01<00:00, 312.60it/s]"
     ]
    },
    {
     "name": "stdout",
     "output_type": "stream",
     "text": [
      "[MoviePy] Done.\n",
      "r8otoufdp2U\n",
      "537\n",
      "[MoviePy] Writing audio in C:/Users/Ankit/Documents/wpi/cs525/video_data/videos/ad_data\\r8otoufdp2U\\Digestive Advantage - Yoghurt Gummies.wav\n"
     ]
    },
    {
     "name": "stderr",
     "output_type": "stream",
     "text": [
      "\n",
      "  0%|                                                  | 0/133 [00:00<?, ?it/s]\n",
      " 21%|████████▋                                | 28/133 [00:00<00:01, 97.90it/s]\n",
      " 84%|████████████████████████████████▊      | 112/133 [00:00<00:00, 133.20it/s]\n",
      "100%|███████████████████████████████████████| 133/133 [00:00<00:00, 334.15it/s]"
     ]
    },
    {
     "name": "stdout",
     "output_type": "stream",
     "text": [
      "[MoviePy] Done.\n",
      "Ra7HtXlfooc\n",
      "538\n",
      "[MoviePy] Writing audio in C:/Users/Ankit/Documents/wpi/cs525/video_data/videos/ad_data\\Ra7HtXlfooc\\Nicely done beef You’re Well Known As What’s For Dinner.wav\n"
     ]
    },
    {
     "name": "stderr",
     "output_type": "stream",
     "text": [
      "\n",
      "  0%|                                                  | 0/335 [00:00<?, ?it/s]\n",
      "  8%|███▍                                     | 28/335 [00:01<00:10, 27.97it/s]\n",
      " 30%|████████████                            | 101/335 [00:01<00:06, 38.30it/s]\n",
      " 45%|██████████████████▏                     | 152/335 [00:01<00:03, 49.65it/s]\n",
      " 61%|████████████████████████▏               | 203/335 [00:01<00:02, 61.86it/s]\n",
      " 76%|██████████████████████████████▎         | 254/335 [00:02<00:01, 79.94it/s]\n",
      "100%|███████████████████████████████████████| 335/335 [00:02<00:00, 152.19it/s]"
     ]
    },
    {
     "name": "stdout",
     "output_type": "stream",
     "text": [
      "[MoviePy] Done.\n",
      "RAkvYksevcs\n",
      "539\n",
      "[MoviePy] Writing audio in C:/Users/Ankit/Documents/wpi/cs525/video_data/videos/ad_data\\RAkvYksevcs\\tameimpala_findmyiphone_06_att_bm.wav\n"
     ]
    },
    {
     "name": "stderr",
     "output_type": "stream",
     "text": [
      "\n",
      "  0%|                                                  | 0/133 [00:00<?, ?it/s]\n",
      " 21%|████████▋                                | 28/133 [00:00<00:01, 97.22it/s]\n",
      "100%|███████████████████████████████████████| 133/133 [00:00<00:00, 363.37it/s]"
     ]
    },
    {
     "name": "stdout",
     "output_type": "stream",
     "text": [
      "[MoviePy] Done.\n",
      "RBVV8IwSgv8\n",
      "540\n",
      "[MoviePy] Writing audio in C:/Users/Ankit/Documents/wpi/cs525/video_data/videos/ad_data\\RBVV8IwSgv8\\Shout Out Kid 15b.wav\n"
     ]
    },
    {
     "name": "stderr",
     "output_type": "stream",
     "text": [
      "\n",
      "  0%|                                                  | 0/332 [00:00<?, ?it/s]\n",
      "  8%|███▍                                     | 28/332 [00:00<00:03, 77.77it/s]\n",
      " 46%|█████████████████▊                     | 152/332 [00:00<00:01, 101.78it/s]\n",
      " 61%|███████████████████████▊               | 203/332 [00:01<00:01, 114.69it/s]\n",
      " 77%|█████████████████████████████▊         | 254/332 [00:01<00:00, 122.69it/s]\n",
      "100%|███████████████████████████████████████| 332/332 [00:01<00:00, 232.97it/s]"
     ]
    },
    {
     "name": "stdout",
     "output_type": "stream",
     "text": [
      "[MoviePy] Done.\n",
      "rbz_WOIgcok\n",
      "541\n",
      "[MoviePy] Writing audio in C:/Users/Ankit/Documents/wpi/cs525/video_data/videos/ad_data\\rbz_WOIgcok\\In-Stream Video..wav\n"
     ]
    },
    {
     "name": "stderr",
     "output_type": "stream",
     "text": [
      "\n",
      "  0%|                                                  | 0/334 [00:00<?, ?it/s]\n",
      "  8%|███▍                                     | 28/334 [00:00<00:06, 44.51it/s]\n",
      " 46%|██████████████████▏                     | 152/334 [00:00<00:02, 62.09it/s]\n",
      " 80%|███████████████████████████████▊        | 266/334 [00:00<00:00, 86.68it/s]\n",
      "100%|███████████████████████████████████████| 334/334 [00:00<00:00, 359.89it/s]"
     ]
    },
    {
     "name": "stdout",
     "output_type": "stream",
     "text": [
      "[MoviePy] Done.\n",
      "rc9B81MX62s\n",
      "542\n",
      "[MoviePy] Writing audio in C:/Users/Ankit/Documents/wpi/cs525/video_data/videos/ad_data\\rc9B81MX62s\\Easter Sale at JCPenney.wav\n"
     ]
    },
    {
     "name": "stderr",
     "output_type": "stream",
     "text": [
      "\n",
      "  0%|                                                  | 0/332 [00:00<?, ?it/s]\n",
      "  8%|███▍                                     | 28/332 [00:02<00:23, 13.21it/s]\n",
      " 30%|████████████▏                           | 101/332 [00:02<00:12, 18.59it/s]\n",
      " 46%|██████████████████▎                     | 152/332 [00:02<00:07, 25.70it/s]\n",
      " 77%|██████████████████████████████▌         | 254/332 [00:02<00:02, 36.04it/s]\n",
      "100%|███████████████████████████████████████| 332/332 [00:02<00:00, 120.81it/s]"
     ]
    },
    {
     "name": "stdout",
     "output_type": "stream",
     "text": [
      "[MoviePy] Done.\n",
      "Rd6zAbTSLo8\n",
      "543\n",
      "[MoviePy] Writing audio in C:/Users/Ankit/Documents/wpi/cs525/video_data/videos/ad_data\\Rd6zAbTSLo8\\Outrunning Disease.wav\n"
     ]
    },
    {
     "name": "stderr",
     "output_type": "stream",
     "text": [
      "\n",
      "  0%|                                                  | 0/663 [00:00<?, ?it/s]\n",
      " 14%|█████▋                                  | 94/663 [00:00<00:00, 939.94it/s]\n",
      " 23%|████████▉                              | 152/663 [00:00<00:00, 534.08it/s]\n",
      " 31%|███████████▉                           | 203/663 [00:00<00:01, 424.13it/s]\n",
      " 38%|██████████████▉                        | 254/663 [00:00<00:01, 327.81it/s]\n",
      " 46%|█████████████████▉                     | 305/663 [00:00<00:01, 295.64it/s]\n",
      " 54%|████████████████████▉                  | 356/663 [00:01<00:01, 279.36it/s]\n",
      " 61%|███████████████████████▉               | 407/663 [00:01<00:00, 286.69it/s]\n",
      " 69%|██████████████████████████▉            | 458/663 [00:01<00:00, 269.80it/s]\n",
      " 77%|█████████████████████████████▉         | 509/663 [00:01<00:00, 277.74it/s]\n",
      " 84%|████████████████████████████████▉      | 560/663 [00:01<00:00, 285.97it/s]\n",
      " 97%|█████████████████████████████████████▊ | 643/663 [00:01<00:00, 355.97it/s]\n",
      "100%|███████████████████████████████████████| 663/663 [00:01<00:00, 332.98it/s]"
     ]
    },
    {
     "name": "stdout",
     "output_type": "stream",
     "text": [
      "[MoviePy] Done.\n",
      "rDgGTXwXApY\n",
      "544\n",
      "[MoviePy] Writing audio in C:/Users/Ankit/Documents/wpi/cs525/video_data/videos/ad_data\\rDgGTXwXApY\\JCPT_WK11B_V1_Sweet Sale_GM.wav\n"
     ]
    },
    {
     "name": "stderr",
     "output_type": "stream",
     "text": [
      "\n",
      "  0%|                                                  | 0/332 [00:00<?, ?it/s]\n",
      "  8%|███▎                                    | 28/332 [00:00<00:02, 147.36it/s]\n",
      " 30%|███████████▊                           | 101/332 [00:00<00:01, 174.95it/s]\n",
      " 46%|█████████████████▊                     | 152/332 [00:00<00:00, 200.18it/s]\n",
      " 61%|███████████████████████▊               | 203/332 [00:00<00:00, 236.29it/s]\n",
      " 77%|█████████████████████████████▊         | 254/332 [00:00<00:00, 260.88it/s]\n",
      "100%|███████████████████████████████████████| 332/332 [00:00<00:00, 361.64it/s]"
     ]
    },
    {
     "name": "stdout",
     "output_type": "stream",
     "text": [
      "[MoviePy] Done.\n",
      "re25yUFYKRM\n",
      "545\n",
      "[MoviePy] Writing audio in C:/Users/Ankit/Documents/wpi/cs525/video_data/videos/ad_data\\re25yUFYKRM\\video.wav\n"
     ]
    },
    {
     "name": "stderr",
     "output_type": "stream",
     "text": [
      "\n",
      "  0%|                                                  | 0/333 [00:00<?, ?it/s]\n",
      " 30%|███████████▊                           | 101/333 [00:00<00:00, 461.16it/s]\n",
      " 46%|█████████████████▊                     | 152/333 [00:00<00:00, 312.47it/s]\n",
      " 61%|███████████████████████▊               | 203/333 [00:00<00:00, 295.21it/s]\n",
      "100%|███████████████████████████████████████| 333/333 [00:00<00:00, 423.64it/s]"
     ]
    },
    {
     "name": "stdout",
     "output_type": "stream",
     "text": [
      "[MoviePy] Done.\n",
      "rELOz_647CE\n",
      "546\n",
      "[MoviePy] Writing audio in C:/Users/Ankit/Documents/wpi/cs525/video_data/videos/ad_data\\rELOz_647CE\\Borrowed Van.wav\n"
     ]
    },
    {
     "name": "stderr",
     "output_type": "stream",
     "text": [
      "\n",
      "  0%|                                                  | 0/663 [00:00<?, ?it/s]\n",
      "  4%|█▋                                      | 28/663 [00:00<00:04, 150.53it/s]\n",
      " 15%|█████▉                                 | 101/663 [00:00<00:02, 197.58it/s]\n",
      " 31%|███████████▉                           | 203/663 [00:00<00:02, 227.94it/s]\n",
      " 38%|██████████████▉                        | 254/663 [00:00<00:01, 228.17it/s]\n",
      " 54%|████████████████████▉                  | 356/663 [00:00<00:01, 296.40it/s]\n",
      " 78%|██████████████████████████████▎        | 515/663 [00:01<00:00, 392.10it/s]\n",
      "100%|███████████████████████████████████████| 663/663 [00:01<00:00, 609.90it/s]"
     ]
    },
    {
     "name": "stdout",
     "output_type": "stream",
     "text": [
      "[MoviePy] Done.\n",
      "resBQqwiVCA\n",
      "547\n",
      "[MoviePy] Writing audio in C:/Users/Ankit/Documents/wpi/cs525/video_data/videos/ad_data\\resBQqwiVCA\\Get Chrome now and automatically translate the web to your language.wav\n"
     ]
    },
    {
     "name": "stderr",
     "output_type": "stream",
     "text": [
      "\n",
      "  0%|                                                  | 0/376 [00:00<?, ?it/s]\n",
      "  9%|███▌                                    | 33/376 [00:00<00:01, 326.71it/s]\n",
      " 54%|█████████████████████                  | 203/376 [00:00<00:00, 427.31it/s]\n",
      "100%|██████████████████████████████████████| 376/376 [00:00<00:00, 1216.76it/s]"
     ]
    },
    {
     "name": "stdout",
     "output_type": "stream",
     "text": [
      "[MoviePy] Done.\n",
      "RfCKcqeh5pQ\n",
      "548\n",
      "[MoviePy] Writing audio in C:/Users/Ankit/Documents/wpi/cs525/video_data/videos/ad_data\\RfCKcqeh5pQ\\In-Stream Video.wav\n"
     ]
    },
    {
     "name": "stderr",
     "output_type": "stream",
     "text": [
      "\n",
      "  0%|                                                  | 0/332 [00:00<?, ?it/s]\n",
      "  8%|███▎                                    | 28/332 [00:00<00:01, 229.49it/s]\n",
      " 57%|██████████████████████▏                | 189/332 [00:00<00:00, 308.97it/s]\n",
      " 88%|██████████████████████████████████▎    | 292/332 [00:00<00:00, 391.11it/s]\n",
      "100%|███████████████████████████████████████| 332/332 [00:00<00:00, 935.16it/s]"
     ]
    },
    {
     "name": "stdout",
     "output_type": "stream",
     "text": [
      "[MoviePy] Done.\n",
      "rgHy3yCZIxs\n",
      "549\n",
      "[MoviePy] Writing audio in C:/Users/Ankit/Documents/wpi/cs525/video_data/videos/ad_data\\rgHy3yCZIxs\\I Am Here   2019 Re edit with Pricing  60 HD NQAV0017000H Unslated.wav\n"
     ]
    },
    {
     "name": "stderr",
     "output_type": "stream",
     "text": [
      "\n",
      "  0%|                                                 | 0/1327 [00:00<?, ?it/s]\n",
      "  2%|▊                                      | 28/1327 [00:00<00:06, 193.09it/s]\n",
      "  8%|██▉                                   | 101/1327 [00:00<00:05, 235.07it/s]\n",
      " 17%|██████▍                               | 224/1327 [00:00<00:03, 310.39it/s]\n",
      " 27%|██████████▎                           | 362/1327 [00:00<00:02, 404.43it/s]\n",
      " 40%|███████████████                       | 526/1327 [00:00<00:01, 522.53it/s]\n",
      " 53%|████████████████████                  | 699/1327 [00:00<00:00, 660.91it/s]\n",
      " 62%|███████████████████████▌              | 823/1327 [00:00<00:00, 629.32it/s]\n",
      " 72%|███████████████████████████▌          | 962/1327 [00:01<00:00, 752.93it/s]\n",
      " 81%|██████████████████████████████       | 1077/1327 [00:01<00:00, 604.24it/s]\n",
      " 95%|███████████████████████████████████▏ | 1264/1327 [00:01<00:00, 758.20it/s]\n",
      "100%|█████████████████████████████████████| 1327/1327 [00:01<00:00, 924.69it/s]"
     ]
    },
    {
     "name": "stdout",
     "output_type": "stream",
     "text": [
      "[MoviePy] Done.\n",
      "rIbWh1Iltk4\n",
      "550\n",
      "[MoviePy] Writing audio in C:/Users/Ankit/Documents/wpi/cs525/video_data/videos/ad_data\\rIbWh1Iltk4\\2020 US Senate Announcement Video.wav\n"
     ]
    },
    {
     "name": "stderr",
     "output_type": "stream",
     "text": [
      "\n",
      "  0%|                                                  | 0/436 [00:00<?, ?it/s]\n",
      " 10%|████                                    | 44/436 [00:00<00:00, 439.97it/s]\n",
      " 32%|████████████▌                          | 141/436 [00:00<00:00, 526.23it/s]\n",
      " 71%|███████████████████████████▋           | 310/436 [00:00<00:00, 663.25it/s]\n",
      "100%|██████████████████████████████████████| 436/436 [00:00<00:00, 1201.03it/s]"
     ]
    },
    {
     "name": "stdout",
     "output_type": "stream",
     "text": [
      "[MoviePy] Done.\n",
      "Rj3_qWmelVQ\n",
      "551\n",
      "[MoviePy] Writing audio in C:/Users/Ankit/Documents/wpi/cs525/video_data/videos/ad_data\\Rj3_qWmelVQ\\GoMacro - Bigger Than A Bar.wav\n"
     ]
    },
    {
     "name": "stderr",
     "output_type": "stream",
     "text": [
      "\n",
      "  0%|                                                 | 0/1632 [00:00<?, ?it/s]\n",
      "  2%|▋                                      | 28/1632 [00:00<00:11, 145.07it/s]\n",
      " 12%|████▋                                 | 203/1632 [00:00<00:07, 199.99it/s]\n",
      " 16%|██████                                | 258/1632 [00:00<00:05, 245.86it/s]\n",
      " 25%|█████████▍                            | 407/1632 [00:00<00:04, 301.72it/s]\n",
      " 28%|██████████▊                           | 465/1632 [00:00<00:04, 287.46it/s]\n",
      " 31%|███████████▉                          | 513/1632 [00:01<00:04, 247.44it/s]\n",
      " 36%|█████████████▋                        | 590/1632 [00:01<00:03, 310.69it/s]\n",
      " 39%|██████████████▉                       | 641/1632 [00:01<00:02, 332.66it/s]\n",
      " 42%|████████████████                      | 689/1632 [00:01<00:03, 306.70it/s]\n",
      " 45%|████████████████▉                     | 730/1632 [00:01<00:03, 257.41it/s]\n",
      " 47%|█████████████████▊                    | 765/1632 [00:01<00:03, 255.13it/s]\n",
      " 50%|██████████████████▉                   | 815/1632 [00:02<00:02, 274.90it/s]\n",
      " 56%|█████████████████████▎                | 917/1632 [00:02<00:02, 341.44it/s]\n",
      " 62%|███████████████████████              | 1019/1632 [00:02<00:01, 339.98it/s]\n",
      " 66%|████████████████████████▎            | 1070/1632 [00:02<00:01, 333.31it/s]\n",
      " 69%|█████████████████████████▍           | 1124/1632 [00:02<00:01, 375.76it/s]\n",
      " 76%|████████████████████████████         | 1237/1632 [00:02<00:00, 469.84it/s]\n",
      " 86%|███████████████████████████████▋     | 1397/1632 [00:02<00:00, 596.17it/s]\n",
      " 91%|█████████████████████████████████▊   | 1491/1632 [00:03<00:00, 652.90it/s]\n",
      "100%|█████████████████████████████████████| 1632/1632 [00:03<00:00, 522.04it/s]"
     ]
    },
    {
     "name": "stdout",
     "output_type": "stream",
     "text": [
      "[MoviePy] Done.\n",
      "Rjb8Bq0oqt8\n",
      "552\n",
      "[MoviePy] Writing audio in C:/Users/Ankit/Documents/wpi/cs525/video_data/videos/ad_data\\Rjb8Bq0oqt8\\Here to help Beat the crowd.wav\n"
     ]
    },
    {
     "name": "stderr",
     "output_type": "stream",
     "text": [
      "\n",
      "  0%|                                                  | 0/332 [00:00<?, ?it/s]\n",
      " 42%|███████████████▉                      | 139/332 [00:00<00:00, 1389.92it/s]\n",
      " 99%|█████████████████████████████████████▊| 330/332 [00:00<00:00, 1513.54it/s]\n",
      "100%|██████████████████████████████████████| 332/332 [00:00<00:00, 1627.36it/s]"
     ]
    },
    {
     "name": "stdout",
     "output_type": "stream",
     "text": [
      "[MoviePy] Done.\n",
      "rKjCUdJXNYc\n",
      "553\n",
      "[MoviePy] Writing audio in C:/Users/Ankit/Documents/wpi/cs525/video_data/videos/ad_data\\rKjCUdJXNYc\\LMS Awareness 13sec Q319.wav\n"
     ]
    },
    {
     "name": "stderr",
     "output_type": "stream",
     "text": [
      "\n",
      "  0%|                                                  | 0/288 [00:00<?, ?it/s]\n",
      " 43%|████████████████▎                     | 124/288 [00:00<00:00, 1239.93it/s]\n",
      "100%|██████████████████████████████████████| 288/288 [00:00<00:00, 1515.71it/s]"
     ]
    },
    {
     "name": "stdout",
     "output_type": "stream",
     "text": [
      "[MoviePy] Done.\n",
      "rL0Et5FSzdU\n",
      "554\n",
      "[MoviePy] Writing audio in C:/Users/Ankit/Documents/wpi/cs525/video_data/videos/ad_data\\rL0Et5FSzdU\\Marvel Studios Avengers Endgame  Space.wav\n"
     ]
    },
    {
     "name": "stderr",
     "output_type": "stream",
     "text": [
      "\n",
      "  0%|                                                  | 0/133 [00:00<?, ?it/s]\n",
      " 93%|███████████████████████████████████▍  | 124/133 [00:00<00:00, 1239.93it/s]\n",
      "100%|██████████████████████████████████████| 133/133 [00:00<00:00, 1242.92it/s]"
     ]
    },
    {
     "name": "stdout",
     "output_type": "stream",
     "text": [
      "[MoviePy] Done.\n",
      "RLhA_Ip5JTU\n",
      "555\n",
      "[MoviePy] Writing audio in C:/Users/Ankit/Documents/wpi/cs525/video_data/videos/ad_data\\RLhA_Ip5JTU\\SK-II BareSkinChat  Episode 1 Knock Knock!.wav\n"
     ]
    },
    {
     "name": "stderr",
     "output_type": "stream",
     "text": [
      "\n",
      "  0%|                                                 | 0/1243 [00:00<?, ?it/s]\n",
      "  9%|███▍                                 | 114/1243 [00:00<00:00, 1139.94it/s]\n",
      " 22%|████████▎                            | 279/1243 [00:00<00:00, 1256.44it/s]\n",
      " 33%|████████████                         | 407/1243 [00:00<00:00, 1230.60it/s]\n",
      " 45%|████████████████▋                    | 560/1243 [00:00<00:00, 1290.78it/s]\n",
      " 60%|██████████████████████▎              | 751/1243 [00:00<00:00, 1429.83it/s]\n",
      " 72%|██████████████████████████▌          | 893/1243 [00:00<00:00, 1426.84it/s]\n",
      " 86%|██████████████████████████████▉     | 1070/1243 [00:00<00:00, 1480.71it/s]\n",
      "100%|████████████████████████████████████| 1243/1243 [00:00<00:00, 1515.77it/s]"
     ]
    },
    {
     "name": "stdout",
     "output_type": "stream",
     "text": [
      "[MoviePy] Done.\n",
      "rMyU6EezzFA\n",
      "556\n",
      "[MoviePy] Writing audio in C:/Users/Ankit/Documents/wpi/cs525/video_data/videos/ad_data\\rMyU6EezzFA\\Escape Room Extended Clip - On Digital Now and Blu-ray 423.wav\n"
     ]
    },
    {
     "name": "stderr",
     "output_type": "stream",
     "text": [
      "\n",
      "  0%|                                                 | 0/5844 [00:00<?, ?it/s]\n",
      "  0%|▏                                      | 28/5844 [00:00<00:21, 271.83it/s]\n",
      "  3%|█▎                                    | 202/5844 [00:00<00:15, 363.05it/s]\n",
      "  6%|██▎                                   | 358/5844 [00:00<00:11, 471.60it/s]\n",
      "  9%|███▎                                  | 505/5844 [00:00<00:09, 570.22it/s]\n",
      " 11%|████▎                                 | 668/5844 [00:00<00:07, 708.39it/s]\n",
      " 14%|█████▍                                | 833/5844 [00:00<00:05, 854.71it/s]\n",
      " 17%|██████▍                               | 982/5844 [00:00<00:04, 980.06it/s]\n",
      " 20%|███████▏                            | 1162/5844 [00:00<00:04, 1112.03it/s]\n",
      " 23%|████████▏                           | 1320/5844 [00:00<00:03, 1220.46it/s]\n",
      " 25%|█████████                           | 1471/5844 [00:01<00:03, 1294.93it/s]\n",
      " 28%|█████████▉                          | 1622/5844 [00:01<00:03, 1352.71it/s]\n",
      " 31%|███████████                         | 1795/5844 [00:01<00:02, 1447.39it/s]\n",
      " 34%|████████████▏                       | 1971/5844 [00:01<00:02, 1493.80it/s]\n",
      " 37%|█████████████▏                      | 2143/5844 [00:01<00:02, 1555.13it/s]\n",
      " 40%|██████████████▎                     | 2325/5844 [00:01<00:02, 1587.80it/s]\n",
      " 43%|███████████████▍                    | 2508/5844 [00:01<00:02, 1653.42it/s]\n",
      " 46%|████████████████▌                   | 2679/5844 [00:01<00:01, 1655.42it/s]\n",
      " 49%|█████████████████▋                  | 2866/5844 [00:01<00:01, 1714.41it/s]\n",
      " 52%|██████████████████▋                 | 3040/5844 [00:01<00:01, 1657.98it/s]\n",
      " 55%|███████████████████▊                | 3208/5844 [00:02<00:01, 1515.81it/s]\n",
      " 58%|████████████████████▊               | 3377/5844 [00:02<00:01, 1564.15it/s]\n",
      " 61%|█████████████████████▊              | 3537/5844 [00:02<00:01, 1427.21it/s]\n",
      " 63%|██████████████████████▋             | 3689/5844 [00:02<00:01, 1445.52it/s]\n",
      " 66%|███████████████████████▋            | 3841/5844 [00:02<00:01, 1454.43it/s]\n",
      " 69%|████████████████████████▋           | 4013/5844 [00:02<00:01, 1525.05it/s]\n",
      " 72%|█████████████████████████▊          | 4194/5844 [00:02<00:01, 1600.62it/s]\n",
      " 75%|██████████████████████████▊         | 4359/5844 [00:02<00:00, 1615.09it/s]\n",
      " 77%|███████████████████████████▊        | 4523/5844 [00:02<00:00, 1502.08it/s]\n",
      " 80%|████████████████████████████▉       | 4700/5844 [00:03<00:00, 1548.73it/s]\n",
      " 83%|██████████████████████████████      | 4875/5844 [00:03<00:00, 1604.05it/s]\n",
      " 86%|███████████████████████████████▏    | 5054/5844 [00:03<00:00, 1651.04it/s]\n",
      " 90%|████████████████████████████████▎   | 5237/5844 [00:03<00:00, 1700.91it/s]\n",
      " 93%|█████████████████████████████████▎  | 5409/5844 [00:03<00:00, 1686.49it/s]\n",
      " 95%|██████████████████████████████████▎ | 5579/5844 [00:03<00:00, 1685.46it/s]\n",
      " 98%|███████████████████████████████████▍| 5750/5844 [00:03<00:00, 1692.72it/s]\n",
      "100%|████████████████████████████████████| 5844/5844 [00:03<00:00, 1546.35it/s]"
     ]
    },
    {
     "name": "stdout",
     "output_type": "stream",
     "text": [
      "[MoviePy] Done.\n",
      "RnLRbrVtqjo\n",
      "557\n",
      "[MoviePy] Writing audio in C:/Users/Ankit/Documents/wpi/cs525/video_data/videos/ad_data\\RnLRbrVtqjo\\YTTV PFU 6s Digital V03 NoniOS.wav\n"
     ]
    },
    {
     "name": "stderr",
     "output_type": "stream",
     "text": [
      "\n",
      "  0%|                                                  | 0/133 [00:00<?, ?it/s]\n",
      " 95%|████████████████████████████████████  | 126/133 [00:00<00:00, 1259.93it/s]\n",
      "100%|██████████████████████████████████████| 133/133 [00:00<00:00, 1231.41it/s]"
     ]
    },
    {
     "name": "stdout",
     "output_type": "stream",
     "text": [
      "[MoviePy] Done.\n",
      "Ro1WHRYG6vc\n",
      "558\n",
      "[MoviePy] Writing audio in C:/Users/Ankit/Documents/wpi/cs525/video_data/videos/ad_data\\Ro1WHRYG6vc\\Untitled Ad.wav\n"
     ]
    },
    {
     "name": "stderr",
     "output_type": "stream",
     "text": [
      "\n",
      "  0%|                                                  | 0/332 [00:00<?, ?it/s]\n",
      "  8%|███▎                                    | 28/332 [00:00<00:02, 111.10it/s]\n",
      " 46%|█████████████████▊                     | 152/332 [00:00<00:01, 152.79it/s]\n",
      " 92%|███████████████████████████████████▊   | 305/332 [00:00<00:00, 208.89it/s]\n",
      "100%|███████████████████████████████████████| 332/332 [00:00<00:00, 703.35it/s]"
     ]
    },
    {
     "name": "stdout",
     "output_type": "stream",
     "text": [
      "[MoviePy] Done.\n",
      "RqnfCWDFuUA\n",
      "559\n",
      "[MoviePy] Writing audio in C:/Users/Ankit/Documents/wpi/cs525/video_data/videos/ad_data\\RqnfCWDFuUA\\Gilead  Preroll  90s TrV.wav\n"
     ]
    },
    {
     "name": "stderr",
     "output_type": "stream",
     "text": [
      "\n",
      "  0%|                                                 | 0/1987 [00:00<?, ?it/s]\n",
      "  1%|▌                                      | 28/1987 [00:00<00:09, 215.37it/s]\n",
      " 10%|███▉                                  | 203/1987 [00:00<00:06, 291.97it/s]\n",
      " 20%|███████▍                              | 390/1987 [00:00<00:04, 390.93it/s]\n",
      " 27%|██████████▎                           | 539/1987 [00:00<00:02, 502.02it/s]\n",
      " 36%|█████████████▋                        | 713/1987 [00:00<00:02, 636.85it/s]\n",
      " 45%|█████████████████                     | 891/1987 [00:00<00:01, 788.83it/s]\n",
      " 53%|███████████████████▊                 | 1062/1987 [00:00<00:00, 940.87it/s]\n",
      " 62%|██████████████████████▎             | 1229/1987 [00:00<00:00, 1082.67it/s]\n",
      " 72%|█████████████████████████▊          | 1427/1987 [00:00<00:00, 1227.38it/s]\n",
      " 81%|█████████████████████████████▎      | 1616/1987 [00:01<00:00, 1371.63it/s]\n",
      " 90%|████████████████████████████████▍   | 1787/1987 [00:01<00:00, 1443.40it/s]\n",
      " 98%|███████████████████████████████████▍| 1956/1987 [00:01<00:00, 1187.94it/s]\n",
      "100%|████████████████████████████████████| 1987/1987 [00:01<00:00, 1455.59it/s]"
     ]
    },
    {
     "name": "stdout",
     "output_type": "stream",
     "text": [
      "[MoviePy] Done.\n",
      "RRmSF27Lvrw\n",
      "560\n",
      "[MoviePy] Writing audio in C:/Users/Ankit/Documents/wpi/cs525/video_data/videos/ad_data\\RRmSF27Lvrw\\Pork Tenderloin Basics.wav\n"
     ]
    },
    {
     "name": "stderr",
     "output_type": "stream",
     "text": [
      "\n",
      "  0%|                                                 | 0/1018 [00:00<?, ?it/s]\n",
      "  3%|█                                      | 29/1018 [00:00<00:03, 289.98it/s]\n",
      " 15%|█████▋                                | 152/1018 [00:00<00:02, 375.90it/s]\n",
      " 30%|███████████▍                          | 305/1018 [00:00<00:01, 480.35it/s]\n",
      " 48%|██████████████████▎                   | 490/1018 [00:00<00:00, 617.50it/s]\n",
      " 65%|████████████████████████▋             | 662/1018 [00:00<00:00, 762.47it/s]\n",
      " 84%|███████████████████████████████▊      | 851/1018 [00:00<00:00, 928.67it/s]\n",
      " 99%|███████████████████████████████████▋| 1010/1018 [00:00<00:00, 1061.06it/s]\n",
      "100%|████████████████████████████████████| 1018/1018 [00:00<00:00, 1407.94it/s]"
     ]
    },
    {
     "name": "stdout",
     "output_type": "stream",
     "text": [
      "[MoviePy] Done.\n",
      "RWgp1B3rQ-k\n",
      "561\n",
      "[MoviePy] Writing audio in C:/Users/Ankit/Documents/wpi/cs525/video_data/videos/ad_data\\RWgp1B3rQ-k\\App Guest 15s 21418.wav\n"
     ]
    },
    {
     "name": "stderr",
     "output_type": "stream",
     "text": [
      "\n",
      "  0%|                                                  | 0/332 [00:00<?, ?it/s]\n",
      "  8%|███▎                                    | 28/332 [00:00<00:01, 223.99it/s]\n",
      " 46%|█████████████████▊                     | 152/332 [00:00<00:00, 293.82it/s]\n",
      " 88%|██████████████████████████████████▎    | 292/332 [00:00<00:00, 385.10it/s]\n",
      "100%|███████████████████████████████████████| 332/332 [00:00<00:00, 907.05it/s]"
     ]
    },
    {
     "name": "stdout",
     "output_type": "stream",
     "text": [
      "[MoviePy] Done.\n",
      "rwKtpTU0JTY\n",
      "562\n",
      "[MoviePy] Writing audio in C:/Users/Ankit/Documents/wpi/cs525/video_data/videos/ad_data\\rwKtpTU0JTY\\7644671  YT Nonskip  15sec  v3 dresses.wav\n"
     ]
    },
    {
     "name": "stderr",
     "output_type": "stream",
     "text": [
      "\n",
      "  0%|                                                  | 0/334 [00:00<?, ?it/s]\n",
      "  8%|███▎                                    | 28/334 [00:00<00:02, 115.70it/s]\n",
      " 46%|█████████████████▋                     | 152/334 [00:00<00:01, 156.99it/s]\n",
      " 76%|█████████████████████████████▋         | 254/334 [00:00<00:00, 207.95it/s]\n",
      "100%|███████████████████████████████████████| 334/334 [00:00<00:00, 617.34it/s]"
     ]
    },
    {
     "name": "stdout",
     "output_type": "stream",
     "text": [
      "[MoviePy] Done.\n",
      "Rxt5oT_X6f4\n",
      "563\n",
      "[MoviePy] Writing audio in C:/Users/Ankit/Documents/wpi/cs525/video_data/videos/ad_data\\Rxt5oT_X6f4\\LUCEMYRA (lofexidine) tablets 018 mg - Full Length.wav\n"
     ]
    },
    {
     "name": "stderr",
     "output_type": "stream",
     "text": [
      "\n",
      "  0%|                                                 | 0/4343 [00:00<?, ?it/s]\n",
      "  1%|▎                                      | 28/4343 [00:00<00:32, 133.96it/s]\n",
      "  3%|█▎                                    | 152/4343 [00:00<00:23, 182.02it/s]\n",
      "  8%|███                                   | 349/4343 [00:00<00:15, 250.13it/s]\n",
      " 12%|████▍                                 | 514/4343 [00:00<00:11, 335.52it/s]\n",
      " 15%|█████▊                                | 662/4343 [00:00<00:09, 404.29it/s]\n",
      " 19%|███████▎                              | 838/4343 [00:00<00:06, 525.79it/s]\n",
      " 22%|████████▍                             | 961/4343 [00:00<00:05, 608.44it/s]\n",
      " 26%|█████████▌                           | 1121/4343 [00:01<00:04, 682.36it/s]\n",
      " 29%|██████████▊                          | 1274/4343 [00:01<00:03, 810.57it/s]\n",
      " 32%|███████████▉                         | 1394/4343 [00:01<00:03, 870.62it/s]\n",
      " 35%|████████████▊                        | 1510/4343 [00:01<00:03, 907.89it/s]\n",
      " 38%|█████████████▉                       | 1631/4343 [00:01<00:02, 953.54it/s]\n",
      " 41%|██████████████▉                     | 1798/4343 [00:01<00:02, 1094.38it/s]\n",
      " 45%|████████████████                    | 1937/4343 [00:01<00:02, 1040.33it/s]\n",
      " 48%|█████████████████▎                  | 2090/4343 [00:01<00:01, 1132.92it/s]\n",
      " 52%|██████████████████▌                 | 2243/4343 [00:02<00:01, 1180.22it/s]\n",
      " 55%|███████████████████▊                | 2397/4343 [00:02<00:01, 1269.16it/s]\n",
      " 58%|████████████████████▉               | 2532/4343 [00:02<00:01, 1105.09it/s]\n",
      " 62%|██████████████████████▍             | 2702/4343 [00:02<00:01, 1226.68it/s]\n",
      " 67%|████████████████████████            | 2899/4343 [00:02<00:01, 1383.25it/s]\n",
      " 70%|█████████████████████████▎          | 3055/4343 [00:02<00:00, 1431.90it/s]\n",
      " 74%|██████████████████████████▌         | 3212/4343 [00:02<00:00, 1466.56it/s]\n",
      " 78%|████████████████████████████        | 3392/4343 [00:02<00:00, 1552.84it/s]\n",
      " 82%|█████████████████████████████▍      | 3554/4343 [00:03<00:00, 1175.35it/s]\n",
      " 85%|██████████████████████████████▌     | 3690/4343 [00:03<00:00, 1032.65it/s]\n",
      " 89%|███████████████████████████████▉    | 3856/4343 [00:03<00:00, 1164.69it/s]\n",
      " 92%|█████████████████████████████████▏  | 4007/4343 [00:03<00:00, 1250.46it/s]\n",
      " 96%|██████████████████████████████████▋ | 4186/4343 [00:03<00:00, 1374.75it/s]\n",
      "100%|████████████████████████████████████| 4343/4343 [00:03<00:00, 1221.93it/s]"
     ]
    },
    {
     "name": "stdout",
     "output_type": "stream",
     "text": [
      "[MoviePy] Done.\n",
      "RyRunVrwNyc\n",
      "564\n",
      "[MoviePy] Writing audio in C:/Users/Ankit/Documents/wpi/cs525/video_data/videos/ad_data\\RyRunVrwNyc\\French Montana ft Lil Tjay and Blueface - Slide - 15.wav\n"
     ]
    },
    {
     "name": "stderr",
     "output_type": "stream",
     "text": [
      "\n",
      "  0%|                                                  | 0/334 [00:00<?, ?it/s]\n",
      " 10%|███▊                                    | 32/334 [00:00<00:00, 319.98it/s]\n",
      " 46%|█████████████████▋                     | 152/334 [00:00<00:00, 405.25it/s]\n",
      "100%|██████████████████████████████████████| 334/334 [00:00<00:00, 1080.84it/s]"
     ]
    },
    {
     "name": "stdout",
     "output_type": "stream",
     "text": [
      "[MoviePy] Done.\n",
      "r_IHvfqNdbs\n",
      "565\n",
      "[MoviePy] Writing audio in C:/Users/Ankit/Documents/wpi/cs525/video_data/videos/ad_data\\r_IHvfqNdbs\\Jeff Bishop - Weekly Money Multiplier - Plane.wav\n"
     ]
    },
    {
     "name": "stderr",
     "output_type": "stream",
     "text": [
      "\n",
      "  0%|                                                 | 0/1634 [00:00<?, ?it/s]\n",
      "  6%|██▎                                   | 101/1634 [00:00<00:01, 770.95it/s]\n",
      " 18%|██████▊                               | 294/1634 [00:00<00:01, 940.36it/s]\n",
      " 25%|█████████▌                            | 410/1634 [00:00<00:01, 996.98it/s]\n",
      " 36%|█████████████▎                       | 587/1634 [00:00<00:00, 1147.28it/s]\n",
      " 45%|████████████████▊                    | 741/1634 [00:00<00:00, 1242.31it/s]\n",
      " 53%|███████████████████▋                 | 867/1634 [00:00<00:00, 1243.85it/s]\n",
      " 61%|██████████████████████▍              | 993/1634 [00:00<00:00, 1134.00it/s]\n",
      " 70%|█████████████████████████           | 1139/1634 [00:00<00:00, 1215.40it/s]\n",
      " 81%|█████████████████████████████▏      | 1325/1634 [00:00<00:00, 1275.48it/s]\n",
      " 89%|████████████████████████████████    | 1456/1634 [00:01<00:00, 1231.24it/s]\n",
      " 99%|███████████████████████████████████▋| 1622/1634 [00:01<00:00, 1334.64it/s]\n",
      "100%|████████████████████████████████████| 1634/1634 [00:01<00:00, 1335.98it/s]"
     ]
    },
    {
     "name": "stdout",
     "output_type": "stream",
     "text": [
      "[MoviePy] Done.\n",
      "S3BFtZ7IdGk\n",
      "566\n",
      "[MoviePy] Writing audio in C:/Users/Ankit/Documents/wpi/cs525/video_data/videos/ad_data\\S3BFtZ7IdGk\\Anna Conde Nast_DMI-localized_Video_15s_NO-CTA_Innovid_Maybelline.wav\n"
     ]
    },
    {
     "name": "stderr",
     "output_type": "stream",
     "text": [
      "\n",
      "  0%|                                                  | 0/333 [00:00<?, ?it/s]\n",
      "  8%|███▎                                    | 28/333 [00:00<00:01, 261.67it/s]\n",
      " 37%|██████████████▎                        | 122/333 [00:00<00:00, 333.97it/s]\n",
      " 92%|███████████████████████████████████▋   | 305/333 [00:00<00:00, 441.84it/s]\n",
      "100%|██████████████████████████████████████| 333/333 [00:00<00:00, 1024.56it/s]"
     ]
    },
    {
     "name": "stdout",
     "output_type": "stream",
     "text": [
      "[MoviePy] Done.\n",
      "S3C5x4ss3GY\n",
      "567\n",
      "[MoviePy] Writing audio in C:/Users/Ankit/Documents/wpi/cs525/video_data/videos/ad_data\\S3C5x4ss3GY\\In-Stream Video.wav\n"
     ]
    },
    {
     "name": "stderr",
     "output_type": "stream",
     "text": [
      "\n",
      "  0%|                                                  | 0/347 [00:00<?, ?it/s]\n",
      " 29%|███████████▎                           | 101/347 [00:00<00:00, 918.13it/s]\n",
      " 82%|███████████████████████████████▏      | 285/347 [00:00<00:00, 1080.53it/s]\n",
      "100%|██████████████████████████████████████| 347/347 [00:00<00:00, 1382.39it/s]"
     ]
    },
    {
     "name": "stdout",
     "output_type": "stream",
     "text": [
      "[MoviePy] Done.\n",
      "s6-ZhNSkJIg\n",
      "568\n",
      "[MoviePy] Writing audio in C:/Users/Ankit/Documents/wpi/cs525/video_data/videos/ad_data\\s6-ZhNSkJIg\\YWET2630000H_NAT_FND_PowerTrip_VID_CBSYTube_Reactive_WorkingFootage_PowerTrip_Vevo.wav\n"
     ]
    },
    {
     "name": "stderr",
     "output_type": "stream",
     "text": [
      "\n",
      "  0%|                                                  | 0/332 [00:00<?, ?it/s]\n",
      " 46%|█████████████████▍                    | 152/332 [00:00<00:00, 1475.64it/s]\n",
      " 80%|██████████████████████████████▏       | 264/332 [00:00<00:00, 1347.27it/s]\n",
      "100%|██████████████████████████████████████| 332/332 [00:00<00:00, 1338.63it/s]"
     ]
    },
    {
     "name": "stdout",
     "output_type": "stream",
     "text": [
      "[MoviePy] Done.\n",
      "S7mCil97ZVM\n",
      "569\n",
      "[MoviePy] Writing audio in C:/Users/Ankit/Documents/wpi/cs525/video_data/videos/ad_data\\S7mCil97ZVM\\The Management Tool That Changed My Life  mondaycom.wav\n"
     ]
    },
    {
     "name": "stderr",
     "output_type": "stream",
     "text": [
      "\n",
      "  0%|                                                  | 0/830 [00:00<?, ?it/s]\n",
      "  3%|█▍                                       | 28/830 [00:00<00:13, 57.97it/s]\n",
      " 12%|████▉                                   | 102/830 [00:00<00:09, 80.09it/s]\n",
      " 30%|███████████▊                           | 251/830 [00:00<00:05, 111.84it/s]\n",
      " 38%|██████████████▋                        | 312/830 [00:00<00:03, 144.04it/s]\n",
      " 55%|█████████████████████▎                 | 454/830 [00:00<00:01, 197.20it/s]\n",
      " 74%|████████████████████████████▋          | 611/830 [00:01<00:00, 266.92it/s]\n",
      " 96%|█████████████████████████████████████▎ | 793/830 [00:01<00:00, 358.76it/s]\n",
      "100%|███████████████████████████████████████| 830/830 [00:01<00:00, 721.70it/s]"
     ]
    },
    {
     "name": "stdout",
     "output_type": "stream",
     "text": [
      "[MoviePy] Done.\n",
      "sdCDaU1tXuY\n",
      "570\n",
      "[MoviePy] Writing audio in C:/Users/Ankit/Documents/wpi/cs525/video_data/videos/ad_data\\sdCDaU1tXuY\\Breakthrough  Inspirational Event  20th Century FOX.wav\n"
     ]
    },
    {
     "name": "stderr",
     "output_type": "stream",
     "text": [
      "\n",
      "  0%|                                                  | 0/663 [00:00<?, ?it/s]\n",
      "  4%|█▋                                       | 28/663 [00:00<00:07, 90.03it/s]\n",
      " 31%|███████████▉                           | 203/663 [00:00<00:03, 125.27it/s]\n",
      " 55%|█████████████████████▍                 | 364/663 [00:00<00:01, 173.18it/s]\n",
      " 80%|███████████████████████████████▏       | 531/663 [00:00<00:00, 236.87it/s]\n",
      "100%|███████████████████████████████████████| 663/663 [00:00<00:00, 910.66it/s]"
     ]
    },
    {
     "name": "stdout",
     "output_type": "stream",
     "text": [
      "[MoviePy] Done.\n",
      "SfOH39C77xU\n",
      "571\n",
      "[MoviePy] Writing audio in C:/Users/Ankit/Documents/wpi/cs525/video_data/videos/ad_data\\SfOH39C77xU\\In-Stream Video.wav\n"
     ]
    },
    {
     "name": "stderr",
     "output_type": "stream",
     "text": [
      "\n",
      "  0%|                                                  | 0/331 [00:00<?, ?it/s]\n",
      "  8%|███▍                                    | 28/331 [00:00<00:01, 215.37it/s]\n",
      " 56%|██████████████████████                 | 187/331 [00:00<00:00, 290.79it/s]\n",
      "100%|██████████████████████████████████████| 331/331 [00:00<00:00, 1044.10it/s]"
     ]
    },
    {
     "name": "stdout",
     "output_type": "stream",
     "text": [
      "[MoviePy] Done.\n",
      "SFuTnycCSlo\n",
      "572\n",
      "[MoviePy] Writing audio in C:/Users/Ankit/Documents/wpi/cs525/video_data/videos/ad_data\\SFuTnycCSlo\\STAND WITH PRESIDENT TRUMP.wav\n"
     ]
    },
    {
     "name": "stderr",
     "output_type": "stream",
     "text": [
      "\n",
      "  0%|                                                 | 0/1042 [00:00<?, ?it/s]\n",
      " 10%|███▋                                  | 100/1042 [00:00<00:00, 999.94it/s]\n",
      " 19%|███████▍                              | 203/1042 [00:00<00:01, 786.82it/s]\n",
      " 34%|████████████▉                         | 356/1042 [00:00<00:00, 903.08it/s]\n",
      " 49%|██████████████████▌                   | 509/1042 [00:00<00:00, 894.23it/s]\n",
      " 64%|███████████████████████▌             | 662/1042 [00:00<00:00, 1013.45it/s]\n",
      " 78%|████████████████████████████▉        | 815/1042 [00:00<00:00, 1009.36it/s]\n",
      " 88%|█████████████████████████████████▍    | 917/1042 [00:00<00:00, 939.74it/s]\n",
      "100%|████████████████████████████████████| 1042/1042 [00:01<00:00, 1003.80it/s]"
     ]
    },
    {
     "name": "stdout",
     "output_type": "stream",
     "text": [
      "[MoviePy] Done.\n",
      "Sh4I_DdsyaQ\n",
      "573\n",
      "[MoviePy] Writing audio in C:/Users/Ankit/Documents/wpi/cs525/video_data/videos/ad_data\\Sh4I_DdsyaQ\\In-Stream Video.wav\n"
     ]
    },
    {
     "name": "stderr",
     "output_type": "stream",
     "text": [
      "\n",
      "  0%|                                                  | 0/332 [00:00<?, ?it/s]\n",
      " 30%|███████████▊                           | 101/332 [00:00<00:00, 961.85it/s]\n",
      " 77%|█████████████████████████████         | 254/332 [00:00<00:00, 1062.13it/s]\n",
      "100%|██████████████████████████████████████| 332/332 [00:00<00:00, 1317.38it/s]"
     ]
    },
    {
     "name": "stdout",
     "output_type": "stream",
     "text": [
      "[MoviePy] Done.\n",
      "SHKAVyOda8Q\n",
      "574\n",
      "[MoviePy] Writing audio in C:/Users/Ankit/Documents/wpi/cs525/video_data/videos/ad_data\\SHKAVyOda8Q\\FMEG0310000H Ford Edge LaneCentering 15 16x9.wav\n"
     ]
    },
    {
     "name": "stderr",
     "output_type": "stream",
     "text": [
      "\n",
      "  0%|                                                  | 0/332 [00:00<?, ?it/s]\n",
      " 25%|█████████▉                              | 82/332 [00:00<00:00, 819.95it/s]\n",
      " 61%|███████████████████████▊               | 203/332 [00:00<00:00, 891.67it/s]\n",
      "100%|██████████████████████████████████████| 332/332 [00:00<00:00, 1185.65it/s]"
     ]
    },
    {
     "name": "stdout",
     "output_type": "stream",
     "text": [
      "[MoviePy] Done.\n",
      "sHL4j4x5IpY\n",
      "575\n",
      "[MoviePy] Writing audio in C:/Users/Ankit/Documents/wpi/cs525/video_data/videos/ad_data\\sHL4j4x5IpY\\video.wav\n"
     ]
    },
    {
     "name": "stderr",
     "output_type": "stream",
     "text": [
      "\n",
      "  0%|                                                  | 0/332 [00:00<?, ?it/s]\n",
      " 30%|███████████▊                           | 101/332 [00:00<00:00, 716.27it/s]\n",
      " 57%|██████████████████████                 | 188/332 [00:00<00:00, 756.36it/s]\n",
      " 99%|██████████████████████████████████████▋| 329/332 [00:00<00:00, 878.53it/s]\n",
      "100%|███████████████████████████████████████| 332/332 [00:00<00:00, 959.48it/s]"
     ]
    },
    {
     "name": "stdout",
     "output_type": "stream",
     "text": [
      "[MoviePy] Done.\n",
      "sIRt48K9J9g\n",
      "576\n",
      "sl7wymmT2Hk\n",
      "576\n",
      "[MoviePy] Writing audio in C:/Users/Ankit/Documents/wpi/cs525/video_data/videos/ad_data\\sl7wymmT2Hk\\Increase Team Productivity  Grammarly Business.wav\n"
     ]
    },
    {
     "name": "stderr",
     "output_type": "stream",
     "text": [
      "\n",
      "  0%|                                                  | 0/498 [00:00<?, ?it/s]\n",
      "  6%|██▏                                     | 28/498 [00:00<00:03, 142.12it/s]\n",
      " 31%|███████████▉                           | 152/498 [00:00<00:01, 193.17it/s]\n",
      " 41%|███████████████▉                       | 203/498 [00:00<00:01, 232.54it/s]\n",
      " 71%|███████████████████████████▉           | 356/498 [00:00<00:00, 307.93it/s]\n",
      "100%|███████████████████████████████████████| 498/498 [00:00<00:00, 812.35it/s]"
     ]
    },
    {
     "name": "stdout",
     "output_type": "stream",
     "text": [
      "[MoviePy] Done.\n",
      "SOHd3gc5aDI\n",
      "577\n",
      "[MoviePy] Writing audio in C:/Users/Ankit/Documents/wpi/cs525/video_data/videos/ad_data\\SOHd3gc5aDI\\The Skipper - 15 - Final  Shell videos in the Americas.wav\n"
     ]
    },
    {
     "name": "stderr",
     "output_type": "stream",
     "text": [
      "\n",
      "  0%|                                                  | 0/332 [00:00<?, ?it/s]\n",
      "  8%|███▍                                     | 28/332 [00:00<00:03, 88.05it/s]\n",
      " 47%|██████████████████▍                    | 157/332 [00:00<00:01, 122.20it/s]\n",
      "100%|███████████████████████████████████████| 332/332 [00:00<00:00, 653.51it/s]"
     ]
    },
    {
     "name": "stdout",
     "output_type": "stream",
     "text": [
      "[MoviePy] Done.\n",
      "spDsw9Mzktw\n",
      "578\n",
      "[MoviePy] Writing audio in C:/Users/Ankit/Documents/wpi/cs525/video_data/videos/ad_data\\spDsw9Mzktw\\NAV Preroll.wav\n"
     ]
    },
    {
     "name": "stderr",
     "output_type": "stream",
     "text": [
      "\n",
      "  0%|                                                  | 0/332 [00:00<?, ?it/s]\n",
      "  8%|███▎                                    | 28/332 [00:00<00:02, 147.36it/s]\n",
      " 31%|███████████▉                           | 102/332 [00:00<00:01, 193.81it/s]\n",
      " 76%|█████████████████████████████▋         | 253/332 [00:00<00:00, 262.43it/s]\n",
      "100%|███████████████████████████████████████| 332/332 [00:00<00:00, 757.95it/s]"
     ]
    },
    {
     "name": "stdout",
     "output_type": "stream",
     "text": [
      "[MoviePy] Done.\n",
      "spmI7hfroDc\n",
      "579\n",
      "[MoviePy] Writing audio in C:/Users/Ankit/Documents/wpi/cs525/video_data/videos/ad_data\\spmI7hfroDc\\Pulp-Fiction_A-New-Way-To-Make-Music_15_BM.wav\n"
     ]
    },
    {
     "name": "stderr",
     "output_type": "stream",
     "text": [
      "\n",
      "  0%|                                                  | 0/331 [00:00<?, ?it/s]\n",
      "  8%|███▍                                    | 28/331 [00:00<00:01, 252.24it/s]\n",
      " 63%|████████████████████████▌              | 208/331 [00:00<00:00, 339.92it/s]\n",
      "100%|██████████████████████████████████████| 331/331 [00:00<00:00, 1190.58it/s]"
     ]
    },
    {
     "name": "stdout",
     "output_type": "stream",
     "text": [
      "[MoviePy] Done.\n",
      "spQk2QyOP0E\n",
      "580\n",
      "[MoviePy] Writing audio in C:/Users/Ankit/Documents/wpi/cs525/video_data/videos/ad_data\\spQk2QyOP0E\\See where the money leads  PG&E.wav\n"
     ]
    },
    {
     "name": "stderr",
     "output_type": "stream",
     "text": [
      "\n",
      "  0%|                                                  | 0/662 [00:00<?, ?it/s]\n",
      "  4%|█▋                                       | 28/662 [00:00<00:06, 92.10it/s]\n",
      " 28%|███████████                            | 187/662 [00:00<00:03, 128.38it/s]\n",
      " 52%|████████████████████                   | 341/662 [00:00<00:01, 177.08it/s]\n",
      " 76%|█████████████████████████████▌         | 501/662 [00:00<00:00, 241.51it/s]\n",
      " 92%|███████████████████████████████████▋   | 606/662 [00:00<00:00, 298.01it/s]\n",
      "100%|███████████████████████████████████████| 662/662 [00:00<00:00, 827.45it/s]"
     ]
    },
    {
     "name": "stdout",
     "output_type": "stream",
     "text": [
      "[MoviePy] Done.\n",
      "Sq4IGmCle5g\n",
      "581\n",
      "[MoviePy] Writing audio in C:/Users/Ankit/Documents/wpi/cs525/video_data/videos/ad_data\\Sq4IGmCle5g\\This is Jerry This is Control Tower℠ only from Wells Fargo.wav\n"
     ]
    },
    {
     "name": "stderr",
     "output_type": "stream",
     "text": [
      "\n",
      "  0%|                                                  | 0/333 [00:00<?, ?it/s]\n",
      " 11%|████▌                                   | 38/333 [00:00<00:00, 379.98it/s]\n",
      " 30%|███████████▊                           | 101/333 [00:00<00:00, 416.77it/s]\n",
      " 76%|█████████████████████████████▋         | 254/333 [00:00<00:00, 533.15it/s]\n",
      "100%|███████████████████████████████████████| 333/333 [00:00<00:00, 932.72it/s]"
     ]
    },
    {
     "name": "stdout",
     "output_type": "stream",
     "text": [
      "[MoviePy] Done.\n",
      "Stb6DL78XtA\n",
      "582\n",
      "[MoviePy] Writing audio in C:/Users/Ankit/Documents/wpi/cs525/video_data/videos/ad_data\\Stb6DL78XtA\\Untitled Ad.wav\n"
     ]
    },
    {
     "name": "stderr",
     "output_type": "stream",
     "text": [
      "\n",
      "  0%|                                                  | 0/332 [00:00<?, ?it/s]\n",
      " 30%|███████████▊                           | 101/332 [00:00<00:00, 814.47it/s]\n",
      " 77%|█████████████████████████████▊         | 254/332 [00:00<00:00, 931.80it/s]\n",
      "100%|██████████████████████████████████████| 332/332 [00:00<00:00, 1225.02it/s]"
     ]
    },
    {
     "name": "stdout",
     "output_type": "stream",
     "text": [
      "[MoviePy] Done.\n",
      "t4i7kVARVNE\n",
      "583\n",
      "[MoviePy] Writing audio in C:/Users/Ankit/Documents/wpi/cs525/video_data/videos/ad_data\\t4i7kVARVNE\\[FILM] BLACK OPIUM par Yves Saint Laurent - 20 (Official).wav\n"
     ]
    },
    {
     "name": "stderr",
     "output_type": "stream",
     "text": [
      "\n",
      "  0%|                                                  | 0/442 [00:00<?, ?it/s]\n",
      "  6%|██▌                                      | 28/442 [00:00<00:04, 97.90it/s]\n",
      "  9%|███▌                                     | 38/442 [00:00<00:04, 98.52it/s]\n",
      " 23%|████████▉                              | 101/442 [00:00<00:02, 130.75it/s]\n",
      " 46%|█████████████████▉                     | 203/442 [00:00<00:01, 176.60it/s]\n",
      " 87%|██████████████████████████████████     | 386/442 [00:00<00:00, 242.26it/s]\n",
      "100%|███████████████████████████████████████| 442/442 [00:00<00:00, 580.78it/s]"
     ]
    },
    {
     "name": "stdout",
     "output_type": "stream",
     "text": [
      "[MoviePy] Done.\n",
      "T6IZmIkJia4\n",
      "584\n",
      "[MoviePy] Writing audio in C:/Users/Ankit/Documents/wpi/cs525/video_data/videos/ad_data\\T6IZmIkJia4\\Ric Flair - Cumberland Farms Pizza Deal.wav\n"
     ]
    },
    {
     "name": "stderr",
     "output_type": "stream",
     "text": [
      "\n",
      "  0%|                                                  | 0/111 [00:00<?, ?it/s]\n",
      " 59%|███████████████████████▍                | 65/111 [00:00<00:00, 649.96it/s]\n",
      "100%|███████████████████████████████████████| 111/111 [00:00<00:00, 822.18it/s]"
     ]
    },
    {
     "name": "stdout",
     "output_type": "stream",
     "text": [
      "[MoviePy] Done.\n",
      "T6yhOm1oiEc\n",
      "585\n",
      "[MoviePy] Writing audio in C:/Users/Ankit/Documents/wpi/cs525/video_data/videos/ad_data\\T6yhOm1oiEc\\Less Is More  Expedition  Ford.wav\n"
     ]
    },
    {
     "name": "stderr",
     "output_type": "stream",
     "text": [
      "\n",
      "  0%|                                                  | 0/332 [00:00<?, ?it/s]\n",
      "  8%|███▍                                     | 28/332 [00:00<00:04, 73.10it/s]\n",
      " 43%|████████████████▉                      | 144/332 [00:00<00:01, 101.69it/s]\n",
      " 61%|███████████████████████▊               | 203/332 [00:00<00:00, 135.27it/s]\n",
      "100%|███████████████████████████████████████| 332/332 [00:00<00:00, 493.29it/s]"
     ]
    },
    {
     "name": "stdout",
     "output_type": "stream",
     "text": [
      "[MoviePy] Done.\n",
      "t8e8GEn7u7Q\n",
      "586\n",
      "[MoviePy] Writing audio in C:/Users/Ankit/Documents/wpi/cs525/video_data/videos/ad_data\\t8e8GEn7u7Q\\Have you tried the search engine that plants trees.wav\n"
     ]
    },
    {
     "name": "stderr",
     "output_type": "stream",
     "text": [
      "\n",
      "  0%|                                                  | 0/843 [00:00<?, ?it/s]\n",
      "  3%|█▎                                      | 28/843 [00:00<00:03, 239.30it/s]\n",
      " 18%|███████                                | 152/843 [00:00<00:02, 314.78it/s]\n",
      " 36%|██████████████                         | 305/843 [00:00<00:01, 409.60it/s]\n",
      " 54%|█████████████████████                  | 456/843 [00:00<00:00, 524.20it/s]\n",
      " 72%|████████████████████████████▎          | 611/843 [00:00<00:00, 648.31it/s]\n",
      " 91%|███████████████████████████████████▎   | 764/843 [00:00<00:00, 771.94it/s]\n",
      "100%|██████████████████████████████████████| 843/843 [00:00<00:00, 1221.67it/s]"
     ]
    },
    {
     "name": "stdout",
     "output_type": "stream",
     "text": [
      "[MoviePy] Done.\n",
      "TATSIRNswUU\n",
      "587\n",
      "[MoviePy] Writing audio in C:/Users/Ankit/Documents/wpi/cs525/video_data/videos/ad_data\\TATSIRNswUU\\Discover DUPIXENT® (dupilumab) and How It May Help.wav\n"
     ]
    },
    {
     "name": "stderr",
     "output_type": "stream",
     "text": [
      "\n",
      "  0%|                                                 | 0/5560 [00:00<?, ?it/s]\n",
      "  2%|▋                                    | 103/5560 [00:00<00:05, 1029.94it/s]\n",
      "  4%|█▍                                    | 203/5560 [00:00<00:05, 984.57it/s]\n",
      "  5%|██                                    | 304/5560 [00:00<00:05, 958.17it/s]\n",
      "  7%|██▊                                   | 405/5560 [00:00<00:05, 935.28it/s]\n",
      " 10%|███▋                                 | 557/5560 [00:00<00:04, 1050.71it/s]\n",
      " 14%|█████                                | 760/5560 [00:00<00:04, 1153.12it/s]\n",
      " 17%|██████▎                              | 946/5560 [00:00<00:03, 1301.49it/s]\n",
      " 20%|███████▏                            | 1117/5560 [00:00<00:03, 1401.95it/s]\n",
      " 24%|████████▌                           | 1318/5560 [00:00<00:02, 1500.42it/s]\n",
      " 27%|█████████▊                          | 1515/5560 [00:01<00:02, 1615.96it/s]\n",
      " 30%|██████████▉                         | 1685/5560 [00:01<00:02, 1640.26it/s]\n",
      " 33%|████████████                        | 1854/5560 [00:01<00:02, 1645.18it/s]\n",
      " 36%|█████████████                       | 2022/5560 [00:01<00:02, 1576.22it/s]\n",
      " 39%|██████████████▏                     | 2188/5560 [00:01<00:02, 1600.43it/s]\n",
      " 43%|███████████████▍                    | 2377/5560 [00:01<00:01, 1677.51it/s]\n",
      " 46%|████████████████▌                   | 2552/5560 [00:01<00:01, 1698.59it/s]\n",
      " 49%|█████████████████▋                  | 2737/5560 [00:01<00:01, 1731.54it/s]\n",
      " 52%|██████████████████▊                 | 2912/5560 [00:02<00:02, 1193.31it/s]\n",
      " 56%|████████████████████                | 3092/5560 [00:02<00:01, 1271.27it/s]\n",
      " 58%|█████████████████████               | 3244/5560 [00:02<00:01, 1238.81it/s]\n",
      " 62%|██████████████████████▏             | 3429/5560 [00:02<00:01, 1375.09it/s]\n",
      " 64%|███████████████████████▏            | 3581/5560 [00:02<00:01, 1151.69it/s]\n",
      " 67%|████████████████████████            | 3712/5560 [00:02<00:01, 1182.05it/s]\n",
      " 70%|█████████████████████████▏          | 3894/5560 [00:02<00:01, 1320.94it/s]\n",
      " 73%|██████████████████████████▏         | 4040/5560 [00:02<00:01, 1248.17it/s]\n",
      " 75%|███████████████████████████▊         | 4175/5560 [00:03<00:01, 981.72it/s]\n",
      " 77%|███████████████████████████▊        | 4290/5560 [00:03<00:01, 1018.59it/s]\n",
      " 79%|████████████████████████████▌       | 4410/5560 [00:03<00:01, 1028.55it/s]\n",
      " 83%|█████████████████████████████▊      | 4597/5560 [00:03<00:00, 1189.05it/s]\n",
      " 86%|██████████████████████████████▊     | 4765/5560 [00:03<00:00, 1303.30it/s]\n",
      " 89%|████████████████████████████████▏   | 4967/5560 [00:03<00:00, 1436.74it/s]\n",
      " 92%|█████████████████████████████████▏  | 5135/5560 [00:03<00:00, 1501.96it/s]\n",
      " 95%|██████████████████████████████████▎ | 5296/5560 [00:03<00:00, 1200.25it/s]\n",
      " 98%|███████████████████████████████████▏| 5433/5560 [00:04<00:00, 1188.18it/s]\n",
      "100%|████████████████████████████████████| 5560/5560 [00:04<00:00, 1342.92it/s]"
     ]
    },
    {
     "name": "stdout",
     "output_type": "stream",
     "text": [
      "[MoviePy] Done.\n",
      "TbvYNdoRWQo\n",
      "588\n",
      "[MoviePy] Writing audio in C:/Users/Ankit/Documents/wpi/cs525/video_data/videos/ad_data\\TbvYNdoRWQo\\The smart shopping assistant that will save you time and money.wav\n"
     ]
    },
    {
     "name": "stderr",
     "output_type": "stream",
     "text": [
      "\n",
      "  0%|                                                 | 0/1324 [00:00<?, ?it/s]\n",
      "  8%|██▉                                   | 101/1324 [00:00<00:01, 795.23it/s]\n",
      " 21%|████████▏                             | 284/1324 [00:00<00:01, 957.68it/s]\n",
      " 33%|████████████▎                        | 442/1324 [00:00<00:00, 1085.99it/s]\n",
      " 47%|█████████████████▎                   | 621/1324 [00:00<00:00, 1231.25it/s]\n",
      " 56%|█████████████████████▎                | 743/1324 [00:00<00:00, 936.56it/s]\n",
      " 65%|████████████████████████▊             | 866/1324 [00:00<00:00, 991.66it/s]\n",
      " 77%|███████████████████████████▋        | 1019/1324 [00:00<00:00, 1066.93it/s]\n",
      " 89%|████████████████████████████████▊    | 1172/1324 [00:01<00:00, 977.73it/s]\n",
      "100%|████████████████████████████████████| 1324/1324 [00:01<00:00, 1158.29it/s]"
     ]
    },
    {
     "name": "stdout",
     "output_type": "stream",
     "text": [
      "[MoviePy] Done.\n",
      "tc-ohOsAlQw\n",
      "589\n",
      "[MoviePy] Writing audio in C:/Users/Ankit/Documents/wpi/cs525/video_data/videos/ad_data\\tc-ohOsAlQw\\In-Stream Video.wav\n"
     ]
    },
    {
     "name": "stderr",
     "output_type": "stream",
     "text": [
      "\n",
      "  0%|                                                  | 0/332 [00:00<?, ?it/s]\n",
      " 10%|███▉                                    | 33/332 [00:00<00:00, 329.98it/s]\n",
      " 46%|█████████████████▊                     | 152/332 [00:00<00:00, 416.02it/s]\n",
      "100%|██████████████████████████████████████| 332/332 [00:00<00:00, 1067.46it/s]"
     ]
    },
    {
     "name": "stdout",
     "output_type": "stream",
     "text": [
      "[MoviePy] Done.\n",
      "tc5QTEHI2RI\n",
      "590\n",
      "[MoviePy] Writing audio in C:/Users/Ankit/Documents/wpi/cs525/video_data/videos/ad_data\\tc5QTEHI2RI\\Beyond-Announce_GS10_GetReadyOLV_Powershare_OLV_15_EN_N_NA_3-8_NA_Pre-OrderTVC_None_GlobalTemplat…..wav\n"
     ]
    },
    {
     "name": "stderr",
     "output_type": "stream",
     "text": [
      "\n",
      "  0%|                                                  | 0/333 [00:00<?, ?it/s]\n",
      " 46%|█████████████████▎                    | 152/333 [00:00<00:00, 1310.27it/s]\n",
      "100%|██████████████████████████████████████| 333/333 [00:00<00:00, 1578.11it/s]"
     ]
    },
    {
     "name": "stdout",
     "output_type": "stream",
     "text": [
      "[MoviePy] Done.\n",
      "tCWWFC-TeoY\n",
      "591\n",
      "[MoviePy] Writing audio in C:/Users/Ankit/Documents/wpi/cs525/video_data/videos/ad_data\\tCWWFC-TeoY\\Off To Prom 2019  Journeys & Converse.wav\n"
     ]
    },
    {
     "name": "stderr",
     "output_type": "stream",
     "text": [
      "\n",
      "  0%|                                                  | 0/333 [00:00<?, ?it/s]\n",
      "  8%|███▍                                     | 28/333 [00:00<00:05, 56.11it/s]\n",
      " 30%|████████████▏                           | 101/333 [00:00<00:03, 76.29it/s]\n",
      " 47%|██████████████████▉                     | 158/333 [00:01<00:02, 83.65it/s]\n",
      " 92%|███████████████████████████████████▋   | 305/333 [00:01<00:00, 116.57it/s]\n",
      "100%|███████████████████████████████████████| 333/333 [00:01<00:00, 256.34it/s]"
     ]
    },
    {
     "name": "stdout",
     "output_type": "stream",
     "text": [
      "[MoviePy] Done.\n",
      "tdpw6qmM8zs\n",
      "592\n",
      "[MoviePy] Writing audio in C:/Users/Ankit/Documents/wpi/cs525/video_data/videos/ad_data\\tdpw6qmM8zs\\Untitled Ad.wav\n"
     ]
    },
    {
     "name": "stderr",
     "output_type": "stream",
     "text": [
      "\n",
      "  0%|                                                  | 0/331 [00:00<?, ?it/s]\n",
      "  8%|███▍                                     | 28/331 [00:00<00:03, 92.71it/s]\n",
      " 46%|█████████████████▉                     | 152/331 [00:00<00:01, 128.13it/s]\n",
      "100%|███████████████████████████████████████| 331/331 [00:00<00:00, 656.71it/s]"
     ]
    },
    {
     "name": "stdout",
     "output_type": "stream",
     "text": [
      "[MoviePy] Done.\n",
      "TG67gLb19yc\n",
      "593\n",
      "[MoviePy] Writing audio in C:/Users/Ankit/Documents/wpi/cs525/video_data/videos/ad_data\\TG67gLb19yc\\sundaycandy_maps_06_att_wm.wav\n"
     ]
    },
    {
     "name": "stderr",
     "output_type": "stream",
     "text": [
      "\n",
      "  0%|                                                  | 0/134 [00:00<?, ?it/s]\n",
      " 21%|████████▌                                | 28/134 [00:00<00:01, 61.53it/s]\n",
      "100%|███████████████████████████████████████| 134/134 [00:00<00:00, 250.45it/s]"
     ]
    },
    {
     "name": "stdout",
     "output_type": "stream",
     "text": [
      "[MoviePy] Done.\n",
      "TGhvu6gA2ZE\n",
      "594\n",
      "[MoviePy] Writing audio in C:/Users/Ankit/Documents/wpi/cs525/video_data/videos/ad_data\\TGhvu6gA2ZE\\Make Every Sandwich Count with Oscar Mayer Deli Fresh.wav\n"
     ]
    },
    {
     "name": "stderr",
     "output_type": "stream",
     "text": [
      "\n",
      "  0%|                                                  | 0/332 [00:00<?, ?it/s]\n",
      "  8%|███▎                                    | 28/332 [00:00<00:01, 220.46it/s]\n",
      " 30%|███████████▊                           | 101/332 [00:00<00:00, 275.38it/s]\n",
      " 49%|███████████████████▎                   | 164/332 [00:00<00:00, 331.33it/s]\n",
      " 96%|█████████████████████████████████████▎ | 318/332 [00:00<00:00, 433.36it/s]\n",
      "100%|███████████████████████████████████████| 332/332 [00:00<00:00, 742.69it/s]"
     ]
    },
    {
     "name": "stdout",
     "output_type": "stream",
     "text": [
      "[MoviePy] Done.\n",
      "TifC9ZbcQ0k\n",
      "595\n",
      "[MoviePy] Writing audio in C:/Users/Ankit/Documents/wpi/cs525/video_data/videos/ad_data\\TifC9ZbcQ0k\\Meet the Expert Staff at B&H.wav\n"
     ]
    },
    {
     "name": "stderr",
     "output_type": "stream",
     "text": [
      "\n",
      "  0%|                                                 | 0/1787 [00:00<?, ?it/s]\n",
      "  6%|██▏                                   | 101/1787 [00:00<00:01, 943.87it/s]\n",
      " 14%|█████▏                               | 253/1787 [00:00<00:01, 1064.95it/s]\n",
      " 21%|███████▊                             | 380/1787 [00:00<00:01, 1119.15it/s]\n",
      " 30%|███████████                          | 532/1787 [00:00<00:01, 1215.28it/s]\n",
      " 36%|█████████████▏                       | 637/1787 [00:00<00:01, 1058.66it/s]\n",
      " 44%|████████████████▍                    | 794/1787 [00:00<00:00, 1173.28it/s]\n",
      " 54%|████████████████████                 | 967/1787 [00:00<00:00, 1298.64it/s]\n",
      " 62%|██████████████████████▎             | 1107/1787 [00:00<00:00, 1327.45it/s]\n",
      " 71%|█████████████████████████▋          | 1274/1787 [00:00<00:00, 1403.77it/s]\n",
      " 81%|████████████████████████████▉       | 1439/1787 [00:01<00:00, 1469.54it/s]\n",
      " 89%|████████████████████████████████    | 1589/1787 [00:01<00:00, 1240.14it/s]\n",
      " 99%|███████████████████████████████████▍| 1762/1787 [00:01<00:00, 1355.25it/s]\n",
      "100%|████████████████████████████████████| 1787/1787 [00:01<00:00, 1352.69it/s]"
     ]
    },
    {
     "name": "stdout",
     "output_type": "stream",
     "text": [
      "[MoviePy] Done.\n",
      "tLkqaw4mmQs\n",
      "596\n",
      "[MoviePy] Writing audio in C:/Users/Ankit/Documents/wpi/cs525/video_data/videos/ad_data\\tLkqaw4mmQs\\Dream Bigger  2019 Mazda3 Hatchback  Mazda USA.wav\n"
     ]
    },
    {
     "name": "stderr",
     "output_type": "stream",
     "text": [
      "\n",
      "  0%|                                                  | 0/773 [00:00<?, ?it/s]\n",
      " 17%|██████▎                               | 129/773 [00:00<00:00, 1289.92it/s]\n",
      " 39%|██████████████▉                       | 305/773 [00:00<00:00, 1395.59it/s]\n",
      " 64%|████████████████████████▏             | 491/773 [00:00<00:00, 1508.57it/s]\n",
      " 86%|████████████████████████████████▌     | 662/773 [00:00<00:00, 1559.53it/s]\n",
      "100%|██████████████████████████████████████| 773/773 [00:00<00:00, 1684.00it/s]"
     ]
    },
    {
     "name": "stdout",
     "output_type": "stream",
     "text": [
      "[MoviePy] Done.\n",
      "tM25wmU0MZw\n",
      "597\n",
      "[MoviePy] Writing audio in C:/Users/Ankit/Documents/wpi/cs525/video_data/videos/ad_data\\tM25wmU0MZw\\Lean back and get inspired.wav\n"
     ]
    },
    {
     "name": "stderr",
     "output_type": "stream",
     "text": [
      "\n",
      "  0%|                                                  | 0/331 [00:00<?, ?it/s]\n",
      " 32%|████████████▎                         | 107/331 [00:00<00:00, 1069.94it/s]\n",
      " 61%|███████████████████████▉               | 203/331 [00:00<00:00, 986.54it/s]\n",
      "100%|██████████████████████████████████████| 331/331 [00:00<00:00, 1129.63it/s]"
     ]
    },
    {
     "name": "stdout",
     "output_type": "stream",
     "text": [
      "[MoviePy] Done.\n",
      "TNwK6nLtz94\n",
      "598\n",
      "[MoviePy] Writing audio in C:/Users/Ankit/Documents/wpi/cs525/video_data/videos/ad_data\\TNwK6nLtz94\\Engineering a Better Future for Girls  Grammarly.wav\n"
     ]
    },
    {
     "name": "stderr",
     "output_type": "stream",
     "text": [
      "\n",
      "  0%|                                                  | 0/332 [00:00<?, ?it/s]\n",
      " 26%|██████████▍                             | 87/332 [00:00<00:00, 869.95it/s]\n",
      " 77%|█████████████████████████████         | 254/332 [00:00<00:00, 1006.77it/s]\n",
      "100%|██████████████████████████████████████| 332/332 [00:00<00:00, 1366.18it/s]"
     ]
    },
    {
     "name": "stdout",
     "output_type": "stream",
     "text": [
      "[MoviePy] Done.\n",
      "to-bDNrMnW4\n",
      "599\n",
      "[MoviePy] Writing audio in C:/Users/Ankit/Documents/wpi/cs525/video_data/videos/ad_data\\to-bDNrMnW4\\sundaycandy_privateside_15_att_bm.wav\n"
     ]
    },
    {
     "name": "stderr",
     "output_type": "stream",
     "text": [
      "\n",
      "  0%|                                                  | 0/334 [00:00<?, ?it/s]\n",
      "  8%|███▍                                     | 28/334 [00:00<00:03, 98.59it/s]\n",
      " 66%|█████████████████████████▉             | 222/334 [00:00<00:00, 137.83it/s]\n",
      "100%|███████████████████████████████████████| 334/334 [00:00<00:00, 750.52it/s]"
     ]
    },
    {
     "name": "stdout",
     "output_type": "stream",
     "text": [
      "[MoviePy] Done.\n",
      "toscUZo1jGE\n",
      "600\n",
      "[MoviePy] Writing audio in C:/Users/Ankit/Documents/wpi/cs525/video_data/videos/ad_data\\toscUZo1jGE\\Theres literally no reason not to install Honey.wav\n"
     ]
    },
    {
     "name": "stderr",
     "output_type": "stream",
     "text": [
      "\n",
      "  0%|                                                  | 0/819 [00:00<?, ?it/s]\n",
      "  3%|█▍                                       | 28/819 [00:00<00:27, 29.16it/s]\n",
      " 19%|███████▍                                | 152/819 [00:01<00:16, 41.23it/s]\n",
      " 43%|█████████████████▏                      | 351/819 [00:01<00:08, 58.38it/s]\n",
      " 53%|█████████████████████▎                  | 437/819 [00:01<00:04, 80.77it/s]\n",
      " 75%|█████████████████████████████          | 611/819 [00:01<00:01, 113.01it/s]\n",
      " 96%|█████████████████████████████████████▍ | 785/819 [00:01<00:00, 157.07it/s]\n",
      "100%|███████████████████████████████████████| 819/819 [00:01<00:00, 544.88it/s]"
     ]
    },
    {
     "name": "stdout",
     "output_type": "stream",
     "text": [
      "[MoviePy] Done.\n",
      "tovgs7Nnhlc\n",
      "601\n",
      "[MoviePy] Writing audio in C:/Users/Ankit/Documents/wpi/cs525/video_data/videos/ad_data\\tovgs7Nnhlc\\Giannis Antetokounmpos Hulu Has Live Sports Slippers • Hulu • 15 Commercial.wav\n"
     ]
    },
    {
     "name": "stderr",
     "output_type": "stream",
     "text": [
      "\n",
      "  0%|                                                  | 0/332 [00:00<?, ?it/s]\n",
      " 46%|█████████████████▍                    | 152/332 [00:00<00:00, 1447.53it/s]\n",
      " 91%|██████████████████████████████████▌   | 302/332 [00:00<00:00, 1462.86it/s]\n",
      "100%|██████████████████████████████████████| 332/332 [00:00<00:00, 1468.94it/s]"
     ]
    },
    {
     "name": "stdout",
     "output_type": "stream",
     "text": [
      "[MoviePy] Done.\n",
      "Tq3MEn9aiOo\n",
      "602\n",
      "[MoviePy] Writing audio in C:/Users/Ankit/Documents/wpi/cs525/video_data/videos/ad_data\\Tq3MEn9aiOo\\Stand with Trump Poll..wav\n"
     ]
    },
    {
     "name": "stderr",
     "output_type": "stream",
     "text": [
      "\n",
      "  0%|                                                  | 0/332 [00:00<?, ?it/s]\n",
      " 30%|███████████▊                           | 101/332 [00:00<00:00, 990.14it/s]\n",
      " 92%|██████████████████████████████████▉   | 305/332 [00:00<00:00, 1166.89it/s]\n",
      "100%|██████████████████████████████████████| 332/332 [00:00<00:00, 1515.90it/s]"
     ]
    },
    {
     "name": "stdout",
     "output_type": "stream",
     "text": [
      "[MoviePy] Done.\n",
      "Tt5JV9O6jXU\n",
      "603\n",
      "[MoviePy] Writing audio in C:/Users/Ankit/Documents/wpi/cs525/video_data/videos/ad_data\\Tt5JV9O6jXU\\GOT-3 Main Characters Ranks.wav\n"
     ]
    },
    {
     "name": "stderr",
     "output_type": "stream",
     "text": [
      "\n",
      "  0%|                                                  | 0/332 [00:00<?, ?it/s]\n",
      " 30%|███████████▊                           | 101/332 [00:00<00:00, 885.91it/s]\n",
      " 77%|█████████████████████████████         | 254/332 [00:00<00:00, 1007.95it/s]\n",
      "100%|██████████████████████████████████████| 332/332 [00:00<00:00, 1296.80it/s]"
     ]
    },
    {
     "name": "stdout",
     "output_type": "stream",
     "text": [
      "[MoviePy] Done.\n",
      "Tvc4JmWI4Ko\n",
      "604\n",
      "[MoviePy] Writing audio in C:/Users/Ankit/Documents/wpi/cs525/video_data/videos/ad_data\\Tvc4JmWI4Ko\\Get Things Done With Your Team  mondaycom.wav\n"
     ]
    },
    {
     "name": "stderr",
     "output_type": "stream",
     "text": [
      "\n",
      "  0%|                                                  | 0/906 [00:00<?, ?it/s]\n",
      "  3%|█▏                                      | 28/906 [00:00<00:03, 252.24it/s]\n",
      " 22%|████████▋                              | 203/906 [00:00<00:02, 337.80it/s]\n",
      " 39%|███████████████▎                       | 356/906 [00:00<00:01, 440.10it/s]\n",
      " 51%|███████████████████▋                   | 458/906 [00:00<00:00, 509.14it/s]\n",
      " 70%|███████████████████████████▍           | 636/906 [00:00<00:00, 647.91it/s]\n",
      " 82%|████████████████████████████████▏      | 747/906 [00:00<00:00, 627.38it/s]\n",
      " 93%|████████████████████████████████████▎  | 843/906 [00:00<00:00, 689.58it/s]\n",
      "100%|██████████████████████████████████████| 906/906 [00:00<00:00, 1009.98it/s]"
     ]
    },
    {
     "name": "stdout",
     "output_type": "stream",
     "text": [
      "[MoviePy] Done.\n",
      "TwbzAIVY8nI\n",
      "605\n",
      "[MoviePy] Writing audio in C:/Users/Ankit/Documents/wpi/cs525/video_data/videos/ad_data\\TwbzAIVY8nI\\The 2019 Cadillac XT4  Make Your Escape 15.wav\n"
     ]
    },
    {
     "name": "stderr",
     "output_type": "stream",
     "text": [
      "\n",
      "  0%|                                                  | 0/332 [00:00<?, ?it/s]\n",
      "  8%|███▎                                    | 28/332 [00:00<00:02, 110.67it/s]\n",
      " 57%|██████████████████████▎                | 190/332 [00:00<00:00, 153.60it/s]\n",
      "100%|███████████████████████████████████████| 332/332 [00:00<00:00, 756.22it/s]"
     ]
    },
    {
     "name": "stdout",
     "output_type": "stream",
     "text": [
      "[MoviePy] Done.\n",
      "tXOTJtxe88c\n",
      "606\n",
      "[MoviePy] Writing audio in C:/Users/Ankit/Documents/wpi/cs525/video_data/videos/ad_data\\tXOTJtxe88c\\18_Q4_Niss_NNA_Rogue_Manifesto_OLV_15_NORO2529H_Buzzfeed.wav\n"
     ]
    },
    {
     "name": "stderr",
     "output_type": "stream",
     "text": [
      "\n",
      "  0%|                                                  | 0/333 [00:00<?, ?it/s]\n",
      "  8%|███▎                                    | 28/333 [00:00<00:01, 222.21it/s]\n",
      " 57%|██████████████████████▏                | 189/333 [00:00<00:00, 299.71it/s]\n",
      " 73%|████████████████████████████▎          | 242/333 [00:00<00:00, 276.63it/s]\n",
      "100%|███████████████████████████████████████| 333/333 [00:00<00:00, 618.92it/s]"
     ]
    },
    {
     "name": "stdout",
     "output_type": "stream",
     "text": [
      "[MoviePy] Done.\n",
      "Ty5iPN2O8Fk\n",
      "607\n",
      "[MoviePy] Writing audio in C:/Users/Ankit/Documents/wpi/cs525/video_data/videos/ad_data\\Ty5iPN2O8Fk\\WSJ Original Stories Theranos.wav\n"
     ]
    },
    {
     "name": "stderr",
     "output_type": "stream",
     "text": [
      "\n",
      "  0%|                                                  | 0/333 [00:00<?, ?it/s]\n",
      "  8%|███▍                                     | 28/333 [00:00<00:03, 78.87it/s]\n",
      " 30%|███████████▊                           | 101/333 [00:00<00:02, 107.02it/s]\n",
      " 71%|███████████████████████████▌           | 235/333 [00:00<00:00, 147.83it/s]\n",
      "100%|███████████████████████████████████████| 333/333 [00:00<00:00, 512.28it/s]"
     ]
    },
    {
     "name": "stdout",
     "output_type": "stream",
     "text": [
      "[MoviePy] Done.\n",
      "tZhQMyZx7N0\n",
      "608\n",
      "[MoviePy] Writing audio in C:/Users/Ankit/Documents/wpi/cs525/video_data/videos/ad_data\\tZhQMyZx7N0\\David From South Bend v1 (M).wav\n"
     ]
    },
    {
     "name": "stderr",
     "output_type": "stream",
     "text": [
      "\n",
      "  0%|                                                 | 0/2647 [00:00<?, ?it/s]\n",
      "  1%|▍                                      | 28/2647 [00:00<00:11, 223.99it/s]\n",
      "  6%|██▏                                   | 152/2647 [00:00<00:08, 295.08it/s]\n",
      "  9%|███▎                                  | 235/2647 [00:00<00:06, 365.80it/s]\n",
      " 14%|█████▍                                | 381/2647 [00:00<00:04, 471.90it/s]\n",
      " 17%|██████▋                               | 462/2647 [00:00<00:04, 445.90it/s]\n",
      " 22%|████████▍                             | 590/2647 [00:00<00:03, 554.25it/s]\n",
      " 27%|██████████▏                           | 713/2647 [00:00<00:03, 603.09it/s]\n",
      " 33%|████████████▍                         | 866/2647 [00:01<00:02, 671.09it/s]\n",
      " 36%|█████████████▋                        | 952/2647 [00:01<00:02, 609.90it/s]\n",
      " 39%|██████████████▎                      | 1027/2647 [00:01<00:02, 617.37it/s]\n",
      " 44%|████████████████▍                    | 1172/2647 [00:01<00:02, 736.76it/s]\n",
      " 48%|█████████████████▋                   | 1263/2647 [00:01<00:01, 781.37it/s]\n",
      " 52%|███████████████████▏                 | 1376/2647 [00:01<00:01, 821.61it/s]\n",
      " 59%|█████████████████████▊               | 1564/2647 [00:01<00:01, 988.57it/s]\n",
      " 65%|███████████████████████▌            | 1733/2647 [00:01<00:00, 1115.73it/s]\n",
      " 72%|█████████████████████████▊          | 1898/2647 [00:01<00:00, 1235.76it/s]\n",
      " 77%|███████████████████████████▋        | 2040/2647 [00:02<00:00, 1241.93it/s]\n",
      " 83%|█████████████████████████████▊      | 2192/2647 [00:02<00:00, 1210.43it/s]\n",
      " 91%|████████████████████████████████▌   | 2396/2647 [00:02<00:00, 1353.89it/s]\n",
      " 96%|██████████████████████████████████▋ | 2549/2647 [00:02<00:00, 1390.82it/s]\n",
      "100%|████████████████████████████████████| 2647/2647 [00:02<00:00, 1033.52it/s]"
     ]
    },
    {
     "name": "stdout",
     "output_type": "stream",
     "text": [
      "[MoviePy] Done.\n",
      "TzqL3lzIDvg\n",
      "609\n",
      "[MoviePy] Writing audio in C:/Users/Ankit/Documents/wpi/cs525/video_data/videos/ad_data\\TzqL3lzIDvg\\Beyond-Announce_GS10_GetReadyOLV_General_OLV_06_EN_N_NA_3-8_NA_Pre-OrderTVC_None_GlobalTemplate-L…..wav\n"
     ]
    },
    {
     "name": "stderr",
     "output_type": "stream",
     "text": [
      "\n",
      "  0%|                                                  | 0/134 [00:00<?, ?it/s]\n",
      "100%|██████████████████████████████████████| 134/134 [00:00<00:00, 1614.37it/s]"
     ]
    },
    {
     "name": "stdout",
     "output_type": "stream",
     "text": [
      "[MoviePy] Done.\n",
      "tZYEskfJ--k\n",
      "610\n",
      "[MoviePy] Writing audio in C:/Users/Ankit/Documents/wpi/cs525/video_data/videos/ad_data\\tZYEskfJ--k\\Untitled Ad.wav\n"
     ]
    },
    {
     "name": "stderr",
     "output_type": "stream",
     "text": [
      "\n",
      "  0%|                                                  | 0/332 [00:00<?, ?it/s]\n",
      "  8%|███▎                                    | 28/332 [00:00<00:01, 271.83it/s]\n",
      " 37%|██████████████▎                        | 122/332 [00:00<00:00, 345.51it/s]\n",
      " 77%|█████████████████████████████▉         | 255/332 [00:00<00:00, 444.13it/s]\n",
      "100%|███████████████████████████████████████| 332/332 [00:00<00:00, 973.55it/s]"
     ]
    },
    {
     "name": "stdout",
     "output_type": "stream",
     "text": [
      "[MoviePy] Done.\n",
      "u2LIQnmY-C0\n",
      "611\n",
      "[MoviePy] Writing audio in C:/Users/Ankit/Documents/wpi/cs525/video_data/videos/ad_data\\u2LIQnmY-C0\\Faster Health.wav\n"
     ]
    },
    {
     "name": "stderr",
     "output_type": "stream",
     "text": [
      "\n",
      "  0%|                                                  | 0/332 [00:00<?, ?it/s]\n",
      " 22%|████████▉                               | 74/332 [00:00<00:00, 739.96it/s]\n",
      " 61%|███████████████████████▊               | 203/332 [00:00<00:00, 846.81it/s]\n",
      " 92%|███████████████████████████████████▊   | 305/332 [00:00<00:00, 767.39it/s]\n",
      "100%|███████████████████████████████████████| 332/332 [00:00<00:00, 875.94it/s]"
     ]
    },
    {
     "name": "stdout",
     "output_type": "stream",
     "text": [
      "[MoviePy] Done.\n",
      "u85VcUkeBsE\n",
      "612\n",
      "[MoviePy] Writing audio in C:/Users/Ankit/Documents/wpi/cs525/video_data/videos/ad_data\\u85VcUkeBsE\\Icelandic Provisions - Natural Energy.wav\n"
     ]
    },
    {
     "name": "stderr",
     "output_type": "stream",
     "text": [
      "\n",
      "  0%|                                                  | 0/332 [00:00<?, ?it/s]\n",
      "  8%|███▎                                    | 28/332 [00:00<00:01, 159.08it/s]\n",
      " 38%|██████████████▊                        | 126/332 [00:00<00:00, 212.48it/s]\n",
      " 77%|█████████████████████████████▊         | 254/332 [00:00<00:00, 282.44it/s]\n",
      "100%|███████████████████████████████████████| 332/332 [00:00<00:00, 701.86it/s]"
     ]
    },
    {
     "name": "stdout",
     "output_type": "stream",
     "text": [
      "[MoviePy] Done.\n",
      "UAaCepuEJQ8\n",
      "613\n",
      "[MoviePy] Writing audio in C:/Users/Ankit/Documents/wpi/cs525/video_data/videos/ad_data\\UAaCepuEJQ8\\Evergreen Tom 1 Final.wav\n"
     ]
    },
    {
     "name": "stderr",
     "output_type": "stream",
     "text": [
      "\n",
      "  0%|                                                  | 0/780 [00:00<?, ?it/s]\n",
      "  4%|█▍                                       | 28/780 [00:00<00:09, 77.77it/s]\n",
      " 22%|████████▋                              | 174/780 [00:00<00:05, 108.62it/s]\n",
      " 46%|█████████████████▊                     | 356/780 [00:00<00:02, 150.82it/s]\n",
      " 69%|██████████████████████████▊            | 537/780 [00:00<00:01, 208.03it/s]\n",
      " 94%|████████████████████████████████████▌  | 731/780 [00:00<00:00, 284.12it/s]\n",
      "100%|███████████████████████████████████████| 780/780 [00:00<00:00, 974.94it/s]"
     ]
    },
    {
     "name": "stdout",
     "output_type": "stream",
     "text": [
      "[MoviePy] Done.\n",
      "UB4c7KSdx4k\n",
      "614\n",
      "[MoviePy] Writing audio in C:/Users/Ankit/Documents/wpi/cs525/video_data/videos/ad_data\\UB4c7KSdx4k\\This Bowler Knows How to Strike a Pose 15 - GEICO Insurance.wav\n"
     ]
    },
    {
     "name": "stderr",
     "output_type": "stream",
     "text": [
      "\n",
      "  0%|                                                  | 0/333 [00:00<?, ?it/s]\n",
      "  8%|███▍                                     | 28/333 [00:00<00:05, 54.90it/s]\n",
      " 30%|████████████▏                           | 101/333 [00:00<00:03, 75.69it/s]\n",
      " 76%|█████████████████████████████▋         | 254/333 [00:00<00:00, 105.17it/s]\n",
      "100%|███████████████████████████████████████| 333/333 [00:00<00:00, 405.58it/s]"
     ]
    },
    {
     "name": "stdout",
     "output_type": "stream",
     "text": [
      "[MoviePy] Done.\n",
      "UbAjaCfs6W8\n",
      "615\n",
      "[MoviePy] Writing audio in C:/Users/Ankit/Documents/wpi/cs525/video_data/videos/ad_data\\UbAjaCfs6W8\\Premiere Pro in Hollywood 2019  Adobe Creative Cloud.wav\n"
     ]
    },
    {
     "name": "stderr",
     "output_type": "stream",
     "text": [
      "\n",
      "  0%|                                                 | 0/3184 [00:00<?, ?it/s]\n",
      "  1%|▎                                       | 28/3184 [00:00<00:32, 96.55it/s]\n",
      "  6%|██▏                                   | 184/3184 [00:00<00:22, 134.36it/s]\n",
      " 10%|███▋                                  | 307/3184 [00:00<00:15, 183.36it/s]\n",
      " 14%|█████▍                                | 458/3184 [00:00<00:11, 247.76it/s]\n",
      " 18%|██████▋                               | 560/3184 [00:00<00:08, 311.18it/s]\n",
      " 22%|████████▎                             | 696/3184 [00:00<00:06, 404.84it/s]\n",
      " 27%|██████████▎                           | 861/3184 [00:00<00:04, 523.31it/s]\n",
      " 32%|███████████▉                         | 1022/3184 [00:01<00:03, 656.17it/s]\n",
      " 38%|██████████████▏                      | 1223/3184 [00:01<00:02, 774.78it/s]\n",
      " 43%|███████████████▊                     | 1357/3184 [00:01<00:02, 780.12it/s]\n",
      " 47%|█████████████████▌                   | 1508/3184 [00:01<00:01, 912.42it/s]\n",
      " 51%|██████████████████▌                 | 1638/3184 [00:01<00:01, 1002.03it/s]\n",
      " 55%|████████████████████▌                | 1767/3184 [00:01<00:01, 954.71it/s]\n",
      " 59%|█████████████████████▎              | 1886/3184 [00:01<00:01, 1007.16it/s]\n",
      " 64%|███████████████████████▏            | 2047/3184 [00:01<00:01, 1134.60it/s]\n",
      " 68%|████████████████████████▌           | 2177/3184 [00:02<00:00, 1170.05it/s]\n",
      " 74%|██████████████████████████▌         | 2345/3184 [00:02<00:00, 1284.30it/s]\n",
      " 78%|████████████████████████████        | 2485/3184 [00:02<00:00, 1260.04it/s]\n",
      " 82%|█████████████████████████████▌      | 2619/3184 [00:02<00:00, 1139.02it/s]\n",
      " 88%|███████████████████████████████▋    | 2804/3184 [00:02<00:00, 1274.14it/s]\n",
      " 94%|██████████████████████████████████  | 3008/3184 [00:02<00:00, 1429.80it/s]\n",
      "100%|████████████████████████████████████| 3184/3184 [00:02<00:00, 1195.58it/s]"
     ]
    },
    {
     "name": "stdout",
     "output_type": "stream",
     "text": [
      "[MoviePy] Done.\n",
      "UBvIw6tmpnE\n",
      "616\n",
      "[MoviePy] Writing audio in C:/Users/Ankit/Documents/wpi/cs525/video_data/videos/ad_data\\UBvIw6tmpnE\\ziggystardust_piano_15_wm.wav\n"
     ]
    },
    {
     "name": "stderr",
     "output_type": "stream",
     "text": [
      "\n",
      "  0%|                                                  | 0/287 [00:00<?, ?it/s]\n",
      " 53%|████████████████████▏                 | 152/287 [00:00<00:00, 1394.42it/s]\n",
      "100%|██████████████████████████████████████| 287/287 [00:00<00:00, 1630.59it/s]"
     ]
    },
    {
     "name": "stdout",
     "output_type": "stream",
     "text": [
      "[MoviePy] Done.\n",
      "uECBpMcp42s\n",
      "617\n",
      "[MoviePy] Writing audio in C:/Users/Ankit/Documents/wpi/cs525/video_data/videos/ad_data\\uECBpMcp42s\\Lobster Hot Tub Party 15 - GEICO.wav\n"
     ]
    },
    {
     "name": "stderr",
     "output_type": "stream",
     "text": [
      "\n",
      "  0%|                                                  | 0/332 [00:00<?, ?it/s]\n",
      " 15%|█████▉                                  | 49/332 [00:00<00:00, 489.97it/s]\n",
      " 30%|███████████▊                           | 101/332 [00:00<00:00, 442.58it/s]\n",
      " 77%|█████████████████████████████▊         | 254/332 [00:00<00:00, 549.78it/s]\n",
      "100%|███████████████████████████████████████| 332/332 [00:00<00:00, 819.71it/s]"
     ]
    },
    {
     "name": "stdout",
     "output_type": "stream",
     "text": [
      "[MoviePy] Done.\n",
      "Uf7zTCwmBqE\n",
      "618\n",
      "UfVpoI5ksag\n",
      "618\n",
      "[MoviePy] Writing audio in C:/Users/Ankit/Documents/wpi/cs525/video_data/videos/ad_data\\UfVpoI5ksag\\Google — Here to help (Extended).wav\n"
     ]
    },
    {
     "name": "stderr",
     "output_type": "stream",
     "text": [
      "\n",
      "  0%|                                                 | 0/1921 [00:00<?, ?it/s]\n",
      "  1%|▌                                       | 28/1921 [00:00<00:20, 90.90it/s]\n",
      "  8%|███                                   | 152/1921 [00:00<00:14, 123.02it/s]\n",
      " 16%|██████                                | 305/1921 [00:00<00:09, 169.61it/s]\n",
      " 21%|████████                              | 407/1921 [00:00<00:06, 225.58it/s]\n",
      " 29%|███████████                           | 560/1921 [00:00<00:04, 303.10it/s]\n",
      " 34%|████████████▉                         | 656/1921 [00:00<00:03, 363.21it/s]\n",
      " 42%|███████████████▊                      | 798/1921 [00:01<00:02, 467.61it/s]\n",
      " 50%|███████████████████▏                  | 968/1921 [00:01<00:01, 591.33it/s]\n",
      " 57%|████████████████████▉                | 1087/1921 [00:01<00:01, 569.45it/s]\n",
      " 64%|███████████████████████▌             | 1223/1921 [00:01<00:01, 678.37it/s]\n",
      " 72%|██████████████████████████▌          | 1376/1921 [00:01<00:00, 760.89it/s]\n",
      " 78%|████████████████████████████▋        | 1491/1921 [00:01<00:00, 846.84it/s]\n",
      " 87%|███████████████████████████████▏    | 1666/1921 [00:01<00:00, 1001.96it/s]\n",
      " 96%|██████████████████████████████████▌ | 1845/1921 [00:01<00:00, 1154.42it/s]\n",
      "100%|█████████████████████████████████████| 1921/1921 [00:01<00:00, 976.06it/s]"
     ]
    },
    {
     "name": "stdout",
     "output_type": "stream",
     "text": [
      "[MoviePy] Done.\n",
      "UHNNnQR-VhQ\n",
      "619\n",
      "[MoviePy] Writing audio in C:/Users/Ankit/Documents/wpi/cs525/video_data/videos/ad_data\\UHNNnQR-VhQ\\BSTM_na_Q2_na_na_Free For All_na_mp4_15_S_GM 1080..wav\n"
     ]
    },
    {
     "name": "stderr",
     "output_type": "stream",
     "text": [
      "\n",
      "  0%|                                                  | 0/334 [00:00<?, ?it/s]\n",
      "  8%|███▎                                    | 28/334 [00:00<00:02, 131.45it/s]\n",
      " 57%|██████████████████████                 | 189/334 [00:00<00:00, 181.43it/s]\n",
      "100%|███████████████████████████████████████| 334/334 [00:00<00:00, 839.15it/s]"
     ]
    },
    {
     "name": "stdout",
     "output_type": "stream",
     "text": [
      "[MoviePy] Done.\n",
      "UidFzGI2J04\n",
      "620\n",
      "[MoviePy] Writing audio in C:/Users/Ankit/Documents/wpi/cs525/video_data/videos/ad_data\\UidFzGI2J04\\In-Stream Video.wav\n"
     ]
    },
    {
     "name": "stderr",
     "output_type": "stream",
     "text": [
      "\n",
      "  0%|                                                  | 0/332 [00:00<?, ?it/s]\n",
      "  8%|███▎                                    | 28/332 [00:00<00:01, 259.24it/s]\n",
      " 55%|█████████████████████▎                 | 181/332 [00:00<00:00, 345.28it/s]\n",
      "100%|██████████████████████████████████████| 332/332 [00:00<00:00, 1144.76it/s]"
     ]
    },
    {
     "name": "stdout",
     "output_type": "stream",
     "text": [
      "[MoviePy] Done.\n",
      "uIWw_HHYC60\n",
      "621\n",
      "[MoviePy] Writing audio in C:/Users/Ankit/Documents/wpi/cs525/video_data/videos/ad_data\\uIWw_HHYC60\\Fynns Pet Adoption Story at BISSELL Pet Foundations Empty the Shelters Event.wav\n"
     ]
    },
    {
     "name": "stderr",
     "output_type": "stream",
     "text": [
      "\n",
      "  0%|                                                 | 0/1912 [00:00<?, ?it/s]\n",
      "  6%|██▎                                  | 121/1912 [00:00<00:01, 1209.93it/s]\n",
      " 16%|██████                               | 311/1912 [00:00<00:01, 1357.87it/s]\n",
      " 23%|████████▍                            | 436/1912 [00:00<00:01, 1323.58it/s]\n",
      " 29%|██████████▊                          | 560/1912 [00:00<00:01, 1261.68it/s]\n",
      " 37%|█████████████▊                       | 713/1912 [00:00<00:00, 1304.47it/s]\n",
      " 44%|████████████████▎                    | 840/1912 [00:00<00:00, 1293.91it/s]\n",
      " 51%|██████████████████▋                  | 968/1912 [00:00<00:00, 1199.07it/s]\n",
      " 57%|████████████████████▌               | 1093/1912 [00:00<00:00, 1213.89it/s]\n",
      " 65%|███████████████████████▎            | 1236/1912 [00:00<00:00, 1271.52it/s]\n",
      " 75%|██████████████████████████▉         | 1429/1912 [00:01<00:00, 1416.49it/s]\n",
      " 85%|██████████████████████████████▋     | 1631/1912 [00:01<00:00, 1541.68it/s]\n",
      " 96%|██████████████████████████████████▌ | 1835/1912 [00:01<00:00, 1643.46it/s]\n",
      "100%|████████████████████████████████████| 1912/1912 [00:01<00:00, 1482.09it/s]"
     ]
    },
    {
     "name": "stdout",
     "output_type": "stream",
     "text": [
      "[MoviePy] Done.\n",
      "UJ0IiyYDgUE\n",
      "622\n",
      "[MoviePy] Writing audio in C:/Users/Ankit/Documents/wpi/cs525/video_data/videos/ad_data\\UJ0IiyYDgUE\\Doctor This is the root-cause of high blood sugar.wav\n"
     ]
    },
    {
     "name": "stderr",
     "output_type": "stream",
     "text": [
      "\n",
      "  0%|                                                  | 0/602 [00:00<?, ?it/s]\n",
      "  5%|█▉                                       | 28/602 [00:00<00:13, 42.42it/s]\n",
      " 17%|██████▋                                 | 101/602 [00:00<00:08, 59.04it/s]\n",
      " 39%|███████████████▍                        | 233/602 [00:00<00:04, 82.76it/s]\n",
      " 68%|██████████████████████████▌            | 410/602 [00:00<00:01, 115.91it/s]\n",
      " 99%|██████████████████████████████████████▋| 598/602 [00:01<00:00, 161.32it/s]\n",
      "100%|███████████████████████████████████████| 602/602 [00:01<00:00, 562.06it/s]"
     ]
    },
    {
     "name": "stdout",
     "output_type": "stream",
     "text": [
      "[MoviePy] Done.\n",
      "UJ2z8sxU334\n",
      "623\n",
      "[MoviePy] Writing audio in C:/Users/Ankit/Documents/wpi/cs525/video_data/videos/ad_data\\UJ2z8sxU334\\Jack Link’s – Power Thru Overtime.wav\n"
     ]
    },
    {
     "name": "stderr",
     "output_type": "stream",
     "text": [
      "\n",
      "  0%|                                                  | 0/663 [00:00<?, ?it/s]\n",
      "  4%|█▋                                      | 28/663 [00:00<00:02, 243.46it/s]\n",
      " 25%|█████████▉                             | 169/663 [00:00<00:01, 323.84it/s]\n",
      " 46%|██████████████████                     | 306/663 [00:00<00:00, 420.07it/s]\n",
      " 75%|█████████████████████████████▍         | 500/663 [00:00<00:00, 549.14it/s]\n",
      "100%|██████████████████████████████████████| 663/663 [00:00<00:00, 1299.93it/s]"
     ]
    },
    {
     "name": "stdout",
     "output_type": "stream",
     "text": [
      "[MoviePy] Done.\n",
      "ulNup-U6xbc\n",
      "624\n",
      "[MoviePy] Writing audio in C:/Users/Ankit/Documents/wpi/cs525/video_data/videos/ad_data\\ulNup-U6xbc\\IOTR0136000H (Roomba_i7+_Throwdown_TVSpot_30_Viewing)..wav\n"
     ]
    },
    {
     "name": "stderr",
     "output_type": "stream",
     "text": [
      "\n",
      "  0%|                                                  | 0/664 [00:00<?, ?it/s]\n",
      "  4%|█▋                                       | 28/664 [00:00<00:10, 59.07it/s]\n",
      " 25%|██████████                              | 167/664 [00:00<00:05, 82.87it/s]\n",
      " 46%|█████████████████▉                     | 305/664 [00:00<00:03, 115.22it/s]\n",
      " 73%|████████████████████████████▌          | 487/664 [00:00<00:01, 160.25it/s]\n",
      "100%|██████████████████████████████████████▉| 662/664 [00:00<00:00, 220.20it/s]\n",
      "100%|███████████████████████████████████████| 664/664 [00:00<00:00, 746.86it/s]"
     ]
    },
    {
     "name": "stdout",
     "output_type": "stream",
     "text": [
      "[MoviePy] Done.\n",
      "ULUmsaz4aeM\n",
      "625\n",
      "[MoviePy] Writing audio in C:/Users/Ankit/Documents/wpi/cs525/video_data/videos/ad_data\\ULUmsaz4aeM\\Wild_Mountain_MSW_15_rev0_WM.wav\n"
     ]
    },
    {
     "name": "stderr",
     "output_type": "stream",
     "text": [
      "\n",
      "  0%|                                                  | 0/332 [00:00<?, ?it/s]\n",
      " 46%|█████████████████▍                    | 152/332 [00:00<00:00, 1420.48it/s]\n",
      "100%|██████████████████████████████████████| 332/332 [00:00<00:00, 1685.18it/s]"
     ]
    },
    {
     "name": "stdout",
     "output_type": "stream",
     "text": [
      "[MoviePy] Done.\n",
      "umyNYBvzQE4\n",
      "626\n",
      "[MoviePy] Writing audio in C:/Users/Ankit/Documents/wpi/cs525/video_data/videos/ad_data\\umyNYBvzQE4\\How do you make a slam dunk at the potluck 0060.wav\n"
     ]
    },
    {
     "name": "stderr",
     "output_type": "stream",
     "text": [
      "\n",
      "  0%|                                                  | 0/331 [00:00<?, ?it/s]\n",
      "  8%|███▍                                    | 28/331 [00:00<00:01, 235.28it/s]\n",
      " 32%|████████████▍                          | 106/331 [00:00<00:00, 297.64it/s]\n",
      " 92%|███████████████████████████████████▋   | 303/331 [00:00<00:00, 399.34it/s]\n",
      "100%|███████████████████████████████████████| 331/331 [00:00<00:00, 973.47it/s]"
     ]
    },
    {
     "name": "stdout",
     "output_type": "stream",
     "text": [
      "[MoviePy] Done.\n",
      "uN8FkY6R57k\n",
      "627\n",
      "[MoviePy] Writing audio in C:/Users/Ankit/Documents/wpi/cs525/video_data/videos/ad_data\\uN8FkY6R57k\\Sophia Roe Popcorn Shop.wav\n"
     ]
    },
    {
     "name": "stderr",
     "output_type": "stream",
     "text": [
      "\n",
      "  0%|                                                  | 0/525 [00:00<?, ?it/s]\n",
      "  5%|██▏                                     | 28/525 [00:00<00:03, 153.00it/s]\n",
      " 29%|███████████▎                           | 152/525 [00:00<00:01, 204.20it/s]\n",
      " 65%|█████████████████████████▎             | 340/525 [00:00<00:00, 278.74it/s]\n",
      " 97%|█████████████████████████████████████▊ | 509/525 [00:00<00:00, 371.67it/s]\n",
      "100%|███████████████████████████████████████| 525/525 [00:00<00:00, 996.15it/s]"
     ]
    },
    {
     "name": "stdout",
     "output_type": "stream",
     "text": [
      "[MoviePy] Done.\n",
      "uqDuJ67-M_4\n",
      "628\n",
      "[MoviePy] Writing audio in C:/Users/Ankit/Documents/wpi/cs525/video_data/videos/ad_data\\uqDuJ67-M_4\\In-Stream Video.wav\n"
     ]
    },
    {
     "name": "stderr",
     "output_type": "stream",
     "text": [
      "\n",
      "  0%|                                                  | 0/332 [00:00<?, ?it/s]\n",
      " 30%|███████████▊                           | 101/332 [00:00<00:00, 612.09it/s]\n",
      " 46%|█████████████████▊                     | 152/332 [00:00<00:00, 538.96it/s]\n",
      " 82%|███████████████████████████████▉       | 272/332 [00:00<00:00, 645.65it/s]\n",
      "100%|███████████████████████████████████████| 332/332 [00:00<00:00, 752.79it/s]"
     ]
    },
    {
     "name": "stdout",
     "output_type": "stream",
     "text": [
      "[MoviePy] Done.\n",
      "UquGFo6jfzw\n",
      "629\n",
      "[MoviePy] Writing audio in C:/Users/Ankit/Documents/wpi/cs525/video_data/videos/ad_data\\UquGFo6jfzw\\Toro Days Sales Event - 418 - 5119.wav\n"
     ]
    },
    {
     "name": "stderr",
     "output_type": "stream",
     "text": [
      "\n",
      "  0%|                                                  | 0/439 [00:00<?, ?it/s]\n",
      "  6%|██▌                                     | 28/439 [00:00<00:01, 235.28it/s]\n",
      " 23%|████████▉                              | 101/439 [00:00<00:01, 289.35it/s]\n",
      " 55%|█████████████████████▎                 | 240/439 [00:00<00:00, 379.50it/s]\n",
      " 81%|███████████████████████████████▋       | 356/439 [00:00<00:00, 474.89it/s]\n",
      "100%|███████████████████████████████████████| 439/439 [00:00<00:00, 912.63it/s]"
     ]
    },
    {
     "name": "stdout",
     "output_type": "stream",
     "text": [
      "[MoviePy] Done.\n",
      "US8Uc1--VIY\n",
      "630\n",
      "[MoviePy] Writing audio in C:/Users/Ankit/Documents/wpi/cs525/video_data/videos/ad_data\\US8Uc1--VIY\\A Paint Color for All Seasons.wav\n"
     ]
    },
    {
     "name": "stderr",
     "output_type": "stream",
     "text": [
      "\n",
      "  0%|                                                  | 0/374 [00:00<?, ?it/s]\n",
      " 14%|█████▌                                  | 52/374 [00:00<00:00, 519.97it/s]\n",
      " 53%|████████████████████▊                  | 200/374 [00:00<00:00, 645.60it/s]\n",
      "100%|██████████████████████████████████████| 374/374 [00:00<00:00, 1267.72it/s]"
     ]
    },
    {
     "name": "stdout",
     "output_type": "stream",
     "text": [
      "[MoviePy] Done.\n",
      "utYKc3CNGZ8\n",
      "631\n",
      "[MoviePy] Writing audio in C:/Users/Ankit/Documents/wpi/cs525/video_data/videos/ad_data\\utYKc3CNGZ8\\Episode 6 – The Revelation BeMyGuest.wav\n"
     ]
    },
    {
     "name": "stderr",
     "output_type": "stream",
     "text": [
      "\n",
      "  0%|                                                 | 0/2735 [00:00<?, ?it/s]\n",
      "  4%|█▍                                    | 101/2735 [00:00<00:02, 885.91it/s]\n",
      "  9%|███▌                                  | 254/2735 [00:00<00:02, 984.59it/s]\n",
      " 13%|████▉                                 | 356/2735 [00:00<00:02, 865.73it/s]\n",
      " 15%|█████▊                                | 418/2735 [00:00<00:03, 668.58it/s]\n",
      " 17%|██████▌                               | 474/2735 [00:00<00:04, 551.54it/s]\n",
      " 20%|███████▊                              | 560/2735 [00:00<00:03, 615.38it/s]\n",
      " 24%|█████████▏                            | 662/2735 [00:00<00:03, 670.93it/s]\n",
      " 27%|██████████▏                           | 731/2735 [00:00<00:02, 676.53it/s]\n",
      " 29%|███████████                           | 800/2735 [00:01<00:03, 582.30it/s]\n",
      " 32%|████████████                          | 866/2735 [00:01<00:03, 480.89it/s]\n",
      " 35%|█████████████▍                        | 969/2735 [00:01<00:03, 572.44it/s]\n",
      " 39%|██████████████▍                      | 1070/2735 [00:01<00:02, 611.35it/s]\n",
      " 43%|███████████████▊                     | 1172/2735 [00:01<00:02, 679.58it/s]\n",
      " 47%|█████████████████▎                   | 1283/2735 [00:01<00:01, 769.03it/s]\n",
      " 54%|███████████████████▉                 | 1471/2735 [00:01<00:01, 934.74it/s]\n",
      " 58%|█████████████████████▍               | 1589/2735 [00:02<00:01, 905.12it/s]\n",
      " 62%|██████████████████████▉              | 1697/2735 [00:02<00:01, 848.21it/s]\n",
      " 68%|████████████████████████▉            | 1847/2735 [00:02<00:00, 975.34it/s]\n",
      " 73%|██████████████████████████▏         | 1988/2735 [00:02<00:00, 1055.41it/s]\n",
      " 80%|████████████████████████████▊       | 2192/2735 [00:02<00:00, 1218.61it/s]\n",
      " 85%|██████████████████████████████▋     | 2333/2735 [00:02<00:00, 1095.60it/s]\n",
      " 90%|█████████████████████████████████▎   | 2458/2735 [00:02<00:00, 979.87it/s]\n",
      " 95%|██████████████████████████████████▏ | 2602/2735 [00:02<00:00, 1083.75it/s]\n",
      "100%|████████████████████████████████████▊| 2723/2735 [00:03<00:00, 975.35it/s]\n",
      "100%|█████████████████████████████████████| 2735/2735 [00:03<00:00, 891.12it/s]"
     ]
    },
    {
     "name": "stdout",
     "output_type": "stream",
     "text": [
      "[MoviePy] Done.\n",
      "uwieag1Gp10\n",
      "632\n",
      "[MoviePy] Writing audio in C:/Users/Ankit/Documents/wpi/cs525/video_data/videos/ad_data\\uwieag1Gp10\\Sapphire Reserve The Places In Between -- Nashville (06)A.wav\n"
     ]
    },
    {
     "name": "stderr",
     "output_type": "stream",
     "text": [
      "\n",
      "  0%|                                                  | 0/133 [00:00<?, ?it/s]\n",
      " 22%|████████▋                               | 29/133 [00:00<00:00, 289.98it/s]\n",
      "100%|███████████████████████████████████████| 133/133 [00:00<00:00, 755.64it/s]"
     ]
    },
    {
     "name": "stdout",
     "output_type": "stream",
     "text": [
      "[MoviePy] Done.\n",
      "uXdPpXrleds\n",
      "633\n",
      "[MoviePy] Writing audio in C:/Users/Ankit/Documents/wpi/cs525/video_data/videos/ad_data\\uXdPpXrleds\\Moments02 KitchenKnives.wav\n"
     ]
    },
    {
     "name": "stderr",
     "output_type": "stream",
     "text": [
      "\n",
      "  0%|                                                 | 0/2581 [00:00<?, ?it/s]\n",
      "  1%|▍                                      | 28/2581 [00:00<00:10, 245.60it/s]\n",
      "  6%|██▏                                   | 152/2581 [00:00<00:07, 322.65it/s]\n",
      " 10%|███▉                                  | 266/2581 [00:00<00:05, 411.06it/s]\n",
      " 17%|██████▌                               | 448/2581 [00:00<00:03, 535.40it/s]\n",
      " 24%|████████▉                             | 610/2581 [00:00<00:02, 660.13it/s]\n",
      " 28%|██████████▋                           | 723/2581 [00:00<00:03, 525.02it/s]\n",
      " 32%|███████████▉                          | 814/2581 [00:00<00:03, 571.86it/s]\n",
      " 35%|█████████████▍                        | 915/2581 [00:01<00:02, 627.97it/s]\n",
      " 39%|██████████████▋                       | 999/2581 [00:01<00:02, 652.50it/s]\n",
      " 42%|███████████████▍                     | 1079/2581 [00:01<00:02, 666.52it/s]\n",
      " 45%|████████████████▊                    | 1170/2581 [00:01<00:02, 665.82it/s]\n",
      " 48%|█████████████████▊                   | 1244/2581 [00:01<00:02, 523.33it/s]\n",
      " 53%|███████████████████▋                 | 1373/2581 [00:01<00:01, 629.42it/s]\n",
      " 56%|████████████████████▊                | 1453/2581 [00:01<00:01, 660.76it/s]\n",
      " 59%|█████████████████████▉               | 1531/2581 [00:02<00:01, 597.08it/s]\n",
      " 65%|████████████████████████             | 1678/2581 [00:02<00:01, 700.53it/s]\n",
      " 73%|██████████████████████████▉          | 1881/2581 [00:02<00:00, 871.82it/s]\n",
      " 79%|████████████████████████████▍       | 2040/2581 [00:02<00:00, 1008.46it/s]\n",
      " 86%|██████████████████████████████▊     | 2213/2581 [00:02<00:00, 1152.67it/s]\n",
      " 92%|████████████████████████████████▉   | 2365/2581 [00:02<00:00, 1242.76it/s]\n",
      " 97%|████████████████████████████████████ | 2512/2581 [00:02<00:00, 928.01it/s]\n",
      "100%|█████████████████████████████████████| 2581/2581 [00:02<00:00, 898.94it/s]"
     ]
    },
    {
     "name": "stdout",
     "output_type": "stream",
     "text": [
      "[MoviePy] Done.\n",
      "uxZrMFJsRqM\n",
      "634\n",
      "[MoviePy] Writing audio in C:/Users/Ankit/Documents/wpi/cs525/video_data/videos/ad_data\\uxZrMFJsRqM\\Logan Mize - Better Off Gone (Official Music Video).wav\n"
     ]
    },
    {
     "name": "stderr",
     "output_type": "stream",
     "text": [
      "\n",
      "  0%|                                                 | 0/4055 [00:00<?, ?it/s]\n",
      "  1%|▎                                      | 28/4055 [00:00<00:15, 254.53it/s]\n",
      "  4%|█▍                                    | 152/4055 [00:00<00:11, 332.33it/s]\n",
      "  8%|██▊                                   | 305/4055 [00:00<00:09, 413.21it/s]\n",
      " 11%|████                                  | 432/4055 [00:00<00:06, 518.06it/s]\n",
      " 15%|█████▋                                | 611/4055 [00:00<00:05, 654.08it/s]\n",
      " 19%|███████▏                              | 764/4055 [00:00<00:04, 786.05it/s]\n",
      " 23%|████████▌                             | 917/4055 [00:00<00:03, 915.34it/s]\n",
      " 28%|█████████▉                          | 1119/4055 [00:00<00:02, 1094.97it/s]\n",
      " 31%|███████████▎                        | 1269/4055 [00:00<00:02, 1180.22it/s]\n",
      " 35%|████████████▋                       | 1427/4055 [00:01<00:02, 1255.83it/s]\n",
      " 39%|██████████████                      | 1591/4055 [00:01<00:01, 1350.73it/s]\n",
      " 43%|███████████████▍                    | 1744/4055 [00:01<00:01, 1246.00it/s]\n",
      " 48%|█████████████████▏                  | 1929/4055 [00:01<00:01, 1381.28it/s]\n",
      " 51%|██████████████████▍                 | 2082/4055 [00:01<00:01, 1289.62it/s]\n",
      " 55%|███████████████████▋                | 2223/4055 [00:01<00:01, 1290.78it/s]\n",
      " 59%|█████████████████████▏              | 2393/4055 [00:01<00:01, 1391.23it/s]\n",
      " 63%|██████████████████████▌             | 2540/4055 [00:01<00:01, 1409.87it/s]\n",
      " 66%|███████████████████████▊            | 2687/4055 [00:02<00:01, 1233.35it/s]\n",
      " 70%|█████████████████████████           | 2819/4055 [00:02<00:01, 1050.78it/s]\n",
      " 73%|██████████████████████████▎         | 2957/4055 [00:02<00:01, 1096.69it/s]\n",
      " 77%|███████████████████████████▌        | 3110/4055 [00:02<00:00, 1179.10it/s]\n",
      " 80%|████████████████████████████▉       | 3261/4055 [00:02<00:00, 1262.05it/s]\n",
      " 84%|██████████████████████████████▎     | 3416/4055 [00:02<00:00, 1237.30it/s]\n",
      " 88%|███████████████████████████████▌    | 3562/4055 [00:02<00:00, 1296.61it/s]\n",
      " 92%|█████████████████████████████████   | 3722/4055 [00:02<00:00, 1347.02it/s]\n",
      " 96%|██████████████████████████████████▋ | 3910/4055 [00:02<00:00, 1472.21it/s]\n",
      "100%|████████████████████████████████████| 4055/4055 [00:03<00:00, 1317.34it/s]"
     ]
    },
    {
     "name": "stdout",
     "output_type": "stream",
     "text": [
      "[MoviePy] Done.\n",
      "uzMeEvS596A\n",
      "635\n",
      "[MoviePy] Writing audio in C:/Users/Ankit/Documents/wpi/cs525/video_data/videos/ad_data\\uzMeEvS596A\\Discovery – The World is Ours.wav\n"
     ]
    },
    {
     "name": "stderr",
     "output_type": "stream",
     "text": [
      "\n",
      "  0%|                                                  | 0/663 [00:00<?, ?it/s]\n",
      "  4%|█▋                                      | 28/663 [00:00<00:02, 269.22it/s]\n",
      " 23%|████████▉                              | 152/663 [00:00<00:01, 351.85it/s]\n",
      " 31%|███████████▉                           | 203/663 [00:00<00:01, 381.84it/s]\n",
      " 38%|██████████████▉                        | 254/663 [00:00<00:01, 397.51it/s]\n",
      " 54%|████████████████████▉                  | 356/663 [00:00<00:00, 477.04it/s]\n",
      " 74%|████████████████████████████▉          | 492/663 [00:00<00:00, 592.42it/s]\n",
      " 92%|███████████████████████████████████▉   | 611/663 [00:00<00:00, 674.94it/s]\n",
      "100%|███████████████████████████████████████| 663/663 [00:00<00:00, 843.46it/s]"
     ]
    },
    {
     "name": "stdout",
     "output_type": "stream",
     "text": [
      "[MoviePy] Done.\n",
      "V-QG-V8Ro6w\n",
      "636\n",
      "[MoviePy] Writing audio in C:/Users/Ankit/Documents/wpi/cs525/video_data/videos/ad_data\\V-QG-V8Ro6w\\A Stolen Life The Sarah Root Story.wav\n"
     ]
    },
    {
     "name": "stderr",
     "output_type": "stream",
     "text": [
      "\n",
      "  0%|                                                 | 0/4576 [00:00<?, ?it/s]\n",
      "  3%|█                                    | 125/4576 [00:00<00:03, 1249.93it/s]\n",
      "  7%|██▍                                  | 305/4576 [00:00<00:03, 1369.79it/s]\n",
      " 10%|███▋                                 | 458/4576 [00:00<00:02, 1387.26it/s]\n",
      " 14%|█████▎                               | 655/4576 [00:00<00:02, 1522.34it/s]\n",
      " 18%|██████▋                              | 827/4576 [00:00<00:02, 1576.67it/s]\n",
      " 22%|████████                            | 1019/4576 [00:00<00:02, 1644.61it/s]\n",
      " 26%|█████████▏                          | 1173/4576 [00:00<00:02, 1525.52it/s]\n",
      " 29%|██████████▍                         | 1325/4576 [00:00<00:02, 1290.88it/s]\n",
      " 33%|███████████▊                        | 1498/4576 [00:00<00:02, 1397.26it/s]\n",
      " 36%|████████████▉                       | 1642/4576 [00:01<00:02, 1149.75it/s]\n",
      " 39%|█████████████▉                      | 1768/4576 [00:01<00:02, 1061.37it/s]\n",
      " 42%|███████████████▏                    | 1937/4576 [00:01<00:02, 1184.62it/s]\n",
      " 45%|████████████████▎                   | 2066/4576 [00:01<00:02, 1149.44it/s]\n",
      " 48%|█████████████████▏                  | 2192/4576 [00:01<00:02, 1154.53it/s]\n",
      " 51%|██████████████████▎                 | 2329/4576 [00:01<00:01, 1211.69it/s]\n",
      " 55%|███████████████████▊                | 2524/4576 [00:01<00:01, 1366.94it/s]\n",
      " 59%|█████████████████████▍              | 2720/4576 [00:01<00:01, 1503.39it/s]\n",
      " 63%|██████████████████████▋             | 2882/4576 [00:02<00:01, 1498.18it/s]\n",
      " 67%|████████████████████████            | 3059/4576 [00:02<00:00, 1558.07it/s]\n",
      " 71%|█████████████████████████▌          | 3251/4576 [00:02<00:00, 1651.44it/s]\n",
      " 75%|██████████████████████████▉         | 3422/4576 [00:02<00:00, 1262.12it/s]\n",
      " 78%|████████████████████████████        | 3567/4576 [00:02<00:00, 1123.83it/s]\n",
      " 81%|█████████████████████████████▎      | 3722/4576 [00:02<00:00, 1216.20it/s]\n",
      " 85%|██████████████████████████████▋     | 3907/4576 [00:02<00:00, 1355.50it/s]\n",
      " 89%|████████████████████████████████    | 4079/4576 [00:02<00:00, 1443.86it/s]\n",
      " 93%|█████████████████████████████████▍  | 4252/4576 [00:03<00:00, 1519.22it/s]\n",
      " 97%|██████████████████████████████████▋ | 4416/4576 [00:03<00:00, 1553.52it/s]\n",
      "100%|████████████████████████████████████| 4576/4576 [00:03<00:00, 1426.35it/s]"
     ]
    },
    {
     "name": "stdout",
     "output_type": "stream",
     "text": [
      "[MoviePy] Done.\n",
      "V2JJJQGpWvg\n",
      "637\n",
      "[MoviePy] Writing audio in C:/Users/Ankit/Documents/wpi/cs525/video_data/videos/ad_data\\V2JJJQGpWvg\\YKOH T2EC QuestionAnswerTestimonialV2 16X9 nopromo.wav\n"
     ]
    },
    {
     "name": "stderr",
     "output_type": "stream",
     "text": [
      "\n",
      "  0%|                                                  | 0/307 [00:00<?, ?it/s]\n",
      " 33%|████████████▊                          | 101/307 [00:00<00:00, 878.21it/s]\n",
      " 50%|███████████████████▌                   | 154/307 [00:00<00:00, 733.60it/s]\n",
      " 91%|███████████████████████████████████▍   | 279/307 [00:00<00:00, 837.37it/s]\n",
      "100%|███████████████████████████████████████| 307/307 [00:00<00:00, 919.11it/s]"
     ]
    },
    {
     "name": "stdout",
     "output_type": "stream",
     "text": [
      "[MoviePy] Done.\n",
      "V5Fl-xheqPs\n",
      "638\n",
      "[MoviePy] Writing audio in C:/Users/Ankit/Documents/wpi/cs525/video_data/videos/ad_data\\V5Fl-xheqPs\\Pulp-Fiction_A-New-Way-To-Travel_15_BM.wav\n"
     ]
    },
    {
     "name": "stderr",
     "output_type": "stream",
     "text": [
      "\n",
      "  0%|                                                  | 0/331 [00:00<?, ?it/s]\n",
      "  8%|███▍                                    | 28/331 [00:00<00:01, 231.39it/s]\n",
      " 65%|█████████████████████████▎             | 215/331 [00:00<00:00, 313.91it/s]\n",
      "100%|██████████████████████████████████████| 331/331 [00:00<00:00, 1177.87it/s]"
     ]
    },
    {
     "name": "stdout",
     "output_type": "stream",
     "text": [
      "[MoviePy] Done.\n",
      "V7dhnKaGeUg\n",
      "639\n",
      "[MoviePy] Writing audio in C:/Users/Ankit/Documents/wpi/cs525/video_data/videos/ad_data\\V7dhnKaGeUg\\Write the Future with Grammarly.wav\n"
     ]
    },
    {
     "name": "stderr",
     "output_type": "stream",
     "text": [
      "\n",
      "  0%|                                                  | 0/798 [00:00<?, ?it/s]\n",
      "  4%|█▍                                       | 28/798 [00:00<00:08, 90.03it/s]\n",
      " 25%|█████████▉                             | 203/798 [00:00<00:04, 125.78it/s]\n",
      " 47%|██████████████████▌                    | 379/798 [00:00<00:02, 174.35it/s]\n",
      " 70%|███████████████████████████▎           | 560/798 [00:00<00:00, 238.34it/s]\n",
      " 94%|████████████████████████████████████▋  | 751/798 [00:00<00:00, 323.20it/s]\n",
      "100%|██████████████████████████████████████| 798/798 [00:00<00:00, 1059.70it/s]"
     ]
    },
    {
     "name": "stdout",
     "output_type": "stream",
     "text": [
      "[MoviePy] Done.\n",
      "VAYPpvXxvd8\n",
      "640\n",
      "[MoviePy] Writing audio in C:/Users/Ankit/Documents/wpi/cs525/video_data/videos/ad_data\\VAYPpvXxvd8\\Pulp-Fiction_A-New-Way-To-Start-Your-Business_15_WM.wav\n"
     ]
    },
    {
     "name": "stderr",
     "output_type": "stream",
     "text": [
      "\n",
      "  0%|                                                  | 0/331 [00:00<?, ?it/s]\n",
      "  8%|███▍                                    | 28/331 [00:00<00:02, 150.53it/s]\n",
      " 61%|███████████████████████▉               | 203/331 [00:00<00:00, 206.95it/s]\n",
      "100%|███████████████████████████████████████| 331/331 [00:00<00:00, 924.53it/s]"
     ]
    },
    {
     "name": "stdout",
     "output_type": "stream",
     "text": [
      "[MoviePy] Done.\n",
      "vbUm7TDhjFg\n",
      "641\n",
      "[MoviePy] Writing audio in C:/Users/Ankit/Documents/wpi/cs525/video_data/videos/ad_data\\vbUm7TDhjFg\\In-Stream Video.wav\n"
     ]
    },
    {
     "name": "stderr",
     "output_type": "stream",
     "text": [
      "\n",
      "  0%|                                                  | 0/332 [00:00<?, ?it/s]\n",
      "  8%|███▍                                     | 28/332 [00:00<00:04, 74.86it/s]\n",
      " 44%|█████████████████▏                     | 146/332 [00:00<00:01, 104.11it/s]\n",
      " 91%|███████████████████████████████████▎   | 301/332 [00:00<00:00, 144.57it/s]\n",
      "100%|███████████████████████████████████████| 332/332 [00:00<00:00, 553.30it/s]"
     ]
    },
    {
     "name": "stdout",
     "output_type": "stream",
     "text": [
      "[MoviePy] Done.\n",
      "vFC9Vk2LEu4\n",
      "642\n",
      "[MoviePy] Writing audio in C:/Users/Ankit/Documents/wpi/cs525/video_data/videos/ad_data\\vFC9Vk2LEu4\\Bookingcom - What Youre Looking For.wav\n"
     ]
    },
    {
     "name": "stderr",
     "output_type": "stream",
     "text": [
      "\n",
      "  0%|                                                  | 0/365 [00:00<?, ?it/s]\n",
      "  8%|███                                     | 28/365 [00:00<00:01, 245.60it/s]\n",
      " 42%|████████████████▏                      | 152/365 [00:00<00:00, 323.15it/s]\n",
      " 93%|████████████████████████████████████▎  | 340/365 [00:00<00:00, 429.97it/s]\n",
      "100%|██████████████████████████████████████| 365/365 [00:00<00:00, 1096.03it/s]"
     ]
    },
    {
     "name": "stdout",
     "output_type": "stream",
     "text": [
      "[MoviePy] Done.\n",
      "vfySl25Edgg\n",
      "643\n",
      "[MoviePy] Writing audio in C:/Users/Ankit/Documents/wpi/cs525/video_data/videos/ad_data\\vfySl25Edgg\\Watch FREE Movies & TV on Vudu.wav\n"
     ]
    },
    {
     "name": "stderr",
     "output_type": "stream",
     "text": [
      "\n",
      "  0%|                                                  | 0/664 [00:00<?, ?it/s]\n",
      "  4%|█▋                                      | 28/664 [00:00<00:02, 220.46it/s]\n",
      " 23%|████████▉                              | 152/664 [00:00<00:01, 290.79it/s]\n",
      " 46%|█████████████████▉                     | 305/664 [00:00<00:00, 383.55it/s]\n",
      " 57%|██████████████████████▏                | 378/664 [00:00<00:00, 440.74it/s]\n",
      " 69%|██████████████████████████▉            | 458/664 [00:00<00:00, 439.65it/s]\n",
      " 78%|██████████████████████████████▌        | 521/664 [00:00<00:00, 375.42it/s]\n",
      " 92%|███████████████████████████████████▉   | 611/664 [00:01<00:00, 417.03it/s]\n",
      "100%|███████████████████████████████████████| 664/664 [00:01<00:00, 631.14it/s]"
     ]
    },
    {
     "name": "stdout",
     "output_type": "stream",
     "text": [
      "[MoviePy] Done.\n",
      "Viqs-TMIMqQ\n",
      "644\n",
      "[MoviePy] Writing audio in C:/Users/Ankit/Documents/wpi/cs525/video_data/videos/ad_data\\Viqs-TMIMqQ\\tameimpala_applesupport_15_att_bm.wav\n"
     ]
    },
    {
     "name": "stderr",
     "output_type": "stream",
     "text": [
      "\n",
      "  0%|                                                  | 0/332 [00:00<?, ?it/s]\n",
      " 46%|█████████████████▍                    | 152/332 [00:00<00:00, 1310.27it/s]\n",
      " 93%|███████████████████████████████████▎  | 309/332 [00:00<00:00, 1378.67it/s]\n",
      "100%|██████████████████████████████████████| 332/332 [00:00<00:00, 1456.06it/s]"
     ]
    },
    {
     "name": "stdout",
     "output_type": "stream",
     "text": [
      "[MoviePy] Done.\n",
      "VIwApkStDd8\n",
      "645\n",
      "[MoviePy] Writing audio in C:/Users/Ankit/Documents/wpi/cs525/video_data/videos/ad_data\\VIwApkStDd8\\adidas Running  ULTRABOOST 19  Primeknit..wav\n"
     ]
    },
    {
     "name": "stderr",
     "output_type": "stream",
     "text": [
      "\n",
      "  0%|                                                  | 0/333 [00:00<?, ?it/s]\n",
      "  8%|███▎                                    | 28/333 [00:00<00:01, 204.37it/s]\n",
      " 48%|██████████████████▊                    | 161/333 [00:00<00:00, 273.91it/s]\n",
      " 62%|████████████████████████▏              | 206/333 [00:00<00:00, 265.33it/s]\n",
      " 76%|█████████████████████████████▋         | 254/333 [00:00<00:00, 260.53it/s]\n",
      "100%|███████████████████████████████████████| 333/333 [00:00<00:00, 490.40it/s]"
     ]
    },
    {
     "name": "stdout",
     "output_type": "stream",
     "text": [
      "[MoviePy] Done.\n",
      "VkwBZCBKmj4\n",
      "646\n",
      "[MoviePy] Writing audio in C:/Users/Ankit/Documents/wpi/cs525/video_data/videos/ad_data\\VkwBZCBKmj4\\JCPT_WK11B_06_Sweet Sale_GM.wav\n"
     ]
    },
    {
     "name": "stderr",
     "output_type": "stream",
     "text": [
      "\n",
      "  0%|                                                  | 0/135 [00:00<?, ?it/s]\n",
      " 21%|████████▌                                | 28/135 [00:00<00:01, 59.57it/s]\n",
      "100%|███████████████████████████████████████| 135/135 [00:00<00:00, 248.15it/s]"
     ]
    },
    {
     "name": "stdout",
     "output_type": "stream",
     "text": [
      "[MoviePy] Done.\n",
      "VL4qqsHUWx4\n",
      "647\n",
      "[MoviePy] Writing audio in C:/Users/Ankit/Documents/wpi/cs525/video_data/videos/ad_data\\VL4qqsHUWx4\\Unstopables_GM_StillFresh_Video15_PreRoll_Innovid.wav\n"
     ]
    },
    {
     "name": "stderr",
     "output_type": "stream",
     "text": [
      "\n",
      "  0%|                                                  | 0/332 [00:00<?, ?it/s]\n",
      "  8%|███▍                                     | 28/332 [00:00<00:06, 46.35it/s]\n",
      " 30%|████████████▏                           | 101/332 [00:00<00:03, 63.67it/s]\n",
      " 46%|██████████████████▎                     | 152/332 [00:00<00:02, 81.58it/s]\n",
      " 61%|████████████████████████▍               | 203/332 [00:01<00:01, 99.49it/s]\n",
      " 77%|█████████████████████████████▊         | 254/332 [00:01<00:00, 128.29it/s]\n",
      "100%|███████████████████████████████████████| 332/332 [00:01<00:00, 240.04it/s]"
     ]
    },
    {
     "name": "stdout",
     "output_type": "stream",
     "text": [
      "[MoviePy] Done.\n",
      "vL5FXdWhMlY\n",
      "648\n",
      "[MoviePy] Writing audio in C:/Users/Ankit/Documents/wpi/cs525/video_data/videos/ad_data\\vL5FXdWhMlY\\UNE Health Professions Degree Expo.wav\n"
     ]
    },
    {
     "name": "stderr",
     "output_type": "stream",
     "text": [
      "\n",
      "  0%|                                                  | 0/664 [00:00<?, ?it/s]\n",
      "  4%|█▋                                      | 28/664 [00:00<00:03, 184.20it/s]\n",
      " 23%|████████▉                              | 152/664 [00:00<00:02, 245.77it/s]\n",
      " 31%|███████████▉                           | 203/664 [00:00<00:02, 227.21it/s]\n",
      " 46%|█████████████████▉                     | 305/664 [00:00<00:01, 291.47it/s]\n",
      " 69%|██████████████████████████▉            | 458/664 [00:00<00:00, 378.67it/s]\n",
      " 84%|████████████████████████████████▉      | 560/664 [00:00<00:00, 401.17it/s]\n",
      "100%|███████████████████████████████████████| 664/664 [00:01<00:00, 618.21it/s]"
     ]
    },
    {
     "name": "stdout",
     "output_type": "stream",
     "text": [
      "[MoviePy] Done.\n",
      "VrlVrmOjdZg\n",
      "649\n",
      "[MoviePy] Writing audio in C:/Users/Ankit/Documents/wpi/cs525/video_data/videos/ad_data\\VrlVrmOjdZg\\How Service Dog Trainers Train Ultra Calm Dogs.wav\n"
     ]
    },
    {
     "name": "stderr",
     "output_type": "stream",
     "text": [
      "\n",
      "  0%|                                                 | 0/1152 [00:00<?, ?it/s]\n",
      "  9%|███▎                                  | 101/1152 [00:00<00:01, 608.40it/s]\n",
      " 18%|██████▋                               | 203/1152 [00:00<00:01, 574.13it/s]\n",
      " 22%|████████▍                             | 254/1152 [00:00<00:01, 466.67it/s]\n",
      " 26%|██████████                            | 305/1152 [00:00<00:02, 349.79it/s]\n",
      " 31%|███████████▋                          | 356/1152 [00:00<00:02, 375.10it/s]\n",
      " 40%|███████████████                       | 458/1152 [00:01<00:01, 431.19it/s]\n",
      " 48%|██████████████████▏                   | 552/1152 [00:01<00:01, 514.78it/s]\n",
      " 57%|█████████████████████▊                | 662/1152 [00:01<00:00, 568.83it/s]\n",
      " 63%|███████████████████████▉              | 726/1152 [00:01<00:00, 473.51it/s]\n",
      " 68%|█████████████████████████▊            | 781/1152 [00:01<00:00, 381.12it/s]\n",
      " 72%|███████████████████████████▎          | 827/1152 [00:01<00:00, 343.31it/s]\n",
      " 75%|████████████████████████████▋         | 868/1152 [00:01<00:00, 350.73it/s]\n",
      " 83%|███████████████████████████████▍      | 953/1152 [00:02<00:00, 425.74it/s]\n",
      " 87%|████████████████████████████████▎    | 1007/1152 [00:02<00:00, 429.64it/s]\n",
      " 92%|█████████████████████████████████▉   | 1058/1152 [00:02<00:00, 408.67it/s]\n",
      "100%|█████████████████████████████████████| 1152/1152 [00:02<00:00, 488.73it/s]"
     ]
    },
    {
     "name": "stdout",
     "output_type": "stream",
     "text": [
      "[MoviePy] Done.\n",
      "VRTuWkM42go\n",
      "650\n",
      "[MoviePy] Writing audio in C:/Users/Ankit/Documents/wpi/cs525/video_data/videos/ad_data\\VRTuWkM42go\\One Nashville Social Animation.wav\n"
     ]
    },
    {
     "name": "stderr",
     "output_type": "stream",
     "text": [
      "\n",
      "  0%|                                                  | 0/333 [00:00<?, ?it/s]\n",
      "  8%|███▍                                     | 28/333 [00:00<00:03, 98.24it/s]\n",
      " 35%|█████████████▌                         | 116/333 [00:00<00:01, 133.93it/s]\n",
      " 46%|█████████████████▊                     | 152/333 [00:00<00:01, 149.78it/s]\n",
      " 76%|█████████████████████████████▋         | 254/333 [00:00<00:00, 185.99it/s]\n",
      "100%|███████████████████████████████████████| 333/333 [00:00<00:00, 397.83it/s]"
     ]
    },
    {
     "name": "stdout",
     "output_type": "stream",
     "text": [
      "[MoviePy] Done.\n",
      "vSKpZCkb6_M\n",
      "651\n",
      "[MoviePy] Writing audio in C:/Users/Ankit/Documents/wpi/cs525/video_data/videos/ad_data\\vSKpZCkb6_M\\2019 Kawasaki Good Times Sales Event – Save Big.wav\n"
     ]
    },
    {
     "name": "stderr",
     "output_type": "stream",
     "text": [
      "\n",
      "  0%|                                                  | 0/333 [00:00<?, ?it/s]\n",
      "  8%|███▎                                    | 28/333 [00:00<00:01, 264.14it/s]\n",
      " 30%|███████████▊                           | 101/333 [00:00<00:00, 286.99it/s]\n",
      " 46%|█████████████████▊                     | 152/333 [00:00<00:00, 256.15it/s]\n",
      " 61%|███████████████████████▊               | 203/333 [00:00<00:00, 239.58it/s]\n",
      "100%|███████████████████████████████████████| 333/333 [00:00<00:00, 370.80it/s]"
     ]
    },
    {
     "name": "stdout",
     "output_type": "stream",
     "text": [
      "[MoviePy] Done.\n",
      "vtq3OU0ZYMY\n",
      "652\n",
      "[MoviePy] Writing audio in C:/Users/Ankit/Documents/wpi/cs525/video_data/videos/ad_data\\vtq3OU0ZYMY\\DSG Golf A Thon 30 REV DSG3420NH.wav\n"
     ]
    },
    {
     "name": "stderr",
     "output_type": "stream",
     "text": [
      "\n",
      "  0%|                                                  | 0/663 [00:00<?, ?it/s]\n",
      " 15%|█████▉                                 | 101/663 [00:00<00:01, 323.70it/s]\n",
      " 23%|████████▉                              | 152/663 [00:00<00:01, 350.78it/s]\n",
      " 38%|██████████████▉                        | 254/663 [00:00<00:00, 424.21it/s]\n",
      " 54%|████████████████████▉                  | 356/663 [00:00<00:00, 485.68it/s]\n",
      " 61%|███████████████████████▉               | 407/663 [00:00<00:00, 468.29it/s]\n",
      " 69%|██████████████████████████▉            | 458/663 [00:01<00:00, 372.70it/s]\n",
      " 96%|█████████████████████████████████████▌ | 639/663 [00:01<00:00, 489.25it/s]\n",
      "100%|███████████████████████████████████████| 663/663 [00:01<00:00, 588.25it/s]"
     ]
    },
    {
     "name": "stdout",
     "output_type": "stream",
     "text": [
      "[MoviePy] Done.\n",
      "VYWfhTWE-Sw\n",
      "653\n",
      "[MoviePy] Writing audio in C:/Users/Ankit/Documents/wpi/cs525/video_data/videos/ad_data\\VYWfhTWE-Sw\\SC_YouTube_Pre-Roll_Artist_15-sec_ProRes_119.wav\n"
     ]
    },
    {
     "name": "stderr",
     "output_type": "stream",
     "text": [
      "\n",
      "  0%|                                                  | 0/332 [00:00<?, ?it/s]\n",
      "  8%|███▍                                     | 28/332 [00:00<00:03, 83.33it/s]\n",
      " 46%|█████████████████▊                     | 152/332 [00:00<00:01, 109.40it/s]\n",
      " 79%|██████████████████████████████▊        | 262/332 [00:00<00:00, 149.90it/s]\n",
      "100%|███████████████████████████████████████| 332/332 [00:00<00:00, 427.26it/s]"
     ]
    },
    {
     "name": "stdout",
     "output_type": "stream",
     "text": [
      "[MoviePy] Done.\n",
      "vZ5qjw0WfGY\n",
      "654\n",
      "[MoviePy] Writing audio in C:/Users/Ankit/Documents/wpi/cs525/video_data/videos/ad_data\\vZ5qjw0WfGY\\US_Confidential Music Special_Complex_Pre-Roll  (+ select Complex Music Sites)_ALL_MLT_VID_153…..wav\n"
     ]
    },
    {
     "name": "stderr",
     "output_type": "stream",
     "text": [
      "\n",
      "  0%|                                                  | 0/663 [00:00<?, ?it/s]\n",
      " 15%|█████▉                                 | 101/663 [00:00<00:00, 691.74it/s]\n",
      " 31%|███████████▉                           | 203/663 [00:00<00:00, 641.42it/s]\n",
      " 38%|██████████████▉                        | 254/663 [00:00<00:00, 549.22it/s]\n",
      " 46%|█████████████████▉                     | 305/663 [00:00<00:00, 475.28it/s]\n",
      " 54%|████████████████████▉                  | 356/663 [00:00<00:00, 454.08it/s]\n",
      " 77%|█████████████████████████████▉         | 509/663 [00:00<00:00, 543.59it/s]\n",
      "100%|███████████████████████████████████████| 663/663 [00:00<00:00, 692.03it/s]"
     ]
    },
    {
     "name": "stdout",
     "output_type": "stream",
     "text": [
      "[MoviePy] Done.\n",
      "W-cPpsj2wBQ\n",
      "655\n",
      "[MoviePy] Writing audio in C:/Users/Ankit/Documents/wpi/cs525/video_data/videos/ad_data\\W-cPpsj2wBQ\\Easily Manage Your Teams Tasks - mondaycom.wav\n"
     ]
    },
    {
     "name": "stderr",
     "output_type": "stream",
     "text": [
      "\n",
      "  0%|                                                  | 0/529 [00:00<?, ?it/s]\n",
      "  5%|██                                      | 28/529 [00:00<00:04, 106.86it/s]\n",
      " 19%|███████▍                               | 101/529 [00:00<00:03, 139.53it/s]\n",
      " 29%|███████████▏                           | 152/529 [00:00<00:02, 130.58it/s]\n",
      " 38%|██████████████▉                        | 203/529 [00:01<00:02, 142.58it/s]\n",
      " 58%|██████████████████████▍                | 305/529 [00:01<00:01, 177.80it/s]\n",
      " 67%|██████████████████████████▏            | 356/529 [00:01<00:00, 204.01it/s]\n",
      " 96%|█████████████████████████████████████▌ | 509/529 [00:01<00:00, 275.24it/s]\n",
      "100%|███████████████████████████████████████| 529/529 [00:01<00:00, 317.89it/s]"
     ]
    },
    {
     "name": "stdout",
     "output_type": "stream",
     "text": [
      "[MoviePy] Done.\n",
      "w7ia_13_yXM\n",
      "656\n",
      "[MoviePy] Writing audio in C:/Users/Ankit/Documents/wpi/cs525/video_data/videos/ad_data\\w7ia_13_yXM\\A Splash of Drama with Eva Longoria.wav\n"
     ]
    },
    {
     "name": "stderr",
     "output_type": "stream",
     "text": [
      "\n",
      "  0%|                                                  | 0/332 [00:00<?, ?it/s]\n",
      "  8%|███▍                                     | 28/332 [00:00<00:06, 50.18it/s]\n",
      " 32%|████████████▋                           | 105/332 [00:00<00:03, 69.73it/s]\n",
      " 46%|██████████████████▎                     | 152/332 [00:00<00:01, 91.26it/s]\n",
      " 77%|█████████████████████████████▊         | 254/332 [00:00<00:00, 123.24it/s]\n",
      "100%|███████████████████████████████████████| 332/332 [00:00<00:00, 334.66it/s]"
     ]
    },
    {
     "name": "stdout",
     "output_type": "stream",
     "text": [
      "[MoviePy] Done.\n",
      "wa3NlcNSb1o\n",
      "657\n",
      "[MoviePy] Writing audio in C:/Users/Ankit/Documents/wpi/cs525/video_data/videos/ad_data\\wa3NlcNSb1o\\Untitled Ad.wav\n"
     ]
    },
    {
     "name": "stderr",
     "output_type": "stream",
     "text": [
      "\n",
      "  0%|                                                  | 0/663 [00:00<?, ?it/s]\n",
      "  4%|█▋                                       | 28/663 [00:00<00:09, 64.07it/s]\n",
      " 23%|█████████▏                              | 152/663 [00:00<00:05, 86.11it/s]\n",
      " 31%|███████████▉                           | 203/663 [00:00<00:04, 109.54it/s]\n",
      " 38%|██████████████▉                        | 254/663 [00:01<00:02, 140.57it/s]\n",
      " 60%|███████████████████████▌               | 401/663 [00:01<00:01, 192.91it/s]\n",
      " 73%|████████████████████████████▍          | 483/663 [00:01<00:00, 250.34it/s]\n",
      " 84%|████████████████████████████████▉      | 560/663 [00:01<00:00, 307.87it/s]\n",
      "100%|███████████████████████████████████████| 663/663 [00:01<00:00, 478.33it/s]"
     ]
    },
    {
     "name": "stdout",
     "output_type": "stream",
     "text": [
      "[MoviePy] Done.\n",
      "Wchdp5sbxUY\n",
      "658\n",
      "[MoviePy] Writing audio in C:/Users/Ankit/Documents/wpi/cs525/video_data/videos/ad_data\\Wchdp5sbxUY\\Big LifeCombo13761 TV19 DS Classic 179 24 411919 Classic Express QC NEBC.wav\n"
     ]
    },
    {
     "name": "stderr",
     "output_type": "stream",
     "text": [
      "\n",
      "  0%|                                                  | 0/663 [00:00<?, ?it/s]\n",
      " 15%|█████▉                                 | 101/663 [00:00<00:01, 419.06it/s]\n",
      " 23%|████████▉                              | 152/663 [00:00<00:01, 430.41it/s]\n",
      " 46%|█████████████████▉                     | 305/663 [00:00<00:00, 545.78it/s]\n",
      " 69%|██████████████████████████▉            | 458/663 [00:00<00:00, 621.86it/s]\n",
      " 84%|████████████████████████████████▉      | 560/663 [00:00<00:00, 673.63it/s]\n",
      " 96%|█████████████████████████████████████▎ | 634/663 [00:00<00:00, 638.48it/s]\n",
      "100%|███████████████████████████████████████| 663/663 [00:00<00:00, 731.75it/s]"
     ]
    },
    {
     "name": "stdout",
     "output_type": "stream",
     "text": [
      "[MoviePy] Done.\n",
      "wck4ENXjWkM\n",
      "659\n",
      "[MoviePy] Writing audio in C:/Users/Ankit/Documents/wpi/cs525/video_data/videos/ad_data\\wck4ENXjWkM\\How to Bake Pork Chops.wav\n"
     ]
    },
    {
     "name": "stderr",
     "output_type": "stream",
     "text": [
      "\n",
      "  0%|                                                  | 0/867 [00:00<?, ?it/s]\n",
      "  3%|█▎                                       | 28/867 [00:00<00:14, 57.26it/s]\n",
      " 12%|████▋                                   | 101/867 [00:00<00:09, 78.42it/s]\n",
      " 18%|███████                                 | 152/867 [00:00<00:07, 99.91it/s]\n",
      " 29%|███████████▍                           | 254/867 [00:00<00:04, 135.67it/s]\n",
      " 47%|██████████████████▎                    | 407/867 [00:01<00:02, 186.58it/s]\n",
      " 59%|██████████████████████▉                | 509/867 [00:01<00:01, 244.33it/s]\n",
      " 68%|██████████████████████████▍            | 587/867 [00:01<00:00, 307.72it/s]\n",
      " 77%|█████████████████████████████▉         | 665/867 [00:01<00:00, 343.26it/s]\n",
      " 85%|█████████████████████████████████      | 734/867 [00:01<00:00, 350.59it/s]\n",
      " 91%|███████████████████████████████████▋   | 793/867 [00:01<00:00, 350.14it/s]\n",
      "100%|███████████████████████████████████████| 867/867 [00:01<00:00, 474.52it/s]"
     ]
    },
    {
     "name": "stdout",
     "output_type": "stream",
     "text": [
      "[MoviePy] Done.\n",
      "WcY27pkmZ_w\n",
      "660\n",
      "[MoviePy] Writing audio in C:/Users/Ankit/Documents/wpi/cs525/video_data/videos/ad_data\\WcY27pkmZ_w\\Here to help Be in the moment.wav\n"
     ]
    },
    {
     "name": "stderr",
     "output_type": "stream",
     "text": [
      "\n",
      "  0%|                                                  | 0/332 [00:00<?, ?it/s]\n",
      "  8%|███▎                                    | 28/332 [00:00<00:01, 241.37it/s]\n",
      " 55%|█████████████████████▎                 | 181/332 [00:00<00:00, 322.97it/s]\n",
      "100%|██████████████████████████████████████| 332/332 [00:00<00:00, 1121.56it/s]"
     ]
    },
    {
     "name": "stdout",
     "output_type": "stream",
     "text": [
      "[MoviePy] Done.\n",
      "WD9nbqYsgCg\n",
      "661\n",
      "[MoviePy] Writing audio in C:/Users/Ankit/Documents/wpi/cs525/video_data/videos/ad_data\\WD9nbqYsgCg\\Photo Focus Stick Foundation.wav\n"
     ]
    },
    {
     "name": "stderr",
     "output_type": "stream",
     "text": [
      "\n",
      "  0%|                                                  | 0/297 [00:00<?, ?it/s]\n",
      "  9%|███▊                                    | 28/297 [00:00<00:02, 119.65it/s]\n",
      " 46%|██████████████████                     | 138/297 [00:00<00:00, 163.32it/s]\n",
      " 68%|██████████████████████████▋            | 203/297 [00:00<00:00, 204.47it/s]\n",
      "100%|███████████████████████████████████████| 297/297 [00:00<00:00, 575.55it/s]"
     ]
    },
    {
     "name": "stdout",
     "output_type": "stream",
     "text": [
      "[MoviePy] Done.\n",
      "weL0nyqFk-w\n",
      "662\n",
      "[MoviePy] Writing audio in C:/Users/Ankit/Documents/wpi/cs525/video_data/videos/ad_data\\weL0nyqFk-w\\Bobby Berks Favorite Real Estate App is Redfin.wav\n"
     ]
    },
    {
     "name": "stderr",
     "output_type": "stream",
     "text": [
      "\n",
      "  0%|                                                  | 0/332 [00:00<?, ?it/s]\n",
      "  8%|███▍                                     | 28/332 [00:00<00:04, 73.49it/s]\n",
      " 30%|███████████▊                           | 101/332 [00:00<00:02, 100.43it/s]\n",
      " 46%|█████████████████▊                     | 152/332 [00:00<00:01, 130.98it/s]\n",
      "100%|███████████████████████████████████████| 332/332 [00:00<00:00, 479.05it/s]"
     ]
    },
    {
     "name": "stdout",
     "output_type": "stream",
     "text": [
      "[MoviePy] Done.\n",
      "wELwe21Fg9A\n",
      "663\n",
      "[MoviePy] Writing audio in C:/Users/Ankit/Documents/wpi/cs525/video_data/videos/ad_data\\wELwe21Fg9A\\Skechers Twinkle Toes dance commercial.wav\n"
     ]
    },
    {
     "name": "stderr",
     "output_type": "stream",
     "text": [
      "\n",
      "  0%|                                                  | 0/662 [00:00<?, ?it/s]\n",
      "  4%|█▋                                      | 28/662 [00:00<00:02, 222.21it/s]\n",
      " 15%|█████▉                                 | 101/662 [00:00<00:02, 275.40it/s]\n",
      " 23%|████████▉                              | 152/662 [00:00<00:01, 307.92it/s]\n",
      " 31%|███████████▉                           | 203/662 [00:00<00:01, 334.99it/s]\n",
      " 38%|██████████████▉                        | 254/662 [00:00<00:01, 366.19it/s]\n",
      " 54%|█████████████████████▏                 | 360/662 [00:00<00:00, 455.66it/s]\n",
      " 69%|██████████████████████████▉            | 458/662 [00:00<00:00, 501.91it/s]\n",
      " 85%|████████████████████████████████▉      | 560/662 [00:00<00:00, 559.95it/s]\n",
      " 95%|████████████████████████████████████▉  | 626/662 [00:01<00:00, 564.06it/s]\n",
      "100%|███████████████████████████████████████| 662/662 [00:01<00:00, 591.57it/s]"
     ]
    },
    {
     "name": "stdout",
     "output_type": "stream",
     "text": [
      "[MoviePy] Done.\n",
      "WEUUvntknTI\n",
      "664\n",
      "[MoviePy] Writing audio in C:/Users/Ankit/Documents/wpi/cs525/video_data/videos/ad_data\\WEUUvntknTI\\Jason Aldean - Rearview Town.wav\n"
     ]
    },
    {
     "name": "stderr",
     "output_type": "stream",
     "text": [
      "\n",
      "  0%|                                                 | 0/4205 [00:00<?, ?it/s]\n",
      "  1%|▌                                      | 63/4205 [00:00<00:06, 629.96it/s]\n",
      "  2%|▉                                     | 101/4205 [00:00<00:12, 326.66it/s]\n",
      "  4%|█▋                                    | 189/4205 [00:00<00:09, 402.60it/s]\n",
      "  7%|██▊                                   | 305/4205 [00:00<00:07, 496.17it/s]\n",
      "  9%|███▎                                  | 365/4205 [00:00<00:07, 515.24it/s]\n",
      " 11%|████▏                                 | 458/4205 [00:00<00:07, 508.89it/s]\n",
      " 12%|████▋                                 | 515/4205 [00:01<00:08, 441.49it/s]\n",
      " 15%|█████▌                                | 611/4205 [00:01<00:07, 462.17it/s]\n",
      " 18%|██████▉                               | 764/4205 [00:01<00:05, 581.89it/s]\n",
      " 21%|███████▉                              | 880/4205 [00:01<00:04, 684.18it/s]\n",
      " 24%|████████▉                            | 1019/4205 [00:01<00:04, 796.03it/s]\n",
      " 29%|██████████▊                          | 1223/4205 [00:01<00:03, 886.60it/s]\n",
      " 32%|███████████▋                         | 1331/4205 [00:01<00:03, 778.81it/s]\n",
      " 34%|████████████▌                        | 1425/4205 [00:01<00:03, 772.46it/s]\n",
      " 36%|█████████████▎                       | 1514/4205 [00:02<00:05, 508.99it/s]\n",
      " 38%|█████████████▉                       | 1585/4205 [00:02<00:06, 379.58it/s]\n",
      " 40%|██████████████▊                      | 1682/4205 [00:02<00:05, 464.37it/s]\n",
      " 42%|███████████████▋                     | 1784/4205 [00:02<00:04, 552.37it/s]\n",
      " 46%|████████████████▉                    | 1921/4205 [00:02<00:03, 672.83it/s]\n",
      " 48%|█████████████████▋                   | 2017/4205 [00:03<00:03, 711.23it/s]\n",
      " 52%|███████████████████▎                 | 2192/4205 [00:03<00:02, 840.38it/s]\n",
      " 55%|████████████████████▏                | 2300/4205 [00:03<00:02, 863.57it/s]\n",
      " 58%|█████████████████████▌               | 2447/4205 [00:03<00:01, 938.35it/s]\n",
      " 62%|██████████████████████▎             | 2606/4205 [00:03<00:01, 1069.88it/s]\n",
      " 66%|███████████████████████▉            | 2794/4205 [00:03<00:01, 1228.71it/s]\n",
      " 70%|█████████████████████████▏          | 2937/4205 [00:03<00:01, 1120.07it/s]\n",
      " 74%|██████████████████████████▋         | 3110/4205 [00:03<00:01, 1073.06it/s]\n",
      " 77%|████████████████████████████▍        | 3229/4205 [00:04<00:01, 626.86it/s]\n",
      " 79%|█████████████████████████████▏       | 3322/4205 [00:04<00:01, 648.30it/s]\n",
      " 81%|█████████████████████████████▉       | 3408/4205 [00:04<00:01, 664.29it/s]\n",
      " 85%|███████████████████████████████▍     | 3569/4205 [00:04<00:00, 768.29it/s]\n",
      " 88%|████████████████████████████████▋    | 3720/4205 [00:04<00:00, 901.06it/s]\n",
      " 92%|█████████████████████████████████▉   | 3850/4205 [00:04<00:00, 992.41it/s]\n",
      " 95%|██████████████████████████████████▎ | 4002/4205 [00:04<00:00, 1107.75it/s]\n",
      "100%|███████████████████████████████████▉| 4199/4205 [00:05<00:00, 1275.18it/s]\n",
      "100%|█████████████████████████████████████| 4205/4205 [00:05<00:00, 828.36it/s]"
     ]
    },
    {
     "name": "stdout",
     "output_type": "stream",
     "text": [
      "[MoviePy] Done.\n",
      "wGidm3wJJ34\n",
      "665\n",
      "[MoviePy] Writing audio in C:/Users/Ankit/Documents/wpi/cs525/video_data/videos/ad_data\\wGidm3wJJ34\\Untitled Ad.wav\n"
     ]
    },
    {
     "name": "stderr",
     "output_type": "stream",
     "text": [
      "\n",
      "  0%|                                                  | 0/332 [00:00<?, ?it/s]\n",
      " 41%|███████████████▌                      | 136/332 [00:00<00:00, 1359.92it/s]\n",
      " 59%|██████████████████████▉                | 195/332 [00:00<00:00, 977.29it/s]\n",
      " 74%|████████████████████████████▉          | 246/332 [00:00<00:00, 766.56it/s]\n",
      " 89%|██████████████████████████████████▌    | 294/332 [00:00<00:00, 434.64it/s]\n",
      "100%|███████████████████████████████████████| 332/332 [00:00<00:00, 606.91it/s]"
     ]
    },
    {
     "name": "stdout",
     "output_type": "stream",
     "text": [
      "[MoviePy] Done.\n",
      "WHbMg5NJFnY\n",
      "666\n",
      "[MoviePy] Writing audio in C:/Users/Ankit/Documents/wpi/cs525/video_data/videos/ad_data\\WHbMg5NJFnY\\The Truth Is Worth It Witnessing  The New York Times.wav\n"
     ]
    },
    {
     "name": "stderr",
     "output_type": "stream",
     "text": [
      "\n",
      "  0%|                                                  | 0/332 [00:00<?, ?it/s]\n",
      " 14%|█████▌                                  | 46/332 [00:00<00:00, 459.97it/s]\n",
      " 30%|███████████▊                           | 101/332 [00:00<00:00, 448.24it/s]\n",
      " 46%|█████████████████▊                     | 152/332 [00:00<00:00, 456.39it/s]\n",
      " 73%|████████████████████████████▍          | 242/332 [00:00<00:00, 535.58it/s]\n",
      "100%|███████████████████████████████████████| 332/332 [00:00<00:00, 678.90it/s]"
     ]
    },
    {
     "name": "stdout",
     "output_type": "stream",
     "text": [
      "[MoviePy] Done.\n",
      "wiFrUgiYzYE\n",
      "667\n",
      "[MoviePy] Writing audio in C:/Users/Ankit/Documents/wpi/cs525/video_data/videos/ad_data\\wiFrUgiYzYE\\Untitled Ad.wav\n"
     ]
    },
    {
     "name": "stderr",
     "output_type": "stream",
     "text": [
      "\n",
      "  0%|                                                  | 0/332 [00:00<?, ?it/s]\n",
      "  8%|███▎                                    | 28/332 [00:00<00:01, 271.83it/s]\n",
      " 39%|███████████████▏                       | 129/332 [00:00<00:00, 348.17it/s]\n",
      " 61%|███████████████████████▊               | 203/332 [00:00<00:00, 408.43it/s]\n",
      "100%|███████████████████████████████████████| 332/332 [00:00<00:00, 842.59it/s]"
     ]
    },
    {
     "name": "stdout",
     "output_type": "stream",
     "text": [
      "[MoviePy] Done.\n",
      "WiLqAWw561E\n",
      "668\n",
      "[MoviePy] Writing audio in C:/Users/Ankit/Documents/wpi/cs525/video_data/videos/ad_data\\WiLqAWw561E\\Tacoma FD - Fire Met Its Match 30 - New Tonight  truTV.wav\n"
     ]
    },
    {
     "name": "stderr",
     "output_type": "stream",
     "text": [
      "\n",
      "  0%|                                                  | 0/663 [00:00<?, ?it/s]\n",
      "  4%|█▋                                       | 28/663 [00:00<00:07, 87.50it/s]\n",
      " 15%|█████▉                                 | 101/663 [00:00<00:04, 117.39it/s]\n",
      " 31%|███████████▉                           | 203/663 [00:00<00:02, 157.24it/s]\n",
      " 46%|█████████████████▉                     | 305/663 [00:00<00:01, 206.10it/s]\n",
      " 53%|████████████████████▊                  | 353/663 [00:00<00:01, 212.93it/s]\n",
      " 61%|███████████████████████▉               | 407/663 [00:01<00:01, 249.05it/s]\n",
      " 69%|██████████████████████████▉            | 458/663 [00:01<00:00, 285.32it/s]\n",
      " 89%|██████████████████████████████████▊    | 591/663 [00:01<00:00, 373.27it/s]\n",
      "100%|███████████████████████████████████████| 663/663 [00:01<00:00, 499.59it/s]"
     ]
    },
    {
     "name": "stdout",
     "output_type": "stream",
     "text": [
      "[MoviePy] Done.\n",
      "wIvQb1SxuFA\n",
      "669\n",
      "[MoviePy] Writing audio in C:/Users/Ankit/Documents/wpi/cs525/video_data/videos/ad_data\\wIvQb1SxuFA\\Untitled Ad.wav\n"
     ]
    },
    {
     "name": "stderr",
     "output_type": "stream",
     "text": [
      "\n",
      "  0%|                                                  | 0/332 [00:00<?, ?it/s]\n",
      "  8%|███▍                                     | 28/332 [00:00<00:04, 62.08it/s]\n",
      " 37%|██████████████▉                         | 124/332 [00:00<00:02, 86.29it/s]\n",
      " 47%|██████████████████▏                    | 155/332 [00:00<00:01, 107.61it/s]\n",
      " 61%|███████████████████████▊               | 203/332 [00:00<00:00, 138.68it/s]\n",
      " 77%|█████████████████████████████▊         | 254/332 [00:00<00:00, 172.04it/s]\n",
      "100%|███████████████████████████████████████| 332/332 [00:00<00:00, 341.19it/s]"
     ]
    },
    {
     "name": "stdout",
     "output_type": "stream",
     "text": [
      "[MoviePy] Done.\n",
      "wi_tJ_CC0qY\n",
      "670\n",
      "[MoviePy] Writing audio in C:/Users/Ankit/Documents/wpi/cs525/video_data/videos/ad_data\\wi_tJ_CC0qY\\Jimmy John’s – Drawing the Line 15.wav\n"
     ]
    },
    {
     "name": "stderr",
     "output_type": "stream",
     "text": [
      "\n",
      "  0%|                                                  | 0/332 [00:00<?, ?it/s]\n",
      " 46%|█████████████████▍                    | 152/332 [00:00<00:00, 1433.88it/s]\n",
      "100%|██████████████████████████████████████| 332/332 [00:00<00:00, 1643.47it/s]"
     ]
    },
    {
     "name": "stdout",
     "output_type": "stream",
     "text": [
      "[MoviePy] Done.\n",
      "wjaXfkRC8SE\n",
      "671\n",
      "[MoviePy] Writing audio in C:/Users/Ankit/Documents/wpi/cs525/video_data/videos/ad_data\\wjaXfkRC8SE\\adidas Originals  Nite Jogger  NYC 6.wav\n"
     ]
    },
    {
     "name": "stderr",
     "output_type": "stream",
     "text": [
      "\n",
      "  0%|                                                  | 0/133 [00:00<?, ?it/s]\n",
      " 21%|████████▍                               | 28/133 [00:00<00:01, 102.18it/s]\n",
      "100%|███████████████████████████████████████| 133/133 [00:00<00:00, 372.53it/s]"
     ]
    },
    {
     "name": "stdout",
     "output_type": "stream",
     "text": [
      "[MoviePy] Done.\n",
      "WJDwukQJoVs\n",
      "672\n",
      "[MoviePy] Writing audio in C:/Users/Ankit/Documents/wpi/cs525/video_data/videos/ad_data\\WJDwukQJoVs\\Destiny Rogers - TomBoy - Originals - 14.wav\n"
     ]
    },
    {
     "name": "stderr",
     "output_type": "stream",
     "text": [
      "\n",
      "  0%|                                                  | 0/329 [00:00<?, ?it/s]\n",
      "  9%|███▍                                    | 28/329 [00:00<00:01, 271.83it/s]\n",
      " 62%|████████████████████████               | 203/329 [00:00<00:00, 362.05it/s]\n",
      " 78%|██████████████████████████████▍        | 257/329 [00:00<00:00, 399.98it/s]\n",
      "100%|███████████████████████████████████████| 329/329 [00:00<00:00, 886.74it/s]"
     ]
    },
    {
     "name": "stdout",
     "output_type": "stream",
     "text": [
      "[MoviePy] Done.\n",
      "wjzaIU_YAxI\n",
      "673\n",
      "[MoviePy] Writing audio in C:/Users/Ankit/Documents/wpi/cs525/video_data/videos/ad_data\\wjzaIU_YAxI\\Glad with Febreze Cooking.wav\n"
     ]
    },
    {
     "name": "stderr",
     "output_type": "stream",
     "text": [
      "\n",
      "  0%|                                                  | 0/132 [00:00<?, ?it/s]\n",
      "100%|██████████████████████████████████████| 132/132 [00:00<00:00, 1670.79it/s]"
     ]
    },
    {
     "name": "stdout",
     "output_type": "stream",
     "text": [
      "[MoviePy] Done.\n",
      "WKdYRjOCrMs\n",
      "674\n",
      "[MoviePy] Writing audio in C:/Users/Ankit/Documents/wpi/cs525/video_data/videos/ad_data\\WKdYRjOCrMs\\Bomber All Water-End Of The Earth.wav\n"
     ]
    },
    {
     "name": "stderr",
     "output_type": "stream",
     "text": [
      "\n",
      "  0%|                                                 | 0/7167 [00:00<?, ?it/s]\n",
      "  0%|▏                                      | 28/7167 [00:00<00:43, 165.67it/s]\n",
      "  2%|▊                                     | 152/7167 [00:00<00:31, 221.69it/s]\n",
      "  4%|█▌                                    | 285/7167 [00:00<00:23, 295.59it/s]\n",
      "  6%|██▏                                   | 407/7167 [00:00<00:18, 364.05it/s]\n",
      "  7%|██▋                                   | 509/7167 [00:00<00:14, 444.58it/s]\n",
      "  9%|███▏                                  | 611/7167 [00:00<00:12, 508.72it/s]\n",
      " 10%|███▊                                  | 713/7167 [00:00<00:11, 580.36it/s]\n",
      " 12%|████▌                                 | 866/7167 [00:01<00:08, 711.15it/s]\n",
      " 14%|█████▏                               | 1002/7167 [00:01<00:07, 829.93it/s]\n",
      " 16%|██████                               | 1172/7167 [00:01<00:06, 977.09it/s]\n",
      " 18%|██████▋                             | 1325/7167 [00:01<00:05, 1050.73it/s]\n",
      " 20%|███████▌                             | 1453/7167 [00:01<00:05, 991.66it/s]\n",
      " 22%|███████▉                            | 1581/7167 [00:01<00:05, 1063.52it/s]\n",
      " 24%|████████▊                           | 1747/7167 [00:01<00:04, 1192.00it/s]\n",
      " 26%|█████████▍                          | 1886/7167 [00:01<00:04, 1245.19it/s]\n",
      " 28%|██████████▏                         | 2039/7167 [00:01<00:04, 1215.12it/s]\n",
      " 30%|██████████▉                         | 2180/7167 [00:02<00:03, 1267.67it/s]\n",
      " 32%|███████████▉                         | 2313/7167 [00:02<00:05, 809.26it/s]\n",
      " 34%|████████████▍                        | 2420/7167 [00:02<00:05, 873.08it/s]\n",
      " 36%|█████████████▏                       | 2549/7167 [00:02<00:05, 827.29it/s]\n",
      " 37%|█████████████▋                       | 2651/7167 [00:02<00:05, 798.70it/s]\n",
      " 38%|██████████████▏                      | 2741/7167 [00:02<00:06, 730.04it/s]\n",
      " 40%|██████████████▋                      | 2855/7167 [00:03<00:05, 754.91it/s]\n",
      " 41%|███████████████▎                     | 2959/7167 [00:03<00:05, 822.54it/s]\n",
      " 44%|████████████████▏                    | 3129/7167 [00:03<00:04, 973.24it/s]\n",
      " 45%|████████████████▋                    | 3242/7167 [00:03<00:04, 872.06it/s]\n",
      " 47%|█████████████████▎                   | 3365/7167 [00:03<00:04, 923.19it/s]\n",
      " 48%|█████████████████▉                   | 3468/7167 [00:03<00:04, 879.58it/s]\n",
      " 50%|██████████████████▍                  | 3569/7167 [00:03<00:04, 858.98it/s]\n",
      " 51%|██████████████████▉                  | 3661/7167 [00:03<00:04, 800.87it/s]\n",
      " 52%|███████████████████▎                 | 3746/7167 [00:04<00:04, 730.89it/s]\n",
      " 54%|███████████████████▉                 | 3854/7167 [00:04<00:04, 809.37it/s]\n",
      " 55%|████████████████████▎                | 3941/7167 [00:04<00:04, 745.85it/s]\n",
      " 56%|████████████████████▊                | 4021/7167 [00:04<00:04, 692.13it/s]\n",
      " 57%|█████████████████████▏               | 4095/7167 [00:04<00:05, 540.36it/s]\n",
      " 58%|█████████████████████▍               | 4158/7167 [00:04<00:05, 554.02it/s]\n",
      " 59%|█████████████████████▊               | 4220/7167 [00:04<00:07, 398.87it/s]\n",
      " 60%|██████████████████████               | 4271/7167 [00:05<00:07, 412.27it/s]\n",
      " 60%|██████████████████████▎              | 4320/7167 [00:05<00:11, 255.47it/s]\n",
      " 61%|██████████████████████▍              | 4358/7167 [00:05<00:18, 149.18it/s]\n",
      " 61%|██████████████████████▋              | 4387/7167 [00:06<00:24, 115.13it/s]\n",
      " 62%|██████████████████████▉              | 4436/7167 [00:06<00:22, 123.54it/s]\n",
      " 63%|███████████████████████▏             | 4487/7167 [00:06<00:19, 138.07it/s]\n",
      " 63%|███████████████████████▍             | 4538/7167 [00:07<00:15, 167.01it/s]\n",
      " 64%|███████████████████████▋             | 4589/7167 [00:07<00:13, 191.54it/s]\n",
      " 65%|███████████████████████▉             | 4640/7167 [00:07<00:10, 232.79it/s]\n",
      " 65%|████████████████████████▏            | 4691/7167 [00:07<00:12, 201.85it/s]\n",
      " 66%|████████████████████████▍            | 4742/7167 [00:07<00:12, 192.62it/s]\n",
      " 67%|████████████████████████▋            | 4793/7167 [00:08<00:13, 176.20it/s]\n",
      " 68%|█████████████████████████            | 4844/7167 [00:08<00:13, 172.70it/s]\n",
      " 68%|█████████████████████████▎           | 4895/7167 [00:08<00:12, 188.04it/s]\n",
      " 70%|█████████████████████████▊           | 4997/7167 [00:08<00:08, 245.71it/s]\n",
      " 70%|██████████████████████████           | 5048/7167 [00:09<00:09, 232.78it/s]\n",
      " 72%|██████████████████████████▋          | 5181/7167 [00:09<00:06, 309.33it/s]\n",
      " 73%|███████████████████████████          | 5252/7167 [00:09<00:05, 342.71it/s]\n",
      " 74%|███████████████████████████▍         | 5311/7167 [00:09<00:05, 358.42it/s]\n",
      " 76%|████████████████████████████▏        | 5456/7167 [00:09<00:03, 447.13it/s]\n",
      " 78%|████████████████████████████▉        | 5609/7167 [00:09<00:02, 540.58it/s]\n",
      " 80%|█████████████████████████████▍       | 5711/7167 [00:10<00:02, 593.08it/s]\n",
      " 81%|█████████████████████████████▉       | 5790/7167 [00:10<00:02, 551.12it/s]\n",
      " 82%|██████████████████████████████▎      | 5860/7167 [00:10<00:02, 467.25it/s]\n",
      " 83%|██████████████████████████████▌      | 5919/7167 [00:10<00:02, 453.52it/s]\n",
      " 84%|███████████████████████████████      | 6017/7167 [00:10<00:02, 412.87it/s]\n",
      " 85%|███████████████████████████████▎     | 6068/7167 [00:10<00:02, 407.44it/s]\n",
      " 86%|███████████████████████████████▋     | 6148/7167 [00:11<00:02, 477.77it/s]\n",
      " 87%|████████████████████████████████     | 6204/7167 [00:11<00:01, 495.80it/s]\n",
      " 87%|████████████████████████████████▎    | 6260/7167 [00:11<00:02, 335.39it/s]\n",
      " 88%|████████████████████████████████▌    | 6305/7167 [00:11<00:03, 259.48it/s]\n",
      " 88%|████████████████████████████████▋    | 6342/7167 [00:11<00:03, 242.91it/s]\n",
      " 89%|████████████████████████████████▉    | 6374/7167 [00:12<00:03, 224.38it/s]\n",
      " 90%|█████████████████████████████████▏   | 6425/7167 [00:12<00:03, 231.18it/s]\n",
      " 91%|█████████████████████████████████▋   | 6527/7167 [00:12<00:02, 271.88it/s]\n",
      " 92%|█████████████████████████████████▉   | 6578/7167 [00:12<00:01, 301.58it/s]\n",
      " 93%|██████████████████████████████████▍  | 6663/7167 [00:12<00:01, 373.96it/s]\n",
      " 94%|██████████████████████████████████▋  | 6714/7167 [00:12<00:01, 360.77it/s]\n",
      " 95%|███████████████████████████████████  | 6782/7167 [00:13<00:00, 386.93it/s]\n",
      " 95%|███████████████████████████████████▎ | 6833/7167 [00:13<00:00, 414.07it/s]\n",
      " 97%|████████████████████████████████████ | 6982/7167 [00:13<00:00, 528.57it/s]\n",
      " 99%|████████████████████████████████████▌| 7088/7167 [00:13<00:00, 525.06it/s]\n",
      "100%|█████████████████████████████████████| 7167/7167 [00:13<00:00, 531.49it/s]"
     ]
    },
    {
     "name": "stdout",
     "output_type": "stream",
     "text": [
      "[MoviePy] Done.\n",
      "wKYpswtK9bM\n",
      "675\n",
      "[MoviePy] Writing audio in C:/Users/Ankit/Documents/wpi/cs525/video_data/videos/ad_data\\wKYpswtK9bM\\Meat Counter Basics Ham.wav\n"
     ]
    },
    {
     "name": "stderr",
     "output_type": "stream",
     "text": [
      "\n",
      "  0%|                                                 | 0/2298 [00:00<?, ?it/s]\n",
      "  1%|▍                                      | 28/2298 [00:00<00:10, 222.21it/s]\n",
      "  6%|██▎                                   | 138/2298 [00:00<00:07, 292.15it/s]\n",
      " 13%|█████                                 | 308/2298 [00:00<00:05, 388.72it/s]\n",
      " 20%|███████▌                              | 458/2298 [00:00<00:03, 477.38it/s]\n",
      " 27%|██████████                            | 611/2298 [00:00<00:02, 578.33it/s]\n",
      " 33%|████████████▍                         | 753/2298 [00:00<00:02, 703.40it/s]\n",
      " 40%|███████████████▏                      | 917/2298 [00:00<00:01, 814.67it/s]\n",
      " 47%|█████████████████▏                   | 1070/2298 [00:00<00:01, 947.57it/s]\n",
      " 55%|███████████████████▉                | 1274/2298 [00:01<00:00, 1117.79it/s]\n",
      " 62%|██████████████████████▎             | 1427/2298 [00:01<00:00, 1077.34it/s]\n",
      " 68%|████████████████████████▍           | 1559/2298 [00:01<00:00, 1094.81it/s]\n",
      " 75%|███████████████████████████▏        | 1733/2298 [00:01<00:00, 1041.57it/s]\n",
      " 81%|████████████████████████████▉       | 1850/2298 [00:01<00:00, 1015.33it/s]\n",
      " 85%|███████████████████████████████▌     | 1961/2298 [00:01<00:00, 858.27it/s]\n",
      " 90%|█████████████████████████████████▏   | 2058/2298 [00:01<00:00, 717.37it/s]\n",
      " 93%|██████████████████████████████████▍  | 2141/2298 [00:02<00:00, 702.25it/s]\n",
      "100%|████████████████████████████████████| 2298/2298 [00:02<00:00, 1042.12it/s]"
     ]
    },
    {
     "name": "stdout",
     "output_type": "stream",
     "text": [
      "[MoviePy] Done.\n",
      "WlckO1WTHKQ\n",
      "676\n",
      "[MoviePy] Writing audio in C:/Users/Ankit/Documents/wpi/cs525/video_data/videos/ad_data\\WlckO1WTHKQ\\Jack Link’s – Meat Vs Yogurt.wav\n"
     ]
    },
    {
     "name": "stderr",
     "output_type": "stream",
     "text": [
      "\n",
      "  0%|                                                  | 0/332 [00:00<?, ?it/s]\n",
      " 30%|███████████▌                          | 101/332 [00:00<00:00, 1009.94it/s]\n",
      " 46%|█████████████████▊                     | 152/332 [00:00<00:00, 736.46it/s]\n",
      " 75%|█████████████████████████████▏         | 248/332 [00:00<00:00, 791.76it/s]\n",
      "100%|███████████████████████████████████████| 332/332 [00:00<00:00, 882.93it/s]"
     ]
    },
    {
     "name": "stdout",
     "output_type": "stream",
     "text": [
      "[MoviePy] Done.\n",
      "Wm3hF0hmCZw\n",
      "677\n",
      "[MoviePy] Writing audio in C:/Users/Ankit/Documents/wpi/cs525/video_data/videos/ad_data\\Wm3hF0hmCZw\\TameImpala_SpeakScreen_15_sprint_bm.wav\n"
     ]
    },
    {
     "name": "stderr",
     "output_type": "stream",
     "text": [
      "\n",
      "  0%|                                                  | 0/332 [00:00<?, ?it/s]\n",
      " 30%|███████████▊                           | 101/332 [00:00<00:00, 776.88it/s]\n",
      " 89%|██████████████████████████████████▋    | 295/332 [00:00<00:00, 947.25it/s]\n",
      "100%|██████████████████████████████████████| 332/332 [00:00<00:00, 1211.61it/s]"
     ]
    },
    {
     "name": "stdout",
     "output_type": "stream",
     "text": [
      "[MoviePy] Done.\n",
      "wmB1shQTT1U\n",
      "678\n",
      "[MoviePy] Writing audio in C:/Users/Ankit/Documents/wpi/cs525/video_data/videos/ad_data\\wmB1shQTT1U\\Being Mary Jane 2 Hour Series Finale Tuesday April 23 87c followed by Games People Play 109c.wav\n"
     ]
    },
    {
     "name": "stderr",
     "output_type": "stream",
     "text": [
      "\n",
      "  0%|                                                  | 0/663 [00:00<?, ?it/s]\n",
      " 23%|████████▉                              | 152/663 [00:00<00:00, 899.36it/s]\n",
      " 38%|██████████████▉                        | 254/663 [00:00<00:00, 800.67it/s]\n",
      " 54%|████████████████████▉                  | 356/663 [00:00<00:00, 851.58it/s]\n",
      " 62%|████████████████████████▎              | 413/663 [00:00<00:00, 661.59it/s]\n",
      " 84%|████████████████████████████████▉      | 560/663 [00:00<00:00, 724.36it/s]\n",
      "100%|███████████████████████████████████████| 663/663 [00:00<00:00, 855.44it/s]"
     ]
    },
    {
     "name": "stdout",
     "output_type": "stream",
     "text": [
      "[MoviePy] Done.\n",
      "WOYWKPa5_3U\n",
      "679\n",
      "[MoviePy] Writing audio in C:/Users/Ankit/Documents/wpi/cs525/video_data/videos/ad_data\\WOYWKPa5_3U\\MA529 TuitionTales PreRoll 15sec v2.wav\n"
     ]
    },
    {
     "name": "stderr",
     "output_type": "stream",
     "text": [
      "\n",
      "  0%|                                                  | 0/332 [00:00<?, ?it/s]\n",
      "  8%|███▎                                    | 28/332 [00:00<00:01, 225.79it/s]\n",
      " 61%|███████████████████████▊               | 203/332 [00:00<00:00, 275.75it/s]\n",
      " 77%|█████████████████████████████▊         | 254/332 [00:00<00:00, 288.35it/s]\n",
      "100%|███████████████████████████████████████| 332/332 [00:00<00:00, 505.30it/s]"
     ]
    },
    {
     "name": "stdout",
     "output_type": "stream",
     "text": [
      "[MoviePy] Done.\n",
      "wQ2uVrSqkr0\n",
      "680\n",
      "[MoviePy] Writing audio in C:/Users/Ankit/Documents/wpi/cs525/video_data/videos/ad_data\\wQ2uVrSqkr0\\AdaptedMindcom - A Fun Way to Learn Math.wav\n"
     ]
    },
    {
     "name": "stderr",
     "output_type": "stream",
     "text": [
      "\n",
      "  0%|                                                 | 0/1258 [00:00<?, ?it/s]\n",
      "  2%|▊                                      | 28/1258 [00:00<00:07, 159.99it/s]\n",
      " 12%|████▌                                 | 152/1258 [00:00<00:05, 200.99it/s]\n",
      " 20%|███████▋                              | 254/1258 [00:00<00:03, 260.51it/s]\n",
      " 28%|██████████▊                           | 356/1258 [00:00<00:02, 330.55it/s]\n",
      " 42%|████████████████▏                     | 534/1258 [00:00<00:01, 437.40it/s]\n",
      " 57%|█████████████████████▌                | 713/1258 [00:00<00:01, 541.98it/s]\n",
      " 65%|████████████████████████▌             | 815/1258 [00:01<00:00, 515.04it/s]\n",
      " 73%|███████████████████████████▋          | 917/1258 [00:01<00:00, 584.09it/s]\n",
      " 81%|█████████████████████████████▉       | 1019/1258 [00:01<00:00, 662.15it/s]\n",
      " 93%|██████████████████████████████████▍  | 1172/1258 [00:01<00:00, 759.88it/s]\n",
      "100%|█████████████████████████████████████| 1258/1258 [00:01<00:00, 825.95it/s]"
     ]
    },
    {
     "name": "stdout",
     "output_type": "stream",
     "text": [
      "[MoviePy] Done.\n",
      "wqaVWQlK8lc\n",
      "681\n",
      "[MoviePy] Writing audio in C:/Users/Ankit/Documents/wpi/cs525/video_data/videos/ad_data\\wqaVWQlK8lc\\Untitled Ad.wav\n"
     ]
    },
    {
     "name": "stderr",
     "output_type": "stream",
     "text": [
      "\n",
      "  0%|                                                  | 0/332 [00:00<?, ?it/s]\n",
      " 24%|█████████▋                              | 80/332 [00:00<00:00, 799.95it/s]\n",
      " 46%|█████████████████▊                     | 152/332 [00:00<00:00, 731.67it/s]\n",
      " 92%|███████████████████████████████████▊   | 305/332 [00:00<00:00, 865.97it/s]\n",
      "100%|███████████████████████████████████████| 332/332 [00:00<00:00, 996.94it/s]"
     ]
    },
    {
     "name": "stdout",
     "output_type": "stream",
     "text": [
      "[MoviePy] Done.\n",
      "WvPJTdd-AqM\n",
      "682\n",
      "[MoviePy] Writing audio in C:/Users/Ankit/Documents/wpi/cs525/video_data/videos/ad_data\\WvPJTdd-AqM\\Put An End To Employee Frustration with WalkMe.wav\n"
     ]
    },
    {
     "name": "stderr",
     "output_type": "stream",
     "text": [
      "\n",
      "  0%|                                                 | 0/1226 [00:00<?, ?it/s]\n",
      "  9%|███▏                                 | 105/1226 [00:00<00:01, 1049.94it/s]\n",
      " 23%|████████▌                            | 285/1226 [00:00<00:00, 1199.93it/s]\n",
      " 37%|█████████████▊                       | 458/1226 [00:00<00:00, 1291.77it/s]\n",
      " 50%|██████████████████▍                  | 611/1226 [00:00<00:00, 1347.89it/s]\n",
      " 62%|███████████████████████              | 764/1226 [00:00<00:00, 1328.59it/s]\n",
      " 77%|████████████████████████████▋        | 950/1226 [00:00<00:00, 1453.12it/s]\n",
      " 92%|█████████████████████████████████   | 1125/1226 [00:00<00:00, 1531.02it/s]\n",
      "100%|████████████████████████████████████| 1226/1226 [00:00<00:00, 1565.68it/s]"
     ]
    },
    {
     "name": "stdout",
     "output_type": "stream",
     "text": [
      "[MoviePy] Done.\n",
      "WXwRKGQvslc\n",
      "683\n",
      "[MoviePy] Writing audio in C:/Users/Ankit/Documents/wpi/cs525/video_data/videos/ad_data\\WXwRKGQvslc\\Untitled Ad.wav\n"
     ]
    },
    {
     "name": "stderr",
     "output_type": "stream",
     "text": [
      "\n",
      "  0%|                                                  | 0/133 [00:00<?, ?it/s]\n",
      " 21%|████████▍                               | 28/133 [00:00<00:00, 119.65it/s]\n",
      "100%|███████████████████████████████████████| 133/133 [00:00<00:00, 427.63it/s]"
     ]
    },
    {
     "name": "stdout",
     "output_type": "stream",
     "text": [
      "[MoviePy] Done.\n",
      "WZw14AZF2fQ\n",
      "684\n",
      "[MoviePy] Writing audio in C:/Users/Ankit/Documents/wpi/cs525/video_data/videos/ad_data\\WZw14AZF2fQ\\Untitled Ad.wav\n"
     ]
    },
    {
     "name": "stderr",
     "output_type": "stream",
     "text": [
      "\n",
      "  0%|                                                  | 0/331 [00:00<?, ?it/s]\n",
      "  8%|███▍                                    | 28/331 [00:00<00:01, 172.83it/s]\n",
      " 57%|██████████████████████▎                | 189/331 [00:00<00:00, 236.04it/s]\n",
      "100%|███████████████████████████████████████| 331/331 [00:00<00:00, 976.35it/s]"
     ]
    },
    {
     "name": "stdout",
     "output_type": "stream",
     "text": [
      "[MoviePy] Done.\n",
      "X-Ckg-4jc_o\n",
      "685\n",
      "[MoviePy] Writing audio in C:/Users/Ankit/Documents/wpi/cs525/video_data/videos/ad_data\\X-Ckg-4jc_o\\MCWA757519TH_EvenMoreGCM_15_Unslated_Innovid.wav\n"
     ]
    },
    {
     "name": "stderr",
     "output_type": "stream",
     "text": [
      "\n",
      "  0%|                                                  | 0/332 [00:00<?, ?it/s]\n",
      "  8%|███▎                                    | 28/332 [00:00<00:02, 107.69it/s]\n",
      " 30%|███████████▊                           | 101/332 [00:00<00:01, 133.35it/s]\n",
      " 77%|█████████████████████████████▊         | 254/332 [00:00<00:00, 183.51it/s]\n",
      "100%|███████████████████████████████████████| 332/332 [00:00<00:00, 515.50it/s]"
     ]
    },
    {
     "name": "stdout",
     "output_type": "stream",
     "text": [
      "[MoviePy] Done.\n",
      "X8GHzOWdrYs\n",
      "686\n",
      "[MoviePy] Writing audio in C:/Users/Ankit/Documents/wpi/cs525/video_data/videos/ad_data\\X8GHzOWdrYs\\Luxury All Inclusive Resort on Banderas Bay Mexico.wav\n"
     ]
    },
    {
     "name": "stderr",
     "output_type": "stream",
     "text": [
      "\n",
      "  0%|                                                 | 0/1281 [00:00<?, ?it/s]\n",
      "  2%|▊                                       | 28/1281 [00:00<00:13, 89.74it/s]\n",
      "  8%|██▉                                   | 101/1281 [00:00<00:09, 121.42it/s]\n",
      " 12%|████▌                                 | 152/1281 [00:00<00:09, 120.73it/s]\n",
      " 16%|██████                                | 203/1281 [00:01<00:07, 136.36it/s]\n",
      " 20%|███████▌                              | 254/1281 [00:01<00:06, 163.20it/s]\n",
      " 30%|███████████▍                          | 386/1281 [00:01<00:04, 221.40it/s]\n",
      " 36%|█████████████▌                        | 458/1281 [00:01<00:03, 238.61it/s]\n",
      " 40%|███████████████                       | 509/1281 [00:01<00:03, 210.73it/s]\n",
      " 52%|███████████████████▋                  | 662/1281 [00:02<00:02, 284.10it/s]\n",
      " 61%|███████████████████████▎              | 786/1281 [00:02<00:01, 369.57it/s]\n",
      " 69%|██████████████████████████▍           | 890/1281 [00:02<00:00, 458.17it/s]\n",
      " 80%|█████████████████████████████▋       | 1026/1281 [00:02<00:00, 571.95it/s]\n",
      " 93%|██████████████████████████████████▏  | 1185/1281 [00:02<00:00, 707.93it/s]\n",
      "100%|█████████████████████████████████████| 1281/1281 [00:02<00:00, 516.09it/s]"
     ]
    },
    {
     "name": "stdout",
     "output_type": "stream",
     "text": [
      "[MoviePy] Done.\n",
      "xaBrKGH6XHY\n",
      "687\n",
      "[MoviePy] Writing audio in C:/Users/Ankit/Documents/wpi/cs525/video_data/videos/ad_data\\xaBrKGH6XHY\\sundaycandy_locker_06_sprint_wm.wav\n"
     ]
    },
    {
     "name": "stderr",
     "output_type": "stream",
     "text": [
      "\n",
      "  0%|                                                  | 0/133 [00:00<?, ?it/s]\n",
      " 83%|███████████████████████████████▍      | 110/133 [00:00<00:00, 1099.94it/s]\n",
      "100%|██████████████████████████████████████| 133/133 [00:00<00:00, 1187.43it/s]"
     ]
    },
    {
     "name": "stdout",
     "output_type": "stream",
     "text": [
      "[MoviePy] Done.\n",
      "xCPq6ZyauuQ\n",
      "688\n",
      "[MoviePy] Writing audio in C:/Users/Ankit/Documents/wpi/cs525/video_data/videos/ad_data\\xCPq6ZyauuQ\\Synchrony x Marvel Studios’ Avengers Endgame - The Climb.wav\n"
     ]
    },
    {
     "name": "stderr",
     "output_type": "stream",
     "text": [
      "\n",
      "  0%|                                                  | 0/664 [00:00<?, ?it/s]\n",
      " 11%|████▌                                   | 75/664 [00:00<00:00, 749.96it/s]\n",
      " 38%|██████████████▉                        | 254/664 [00:00<00:00, 905.51it/s]\n",
      " 64%|████████████████████████▏             | 422/664 [00:00<00:00, 1050.83it/s]\n",
      " 92%|██████████████████████████████████▉   | 611/664 [00:00<00:00, 1182.71it/s]\n",
      "100%|██████████████████████████████████████| 664/664 [00:00<00:00, 1498.79it/s]"
     ]
    },
    {
     "name": "stdout",
     "output_type": "stream",
     "text": [
      "[MoviePy] Done.\n",
      "xD-dw8Q36C8\n",
      "689\n",
      "[MoviePy] Writing audio in C:/Users/Ankit/Documents/wpi/cs525/video_data/videos/ad_data\\xD-dw8Q36C8\\15_HKPT9345000H_Spring_19_Pilot_Race_Truck_15.wav\n"
     ]
    },
    {
     "name": "stderr",
     "output_type": "stream",
     "text": [
      "\n",
      "  0%|                                                  | 0/332 [00:00<?, ?it/s]\n",
      "  8%|███▎                                    | 28/332 [00:00<00:02, 104.86it/s]\n",
      " 43%|████████████████▊                      | 143/332 [00:00<00:01, 144.17it/s]\n",
      " 89%|██████████████████████████████████▉    | 297/332 [00:00<00:00, 198.01it/s]\n",
      "100%|███████████████████████████████████████| 332/332 [00:00<00:00, 674.76it/s]"
     ]
    },
    {
     "name": "stdout",
     "output_type": "stream",
     "text": [
      "[MoviePy] Done.\n",
      "xFLbQaVRmCc\n",
      "690\n",
      "[MoviePy] Writing audio in C:/Users/Ankit/Documents/wpi/cs525/video_data/videos/ad_data\\xFLbQaVRmCc\\Write the Future with Grammarly.wav\n"
     ]
    },
    {
     "name": "stderr",
     "output_type": "stream",
     "text": [
      "\n",
      "  0%|                                                  | 0/773 [00:00<?, ?it/s]\n",
      " 12%|████▉                                   | 96/773 [00:00<00:00, 959.94it/s]\n",
      " 26%|██████████▏                            | 203/773 [00:00<00:00, 982.31it/s]\n",
      " 46%|█████████████████▌                    | 356/773 [00:00<00:00, 1084.10it/s]\n",
      " 58%|██████████████████████▍                | 445/773 [00:00<00:00, 900.18it/s]\n",
      " 77%|█████████████████████████████▍        | 599/773 [00:00<00:00, 1028.34it/s]\n",
      " 97%|████████████████████████████████████▋ | 747/773 [00:00<00:00, 1131.96it/s]\n",
      "100%|██████████████████████████████████████| 773/773 [00:00<00:00, 1155.39it/s]"
     ]
    },
    {
     "name": "stdout",
     "output_type": "stream",
     "text": [
      "[MoviePy] Done.\n",
      "Xiy2oEnXe0U\n",
      "691\n",
      "[MoviePy] Writing audio in C:/Users/Ankit/Documents/wpi/cs525/video_data/videos/ad_data\\Xiy2oEnXe0U\\Rate The Presidency.wav\n"
     ]
    },
    {
     "name": "stderr",
     "output_type": "stream",
     "text": [
      "\n",
      "  0%|                                                  | 0/331 [00:00<?, ?it/s]\n",
      "  8%|███▍                                    | 28/331 [00:00<00:02, 115.22it/s]\n",
      " 65%|█████████████████████████▏             | 214/331 [00:00<00:00, 160.34it/s]\n",
      "100%|███████████████████████████████████████| 331/331 [00:00<00:00, 823.34it/s]"
     ]
    },
    {
     "name": "stdout",
     "output_type": "stream",
     "text": [
      "[MoviePy] Done.\n",
      "xLI98bdiWC4\n",
      "692\n",
      "[MoviePy] Writing audio in C:/Users/Ankit/Documents/wpi/cs525/video_data/videos/ad_data\\xLI98bdiWC4\\sundaycandy_safari_06_att_wm.wav\n"
     ]
    },
    {
     "name": "stderr",
     "output_type": "stream",
     "text": [
      "\n",
      "  0%|                                                  | 0/134 [00:00<?, ?it/s]\n",
      " 75%|█████████████████████████████▍         | 101/134 [00:00<00:00, 961.85it/s]\n",
      "100%|██████████████████████████████████████| 134/134 [00:00<00:00, 1089.37it/s]"
     ]
    },
    {
     "name": "stdout",
     "output_type": "stream",
     "text": [
      "[MoviePy] Done.\n",
      "xmlZIaAFHKM\n",
      "693\n",
      "[MoviePy] Writing audio in C:/Users/Ankit/Documents/wpi/cs525/video_data/videos/ad_data\\xmlZIaAFHKM\\YWET2630000H_NAT_FND_PowerTrip_VID_CBSYTube_Reactive_WorkingFootage_PowerTrip_CBS_VAST.wav\n"
     ]
    },
    {
     "name": "stderr",
     "output_type": "stream",
     "text": [
      "\n",
      "  0%|                                                  | 0/332 [00:00<?, ?it/s]\n",
      " 46%|█████████████████▍                    | 152/332 [00:00<00:00, 1519.91it/s]\n",
      " 89%|█████████████████████████████████▉    | 297/332 [00:00<00:00, 1498.21it/s]\n",
      "100%|██████████████████████████████████████| 332/332 [00:00<00:00, 1488.70it/s]"
     ]
    },
    {
     "name": "stdout",
     "output_type": "stream",
     "text": [
      "[MoviePy] Done.\n",
      "xNAgS2se2oQ\n",
      "694\n",
      "[MoviePy] Writing audio in C:/Users/Ankit/Documents/wpi/cs525/video_data/videos/ad_data\\xNAgS2se2oQ\\The Truth Is Worth It Resolve  The New York Times.wav\n"
     ]
    },
    {
     "name": "stderr",
     "output_type": "stream",
     "text": [
      "\n",
      "  0%|                                                  | 0/415 [00:00<?, ?it/s]\n",
      "  7%|██▋                                     | 28/415 [00:00<00:01, 249.99it/s]\n",
      " 47%|██████████████████▍                    | 196/415 [00:00<00:00, 335.71it/s]\n",
      " 83%|████████████████████████████████▎      | 344/415 [00:00<00:00, 437.09it/s]\n",
      "100%|██████████████████████████████████████| 415/415 [00:00<00:00, 1172.25it/s]"
     ]
    },
    {
     "name": "stdout",
     "output_type": "stream",
     "text": [
      "[MoviePy] Done.\n",
      "XnBr2lO0Ms8\n",
      "695\n",
      "[MoviePy] Writing audio in C:/Users/Ankit/Documents/wpi/cs525/video_data/videos/ad_data\\XnBr2lO0Ms8\\In-Stream Video.wav\n"
     ]
    },
    {
     "name": "stderr",
     "output_type": "stream",
     "text": [
      "\n",
      "  0%|                                                  | 0/332 [00:00<?, ?it/s]\n",
      "  8%|███▎                                    | 28/332 [00:00<00:02, 108.52it/s]\n",
      " 48%|██████████████████▉                    | 161/332 [00:00<00:01, 149.79it/s]\n",
      "100%|███████████████████████████████████████| 332/332 [00:00<00:00, 742.69it/s]"
     ]
    },
    {
     "name": "stdout",
     "output_type": "stream",
     "text": [
      "[MoviePy] Done.\n",
      "XniR5aa6uZQ\n",
      "696\n",
      "[MoviePy] Writing audio in C:/Users/Ankit/Documents/wpi/cs525/video_data/videos/ad_data\\XniR5aa6uZQ\\Save Money on Groupon!.wav\n"
     ]
    },
    {
     "name": "stderr",
     "output_type": "stream",
     "text": [
      "\n",
      "  0%|                                                  | 0/332 [00:00<?, ?it/s]\n",
      "  8%|███▎                                    | 28/332 [00:00<00:01, 193.09it/s]\n",
      " 60%|███████████████████████▍               | 200/332 [00:00<00:00, 263.18it/s]\n",
      "100%|██████████████████████████████████████| 332/332 [00:00<00:00, 1002.96it/s]"
     ]
    },
    {
     "name": "stdout",
     "output_type": "stream",
     "text": [
      "[MoviePy] Done.\n",
      "XojC23F6oE8\n",
      "697\n",
      "[MoviePy] Writing audio in C:/Users/Ankit/Documents/wpi/cs525/video_data/videos/ad_data\\XojC23F6oE8\\A Barbershop Quartet Plays Basketball 15 - GEICO Insurance.wav\n"
     ]
    },
    {
     "name": "stderr",
     "output_type": "stream",
     "text": [
      "\n",
      "  0%|                                                  | 0/332 [00:00<?, ?it/s]\n",
      "  8%|███▍                                     | 28/332 [00:00<00:06, 47.37it/s]\n",
      " 30%|████████████▏                           | 101/332 [00:00<00:03, 63.71it/s]\n",
      " 46%|██████████████████▎                     | 152/332 [00:00<00:02, 85.73it/s]\n",
      " 61%|███████████████████████▊               | 203/332 [00:01<00:01, 104.36it/s]\n",
      " 77%|█████████████████████████████▊         | 254/332 [00:01<00:00, 127.79it/s]\n",
      "100%|███████████████████████████████████████| 332/332 [00:01<00:00, 234.45it/s]"
     ]
    },
    {
     "name": "stdout",
     "output_type": "stream",
     "text": [
      "[MoviePy] Done.\n",
      "XP5VPRpJbZE\n",
      "698\n",
      "[MoviePy] Writing audio in C:/Users/Ankit/Documents/wpi/cs525/video_data/videos/ad_data\\XP5VPRpJbZE\\2019 Ford Ranger Tough Has More Fun in Boston  Ranger  Ford.wav\n"
     ]
    },
    {
     "name": "stderr",
     "output_type": "stream",
     "text": [
      "\n",
      "  0%|                                                 | 0/2760 [00:00<?, ?it/s]\n",
      "  2%|▊                                      | 57/2760 [00:00<00:04, 569.97it/s]\n",
      "  6%|██▍                                   | 175/2760 [00:00<00:03, 674.59it/s]\n",
      " 11%|████▏                                 | 305/2760 [00:00<00:03, 756.69it/s]\n",
      " 15%|█████▊                                | 423/2760 [00:00<00:02, 847.94it/s]\n",
      " 22%|████████▍                             | 611/2760 [00:00<00:02, 998.93it/s]\n",
      " 28%|██████████▏                          | 764/2760 [00:00<00:01, 1112.59it/s]\n",
      " 34%|████████████▋                        | 947/2760 [00:00<00:01, 1260.87it/s]\n",
      " 39%|██████████████▌                      | 1087/2760 [00:00<00:01, 976.10it/s]\n",
      " 45%|████████████████▏                   | 1237/2760 [00:01<00:01, 1090.33it/s]\n",
      " 51%|██████████████████▏                 | 1394/2760 [00:01<00:01, 1200.34it/s]\n",
      " 55%|███████████████████▉                | 1530/2760 [00:01<00:00, 1233.98it/s]\n",
      " 61%|█████████████████████▉              | 1682/2760 [00:01<00:00, 1287.84it/s]\n",
      " 66%|███████████████████████▉            | 1835/2760 [00:01<00:00, 1120.34it/s]\n",
      " 72%|█████████████████████████▉          | 1988/2760 [00:01<00:00, 1116.80it/s]\n",
      " 78%|████████████████████████████▏       | 2158/2760 [00:01<00:00, 1244.91it/s]\n",
      " 83%|█████████████████████████████▉      | 2293/2760 [00:01<00:00, 1168.72it/s]\n",
      " 88%|███████████████████████████████▌    | 2418/2760 [00:02<00:00, 1188.55it/s]\n",
      " 94%|█████████████████████████████████▉  | 2600/2760 [00:02<00:00, 1276.37it/s]\n",
      " 99%|███████████████████████████████████▋| 2734/2760 [00:02<00:00, 1128.02it/s]\n",
      "100%|████████████████████████████████████| 2760/2760 [00:02<00:00, 1200.98it/s]"
     ]
    },
    {
     "name": "stdout",
     "output_type": "stream",
     "text": [
      "[MoviePy] Done.\n",
      "xVsXJCl76zM\n",
      "699\n",
      "[MoviePy] Writing audio in C:/Users/Ankit/Documents/wpi/cs525/video_data/videos/ad_data\\xVsXJCl76zM\\Isabel 2 Final 2.wav\n"
     ]
    },
    {
     "name": "stderr",
     "output_type": "stream",
     "text": [
      "\n",
      "  0%|                                                  | 0/557 [00:00<?, ?it/s]\n",
      "  5%|██                                       | 28/557 [00:00<00:06, 87.49it/s]\n",
      " 18%|███████                                | 101/557 [00:00<00:03, 116.77it/s]\n",
      " 46%|█████████████████▊                     | 254/557 [00:00<00:01, 161.18it/s]\n",
      " 73%|████████████████████████████▍          | 407/557 [00:00<00:00, 217.68it/s]\n",
      "100%|███████████████████████████████████████| 557/557 [00:00<00:00, 709.51it/s]"
     ]
    },
    {
     "name": "stdout",
     "output_type": "stream",
     "text": [
      "[MoviePy] Done.\n",
      "Xwt-_ADyiZU\n",
      "700\n",
      "[MoviePy] Writing audio in C:/Users/Ankit/Documents/wpi/cs525/video_data/videos/ad_data\\Xwt-_ADyiZU\\SP19 CKJ D 15 ARCHIVE ICONS 1920X1080.wav\n"
     ]
    },
    {
     "name": "stderr",
     "output_type": "stream",
     "text": [
      "\n",
      "  0%|                                                  | 0/334 [00:00<?, ?it/s]\n",
      "  8%|███▍                                     | 28/334 [00:00<00:03, 94.91it/s]\n",
      " 50%|███████████████████▌                   | 168/334 [00:00<00:01, 131.76it/s]\n",
      " 76%|█████████████████████████████▋         | 254/334 [00:00<00:00, 175.76it/s]\n",
      "100%|███████████████████████████████████████| 334/334 [00:00<00:00, 615.07it/s]"
     ]
    },
    {
     "name": "stdout",
     "output_type": "stream",
     "text": [
      "[MoviePy] Done.\n",
      "y0bOGDwBU3Q\n",
      "701\n",
      "[MoviePy] Writing audio in C:/Users/Ankit/Documents/wpi/cs525/video_data/videos/ad_data\\y0bOGDwBU3Q\\Perfect Small Business You Can Start.wav\n"
     ]
    },
    {
     "name": "stderr",
     "output_type": "stream",
     "text": [
      "\n",
      "  0%|                                                 | 0/4600 [00:00<?, ?it/s]\n",
      "  1%|▏                                       | 28/4600 [00:00<01:05, 69.47it/s]\n",
      "  2%|▊                                      | 101/4600 [00:00<00:48, 93.46it/s]\n",
      "  5%|█▊                                    | 214/4600 [00:00<00:34, 128.94it/s]\n",
      "  8%|██▉                                   | 356/4600 [00:00<00:24, 176.83it/s]\n",
      " 10%|███▊                                  | 458/4600 [00:00<00:18, 229.28it/s]\n",
      " 12%|████▋                                 | 566/4600 [00:01<00:13, 300.22it/s]\n",
      " 16%|█████▉                                | 713/4600 [00:01<00:10, 385.07it/s]\n",
      " 20%|███████▍                              | 900/4600 [00:01<00:07, 505.49it/s]\n",
      " 23%|████████▌                            | 1070/4600 [00:01<00:05, 639.06it/s]\n",
      " 27%|██████████                           | 1253/4600 [00:01<00:04, 794.09it/s]\n",
      " 31%|███████████▍                         | 1428/4600 [00:01<00:03, 949.71it/s]\n",
      " 34%|████████████▍                       | 1585/4600 [00:01<00:02, 1064.25it/s]\n",
      " 38%|█████████████▌                      | 1740/4600 [00:01<00:02, 1102.01it/s]\n",
      " 42%|███████████████                     | 1927/4600 [00:01<00:02, 1256.85it/s]\n",
      " 45%|████████████████▊                    | 2084/4600 [00:02<00:02, 964.70it/s]\n",
      " 48%|█████████████████▊                   | 2213/4600 [00:02<00:03, 706.04it/s]\n",
      " 52%|███████████████████▏                 | 2388/4600 [00:02<00:02, 859.93it/s]\n",
      " 55%|████████████████████▏                | 2513/4600 [00:02<00:02, 818.30it/s]\n",
      " 57%|█████████████████████                | 2623/4600 [00:02<00:02, 664.65it/s]\n",
      " 61%|██████████████████████▌              | 2799/4600 [00:03<00:02, 817.22it/s]\n",
      " 64%|███████████████████████▊             | 2957/4600 [00:03<00:01, 930.30it/s]\n",
      " 68%|████████████████████████▌           | 3142/4600 [00:03<00:01, 1093.35it/s]\n",
      " 72%|█████████████████████████▉          | 3314/4600 [00:03<00:01, 1222.27it/s]\n",
      " 75%|███████████████████████████▏        | 3467/4600 [00:03<00:00, 1290.86it/s]\n",
      " 79%|████████████████████████████▌       | 3655/4600 [00:03<00:00, 1424.79it/s]\n",
      " 83%|█████████████████████████████▉      | 3824/4600 [00:03<00:00, 1464.07it/s]\n",
      " 87%|███████████████████████████████▍    | 4010/4600 [00:03<00:00, 1563.92it/s]\n",
      " 91%|████████████████████████████████▋   | 4178/4600 [00:03<00:00, 1597.00it/s]\n",
      " 94%|██████████████████████████████████  | 4346/4600 [00:04<00:00, 1097.02it/s]\n",
      " 97%|████████████████████████████████████ | 4483/4600 [00:04<00:00, 862.59it/s]\n",
      "100%|████████████████████████████████████▉| 4596/4600 [00:04<00:00, 858.65it/s]\n",
      "100%|████████████████████████████████████| 4600/4600 [00:04<00:00, 1023.98it/s]"
     ]
    },
    {
     "name": "stdout",
     "output_type": "stream",
     "text": [
      "[MoviePy] Done.\n",
      "y6rAQa_lP4k\n",
      "702\n",
      "[MoviePy] Writing audio in C:/Users/Ankit/Documents/wpi/cs525/video_data/videos/ad_data\\y6rAQa_lP4k\\In-Stream Video.wav\n"
     ]
    },
    {
     "name": "stderr",
     "output_type": "stream",
     "text": [
      "\n",
      "  0%|                                                  | 0/332 [00:00<?, ?it/s]\n",
      "  8%|███▍                                     | 28/332 [00:00<00:05, 52.73it/s]\n",
      " 65%|██████████████████████████▏             | 217/332 [00:00<00:01, 74.44it/s]\n",
      "100%|███████████████████████████████████████| 332/332 [00:00<00:00, 479.74it/s]"
     ]
    },
    {
     "name": "stdout",
     "output_type": "stream",
     "text": [
      "[MoviePy] Done.\n",
      "y9lYphuapKg\n",
      "703\n",
      "[MoviePy] Writing audio in C:/Users/Ankit/Documents/wpi/cs525/video_data/videos/ad_data\\y9lYphuapKg\\Video 1 7627396 7627757.wav\n"
     ]
    },
    {
     "name": "stderr",
     "output_type": "stream",
     "text": [
      "\n",
      "  0%|                                                  | 0/443 [00:00<?, ?it/s]\n",
      " 16%|██████▌                                 | 72/443 [00:00<00:00, 719.96it/s]\n",
      " 57%|██████████████████████▎                | 254/443 [00:00<00:00, 875.61it/s]\n",
      "100%|██████████████████████████████████████| 443/443 [00:00<00:00, 1486.49it/s]"
     ]
    },
    {
     "name": "stdout",
     "output_type": "stream",
     "text": [
      "[MoviePy] Done.\n",
      "YDxB4CDElWs\n",
      "704\n",
      "[MoviePy] Writing audio in C:/Users/Ankit/Documents/wpi/cs525/video_data/videos/ad_data\\YDxB4CDElWs\\H-D Outpost 15s.wav\n"
     ]
    },
    {
     "name": "stderr",
     "output_type": "stream",
     "text": [
      "\n",
      "  0%|                                                  | 0/340 [00:00<?, ?it/s]\n",
      "  8%|███▍                                     | 28/340 [00:00<00:03, 95.56it/s]\n",
      " 30%|███████████▌                           | 101/340 [00:00<00:01, 128.44it/s]\n",
      " 66%|█████████████████████████▊             | 225/340 [00:00<00:00, 175.69it/s]\n",
      "100%|███████████████████████████████████████| 340/340 [00:00<00:00, 600.67it/s]"
     ]
    },
    {
     "name": "stdout",
     "output_type": "stream",
     "text": [
      "[MoviePy] Done.\n",
      "yElBaF97tWc\n",
      "705\n",
      "[MoviePy] Writing audio in C:/Users/Ankit/Documents/wpi/cs525/video_data/videos/ad_data\\yElBaF97tWc\\Miami Security Social Animation.wav\n"
     ]
    },
    {
     "name": "stderr",
     "output_type": "stream",
     "text": [
      "\n",
      "  0%|                                                  | 0/333 [00:00<?, ?it/s]\n",
      "  8%|███▎                                    | 28/333 [00:00<00:02, 137.25it/s]\n",
      " 31%|████████████                           | 103/333 [00:00<00:01, 181.81it/s]\n",
      " 71%|███████████████████████████▊           | 237/333 [00:00<00:00, 245.45it/s]\n",
      "100%|███████████████████████████████████████| 333/333 [00:00<00:00, 714.55it/s]"
     ]
    },
    {
     "name": "stdout",
     "output_type": "stream",
     "text": [
      "[MoviePy] Done.\n",
      "YFo0VtzymvI\n",
      "706\n",
      "[MoviePy] Writing audio in C:/Users/Ankit/Documents/wpi/cs525/video_data/videos/ad_data\\YFo0VtzymvI\\fast-rinse conditioners  a tale of Love Beauty and Planet.wav\n"
     ]
    },
    {
     "name": "stderr",
     "output_type": "stream",
     "text": [
      "\n",
      "  0%|                                                  | 0/328 [00:00<?, ?it/s]\n",
      "  9%|███▍                                    | 28/328 [00:00<00:01, 243.46it/s]\n",
      " 51%|███████████████████▋                   | 166/328 [00:00<00:00, 323.36it/s]\n",
      " 94%|████████████████████████████████████▌  | 308/328 [00:00<00:00, 420.86it/s]\n",
      "100%|██████████████████████████████████████| 328/328 [00:00<00:00, 1006.08it/s]"
     ]
    },
    {
     "name": "stdout",
     "output_type": "stream",
     "text": [
      "[MoviePy] Done.\n",
      "yGX994qFOdI\n",
      "707\n",
      "[MoviePy] Writing audio in C:/Users/Ankit/Documents/wpi/cs525/video_data/videos/ad_data\\yGX994qFOdI\\Guardians of Ember - Character Evolution Trailer.wav\n"
     ]
    },
    {
     "name": "stderr",
     "output_type": "stream",
     "text": [
      "\n",
      "  0%|                                                 | 0/1342 [00:00<?, ?it/s]\n",
      "  2%|▊                                      | 28/1342 [00:00<00:08, 146.59it/s]\n",
      " 12%|████▋                                 | 167/1342 [00:00<00:05, 200.36it/s]\n",
      " 19%|███████▏                              | 254/1342 [00:00<00:04, 253.45it/s]\n",
      " 30%|███████████▌                          | 407/1342 [00:00<00:02, 314.12it/s]\n",
      " 42%|███████████████▊                      | 560/1342 [00:00<00:01, 394.28it/s]\n",
      " 53%|████████████████████▏                 | 714/1342 [00:00<00:01, 507.56it/s]\n",
      " 61%|███████████████████████               | 815/1342 [00:01<00:00, 580.14it/s]\n",
      " 72%|███████████████████████████▍          | 968/1342 [00:01<00:00, 661.15it/s]\n",
      " 80%|█████████████████████████████▌       | 1070/1342 [00:01<00:00, 642.74it/s]\n",
      " 87%|████████████████████████████████▎    | 1172/1342 [00:01<00:00, 706.42it/s]\n",
      " 99%|████████████████████████████████████▊| 1334/1342 [00:01<00:00, 850.27it/s]\n",
      "100%|█████████████████████████████████████| 1342/1342 [00:01<00:00, 864.08it/s]"
     ]
    },
    {
     "name": "stdout",
     "output_type": "stream",
     "text": [
      "[MoviePy] Done.\n",
      "yhB_gL5JCXQ\n",
      "708\n",
      "[MoviePy] Writing audio in C:/Users/Ankit/Documents/wpi/cs525/video_data/videos/ad_data\\yhB_gL5JCXQ\\Monday Office Live  Vid 4  LD5400T Thunderbolt 3 Dual 4k Docking Station.wav\n"
     ]
    },
    {
     "name": "stderr",
     "output_type": "stream",
     "text": [
      "\n",
      "  0%|                                                 | 0/3320 [00:00<?, ?it/s]\n",
      "  3%|█▏                                    | 101/3320 [00:00<00:04, 731.84it/s]\n",
      "  6%|██▎                                   | 203/3320 [00:00<00:04, 742.01it/s]\n",
      "  8%|██▉                                   | 254/3320 [00:00<00:05, 522.46it/s]\n",
      " 11%|████                                  | 356/3320 [00:00<00:04, 610.91it/s]\n",
      " 14%|█████▏                                | 458/3320 [00:00<00:04, 663.30it/s]\n",
      " 19%|███████▏                              | 624/3320 [00:00<00:03, 809.02it/s]\n",
      " 23%|████████▋                             | 756/3320 [00:00<00:02, 915.31it/s]\n",
      " 26%|█████████▊                            | 862/3320 [00:01<00:03, 754.61it/s]\n",
      " 29%|███████████                           | 968/3320 [00:01<00:02, 812.70it/s]\n",
      " 32%|███████████▉                         | 1071/3320 [00:01<00:02, 867.60it/s]\n",
      " 35%|█████████████                        | 1167/3320 [00:01<00:02, 855.18it/s]\n",
      " 38%|██████████████▏                      | 1274/3320 [00:01<00:02, 797.99it/s]\n",
      " 43%|███████████████▉                     | 1427/3320 [00:01<00:02, 916.64it/s]\n",
      " 46%|█████████████████                    | 1529/3320 [00:01<00:02, 695.78it/s]\n",
      " 49%|██████████████████▏                  | 1631/3320 [00:02<00:02, 651.25it/s]\n",
      " 53%|███████████████████▌                 | 1756/3320 [00:02<00:02, 760.53it/s]\n",
      " 58%|█████████████████████▌               | 1937/3320 [00:02<00:01, 915.09it/s]\n",
      " 62%|██████████████████████▉              | 2053/3320 [00:02<00:01, 682.20it/s]\n",
      " 67%|████████████████████████▋            | 2219/3320 [00:02<00:01, 828.62it/s]\n",
      " 70%|██████████████████████████           | 2335/3320 [00:02<00:01, 642.66it/s]\n",
      " 75%|███████████████████████████▊         | 2498/3320 [00:03<00:01, 761.17it/s]\n",
      " 80%|█████████████████████████████▋       | 2661/3320 [00:03<00:00, 906.04it/s]\n",
      " 86%|██████████████████████████████▉     | 2855/3320 [00:03<00:00, 1066.02it/s]\n",
      " 91%|████████████████████████████████▊   | 3027/3320 [00:03<00:00, 1203.26it/s]\n",
      " 96%|██████████████████████████████████▍ | 3177/3320 [00:03<00:00, 1253.50it/s]\n",
      "100%|█████████████████████████████████████| 3320/3320 [00:03<00:00, 944.20it/s]"
     ]
    },
    {
     "name": "stdout",
     "output_type": "stream",
     "text": [
      "[MoviePy] Done.\n",
      "yiKsIBdRASI\n",
      "709\n",
      "[MoviePy] Writing audio in C:/Users/Ankit/Documents/wpi/cs525/video_data/videos/ad_data\\yiKsIBdRASI\\Meat Counter Basics Pork Loin vs Tenderloin.wav\n"
     ]
    },
    {
     "name": "stderr",
     "output_type": "stream",
     "text": [
      "\n",
      "  0%|                                                 | 0/2266 [00:00<?, ?it/s]\n",
      "  4%|█▋                                    | 101/2266 [00:00<00:02, 971.10it/s]\n",
      " 13%|████▋                                | 288/2266 [00:00<00:01, 1134.73it/s]\n",
      " 20%|███████▌                             | 460/2266 [00:00<00:01, 1263.72it/s]\n",
      " 29%|██████████▋                          | 653/2266 [00:00<00:01, 1409.70it/s]\n",
      " 36%|█████████████▎                       | 818/2266 [00:00<00:00, 1474.08it/s]\n",
      " 43%|███████████████▊                     | 968/2266 [00:00<00:00, 1439.09it/s]\n",
      " 52%|██████████████████▌                 | 1172/2266 [00:00<00:00, 1546.26it/s]\n",
      " 61%|█████████████████████▊              | 1376/2266 [00:00<00:00, 1639.16it/s]\n",
      " 69%|████████████████████████▊           | 1563/2266 [00:00<00:00, 1702.17it/s]\n",
      " 77%|███████████████████████████▌        | 1735/2266 [00:01<00:00, 1672.58it/s]\n",
      " 84%|██████████████████████████████▏     | 1904/2266 [00:01<00:00, 1610.58it/s]\n",
      " 91%|████████████████████████████████▊   | 2067/2266 [00:01<00:00, 1606.77it/s]\n",
      " 98%|███████████████████████████████████▍| 2229/2266 [00:01<00:00, 1605.90it/s]\n",
      "100%|████████████████████████████████████| 2266/2266 [00:01<00:00, 1641.94it/s]"
     ]
    },
    {
     "name": "stdout",
     "output_type": "stream",
     "text": [
      "[MoviePy] Done.\n",
      "YiV3XSYoEtY\n",
      "710\n",
      "[MoviePy] Writing audio in C:/Users/Ankit/Documents/wpi/cs525/video_data/videos/ad_data\\YiV3XSYoEtY\\Walrus Goalie 15 - GEICO Insurance.wav\n"
     ]
    },
    {
     "name": "stderr",
     "output_type": "stream",
     "text": [
      "\n",
      "  0%|                                                  | 0/333 [00:00<?, ?it/s]\n",
      "  9%|███▌                                    | 30/333 [00:00<00:01, 297.01it/s]\n",
      " 46%|█████████████████▊                     | 152/333 [00:00<00:00, 369.88it/s]\n",
      " 92%|███████████████████████████████████▋   | 305/333 [00:00<00:00, 477.01it/s]\n",
      "100%|███████████████████████████████████████| 333/333 [00:00<00:00, 917.30it/s]"
     ]
    },
    {
     "name": "stdout",
     "output_type": "stream",
     "text": [
      "[MoviePy] Done.\n",
      "yjzkYOEC8pE\n",
      "711\n",
      "[MoviePy] Writing audio in C:/Users/Ankit/Documents/wpi/cs525/video_data/videos/ad_data\\yjzkYOEC8pE\\IOTR0137000H (Roomba_i7_OnlyRoomba_TVSpot_15_Viewing)..wav\n"
     ]
    },
    {
     "name": "stderr",
     "output_type": "stream",
     "text": [
      "\n",
      "  0%|                                                  | 0/333 [00:00<?, ?it/s]\n",
      " 45%|█████████████████▏                    | 151/333 [00:00<00:00, 1509.92it/s]\n",
      " 94%|███████████████████████████████████▋  | 313/333 [00:00<00:00, 1541.31it/s]\n",
      "100%|██████████████████████████████████████| 333/333 [00:00<00:00, 1570.67it/s]"
     ]
    },
    {
     "name": "stdout",
     "output_type": "stream",
     "text": [
      "[MoviePy] Done.\n",
      "ylof6YYQoqs\n",
      "712\n",
      "[MoviePy] Writing audio in C:/Users/Ankit/Documents/wpi/cs525/video_data/videos/ad_data\\ylof6YYQoqs\\MLB The Show 19 - Accolades 15  PS4.wav\n"
     ]
    },
    {
     "name": "stderr",
     "output_type": "stream",
     "text": [
      "\n",
      "  0%|                                                  | 0/332 [00:00<?, ?it/s]\n",
      " 23%|█████████▍                              | 78/332 [00:00<00:00, 779.96it/s]\n",
      " 67%|██████████████████████████▎            | 224/332 [00:00<00:00, 906.64it/s]\n",
      "100%|██████████████████████████████████████| 332/332 [00:00<00:00, 1207.20it/s]"
     ]
    },
    {
     "name": "stdout",
     "output_type": "stream",
     "text": [
      "[MoviePy] Done.\n",
      "yNlE3p8ERaI\n",
      "713\n",
      "[MoviePy] Writing audio in C:/Users/Ankit/Documents/wpi/cs525/video_data/videos/ad_data\\yNlE3p8ERaI\\TameImpala_SpeakScreen_15_tmobile_bm.wav\n"
     ]
    },
    {
     "name": "stderr",
     "output_type": "stream",
     "text": [
      "\n",
      "  0%|                                                  | 0/332 [00:00<?, ?it/s]\n",
      "  8%|███▎                                    | 28/332 [00:00<00:01, 205.87it/s]\n",
      " 61%|███████████████████████▊               | 203/332 [00:00<00:00, 272.53it/s]\n",
      " 90%|███████████████████████████████████▏   | 300/332 [00:00<00:00, 347.48it/s]\n",
      "100%|███████████████████████████████████████| 332/332 [00:00<00:00, 799.95it/s]"
     ]
    },
    {
     "name": "stdout",
     "output_type": "stream",
     "text": [
      "[MoviePy] Done.\n",
      "yPxvI7aSnfM\n",
      "714\n",
      "[MoviePy] Writing audio in C:/Users/Ankit/Documents/wpi/cs525/video_data/videos/ad_data\\yPxvI7aSnfM\\Desert Ratte (Desert Order).wav\n"
     ]
    },
    {
     "name": "stderr",
     "output_type": "stream",
     "text": [
      "\n",
      "  0%|                                                 | 0/1159 [00:00<?, ?it/s]\n",
      "  9%|███▎                                  | 101/1159 [00:00<00:01, 814.47it/s]\n",
      " 19%|███████▎                              | 223/1159 [00:00<00:01, 904.67it/s]\n",
      " 24%|█████████▎                            | 283/1159 [00:00<00:01, 785.06it/s]\n",
      " 35%|█████████████▏                        | 403/1159 [00:00<00:00, 875.91it/s]\n",
      " 41%|███████████████▋                      | 478/1159 [00:00<00:00, 758.04it/s]\n",
      " 53%|████████████████████                  | 611/1159 [00:00<00:00, 860.18it/s]\n",
      " 66%|█████████████████████████             | 764/1159 [00:00<00:00, 879.25it/s]\n",
      " 75%|████████████████████████████▍         | 866/1159 [00:00<00:00, 859.25it/s]\n",
      " 82%|███████████████████████████████▏      | 953/1159 [00:01<00:00, 830.33it/s]\n",
      " 92%|██████████████████████████████████▏  | 1070/1159 [00:01<00:00, 892.88it/s]\n",
      "100%|█████████████████████████████████████| 1159/1159 [00:01<00:00, 953.07it/s]"
     ]
    },
    {
     "name": "stdout",
     "output_type": "stream",
     "text": [
      "[MoviePy] Done.\n",
      "YsIcyJJBdGA\n",
      "715\n",
      "[MoviePy] Writing audio in C:/Users/Ankit/Documents/wpi/cs525/video_data/videos/ad_data\\YsIcyJJBdGA\\Skechers Air-Cooled Memory Foam commercial.wav\n"
     ]
    },
    {
     "name": "stderr",
     "output_type": "stream",
     "text": [
      "\n",
      "  0%|                                                  | 0/332 [00:00<?, ?it/s]\n",
      "  8%|███▍                                     | 28/332 [00:00<00:04, 70.88it/s]\n",
      " 37%|██████████████▉                         | 124/332 [00:00<00:02, 98.15it/s]\n",
      " 53%|████████████████████▌                  | 175/332 [00:00<00:01, 129.53it/s]\n",
      " 92%|███████████████████████████████████▊   | 305/332 [00:00<00:00, 172.39it/s]\n",
      "100%|███████████████████████████████████████| 332/332 [00:00<00:00, 413.43it/s]"
     ]
    },
    {
     "name": "stdout",
     "output_type": "stream",
     "text": [
      "[MoviePy] Done.\n",
      "YsWZtSRWINU\n",
      "716\n",
      "[MoviePy] Writing audio in C:/Users/Ankit/Documents/wpi/cs525/video_data/videos/ad_data\\YsWZtSRWINU\\Sensodyne_2019_US_Dr Janice_15_Extra Whitening_FINAL..wav\n"
     ]
    },
    {
     "name": "stderr",
     "output_type": "stream",
     "text": [
      "\n",
      "  0%|                                                  | 0/334 [00:00<?, ?it/s]\n",
      "  8%|███▍                                     | 28/334 [00:00<00:04, 64.07it/s]\n",
      " 46%|██████████████████▏                     | 152/334 [00:00<00:02, 87.48it/s]\n",
      " 88%|██████████████████████████████████▍    | 295/334 [00:00<00:00, 121.78it/s]\n",
      "100%|███████████████████████████████████████| 334/334 [00:00<00:00, 432.62it/s]"
     ]
    },
    {
     "name": "stdout",
     "output_type": "stream",
     "text": [
      "[MoviePy] Done.\n",
      "YTGhyyPFytI\n",
      "717\n",
      "[MoviePy] Writing audio in C:/Users/Ankit/Documents/wpi/cs525/video_data/videos/ad_data\\YTGhyyPFytI\\TMG_Cross_Lazor Wulf_OLV.wav\n"
     ]
    },
    {
     "name": "stderr",
     "output_type": "stream",
     "text": [
      "\n",
      "  0%|                                                  | 0/333 [00:00<?, ?it/s]\n",
      "  8%|███▍                                     | 28/333 [00:00<00:06, 48.95it/s]\n",
      " 61%|████████████████████████▍               | 203/333 [00:00<00:01, 69.00it/s]\n",
      "100%|███████████████████████████████████████| 333/333 [00:00<00:00, 428.55it/s]"
     ]
    },
    {
     "name": "stdout",
     "output_type": "stream",
     "text": [
      "[MoviePy] Done.\n",
      "YvZi6XIDrq8\n",
      "718\n",
      "[MoviePy] Writing audio in C:/Users/Ankit/Documents/wpi/cs525/video_data/videos/ad_data\\YvZi6XIDrq8\\2019_Cabot Cliffs and Links_15s.wav\n"
     ]
    },
    {
     "name": "stderr",
     "output_type": "stream",
     "text": [
      "\n",
      "  0%|                                                  | 0/333 [00:00<?, ?it/s]\n",
      "  8%|███▍                                     | 28/333 [00:00<00:03, 76.71it/s]\n",
      " 56%|██████████████████████                 | 188/333 [00:00<00:01, 107.38it/s]\n",
      " 75%|█████████████████████████████▏         | 249/333 [00:00<00:00, 142.63it/s]\n",
      "100%|███████████████████████████████████████| 333/333 [00:00<00:00, 520.28it/s]"
     ]
    },
    {
     "name": "stdout",
     "output_type": "stream",
     "text": [
      "[MoviePy] Done.\n",
      "yxGdtn6PxZI\n",
      "719\n",
      "[MoviePy] Writing audio in C:/Users/Ankit/Documents/wpi/cs525/video_data/videos/ad_data\\yxGdtn6PxZI\\Carvana - Car Quality.wav\n"
     ]
    },
    {
     "name": "stderr",
     "output_type": "stream",
     "text": [
      "\n",
      "  0%|                                                  | 0/707 [00:00<?, ?it/s]\n",
      "  4%|█▌                                      | 28/707 [00:00<00:06, 110.67it/s]\n",
      " 22%|████████▊                              | 159/707 [00:00<00:03, 152.57it/s]\n",
      " 36%|██████████████                         | 254/707 [00:00<00:02, 200.94it/s]\n",
      " 50%|███████████████████▋                   | 356/707 [00:00<00:01, 264.30it/s]\n",
      " 77%|█████████████████████████████▉         | 543/707 [00:00<00:00, 356.01it/s]\n",
      "100%|███████████████████████████████████████| 707/707 [00:00<00:00, 909.86it/s]"
     ]
    },
    {
     "name": "stdout",
     "output_type": "stream",
     "text": [
      "[MoviePy] Done.\n",
      "Yx_Fd709lw0\n",
      "720\n",
      "[MoviePy] Writing audio in C:/Users/Ankit/Documents/wpi/cs525/video_data/videos/ad_data\\Yx_Fd709lw0\\J448545_HUGGIES_COMMUTER_BOXER_V4_02192019_Youtube_VAST.wav\n"
     ]
    },
    {
     "name": "stderr",
     "output_type": "stream",
     "text": [
      "\n",
      "  0%|                                                  | 0/331 [00:00<?, ?it/s]\n",
      "  8%|███▍                                    | 28/331 [00:00<00:01, 173.90it/s]\n",
      " 46%|█████████████████▉                     | 152/331 [00:00<00:00, 229.91it/s]\n",
      " 95%|█████████████████████████████████████▏ | 316/331 [00:00<00:00, 309.83it/s]\n",
      "100%|███████████████████████████████████████| 331/331 [00:00<00:00, 815.22it/s]"
     ]
    },
    {
     "name": "stdout",
     "output_type": "stream",
     "text": [
      "[MoviePy] Done.\n",
      "yycdbXoPD24\n",
      "721\n",
      "[MoviePy] Writing audio in C:/Users/Ankit/Documents/wpi/cs525/video_data/videos/ad_data\\yycdbXoPD24\\Get Lost (and Find Yourself) in Vancouver.wav\n"
     ]
    },
    {
     "name": "stderr",
     "output_type": "stream",
     "text": [
      "\n",
      "  0%|                                                 | 0/2594 [00:00<?, ?it/s]\n",
      "  1%|▌                                      | 37/2594 [00:00<00:06, 369.98it/s]\n",
      "  4%|█▍                                    | 101/2594 [00:00<00:05, 419.43it/s]\n",
      " 10%|███▋                                  | 249/2594 [00:00<00:04, 534.28it/s]\n",
      " 12%|████▌                                 | 312/2594 [00:00<00:04, 534.16it/s]\n",
      " 19%|███████▏                              | 494/2594 [00:00<00:03, 677.82it/s]\n",
      " 24%|████████▉                             | 612/2594 [00:00<00:02, 777.02it/s]\n",
      " 29%|███████████▏                          | 764/2594 [00:00<00:02, 882.00it/s]\n",
      " 36%|█████████████▍                       | 945/2594 [00:00<00:01, 1042.31it/s]\n",
      " 42%|███████████████▎                     | 1077/2594 [00:01<00:01, 923.38it/s]\n",
      " 47%|████████████████▉                   | 1223/2594 [00:01<00:01, 1026.86it/s]\n",
      " 54%|███████████████████▍                | 1404/2594 [00:01<00:01, 1180.01it/s]\n",
      " 60%|█████████████████████▌              | 1553/2594 [00:01<00:00, 1258.55it/s]\n",
      " 65%|███████████████████████▌            | 1696/2594 [00:01<00:00, 1100.52it/s]\n",
      " 71%|█████████████████████████▍          | 1835/2594 [00:01<00:00, 1156.26it/s]\n",
      " 77%|███████████████████████████▌        | 1988/2594 [00:01<00:00, 1085.65it/s]\n",
      " 81%|█████████████████████████████▏      | 2106/2594 [00:01<00:00, 1109.18it/s]\n",
      " 88%|███████████████████████████████▌    | 2272/2594 [00:01<00:00, 1231.79it/s]\n",
      " 93%|█████████████████████████████████▎  | 2404/2594 [00:02<00:00, 1253.39it/s]\n",
      "100%|████████████████████████████████████| 2594/2594 [00:02<00:00, 1200.86it/s]"
     ]
    },
    {
     "name": "stdout",
     "output_type": "stream",
     "text": [
      "[MoviePy] Done.\n",
      "YYerqJAudMw\n",
      "722\n",
      "[MoviePy] Writing audio in C:/Users/Ankit/Documents/wpi/cs525/video_data/videos/ad_data\\YYerqJAudMw\\7644671  YT Nonskip  15sec  v2 dresses.wav\n"
     ]
    },
    {
     "name": "stderr",
     "output_type": "stream",
     "text": [
      "\n",
      "  0%|                                                  | 0/332 [00:00<?, ?it/s]\n",
      "  8%|███▎                                    | 28/332 [00:00<00:02, 142.12it/s]\n",
      " 56%|█████████████████████▉                 | 187/332 [00:00<00:00, 195.54it/s]\n",
      " 96%|█████████████████████████████████████▍ | 319/332 [00:00<00:00, 262.67it/s]\n",
      "100%|███████████████████████████████████████| 332/332 [00:00<00:00, 817.69it/s]"
     ]
    },
    {
     "name": "stdout",
     "output_type": "stream",
     "text": [
      "[MoviePy] Done.\n",
      "z0aDa7pkgDo\n",
      "723\n",
      "[MoviePy] Writing audio in C:/Users/Ankit/Documents/wpi/cs525/video_data/videos/ad_data\\z0aDa7pkgDo\\Untitled Ad.wav\n"
     ]
    },
    {
     "name": "stderr",
     "output_type": "stream",
     "text": [
      "\n",
      "  0%|                                                  | 0/331 [00:00<?, ?it/s]\n",
      "  9%|███▋                                    | 30/331 [00:00<00:01, 299.98it/s]\n",
      " 49%|███████████████████                    | 162/331 [00:00<00:00, 390.51it/s]\n",
      "100%|██████████████████████████████████████| 331/331 [00:00<00:00, 1153.25it/s]"
     ]
    },
    {
     "name": "stdout",
     "output_type": "stream",
     "text": [
      "[MoviePy] Done.\n",
      "z39AT7oz0nA\n",
      "724\n",
      "[MoviePy] Writing audio in C:/Users/Ankit/Documents/wpi/cs525/video_data/videos/ad_data\\z39AT7oz0nA\\Untitled Ad.wav\n"
     ]
    },
    {
     "name": "stderr",
     "output_type": "stream",
     "text": [
      "\n",
      "  0%|                                                  | 0/331 [00:00<?, ?it/s]\n",
      "  8%|███▍                                    | 28/331 [00:00<00:02, 136.58it/s]\n",
      " 51%|████████████████████                   | 170/331 [00:00<00:00, 187.39it/s]\n",
      "100%|███████████████████████████████████████| 331/331 [00:00<00:00, 855.25it/s]"
     ]
    },
    {
     "name": "stdout",
     "output_type": "stream",
     "text": [
      "[MoviePy] Done.\n",
      "z4M2JDTpXVc\n",
      "725\n",
      "[MoviePy] Writing audio in C:/Users/Ankit/Documents/wpi/cs525/video_data/videos/ad_data\\z4M2JDTpXVc\\Mindvalley Mentoring Trailer.wav\n"
     ]
    },
    {
     "name": "stderr",
     "output_type": "stream",
     "text": [
      "\n",
      "  0%|                                                 | 0/1809 [00:00<?, ?it/s]\n",
      "  2%|▌                                      | 28/1809 [00:00<00:08, 212.11it/s]\n",
      " 10%|███▉                                  | 187/1809 [00:00<00:05, 286.62it/s]\n",
      " 20%|███████▊                              | 370/1809 [00:00<00:03, 383.71it/s]\n",
      " 28%|██████████▋                           | 510/1809 [00:00<00:02, 490.53it/s]\n",
      " 37%|██████████████                        | 668/1809 [00:00<00:01, 618.46it/s]\n",
      " 44%|████████████████▌                     | 790/1809 [00:00<00:01, 656.67it/s]\n",
      " 53%|████████████████████▏                 | 963/1809 [00:00<00:01, 806.83it/s]\n",
      " 62%|██████████████████████▉              | 1121/1809 [00:00<00:00, 932.26it/s]\n",
      " 73%|██████████████████████████▎         | 1325/1809 [00:01<00:00, 1106.42it/s]\n",
      " 82%|█████████████████████████████▍      | 1478/1809 [00:01<00:00, 1170.62it/s]\n",
      " 93%|█████████████████████████████████▍  | 1681/1809 [00:01<00:00, 1340.90it/s]\n",
      "100%|████████████████████████████████████| 1809/1809 [00:01<00:00, 1406.61it/s]"
     ]
    },
    {
     "name": "stdout",
     "output_type": "stream",
     "text": [
      "[MoviePy] Done.\n",
      "z6eVGdK2pDs\n",
      "726\n",
      "[MoviePy] Writing audio in C:/Users/Ankit/Documents/wpi/cs525/video_data/videos/ad_data\\z6eVGdK2pDs\\tameimpala_safarireader_15_tmobile_wm.wav\n"
     ]
    },
    {
     "name": "stderr",
     "output_type": "stream",
     "text": [
      "\n",
      "  0%|                                                  | 0/332 [00:00<?, ?it/s]\n",
      "  8%|███▎                                    | 28/332 [00:00<00:01, 274.49it/s]\n",
      " 30%|███████████▊                           | 101/332 [00:00<00:00, 314.16it/s]\n",
      " 69%|██████████████████████████▊            | 228/332 [00:00<00:00, 405.78it/s]\n",
      "100%|███████████████████████████████████████| 332/332 [00:00<00:00, 805.78it/s]"
     ]
    },
    {
     "name": "stdout",
     "output_type": "stream",
     "text": [
      "[MoviePy] Done.\n",
      "zADj0k0waFY\n",
      "727\n",
      "[MoviePy] Writing audio in C:/Users/Ankit/Documents/wpi/cs525/video_data/videos/ad_data\\zADj0k0waFY\\How Compelling Is Your Writing.wav\n"
     ]
    },
    {
     "name": "stderr",
     "output_type": "stream",
     "text": [
      "\n",
      "  0%|                                                 | 0/1276 [00:00<?, ?it/s]\n",
      "  2%|▊                                      | 28/1276 [00:00<00:05, 245.60it/s]\n",
      " 16%|█████▉                                | 201/1276 [00:00<00:03, 330.73it/s]\n",
      " 28%|██████████▌                           | 356/1276 [00:00<00:02, 431.80it/s]\n",
      " 43%|████████████████▍                     | 553/1276 [00:00<00:01, 563.89it/s]\n",
      " 57%|█████████████████████▊                | 732/1276 [00:00<00:00, 709.73it/s]\n",
      " 68%|█████████████████████████▉            | 869/1276 [00:00<00:00, 829.68it/s]\n",
      " 79%|█████████████████████████████▏       | 1006/1276 [00:00<00:00, 933.32it/s]\n",
      " 92%|█████████████████████████████████   | 1172/1276 [00:00<00:00, 1044.00it/s]\n",
      "100%|████████████████████████████████████| 1276/1276 [00:00<00:00, 1438.47it/s]"
     ]
    },
    {
     "name": "stdout",
     "output_type": "stream",
     "text": [
      "[MoviePy] Done.\n",
      "ZAwNB3qofrg\n",
      "728\n",
      "[MoviePy] Writing audio in C:/Users/Ankit/Documents/wpi/cs525/video_data/videos/ad_data\\ZAwNB3qofrg\\In-Stream Video.wav\n"
     ]
    },
    {
     "name": "stderr",
     "output_type": "stream",
     "text": [
      "\n",
      "  0%|                                                  | 0/332 [00:00<?, ?it/s]\n",
      "  8%|███▎                                    | 28/332 [00:00<00:02, 119.14it/s]\n",
      " 46%|█████████████████▊                     | 152/332 [00:00<00:01, 163.34it/s]\n",
      " 77%|█████████████████████████████▊         | 254/332 [00:00<00:00, 218.36it/s]\n",
      "100%|███████████████████████████████████████| 332/332 [00:00<00:00, 691.63it/s]"
     ]
    },
    {
     "name": "stdout",
     "output_type": "stream",
     "text": [
      "[MoviePy] Done.\n",
      "ZcivhFnIBo0\n",
      "729\n",
      "[MoviePy] Writing audio in C:/Users/Ankit/Documents/wpi/cs525/video_data/videos/ad_data\\ZcivhFnIBo0\\Risk of Rain 2 - Early Access Launch Trailer.wav\n"
     ]
    },
    {
     "name": "stderr",
     "output_type": "stream",
     "text": [
      "\n",
      "  0%|                                                 | 0/3220 [00:00<?, ?it/s]\n",
      "  1%|▎                                      | 28/3220 [00:00<00:16, 198.57it/s]\n",
      "  6%|██▍                                   | 203/3220 [00:00<00:11, 268.15it/s]\n",
      " 12%|████▌                                 | 386/3220 [00:00<00:07, 360.44it/s]\n",
      " 17%|██████▎                               | 533/3220 [00:00<00:05, 465.95it/s]\n",
      " 22%|████████▍                             | 712/3220 [00:00<00:04, 598.83it/s]\n",
      " 27%|██████████▏                           | 866/3220 [00:00<00:03, 724.98it/s]\n",
      " 32%|███████████▋                         | 1019/3220 [00:00<00:02, 853.65it/s]\n",
      " 36%|█████████████▎                       | 1156/3220 [00:01<00:03, 585.85it/s]\n",
      " 39%|██████████████▌                      | 1262/3220 [00:01<00:02, 676.65it/s]\n",
      " 42%|███████████████▋                     | 1368/3220 [00:01<00:02, 736.82it/s]\n",
      " 46%|████████████████▉                    | 1478/3220 [00:01<00:02, 614.85it/s]\n",
      " 49%|██████████████████▏                  | 1580/3220 [00:01<00:02, 647.50it/s]\n",
      " 52%|███████████████████                  | 1662/3220 [00:01<00:02, 605.38it/s]\n",
      " 54%|███████████████████▉                 | 1735/3220 [00:02<00:02, 556.35it/s]\n",
      " 57%|█████████████████████                | 1835/3220 [00:02<00:02, 638.07it/s]\n",
      " 62%|██████████████████████▊              | 1988/3220 [00:02<00:01, 752.76it/s]\n",
      " 65%|███████████████████████▉             | 2080/3220 [00:02<00:01, 792.06it/s]\n",
      " 68%|█████████████████████████▏           | 2193/3220 [00:02<00:01, 870.11it/s]\n",
      " 73%|██████████████████████████▎         | 2354/3220 [00:02<00:00, 1009.25it/s]\n",
      " 78%|███████████████████████████▉        | 2498/3220 [00:02<00:00, 1106.18it/s]\n",
      " 82%|██████████████████████████████▍      | 2651/3220 [00:03<00:00, 840.54it/s]\n",
      " 86%|███████████████████████████████▋     | 2755/3220 [00:03<00:00, 549.64it/s]\n",
      " 88%|████████████████████████████████▌    | 2837/3220 [00:03<00:00, 570.49it/s]\n",
      " 90%|█████████████████████████████████▍   | 2913/3220 [00:03<00:00, 382.18it/s]\n",
      " 93%|██████████████████████████████████▌  | 3008/3220 [00:03<00:00, 433.19it/s]\n",
      " 98%|████████████████████████████████████ | 3141/3220 [00:04<00:00, 543.04it/s]\n",
      "100%|█████████████████████████████████████| 3220/3220 [00:04<00:00, 781.32it/s]"
     ]
    },
    {
     "name": "stdout",
     "output_type": "stream",
     "text": [
      "[MoviePy] Done.\n",
      "Zhcm-vjmJUs\n",
      "730\n",
      "[MoviePy] Writing audio in C:/Users/Ankit/Documents/wpi/cs525/video_data/videos/ad_data\\Zhcm-vjmJUs\\tameimpala_applesupport_15_att_wm.wav\n"
     ]
    },
    {
     "name": "stderr",
     "output_type": "stream",
     "text": [
      "\n",
      "  0%|                                                  | 0/332 [00:00<?, ?it/s]\n",
      "  8%|███▎                                    | 28/332 [00:00<00:01, 266.65it/s]\n",
      " 57%|██████████████████████                 | 188/332 [00:00<00:00, 355.54it/s]\n",
      "100%|██████████████████████████████████████| 332/332 [00:00<00:00, 1177.24it/s]"
     ]
    },
    {
     "name": "stdout",
     "output_type": "stream",
     "text": [
      "[MoviePy] Done.\n",
      "zhTIuCtTWP0\n",
      "731\n",
      "[MoviePy] Writing audio in C:/Users/Ankit/Documents/wpi/cs525/video_data/videos/ad_data\\zhTIuCtTWP0\\How Compelling Is Your Writing.wav\n"
     ]
    },
    {
     "name": "stderr",
     "output_type": "stream",
     "text": [
      "\n",
      "  0%|                                                  | 0/332 [00:00<?, ?it/s]\n",
      "  8%|███▎                                    | 28/332 [00:00<00:02, 111.10it/s]\n",
      " 64%|████████████████████████▉              | 212/332 [00:00<00:00, 154.72it/s]\n",
      "100%|███████████████████████████████████████| 332/332 [00:00<00:00, 799.95it/s]"
     ]
    },
    {
     "name": "stdout",
     "output_type": "stream",
     "text": [
      "[MoviePy] Done.\n",
      "ZIh78E_EuEc\n",
      "732\n",
      "[MoviePy] Writing audio in C:/Users/Ankit/Documents/wpi/cs525/video_data/videos/ad_data\\ZIh78E_EuEc\\Spring 2019  White House Black Market.wav\n"
     ]
    },
    {
     "name": "stderr",
     "output_type": "stream",
     "text": [
      "\n",
      "  0%|                                                 | 0/1810 [00:00<?, ?it/s]\n",
      "  2%|▌                                      | 28/1810 [00:00<00:16, 111.10it/s]\n",
      "  6%|██                                    | 101/1810 [00:00<00:11, 148.82it/s]\n",
      " 11%|████▎                                 | 203/1810 [00:00<00:08, 195.49it/s]\n",
      " 17%|██████▍                               | 305/1810 [00:00<00:05, 257.68it/s]\n",
      " 22%|████████▌                             | 407/1810 [00:00<00:04, 318.75it/s]\n",
      " 26%|█████████▉                            | 471/1810 [00:00<00:03, 375.26it/s]\n",
      " 31%|███████████▊                          | 560/1810 [00:00<00:02, 450.59it/s]\n",
      " 35%|█████████████▏                        | 629/1810 [00:01<00:03, 359.75it/s]\n",
      " 38%|██████████████▍                       | 685/1810 [00:01<00:02, 389.52it/s]\n",
      " 41%|███████████████▋                      | 746/1810 [00:01<00:02, 436.89it/s]\n",
      " 45%|█████████████████                     | 815/1810 [00:01<00:02, 479.65it/s]\n",
      " 48%|██████████████████▎                   | 873/1810 [00:01<00:02, 432.36it/s]\n",
      " 51%|███████████████████▍                  | 924/1810 [00:01<00:02, 411.38it/s]\n",
      " 54%|████████████████████▍                 | 971/1810 [00:02<00:02, 311.71it/s]\n",
      " 59%|█████████████████████▊               | 1070/1810 [00:02<00:01, 377.98it/s]\n",
      " 67%|████████████████████████▊            | 1212/1810 [00:02<00:01, 484.67it/s]\n",
      " 71%|██████████████████████████▎          | 1290/1810 [00:02<00:01, 506.31it/s]\n",
      " 79%|█████████████████████████████▏       | 1427/1810 [00:02<00:00, 613.49it/s]\n",
      " 88%|████████████████████████████████▍    | 1585/1810 [00:02<00:00, 751.38it/s]\n",
      " 98%|████████████████████████████████████▏| 1772/1810 [00:02<00:00, 915.70it/s]\n",
      "100%|█████████████████████████████████████| 1810/1810 [00:02<00:00, 646.62it/s]"
     ]
    },
    {
     "name": "stdout",
     "output_type": "stream",
     "text": [
      "[MoviePy] Done.\n",
      "zJqeFGy7-SU\n",
      "733\n",
      "[MoviePy] Writing audio in C:/Users/Ankit/Documents/wpi/cs525/video_data/videos/ad_data\\zJqeFGy7-SU\\Untitled Ad.wav\n"
     ]
    },
    {
     "name": "stderr",
     "output_type": "stream",
     "text": [
      "\n",
      "  0%|                                                  | 0/332 [00:00<?, ?it/s]\n",
      " 12%|████▉                                   | 41/332 [00:00<00:00, 409.98it/s]\n",
      " 36%|██████████████▏                        | 121/332 [00:00<00:00, 480.21it/s]\n",
      " 92%|███████████████████████████████████▊   | 305/332 [00:00<00:00, 614.52it/s]\n",
      "100%|██████████████████████████████████████| 332/332 [00:00<00:00, 1047.26it/s]"
     ]
    },
    {
     "name": "stdout",
     "output_type": "stream",
     "text": [
      "[MoviePy] Done.\n",
      "Zk4OFOA-wfI\n",
      "734\n",
      "[MoviePy] Writing audio in C:/Users/Ankit/Documents/wpi/cs525/video_data/videos/ad_data\\Zk4OFOA-wfI\\Ric Flair - Cumberland Farms Coffee Deal.wav\n"
     ]
    },
    {
     "name": "stderr",
     "output_type": "stream",
     "text": [
      "\n",
      "  0%|                                                  | 0/111 [00:00<?, ?it/s]\n",
      " 25%|██████████                              | 28/111 [00:00<00:00, 277.21it/s]\n",
      "100%|███████████████████████████████████████| 111/111 [00:00<00:00, 693.71it/s]"
     ]
    },
    {
     "name": "stdout",
     "output_type": "stream",
     "text": [
      "[MoviePy] Done.\n",
      "zkP_VJYvD5A\n",
      "735\n",
      "[MoviePy] Writing audio in C:/Users/Ankit/Documents/wpi/cs525/video_data/videos/ad_data\\zkP_VJYvD5A\\Travel Like A Champion  15  Expedia.wav\n"
     ]
    },
    {
     "name": "stderr",
     "output_type": "stream",
     "text": [
      "\n",
      "  0%|                                                  | 0/332 [00:00<?, ?it/s]\n",
      " 15%|█████▉                                  | 49/332 [00:00<00:00, 489.97it/s]\n",
      " 46%|█████████████████▊                     | 152/332 [00:00<00:00, 534.36it/s]\n",
      " 92%|███████████████████████████████████▊   | 305/332 [00:00<00:00, 656.29it/s]\n",
      "100%|███████████████████████████████████████| 332/332 [00:00<00:00, 887.65it/s]"
     ]
    },
    {
     "name": "stdout",
     "output_type": "stream",
     "text": [
      "[MoviePy] Done.\n",
      "zNaZaM6VxNc\n",
      "736\n",
      "[MoviePy] Writing audio in C:/Users/Ankit/Documents/wpi/cs525/video_data/videos/ad_data\\zNaZaM6VxNc\\100815098-1_NBCEG NBC UF Partner Show Mix P2+ Non-Skippable Shortform Video..wav\n"
     ]
    },
    {
     "name": "stderr",
     "output_type": "stream",
     "text": [
      "\n",
      "  0%|                                                  | 0/332 [00:00<?, ?it/s]\n",
      " 47%|█████████████████▉                    | 157/332 [00:00<00:00, 1569.91it/s]\n",
      " 77%|█████████████████████████████         | 254/332 [00:00<00:00, 1095.38it/s]\n",
      "100%|██████████████████████████████████████| 332/332 [00:00<00:00, 1144.76it/s]"
     ]
    },
    {
     "name": "stdout",
     "output_type": "stream",
     "text": [
      "[MoviePy] Done.\n",
      "ZPMORX02czc\n",
      "737\n",
      "[MoviePy] Writing audio in C:/Users/Ankit/Documents/wpi/cs525/video_data/videos/ad_data\\ZPMORX02czc\\Hersheys  Heartwarming the World  Details.wav\n"
     ]
    },
    {
     "name": "stderr",
     "output_type": "stream",
     "text": [
      "\n",
      "  0%|                                                  | 0/332 [00:00<?, ?it/s]\n",
      "  8%|███▍                                     | 28/332 [00:00<00:04, 72.53it/s]\n",
      " 46%|██████████████████▎                     | 152/332 [00:00<00:01, 99.58it/s]\n",
      " 61%|███████████████████████▊               | 203/332 [00:00<00:01, 122.30it/s]\n",
      "100%|███████████████████████████████████████| 332/332 [00:00<00:00, 409.85it/s]"
     ]
    },
    {
     "name": "stdout",
     "output_type": "stream",
     "text": [
      "[MoviePy] Done.\n",
      "zSIgeW-Q_8Y\n",
      "738\n",
      "[MoviePy] Writing audio in C:/Users/Ankit/Documents/wpi/cs525/video_data/videos/ad_data\\zSIgeW-Q_8Y\\RAV_MY19_Creatures_Family_Roadtrip_REV1_16x9_15_WebInd_TYZJ6159000H_INNOVID.wav\n"
     ]
    },
    {
     "name": "stderr",
     "output_type": "stream",
     "text": [
      "\n",
      "  0%|                                                  | 0/332 [00:00<?, ?it/s]\n",
      " 38%|██████████████▍                       | 126/332 [00:00<00:00, 1259.93it/s]\n",
      " 61%|███████████████████████▊               | 203/332 [00:00<00:00, 966.34it/s]\n",
      "100%|██████████████████████████████████████| 332/332 [00:00<00:00, 1034.21it/s]"
     ]
    },
    {
     "name": "stdout",
     "output_type": "stream",
     "text": [
      "[MoviePy] Done.\n",
      "ZSkr10C0zws\n",
      "739\n",
      "[MoviePy] Writing audio in C:/Users/Ankit/Documents/wpi/cs525/video_data/videos/ad_data\\ZSkr10C0zws\\Tiger Costume  15  Expedia.wav\n"
     ]
    },
    {
     "name": "stderr",
     "output_type": "stream",
     "text": [
      "\n",
      "  0%|                                                  | 0/331 [00:00<?, ?it/s]\n",
      "  8%|███▍                                    | 28/331 [00:00<00:02, 124.44it/s]\n",
      " 31%|███████████▉                           | 101/331 [00:00<00:01, 160.21it/s]\n",
      " 54%|█████████████████████▏                 | 180/331 [00:00<00:00, 210.57it/s]\n",
      " 65%|█████████████████████████▍             | 216/331 [00:00<00:00, 198.70it/s]\n",
      "100%|███████████████████████████████████████| 331/331 [00:00<00:00, 438.39it/s]"
     ]
    },
    {
     "name": "stdout",
     "output_type": "stream",
     "text": [
      "[MoviePy] Done.\n",
      "ZV9T-_NQvh0\n",
      "740\n",
      "[MoviePy] Writing audio in C:/Users/Ankit/Documents/wpi/cs525/video_data/videos/ad_data\\ZV9T-_NQvh0\\Tamp Intro - 15 Sec.wav\n"
     ]
    },
    {
     "name": "stderr",
     "output_type": "stream",
     "text": [
      "\n",
      "  0%|                                                 | 0/2155 [00:00<?, ?it/s]\n",
      "  1%|▌                                      | 32/2155 [00:00<00:06, 319.98it/s]\n",
      "  8%|██▉                                   | 168/2155 [00:00<00:04, 415.24it/s]\n",
      " 17%|██████▎                               | 356/2155 [00:00<00:03, 534.96it/s]\n",
      " 24%|████████▉                             | 509/2155 [00:00<00:02, 659.48it/s]\n",
      " 30%|███████████▌                          | 655/2155 [00:00<00:01, 789.30it/s]\n",
      " 36%|█████████████▌                        | 770/2155 [00:00<00:01, 848.14it/s]\n",
      " 44%|████████████████▎                    | 950/2155 [00:00<00:01, 1008.06it/s]\n",
      " 50%|██████████████████                  | 1082/2155 [00:00<00:00, 1082.29it/s]\n",
      " 57%|████████████████████▍               | 1223/2155 [00:00<00:00, 1163.39it/s]\n",
      " 66%|███████████████████████▊            | 1422/2155 [00:01<00:00, 1328.99it/s]\n",
      " 73%|██████████████████████████▎         | 1576/2155 [00:01<00:00, 1371.13it/s]\n",
      " 80%|████████████████████████████▊       | 1728/2155 [00:01<00:00, 1352.29it/s]\n",
      " 87%|███████████████████████████████▍    | 1885/2155 [00:01<00:00, 1410.96it/s]\n",
      " 95%|██████████████████████████████████▎ | 2055/2155 [00:01<00:00, 1486.78it/s]\n",
      "100%|████████████████████████████████████| 2155/2155 [00:01<00:00, 1428.02it/s]"
     ]
    },
    {
     "name": "stdout",
     "output_type": "stream",
     "text": [
      "[MoviePy] Done.\n",
      "zV_U2Q1_RbU\n",
      "741\n",
      "[MoviePy] Writing audio in C:/Users/Ankit/Documents/wpi/cs525/video_data/videos/ad_data\\zV_U2Q1_RbU\\What Are You Writing Today.wav\n"
     ]
    },
    {
     "name": "stderr",
     "output_type": "stream",
     "text": [
      "\n",
      "  0%|                                                  | 0/663 [00:00<?, ?it/s]\n",
      "  4%|█▋                                      | 28/663 [00:00<00:03, 205.87it/s]\n",
      " 24%|█████████▏                             | 157/663 [00:00<00:01, 275.27it/s]\n",
      " 53%|████████████████████▌                  | 350/663 [00:00<00:00, 370.59it/s]\n",
      " 69%|██████████████████████████▉            | 458/663 [00:00<00:00, 437.95it/s]\n",
      " 89%|██████████████████████████████████▌    | 587/663 [00:00<00:00, 546.18it/s]\n",
      "100%|██████████████████████████████████████| 663/663 [00:00<00:00, 1065.86it/s]"
     ]
    },
    {
     "name": "stdout",
     "output_type": "stream",
     "text": [
      "[MoviePy] Done.\n",
      "zwk1R-tmQxg\n",
      "742\n",
      "[MoviePy] Writing audio in C:/Users/Ankit/Documents/wpi/cs525/video_data/videos/ad_data\\zwk1R-tmQxg\\Untitled Ad.wav\n"
     ]
    },
    {
     "name": "stderr",
     "output_type": "stream",
     "text": [
      "\n",
      "  0%|                                                  | 0/333 [00:00<?, ?it/s]\n",
      "  8%|███▍                                     | 28/333 [00:00<00:05, 59.07it/s]\n",
      " 38%|███████████████▎                        | 127/333 [00:00<00:02, 82.28it/s]\n",
      " 61%|███████████████████████▊               | 203/333 [00:00<00:01, 111.05it/s]\n",
      "100%|███████████████████████████████████████| 333/333 [00:00<00:00, 423.64it/s]"
     ]
    },
    {
     "name": "stdout",
     "output_type": "stream",
     "text": [
      "[MoviePy] Done.\n",
      "zwPl4IMMDNo\n",
      "743\n",
      "[MoviePy] Writing audio in C:/Users/Ankit/Documents/wpi/cs525/video_data/videos/ad_data\\zwPl4IMMDNo\\Watch FREE movies & TV on Vudu.wav\n"
     ]
    },
    {
     "name": "stderr",
     "output_type": "stream",
     "text": [
      "\n",
      "  0%|                                                  | 0/333 [00:00<?, ?it/s]\n",
      "  8%|███▎                                    | 28/333 [00:00<00:01, 187.91it/s]\n",
      " 30%|███████████▊                           | 101/333 [00:00<00:00, 241.53it/s]\n",
      " 76%|█████████████████████████████▋         | 254/333 [00:00<00:00, 322.77it/s]\n",
      "100%|███████████████████████████████████████| 333/333 [00:00<00:00, 849.44it/s]"
     ]
    },
    {
     "name": "stdout",
     "output_type": "stream",
     "text": [
      "[MoviePy] Done.\n",
      "ZYo7avOYQsM\n",
      "744\n",
      "[MoviePy] Writing audio in C:/Users/Ankit/Documents/wpi/cs525/video_data/videos/ad_data\\ZYo7avOYQsM\\Alienware Area-51m High-performance laptop with user-upgradeable components.wav\n"
     ]
    },
    {
     "name": "stderr",
     "output_type": "stream",
     "text": [
      "\n",
      "  0%|                                                  | 0/332 [00:00<?, ?it/s]\n",
      " 30%|███████████▊                           | 101/332 [00:00<00:00, 893.76it/s]\n",
      " 77%|█████████████████████████████         | 254/332 [00:00<00:00, 1019.09it/s]\n",
      "100%|██████████████████████████████████████| 332/332 [00:00<00:00, 1322.64it/s]"
     ]
    },
    {
     "name": "stdout",
     "output_type": "stream",
     "text": [
      "[MoviePy] Done.\n",
      "_2E_GuhxYJQ\n",
      "745\n",
      "[MoviePy] Writing audio in C:/Users/Ankit/Documents/wpi/cs525/video_data/videos/ad_data\\_2E_GuhxYJQ\\Untitled Ad.wav\n"
     ]
    },
    {
     "name": "stderr",
     "output_type": "stream",
     "text": [
      "\n",
      "  0%|                                                  | 0/332 [00:00<?, ?it/s]\n",
      "  8%|███▎                                    | 28/332 [00:00<00:01, 205.87it/s]\n",
      " 66%|█████████████████████████▌             | 218/332 [00:00<00:00, 281.05it/s]\n",
      "100%|██████████████████████████████████████| 332/332 [00:00<00:00, 1057.26it/s]"
     ]
    },
    {
     "name": "stdout",
     "output_type": "stream",
     "text": [
      "[MoviePy] Done.\n",
      "_3EDrTT0vb8\n",
      "746\n",
      "[MoviePy] Writing audio in C:/Users/Ankit/Documents/wpi/cs525/video_data/videos/ad_data\\_3EDrTT0vb8\\B2B Lifestyle 30 2.wav\n"
     ]
    },
    {
     "name": "stderr",
     "output_type": "stream",
     "text": [
      "\n",
      "  0%|                                                  | 0/664 [00:00<?, ?it/s]\n",
      "  4%|█▋                                      | 28/664 [00:00<00:05, 116.18it/s]\n",
      " 27%|██████████▋                            | 182/664 [00:00<00:02, 160.77it/s]\n",
      " 51%|███████████████████▉                   | 340/664 [00:00<00:01, 220.07it/s]\n",
      " 77%|█████████████████████████████▉         | 509/664 [00:00<00:00, 296.67it/s]\n",
      " 92%|████████████████████████████████████   | 614/664 [00:00<00:00, 351.81it/s]\n",
      "100%|███████████████████████████████████████| 664/664 [00:00<00:00, 892.42it/s]"
     ]
    },
    {
     "name": "stdout",
     "output_type": "stream",
     "text": [
      "[MoviePy] Done.\n",
      "_5ZI4trjpQY\n",
      "747\n",
      "[MoviePy] Writing audio in C:/Users/Ankit/Documents/wpi/cs525/video_data/videos/ad_data\\_5ZI4trjpQY\\FRM_FY18_TV_MOTION_FLY-BY_BALLOONING_HALB_15S_BROADCAST_OG_INNOVID.wav\n"
     ]
    },
    {
     "name": "stderr",
     "output_type": "stream",
     "text": [
      "\n",
      "  0%|                                                  | 0/332 [00:00<?, ?it/s]\n",
      "  8%|███▎                                    | 28/332 [00:00<00:01, 180.63it/s]\n",
      " 46%|█████████████████▊                     | 152/332 [00:00<00:00, 242.03it/s]\n",
      "100%|███████████████████████████████████████| 332/332 [00:00<00:00, 929.92it/s]"
     ]
    },
    {
     "name": "stdout",
     "output_type": "stream",
     "text": [
      "[MoviePy] Done.\n",
      "_axnJ24JgrM\n",
      "748\n",
      "[MoviePy] Writing audio in C:/Users/Ankit/Documents/wpi/cs525/video_data/videos/ad_data\\_axnJ24JgrM\\Mortal Kombat 11 - Official TV Spot.wav\n"
     ]
    },
    {
     "name": "stderr",
     "output_type": "stream",
     "text": [
      "\n",
      "  0%|                                                 | 0/1369 [00:00<?, ?it/s]\n",
      "  2%|▊                                      | 28/1369 [00:00<00:05, 225.79it/s]\n",
      " 15%|█████▋                                | 203/1369 [00:00<00:03, 304.54it/s]\n",
      " 24%|█████████▎                            | 334/1369 [00:00<00:02, 395.64it/s]\n",
      " 37%|██████████████▏                       | 509/1369 [00:00<00:01, 513.46it/s]\n",
      " 45%|█████████████████                     | 614/1369 [00:00<00:01, 600.18it/s]\n",
      " 60%|██████████████████████▌               | 815/1369 [00:00<00:00, 754.13it/s]\n",
      " 69%|██████████████████████████▏           | 944/1369 [00:00<00:00, 834.72it/s]\n",
      " 80%|█████████████████████████████▌       | 1093/1369 [00:00<00:00, 961.58it/s]\n",
      " 90%|████████████████████████████████▍   | 1232/1369 [00:00<00:00, 1059.53it/s]\n",
      "100%|████████████████████████████████████| 1369/1369 [00:01<00:00, 1291.44it/s]"
     ]
    },
    {
     "name": "stdout",
     "output_type": "stream",
     "text": [
      "[MoviePy] Done.\n",
      "_FfGc6yJBNA\n",
      "749\n",
      "[MoviePy] Writing audio in C:/Users/Ankit/Documents/wpi/cs525/video_data/videos/ad_data\\_FfGc6yJBNA\\7645295  YT Nonskip  v3 dresses.wav\n"
     ]
    },
    {
     "name": "stderr",
     "output_type": "stream",
     "text": [
      "\n",
      "  0%|                                                  | 0/334 [00:00<?, ?it/s]\n",
      "  8%|███▍                                     | 28/334 [00:00<00:05, 53.23it/s]\n",
      " 30%|████████████                            | 101/334 [00:00<00:03, 73.58it/s]\n",
      " 61%|███████████████████████▋               | 203/334 [00:00<00:01, 101.26it/s]\n",
      "100%|███████████████████████████████████████| 334/334 [00:00<00:00, 395.24it/s]"
     ]
    },
    {
     "name": "stdout",
     "output_type": "stream",
     "text": [
      "[MoviePy] Done.\n",
      "_HZcF1KAdBk\n",
      "750\n",
      "[MoviePy] Writing audio in C:/Users/Ankit/Documents/wpi/cs525/video_data/videos/ad_data\\_HZcF1KAdBk\\Revolutionary Clinique iD™.wav\n"
     ]
    },
    {
     "name": "stderr",
     "output_type": "stream",
     "text": [
      "\n",
      "  0%|                                                  | 0/332 [00:00<?, ?it/s]\n",
      " 15%|██████▏                                 | 51/332 [00:00<00:00, 509.97it/s]\n",
      " 46%|█████████████████▊                     | 152/332 [00:00<00:00, 533.44it/s]\n",
      " 69%|██████████████████████████▊            | 228/332 [00:00<00:00, 585.82it/s]\n",
      "100%|███████████████████████████████████████| 332/332 [00:00<00:00, 763.17it/s]"
     ]
    },
    {
     "name": "stdout",
     "output_type": "stream",
     "text": [
      "[MoviePy] Done.\n",
      "_jf0b6iizeE\n",
      "751\n",
      "[MoviePy] Writing audio in C:/Users/Ankit/Documents/wpi/cs525/video_data/videos/ad_data\\_jf0b6iizeE\\Finders Keepers Peppa Pig Commercial.wav\n"
     ]
    },
    {
     "name": "stderr",
     "output_type": "stream",
     "text": [
      "\n",
      "  0%|                                                  | 0/332 [00:00<?, ?it/s]\n",
      "  8%|███▎                                    | 28/332 [00:00<00:01, 249.99it/s]\n",
      " 30%|███████████▊                           | 101/332 [00:00<00:00, 307.09it/s]\n",
      " 52%|████████████████████▏                  | 172/332 [00:00<00:00, 370.10it/s]\n",
      " 93%|████████████████████████████████████▎  | 309/332 [00:00<00:00, 473.85it/s]\n",
      "100%|███████████████████████████████████████| 332/332 [00:00<00:00, 764.93it/s]"
     ]
    },
    {
     "name": "stdout",
     "output_type": "stream",
     "text": [
      "[MoviePy] Done.\n",
      "_Lu7FeOkHtw\n",
      "752\n",
      "[MoviePy] Writing audio in C:/Users/Ankit/Documents/wpi/cs525/video_data/videos/ad_data\\_Lu7FeOkHtw\\Frostpunk Console Edition  Official Announcement Trailer.wav\n"
     ]
    },
    {
     "name": "stderr",
     "output_type": "stream",
     "text": [
      "\n",
      "  0%|                                                 | 0/2065 [00:00<?, ?it/s]\n",
      "  1%|▌                                      | 28/2065 [00:00<00:15, 128.43it/s]\n",
      "  5%|█▊                                    | 101/2065 [00:00<00:11, 169.07it/s]\n",
      " 10%|███▉                                  | 214/2065 [00:00<00:08, 226.97it/s]\n",
      " 15%|█████▌                                | 305/2065 [00:00<00:06, 290.97it/s]\n",
      " 24%|█████████                             | 495/2065 [00:00<00:04, 390.06it/s]\n",
      " 32%|████████████▏                         | 662/2065 [00:00<00:02, 502.87it/s]\n",
      " 41%|███████████████▍                      | 837/2065 [00:00<00:01, 639.61it/s]\n",
      " 49%|██████████████████▎                  | 1019/2065 [00:00<00:01, 779.82it/s]\n",
      " 57%|████████████████████▉                | 1172/2065 [00:01<00:01, 786.06it/s]\n",
      " 63%|███████████████████████▏             | 1295/2065 [00:01<00:00, 797.48it/s]\n",
      " 68%|█████████████████████████▏           | 1406/2065 [00:01<00:00, 755.43it/s]\n",
      " 75%|███████████████████████████▊         | 1553/2065 [00:01<00:00, 884.40it/s]\n",
      " 81%|█████████████████████████████▊       | 1666/2065 [00:01<00:00, 859.70it/s]\n",
      " 86%|███████████████████████████████▋     | 1769/2065 [00:01<00:00, 844.48it/s]\n",
      " 92%|██████████████████████████████████▏  | 1908/2065 [00:01<00:00, 957.16it/s]\n",
      "100%|████████████████████████████████████| 2065/2065 [00:02<00:00, 1025.77it/s]"
     ]
    },
    {
     "name": "stdout",
     "output_type": "stream",
     "text": [
      "[MoviePy] Done.\n",
      "_pQLZh1KEWU\n",
      "753\n",
      "[MoviePy] Writing audio in C:/Users/Ankit/Documents/wpi/cs525/video_data/videos/ad_data\\_pQLZh1KEWU\\Ortho® GroundClear® - Sally 10s Spot.wav\n"
     ]
    },
    {
     "name": "stderr",
     "output_type": "stream",
     "text": [
      "\n",
      "  0%|                                                  | 0/258 [00:00<?, ?it/s]\n",
      " 43%|████████████████▏                     | 110/258 [00:00<00:00, 1099.94it/s]\n",
      "100%|██████████████████████████████████████| 258/258 [00:00<00:00, 1387.02it/s]"
     ]
    },
    {
     "name": "stdout",
     "output_type": "stream",
     "text": [
      "[MoviePy] Done.\n",
      "_R4bfZC-DDA\n",
      "754\n",
      "[MoviePy] Writing audio in C:/Users/Ankit/Documents/wpi/cs525/video_data/videos/ad_data\\_R4bfZC-DDA\\CarbConscious YKOH 16x9 nopromo.wav\n"
     ]
    },
    {
     "name": "stderr",
     "output_type": "stream",
     "text": [
      "\n",
      "  0%|                                                  | 0/289 [00:00<?, ?it/s]\n",
      " 10%|███▉                                    | 28/289 [00:00<00:00, 266.65it/s]\n",
      " 66%|█████████████████████████▋             | 190/289 [00:00<00:00, 355.83it/s]\n",
      " 88%|██████████████████████████████████▎    | 254/289 [00:00<00:00, 341.50it/s]\n",
      "100%|███████████████████████████████████████| 289/289 [00:00<00:00, 678.37it/s]"
     ]
    },
    {
     "name": "stdout",
     "output_type": "stream",
     "text": [
      "[MoviePy] Done.\n",
      "_tS8ZE7WSF0\n",
      "755\n",
      "[MoviePy] Writing audio in C:/Users/Ankit/Documents/wpi/cs525/video_data/videos/ad_data\\_tS8ZE7WSF0\\MB_NB_CV_Montage - Horizontal_CT_VAST_LG_EN_CY_USD_CS_15SECONDS.wav\n"
     ]
    },
    {
     "name": "stderr",
     "output_type": "stream",
     "text": [
      "\n",
      "  0%|                                                  | 0/332 [00:00<?, ?it/s]\n",
      "  8%|███▍                                     | 28/332 [00:00<00:05, 57.85it/s]\n",
      " 66%|██████████████████████████▎             | 218/332 [00:00<00:01, 81.58it/s]\n",
      "100%|███████████████████████████████████████| 332/332 [00:00<00:00, 517.10it/s]"
     ]
    },
    {
     "name": "stdout",
     "output_type": "stream",
     "text": [
      "[MoviePy] Done.\n",
      "_Xbw0ctSOXs\n",
      "756\n",
      "[MoviePy] Writing audio in C:/Users/Ankit/Documents/wpi/cs525/video_data/videos/ad_data\\_Xbw0ctSOXs\\Flonase_Base_2019_US_3 4 Dog_15s_V1.wav\n"
     ]
    },
    {
     "name": "stderr",
     "output_type": "stream",
     "text": [
      "\n",
      "  0%|                                                  | 0/332 [00:00<?, ?it/s]\n",
      "  8%|███▎                                    | 28/332 [00:00<00:01, 161.84it/s]\n",
      " 66%|█████████████████████████▋             | 219/332 [00:00<00:00, 223.10it/s]\n",
      "100%|███████████████████████████████████████| 332/332 [00:00<00:00, 993.95it/s]"
     ]
    },
    {
     "name": "stdout",
     "output_type": "stream",
     "text": [
      "[MoviePy] Done.\n",
      "_yj-hjzql3I\n",
      "757\n",
      "[MoviePy] Writing audio in C:/Users/Ankit/Documents/wpi/cs525/video_data/videos/ad_data\\_yj-hjzql3I\\How Does Grammarly Work.wav\n"
     ]
    },
    {
     "name": "stderr",
     "output_type": "stream",
     "text": [
      "\n",
      "  0%|                                                 | 0/1183 [00:00<?, ?it/s]\n",
      "  2%|▉                                      | 28/1183 [00:00<00:08, 137.25it/s]\n",
      " 14%|█████▍                                | 170/1183 [00:00<00:05, 188.27it/s]\n",
      " 30%|███████████▍                          | 356/1183 [00:00<00:03, 248.18it/s]\n",
      " 36%|█████████████▊                        | 429/1183 [00:00<00:02, 309.45it/s]\n",
      " 49%|██████████████████▌                   | 579/1183 [00:00<00:01, 406.16it/s]\n",
      " 61%|███████████████████████▎              | 725/1183 [00:00<00:00, 518.41it/s]\n",
      " 77%|█████████████████████████████▍        | 916/1183 [00:00<00:00, 663.41it/s]\n",
      " 92%|█████████████████████████████████▉   | 1087/1183 [00:00<00:00, 812.61it/s]\n",
      "100%|████████████████████████████████████| 1183/1183 [00:01<00:00, 1128.75it/s]"
     ]
    },
    {
     "name": "stdout",
     "output_type": "stream",
     "text": [
      "[MoviePy] Done.\n",
      "Out of total 769 files, converted 758 files successfully to wav and 2 files errored out!\n",
      "-0jRvvt25RI\n",
      "0\n",
      "-1d_dssPb_Y\n",
      "1\n",
      "-aI72mfYmxc\n",
      "2\n",
      "-azhsUHzetM\n",
      "3\n",
      "-M03899TYdo\n",
      "4\n",
      "-mm2-pznYE8\n",
      "5\n",
      "-qMnzO69fr8\n",
      "6\n",
      "-uxZ482i5jc\n",
      "7\n",
      "-WKkVn2XvdU\n",
      "-Zup3T2O87g\n",
      "8\n",
      "07aiFJctH8U\n",
      "9\n",
      "07JR70g7-gI\n",
      "10\n",
      "0Ie7HPAd5PM\n",
      "11\n",
      "0JLOH2hQGqg\n",
      "12\n",
      "0jLW18MObz4\n",
      "13\n",
      "0pxO4FPGJZI\n",
      "14\n",
      "0sTGML0C0cc\n",
      "15\n",
      "0WToZGfNWLw\n",
      "16\n",
      "0wUhQyG8ehg\n",
      "17\n",
      "0zQbv40gD0w\n",
      "18\n",
      "10CeO4OGjCQ\n",
      "19\n",
      "1AsatmNeEM8\n",
      "20\n",
      "1I2nuATB-HI\n",
      "21\n",
      "1IiUlWEL2w0\n",
      "22\n",
      "1My0CTm4jCQ\n",
      "23\n",
      "1NJ7jMPq0Z4\n",
      "24\n",
      "1OUQZsBaopQ\n",
      "25\n",
      "1vI6l1oMe0Y\n",
      "26\n",
      "1wiOISb-nhk\n",
      "27\n",
      "1YEdjSXCEiA\n",
      "28\n",
      "1zz-VFi6yP8\n",
      "29\n",
      "21bvj-gkSUo\n",
      "30\n",
      "2BqmRT0bJm0\n",
      "31\n",
      "2CJnkJtZF2g\n",
      "32\n",
      "2g_W8ZRLQa8\n",
      "33\n",
      "2Kkow9v3BH4\n",
      "34\n",
      "2l9KdKU2SSk\n",
      "35\n",
      "2nFlVPmzA9I\n",
      "36\n",
      "2o8kehh9ejk\n",
      "37\n",
      "2QEV6Kk2-xo\n",
      "38\n",
      "2SGHMmXtvBs\n",
      "39\n",
      "2ToZ5Dg_Wfw\n",
      "40\n",
      "2UDkEkVU700\n",
      "41\n",
      "2vLvTzDMLVY\n",
      "42\n",
      "2xyk7bCUcWE\n",
      "43\n",
      "2ZAp9dS56j8\n",
      "44\n",
      "3-6PCPAWvWg\n",
      "45\n",
      "35VWCEkkcj0\n",
      "46\n",
      "36TBtQ0ywMQ\n",
      "47\n",
      "382T3d3NRJw\n",
      "48\n",
      "3bPFHmNAl64\n",
      "49\n",
      "3PdmJTlClO4\n",
      "50\n",
      "3PTstAK-cH8\n",
      "51\n",
      "3TjK2bn4wUA\n",
      "52\n",
      "3YIpF1hlwm8\n",
      "53\n",
      "42EQE386yU0\n",
      "54\n",
      "4Cx7zzjvvDI\n",
      "55\n",
      "4JE9NrpCbrM\n",
      "56\n",
      "4rS2nHAPcck\n",
      "57\n",
      "4VooPdEWXls\n",
      "58\n",
      "4YW4Vy6eCEM\n",
      "59\n",
      "4z340mIezAA\n",
      "60\n",
      "50c4Kym1iAc\n",
      "61\n",
      "51Uv8pkijC8\n",
      "62\n",
      "59MX_qa_Lks\n",
      "63\n",
      "5AAHGHEvlHI\n",
      "64\n",
      "5AI4Qoqg6VA\n",
      "65\n",
      "5eqLeTTz0M8\n",
      "66\n",
      "5F-dug-r8tg\n",
      "67\n",
      "5kTJ8oHrePE\n",
      "68\n",
      "5PqC7mac9hI\n",
      "69\n",
      "5PUkKZKF9vY\n",
      "70\n",
      "5yQhGo_81Hc\n",
      "71\n",
      "5_G1s2kz3t8\n",
      "72\n",
      "5__ZLeOMkLM\n",
      "73\n",
      "6-1bEG_CMkQ\n",
      "74\n",
      "62iCUF6naBY\n",
      "75\n",
      "68auYg0cxuk\n",
      "76\n",
      "69SEIKmndSY\n",
      "77\n",
      "6DOk68w9XUo\n",
      "78\n",
      "6e2mgO6gdLM\n",
      "79\n",
      "6fODivulMow\n",
      "80\n",
      "6FTr7uLBnlY\n",
      "81\n",
      "6ILOILR-bKI\n",
      "82\n",
      "6w0rE87VpAk\n",
      "83\n",
      "6W9A5N8e2xo\n",
      "84\n",
      "6WDZyidaCKE\n",
      "85\n",
      "6XAcwQ2fUUk\n",
      "86\n",
      "766N9lc6Aq4\n",
      "87\n",
      "77Nt7A15buo\n",
      "88\n",
      "797-nxFIgrY\n",
      "89\n",
      "7E4Bhnj3Ajc\n",
      "90\n",
      "7FatDemUUDk\n",
      "91\n",
      "7foQw_H9jUU\n",
      "92\n",
      "7G4Z4QHSybU\n",
      "93\n",
      "7JHZp1XriIw\n",
      "94\n",
      "7neTf2M2yNA\n",
      "95\n",
      "7P668L9eR8Y\n",
      "96\n",
      "7pHf3Rslefk\n",
      "97\n",
      "7Q5nmkNxdQo\n",
      "98\n",
      "7qR6iQVNm1M\n",
      "99\n",
      "7RXxaf_QTno\n",
      "100\n",
      "7U3Oa9PjYVo\n",
      "101\n",
      "7y2CY84-42A\n",
      "102\n",
      "8-6HNSWzXQo\n",
      "103\n",
      "83cMoUddrrU\n",
      "104\n",
      "84MgidMqLs8\n",
      "105\n",
      "89q0pteyNd0\n",
      "106\n",
      "8bX3_Ngm_P8\n",
      "107\n",
      "8ciXFWwL0OQ\n",
      "108\n",
      "8eazvKpPsMo\n",
      "109\n",
      "8eLKvBjAKq0\n",
      "110\n",
      "8hoec0Kfv7w\n",
      "111\n",
      "8uHsUzlP9ws\n",
      "112\n",
      "8uOffA_-xCk\n",
      "113\n",
      "8WESWXhxkBk\n",
      "114\n",
      "90aoDyHWkEI\n",
      "115\n",
      "9ciTBHZAOkg\n",
      "116\n",
      "9G4AFYTKCWE\n",
      "117\n",
      "9GzPlzEPyuo\n",
      "118\n",
      "9JnZrOGsTUM\n",
      "119\n",
      "9O--FnOA8i0\n",
      "120\n",
      "9oJ_9FugLcY\n",
      "121\n",
      "9PPbMHw77Lk\n",
      "122\n",
      "9VMF4uHRlb4\n",
      "123\n",
      "9xps7ngE5jM\n",
      "124\n",
      "A1tQ_zN1Djo\n",
      "125\n",
      "A1Yw0ZFnYXc\n",
      "126\n",
      "a6leKHpFgTo\n",
      "127\n",
      "a9YsQLHGqdE\n",
      "128\n",
      "Abnyk2-eqPY\n",
      "129\n",
      "Aeqs9OGUif0\n",
      "130\n",
      "aG-JgQkEH4g\n",
      "131\n",
      "AhMCXWjYifA\n",
      "132\n",
      "ak9lZHJIsFs\n",
      "133\n",
      "AkACB6eYjpM\n",
      "134\n",
      "AKpcGXb59sc\n",
      "135\n",
      "AlgopZpjUj0\n",
      "136\n",
      "ANEpbxivlLU\n",
      "137\n",
      "aOC3tPwF0bs\n",
      "138\n",
      "AREJhfNqQVI\n",
      "139\n",
      "auKV78saErw\n",
      "140\n",
      "azvR__GRQic\n",
      "141\n",
      "A_K4Y90eu8A\n",
      "142\n",
      "b2LU8QxnGX4\n",
      "143\n",
      "B37lfaz0lP8\n",
      "144\n",
      "B3CJnU0XIMY\n",
      "145\n",
      "b59ldoJ6qPM\n",
      "146\n",
      "b6xIk-gW_0w\n",
      "147\n",
      "bbgXFzfoP9w\n",
      "148\n",
      "bC5IKO_uiY4\n",
      "149\n",
      "BCD1uAxfcuI\n",
      "150\n",
      "bcgmDkywMA0\n",
      "151\n",
      "bcuMeDqJtnU\n",
      "152\n",
      "bdT8rph1vc8\n",
      "153\n",
      "Bd_43Q61J3s\n",
      "154\n",
      "bf0anQedLH0\n",
      "155\n",
      "BgRPFSqTzow\n",
      "156\n",
      "bh-cRGgJAmk\n",
      "157\n",
      "BI-es62Oekk\n",
      "158\n",
      "bjDQozNK7Dc\n",
      "159\n",
      "Bjp66Ti048c\n",
      "160\n",
      "BmlxrYNzQRM\n",
      "161\n",
      "BNMCIzMZa_s\n",
      "162\n",
      "bO-fjqf9Pkk\n",
      "163\n",
      "bqHv62pcebI\n",
      "164\n",
      "bRPaqxejMhE\n",
      "165\n",
      "BsBwllzZYTg\n",
      "166\n",
      "bsr2Y1FUT3E\n",
      "167\n",
      "bSYkFQSQTM0\n",
      "168\n",
      "BUXPOqt4O2E\n",
      "169\n",
      "bv1ipqIBaag\n",
      "170\n",
      "Bv683aP4IzQ\n",
      "171\n",
      "c25yQXZo49E\n",
      "172\n",
      "C44wJ-E9zL8\n",
      "173\n",
      "c5LaVB0CwU4\n",
      "174\n",
      "CaEe3d1EY1w\n",
      "175\n",
      "cAuEGNixSfI\n",
      "176\n",
      "cbyCb4DZsRo\n",
      "177\n",
      "CfRFOaAc12g\n",
      "178\n",
      "CixoaRIVvUo\n",
      "179\n",
      "cKYUXPSEbv4\n",
      "180\n",
      "cmDkCn6e0cY\n",
      "181\n",
      "copIcatJODo\n",
      "182\n",
      "cpOsp4FOXaw\n",
      "183\n",
      "cUAQpXNCyw0\n",
      "184\n",
      "cuBKPodtvuk\n",
      "185\n",
      "CUwT8l16Et8\n",
      "186\n",
      "d-rOAZFw1-k\n",
      "187\n",
      "d24PPwVIf2M\n",
      "188\n",
      "d3ppW2gr8S8\n",
      "189\n",
      "D5ajOTYLl20\n",
      "190\n",
      "DcgQTMqSgUc\n",
      "191\n",
      "Dc_M-McsQhc\n",
      "192\n",
      "Dd5q9JGjsko\n",
      "193\n",
      "deIhJIWCT4s\n",
      "194\n",
      "dF2D2dbcLnw\n",
      "195\n",
      "Dg2AHYS-qAw\n",
      "196\n",
      "dHBKDgYt4Gs\n",
      "197\n",
      "dkBb4d35w1o\n",
      "198\n",
      "Dmwfa3fLUIs\n",
      "199\n",
      "DN3kPy-uobA\n",
      "200\n",
      "DOcmUgvEW7E\n",
      "201\n",
      "dRUKQYtF-zw\n",
      "202\n",
      "dsv68WsdQ2Y\n",
      "203\n",
      "Dta5c43xhLA\n",
      "204\n",
      "DuA2fu-JvUw\n",
      "205\n",
      "DUb-kqtbrBU\n",
      "206\n",
      "duwjStThjgU\n",
      "207\n",
      "Dwx7df2J1tw\n",
      "208\n",
      "dZ4tr5xirIA\n",
      "209\n",
      "dzaudt0Eg4Y\n",
      "210\n",
      "DzJkCiWR6bo\n",
      "211\n",
      "E0ijEcdnqhA\n",
      "212\n",
      "E0RDJ9tYw6A\n",
      "213\n",
      "E1prEHnCXd0\n",
      "214\n",
      "E2kHrlE8bnI\n",
      "215\n",
      "e3C96xBjGgc\n",
      "216\n",
      "e4zvtQd0fOk\n",
      "217\n",
      "E5UR6h7GaYw\n",
      "218\n",
      "E6CsB386MZ4\n",
      "219\n",
      "E6dawNAXUDI\n",
      "220\n",
      "e8oPEm6MqSI\n",
      "221\n",
      "EH6Cliq7ORo\n",
      "222\n",
      "EHcSVwH1XRs\n",
      "223\n",
      "EJHwqVwhYxg\n",
      "224\n",
      "EjXBms5zikc\n",
      "225\n",
      "enU5q0tE9kk\n",
      "226\n",
      "eodK1k6ln5s\n",
      "227\n",
      "eoSIftP6vBw\n",
      "228\n",
      "ERr--rsHjAM\n",
      "229\n",
      "etkNEgstbJ0\n",
      "230\n",
      "EucNuKWkNK0\n",
      "231\n",
      "EUzT6Bf3dGE\n",
      "232\n",
      "EvchlXlIIXI\n",
      "233\n",
      "ew0q_F2cGLw\n",
      "234\n",
      "EZ2VzgBzTz0\n",
      "235\n",
      "F-GzTIAEhNE\n",
      "236\n",
      "f-PSrjgEHLE\n",
      "237\n",
      "F6d-LqmvLsA\n",
      "238\n",
      "F99FuGwkvc8\n",
      "239\n",
      "FDjqu0qyaWs\n",
      "240\n",
      "FDXCR_FyZQQ\n",
      "241\n",
      "fF-Di-OFsPQ\n",
      "242\n",
      "fgTN6uFFEQQ\n",
      "243\n",
      "FJyJze1RyBQ\n",
      "244\n",
      "FlIdD6Kpucw\n",
      "245\n",
      "fm7Zm-jyCWk\n",
      "246\n",
      "fM8n8jCJSMU\n",
      "247\n",
      "fNtj4YFgnzI\n",
      "FNTvgL2WbvM\n",
      "248\n",
      "FO20rfagAqc\n",
      "249\n",
      "fPZf3c3TiLk\n",
      "250\n",
      "fP_DdTNBYOA\n",
      "251\n",
      "fRegToos7wM\n",
      "252\n",
      "fSc3B4TuQ_g\n",
      "253\n",
      "FusP0lHJZtQ\n",
      "254\n",
      "FUzHAv0vg5c\n",
      "255\n",
      "fVRYJogbLVc\n",
      "256\n",
      "FxYynwPKgM4\n",
      "257\n",
      "G2i_5eBnMKk\n",
      "258\n",
      "G3x-_0Lmj3s\n",
      "259\n",
      "G3ybT4Xf7ww\n",
      "260\n",
      "g5oWxP-dK5k\n",
      "261\n",
      "G7w-u_avOUo\n",
      "262\n",
      "Gcjq5xZBOsA\n",
      "263\n",
      "GcZEB8p85ng\n",
      "264\n",
      "gd_0nQndlOU\n",
      "265\n",
      "GfdftpYdC9U\n",
      "266\n",
      "GfqE6v7Sj2k\n",
      "267\n",
      "GfYs5I3ZA0s\n",
      "268\n",
      "GG2WVUMDjm4\n",
      "269\n",
      "GhusZXkEmyQ\n",
      "270\n",
      "gJzyO61dtT4\n",
      "271\n",
      "GKSAJdKEGRA\n",
      "go1jaIRQc-o\n",
      "272\n",
      "gp1VFW4qHoo\n",
      "gP5z-4J2Jsc\n",
      "273\n",
      "GqCQTP2ufng\n",
      "274\n",
      "gru5-jKwj2s\n",
      "275\n",
      "GsYi4BU7GUs\n",
      "gT4vKuxZPEM\n",
      "276\n",
      "guMH3gMNvTU\n",
      "277\n",
      "gv9k2hwyOLM\n",
      "278\n",
      "GWtwgSU9eFs\n",
      "279\n",
      "G_PErhOFq2o\n",
      "280\n",
      "h5Z8p3X5PTI\n",
      "281\n",
      "h6l1YFWVeZ8\n",
      "282\n",
      "H8DpjQN7hiU\n",
      "283\n",
      "ha8PiLaPWuA\n",
      "284\n",
      "HAErOS8HgAU\n",
      "285\n",
      "HCDIqcG7wZM\n",
      "286\n",
      "hcTVe_gwtS0\n",
      "287\n",
      "he4NEpnFBvA\n",
      "288\n",
      "HejHz5wMJCU\n",
      "289\n",
      "HGfE0QLboNs\n",
      "290\n",
      "HhaUcqodoMo\n",
      "291\n",
      "HHMcV9YZEiY\n",
      "292\n",
      "Hn06Ef87NsM\n",
      "HQJU0twtB0s\n",
      "293\n",
      "HqY4I29ja_U\n",
      "294\n",
      "hrSU56Uc7cM\n",
      "295\n",
      "HRUuo3elaiU\n",
      "296\n",
      "hSaQ2Rd-HEc\n",
      "297\n",
      "HUc_p0C48l8\n",
      "298\n",
      "hunXC076lv0\n",
      "299\n",
      "HZBpT-oFOw8\n",
      "300\n",
      "H_TRMsWcy4k\n",
      "301\n",
      "I-9Pxh5xXBc\n",
      "302\n",
      "I3f0rclX4D4\n",
      "303\n",
      "I4FxXKIZUms\n",
      "304\n",
      "I540W716NEU\n",
      "305\n",
      "I9a5SOJe3IQ\n",
      "306\n",
      "Ie4CDzmDKyI\n",
      "307\n",
      "if-GZDyKym4\n",
      "308\n",
      "if_PgPq1Dps\n",
      "309\n",
      "Ik8Q6-Lciyk\n",
      "310\n",
      "ikjUnpJO_Vk\n",
      "311\n",
      "ine4uuHps8E\n",
      "312\n",
      "iNnMZpbOMNE\n",
      "313\n",
      "ipCZ7injGZc\n",
      "314\n",
      "IRMtqrEveX4\n",
      "315\n",
      "iRnuIUyhZv8\n",
      "316\n",
      "IRXxAvT1kIA\n",
      "317\n",
      "ITB2bp_LFu8\n",
      "318\n",
      "iTKV5_vkt1M\n",
      "319\n",
      "ittVaWB5CIY\n",
      "320\n",
      "IUkArf_SQoA\n",
      "321\n",
      "iwi7Mfr0pS0\n",
      "322\n",
      "IXo2Oxi12jA\n",
      "323\n",
      "IY0ypr5xle0\n",
      "324\n",
      "IYoFBnr5cNs\n",
      "325\n",
      "iYTPZUIvnNs\n",
      "326\n",
      "J3f49nKXZJI\n",
      "327\n",
      "j5OKo1AJIrg\n",
      "328\n",
      "j5vQ980WoXc\n",
      "329\n",
      "j6a3b9NBCvg\n",
      "330\n",
      "JaBRrRR8w9M\n",
      "331\n",
      "JEzNwLLuI4g\n",
      "332\n",
      "jF-ese8IG44\n",
      "JfDGsydKC8g\n",
      "333\n",
      "JFoVy5zVRKk\n",
      "334\n",
      "jFyLRZgEV6g\n",
      "335\n",
      "Jgl1cw-qZNY\n",
      "336\n",
      "JGPnx9HDfeo\n",
      "337\n",
      "JGqvju89MFQ\n",
      "338\n",
      "JjW3iQ5qrWs\n",
      "339\n",
      "JM0sKRAA2B8\n",
      "340\n",
      "JpaAru4IgGw\n",
      "341\n",
      "Jq35EkmRR1k\n",
      "342\n",
      "jQp4B0F1UNo\n",
      "343\n",
      "JrY4pR3gYmM\n",
      "344\n",
      "jRYXhD4JZIo\n",
      "345\n",
      "jsWob-OmhuY\n",
      "346\n",
      "JtAIxkPiEr4\n",
      "347\n",
      "Jwe1p_jZw8A\n",
      "348\n",
      "jXb-gEPsPqE\n",
      "349\n",
      "jXyZEoLKO_I\n",
      "350\n",
      "jy2RL4mWF0k\n",
      "351\n",
      "jykQW3fGTLc\n",
      "352\n",
      "jYloMmRMzNo\n",
      "353\n",
      "K4MOctG6d-o\n",
      "354\n",
      "kck3owQE5c8\n",
      "355\n",
      "KFUjHrFiS5M\n",
      "356\n",
      "KfUTfuh_5nc\n",
      "357\n",
      "kgA_LC4h_6Q\n",
      "358\n",
      "KgxcWoc6F5k\n",
      "359\n",
      "KgZTu4xfQ4g\n",
      "360\n",
      "KhKYUMRqKUY\n",
      "361\n",
      "KIC-XmyEfhI\n",
      "362\n",
      "KizRypgH_1M\n",
      "363\n",
      "KKFE9xXjRtM\n",
      "364\n",
      "Klcmk_Zz2JE\n",
      "365\n",
      "KNZCe3I_X7o\n",
      "kPbmUNNmFKo\n",
      "366\n",
      "KqIrJ_XseXs\n",
      "367\n",
      "KQ_j8hJOVn8\n",
      "368\n",
      "ksXdcGO-plc\n",
      "369\n",
      "KTNHf-vpHZQ\n",
      "370\n",
      "kUjhnAdS_dY\n",
      "371\n",
      "Kvwea1K6o9w\n",
      "372\n",
      "KX3ELDq_mbI\n",
      "373\n",
      "kxgAOhogbrc\n",
      "374\n",
      "KYg7MqdyUz4\n",
      "375\n",
      "kYxmGphfEyY\n",
      "376\n",
      "kZHkiPW5IGA\n",
      "377\n",
      "L02rMpODFn0\n",
      "378\n",
      "l5L3xYEAGkg\n",
      "379\n",
      "L5XXR8zTvN0\n",
      "380\n",
      "l9M0ssvmelE\n",
      "381\n",
      "lArDQvgCdlA\n",
      "382\n",
      "lFID_BPctXQ\n",
      "383\n",
      "LHJFh7MQdHI\n",
      "384\n",
      "Li4hkb8je-I\n",
      "385\n",
      "liQ7lhjTZu4\n",
      "386\n",
      "LMgV0lwuNdc\n",
      "387\n",
      "ln6SGVsXGPM\n",
      "388\n",
      "LNeDKRt5BR0\n",
      "389\n",
      "lnIbwCZg6p8\n",
      "390\n",
      "Lppkhu60yP4\n",
      "391\n",
      "LRdkUPmOL18\n",
      "392\n",
      "LTlfm-Gqp-E\n",
      "393\n",
      "LtXt-GB_KDg\n",
      "394\n",
      "lVZ2sVr7DkE\n",
      "395\n",
      "Lz9Hy7uEY7s\n",
      "396\n",
      "LZjAHp8vVEE\n",
      "397\n",
      "LzSBEBy8VQM\n",
      "398\n",
      "lzwv_nigvLg\n",
      "399\n",
      "M-pcFnn8Kb4\n",
      "400\n",
      "mAfPzGRNtYk\n",
      "401\n",
      "maxbug2iYVc\n",
      "402\n",
      "McrM4XStgjU\n",
      "403\n",
      "mCu30LWgX6Q\n",
      "404\n",
      "MdMOSUgtRX8\n",
      "405\n",
      "MDSluOJgMWo\n",
      "406\n",
      "mFC8JuiZZYc\n",
      "407\n",
      "mGJDylmFnyc\n",
      "408\n",
      "MgvHXcroWfY\n",
      "409\n",
      "Mh0NhD3OChI\n",
      "410\n",
      "MhJJloWpxdY\n",
      "411\n",
      "MIQbE9Iume8\n",
      "412\n",
      "mj5nO02sV5g\n",
      "413\n",
      "mkBFZ6Sv_H4\n",
      "414\n",
      "MmFZL5gbAPY\n",
      "415\n",
      "MNBYQFdTNSQ\n",
      "416\n",
      "MnmJVdrXlu4\n",
      "417\n",
      "MnUljSpMus4\n",
      "418\n",
      "MOo9iJ8RYWM\n",
      "419\n",
      "MSXI8ceaUBg\n",
      "420\n",
      "mtkz0-1l95Q\n",
      "421\n",
      "MTMN-n8beKE\n",
      "422\n",
      "muixg3ZXKO4\n",
      "423\n",
      "mwhIKjcYn3M\n",
      "424\n",
      "mWOdSkYOptc\n",
      "425\n",
      "MwPPAwxTWkI\n",
      "426\n",
      "mwXIr3Wa_B0\n",
      "427\n",
      "MYNfRFJLP2w\n",
      "428\n",
      "mYocfuqu2A8\n",
      "429\n",
      "MZeuw0iIGrU\n",
      "430\n",
      "n-_JseoqnTM\n",
      "431\n",
      "N12nZ_wxKYQ\n",
      "432\n",
      "n1lT9f4w7eA\n",
      "433\n",
      "n58pmXdonfE\n",
      "434\n",
      "NDjsKPjF8nQ\n",
      "435\n",
      "neltiyW9QPE\n",
      "436\n",
      "NfneiaYfoLk\n",
      "ng5upEVsOEw\n",
      "437\n",
      "ngTZzMkPkKo\n",
      "438\n",
      "NhGS4_TGX9o\n",
      "439\n",
      "nJZGvxpupIE\n",
      "440\n",
      "nk1-tr8vX6A\n",
      "441\n",
      "NKVJMwAVfIw\n",
      "442\n",
      "NoczmQzi_-s\n",
      "443\n",
      "NrWyLIlNrGE\n",
      "444\n",
      "nsb0AE3EvSU\n",
      "445\n",
      "NukElwuXf6E\n",
      "446\n",
      "NvyXsBIlYHw\n",
      "447\n",
      "NYqO-Hgl90o\n",
      "448\n",
      "Nz3wyZkmMfU\n",
      "449\n",
      "nzDBKhNy2E4\n",
      "450\n",
      "O0udHCUrrUg\n",
      "451\n",
      "O31UnIYZYhg\n",
      "452\n",
      "O3H9nttjN6M\n",
      "453\n",
      "o8xCSed0f8E\n",
      "454\n",
      "OBAaAPZWCYo\n",
      "455\n",
      "Obd4Ke_IZUo\n",
      "456\n",
      "oBQqfgSniYM\n",
      "457\n",
      "OCgZUfg1las\n",
      "458\n",
      "oe50xBpE7Og\n",
      "459\n",
      "oEdC5IdQvEE\n",
      "460\n",
      "Oexg_ceQbfA\n",
      "461\n",
      "OFlj0obQUXA\n",
      "462\n",
      "oGzZEZg3n2M\n",
      "463\n",
      "oiD7eL5TUYs\n",
      "464\n",
      "OIhAcxdMMag\n",
      "465\n",
      "OiJ7toDP4i8\n",
      "466\n",
      "olgD5O4JrkE\n",
      "467\n",
      "OlV8yYM08pg\n",
      "468\n",
      "OLYRC_reugM\n",
      "469\n",
      "oo2rbQWYo_A\n",
      "470\n",
      "oqWI717s-6A\n",
      "471\n",
      "os0f7DIlyWs\n",
      "472\n",
      "OucsxGgnsQg\n",
      "473\n",
      "OUNER5_MOOA\n",
      "474\n",
      "ov16Qwe5yEk\n",
      "475\n",
      "OYldJgTC0H4\n",
      "476\n",
      "oyNyzfau1zs\n",
      "477\n",
      "p-nQPKtpe54\n",
      "478\n",
      "P4vhszKdUd0\n",
      "479\n",
      "p7DkTLbKC4U\n",
      "480\n",
      "P7q71aPvFBE\n",
      "481\n",
      "P7_RtEr8cq0\n",
      "482\n",
      "p8Ospon1L0o\n",
      "483\n",
      "P9fpZoxLEtA\n",
      "484\n",
      "p9oAx_9aXto\n",
      "485\n",
      "paaYbR_rDno\n",
      "486\n",
      "pCXFvbbrV28\n",
      "487\n",
      "PekH9jJndp4\n",
      "488\n",
      "PHWPaavsi8I\n",
      "489\n",
      "PKaaia16WGY\n",
      "490\n",
      "Pkmy2D0CkH0\n",
      "491\n",
      "PLAsIzSKHFk\n",
      "492\n",
      "PLgibBGtVH8\n",
      "493\n",
      "pliMuDmIkIM\n",
      "494\n",
      "PMJ-VI_hLDE\n",
      "495\n",
      "pOcE6qm8rKM\n",
      "496\n",
      "ppkR6Ztto0g\n",
      "497\n",
      "pTE1wfRckuM\n",
      "498\n",
      "pTJYu48FzAs\n",
      "499\n",
      "puDl23kX22I\n",
      "500\n",
      "pux1TUpa9xk\n",
      "501\n",
      "PVqDPfIsDHc\n",
      "502\n",
      "pwBZBGtVI2U\n",
      "503\n",
      "pxKwE4HMAhE\n",
      "504\n",
      "pYUEeOR_5Zw\n",
      "505\n",
      "p_CcljSJLPg\n",
      "506\n",
      "Q-nP7RjqRLI\n",
      "507\n",
      "Q14tTTQM2Rw\n",
      "508\n",
      "Q1c6PmxZ2ZM\n",
      "509\n",
      "q32ehZrp658\n",
      "510\n",
      "q3UhWXJzZ-A\n",
      "511\n",
      "Q5aSBVqUlx0\n",
      "512\n",
      "q64GbONp5hM\n",
      "513\n",
      "q6sTTz-YkkY\n",
      "514\n",
      "Qa9XLypI5TY\n",
      "515\n",
      "qaJJkPctXko\n",
      "516\n",
      "qAwykAR0j88\n",
      "517\n",
      "Qbll0WwDpCE\n",
      "518\n",
      "qD6FDkUXSZQ\n",
      "519\n",
      "QDwMgTx0C_o\n",
      "520\n",
      "qG9b_7NIUCQ\n",
      "521\n",
      "qg9XswNrap4\n",
      "522\n",
      "QJfKjCLCApA\n",
      "523\n",
      "qk-j9nBrFig\n",
      "524\n",
      "qLkHBEt1ZkY\n",
      "525\n",
      "qmdGGbms8Ss\n",
      "526\n",
      "qmIMv1RKd7Y\n",
      "527\n",
      "QNoOUR_L-PU\n",
      "528\n",
      "QoFk6iP3nD0\n",
      "529\n",
      "qOtER5Sm_iI\n",
      "530\n",
      "qqJ2qKrEP0I\n",
      "531\n",
      "qr6e-CRrwrI\n",
      "532\n",
      "qUvKRFUiW0I\n",
      "533\n",
      "R3E_S41IA1s\n",
      "534\n",
      "r5iUND21iRw\n",
      "535\n",
      "R8mEw29prjY\n",
      "536\n",
      "r8otoufdp2U\n",
      "537\n",
      "Ra7HtXlfooc\n",
      "538\n",
      "RAkvYksevcs\n",
      "539\n",
      "RBVV8IwSgv8\n",
      "540\n",
      "rbz_WOIgcok\n",
      "541\n",
      "rc9B81MX62s\n",
      "542\n",
      "Rd6zAbTSLo8\n",
      "543\n",
      "rDgGTXwXApY\n",
      "544\n",
      "re25yUFYKRM\n",
      "545\n",
      "rELOz_647CE\n",
      "546\n",
      "resBQqwiVCA\n",
      "547\n",
      "RfCKcqeh5pQ\n",
      "548\n",
      "rgHy3yCZIxs\n",
      "549\n",
      "rIbWh1Iltk4\n",
      "550\n",
      "Rj3_qWmelVQ\n",
      "551\n",
      "Rjb8Bq0oqt8\n",
      "552\n",
      "rKjCUdJXNYc\n",
      "553\n",
      "rL0Et5FSzdU\n",
      "554\n",
      "RLhA_Ip5JTU\n",
      "555\n",
      "rMyU6EezzFA\n",
      "556\n",
      "RnLRbrVtqjo\n",
      "557\n",
      "Ro1WHRYG6vc\n",
      "558\n",
      "RqnfCWDFuUA\n",
      "559\n",
      "RRmSF27Lvrw\n",
      "560\n",
      "RWgp1B3rQ-k\n",
      "561\n",
      "rwKtpTU0JTY\n",
      "562\n",
      "Rxt5oT_X6f4\n",
      "563\n",
      "RyRunVrwNyc\n",
      "564\n",
      "r_IHvfqNdbs\n",
      "565\n",
      "S3BFtZ7IdGk\n",
      "566\n",
      "S3C5x4ss3GY\n",
      "567\n",
      "s6-ZhNSkJIg\n",
      "568\n",
      "S7mCil97ZVM\n",
      "569\n",
      "sdCDaU1tXuY\n",
      "570\n",
      "SfOH39C77xU\n",
      "571\n",
      "SFuTnycCSlo\n",
      "572\n",
      "Sh4I_DdsyaQ\n",
      "573\n",
      "SHKAVyOda8Q\n",
      "574\n",
      "sHL4j4x5IpY\n",
      "575\n",
      "sIRt48K9J9g\n",
      "sl7wymmT2Hk\n",
      "576\n",
      "SOHd3gc5aDI\n",
      "577\n",
      "spDsw9Mzktw\n",
      "578\n",
      "spmI7hfroDc\n",
      "579\n",
      "spQk2QyOP0E\n",
      "580\n",
      "Sq4IGmCle5g\n",
      "581\n",
      "Stb6DL78XtA\n",
      "582\n",
      "t4i7kVARVNE\n",
      "583\n",
      "T6IZmIkJia4\n",
      "584\n",
      "T6yhOm1oiEc\n",
      "585\n",
      "t8e8GEn7u7Q\n",
      "586\n",
      "TATSIRNswUU\n",
      "587\n",
      "TbvYNdoRWQo\n",
      "588\n",
      "tc-ohOsAlQw\n",
      "589\n",
      "tc5QTEHI2RI\n",
      "590\n",
      "tCWWFC-TeoY\n",
      "591\n",
      "tdpw6qmM8zs\n",
      "592\n",
      "TG67gLb19yc\n",
      "593\n",
      "TGhvu6gA2ZE\n",
      "594\n",
      "TifC9ZbcQ0k\n",
      "595\n",
      "tLkqaw4mmQs\n",
      "596\n",
      "tM25wmU0MZw\n",
      "597\n",
      "TNwK6nLtz94\n",
      "598\n",
      "to-bDNrMnW4\n",
      "599\n",
      "toscUZo1jGE\n",
      "600\n",
      "tovgs7Nnhlc\n",
      "601\n",
      "Tq3MEn9aiOo\n",
      "602\n",
      "Tt5JV9O6jXU\n",
      "603\n",
      "Tvc4JmWI4Ko\n",
      "604\n",
      "TwbzAIVY8nI\n",
      "605\n",
      "tXOTJtxe88c\n",
      "606\n",
      "Ty5iPN2O8Fk\n",
      "607\n",
      "tZhQMyZx7N0\n",
      "608\n",
      "TzqL3lzIDvg\n",
      "609\n",
      "tZYEskfJ--k\n",
      "610\n",
      "u2LIQnmY-C0\n",
      "611\n",
      "u85VcUkeBsE\n",
      "612\n",
      "UAaCepuEJQ8\n",
      "613\n",
      "UB4c7KSdx4k\n",
      "614\n",
      "UbAjaCfs6W8\n",
      "615\n",
      "UBvIw6tmpnE\n",
      "616\n",
      "uECBpMcp42s\n",
      "617\n",
      "Uf7zTCwmBqE\n",
      "UfVpoI5ksag\n",
      "618\n",
      "UHNNnQR-VhQ\n",
      "619\n",
      "UidFzGI2J04\n",
      "620\n",
      "uIWw_HHYC60\n",
      "621\n",
      "UJ0IiyYDgUE\n",
      "622\n",
      "UJ2z8sxU334\n",
      "623\n",
      "ulNup-U6xbc\n",
      "624\n",
      "ULUmsaz4aeM\n",
      "625\n",
      "umyNYBvzQE4\n",
      "626\n",
      "uN8FkY6R57k\n",
      "627\n",
      "uqDuJ67-M_4\n",
      "628\n",
      "UquGFo6jfzw\n",
      "629\n",
      "US8Uc1--VIY\n",
      "630\n",
      "utYKc3CNGZ8\n",
      "631\n",
      "uwieag1Gp10\n",
      "632\n",
      "uXdPpXrleds\n",
      "633\n",
      "uxZrMFJsRqM\n",
      "634\n",
      "uzMeEvS596A\n",
      "635\n",
      "V-QG-V8Ro6w\n",
      "636\n",
      "V2JJJQGpWvg\n",
      "637\n",
      "V5Fl-xheqPs\n",
      "638\n",
      "V7dhnKaGeUg\n",
      "639\n",
      "VAYPpvXxvd8\n",
      "640\n",
      "vbUm7TDhjFg\n",
      "641\n",
      "vFC9Vk2LEu4\n",
      "642\n",
      "vfySl25Edgg\n",
      "643\n",
      "Viqs-TMIMqQ\n",
      "644\n",
      "VIwApkStDd8\n",
      "645\n",
      "VkwBZCBKmj4\n",
      "646\n",
      "VL4qqsHUWx4\n",
      "647\n",
      "vL5FXdWhMlY\n",
      "648\n",
      "VrlVrmOjdZg\n",
      "649\n",
      "VRTuWkM42go\n",
      "650\n",
      "vSKpZCkb6_M\n",
      "651\n",
      "vtq3OU0ZYMY\n",
      "652\n",
      "VYWfhTWE-Sw\n",
      "653\n",
      "vZ5qjw0WfGY\n",
      "654\n",
      "W-cPpsj2wBQ\n",
      "655\n",
      "w7ia_13_yXM\n",
      "656\n",
      "wa3NlcNSb1o\n",
      "657\n",
      "Wchdp5sbxUY\n",
      "658\n",
      "wck4ENXjWkM\n",
      "659\n",
      "WcY27pkmZ_w\n",
      "660\n",
      "WD9nbqYsgCg\n",
      "661\n",
      "weL0nyqFk-w\n",
      "662\n",
      "wELwe21Fg9A\n",
      "663\n",
      "WEUUvntknTI\n",
      "664\n",
      "wGidm3wJJ34\n",
      "665\n",
      "WHbMg5NJFnY\n",
      "666\n",
      "wiFrUgiYzYE\n",
      "667\n",
      "WiLqAWw561E\n",
      "668\n",
      "wIvQb1SxuFA\n",
      "669\n",
      "wi_tJ_CC0qY\n",
      "670\n",
      "wjaXfkRC8SE\n",
      "671\n",
      "WJDwukQJoVs\n",
      "672\n",
      "wjzaIU_YAxI\n",
      "673\n",
      "WKdYRjOCrMs\n",
      "674\n",
      "wKYpswtK9bM\n",
      "675\n",
      "WlckO1WTHKQ\n",
      "676\n",
      "Wm3hF0hmCZw\n",
      "677\n",
      "wmB1shQTT1U\n",
      "678\n",
      "WOYWKPa5_3U\n",
      "679\n",
      "wQ2uVrSqkr0\n",
      "680\n",
      "wqaVWQlK8lc\n",
      "681\n",
      "WvPJTdd-AqM\n",
      "682\n",
      "WXwRKGQvslc\n",
      "683\n",
      "WZw14AZF2fQ\n",
      "684\n",
      "X-Ckg-4jc_o\n",
      "685\n",
      "X8GHzOWdrYs\n",
      "686\n",
      "xaBrKGH6XHY\n",
      "687\n",
      "xCPq6ZyauuQ\n",
      "688\n",
      "xD-dw8Q36C8\n",
      "689\n",
      "xFLbQaVRmCc\n",
      "690\n",
      "Xiy2oEnXe0U\n",
      "691\n",
      "xLI98bdiWC4\n",
      "692\n",
      "xmlZIaAFHKM\n",
      "693\n",
      "xNAgS2se2oQ\n",
      "694\n",
      "XnBr2lO0Ms8\n",
      "695\n",
      "XniR5aa6uZQ\n",
      "696\n",
      "XojC23F6oE8\n",
      "697\n",
      "XP5VPRpJbZE\n",
      "698\n",
      "xVsXJCl76zM\n",
      "699\n",
      "Xwt-_ADyiZU\n",
      "700\n",
      "y0bOGDwBU3Q\n",
      "701\n",
      "y6rAQa_lP4k\n",
      "702\n",
      "y9lYphuapKg\n",
      "703\n",
      "YDxB4CDElWs\n",
      "704\n",
      "yElBaF97tWc\n",
      "705\n",
      "YFo0VtzymvI\n",
      "706\n",
      "yGX994qFOdI\n",
      "707\n",
      "yhB_gL5JCXQ\n",
      "708\n",
      "yiKsIBdRASI\n",
      "709\n",
      "YiV3XSYoEtY\n",
      "710\n",
      "yjzkYOEC8pE\n",
      "711\n",
      "ylof6YYQoqs\n",
      "712\n",
      "yNlE3p8ERaI\n",
      "713\n",
      "yPxvI7aSnfM\n",
      "714\n",
      "YsIcyJJBdGA\n",
      "715\n",
      "YsWZtSRWINU\n",
      "716\n",
      "YTGhyyPFytI\n",
      "717\n",
      "YvZi6XIDrq8\n",
      "718\n",
      "yxGdtn6PxZI\n",
      "719\n",
      "Yx_Fd709lw0\n",
      "720\n",
      "yycdbXoPD24\n",
      "721\n",
      "YYerqJAudMw\n",
      "722\n",
      "z0aDa7pkgDo\n",
      "723\n",
      "z39AT7oz0nA\n",
      "724\n",
      "z4M2JDTpXVc\n",
      "725\n",
      "z6eVGdK2pDs\n",
      "726\n",
      "zADj0k0waFY\n",
      "727\n",
      "ZAwNB3qofrg\n",
      "728\n",
      "ZcivhFnIBo0\n",
      "729\n",
      "Zhcm-vjmJUs\n",
      "730\n",
      "zhTIuCtTWP0\n",
      "731\n",
      "ZIh78E_EuEc\n",
      "732\n",
      "zJqeFGy7-SU\n",
      "733\n",
      "Zk4OFOA-wfI\n",
      "734\n",
      "zkP_VJYvD5A\n",
      "735\n",
      "zNaZaM6VxNc\n",
      "736\n",
      "ZPMORX02czc\n",
      "737\n",
      "zSIgeW-Q_8Y\n",
      "738\n",
      "ZSkr10C0zws\n",
      "739\n",
      "ZV9T-_NQvh0\n",
      "740\n",
      "zV_U2Q1_RbU\n",
      "741\n",
      "zwk1R-tmQxg\n",
      "742\n",
      "zwPl4IMMDNo\n",
      "743\n",
      "ZYo7avOYQsM\n",
      "744\n",
      "_2E_GuhxYJQ\n",
      "745\n",
      "_3EDrTT0vb8\n",
      "746\n",
      "_5ZI4trjpQY\n",
      "747\n",
      "_axnJ24JgrM\n",
      "748\n",
      "_FfGc6yJBNA\n",
      "749\n",
      "_HZcF1KAdBk\n",
      "750\n",
      "_jf0b6iizeE\n",
      "751\n",
      "_Lu7FeOkHtw\n",
      "752\n",
      "_pQLZh1KEWU\n",
      "753\n",
      "_R4bfZC-DDA\n",
      "754\n",
      "_tS8ZE7WSF0\n",
      "755\n",
      "_Xbw0ctSOXs\n",
      "756\n",
      "_yj-hjzql3I\n",
      "757\n",
      "Out of total 769 files, converted 758 files successfully to mono wav and 0 files errored out!\n"
     ]
    }
   ],
   "source": [
    "import os\n",
    "import glob\n",
    "\n",
    "from pydub import AudioSegment\n",
    "import moviepy.editor as mp\n",
    "\n",
    "\n",
    "def convert_to_wav(file_dir):\n",
    "    errors={}\n",
    "    i = 0\n",
    "    j = 0\n",
    "    k = 0\n",
    "    \n",
    "    clip_mp4 = ''\n",
    "    clip_webm = ''\n",
    "    for direc in os.listdir(file_dir):\n",
    "        print(direc)\n",
    "        loc=os.path.join(file_dir,direc)\n",
    "        os.chdir(loc)\n",
    "        try:\n",
    "            print(i)\n",
    "            #files = glob.glob(\"*.mp4\")\n",
    "            if glob.glob('*.mp4'):\n",
    "                file_mp4 = glob.glob('*.mp4')[0]\n",
    "                clip_mp4 = mp.VideoFileClip(os.path.join(file_dir,direc,file_mp4))\n",
    "                clip_mp4.audio.write_audiofile(os.path.join(file_dir,direc,file_mp4[:-4]+\".wav\"))\n",
    "                close_clip(clip_mp4)\n",
    "                i = i+1\n",
    "            elif glob.glob('*.webm'):\n",
    "                file_webm = glob.glob('*.webm')[0]\n",
    "                clip_webm = mp.VideoFileClip(os.path.join(file_dir,direc,file_webm))\n",
    "                clip_webm.audio.write_audiofile(os.path.join(file_dir,direc,file_webm[:-4]+\".wav\"))\n",
    "                close_clip(clip_webm)\n",
    "                i = i+1\n",
    "                       \n",
    "        except OSError as o:\n",
    "            print(o)\n",
    "            j = j+1            \n",
    "            errors[loc]=str(o)\n",
    "        k = k+1\n",
    "        \n",
    "    print(\"Out of total {} files, converted {} files successfully to wav and {} files errored out!\".format(k,i,j))\n",
    "    return errors\n",
    "\n",
    "def convert_to_mono_wav(file_dir):\n",
    "\n",
    "    i = 0\n",
    "    j = 0\n",
    "    k = 0\n",
    "    secs = 57 *1000\n",
    "    errors={}\n",
    "    \n",
    "    for direc in os.listdir(file_dir):\n",
    "        print(direc)\n",
    "        loc=os.path.join(file_dir,direc)\n",
    "        os.chdir(loc)\n",
    "        try:\n",
    "            #file = glob.glob('*.wav')[0]\n",
    "            if glob.glob('*.wav'):\n",
    "                print(i)\n",
    "                file_wav = glob.glob('*.wav')[0]\n",
    "                sound = AudioSegment.from_wav(os.path.join(file_dir,direc,file_wav))\n",
    "                secs = 57 *1000\n",
    "                sound = sound[:secs]\n",
    "                sound = sound.set_channels(1)\n",
    "                sound.export(os.path.join(file_dir,direc,'path.wav'), format=\"wav\")\n",
    "                i = i+1\n",
    "\n",
    "        except OSError as o:\n",
    "            print(o)\n",
    "            j = j+1\n",
    "            errors[loc] = str(o)\n",
    "        except Exception as e:\n",
    "            print(e)\n",
    "        k = k+1\n",
    "    print(\"Out of total {} files, converted {} files successfully to mono wav and {} files errored out!\".format(k,i,j))\n",
    "    return errors\n",
    "\n",
    "def close_clip(clip):\n",
    "    \n",
    "    try:\n",
    "        clip.reader.close()\n",
    "        del clip.reader\n",
    "        if clip.audio is not None:\n",
    "            clip.audio.reader.close_proc()\n",
    "            del clip.audio\n",
    "        del clip\n",
    "    except Exception:\n",
    "        # sys.exc_clear()\n",
    "        pass\n",
    "    \n",
    "    \n",
    "if __name__ == '__main__':\n",
    "    file_dir = 'file directory' \n",
    "    error1 = convert_to_wav(file_dir)\n",
    "    error2 = convert_to_mono_wav(file_dir)\n"
   ]
  },
  {
   "cell_type": "code",
   "execution_count": null,
   "metadata": {},
   "outputs": [],
   "source": []
  }
 ],
 "metadata": {
  "kernelspec": {
   "display_name": "Python 3",
   "language": "python",
   "name": "python3"
  },
  "language_info": {
   "codemirror_mode": {
    "name": "ipython",
    "version": 3
   },
   "file_extension": ".py",
   "mimetype": "text/x-python",
   "name": "python",
   "nbconvert_exporter": "python",
   "pygments_lexer": "ipython3",
   "version": "3.6.5"
  }
 },
 "nbformat": 4,
 "nbformat_minor": 2
}
